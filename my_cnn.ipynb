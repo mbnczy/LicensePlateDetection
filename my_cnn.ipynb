{
 "cells": [
  {
   "cell_type": "code",
   "execution_count": 2,
   "metadata": {},
   "outputs": [],
   "source": [
    "#imports\n",
    "import yaml\n",
    "import cv2\n",
    "import os\n",
    "import numpy as np"
   ]
  },
  {
   "cell_type": "code",
   "execution_count": 5,
   "metadata": {},
   "outputs": [],
   "source": [
    "\n",
    "yaml_file_path = '/Users/banoczymartin/Library/Mobile Documents/com~apple~CloudDocs/OE/platedetector/dataset/dataset.yaml'\n",
    "\n",
    "with open(yaml_file_path, 'r') as file:\n",
    "    dataset_info = yaml.safe_load(file)\n",
    "\n",
    "image_width, image_height = 224, 224\n",
    "\n",
    "def read_and_preprocess_image(image_path):\n",
    "    image = cv2.imread(image_path)\n",
    "    image = cv2.resize(image, (image_width, image_height))\n",
    "    image = image / 255.0  #norm\n",
    "    return image\n",
    "\n",
    "train_images = []\n",
    "train_labels = []\n",
    "\n",
    "train_path = os.path.join(dataset_info['path'], dataset_info['train'])\n",
    "for class_name, class_id in dataset_info['names'].items():\n",
    "    class_path = train_path\n",
    "    for filename in os.listdir(class_path):\n",
    "        image_path = os.path.join(class_path, filename)\n",
    "        \n",
    "        label = 0\n",
    "        \n",
    "        image = read_and_preprocess_image(image_path)\n",
    "        \n",
    "        train_images.append(image)\n",
    "        train_labels.append(label)\n",
    "\n",
    "X_train = np.array(train_images)\n",
    "y_train = np.array(train_labels)\n"
   ]
  }
 ],
 "metadata": {
  "kernelspec": {
   "display_name": "new_lpd",
   "language": "python",
   "name": "python3"
  },
  "language_info": {
   "codemirror_mode": {
    "name": "ipython",
    "version": 3
   },
   "file_extension": ".py",
   "mimetype": "text/x-python",
   "name": "python",
   "nbconvert_exporter": "python",
   "pygments_lexer": "ipython3",
   "version": "3.8.18"
  },
  "orig_nbformat": 4
 },
 "nbformat": 4,
 "nbformat_minor": 2
}
