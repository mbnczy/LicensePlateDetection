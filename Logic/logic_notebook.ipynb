{
 "cells": [
  {
   "attachments": {},
   "cell_type": "markdown",
   "metadata": {},
   "source": [
    "Imports"
   ]
  },
  {
   "cell_type": "code",
   "execution_count": 1,
   "metadata": {},
   "outputs": [],
   "source": [
    "from ultralytics import YOLO\n",
    "import cv2\n",
    "import pandas as pd\n",
    "from RealtimeTracking import *\n",
    "import gc\n",
    "import easyocr\n",
    "import numpy as np \n",
    "import csv\n",
    "from scipy.interpolate import interp1d\n",
    "\n",
    "\n",
    "from LicensePlate import LicensePlateDetection, LicensePlateReader\n",
    "from Vehicle import VehicleDetection\n",
    "from utils import PlateToVehicle, interpolate_bounding_boxes"
   ]
  },
  {
   "cell_type": "code",
   "execution_count": 2,
   "metadata": {},
   "outputs": [
    {
     "data": {
      "text/plain": [
       "0"
      ]
     },
     "execution_count": 2,
     "metadata": {},
     "output_type": "execute_result"
    }
   ],
   "source": [
    "gc.collect()"
   ]
  },
  {
   "attachments": {},
   "cell_type": "markdown",
   "metadata": {},
   "source": [
    "Load the model"
   ]
  },
  {
   "cell_type": "code",
   "execution_count": 3,
   "metadata": {},
   "outputs": [],
   "source": [
    "plate_det_model_path = '/Users/banoczymartin/Library/Mobile Documents/com~apple~CloudDocs/OE/platedetector/models/YOLOv8/yolov8n_90e_cust/runs/detect/train4/weights/best.pt'\n",
    "testvideo_path = '/Users/banoczymartin/Library/Mobile Documents/com~apple~CloudDocs/OE/platedetector/video_data/testvideo_highway_mp4.mp4'"
   ]
  },
  {
   "cell_type": "code",
   "execution_count": 4,
   "metadata": {},
   "outputs": [],
   "source": [
    "#visualization\n",
    "import cv2\n",
    "import pandas as pd\n",
    "import ast\n",
    "\n",
    "def draw_bounding_boxes(input_video_path, csv_file_path, output_video_path):\n",
    "    # Read the CSV file into a DataFrame\n",
    "    df = pd.read_csv(csv_file_path)\n",
    "\n",
    "    # Open the input video\n",
    "    cap = cv2.VideoCapture(input_video_path)\n",
    "    if not cap.isOpened():\n",
    "        raise Exception(f\"Failed to open video file: {input_video_path}\")\n",
    "\n",
    "    # Get video properties\n",
    "    fps = int(cap.get(cv2.CAP_PROP_FPS))\n",
    "    frame_width = int(cap.get(cv2.CAP_PROP_FRAME_WIDTH))\n",
    "    frame_height = int(cap.get(cv2.CAP_PROP_FRAME_HEIGHT))\n",
    "\n",
    "    # Define the codec and create a VideoWriter object for the output video\n",
    "    fourcc = cv2.VideoWriter_fourcc(*\"MJPG\")  # You can change the codec as needed\n",
    "    out = cv2.VideoWriter(output_video_path, fourcc, fps, (frame_width, frame_height))\n",
    "\n",
    "    # Process each frame and draw bounding boxes\n",
    "    frame_number = 0\n",
    "    ret=True\n",
    "    while ret:\n",
    "        ret, frame = cap.read()\n",
    "\n",
    "        # Filter the DataFrame for the current frame number\n",
    "        frame_data = df[df['fr_number'] == frame_number]        \n",
    "\n",
    "        #print(frame_data)\n",
    "        for _, row in frame_data.iterrows():\n",
    "            #car\n",
    "            car_bbox_vals = row['v_bbox'].split(' ')\n",
    "            car_bbox_vals[:]=map(lambda x: int(float(x)),car_bbox_vals)\n",
    "            car_bbox_vals = str(car_bbox_vals)\n",
    "            car_bbox_vals = \"[\" + car_bbox_vals[1:-1] + \"]\"\n",
    "            car_bbox = ast.literal_eval(car_bbox_vals)\n",
    "\n",
    "\n",
    "            #license plate\n",
    "            lp_bbox_vals = row['lp_bbox'].split(' ')\n",
    "            lp_bbox_vals[:]=map(lambda x: int(float(x)),lp_bbox_vals)\n",
    "            lp_bbox_vals = str(lp_bbox_vals)\n",
    "            lp_bbox_vals_str = \"[\" + lp_bbox_vals[1:-1] + \"]\"\n",
    "            license_plate_bbox = ast.literal_eval(lp_bbox_vals_str)\n",
    "\n",
    "            # Draw bounding boxes on the frame\n",
    "            #cv2.rectangle(frame, (int(car_bbox[0]), int(car_bbox[1]), (int(car_bbox[2]), int(car_bbox[3]))), (0, 255, 0), 2)\n",
    "            cv2.rectangle(frame, (int(car_bbox[0]), int(car_bbox[1])), (int(car_bbox[2]), int(car_bbox[3])), (0, 255, 0), 1,cv2.LINE_4)\n",
    "            cv2.rectangle(frame, (int(license_plate_bbox[0]), int(license_plate_bbox[1])),\n",
    "                          (int(license_plate_bbox[2]), int(license_plate_bbox[3])), (0, 0, 255), 1)\n",
    "\n",
    "            lp_bbox_vals = row['lp_bbox'].split(' ')\n",
    "            lp_bbox_vals[:]=map(lambda x: int(float(x)),lp_bbox_vals)\n",
    "            car_bbox_vals = row['v_bbox'].split(' ')\n",
    "            car_bbox_vals[:]=map(lambda x: int(float(x)),car_bbox_vals)\n",
    "            #print(lp_bbox_vals)\n",
    "            #x1, y1, x2, y2\n",
    "            #H, W, _ = lp_bbox_vals.shape\n",
    "            H = lp_bbox_vals[3]-lp_bbox_vals[1]\n",
    "            W = lp_bbox_vals[2]-lp_bbox_vals[0]\n",
    "            #print(H,W)\n",
    "\n",
    "            try:\n",
    "                #frame[int(car_bbox_vals[1]) - H - 100:int(car_bbox_vals[1]) - 100,\n",
    "                #      int((car_bbox_vals[2] + car_bbox_vals[0] - W) / 2):int((car_bbox_vals[2] + car_bbox_vals[0] + W) / 2), :] = license_crop\n",
    "\n",
    "                #frame[int(car_bbox_vals[1]) - H - 400:int(car_bbox_vals[1]) - H - 100,\n",
    "                #      int((car_bbox_vals[2] + car_bbox_vals[0] - W) / 2):int((car_bbox_vals[2] + car_bbox_vals[0] + W) / 2), :] = (255, 255, 255)\n",
    "\n",
    "                license_crop = frame[lp_bbox_vals[1]+2:lp_bbox_vals[3],lp_bbox_vals[0]+2:lp_bbox_vals[2], :]\n",
    "                #frame[int(car_bbox_vals[1]) - H - 100:int(car_bbox_vals[1]) - 100,\n",
    "                #      int((car_bbox_vals[2] + car_bbox_vals[0] - W) / 2):int((car_bbox_vals[2] + car_bbox_vals[0] + W) / 2), :] = license_crop\n",
    "                #cv2.imshow('frame', license_crop)\n",
    "                #cv2.waitKey(0)\n",
    "\n",
    "                padding = 10\n",
    "                border_thickness = 1\n",
    "                (text_width, text_height), _ = cv2.getTextSize(\n",
    "                    row['lp'],\n",
    "                    cv2.FONT_HERSHEY_SIMPLEX,\n",
    "                    2,\n",
    "                    5)\n",
    "                text_x = int((car_bbox[0] + car_bbox[2] - text_width) / 2)\n",
    "                text_y = int(car_bbox[1] - H + (text_height / 2))\n",
    "\n",
    "                background_width = car_bbox[2] - car_bbox[0]\n",
    "                cv2.rectangle(frame, (car_bbox[0], car_bbox[1]-text_height-H), (car_bbox[2], car_bbox[1]), (0, 0, 0), thickness=cv2.FILLED)\n",
    "                #cv2.rectangle(frame, (text_x, text_y - text_height), (text_x + background_width, text_y), (255, 255, 255), thickness=cv2.FILLED)\n",
    "\n",
    "                #cv2.rectangle(frame, (text_x-padding, text_y-text_height-padding), (text_x + text_width+padding, text_y+padding), (0, 0, 0), thickness=cv2.FILLED)\n",
    "                cv2.rectangle(frame, (car_bbox[0], car_bbox[1]-text_height-H), (car_bbox[2], car_bbox[1]), (0, 255, 0), thickness=border_thickness)\n",
    "\n",
    "                #frame[car_bbox_vals[1]+2:car_bbox_vals[3], car_bbox_vals[0]+2:car_bbox_vals[2], :] = license_crop\n",
    "                #frame[car_bbox[1]:car_bbox[1]+(lp_bbox_vals[3]-lp_bbox_vals[1]), car_bbox[0]:car_bbox[0]+(lp_bbox_vals[2]-lp_bbox_vals[0]), :] = license_crop\n",
    "                #x=100\n",
    "                #y=100\n",
    "                #alpha = 1.0  # Controls the transparency of the cropped image\n",
    "                #beta = 1.0 - alpha\n",
    "                #cropped_height = lp_bbox_vals[3] - lp_bbox_vals[1] - 2\n",
    "                #cropped_width = lp_bbox_vals[2] - lp_bbox_vals[0] - 2\n",
    "\n",
    "                #cv2.addWeighted(frame, alpha, license_crop, beta, 0, frame[y:y + cropped_height, x:x + cropped_width])\n",
    "\n",
    "                if(row['lp'] != '0'):\n",
    "                    cv2.putText(frame,\n",
    "                            row['lp'],\n",
    "                            (int((car_bbox[0] + car_bbox[2] - text_width) / 2), int(car_bbox[1] - H + (text_height / 2))),\n",
    "                            cv2.FONT_HERSHEY_SIMPLEX,\n",
    "                            2,\n",
    "                            (255, 255, 255),\n",
    "                            3)\n",
    "\n",
    "            except:\n",
    "                pass\n",
    "\n",
    "        # Write the frame with bounding boxes to the output video\n",
    "        #try:\n",
    "        if frame is not None:\n",
    "            out.write(frame)\n",
    "        #except:\n",
    "        #    pass\n",
    "        frame_number += 1\n",
    "        #frame = cv2.resize(frame, (1280, 720))\n",
    "\n",
    "        #cv2.imshow('frame', frame)\n",
    "        #cv2.waitKey(0)\n",
    "\n",
    "    # Release the video capture and writer objects\n",
    "    cap.release()\n",
    "    out.release()"
   ]
  },
  {
   "attachments": {},
   "cell_type": "markdown",
   "metadata": {},
   "source": [
    "Capture on a video"
   ]
  },
  {
   "cell_type": "code",
   "execution_count": 5,
   "metadata": {},
   "outputs": [
    {
     "name": "stderr",
     "output_type": "stream",
     "text": [
      "[ WARN:0@4.306] global /private/var/folders/nz/j6p8yfhx1mv_0grj5xl4650h0000gp/T/abs_562_cazh1h/croots/recipe/opencv-suite_1664548333142/work/modules/videoio/src/cap_gstreamer.cpp (2386) handleMessage OpenCV | GStreamer warning: your GStreamer installation is missing a required plugin\n",
      "[ WARN:0@4.306] global /private/var/folders/nz/j6p8yfhx1mv_0grj5xl4650h0000gp/T/abs_562_cazh1h/croots/recipe/opencv-suite_1664548333142/work/modules/videoio/src/cap_gstreamer.cpp (2402) handleMessage OpenCV | GStreamer warning: Embedded video playback halted; module uridecodebin0 reported: Your GStreamer installation is missing a plug-in.\n",
      "[ WARN:0@4.306] global /private/var/folders/nz/j6p8yfhx1mv_0grj5xl4650h0000gp/T/abs_562_cazh1h/croots/recipe/opencv-suite_1664548333142/work/modules/videoio/src/cap_gstreamer.cpp (1356) open OpenCV | GStreamer warning: unable to start pipeline\n",
      "[ WARN:0@4.306] global /private/var/folders/nz/j6p8yfhx1mv_0grj5xl4650h0000gp/T/abs_562_cazh1h/croots/recipe/opencv-suite_1664548333142/work/modules/videoio/src/cap_gstreamer.cpp (862) isPipelinePlaying OpenCV | GStreamer warning: GStreamer: pipeline have not been created\n",
      "Using CPU. Note: This module is much faster with a GPU.\n",
      "\n",
      "0: 480x640 23 cars, 2 buss, 2 trucks, 116.1ms\n",
      "Speed: 7.2ms preprocess, 116.1ms inference, 9.6ms postprocess per image at shape (1, 3, 480, 640)\n",
      "\n",
      "0: 480x640 4 licenses, 113.3ms\n",
      "Speed: 4.8ms preprocess, 113.3ms inference, 0.9ms postprocess per image at shape (1, 3, 480, 640)\n",
      "\n",
      "0: 480x640 23 cars, 2 buss, 2 trucks, 259.9ms\n",
      "Speed: 7.2ms preprocess, 259.9ms inference, 4.0ms postprocess per image at shape (1, 3, 480, 640)\n",
      "\n",
      "0: 480x640 4 licenses, 218.6ms\n",
      "Speed: 5.4ms preprocess, 218.6ms inference, 1.3ms postprocess per image at shape (1, 3, 480, 640)\n",
      "\n",
      "0: 480x640 23 cars, 2 buss, 2 trucks, 106.3ms\n",
      "Speed: 2.8ms preprocess, 106.3ms inference, 1.3ms postprocess per image at shape (1, 3, 480, 640)\n",
      "\n",
      "0: 480x640 4 licenses, 105.2ms\n",
      "Speed: 3.6ms preprocess, 105.2ms inference, 1.0ms postprocess per image at shape (1, 3, 480, 640)\n",
      "\n",
      "0: 480x640 23 cars, 2 buss, 2 trucks, 123.2ms\n",
      "Speed: 6.4ms preprocess, 123.2ms inference, 1.8ms postprocess per image at shape (1, 3, 480, 640)\n",
      "\n",
      "0: 480x640 4 licenses, 133.2ms\n",
      "Speed: 5.3ms preprocess, 133.2ms inference, 1.1ms postprocess per image at shape (1, 3, 480, 640)\n",
      "\n",
      "0: 480x640 23 cars, 2 buss, 2 trucks, 90.7ms\n",
      "Speed: 2.9ms preprocess, 90.7ms inference, 1.1ms postprocess per image at shape (1, 3, 480, 640)\n",
      "\n",
      "0: 480x640 4 licenses, 114.3ms\n",
      "Speed: 3.3ms preprocess, 114.3ms inference, 0.9ms postprocess per image at shape (1, 3, 480, 640)\n",
      "\n",
      "0: 480x640 23 cars, 2 buss, 2 trucks, 126.7ms\n",
      "Speed: 3.4ms preprocess, 126.7ms inference, 1.4ms postprocess per image at shape (1, 3, 480, 640)\n",
      "\n",
      "0: 480x640 4 licenses, 124.8ms\n",
      "Speed: 4.0ms preprocess, 124.8ms inference, 0.9ms postprocess per image at shape (1, 3, 480, 640)\n",
      "\n",
      "0: 480x640 23 cars, 2 buss, 2 trucks, 132.0ms\n",
      "Speed: 4.7ms preprocess, 132.0ms inference, 1.3ms postprocess per image at shape (1, 3, 480, 640)\n",
      "\n",
      "0: 480x640 4 licenses, 125.0ms\n",
      "Speed: 4.8ms preprocess, 125.0ms inference, 0.9ms postprocess per image at shape (1, 3, 480, 640)\n",
      "\n",
      "0: 480x640 23 cars, 2 buss, 2 trucks, 124.8ms\n",
      "Speed: 3.7ms preprocess, 124.8ms inference, 1.2ms postprocess per image at shape (1, 3, 480, 640)\n",
      "\n",
      "0: 480x640 4 licenses, 120.9ms\n",
      "Speed: 4.5ms preprocess, 120.9ms inference, 1.1ms postprocess per image at shape (1, 3, 480, 640)\n",
      "\n",
      "0: 480x640 21 cars, 2 buss, 2 trucks, 89.5ms\n",
      "Speed: 2.7ms preprocess, 89.5ms inference, 0.9ms postprocess per image at shape (1, 3, 480, 640)\n",
      "\n",
      "0: 480x640 4 licenses, 102.3ms\n",
      "Speed: 3.6ms preprocess, 102.3ms inference, 0.9ms postprocess per image at shape (1, 3, 480, 640)\n",
      "\n",
      "0: 480x640 21 cars, 2 buss, 2 trucks, 89.9ms\n",
      "Speed: 3.1ms preprocess, 89.9ms inference, 1.0ms postprocess per image at shape (1, 3, 480, 640)\n",
      "\n",
      "0: 480x640 4 licenses, 95.9ms\n",
      "Speed: 3.4ms preprocess, 95.9ms inference, 0.8ms postprocess per image at shape (1, 3, 480, 640)\n",
      "\n",
      "0: 480x640 21 cars, 2 buss, 2 trucks, 88.5ms\n",
      "Speed: 3.0ms preprocess, 88.5ms inference, 1.0ms postprocess per image at shape (1, 3, 480, 640)\n",
      "\n",
      "0: 480x640 4 licenses, 106.4ms\n",
      "Speed: 3.6ms preprocess, 106.4ms inference, 1.1ms postprocess per image at shape (1, 3, 480, 640)\n",
      "\n",
      "0: 480x640 21 cars, 2 buss, 2 trucks, 87.4ms\n",
      "Speed: 3.4ms preprocess, 87.4ms inference, 1.2ms postprocess per image at shape (1, 3, 480, 640)\n",
      "\n",
      "0: 480x640 4 licenses, 94.2ms\n",
      "Speed: 3.1ms preprocess, 94.2ms inference, 0.9ms postprocess per image at shape (1, 3, 480, 640)\n",
      "\n",
      "0: 480x640 21 cars, 2 buss, 2 trucks, 74.7ms\n",
      "Speed: 2.4ms preprocess, 74.7ms inference, 0.8ms postprocess per image at shape (1, 3, 480, 640)\n",
      "\n",
      "0: 480x640 4 licenses, 78.4ms\n",
      "Speed: 2.9ms preprocess, 78.4ms inference, 0.8ms postprocess per image at shape (1, 3, 480, 640)\n",
      "\n",
      "0: 480x640 21 cars, 2 buss, 2 trucks, 75.8ms\n",
      "Speed: 2.5ms preprocess, 75.8ms inference, 0.9ms postprocess per image at shape (1, 3, 480, 640)\n",
      "\n",
      "0: 480x640 4 licenses, 77.0ms\n",
      "Speed: 2.9ms preprocess, 77.0ms inference, 0.7ms postprocess per image at shape (1, 3, 480, 640)\n",
      "\n",
      "0: 480x640 21 cars, 2 buss, 2 trucks, 75.1ms\n",
      "Speed: 2.4ms preprocess, 75.1ms inference, 0.7ms postprocess per image at shape (1, 3, 480, 640)\n",
      "\n",
      "0: 480x640 4 licenses, 79.6ms\n",
      "Speed: 2.7ms preprocess, 79.6ms inference, 0.7ms postprocess per image at shape (1, 3, 480, 640)\n",
      "\n",
      "0: 480x640 21 cars, 2 buss, 2 trucks, 76.0ms\n",
      "Speed: 2.5ms preprocess, 76.0ms inference, 0.7ms postprocess per image at shape (1, 3, 480, 640)\n",
      "\n",
      "0: 480x640 4 licenses, 71.4ms\n",
      "Speed: 2.6ms preprocess, 71.4ms inference, 0.6ms postprocess per image at shape (1, 3, 480, 640)\n",
      "\n",
      "0: 480x640 21 cars, 2 buss, 2 trucks, 69.3ms\n",
      "Speed: 2.7ms preprocess, 69.3ms inference, 0.8ms postprocess per image at shape (1, 3, 480, 640)\n",
      "\n",
      "0: 480x640 4 licenses, 75.3ms\n",
      "Speed: 2.8ms preprocess, 75.3ms inference, 0.9ms postprocess per image at shape (1, 3, 480, 640)\n",
      "\n",
      "0: 480x640 21 cars, 2 buss, 2 trucks, 83.0ms\n",
      "Speed: 3.2ms preprocess, 83.0ms inference, 0.8ms postprocess per image at shape (1, 3, 480, 640)\n",
      "\n",
      "0: 480x640 4 licenses, 85.6ms\n",
      "Speed: 2.6ms preprocess, 85.6ms inference, 0.9ms postprocess per image at shape (1, 3, 480, 640)\n",
      "\n",
      "0: 480x640 21 cars, 2 buss, 2 trucks, 80.4ms\n",
      "Speed: 2.8ms preprocess, 80.4ms inference, 0.8ms postprocess per image at shape (1, 3, 480, 640)\n",
      "\n",
      "0: 480x640 4 licenses, 80.4ms\n",
      "Speed: 3.0ms preprocess, 80.4ms inference, 0.6ms postprocess per image at shape (1, 3, 480, 640)\n",
      "\n",
      "0: 480x640 21 cars, 2 buss, 2 trucks, 73.1ms\n",
      "Speed: 2.4ms preprocess, 73.1ms inference, 1.0ms postprocess per image at shape (1, 3, 480, 640)\n",
      "\n",
      "0: 480x640 4 licenses, 77.2ms\n",
      "Speed: 2.5ms preprocess, 77.2ms inference, 0.7ms postprocess per image at shape (1, 3, 480, 640)\n",
      "\n",
      "0: 480x640 21 cars, 2 buss, 2 trucks, 73.9ms\n",
      "Speed: 2.4ms preprocess, 73.9ms inference, 0.7ms postprocess per image at shape (1, 3, 480, 640)\n",
      "\n",
      "0: 480x640 4 licenses, 73.4ms\n",
      "Speed: 2.6ms preprocess, 73.4ms inference, 0.6ms postprocess per image at shape (1, 3, 480, 640)\n",
      "\n",
      "0: 480x640 21 cars, 2 buss, 2 trucks, 73.6ms\n",
      "Speed: 2.4ms preprocess, 73.6ms inference, 0.8ms postprocess per image at shape (1, 3, 480, 640)\n",
      "\n",
      "0: 480x640 4 licenses, 71.0ms\n",
      "Speed: 2.5ms preprocess, 71.0ms inference, 0.5ms postprocess per image at shape (1, 3, 480, 640)\n",
      "\n",
      "0: 480x640 21 cars, 2 buss, 2 trucks, 83.7ms\n",
      "Speed: 2.4ms preprocess, 83.7ms inference, 0.8ms postprocess per image at shape (1, 3, 480, 640)\n",
      "\n",
      "0: 480x640 4 licenses, 97.6ms\n",
      "Speed: 2.7ms preprocess, 97.6ms inference, 0.9ms postprocess per image at shape (1, 3, 480, 640)\n",
      "\n",
      "0: 480x640 21 cars, 2 buss, 2 trucks, 83.2ms\n",
      "Speed: 3.0ms preprocess, 83.2ms inference, 0.8ms postprocess per image at shape (1, 3, 480, 640)\n",
      "\n",
      "0: 480x640 4 licenses, 129.2ms\n",
      "Speed: 3.0ms preprocess, 129.2ms inference, 1.2ms postprocess per image at shape (1, 3, 480, 640)\n",
      "\n",
      "0: 480x640 21 cars, 2 buss, 2 trucks, 75.2ms\n",
      "Speed: 2.4ms preprocess, 75.2ms inference, 0.8ms postprocess per image at shape (1, 3, 480, 640)\n",
      "\n",
      "0: 480x640 4 licenses, 75.2ms\n",
      "Speed: 2.7ms preprocess, 75.2ms inference, 0.6ms postprocess per image at shape (1, 3, 480, 640)\n",
      "\n",
      "0: 480x640 21 cars, 2 buss, 2 trucks, 78.1ms\n",
      "Speed: 2.5ms preprocess, 78.1ms inference, 0.8ms postprocess per image at shape (1, 3, 480, 640)\n",
      "\n",
      "0: 480x640 4 licenses, 80.9ms\n",
      "Speed: 2.7ms preprocess, 80.9ms inference, 0.8ms postprocess per image at shape (1, 3, 480, 640)\n",
      "\n",
      "0: 480x640 21 cars, 2 buss, 2 trucks, 78.3ms\n",
      "Speed: 2.4ms preprocess, 78.3ms inference, 0.8ms postprocess per image at shape (1, 3, 480, 640)\n",
      "\n",
      "0: 480x640 4 licenses, 77.4ms\n",
      "Speed: 2.9ms preprocess, 77.4ms inference, 0.7ms postprocess per image at shape (1, 3, 480, 640)\n",
      "\n",
      "0: 480x640 21 cars, 2 buss, 2 trucks, 82.9ms\n",
      "Speed: 2.7ms preprocess, 82.9ms inference, 0.8ms postprocess per image at shape (1, 3, 480, 640)\n",
      "\n",
      "0: 480x640 4 licenses, 84.7ms\n",
      "Speed: 2.9ms preprocess, 84.7ms inference, 0.9ms postprocess per image at shape (1, 3, 480, 640)\n"
     ]
    },
    {
     "name": "stdout",
     "output_type": "stream",
     "text": [
      "Error: results_list is empty or contains tuples without a second element.\n"
     ]
    },
    {
     "name": "stderr",
     "output_type": "stream",
     "text": [
      "\n",
      "0: 480x640 21 cars, 2 buss, 2 trucks, 87.9ms\n",
      "Speed: 4.4ms preprocess, 87.9ms inference, 1.0ms postprocess per image at shape (1, 3, 480, 640)\n",
      "\n",
      "0: 480x640 4 licenses, 109.5ms\n",
      "Speed: 3.5ms preprocess, 109.5ms inference, 1.0ms postprocess per image at shape (1, 3, 480, 640)\n",
      "\n",
      "0: 480x640 21 cars, 2 buss, 2 trucks, 70.0ms\n",
      "Speed: 2.4ms preprocess, 70.0ms inference, 0.8ms postprocess per image at shape (1, 3, 480, 640)\n",
      "\n",
      "0: 480x640 4 licenses, 72.3ms\n",
      "Speed: 2.3ms preprocess, 72.3ms inference, 0.6ms postprocess per image at shape (1, 3, 480, 640)\n",
      "\n",
      "0: 480x640 21 cars, 2 buss, 2 trucks, 77.5ms\n",
      "Speed: 2.7ms preprocess, 77.5ms inference, 0.8ms postprocess per image at shape (1, 3, 480, 640)\n",
      "\n",
      "0: 480x640 4 licenses, 84.7ms\n",
      "Speed: 2.8ms preprocess, 84.7ms inference, 0.8ms postprocess per image at shape (1, 3, 480, 640)\n",
      "\n",
      "0: 480x640 21 cars, 2 buss, 2 trucks, 73.6ms\n",
      "Speed: 2.2ms preprocess, 73.6ms inference, 0.8ms postprocess per image at shape (1, 3, 480, 640)\n",
      "\n",
      "0: 480x640 4 licenses, 80.9ms\n",
      "Speed: 2.8ms preprocess, 80.9ms inference, 0.8ms postprocess per image at shape (1, 3, 480, 640)\n",
      "\n",
      "0: 480x640 21 cars, 2 buss, 2 trucks, 74.5ms\n",
      "Speed: 2.5ms preprocess, 74.5ms inference, 0.9ms postprocess per image at shape (1, 3, 480, 640)\n",
      "\n",
      "0: 480x640 4 licenses, 76.2ms\n",
      "Speed: 2.7ms preprocess, 76.2ms inference, 0.7ms postprocess per image at shape (1, 3, 480, 640)\n",
      "\n",
      "0: 480x640 21 cars, 2 buss, 2 trucks, 70.5ms\n",
      "Speed: 2.4ms preprocess, 70.5ms inference, 0.7ms postprocess per image at shape (1, 3, 480, 640)\n",
      "\n",
      "0: 480x640 4 licenses, 77.0ms\n",
      "Speed: 2.7ms preprocess, 77.0ms inference, 0.6ms postprocess per image at shape (1, 3, 480, 640)\n",
      "\n",
      "0: 480x640 21 cars, 2 buss, 2 trucks, 74.4ms\n",
      "Speed: 2.9ms preprocess, 74.4ms inference, 0.8ms postprocess per image at shape (1, 3, 480, 640)\n",
      "\n",
      "0: 480x640 4 licenses, 69.4ms\n",
      "Speed: 2.5ms preprocess, 69.4ms inference, 0.6ms postprocess per image at shape (1, 3, 480, 640)\n",
      "\n",
      "0: 480x640 21 cars, 2 buss, 2 trucks, 78.3ms\n",
      "Speed: 2.4ms preprocess, 78.3ms inference, 0.8ms postprocess per image at shape (1, 3, 480, 640)\n",
      "\n",
      "0: 480x640 4 licenses, 77.6ms\n",
      "Speed: 2.8ms preprocess, 77.6ms inference, 0.6ms postprocess per image at shape (1, 3, 480, 640)\n",
      "\n",
      "0: 480x640 21 cars, 2 buss, 2 trucks, 73.1ms\n",
      "Speed: 2.5ms preprocess, 73.1ms inference, 0.9ms postprocess per image at shape (1, 3, 480, 640)\n",
      "\n",
      "0: 480x640 4 licenses, 72.1ms\n",
      "Speed: 2.6ms preprocess, 72.1ms inference, 0.6ms postprocess per image at shape (1, 3, 480, 640)\n",
      "\n",
      "0: 480x640 21 cars, 2 buss, 2 trucks, 141.2ms\n",
      "Speed: 6.3ms preprocess, 141.2ms inference, 1.1ms postprocess per image at shape (1, 3, 480, 640)\n",
      "\n",
      "0: 480x640 4 licenses, 91.3ms\n",
      "Speed: 4.1ms preprocess, 91.3ms inference, 0.7ms postprocess per image at shape (1, 3, 480, 640)\n",
      "\n",
      "0: 480x640 21 cars, 2 buss, 2 trucks, 90.2ms\n",
      "Speed: 2.7ms preprocess, 90.2ms inference, 1.3ms postprocess per image at shape (1, 3, 480, 640)\n",
      "\n",
      "0: 480x640 4 licenses, 139.4ms\n",
      "Speed: 4.8ms preprocess, 139.4ms inference, 1.5ms postprocess per image at shape (1, 3, 480, 640)\n",
      "\n",
      "0: 480x640 21 cars, 2 buss, 2 trucks, 122.8ms\n",
      "Speed: 3.7ms preprocess, 122.8ms inference, 1.4ms postprocess per image at shape (1, 3, 480, 640)\n",
      "\n",
      "0: 480x640 4 licenses, 100.3ms\n",
      "Speed: 3.7ms preprocess, 100.3ms inference, 0.8ms postprocess per image at shape (1, 3, 480, 640)\n",
      "\n",
      "0: 480x640 21 cars, 2 buss, 2 trucks, 89.7ms\n",
      "Speed: 3.1ms preprocess, 89.7ms inference, 0.9ms postprocess per image at shape (1, 3, 480, 640)\n",
      "\n",
      "0: 480x640 4 licenses, 102.1ms\n",
      "Speed: 2.8ms preprocess, 102.1ms inference, 1.0ms postprocess per image at shape (1, 3, 480, 640)\n",
      "\n",
      "0: 480x640 21 cars, 2 buss, 2 trucks, 86.9ms\n",
      "Speed: 2.6ms preprocess, 86.9ms inference, 1.0ms postprocess per image at shape (1, 3, 480, 640)\n",
      "\n",
      "0: 480x640 4 licenses, 82.1ms\n",
      "Speed: 2.7ms preprocess, 82.1ms inference, 0.7ms postprocess per image at shape (1, 3, 480, 640)\n",
      "\n",
      "0: 480x640 21 cars, 2 buss, 2 trucks, 106.4ms\n",
      "Speed: 3.0ms preprocess, 106.4ms inference, 1.2ms postprocess per image at shape (1, 3, 480, 640)\n",
      "\n",
      "0: 480x640 4 licenses, 102.7ms\n",
      "Speed: 3.6ms preprocess, 102.7ms inference, 1.0ms postprocess per image at shape (1, 3, 480, 640)\n",
      "\n",
      "0: 480x640 21 cars, 2 buss, 2 trucks, 76.3ms\n",
      "Speed: 2.7ms preprocess, 76.3ms inference, 1.3ms postprocess per image at shape (1, 3, 480, 640)\n",
      "\n",
      "0: 480x640 4 licenses, 70.8ms\n",
      "Speed: 2.5ms preprocess, 70.8ms inference, 0.6ms postprocess per image at shape (1, 3, 480, 640)\n",
      "\n",
      "0: 480x640 21 cars, 2 buss, 2 trucks, 116.9ms\n",
      "Speed: 4.3ms preprocess, 116.9ms inference, 1.2ms postprocess per image at shape (1, 3, 480, 640)\n",
      "\n",
      "0: 480x640 4 licenses, 136.5ms\n",
      "Speed: 4.3ms preprocess, 136.5ms inference, 1.3ms postprocess per image at shape (1, 3, 480, 640)\n",
      "\n",
      "0: 480x640 21 cars, 2 buss, 2 trucks, 88.9ms\n",
      "Speed: 3.8ms preprocess, 88.9ms inference, 1.0ms postprocess per image at shape (1, 3, 480, 640)\n",
      "\n",
      "0: 480x640 4 licenses, 93.8ms\n",
      "Speed: 3.1ms preprocess, 93.8ms inference, 0.7ms postprocess per image at shape (1, 3, 480, 640)\n",
      "\n",
      "0: 480x640 21 cars, 2 buss, 2 trucks, 101.0ms\n",
      "Speed: 4.3ms preprocess, 101.0ms inference, 1.1ms postprocess per image at shape (1, 3, 480, 640)\n",
      "\n",
      "0: 480x640 4 licenses, 158.5ms\n",
      "Speed: 7.7ms preprocess, 158.5ms inference, 1.2ms postprocess per image at shape (1, 3, 480, 640)\n",
      "\n",
      "0: 480x640 21 cars, 2 buss, 2 trucks, 79.1ms\n",
      "Speed: 2.8ms preprocess, 79.1ms inference, 0.8ms postprocess per image at shape (1, 3, 480, 640)\n",
      "\n",
      "0: 480x640 4 licenses, 95.1ms\n",
      "Speed: 2.6ms preprocess, 95.1ms inference, 1.0ms postprocess per image at shape (1, 3, 480, 640)\n",
      "\n",
      "0: 480x640 21 cars, 2 buss, 2 trucks, 73.0ms\n",
      "Speed: 2.5ms preprocess, 73.0ms inference, 0.8ms postprocess per image at shape (1, 3, 480, 640)\n",
      "\n",
      "0: 480x640 4 licenses, 75.3ms\n",
      "Speed: 2.8ms preprocess, 75.3ms inference, 0.7ms postprocess per image at shape (1, 3, 480, 640)\n",
      "\n",
      "0: 480x640 21 cars, 2 buss, 2 trucks, 73.0ms\n",
      "Speed: 2.5ms preprocess, 73.0ms inference, 0.8ms postprocess per image at shape (1, 3, 480, 640)\n",
      "\n",
      "0: 480x640 4 licenses, 74.3ms\n",
      "Speed: 2.6ms preprocess, 74.3ms inference, 0.6ms postprocess per image at shape (1, 3, 480, 640)\n",
      "\n",
      "0: 480x640 21 cars, 2 buss, 2 trucks, 80.2ms\n",
      "Speed: 2.9ms preprocess, 80.2ms inference, 0.8ms postprocess per image at shape (1, 3, 480, 640)\n",
      "\n",
      "0: 480x640 4 licenses, 83.8ms\n",
      "Speed: 3.0ms preprocess, 83.8ms inference, 0.9ms postprocess per image at shape (1, 3, 480, 640)\n",
      "\n",
      "0: 480x640 21 cars, 2 buss, 2 trucks, 80.1ms\n",
      "Speed: 2.4ms preprocess, 80.1ms inference, 0.8ms postprocess per image at shape (1, 3, 480, 640)\n",
      "\n",
      "0: 480x640 4 licenses, 85.0ms\n",
      "Speed: 2.8ms preprocess, 85.0ms inference, 0.7ms postprocess per image at shape (1, 3, 480, 640)\n",
      "\n",
      "0: 480x640 21 cars, 2 buss, 2 trucks, 114.5ms\n",
      "Speed: 4.3ms preprocess, 114.5ms inference, 1.2ms postprocess per image at shape (1, 3, 480, 640)\n",
      "\n",
      "0: 480x640 4 licenses, 106.9ms\n",
      "Speed: 3.8ms preprocess, 106.9ms inference, 0.7ms postprocess per image at shape (1, 3, 480, 640)\n",
      "\n",
      "0: 480x640 21 cars, 2 buss, 2 trucks, 128.2ms\n",
      "Speed: 3.1ms preprocess, 128.2ms inference, 1.6ms postprocess per image at shape (1, 3, 480, 640)\n",
      "\n",
      "0: 480x640 4 licenses, 128.0ms\n",
      "Speed: 5.7ms preprocess, 128.0ms inference, 0.8ms postprocess per image at shape (1, 3, 480, 640)\n",
      "\n",
      "0: 480x640 21 cars, 2 buss, 2 trucks, 80.4ms\n",
      "Speed: 2.7ms preprocess, 80.4ms inference, 1.1ms postprocess per image at shape (1, 3, 480, 640)\n",
      "\n",
      "0: 480x640 4 licenses, 92.9ms\n",
      "Speed: 3.0ms preprocess, 92.9ms inference, 0.8ms postprocess per image at shape (1, 3, 480, 640)\n",
      "\n",
      "0: 480x640 21 cars, 2 buss, 2 trucks, 76.1ms\n",
      "Speed: 2.8ms preprocess, 76.1ms inference, 0.8ms postprocess per image at shape (1, 3, 480, 640)\n",
      "\n",
      "0: 480x640 4 licenses, 73.9ms\n",
      "Speed: 2.4ms preprocess, 73.9ms inference, 0.6ms postprocess per image at shape (1, 3, 480, 640)\n",
      "\n",
      "0: 480x640 21 cars, 2 buss, 2 trucks, 73.2ms\n",
      "Speed: 2.4ms preprocess, 73.2ms inference, 0.8ms postprocess per image at shape (1, 3, 480, 640)\n",
      "\n",
      "0: 480x640 4 licenses, 74.8ms\n",
      "Speed: 2.8ms preprocess, 74.8ms inference, 0.9ms postprocess per image at shape (1, 3, 480, 640)\n"
     ]
    },
    {
     "name": "stdout",
     "output_type": "stream",
     "text": [
      "Error: results_list is empty or contains tuples without a second element.\n"
     ]
    },
    {
     "name": "stderr",
     "output_type": "stream",
     "text": [
      "\n",
      "0: 480x640 21 cars, 2 buss, 2 trucks, 78.0ms\n",
      "Speed: 2.5ms preprocess, 78.0ms inference, 0.8ms postprocess per image at shape (1, 3, 480, 640)\n",
      "\n",
      "0: 480x640 4 licenses, 105.2ms\n",
      "Speed: 2.5ms preprocess, 105.2ms inference, 1.0ms postprocess per image at shape (1, 3, 480, 640)\n",
      "\n",
      "0: 480x640 21 cars, 2 buss, 2 trucks, 86.2ms\n",
      "Speed: 3.4ms preprocess, 86.2ms inference, 1.1ms postprocess per image at shape (1, 3, 480, 640)\n",
      "\n",
      "0: 480x640 4 licenses, 106.9ms\n",
      "Speed: 3.8ms preprocess, 106.9ms inference, 1.0ms postprocess per image at shape (1, 3, 480, 640)\n",
      "\n",
      "0: 480x640 21 cars, 2 buss, 2 trucks, 72.2ms\n",
      "Speed: 2.4ms preprocess, 72.2ms inference, 0.7ms postprocess per image at shape (1, 3, 480, 640)\n",
      "\n",
      "0: 480x640 4 licenses, 72.4ms\n",
      "Speed: 2.4ms preprocess, 72.4ms inference, 0.6ms postprocess per image at shape (1, 3, 480, 640)\n",
      "\n",
      "0: 480x640 21 cars, 2 buss, 2 trucks, 77.9ms\n",
      "Speed: 2.7ms preprocess, 77.9ms inference, 1.1ms postprocess per image at shape (1, 3, 480, 640)\n",
      "\n",
      "0: 480x640 4 licenses, 90.5ms\n",
      "Speed: 3.6ms preprocess, 90.5ms inference, 0.6ms postprocess per image at shape (1, 3, 480, 640)\n",
      "\n",
      "0: 480x640 21 cars, 2 buss, 2 trucks, 80.4ms\n",
      "Speed: 2.5ms preprocess, 80.4ms inference, 0.8ms postprocess per image at shape (1, 3, 480, 640)\n",
      "\n",
      "0: 480x640 4 licenses, 75.9ms\n",
      "Speed: 2.8ms preprocess, 75.9ms inference, 0.7ms postprocess per image at shape (1, 3, 480, 640)\n",
      "\n",
      "0: 480x640 21 cars, 2 buss, 2 trucks, 148.1ms\n",
      "Speed: 6.4ms preprocess, 148.1ms inference, 1.8ms postprocess per image at shape (1, 3, 480, 640)\n",
      "\n",
      "0: 480x640 4 licenses, 203.9ms\n",
      "Speed: 4.3ms preprocess, 203.9ms inference, 1.2ms postprocess per image at shape (1, 3, 480, 640)\n",
      "\n",
      "0: 480x640 21 cars, 2 buss, 2 trucks, 126.1ms\n",
      "Speed: 5.6ms preprocess, 126.1ms inference, 1.7ms postprocess per image at shape (1, 3, 480, 640)\n",
      "\n",
      "0: 480x640 4 licenses, 129.7ms\n",
      "Speed: 4.2ms preprocess, 129.7ms inference, 0.9ms postprocess per image at shape (1, 3, 480, 640)\n",
      "\n",
      "0: 480x640 21 cars, 2 buss, 2 trucks, 73.3ms\n",
      "Speed: 2.6ms preprocess, 73.3ms inference, 0.8ms postprocess per image at shape (1, 3, 480, 640)\n",
      "\n",
      "0: 480x640 4 licenses, 78.5ms\n",
      "Speed: 2.4ms preprocess, 78.5ms inference, 0.6ms postprocess per image at shape (1, 3, 480, 640)\n",
      "\n",
      "0: 480x640 21 cars, 2 buss, 2 trucks, 77.6ms\n",
      "Speed: 3.1ms preprocess, 77.6ms inference, 0.8ms postprocess per image at shape (1, 3, 480, 640)\n",
      "\n",
      "0: 480x640 4 licenses, 98.2ms\n",
      "Speed: 3.0ms preprocess, 98.2ms inference, 1.0ms postprocess per image at shape (1, 3, 480, 640)\n",
      "\n",
      "0: 480x640 21 cars, 2 buss, 2 trucks, 81.4ms\n",
      "Speed: 2.7ms preprocess, 81.4ms inference, 0.9ms postprocess per image at shape (1, 3, 480, 640)\n",
      "\n",
      "0: 480x640 4 licenses, 96.1ms\n",
      "Speed: 2.8ms preprocess, 96.1ms inference, 0.9ms postprocess per image at shape (1, 3, 480, 640)\n",
      "\n",
      "0: 480x640 21 cars, 2 buss, 2 trucks, 81.4ms\n",
      "Speed: 3.6ms preprocess, 81.4ms inference, 0.9ms postprocess per image at shape (1, 3, 480, 640)\n",
      "\n",
      "0: 480x640 4 licenses, 117.2ms\n",
      "Speed: 3.2ms preprocess, 117.2ms inference, 1.2ms postprocess per image at shape (1, 3, 480, 640)\n",
      "\n",
      "0: 480x640 22 cars, 2 buss, 2 trucks, 79.7ms\n",
      "Speed: 2.6ms preprocess, 79.7ms inference, 1.1ms postprocess per image at shape (1, 3, 480, 640)\n",
      "\n",
      "0: 480x640 4 licenses, 94.4ms\n",
      "Speed: 3.5ms preprocess, 94.4ms inference, 0.8ms postprocess per image at shape (1, 3, 480, 640)\n",
      "\n",
      "0: 480x640 21 cars, 2 buss, 2 trucks, 184.7ms\n",
      "Speed: 5.3ms preprocess, 184.7ms inference, 1.7ms postprocess per image at shape (1, 3, 480, 640)\n",
      "\n",
      "0: 480x640 4 licenses, 167.9ms\n",
      "Speed: 4.4ms preprocess, 167.9ms inference, 1.0ms postprocess per image at shape (1, 3, 480, 640)\n",
      "\n",
      "0: 480x640 21 cars, 2 buss, 2 trucks, 126.3ms\n",
      "Speed: 3.4ms preprocess, 126.3ms inference, 1.3ms postprocess per image at shape (1, 3, 480, 640)\n",
      "\n",
      "0: 480x640 4 licenses, 134.3ms\n",
      "Speed: 4.4ms preprocess, 134.3ms inference, 1.0ms postprocess per image at shape (1, 3, 480, 640)\n",
      "\n",
      "0: 480x640 21 cars, 2 buss, 2 trucks, 113.4ms\n",
      "Speed: 3.3ms preprocess, 113.4ms inference, 1.3ms postprocess per image at shape (1, 3, 480, 640)\n",
      "\n",
      "0: 480x640 4 licenses, 100.6ms\n",
      "Speed: 3.9ms preprocess, 100.6ms inference, 0.8ms postprocess per image at shape (1, 3, 480, 640)\n",
      "\n",
      "0: 480x640 21 cars, 2 buss, 2 trucks, 173.5ms\n",
      "Speed: 3.9ms preprocess, 173.5ms inference, 1.9ms postprocess per image at shape (1, 3, 480, 640)\n",
      "\n",
      "0: 480x640 4 licenses, 147.1ms\n",
      "Speed: 5.0ms preprocess, 147.1ms inference, 1.1ms postprocess per image at shape (1, 3, 480, 640)\n",
      "\n",
      "0: 480x640 21 cars, 2 buss, 2 trucks, 230.3ms\n",
      "Speed: 3.8ms preprocess, 230.3ms inference, 1.3ms postprocess per image at shape (1, 3, 480, 640)\n",
      "\n",
      "0: 480x640 4 licenses, 152.4ms\n",
      "Speed: 6.0ms preprocess, 152.4ms inference, 1.0ms postprocess per image at shape (1, 3, 480, 640)\n",
      "\n",
      "0: 480x640 21 cars, 2 buss, 2 trucks, 111.1ms\n",
      "Speed: 3.2ms preprocess, 111.1ms inference, 1.2ms postprocess per image at shape (1, 3, 480, 640)\n",
      "\n",
      "0: 480x640 4 licenses, 115.0ms\n",
      "Speed: 3.5ms preprocess, 115.0ms inference, 1.0ms postprocess per image at shape (1, 3, 480, 640)\n",
      "\n",
      "0: 480x640 21 cars, 2 buss, 2 trucks, 103.4ms\n",
      "Speed: 3.3ms preprocess, 103.4ms inference, 1.2ms postprocess per image at shape (1, 3, 480, 640)\n",
      "\n",
      "0: 480x640 4 licenses, 119.3ms\n",
      "Speed: 3.9ms preprocess, 119.3ms inference, 1.0ms postprocess per image at shape (1, 3, 480, 640)\n",
      "\n",
      "0: 480x640 21 cars, 2 buss, 2 trucks, 120.5ms\n",
      "Speed: 3.4ms preprocess, 120.5ms inference, 1.3ms postprocess per image at shape (1, 3, 480, 640)\n",
      "\n",
      "0: 480x640 4 licenses, 120.7ms\n",
      "Speed: 4.5ms preprocess, 120.7ms inference, 0.8ms postprocess per image at shape (1, 3, 480, 640)\n",
      "\n",
      "0: 480x640 21 cars, 2 buss, 2 trucks, 156.1ms\n",
      "Speed: 3.7ms preprocess, 156.1ms inference, 2.5ms postprocess per image at shape (1, 3, 480, 640)\n",
      "\n",
      "0: 480x640 4 licenses, 228.2ms\n",
      "Speed: 4.5ms preprocess, 228.2ms inference, 1.2ms postprocess per image at shape (1, 3, 480, 640)\n",
      "\n",
      "0: 480x640 21 cars, 2 buss, 2 trucks, 142.8ms\n",
      "Speed: 4.9ms preprocess, 142.8ms inference, 1.6ms postprocess per image at shape (1, 3, 480, 640)\n",
      "\n",
      "0: 480x640 4 licenses, 173.0ms\n",
      "Speed: 5.3ms preprocess, 173.0ms inference, 1.2ms postprocess per image at shape (1, 3, 480, 640)\n",
      "\n",
      "0: 480x640 21 cars, 2 buss, 2 trucks, 107.0ms\n",
      "Speed: 3.1ms preprocess, 107.0ms inference, 1.2ms postprocess per image at shape (1, 3, 480, 640)\n",
      "\n",
      "0: 480x640 4 licenses, 115.0ms\n",
      "Speed: 3.8ms preprocess, 115.0ms inference, 1.0ms postprocess per image at shape (1, 3, 480, 640)\n",
      "\n",
      "0: 480x640 21 cars, 2 buss, 2 trucks, 161.7ms\n",
      "Speed: 3.6ms preprocess, 161.7ms inference, 1.6ms postprocess per image at shape (1, 3, 480, 640)\n",
      "\n",
      "0: 480x640 4 licenses, 161.2ms\n",
      "Speed: 4.8ms preprocess, 161.2ms inference, 1.1ms postprocess per image at shape (1, 3, 480, 640)\n",
      "\n",
      "0: 480x640 21 cars, 2 buss, 2 trucks, 87.2ms\n",
      "Speed: 2.6ms preprocess, 87.2ms inference, 1.1ms postprocess per image at shape (1, 3, 480, 640)\n",
      "\n",
      "0: 480x640 4 licenses, 92.5ms\n",
      "Speed: 3.4ms preprocess, 92.5ms inference, 0.8ms postprocess per image at shape (1, 3, 480, 640)\n",
      "\n",
      "0: 480x640 21 cars, 2 buss, 2 trucks, 97.8ms\n",
      "Speed: 3.3ms preprocess, 97.8ms inference, 1.3ms postprocess per image at shape (1, 3, 480, 640)\n",
      "\n",
      "0: 480x640 4 licenses, 109.1ms\n",
      "Speed: 3.9ms preprocess, 109.1ms inference, 0.9ms postprocess per image at shape (1, 3, 480, 640)\n",
      "\n",
      "0: 480x640 21 cars, 2 buss, 2 trucks, 108.3ms\n",
      "Speed: 2.8ms preprocess, 108.3ms inference, 1.2ms postprocess per image at shape (1, 3, 480, 640)\n",
      "\n",
      "0: 480x640 4 licenses, 142.3ms\n",
      "Speed: 3.7ms preprocess, 142.3ms inference, 1.2ms postprocess per image at shape (1, 3, 480, 640)\n",
      "\n",
      "0: 480x640 21 cars, 2 buss, 2 trucks, 171.4ms\n",
      "Speed: 3.7ms preprocess, 171.4ms inference, 2.6ms postprocess per image at shape (1, 3, 480, 640)\n",
      "\n",
      "0: 480x640 4 licenses, 131.3ms\n",
      "Speed: 7.6ms preprocess, 131.3ms inference, 1.1ms postprocess per image at shape (1, 3, 480, 640)\n",
      "\n",
      "0: 480x640 21 cars, 2 buss, 2 trucks, 86.0ms\n",
      "Speed: 2.9ms preprocess, 86.0ms inference, 1.0ms postprocess per image at shape (1, 3, 480, 640)\n",
      "\n",
      "0: 480x640 4 licenses, 90.9ms\n",
      "Speed: 3.2ms preprocess, 90.9ms inference, 1.0ms postprocess per image at shape (1, 3, 480, 640)\n",
      "\n",
      "0: 480x640 21 cars, 2 buss, 3 trucks, 98.6ms\n",
      "Speed: 3.3ms preprocess, 98.6ms inference, 0.9ms postprocess per image at shape (1, 3, 480, 640)\n",
      "\n",
      "0: 480x640 4 licenses, 149.6ms\n",
      "Speed: 3.7ms preprocess, 149.6ms inference, 1.3ms postprocess per image at shape (1, 3, 480, 640)\n",
      "\n",
      "0: 480x640 21 cars, 2 buss, 2 trucks, 259.7ms\n",
      "Speed: 6.6ms preprocess, 259.7ms inference, 1.9ms postprocess per image at shape (1, 3, 480, 640)\n",
      "\n",
      "0: 480x640 4 licenses, 241.2ms\n",
      "Speed: 12.5ms preprocess, 241.2ms inference, 2.2ms postprocess per image at shape (1, 3, 480, 640)\n"
     ]
    },
    {
     "name": "stdout",
     "output_type": "stream",
     "text": [
      "Error: results_list is empty or contains tuples without a second element.\n"
     ]
    },
    {
     "name": "stderr",
     "output_type": "stream",
     "text": [
      "\n",
      "0: 480x640 21 cars, 2 buss, 2 trucks, 82.3ms\n",
      "Speed: 3.0ms preprocess, 82.3ms inference, 0.9ms postprocess per image at shape (1, 3, 480, 640)\n",
      "\n",
      "0: 480x640 4 licenses, 74.3ms\n",
      "Speed: 2.7ms preprocess, 74.3ms inference, 0.6ms postprocess per image at shape (1, 3, 480, 640)\n"
     ]
    },
    {
     "name": "stdout",
     "output_type": "stream",
     "text": [
      "Error: results_list is empty or contains tuples without a second element.\n"
     ]
    },
    {
     "name": "stderr",
     "output_type": "stream",
     "text": [
      "\n",
      "0: 480x640 21 cars, 2 buss, 2 trucks, 78.9ms\n",
      "Speed: 2.7ms preprocess, 78.9ms inference, 1.0ms postprocess per image at shape (1, 3, 480, 640)\n",
      "\n",
      "0: 480x640 4 licenses, 82.8ms\n",
      "Speed: 2.9ms preprocess, 82.8ms inference, 0.8ms postprocess per image at shape (1, 3, 480, 640)\n",
      "\n",
      "0: 480x640 21 cars, 2 buss, 2 trucks, 78.2ms\n",
      "Speed: 2.6ms preprocess, 78.2ms inference, 0.8ms postprocess per image at shape (1, 3, 480, 640)\n",
      "\n",
      "0: 480x640 4 licenses, 81.6ms\n",
      "Speed: 2.5ms preprocess, 81.6ms inference, 0.8ms postprocess per image at shape (1, 3, 480, 640)\n",
      "\n",
      "0: 480x640 21 cars, 2 buss, 2 trucks, 85.4ms\n",
      "Speed: 2.7ms preprocess, 85.4ms inference, 0.8ms postprocess per image at shape (1, 3, 480, 640)\n",
      "\n",
      "0: 480x640 4 licenses, 219.1ms\n",
      "Speed: 2.6ms preprocess, 219.1ms inference, 3.5ms postprocess per image at shape (1, 3, 480, 640)\n",
      "\n",
      "0: 480x640 21 cars, 2 buss, 2 trucks, 83.0ms\n",
      "Speed: 2.7ms preprocess, 83.0ms inference, 1.1ms postprocess per image at shape (1, 3, 480, 640)\n",
      "\n",
      "0: 480x640 4 licenses, 101.9ms\n",
      "Speed: 3.6ms preprocess, 101.9ms inference, 1.1ms postprocess per image at shape (1, 3, 480, 640)\n",
      "\n",
      "0: 480x640 21 cars, 2 buss, 2 trucks, 190.9ms\n",
      "Speed: 4.5ms preprocess, 190.9ms inference, 1.9ms postprocess per image at shape (1, 3, 480, 640)\n",
      "\n",
      "0: 480x640 4 licenses, 150.5ms\n",
      "Speed: 6.8ms preprocess, 150.5ms inference, 0.8ms postprocess per image at shape (1, 3, 480, 640)\n",
      "\n",
      "0: 480x640 21 cars, 2 buss, 2 trucks, 93.5ms\n",
      "Speed: 3.2ms preprocess, 93.5ms inference, 0.9ms postprocess per image at shape (1, 3, 480, 640)\n",
      "\n",
      "0: 480x640 4 licenses, 96.8ms\n",
      "Speed: 3.7ms preprocess, 96.8ms inference, 0.7ms postprocess per image at shape (1, 3, 480, 640)\n"
     ]
    },
    {
     "name": "stdout",
     "output_type": "stream",
     "text": [
      "Error: results_list is empty or contains tuples without a second element.\n"
     ]
    },
    {
     "name": "stderr",
     "output_type": "stream",
     "text": [
      "\n",
      "0: 480x640 21 cars, 2 buss, 2 trucks, 75.7ms\n",
      "Speed: 2.4ms preprocess, 75.7ms inference, 0.8ms postprocess per image at shape (1, 3, 480, 640)\n",
      "\n",
      "0: 480x640 4 licenses, 89.6ms\n",
      "Speed: 2.8ms preprocess, 89.6ms inference, 0.8ms postprocess per image at shape (1, 3, 480, 640)\n",
      "\n",
      "0: 480x640 21 cars, 2 buss, 2 trucks, 82.0ms\n",
      "Speed: 3.3ms preprocess, 82.0ms inference, 0.8ms postprocess per image at shape (1, 3, 480, 640)\n",
      "\n",
      "0: 480x640 4 licenses, 74.7ms\n",
      "Speed: 2.8ms preprocess, 74.7ms inference, 0.7ms postprocess per image at shape (1, 3, 480, 640)\n"
     ]
    },
    {
     "name": "stdout",
     "output_type": "stream",
     "text": [
      "Error: results_list is empty or contains tuples without a second element.\n"
     ]
    },
    {
     "name": "stderr",
     "output_type": "stream",
     "text": [
      "\n",
      "0: 480x640 21 cars, 2 buss, 2 trucks, 75.8ms\n",
      "Speed: 2.7ms preprocess, 75.8ms inference, 0.8ms postprocess per image at shape (1, 3, 480, 640)\n",
      "\n",
      "0: 480x640 4 licenses, 73.3ms\n",
      "Speed: 2.6ms preprocess, 73.3ms inference, 0.7ms postprocess per image at shape (1, 3, 480, 640)\n",
      "\n",
      "0: 480x640 21 cars, 2 buss, 2 trucks, 84.6ms\n",
      "Speed: 2.5ms preprocess, 84.6ms inference, 1.2ms postprocess per image at shape (1, 3, 480, 640)\n",
      "\n",
      "0: 480x640 4 licenses, 102.6ms\n",
      "Speed: 3.4ms preprocess, 102.6ms inference, 0.9ms postprocess per image at shape (1, 3, 480, 640)\n",
      "\n",
      "0: 480x640 21 cars, 2 buss, 2 trucks, 116.6ms\n",
      "Speed: 3.2ms preprocess, 116.6ms inference, 1.3ms postprocess per image at shape (1, 3, 480, 640)\n",
      "\n",
      "0: 480x640 4 licenses, 133.2ms\n",
      "Speed: 4.9ms preprocess, 133.2ms inference, 1.4ms postprocess per image at shape (1, 3, 480, 640)\n",
      "\n",
      "0: 480x640 21 cars, 2 buss, 2 trucks, 80.5ms\n",
      "Speed: 3.2ms preprocess, 80.5ms inference, 1.4ms postprocess per image at shape (1, 3, 480, 640)\n",
      "\n",
      "0: 480x640 4 licenses, 105.8ms\n",
      "Speed: 3.8ms preprocess, 105.8ms inference, 1.5ms postprocess per image at shape (1, 3, 480, 640)\n",
      "\n",
      "0: 480x640 21 cars, 2 buss, 2 trucks, 74.5ms\n",
      "Speed: 2.7ms preprocess, 74.5ms inference, 0.8ms postprocess per image at shape (1, 3, 480, 640)\n",
      "\n",
      "0: 480x640 4 licenses, 80.9ms\n",
      "Speed: 2.8ms preprocess, 80.9ms inference, 0.8ms postprocess per image at shape (1, 3, 480, 640)\n",
      "\n",
      "0: 480x640 21 cars, 2 buss, 2 trucks, 78.2ms\n",
      "Speed: 2.8ms preprocess, 78.2ms inference, 0.8ms postprocess per image at shape (1, 3, 480, 640)\n",
      "\n",
      "0: 480x640 4 licenses, 93.9ms\n",
      "Speed: 3.4ms preprocess, 93.9ms inference, 0.8ms postprocess per image at shape (1, 3, 480, 640)\n"
     ]
    },
    {
     "name": "stdout",
     "output_type": "stream",
     "text": [
      "Error: results_list is empty or contains tuples without a second element.\n"
     ]
    },
    {
     "name": "stderr",
     "output_type": "stream",
     "text": [
      "\n",
      "0: 480x640 21 cars, 2 buss, 2 trucks, 99.3ms\n",
      "Speed: 3.1ms preprocess, 99.3ms inference, 1.0ms postprocess per image at shape (1, 3, 480, 640)\n",
      "\n",
      "0: 480x640 4 licenses, 102.2ms\n",
      "Speed: 4.7ms preprocess, 102.2ms inference, 0.8ms postprocess per image at shape (1, 3, 480, 640)\n",
      "\n",
      "0: 480x640 21 cars, 2 buss, 2 trucks, 82.6ms\n",
      "Speed: 2.9ms preprocess, 82.6ms inference, 0.8ms postprocess per image at shape (1, 3, 480, 640)\n",
      "\n",
      "0: 480x640 4 licenses, 73.0ms\n",
      "Speed: 2.7ms preprocess, 73.0ms inference, 0.7ms postprocess per image at shape (1, 3, 480, 640)\n"
     ]
    },
    {
     "name": "stdout",
     "output_type": "stream",
     "text": [
      "Error: results_list is empty or contains tuples without a second element.\n"
     ]
    },
    {
     "name": "stderr",
     "output_type": "stream",
     "text": [
      "\n",
      "0: 480x640 21 cars, 2 buss, 2 trucks, 93.6ms\n",
      "Speed: 2.9ms preprocess, 93.6ms inference, 1.2ms postprocess per image at shape (1, 3, 480, 640)\n",
      "\n",
      "0: 480x640 4 licenses, 106.4ms\n",
      "Speed: 3.4ms preprocess, 106.4ms inference, 0.8ms postprocess per image at shape (1, 3, 480, 640)\n",
      "\n",
      "0: 480x640 21 cars, 2 buss, 2 trucks, 75.1ms\n",
      "Speed: 2.6ms preprocess, 75.1ms inference, 0.7ms postprocess per image at shape (1, 3, 480, 640)\n",
      "\n",
      "0: 480x640 4 licenses, 76.0ms\n",
      "Speed: 2.9ms preprocess, 76.0ms inference, 0.6ms postprocess per image at shape (1, 3, 480, 640)\n",
      "\n",
      "0: 480x640 21 cars, 2 buss, 2 trucks, 71.4ms\n",
      "Speed: 2.5ms preprocess, 71.4ms inference, 0.8ms postprocess per image at shape (1, 3, 480, 640)\n",
      "\n",
      "0: 480x640 4 licenses, 75.9ms\n",
      "Speed: 2.6ms preprocess, 75.9ms inference, 0.6ms postprocess per image at shape (1, 3, 480, 640)\n",
      "\n",
      "0: 480x640 21 cars, 2 buss, 2 trucks, 80.9ms\n",
      "Speed: 2.7ms preprocess, 80.9ms inference, 0.8ms postprocess per image at shape (1, 3, 480, 640)\n",
      "\n",
      "0: 480x640 4 licenses, 83.9ms\n",
      "Speed: 4.1ms preprocess, 83.9ms inference, 0.8ms postprocess per image at shape (1, 3, 480, 640)\n",
      "\n",
      "0: 480x640 21 cars, 2 buss, 2 trucks, 87.0ms\n",
      "Speed: 3.2ms preprocess, 87.0ms inference, 0.9ms postprocess per image at shape (1, 3, 480, 640)\n",
      "\n",
      "0: 480x640 4 licenses, 110.0ms\n",
      "Speed: 3.5ms preprocess, 110.0ms inference, 1.5ms postprocess per image at shape (1, 3, 480, 640)\n",
      "\n",
      "0: 480x640 21 cars, 2 buss, 2 trucks, 77.2ms\n",
      "Speed: 2.4ms preprocess, 77.2ms inference, 0.8ms postprocess per image at shape (1, 3, 480, 640)\n",
      "\n",
      "0: 480x640 4 licenses, 81.1ms\n",
      "Speed: 2.6ms preprocess, 81.1ms inference, 0.6ms postprocess per image at shape (1, 3, 480, 640)\n"
     ]
    },
    {
     "name": "stdout",
     "output_type": "stream",
     "text": [
      "Error: results_list is empty or contains tuples without a second element.\n"
     ]
    },
    {
     "name": "stderr",
     "output_type": "stream",
     "text": [
      "\n",
      "0: 480x640 21 cars, 2 buss, 2 trucks, 70.1ms\n",
      "Speed: 2.6ms preprocess, 70.1ms inference, 0.8ms postprocess per image at shape (1, 3, 480, 640)\n",
      "\n",
      "0: 480x640 4 licenses, 79.3ms\n",
      "Speed: 2.7ms preprocess, 79.3ms inference, 0.6ms postprocess per image at shape (1, 3, 480, 640)\n",
      "\n",
      "0: 480x640 21 cars, 2 buss, 2 trucks, 70.8ms\n",
      "Speed: 2.4ms preprocess, 70.8ms inference, 0.7ms postprocess per image at shape (1, 3, 480, 640)\n",
      "\n",
      "0: 480x640 4 licenses, 82.9ms\n",
      "Speed: 2.7ms preprocess, 82.9ms inference, 0.7ms postprocess per image at shape (1, 3, 480, 640)\n"
     ]
    },
    {
     "name": "stdout",
     "output_type": "stream",
     "text": [
      "Error: results_list is empty or contains tuples without a second element.\n"
     ]
    },
    {
     "name": "stderr",
     "output_type": "stream",
     "text": [
      "\n",
      "0: 480x640 21 cars, 2 buss, 2 trucks, 77.6ms\n",
      "Speed: 2.5ms preprocess, 77.6ms inference, 0.9ms postprocess per image at shape (1, 3, 480, 640)\n",
      "\n",
      "0: 480x640 4 licenses, 75.6ms\n",
      "Speed: 2.6ms preprocess, 75.6ms inference, 0.7ms postprocess per image at shape (1, 3, 480, 640)\n",
      "\n",
      "0: 480x640 21 cars, 2 buss, 2 trucks, 78.5ms\n",
      "Speed: 2.4ms preprocess, 78.5ms inference, 0.9ms postprocess per image at shape (1, 3, 480, 640)\n",
      "\n",
      "0: 480x640 4 licenses, 78.5ms\n",
      "Speed: 3.0ms preprocess, 78.5ms inference, 0.6ms postprocess per image at shape (1, 3, 480, 640)\n",
      "\n",
      "0: 480x640 22 cars, 2 buss, 2 trucks, 76.9ms\n",
      "Speed: 2.5ms preprocess, 76.9ms inference, 1.0ms postprocess per image at shape (1, 3, 480, 640)\n",
      "\n",
      "0: 480x640 4 licenses, 76.7ms\n",
      "Speed: 2.8ms preprocess, 76.7ms inference, 0.6ms postprocess per image at shape (1, 3, 480, 640)\n",
      "\n",
      "0: 480x640 21 cars, 2 buss, 2 trucks, 78.0ms\n",
      "Speed: 2.9ms preprocess, 78.0ms inference, 1.0ms postprocess per image at shape (1, 3, 480, 640)\n",
      "\n",
      "0: 480x640 4 licenses, 89.3ms\n",
      "Speed: 2.6ms preprocess, 89.3ms inference, 0.8ms postprocess per image at shape (1, 3, 480, 640)\n",
      "\n",
      "0: 480x640 22 cars, 2 buss, 2 trucks, 71.4ms\n",
      "Speed: 2.6ms preprocess, 71.4ms inference, 0.7ms postprocess per image at shape (1, 3, 480, 640)\n",
      "\n",
      "0: 480x640 4 licenses, 74.8ms\n",
      "Speed: 2.6ms preprocess, 74.8ms inference, 0.6ms postprocess per image at shape (1, 3, 480, 640)\n",
      "\n",
      "0: 480x640 21 cars, 2 buss, 2 trucks, 70.7ms\n",
      "Speed: 2.3ms preprocess, 70.7ms inference, 0.7ms postprocess per image at shape (1, 3, 480, 640)\n",
      "\n",
      "0: 480x640 4 licenses, 71.3ms\n",
      "Speed: 2.7ms preprocess, 71.3ms inference, 0.6ms postprocess per image at shape (1, 3, 480, 640)\n",
      "\n",
      "0: 480x640 22 cars, 2 buss, 2 trucks, 72.4ms\n",
      "Speed: 3.0ms preprocess, 72.4ms inference, 0.7ms postprocess per image at shape (1, 3, 480, 640)\n",
      "\n",
      "0: 480x640 4 licenses, 74.5ms\n",
      "Speed: 2.4ms preprocess, 74.5ms inference, 0.6ms postprocess per image at shape (1, 3, 480, 640)\n",
      "\n",
      "0: 480x640 21 cars, 2 buss, 2 trucks, 73.4ms\n",
      "Speed: 2.5ms preprocess, 73.4ms inference, 0.7ms postprocess per image at shape (1, 3, 480, 640)\n",
      "\n",
      "0: 480x640 4 licenses, 73.7ms\n",
      "Speed: 2.7ms preprocess, 73.7ms inference, 0.7ms postprocess per image at shape (1, 3, 480, 640)\n",
      "\n",
      "0: 480x640 22 cars, 2 buss, 2 trucks, 73.8ms\n",
      "Speed: 2.5ms preprocess, 73.8ms inference, 0.7ms postprocess per image at shape (1, 3, 480, 640)\n",
      "\n",
      "0: 480x640 4 licenses, 71.3ms\n",
      "Speed: 2.5ms preprocess, 71.3ms inference, 0.6ms postprocess per image at shape (1, 3, 480, 640)\n",
      "\n",
      "0: 480x640 22 cars, 2 buss, 2 trucks, 282.7ms\n",
      "Speed: 9.5ms preprocess, 282.7ms inference, 2.3ms postprocess per image at shape (1, 3, 480, 640)\n",
      "\n",
      "0: 480x640 4 licenses, 135.1ms\n",
      "Speed: 4.7ms preprocess, 135.1ms inference, 1.1ms postprocess per image at shape (1, 3, 480, 640)\n",
      "\n",
      "0: 480x640 22 cars, 2 buss, 2 trucks, 118.9ms\n",
      "Speed: 2.7ms preprocess, 118.9ms inference, 1.3ms postprocess per image at shape (1, 3, 480, 640)\n",
      "\n",
      "0: 480x640 4 licenses, 135.1ms\n",
      "Speed: 5.1ms preprocess, 135.1ms inference, 1.6ms postprocess per image at shape (1, 3, 480, 640)\n",
      "\n",
      "0: 480x640 22 cars, 2 buss, 2 trucks, 88.8ms\n",
      "Speed: 2.6ms preprocess, 88.8ms inference, 0.9ms postprocess per image at shape (1, 3, 480, 640)\n",
      "\n",
      "0: 480x640 4 licenses, 82.4ms\n",
      "Speed: 2.6ms preprocess, 82.4ms inference, 1.0ms postprocess per image at shape (1, 3, 480, 640)\n",
      "\n",
      "0: 480x640 22 cars, 2 buss, 2 trucks, 82.3ms\n",
      "Speed: 2.5ms preprocess, 82.3ms inference, 0.8ms postprocess per image at shape (1, 3, 480, 640)\n",
      "\n",
      "0: 480x640 4 licenses, 88.1ms\n",
      "Speed: 2.8ms preprocess, 88.1ms inference, 0.8ms postprocess per image at shape (1, 3, 480, 640)\n",
      "\n",
      "0: 480x640 22 cars, 2 buss, 2 trucks, 446.4ms\n",
      "Speed: 6.5ms preprocess, 446.4ms inference, 1.8ms postprocess per image at shape (1, 3, 480, 640)\n",
      "\n",
      "0: 480x640 4 licenses, 345.4ms\n",
      "Speed: 6.5ms preprocess, 345.4ms inference, 1.6ms postprocess per image at shape (1, 3, 480, 640)\n",
      "\n",
      "0: 480x640 22 cars, 2 buss, 2 trucks, 266.7ms\n",
      "Speed: 4.9ms preprocess, 266.7ms inference, 2.5ms postprocess per image at shape (1, 3, 480, 640)\n",
      "\n",
      "0: 480x640 4 licenses, 195.7ms\n",
      "Speed: 7.7ms preprocess, 195.7ms inference, 2.2ms postprocess per image at shape (1, 3, 480, 640)\n",
      "\n",
      "0: 480x640 22 cars, 2 buss, 2 trucks, 210.0ms\n",
      "Speed: 4.9ms preprocess, 210.0ms inference, 1.7ms postprocess per image at shape (1, 3, 480, 640)\n",
      "\n",
      "0: 480x640 4 licenses, 167.2ms\n",
      "Speed: 7.1ms preprocess, 167.2ms inference, 1.0ms postprocess per image at shape (1, 3, 480, 640)\n",
      "\n",
      "0: 480x640 22 cars, 2 buss, 2 trucks, 254.1ms\n",
      "Speed: 5.2ms preprocess, 254.1ms inference, 1.8ms postprocess per image at shape (1, 3, 480, 640)\n",
      "\n",
      "0: 480x640 4 licenses, 134.4ms\n",
      "Speed: 4.3ms preprocess, 134.4ms inference, 1.0ms postprocess per image at shape (1, 3, 480, 640)\n",
      "\n",
      "0: 480x640 22 cars, 2 buss, 2 trucks, 125.4ms\n",
      "Speed: 4.7ms preprocess, 125.4ms inference, 1.1ms postprocess per image at shape (1, 3, 480, 640)\n",
      "\n",
      "0: 480x640 4 licenses, 93.5ms\n",
      "Speed: 3.6ms preprocess, 93.5ms inference, 0.8ms postprocess per image at shape (1, 3, 480, 640)\n",
      "\n",
      "0: 480x640 22 cars, 2 buss, 2 trucks, 82.3ms\n",
      "Speed: 3.0ms preprocess, 82.3ms inference, 0.9ms postprocess per image at shape (1, 3, 480, 640)\n",
      "\n",
      "0: 480x640 4 licenses, 79.3ms\n",
      "Speed: 2.7ms preprocess, 79.3ms inference, 0.7ms postprocess per image at shape (1, 3, 480, 640)\n",
      "\n",
      "0: 480x640 21 cars, 2 buss, 2 trucks, 135.3ms\n",
      "Speed: 3.2ms preprocess, 135.3ms inference, 1.7ms postprocess per image at shape (1, 3, 480, 640)\n",
      "\n",
      "0: 480x640 4 licenses, 157.1ms\n",
      "Speed: 7.2ms preprocess, 157.1ms inference, 1.1ms postprocess per image at shape (1, 3, 480, 640)\n",
      "\n",
      "0: 480x640 22 cars, 2 buss, 2 trucks, 99.1ms\n",
      "Speed: 2.7ms preprocess, 99.1ms inference, 0.8ms postprocess per image at shape (1, 3, 480, 640)\n",
      "\n",
      "0: 480x640 4 licenses, 79.5ms\n",
      "Speed: 3.0ms preprocess, 79.5ms inference, 0.8ms postprocess per image at shape (1, 3, 480, 640)\n",
      "\n",
      "0: 480x640 22 cars, 2 buss, 2 trucks, 99.8ms\n",
      "Speed: 3.5ms preprocess, 99.8ms inference, 1.0ms postprocess per image at shape (1, 3, 480, 640)\n",
      "\n",
      "0: 480x640 4 licenses, 87.7ms\n",
      "Speed: 3.2ms preprocess, 87.7ms inference, 0.8ms postprocess per image at shape (1, 3, 480, 640)\n",
      "\n",
      "0: 480x640 22 cars, 2 buss, 2 trucks, 97.9ms\n",
      "Speed: 2.8ms preprocess, 97.9ms inference, 1.3ms postprocess per image at shape (1, 3, 480, 640)\n",
      "\n",
      "0: 480x640 4 licenses, 109.8ms\n",
      "Speed: 3.3ms preprocess, 109.8ms inference, 0.9ms postprocess per image at shape (1, 3, 480, 640)\n",
      "\n",
      "0: 480x640 22 cars, 2 buss, 2 trucks, 132.8ms\n",
      "Speed: 3.9ms preprocess, 132.8ms inference, 1.3ms postprocess per image at shape (1, 3, 480, 640)\n",
      "\n",
      "0: 480x640 4 licenses, 175.7ms\n",
      "Speed: 4.8ms preprocess, 175.7ms inference, 1.1ms postprocess per image at shape (1, 3, 480, 640)\n",
      "\n",
      "0: 480x640 22 cars, 2 buss, 2 trucks, 140.4ms\n",
      "Speed: 3.2ms preprocess, 140.4ms inference, 1.7ms postprocess per image at shape (1, 3, 480, 640)\n",
      "\n",
      "0: 480x640 4 licenses, 165.2ms\n",
      "Speed: 5.5ms preprocess, 165.2ms inference, 1.3ms postprocess per image at shape (1, 3, 480, 640)\n",
      "\n",
      "0: 480x640 21 cars, 2 buss, 2 trucks, 114.1ms\n",
      "Speed: 3.3ms preprocess, 114.1ms inference, 1.1ms postprocess per image at shape (1, 3, 480, 640)\n",
      "\n",
      "0: 480x640 4 licenses, 139.9ms\n",
      "Speed: 5.3ms preprocess, 139.9ms inference, 1.1ms postprocess per image at shape (1, 3, 480, 640)\n",
      "\n",
      "0: 480x640 22 cars, 2 buss, 2 trucks, 133.4ms\n",
      "Speed: 4.4ms preprocess, 133.4ms inference, 1.4ms postprocess per image at shape (1, 3, 480, 640)\n",
      "\n",
      "0: 480x640 4 licenses, 143.6ms\n",
      "Speed: 5.3ms preprocess, 143.6ms inference, 1.1ms postprocess per image at shape (1, 3, 480, 640)\n",
      "\n",
      "0: 480x640 22 cars, 2 buss, 2 trucks, 115.4ms\n",
      "Speed: 3.4ms preprocess, 115.4ms inference, 2.0ms postprocess per image at shape (1, 3, 480, 640)\n",
      "\n",
      "0: 480x640 4 licenses, 133.5ms\n",
      "Speed: 4.3ms preprocess, 133.5ms inference, 1.0ms postprocess per image at shape (1, 3, 480, 640)\n",
      "\n",
      "0: 480x640 22 cars, 2 buss, 2 trucks, 90.9ms\n",
      "Speed: 2.9ms preprocess, 90.9ms inference, 1.1ms postprocess per image at shape (1, 3, 480, 640)\n",
      "\n",
      "0: 480x640 4 licenses, 103.8ms\n",
      "Speed: 3.5ms preprocess, 103.8ms inference, 0.8ms postprocess per image at shape (1, 3, 480, 640)\n",
      "\n",
      "0: 480x640 22 cars, 2 buss, 2 trucks, 110.3ms\n",
      "Speed: 3.1ms preprocess, 110.3ms inference, 1.5ms postprocess per image at shape (1, 3, 480, 640)\n",
      "\n",
      "0: 480x640 4 licenses, 135.5ms\n",
      "Speed: 4.9ms preprocess, 135.5ms inference, 1.1ms postprocess per image at shape (1, 3, 480, 640)\n",
      "\n",
      "0: 480x640 22 cars, 2 buss, 2 trucks, 130.2ms\n",
      "Speed: 3.4ms preprocess, 130.2ms inference, 1.6ms postprocess per image at shape (1, 3, 480, 640)\n",
      "\n",
      "0: 480x640 4 licenses, 167.7ms\n",
      "Speed: 6.1ms preprocess, 167.7ms inference, 1.2ms postprocess per image at shape (1, 3, 480, 640)\n",
      "\n",
      "0: 480x640 21 cars, 2 buss, 2 trucks, 162.9ms\n",
      "Speed: 4.7ms preprocess, 162.9ms inference, 1.3ms postprocess per image at shape (1, 3, 480, 640)\n",
      "\n",
      "0: 480x640 4 licenses, 156.3ms\n",
      "Speed: 4.8ms preprocess, 156.3ms inference, 0.9ms postprocess per image at shape (1, 3, 480, 640)\n",
      "\n",
      "0: 480x640 22 cars, 2 buss, 2 trucks, 87.8ms\n",
      "Speed: 2.8ms preprocess, 87.8ms inference, 0.8ms postprocess per image at shape (1, 3, 480, 640)\n",
      "\n",
      "0: 480x640 4 licenses, 83.5ms\n",
      "Speed: 2.6ms preprocess, 83.5ms inference, 0.7ms postprocess per image at shape (1, 3, 480, 640)\n",
      "\n",
      "0: 480x640 23 cars, 2 buss, 2 trucks, 83.1ms\n",
      "Speed: 2.8ms preprocess, 83.1ms inference, 1.0ms postprocess per image at shape (1, 3, 480, 640)\n",
      "\n",
      "0: 480x640 4 licenses, 109.2ms\n",
      "Speed: 3.0ms preprocess, 109.2ms inference, 0.8ms postprocess per image at shape (1, 3, 480, 640)\n"
     ]
    },
    {
     "name": "stdout",
     "output_type": "stream",
     "text": [
      "Error: results_list is empty or contains tuples without a second element.\n"
     ]
    },
    {
     "name": "stderr",
     "output_type": "stream",
     "text": [
      "\n",
      "0: 480x640 22 cars, 1 bus, 2 trucks, 81.1ms\n",
      "Speed: 2.7ms preprocess, 81.1ms inference, 0.9ms postprocess per image at shape (1, 3, 480, 640)\n",
      "\n",
      "0: 480x640 4 licenses, 84.5ms\n",
      "Speed: 3.1ms preprocess, 84.5ms inference, 0.7ms postprocess per image at shape (1, 3, 480, 640)\n",
      "\n",
      "0: 480x640 22 cars, 1 bus, 2 trucks, 87.5ms\n",
      "Speed: 3.2ms preprocess, 87.5ms inference, 1.0ms postprocess per image at shape (1, 3, 480, 640)\n",
      "\n",
      "0: 480x640 4 licenses, 92.8ms\n",
      "Speed: 3.0ms preprocess, 92.8ms inference, 0.7ms postprocess per image at shape (1, 3, 480, 640)\n",
      "\n",
      "0: 480x640 22 cars, 1 bus, 2 trucks, 76.7ms\n",
      "Speed: 2.5ms preprocess, 76.7ms inference, 0.8ms postprocess per image at shape (1, 3, 480, 640)\n",
      "\n",
      "0: 480x640 4 licenses, 71.4ms\n",
      "Speed: 2.6ms preprocess, 71.4ms inference, 0.7ms postprocess per image at shape (1, 3, 480, 640)\n",
      "\n",
      "0: 480x640 23 cars, 2 buss, 3 trucks, 82.9ms\n",
      "Speed: 3.4ms preprocess, 82.9ms inference, 0.9ms postprocess per image at shape (1, 3, 480, 640)\n",
      "\n",
      "0: 480x640 4 licenses, 91.5ms\n",
      "Speed: 2.8ms preprocess, 91.5ms inference, 0.8ms postprocess per image at shape (1, 3, 480, 640)\n",
      "\n",
      "0: 480x640 23 cars, 2 buss, 3 trucks, 72.4ms\n",
      "Speed: 2.3ms preprocess, 72.4ms inference, 0.8ms postprocess per image at shape (1, 3, 480, 640)\n",
      "\n",
      "0: 480x640 4 licenses, 171.4ms\n",
      "Speed: 2.6ms preprocess, 171.4ms inference, 1.2ms postprocess per image at shape (1, 3, 480, 640)\n"
     ]
    },
    {
     "name": "stdout",
     "output_type": "stream",
     "text": [
      "Error: results_list is empty or contains tuples without a second element.\n"
     ]
    },
    {
     "name": "stderr",
     "output_type": "stream",
     "text": [
      "\n",
      "0: 480x640 23 cars, 2 buss, 2 trucks, 77.5ms\n",
      "Speed: 2.4ms preprocess, 77.5ms inference, 0.9ms postprocess per image at shape (1, 3, 480, 640)\n",
      "\n",
      "0: 480x640 3 licenses, 80.1ms\n",
      "Speed: 3.0ms preprocess, 80.1ms inference, 0.5ms postprocess per image at shape (1, 3, 480, 640)\n",
      "\n",
      "0: 480x640 23 cars, 2 buss, 2 trucks, 81.4ms\n",
      "Speed: 2.7ms preprocess, 81.4ms inference, 1.2ms postprocess per image at shape (1, 3, 480, 640)\n",
      "\n",
      "0: 480x640 3 licenses, 84.8ms\n",
      "Speed: 3.3ms preprocess, 84.8ms inference, 0.8ms postprocess per image at shape (1, 3, 480, 640)\n",
      "\n",
      "0: 480x640 23 cars, 1 bus, 3 trucks, 76.9ms\n",
      "Speed: 2.8ms preprocess, 76.9ms inference, 0.8ms postprocess per image at shape (1, 3, 480, 640)\n",
      "\n",
      "0: 480x640 3 licenses, 90.8ms\n",
      "Speed: 2.9ms preprocess, 90.8ms inference, 0.8ms postprocess per image at shape (1, 3, 480, 640)\n"
     ]
    },
    {
     "name": "stdout",
     "output_type": "stream",
     "text": [
      "Error: results_list is empty or contains tuples without a second element.\n"
     ]
    },
    {
     "name": "stderr",
     "output_type": "stream",
     "text": [
      "\n",
      "0: 480x640 22 cars, 1 bus, 3 trucks, 125.3ms\n",
      "Speed: 3.5ms preprocess, 125.3ms inference, 4.1ms postprocess per image at shape (1, 3, 480, 640)\n",
      "\n",
      "0: 480x640 3 licenses, 193.6ms\n",
      "Speed: 7.3ms preprocess, 193.6ms inference, 1.0ms postprocess per image at shape (1, 3, 480, 640)\n",
      "\n",
      "0: 480x640 23 cars, 1 bus, 3 trucks, 84.0ms\n",
      "Speed: 3.0ms preprocess, 84.0ms inference, 0.9ms postprocess per image at shape (1, 3, 480, 640)\n",
      "\n",
      "0: 480x640 2 licenses, 88.2ms\n",
      "Speed: 3.3ms preprocess, 88.2ms inference, 0.8ms postprocess per image at shape (1, 3, 480, 640)\n",
      "\n",
      "0: 480x640 23 cars, 1 bus, 3 trucks, 99.1ms\n",
      "Speed: 3.2ms preprocess, 99.1ms inference, 1.2ms postprocess per image at shape (1, 3, 480, 640)\n",
      "\n",
      "0: 480x640 2 licenses, 95.3ms\n",
      "Speed: 3.4ms preprocess, 95.3ms inference, 0.8ms postprocess per image at shape (1, 3, 480, 640)\n",
      "\n",
      "0: 480x640 21 cars, 3 trucks, 78.8ms\n",
      "Speed: 2.6ms preprocess, 78.8ms inference, 0.8ms postprocess per image at shape (1, 3, 480, 640)\n",
      "\n",
      "0: 480x640 2 licenses, 76.3ms\n",
      "Speed: 3.0ms preprocess, 76.3ms inference, 0.6ms postprocess per image at shape (1, 3, 480, 640)\n",
      "\n",
      "0: 480x640 21 cars, 1 bus, 3 trucks, 146.5ms\n",
      "Speed: 3.4ms preprocess, 146.5ms inference, 2.2ms postprocess per image at shape (1, 3, 480, 640)\n",
      "\n",
      "0: 480x640 1 license, 262.8ms\n",
      "Speed: 9.0ms preprocess, 262.8ms inference, 1.8ms postprocess per image at shape (1, 3, 480, 640)\n",
      "\n",
      "0: 480x640 22 cars, 3 trucks, 131.8ms\n",
      "Speed: 6.6ms preprocess, 131.8ms inference, 1.5ms postprocess per image at shape (1, 3, 480, 640)\n",
      "\n",
      "0: 480x640 1 license, 104.0ms\n",
      "Speed: 4.2ms preprocess, 104.0ms inference, 0.7ms postprocess per image at shape (1, 3, 480, 640)\n",
      "\n",
      "0: 480x640 22 cars, 3 trucks, 74.5ms\n",
      "Speed: 2.7ms preprocess, 74.5ms inference, 0.9ms postprocess per image at shape (1, 3, 480, 640)\n",
      "\n",
      "0: 480x640 2 licenses, 75.6ms\n",
      "Speed: 2.6ms preprocess, 75.6ms inference, 0.6ms postprocess per image at shape (1, 3, 480, 640)\n",
      "\n",
      "0: 480x640 22 cars, 1 bus, 3 trucks, 97.6ms\n",
      "Speed: 2.9ms preprocess, 97.6ms inference, 1.3ms postprocess per image at shape (1, 3, 480, 640)\n",
      "\n",
      "0: 480x640 2 licenses, 139.6ms\n",
      "Speed: 4.7ms preprocess, 139.6ms inference, 1.2ms postprocess per image at shape (1, 3, 480, 640)\n",
      "\n",
      "0: 480x640 22 cars, 1 bus, 3 trucks, 80.4ms\n",
      "Speed: 2.8ms preprocess, 80.4ms inference, 1.0ms postprocess per image at shape (1, 3, 480, 640)\n",
      "\n",
      "0: 480x640 2 licenses, 103.4ms\n",
      "Speed: 3.5ms preprocess, 103.4ms inference, 1.0ms postprocess per image at shape (1, 3, 480, 640)\n",
      "\n",
      "0: 480x640 23 cars, 1 bus, 4 trucks, 92.7ms\n",
      "Speed: 4.2ms preprocess, 92.7ms inference, 1.3ms postprocess per image at shape (1, 3, 480, 640)\n",
      "\n",
      "0: 480x640 3 licenses, 95.5ms\n",
      "Speed: 3.1ms preprocess, 95.5ms inference, 0.8ms postprocess per image at shape (1, 3, 480, 640)\n",
      "\n",
      "0: 480x640 24 cars, 1 bus, 4 trucks, 73.7ms\n",
      "Speed: 2.5ms preprocess, 73.7ms inference, 0.8ms postprocess per image at shape (1, 3, 480, 640)\n",
      "\n",
      "0: 480x640 3 licenses, 75.1ms\n",
      "Speed: 2.9ms preprocess, 75.1ms inference, 0.7ms postprocess per image at shape (1, 3, 480, 640)\n"
     ]
    },
    {
     "name": "stdout",
     "output_type": "stream",
     "text": [
      "Error: results_list is empty or contains tuples without a second element.\n"
     ]
    },
    {
     "name": "stderr",
     "output_type": "stream",
     "text": [
      "\n",
      "0: 480x640 22 cars, 1 bus, 4 trucks, 76.2ms\n",
      "Speed: 2.8ms preprocess, 76.2ms inference, 1.0ms postprocess per image at shape (1, 3, 480, 640)\n",
      "\n",
      "0: 480x640 1 license, 76.5ms\n",
      "Speed: 2.7ms preprocess, 76.5ms inference, 0.8ms postprocess per image at shape (1, 3, 480, 640)\n"
     ]
    },
    {
     "name": "stdout",
     "output_type": "stream",
     "text": [
      "Error: results_list is empty or contains tuples without a second element.\n"
     ]
    },
    {
     "name": "stderr",
     "output_type": "stream",
     "text": [
      "\n",
      "0: 480x640 22 cars, 4 trucks, 78.6ms\n",
      "Speed: 2.3ms preprocess, 78.6ms inference, 0.8ms postprocess per image at shape (1, 3, 480, 640)\n",
      "\n",
      "0: 480x640 1 license, 76.0ms\n",
      "Speed: 2.5ms preprocess, 76.0ms inference, 0.5ms postprocess per image at shape (1, 3, 480, 640)\n",
      "\n",
      "0: 480x640 20 cars, 1 bus, 3 trucks, 77.7ms\n",
      "Speed: 2.7ms preprocess, 77.7ms inference, 0.8ms postprocess per image at shape (1, 3, 480, 640)\n",
      "\n",
      "0: 480x640 2 licenses, 81.1ms\n",
      "Speed: 2.7ms preprocess, 81.1ms inference, 0.6ms postprocess per image at shape (1, 3, 480, 640)\n",
      "\n",
      "0: 480x640 20 cars, 1 bus, 3 trucks, 80.2ms\n",
      "Speed: 2.6ms preprocess, 80.2ms inference, 0.9ms postprocess per image at shape (1, 3, 480, 640)\n",
      "\n",
      "0: 480x640 2 licenses, 91.8ms\n",
      "Speed: 2.7ms preprocess, 91.8ms inference, 0.8ms postprocess per image at shape (1, 3, 480, 640)\n"
     ]
    },
    {
     "name": "stdout",
     "output_type": "stream",
     "text": [
      "Error: results_list is empty or contains tuples without a second element.\n",
      "Error: results_list is empty or contains tuples without a second element.\n"
     ]
    },
    {
     "name": "stderr",
     "output_type": "stream",
     "text": [
      "\n",
      "0: 480x640 20 cars, 1 bus, 2 trucks, 83.2ms\n",
      "Speed: 3.1ms preprocess, 83.2ms inference, 0.9ms postprocess per image at shape (1, 3, 480, 640)\n",
      "\n",
      "0: 480x640 2 licenses, 92.1ms\n",
      "Speed: 3.2ms preprocess, 92.1ms inference, 0.9ms postprocess per image at shape (1, 3, 480, 640)\n"
     ]
    },
    {
     "name": "stdout",
     "output_type": "stream",
     "text": [
      "Error: results_list is empty or contains tuples without a second element.\n"
     ]
    },
    {
     "name": "stderr",
     "output_type": "stream",
     "text": [
      "\n",
      "0: 480x640 21 cars, 1 bus, 2 trucks, 291.2ms\n",
      "Speed: 5.0ms preprocess, 291.2ms inference, 1.9ms postprocess per image at shape (1, 3, 480, 640)\n",
      "\n",
      "0: 480x640 2 licenses, 119.9ms\n",
      "Speed: 5.3ms preprocess, 119.9ms inference, 0.8ms postprocess per image at shape (1, 3, 480, 640)\n"
     ]
    },
    {
     "name": "stdout",
     "output_type": "stream",
     "text": [
      "Error: results_list is empty or contains tuples without a second element.\n"
     ]
    },
    {
     "name": "stderr",
     "output_type": "stream",
     "text": [
      "\n",
      "0: 480x640 21 cars, 1 bus, 2 trucks, 103.7ms\n",
      "Speed: 3.3ms preprocess, 103.7ms inference, 1.1ms postprocess per image at shape (1, 3, 480, 640)\n",
      "\n",
      "0: 480x640 2 licenses, 93.4ms\n",
      "Speed: 3.9ms preprocess, 93.4ms inference, 0.7ms postprocess per image at shape (1, 3, 480, 640)\n",
      "\n",
      "0: 480x640 20 cars, 1 bus, 2 trucks, 74.8ms\n",
      "Speed: 2.5ms preprocess, 74.8ms inference, 0.8ms postprocess per image at shape (1, 3, 480, 640)\n",
      "\n",
      "0: 480x640 2 licenses, 77.7ms\n",
      "Speed: 2.7ms preprocess, 77.7ms inference, 0.7ms postprocess per image at shape (1, 3, 480, 640)\n",
      "\n",
      "0: 480x640 21 cars, 1 bus, 2 trucks, 75.3ms\n",
      "Speed: 2.4ms preprocess, 75.3ms inference, 0.9ms postprocess per image at shape (1, 3, 480, 640)\n",
      "\n",
      "0: 480x640 2 licenses, 78.4ms\n",
      "Speed: 3.0ms preprocess, 78.4ms inference, 0.8ms postprocess per image at shape (1, 3, 480, 640)\n",
      "\n",
      "0: 480x640 22 cars, 2 trucks, 74.6ms\n",
      "Speed: 2.7ms preprocess, 74.6ms inference, 1.0ms postprocess per image at shape (1, 3, 480, 640)\n",
      "\n",
      "0: 480x640 2 licenses, 75.1ms\n",
      "Speed: 2.7ms preprocess, 75.1ms inference, 0.6ms postprocess per image at shape (1, 3, 480, 640)\n"
     ]
    },
    {
     "name": "stdout",
     "output_type": "stream",
     "text": [
      "Error: results_list is empty or contains tuples without a second element.\n"
     ]
    },
    {
     "name": "stderr",
     "output_type": "stream",
     "text": [
      "\n",
      "0: 480x640 23 cars, 2 trucks, 74.2ms\n",
      "Speed: 2.7ms preprocess, 74.2ms inference, 0.8ms postprocess per image at shape (1, 3, 480, 640)\n",
      "\n",
      "0: 480x640 2 licenses, 77.4ms\n",
      "Speed: 2.8ms preprocess, 77.4ms inference, 0.8ms postprocess per image at shape (1, 3, 480, 640)\n"
     ]
    },
    {
     "name": "stdout",
     "output_type": "stream",
     "text": [
      "Error: results_list is empty or contains tuples without a second element.\n"
     ]
    },
    {
     "name": "stderr",
     "output_type": "stream",
     "text": [
      "\n",
      "0: 480x640 23 cars, 2 trucks, 73.0ms\n",
      "Speed: 2.5ms preprocess, 73.0ms inference, 0.8ms postprocess per image at shape (1, 3, 480, 640)\n",
      "\n",
      "0: 480x640 2 licenses, 76.7ms\n",
      "Speed: 2.9ms preprocess, 76.7ms inference, 0.8ms postprocess per image at shape (1, 3, 480, 640)\n"
     ]
    },
    {
     "name": "stdout",
     "output_type": "stream",
     "text": [
      "Error: results_list is empty or contains tuples without a second element.\n"
     ]
    },
    {
     "name": "stderr",
     "output_type": "stream",
     "text": [
      "\n",
      "0: 480x640 22 cars, 2 trucks, 78.0ms\n",
      "Speed: 2.3ms preprocess, 78.0ms inference, 0.8ms postprocess per image at shape (1, 3, 480, 640)\n",
      "\n",
      "0: 480x640 2 licenses, 93.1ms\n",
      "Speed: 2.7ms preprocess, 93.1ms inference, 0.9ms postprocess per image at shape (1, 3, 480, 640)\n"
     ]
    },
    {
     "name": "stdout",
     "output_type": "stream",
     "text": [
      "Error: results_list is empty or contains tuples without a second element.\n",
      "Error: results_list is empty or contains tuples without a second element.\n"
     ]
    },
    {
     "name": "stderr",
     "output_type": "stream",
     "text": [
      "\n",
      "0: 480x640 23 cars, 2 trucks, 84.0ms\n",
      "Speed: 2.9ms preprocess, 84.0ms inference, 1.1ms postprocess per image at shape (1, 3, 480, 640)\n",
      "\n",
      "0: 480x640 2 licenses, 106.1ms\n",
      "Speed: 3.9ms preprocess, 106.1ms inference, 0.9ms postprocess per image at shape (1, 3, 480, 640)\n"
     ]
    },
    {
     "name": "stdout",
     "output_type": "stream",
     "text": [
      "Error: results_list is empty or contains tuples without a second element.\n"
     ]
    },
    {
     "name": "stderr",
     "output_type": "stream",
     "text": [
      "\n",
      "0: 480x640 23 cars, 2 trucks, 73.6ms\n",
      "Speed: 2.6ms preprocess, 73.6ms inference, 0.8ms postprocess per image at shape (1, 3, 480, 640)\n",
      "\n",
      "0: 480x640 2 licenses, 74.2ms\n",
      "Speed: 2.7ms preprocess, 74.2ms inference, 0.7ms postprocess per image at shape (1, 3, 480, 640)\n",
      "\n",
      "0: 480x640 23 cars, 2 trucks, 73.0ms\n",
      "Speed: 2.5ms preprocess, 73.0ms inference, 0.8ms postprocess per image at shape (1, 3, 480, 640)\n",
      "\n",
      "0: 480x640 2 licenses, 75.9ms\n",
      "Speed: 2.8ms preprocess, 75.9ms inference, 0.6ms postprocess per image at shape (1, 3, 480, 640)\n",
      "\n",
      "0: 480x640 19 cars, 1 bus, 3 trucks, 73.8ms\n",
      "Speed: 2.5ms preprocess, 73.8ms inference, 0.8ms postprocess per image at shape (1, 3, 480, 640)\n",
      "\n",
      "0: 480x640 2 licenses, 78.8ms\n",
      "Speed: 2.9ms preprocess, 78.8ms inference, 0.7ms postprocess per image at shape (1, 3, 480, 640)\n",
      "\n",
      "0: 480x640 18 cars, 1 bus, 3 trucks, 70.8ms\n",
      "Speed: 2.4ms preprocess, 70.8ms inference, 0.8ms postprocess per image at shape (1, 3, 480, 640)\n",
      "\n",
      "0: 480x640 2 licenses, 75.2ms\n",
      "Speed: 3.0ms preprocess, 75.2ms inference, 0.6ms postprocess per image at shape (1, 3, 480, 640)\n"
     ]
    },
    {
     "name": "stdout",
     "output_type": "stream",
     "text": [
      "Error: results_list is empty or contains tuples without a second element.\n"
     ]
    },
    {
     "name": "stderr",
     "output_type": "stream",
     "text": [
      "\n",
      "0: 480x640 21 cars, 2 trucks, 75.9ms\n",
      "Speed: 2.9ms preprocess, 75.9ms inference, 0.8ms postprocess per image at shape (1, 3, 480, 640)\n",
      "\n",
      "0: 480x640 1 license, 76.3ms\n",
      "Speed: 2.8ms preprocess, 76.3ms inference, 0.6ms postprocess per image at shape (1, 3, 480, 640)\n",
      "\n",
      "0: 480x640 21 cars, 2 trucks, 74.0ms\n",
      "Speed: 2.5ms preprocess, 74.0ms inference, 0.9ms postprocess per image at shape (1, 3, 480, 640)\n",
      "\n",
      "0: 480x640 1 license, 75.7ms\n",
      "Speed: 3.0ms preprocess, 75.7ms inference, 0.6ms postprocess per image at shape (1, 3, 480, 640)\n"
     ]
    },
    {
     "name": "stdout",
     "output_type": "stream",
     "text": [
      "Error: results_list is empty or contains tuples without a second element.\n"
     ]
    },
    {
     "name": "stderr",
     "output_type": "stream",
     "text": [
      "\n",
      "0: 480x640 22 cars, 3 trucks, 74.1ms\n",
      "Speed: 2.3ms preprocess, 74.1ms inference, 0.8ms postprocess per image at shape (1, 3, 480, 640)\n",
      "\n",
      "0: 480x640 1 license, 72.3ms\n",
      "Speed: 3.0ms preprocess, 72.3ms inference, 0.6ms postprocess per image at shape (1, 3, 480, 640)\n"
     ]
    },
    {
     "name": "stdout",
     "output_type": "stream",
     "text": [
      "Error: results_list is empty or contains tuples without a second element.\n"
     ]
    },
    {
     "name": "stderr",
     "output_type": "stream",
     "text": [
      "\n",
      "0: 480x640 22 cars, 3 trucks, 80.9ms\n",
      "Speed: 2.9ms preprocess, 80.9ms inference, 0.8ms postprocess per image at shape (1, 3, 480, 640)\n",
      "\n",
      "0: 480x640 1 license, 85.0ms\n",
      "Speed: 3.3ms preprocess, 85.0ms inference, 0.7ms postprocess per image at shape (1, 3, 480, 640)\n",
      "\n",
      "0: 480x640 22 cars, 2 trucks, 74.9ms\n",
      "Speed: 2.4ms preprocess, 74.9ms inference, 0.7ms postprocess per image at shape (1, 3, 480, 640)\n",
      "\n",
      "0: 480x640 2 licenses, 73.7ms\n",
      "Speed: 3.0ms preprocess, 73.7ms inference, 0.6ms postprocess per image at shape (1, 3, 480, 640)\n"
     ]
    },
    {
     "name": "stdout",
     "output_type": "stream",
     "text": [
      "Error: results_list is empty or contains tuples without a second element.\n"
     ]
    },
    {
     "name": "stderr",
     "output_type": "stream",
     "text": [
      "\n",
      "0: 480x640 22 cars, 2 trucks, 74.5ms\n",
      "Speed: 3.2ms preprocess, 74.5ms inference, 0.9ms postprocess per image at shape (1, 3, 480, 640)\n",
      "\n",
      "0: 480x640 2 licenses, 77.0ms\n",
      "Speed: 3.1ms preprocess, 77.0ms inference, 0.6ms postprocess per image at shape (1, 3, 480, 640)\n",
      "\n",
      "0: 480x640 23 cars, 1 bus, 2 trucks, 71.8ms\n",
      "Speed: 2.5ms preprocess, 71.8ms inference, 0.7ms postprocess per image at shape (1, 3, 480, 640)\n",
      "\n",
      "0: 480x640 2 licenses, 73.3ms\n",
      "Speed: 2.5ms preprocess, 73.3ms inference, 0.6ms postprocess per image at shape (1, 3, 480, 640)\n",
      "\n",
      "0: 480x640 24 cars, 1 bus, 2 trucks, 68.9ms\n",
      "Speed: 2.4ms preprocess, 68.9ms inference, 0.8ms postprocess per image at shape (1, 3, 480, 640)\n",
      "\n",
      "0: 480x640 2 licenses, 71.3ms\n",
      "Speed: 2.4ms preprocess, 71.3ms inference, 0.5ms postprocess per image at shape (1, 3, 480, 640)\n",
      "\n",
      "0: 480x640 24 cars, 2 buss, 2 trucks, 73.8ms\n",
      "Speed: 2.3ms preprocess, 73.8ms inference, 0.8ms postprocess per image at shape (1, 3, 480, 640)\n",
      "\n",
      "0: 480x640 2 licenses, 75.5ms\n",
      "Speed: 2.7ms preprocess, 75.5ms inference, 0.6ms postprocess per image at shape (1, 3, 480, 640)\n",
      "\n",
      "0: 480x640 24 cars, 2 buss, 2 trucks, 75.6ms\n",
      "Speed: 2.5ms preprocess, 75.6ms inference, 0.7ms postprocess per image at shape (1, 3, 480, 640)\n",
      "\n",
      "0: 480x640 2 licenses, 77.6ms\n",
      "Speed: 2.7ms preprocess, 77.6ms inference, 0.6ms postprocess per image at shape (1, 3, 480, 640)\n"
     ]
    },
    {
     "name": "stdout",
     "output_type": "stream",
     "text": [
      "Error: results_list is empty or contains tuples without a second element.\n"
     ]
    },
    {
     "name": "stderr",
     "output_type": "stream",
     "text": [
      "\n",
      "0: 480x640 22 cars, 2 buss, 3 trucks, 78.5ms\n",
      "Speed: 3.0ms preprocess, 78.5ms inference, 0.8ms postprocess per image at shape (1, 3, 480, 640)\n",
      "\n",
      "0: 480x640 2 licenses, 76.6ms\n",
      "Speed: 2.8ms preprocess, 76.6ms inference, 0.7ms postprocess per image at shape (1, 3, 480, 640)\n"
     ]
    },
    {
     "name": "stdout",
     "output_type": "stream",
     "text": [
      "Error: results_list is empty or contains tuples without a second element.\n"
     ]
    },
    {
     "name": "stderr",
     "output_type": "stream",
     "text": [
      "\n",
      "0: 480x640 22 cars, 2 buss, 3 trucks, 112.0ms\n",
      "Speed: 3.5ms preprocess, 112.0ms inference, 1.1ms postprocess per image at shape (1, 3, 480, 640)\n",
      "\n",
      "0: 480x640 2 licenses, 93.1ms\n",
      "Speed: 3.4ms preprocess, 93.1ms inference, 0.8ms postprocess per image at shape (1, 3, 480, 640)\n",
      "\n",
      "0: 480x640 21 cars, 1 bus, 3 trucks, 70.6ms\n",
      "Speed: 2.6ms preprocess, 70.6ms inference, 0.8ms postprocess per image at shape (1, 3, 480, 640)\n",
      "\n",
      "0: 480x640 2 licenses, 73.0ms\n",
      "Speed: 2.4ms preprocess, 73.0ms inference, 0.6ms postprocess per image at shape (1, 3, 480, 640)\n",
      "\n",
      "0: 480x640 21 cars, 3 trucks, 69.0ms\n",
      "Speed: 2.5ms preprocess, 69.0ms inference, 0.7ms postprocess per image at shape (1, 3, 480, 640)\n",
      "\n",
      "0: 480x640 2 licenses, 73.4ms\n",
      "Speed: 2.4ms preprocess, 73.4ms inference, 0.6ms postprocess per image at shape (1, 3, 480, 640)\n",
      "\n",
      "0: 480x640 21 cars, 1 bus, 3 trucks, 114.8ms\n",
      "Speed: 3.1ms preprocess, 114.8ms inference, 2.6ms postprocess per image at shape (1, 3, 480, 640)\n",
      "\n",
      "0: 480x640 2 licenses, 125.0ms\n",
      "Speed: 4.6ms preprocess, 125.0ms inference, 1.0ms postprocess per image at shape (1, 3, 480, 640)\n",
      "\n",
      "0: 480x640 22 cars, 1 bus, 3 trucks, 128.0ms\n",
      "Speed: 3.4ms preprocess, 128.0ms inference, 1.5ms postprocess per image at shape (1, 3, 480, 640)\n",
      "\n",
      "0: 480x640 2 licenses, 143.2ms\n",
      "Speed: 5.0ms preprocess, 143.2ms inference, 0.9ms postprocess per image at shape (1, 3, 480, 640)\n",
      "\n",
      "0: 480x640 19 cars, 3 trucks, 82.9ms\n",
      "Speed: 2.7ms preprocess, 82.9ms inference, 0.8ms postprocess per image at shape (1, 3, 480, 640)\n",
      "\n",
      "0: 480x640 2 licenses, 81.6ms\n",
      "Speed: 2.9ms preprocess, 81.6ms inference, 0.7ms postprocess per image at shape (1, 3, 480, 640)\n"
     ]
    },
    {
     "name": "stdout",
     "output_type": "stream",
     "text": [
      "Error: results_list is empty or contains tuples without a second element.\n"
     ]
    },
    {
     "name": "stderr",
     "output_type": "stream",
     "text": [
      "\n",
      "0: 480x640 19 cars, 3 trucks, 79.6ms\n",
      "Speed: 3.1ms preprocess, 79.6ms inference, 0.8ms postprocess per image at shape (1, 3, 480, 640)\n",
      "\n",
      "0: 480x640 2 licenses, 82.3ms\n",
      "Speed: 2.8ms preprocess, 82.3ms inference, 0.8ms postprocess per image at shape (1, 3, 480, 640)\n",
      "\n",
      "0: 480x640 19 cars, 1 bus, 2 trucks, 70.7ms\n",
      "Speed: 2.5ms preprocess, 70.7ms inference, 1.0ms postprocess per image at shape (1, 3, 480, 640)\n",
      "\n",
      "0: 480x640 2 licenses, 73.4ms\n",
      "Speed: 2.6ms preprocess, 73.4ms inference, 0.6ms postprocess per image at shape (1, 3, 480, 640)\n",
      "\n",
      "0: 480x640 19 cars, 1 bus, 2 trucks, 72.0ms\n",
      "Speed: 2.5ms preprocess, 72.0ms inference, 0.7ms postprocess per image at shape (1, 3, 480, 640)\n",
      "\n",
      "0: 480x640 2 licenses, 72.9ms\n",
      "Speed: 2.3ms preprocess, 72.9ms inference, 0.7ms postprocess per image at shape (1, 3, 480, 640)\n",
      "\n",
      "0: 480x640 19 cars, 1 bus, 3 trucks, 77.9ms\n",
      "Speed: 3.5ms preprocess, 77.9ms inference, 0.7ms postprocess per image at shape (1, 3, 480, 640)\n",
      "\n",
      "0: 480x640 2 licenses, 72.9ms\n",
      "Speed: 2.5ms preprocess, 72.9ms inference, 0.6ms postprocess per image at shape (1, 3, 480, 640)\n",
      "\n",
      "0: 480x640 20 cars, 1 bus, 3 trucks, 82.0ms\n",
      "Speed: 2.6ms preprocess, 82.0ms inference, 0.8ms postprocess per image at shape (1, 3, 480, 640)\n",
      "\n",
      "0: 480x640 2 licenses, 72.4ms\n",
      "Speed: 2.4ms preprocess, 72.4ms inference, 0.5ms postprocess per image at shape (1, 3, 480, 640)\n",
      "\n",
      "0: 480x640 20 cars, 1 bus, 3 trucks, 76.4ms\n",
      "Speed: 2.6ms preprocess, 76.4ms inference, 0.9ms postprocess per image at shape (1, 3, 480, 640)\n",
      "\n",
      "0: 480x640 2 licenses, 79.6ms\n",
      "Speed: 3.0ms preprocess, 79.6ms inference, 0.7ms postprocess per image at shape (1, 3, 480, 640)\n"
     ]
    },
    {
     "name": "stdout",
     "output_type": "stream",
     "text": [
      "Error: results_list is empty or contains tuples without a second element.\n"
     ]
    },
    {
     "name": "stderr",
     "output_type": "stream",
     "text": [
      "\n",
      "0: 480x640 20 cars, 1 bus, 3 trucks, 73.9ms\n",
      "Speed: 2.4ms preprocess, 73.9ms inference, 0.7ms postprocess per image at shape (1, 3, 480, 640)\n",
      "\n",
      "0: 480x640 2 licenses, 73.9ms\n",
      "Speed: 2.6ms preprocess, 73.9ms inference, 0.6ms postprocess per image at shape (1, 3, 480, 640)\n"
     ]
    },
    {
     "name": "stdout",
     "output_type": "stream",
     "text": [
      "Error: results_list is empty or contains tuples without a second element.\n"
     ]
    },
    {
     "name": "stderr",
     "output_type": "stream",
     "text": [
      "\n",
      "0: 480x640 20 cars, 3 trucks, 70.1ms\n",
      "Speed: 2.3ms preprocess, 70.1ms inference, 0.7ms postprocess per image at shape (1, 3, 480, 640)\n",
      "\n",
      "0: 480x640 2 licenses, 70.8ms\n",
      "Speed: 2.7ms preprocess, 70.8ms inference, 0.6ms postprocess per image at shape (1, 3, 480, 640)\n"
     ]
    },
    {
     "name": "stdout",
     "output_type": "stream",
     "text": [
      "Error: results_list is empty or contains tuples without a second element.\n"
     ]
    },
    {
     "name": "stderr",
     "output_type": "stream",
     "text": [
      "\n",
      "0: 480x640 20 cars, 3 trucks, 73.2ms\n",
      "Speed: 2.4ms preprocess, 73.2ms inference, 0.8ms postprocess per image at shape (1, 3, 480, 640)\n",
      "\n",
      "0: 480x640 2 licenses, 69.0ms\n",
      "Speed: 2.4ms preprocess, 69.0ms inference, 0.6ms postprocess per image at shape (1, 3, 480, 640)\n",
      "\n",
      "0: 480x640 20 cars, 3 trucks, 73.5ms\n",
      "Speed: 2.5ms preprocess, 73.5ms inference, 0.8ms postprocess per image at shape (1, 3, 480, 640)\n",
      "\n",
      "0: 480x640 3 licenses, 79.3ms\n",
      "Speed: 2.8ms preprocess, 79.3ms inference, 0.7ms postprocess per image at shape (1, 3, 480, 640)\n",
      "\n",
      "0: 480x640 21 cars, 3 trucks, 68.5ms\n",
      "Speed: 2.6ms preprocess, 68.5ms inference, 0.7ms postprocess per image at shape (1, 3, 480, 640)\n",
      "\n",
      "0: 480x640 3 licenses, 73.0ms\n",
      "Speed: 2.2ms preprocess, 73.0ms inference, 0.6ms postprocess per image at shape (1, 3, 480, 640)\n"
     ]
    },
    {
     "name": "stdout",
     "output_type": "stream",
     "text": [
      "Error: results_list is empty or contains tuples without a second element.\n"
     ]
    },
    {
     "name": "stderr",
     "output_type": "stream",
     "text": [
      "\n",
      "0: 480x640 23 cars, 3 trucks, 75.5ms\n",
      "Speed: 2.4ms preprocess, 75.5ms inference, 0.8ms postprocess per image at shape (1, 3, 480, 640)\n",
      "\n",
      "0: 480x640 2 licenses, 81.0ms\n",
      "Speed: 2.7ms preprocess, 81.0ms inference, 0.7ms postprocess per image at shape (1, 3, 480, 640)\n"
     ]
    },
    {
     "name": "stdout",
     "output_type": "stream",
     "text": [
      "Error: results_list is empty or contains tuples without a second element.\n"
     ]
    },
    {
     "name": "stderr",
     "output_type": "stream",
     "text": [
      "\n",
      "0: 480x640 22 cars, 3 trucks, 72.2ms\n",
      "Speed: 2.3ms preprocess, 72.2ms inference, 0.7ms postprocess per image at shape (1, 3, 480, 640)\n",
      "\n",
      "0: 480x640 2 licenses, 71.3ms\n",
      "Speed: 2.8ms preprocess, 71.3ms inference, 0.8ms postprocess per image at shape (1, 3, 480, 640)\n",
      "\n",
      "0: 480x640 21 cars, 3 trucks, 72.3ms\n",
      "Speed: 2.5ms preprocess, 72.3ms inference, 0.7ms postprocess per image at shape (1, 3, 480, 640)\n",
      "\n",
      "0: 480x640 2 licenses, 71.5ms\n",
      "Speed: 2.8ms preprocess, 71.5ms inference, 0.5ms postprocess per image at shape (1, 3, 480, 640)\n"
     ]
    },
    {
     "name": "stdout",
     "output_type": "stream",
     "text": [
      "Error: results_list is empty or contains tuples without a second element.\n"
     ]
    },
    {
     "name": "stderr",
     "output_type": "stream",
     "text": [
      "\n",
      "0: 480x640 22 cars, 3 trucks, 85.7ms\n",
      "Speed: 2.5ms preprocess, 85.7ms inference, 0.9ms postprocess per image at shape (1, 3, 480, 640)\n",
      "\n",
      "0: 480x640 2 licenses, 80.3ms\n",
      "Speed: 3.0ms preprocess, 80.3ms inference, 1.1ms postprocess per image at shape (1, 3, 480, 640)\n"
     ]
    },
    {
     "name": "stdout",
     "output_type": "stream",
     "text": [
      "Error: results_list is empty or contains tuples without a second element.\n"
     ]
    },
    {
     "name": "stderr",
     "output_type": "stream",
     "text": [
      "\n",
      "0: 480x640 22 cars, 3 trucks, 81.0ms\n",
      "Speed: 2.9ms preprocess, 81.0ms inference, 0.8ms postprocess per image at shape (1, 3, 480, 640)\n",
      "\n",
      "0: 480x640 2 licenses, 78.2ms\n",
      "Speed: 2.5ms preprocess, 78.2ms inference, 0.6ms postprocess per image at shape (1, 3, 480, 640)\n",
      "\n",
      "0: 480x640 22 cars, 3 trucks, 76.4ms\n",
      "Speed: 2.3ms preprocess, 76.4ms inference, 0.9ms postprocess per image at shape (1, 3, 480, 640)\n",
      "\n",
      "0: 480x640 2 licenses, 76.2ms\n",
      "Speed: 2.8ms preprocess, 76.2ms inference, 0.9ms postprocess per image at shape (1, 3, 480, 640)\n",
      "\n",
      "0: 480x640 23 cars, 3 trucks, 73.7ms\n",
      "Speed: 2.5ms preprocess, 73.7ms inference, 1.1ms postprocess per image at shape (1, 3, 480, 640)\n",
      "\n",
      "0: 480x640 2 licenses, 76.7ms\n",
      "Speed: 2.5ms preprocess, 76.7ms inference, 0.6ms postprocess per image at shape (1, 3, 480, 640)\n",
      "\n",
      "0: 480x640 23 cars, 3 trucks, 77.8ms\n",
      "Speed: 2.5ms preprocess, 77.8ms inference, 0.8ms postprocess per image at shape (1, 3, 480, 640)\n",
      "\n",
      "0: 480x640 2 licenses, 92.4ms\n",
      "Speed: 3.0ms preprocess, 92.4ms inference, 0.7ms postprocess per image at shape (1, 3, 480, 640)\n",
      "\n",
      "0: 480x640 21 cars, 1 bus, 4 trucks, 71.7ms\n",
      "Speed: 2.4ms preprocess, 71.7ms inference, 0.9ms postprocess per image at shape (1, 3, 480, 640)\n",
      "\n",
      "0: 480x640 2 licenses, 76.4ms\n",
      "Speed: 2.6ms preprocess, 76.4ms inference, 0.6ms postprocess per image at shape (1, 3, 480, 640)\n",
      "\n",
      "0: 480x640 21 cars, 1 bus, 4 trucks, 120.2ms\n",
      "Speed: 5.6ms preprocess, 120.2ms inference, 1.4ms postprocess per image at shape (1, 3, 480, 640)\n",
      "\n",
      "0: 480x640 2 licenses, 103.8ms\n",
      "Speed: 3.7ms preprocess, 103.8ms inference, 0.8ms postprocess per image at shape (1, 3, 480, 640)\n",
      "\n",
      "0: 480x640 20 cars, 2 trucks, 74.8ms\n",
      "Speed: 2.3ms preprocess, 74.8ms inference, 0.9ms postprocess per image at shape (1, 3, 480, 640)\n",
      "\n",
      "0: 480x640 2 licenses, 73.8ms\n",
      "Speed: 2.7ms preprocess, 73.8ms inference, 0.6ms postprocess per image at shape (1, 3, 480, 640)\n",
      "\n",
      "0: 480x640 21 cars, 2 trucks, 88.1ms\n",
      "Speed: 2.7ms preprocess, 88.1ms inference, 1.1ms postprocess per image at shape (1, 3, 480, 640)\n",
      "\n",
      "0: 480x640 2 licenses, 125.3ms\n",
      "Speed: 3.4ms preprocess, 125.3ms inference, 1.0ms postprocess per image at shape (1, 3, 480, 640)\n",
      "\n",
      "0: 480x640 21 cars, 3 trucks, 93.1ms\n",
      "Speed: 3.5ms preprocess, 93.1ms inference, 1.1ms postprocess per image at shape (1, 3, 480, 640)\n",
      "\n",
      "0: 480x640 2 licenses, 83.7ms\n",
      "Speed: 3.3ms preprocess, 83.7ms inference, 0.6ms postprocess per image at shape (1, 3, 480, 640)\n",
      "\n",
      "0: 480x640 21 cars, 3 trucks, 71.5ms\n",
      "Speed: 2.5ms preprocess, 71.5ms inference, 0.7ms postprocess per image at shape (1, 3, 480, 640)\n",
      "\n",
      "0: 480x640 2 licenses, 70.2ms\n",
      "Speed: 2.4ms preprocess, 70.2ms inference, 0.6ms postprocess per image at shape (1, 3, 480, 640)\n",
      "\n",
      "0: 480x640 22 cars, 3 trucks, 72.6ms\n",
      "Speed: 2.4ms preprocess, 72.6ms inference, 0.8ms postprocess per image at shape (1, 3, 480, 640)\n",
      "\n",
      "0: 480x640 2 licenses, 79.5ms\n",
      "Speed: 3.2ms preprocess, 79.5ms inference, 0.6ms postprocess per image at shape (1, 3, 480, 640)\n"
     ]
    },
    {
     "name": "stdout",
     "output_type": "stream",
     "text": [
      "Error: results_list is empty or contains tuples without a second element.\n"
     ]
    },
    {
     "name": "stderr",
     "output_type": "stream",
     "text": [
      "\n",
      "0: 480x640 22 cars, 3 trucks, 77.5ms\n",
      "Speed: 2.7ms preprocess, 77.5ms inference, 0.8ms postprocess per image at shape (1, 3, 480, 640)\n",
      "\n",
      "0: 480x640 2 licenses, 77.3ms\n",
      "Speed: 2.9ms preprocess, 77.3ms inference, 0.6ms postprocess per image at shape (1, 3, 480, 640)\n",
      "\n",
      "0: 480x640 24 cars, 3 trucks, 77.3ms\n",
      "Speed: 2.4ms preprocess, 77.3ms inference, 0.8ms postprocess per image at shape (1, 3, 480, 640)\n",
      "\n",
      "0: 480x640 2 licenses, 75.7ms\n",
      "Speed: 2.9ms preprocess, 75.7ms inference, 0.9ms postprocess per image at shape (1, 3, 480, 640)\n",
      "\n",
      "0: 480x640 25 cars, 3 trucks, 71.5ms\n",
      "Speed: 2.4ms preprocess, 71.5ms inference, 0.8ms postprocess per image at shape (1, 3, 480, 640)\n",
      "\n",
      "0: 480x640 2 licenses, 75.5ms\n",
      "Speed: 2.9ms preprocess, 75.5ms inference, 0.6ms postprocess per image at shape (1, 3, 480, 640)\n",
      "\n",
      "0: 480x640 23 cars, 3 trucks, 71.9ms\n",
      "Speed: 2.5ms preprocess, 71.9ms inference, 0.9ms postprocess per image at shape (1, 3, 480, 640)\n",
      "\n",
      "0: 480x640 2 licenses, 77.4ms\n",
      "Speed: 2.3ms preprocess, 77.4ms inference, 0.6ms postprocess per image at shape (1, 3, 480, 640)\n",
      "\n",
      "0: 480x640 23 cars, 3 trucks, 173.7ms\n",
      "Speed: 3.9ms preprocess, 173.7ms inference, 2.2ms postprocess per image at shape (1, 3, 480, 640)\n",
      "\n",
      "0: 480x640 2 licenses, 131.6ms\n",
      "Speed: 7.1ms preprocess, 131.6ms inference, 0.9ms postprocess per image at shape (1, 3, 480, 640)\n",
      "\n",
      "0: 480x640 26 cars, 1 bus, 3 trucks, 96.5ms\n",
      "Speed: 3.1ms preprocess, 96.5ms inference, 1.0ms postprocess per image at shape (1, 3, 480, 640)\n",
      "\n",
      "0: 480x640 2 licenses, 94.2ms\n",
      "Speed: 3.2ms preprocess, 94.2ms inference, 1.0ms postprocess per image at shape (1, 3, 480, 640)\n",
      "\n",
      "0: 480x640 25 cars, 1 bus, 3 trucks, 79.6ms\n",
      "Speed: 2.9ms preprocess, 79.6ms inference, 0.9ms postprocess per image at shape (1, 3, 480, 640)\n",
      "\n",
      "0: 480x640 2 licenses, 103.8ms\n",
      "Speed: 2.6ms preprocess, 103.8ms inference, 1.0ms postprocess per image at shape (1, 3, 480, 640)\n",
      "\n",
      "0: 480x640 23 cars, 1 bus, 3 trucks, 94.4ms\n",
      "Speed: 2.5ms preprocess, 94.4ms inference, 1.1ms postprocess per image at shape (1, 3, 480, 640)\n",
      "\n",
      "0: 480x640 2 licenses, 92.8ms\n",
      "Speed: 2.7ms preprocess, 92.8ms inference, 0.9ms postprocess per image at shape (1, 3, 480, 640)\n",
      "\n",
      "0: 480x640 24 cars, 1 bus, 3 trucks, 86.0ms\n",
      "Speed: 2.8ms preprocess, 86.0ms inference, 0.9ms postprocess per image at shape (1, 3, 480, 640)\n",
      "\n",
      "0: 480x640 2 licenses, 103.5ms\n",
      "Speed: 2.9ms preprocess, 103.5ms inference, 0.9ms postprocess per image at shape (1, 3, 480, 640)\n",
      "\n",
      "0: 480x640 21 cars, 1 bus, 2 trucks, 118.2ms\n",
      "Speed: 3.4ms preprocess, 118.2ms inference, 2.0ms postprocess per image at shape (1, 3, 480, 640)\n",
      "\n",
      "0: 480x640 3 licenses, 181.9ms\n",
      "Speed: 7.1ms preprocess, 181.9ms inference, 1.3ms postprocess per image at shape (1, 3, 480, 640)\n",
      "\n",
      "0: 480x640 21 cars, 1 bus, 2 trucks, 134.7ms\n",
      "Speed: 5.2ms preprocess, 134.7ms inference, 1.2ms postprocess per image at shape (1, 3, 480, 640)\n",
      "\n",
      "0: 480x640 3 licenses, 97.0ms\n",
      "Speed: 3.5ms preprocess, 97.0ms inference, 0.7ms postprocess per image at shape (1, 3, 480, 640)\n",
      "\n",
      "0: 480x640 22 cars, 1 bus, 2 trucks, 110.1ms\n",
      "Speed: 2.9ms preprocess, 110.1ms inference, 1.5ms postprocess per image at shape (1, 3, 480, 640)\n",
      "\n",
      "0: 480x640 3 licenses, 118.8ms\n",
      "Speed: 4.4ms preprocess, 118.8ms inference, 1.2ms postprocess per image at shape (1, 3, 480, 640)\n",
      "\n",
      "0: 480x640 21 cars, 1 bus, 2 trucks, 76.5ms\n",
      "Speed: 2.6ms preprocess, 76.5ms inference, 0.7ms postprocess per image at shape (1, 3, 480, 640)\n",
      "\n",
      "0: 480x640 3 licenses, 75.2ms\n",
      "Speed: 2.4ms preprocess, 75.2ms inference, 0.6ms postprocess per image at shape (1, 3, 480, 640)\n",
      "\n",
      "0: 480x640 22 cars, 1 bus, 2 trucks, 89.5ms\n",
      "Speed: 2.8ms preprocess, 89.5ms inference, 1.1ms postprocess per image at shape (1, 3, 480, 640)\n",
      "\n",
      "0: 480x640 2 licenses, 112.3ms\n",
      "Speed: 3.4ms preprocess, 112.3ms inference, 1.2ms postprocess per image at shape (1, 3, 480, 640)\n",
      "\n",
      "0: 480x640 21 cars, 1 bus, 2 trucks, 99.2ms\n",
      "Speed: 3.0ms preprocess, 99.2ms inference, 1.3ms postprocess per image at shape (1, 3, 480, 640)\n",
      "\n",
      "0: 480x640 2 licenses, 87.9ms\n",
      "Speed: 3.0ms preprocess, 87.9ms inference, 0.9ms postprocess per image at shape (1, 3, 480, 640)\n",
      "\n",
      "0: 480x640 20 cars, 1 bus, 3 trucks, 134.4ms\n",
      "Speed: 3.3ms preprocess, 134.4ms inference, 2.2ms postprocess per image at shape (1, 3, 480, 640)\n",
      "\n",
      "0: 480x640 2 licenses, 136.3ms\n",
      "Speed: 7.3ms preprocess, 136.3ms inference, 0.9ms postprocess per image at shape (1, 3, 480, 640)\n",
      "\n",
      "0: 480x640 21 cars, 1 bus, 3 trucks, 98.9ms\n",
      "Speed: 2.8ms preprocess, 98.9ms inference, 1.2ms postprocess per image at shape (1, 3, 480, 640)\n",
      "\n",
      "0: 480x640 2 licenses, 81.7ms\n",
      "Speed: 3.1ms preprocess, 81.7ms inference, 0.8ms postprocess per image at shape (1, 3, 480, 640)\n",
      "\n",
      "0: 480x640 25 cars, 1 bus, 3 trucks, 419.5ms\n",
      "Speed: 13.6ms preprocess, 419.5ms inference, 5.3ms postprocess per image at shape (1, 3, 480, 640)\n",
      "\n",
      "0: 480x640 2 licenses, 183.6ms\n",
      "Speed: 4.7ms preprocess, 183.6ms inference, 0.9ms postprocess per image at shape (1, 3, 480, 640)\n",
      "\n",
      "0: 480x640 25 cars, 1 bus, 3 trucks, 104.9ms\n",
      "Speed: 2.8ms preprocess, 104.9ms inference, 1.4ms postprocess per image at shape (1, 3, 480, 640)\n",
      "\n",
      "0: 480x640 2 licenses, 104.0ms\n",
      "Speed: 3.2ms preprocess, 104.0ms inference, 0.9ms postprocess per image at shape (1, 3, 480, 640)\n",
      "\n",
      "0: 480x640 23 cars, 2 buss, 4 trucks, 77.3ms\n",
      "Speed: 2.4ms preprocess, 77.3ms inference, 0.9ms postprocess per image at shape (1, 3, 480, 640)\n",
      "\n",
      "0: 480x640 2 licenses, 75.5ms\n",
      "Speed: 2.9ms preprocess, 75.5ms inference, 0.7ms postprocess per image at shape (1, 3, 480, 640)\n",
      "\n",
      "0: 480x640 22 cars, 2 buss, 4 trucks, 82.9ms\n",
      "Speed: 2.5ms preprocess, 82.9ms inference, 1.6ms postprocess per image at shape (1, 3, 480, 640)\n",
      "\n",
      "0: 480x640 2 licenses, 78.7ms\n",
      "Speed: 2.5ms preprocess, 78.7ms inference, 0.7ms postprocess per image at shape (1, 3, 480, 640)\n",
      "\n",
      "0: 480x640 23 cars, 2 buss, 3 trucks, 73.6ms\n",
      "Speed: 2.4ms preprocess, 73.6ms inference, 0.7ms postprocess per image at shape (1, 3, 480, 640)\n",
      "\n",
      "0: 480x640 2 licenses, 75.3ms\n",
      "Speed: 2.4ms preprocess, 75.3ms inference, 0.6ms postprocess per image at shape (1, 3, 480, 640)\n",
      "\n",
      "0: 480x640 23 cars, 2 buss, 3 trucks, 113.0ms\n",
      "Speed: 2.9ms preprocess, 113.0ms inference, 0.9ms postprocess per image at shape (1, 3, 480, 640)\n",
      "\n",
      "0: 480x640 2 licenses, 84.9ms\n",
      "Speed: 2.8ms preprocess, 84.9ms inference, 0.7ms postprocess per image at shape (1, 3, 480, 640)\n",
      "\n",
      "0: 480x640 23 cars, 2 buss, 3 trucks, 105.8ms\n",
      "Speed: 3.0ms preprocess, 105.8ms inference, 1.5ms postprocess per image at shape (1, 3, 480, 640)\n",
      "\n",
      "0: 480x640 2 licenses, 126.8ms\n",
      "Speed: 4.5ms preprocess, 126.8ms inference, 0.9ms postprocess per image at shape (1, 3, 480, 640)\n",
      "\n",
      "0: 480x640 23 cars, 2 buss, 3 trucks, 120.0ms\n",
      "Speed: 2.8ms preprocess, 120.0ms inference, 1.6ms postprocess per image at shape (1, 3, 480, 640)\n",
      "\n",
      "0: 480x640 2 licenses, 90.7ms\n",
      "Speed: 3.8ms preprocess, 90.7ms inference, 0.8ms postprocess per image at shape (1, 3, 480, 640)\n",
      "\n",
      "0: 480x640 22 cars, 2 buss, 1 truck, 82.2ms\n",
      "Speed: 2.9ms preprocess, 82.2ms inference, 0.8ms postprocess per image at shape (1, 3, 480, 640)\n",
      "\n",
      "0: 480x640 3 licenses, 77.5ms\n",
      "Speed: 2.9ms preprocess, 77.5ms inference, 0.9ms postprocess per image at shape (1, 3, 480, 640)\n",
      "\n",
      "0: 480x640 22 cars, 2 buss, 1 truck, 99.2ms\n",
      "Speed: 2.9ms preprocess, 99.2ms inference, 0.9ms postprocess per image at shape (1, 3, 480, 640)\n",
      "\n"
     ]
    },
    {
     "name": "stdout",
     "output_type": "stream",
     "text": [
      "Error: results_list is empty or contains tuples without a second element.\n"
     ]
    },
    {
     "name": "stderr",
     "output_type": "stream",
     "text": [
      "0: 480x640 3 licenses, 81.2ms\n",
      "Speed: 3.5ms preprocess, 81.2ms inference, 0.6ms postprocess per image at shape (1, 3, 480, 640)\n",
      "\n",
      "0: 480x640 20 cars, 2 buss, 2 trucks, 100.3ms\n",
      "Speed: 2.8ms preprocess, 100.3ms inference, 0.9ms postprocess per image at shape (1, 3, 480, 640)\n",
      "\n"
     ]
    },
    {
     "name": "stdout",
     "output_type": "stream",
     "text": [
      "Error: results_list is empty or contains tuples without a second element.\n"
     ]
    },
    {
     "name": "stderr",
     "output_type": "stream",
     "text": [
      "0: 480x640 2 licenses, 81.0ms\n",
      "Speed: 2.7ms preprocess, 81.0ms inference, 0.7ms postprocess per image at shape (1, 3, 480, 640)\n",
      "\n",
      "0: 480x640 21 cars, 2 buss, 2 trucks, 140.5ms\n",
      "Speed: 5.2ms preprocess, 140.5ms inference, 1.1ms postprocess per image at shape (1, 3, 480, 640)\n",
      "\n",
      "0: 480x640 2 licenses, 118.5ms\n",
      "Speed: 4.9ms preprocess, 118.5ms inference, 1.5ms postprocess per image at shape (1, 3, 480, 640)\n",
      "\n",
      "0: 480x640 19 cars, 2 buss, 1 truck, 107.4ms\n",
      "Speed: 5.4ms preprocess, 107.4ms inference, 1.1ms postprocess per image at shape (1, 3, 480, 640)\n",
      "\n",
      "0: 480x640 2 licenses, 97.4ms\n",
      "Speed: 3.5ms preprocess, 97.4ms inference, 0.8ms postprocess per image at shape (1, 3, 480, 640)\n",
      "\n",
      "0: 480x640 19 cars, 2 buss, 1 truck, 75.3ms\n",
      "Speed: 2.7ms preprocess, 75.3ms inference, 0.9ms postprocess per image at shape (1, 3, 480, 640)\n",
      "\n",
      "0: 480x640 2 licenses, 107.2ms\n",
      "Speed: 3.1ms preprocess, 107.2ms inference, 1.1ms postprocess per image at shape (1, 3, 480, 640)\n",
      "\n",
      "0: 480x640 18 cars, 2 buss, 109.2ms\n",
      "Speed: 3.2ms preprocess, 109.2ms inference, 1.2ms postprocess per image at shape (1, 3, 480, 640)\n",
      "\n",
      "0: 480x640 2 licenses, 106.6ms\n",
      "Speed: 3.0ms preprocess, 106.6ms inference, 0.8ms postprocess per image at shape (1, 3, 480, 640)\n"
     ]
    },
    {
     "name": "stdout",
     "output_type": "stream",
     "text": [
      "Error: results_list is empty or contains tuples without a second element.\n"
     ]
    },
    {
     "name": "stderr",
     "output_type": "stream",
     "text": [
      "\n",
      "0: 480x640 18 cars, 2 buss, 73.3ms\n",
      "Speed: 3.2ms preprocess, 73.3ms inference, 0.8ms postprocess per image at shape (1, 3, 480, 640)\n",
      "\n",
      "0: 480x640 2 licenses, 74.4ms\n",
      "Speed: 2.6ms preprocess, 74.4ms inference, 0.6ms postprocess per image at shape (1, 3, 480, 640)\n",
      "\n",
      "0: 480x640 19 cars, 2 buss, 2 trucks, 73.8ms\n",
      "Speed: 2.4ms preprocess, 73.8ms inference, 0.8ms postprocess per image at shape (1, 3, 480, 640)\n",
      "\n",
      "0: 480x640 3 licenses, 80.9ms\n",
      "Speed: 2.7ms preprocess, 80.9ms inference, 0.7ms postprocess per image at shape (1, 3, 480, 640)\n",
      "\n",
      "0: 480x640 19 cars, 2 buss, 2 trucks, 102.1ms\n",
      "Speed: 3.5ms preprocess, 102.1ms inference, 1.2ms postprocess per image at shape (1, 3, 480, 640)\n",
      "\n",
      "0: 480x640 3 licenses, 98.3ms\n",
      "Speed: 3.9ms preprocess, 98.3ms inference, 1.2ms postprocess per image at shape (1, 3, 480, 640)\n",
      "\n",
      "0: 480x640 22 cars, 2 buss, 2 trucks, 91.6ms\n",
      "Speed: 2.7ms preprocess, 91.6ms inference, 0.9ms postprocess per image at shape (1, 3, 480, 640)\n",
      "\n",
      "0: 480x640 3 licenses, 92.9ms\n",
      "Speed: 2.7ms preprocess, 92.9ms inference, 0.8ms postprocess per image at shape (1, 3, 480, 640)\n",
      "\n",
      "0: 480x640 22 cars, 2 buss, 2 trucks, 82.3ms\n",
      "Speed: 2.9ms preprocess, 82.3ms inference, 0.9ms postprocess per image at shape (1, 3, 480, 640)\n",
      "\n",
      "0: 480x640 3 licenses, 75.2ms\n",
      "Speed: 2.5ms preprocess, 75.2ms inference, 1.2ms postprocess per image at shape (1, 3, 480, 640)\n",
      "\n",
      "0: 480x640 21 cars, 2 buss, 1 truck, 198.1ms\n",
      "Speed: 6.6ms preprocess, 198.1ms inference, 2.0ms postprocess per image at shape (1, 3, 480, 640)\n",
      "\n",
      "0: 480x640 2 licenses, 121.2ms\n",
      "Speed: 9.3ms preprocess, 121.2ms inference, 0.9ms postprocess per image at shape (1, 3, 480, 640)\n",
      "\n",
      "0: 480x640 21 cars, 2 buss, 1 truck, 115.9ms\n",
      "Speed: 3.9ms preprocess, 115.9ms inference, 1.3ms postprocess per image at shape (1, 3, 480, 640)\n",
      "\n",
      "0: 480x640 2 licenses, 93.9ms\n",
      "Speed: 3.7ms preprocess, 93.9ms inference, 0.7ms postprocess per image at shape (1, 3, 480, 640)\n",
      "\n",
      "0: 480x640 21 cars, 2 buss, 2 trucks, 87.1ms\n",
      "Speed: 3.4ms preprocess, 87.1ms inference, 0.9ms postprocess per image at shape (1, 3, 480, 640)\n",
      "\n",
      "0: 480x640 2 licenses, 83.6ms\n",
      "Speed: 2.7ms preprocess, 83.6ms inference, 0.8ms postprocess per image at shape (1, 3, 480, 640)\n",
      "\n",
      "0: 480x640 21 cars, 2 buss, 3 trucks, 77.0ms\n",
      "Speed: 2.3ms preprocess, 77.0ms inference, 0.8ms postprocess per image at shape (1, 3, 480, 640)\n",
      "\n",
      "0: 480x640 2 licenses, 77.4ms\n",
      "Speed: 3.0ms preprocess, 77.4ms inference, 0.7ms postprocess per image at shape (1, 3, 480, 640)\n"
     ]
    },
    {
     "name": "stdout",
     "output_type": "stream",
     "text": [
      "Error: results_list is empty or contains tuples without a second element.\n"
     ]
    },
    {
     "name": "stderr",
     "output_type": "stream",
     "text": [
      "\n",
      "0: 480x640 21 cars, 2 buss, 2 trucks, 93.7ms\n",
      "Speed: 2.9ms preprocess, 93.7ms inference, 1.0ms postprocess per image at shape (1, 3, 480, 640)\n",
      "\n",
      "0: 480x640 3 licenses, 103.0ms\n",
      "Speed: 3.3ms preprocess, 103.0ms inference, 0.9ms postprocess per image at shape (1, 3, 480, 640)\n",
      "\n",
      "0: 480x640 21 cars, 2 buss, 2 trucks, 97.1ms\n",
      "Speed: 2.7ms preprocess, 97.1ms inference, 0.9ms postprocess per image at shape (1, 3, 480, 640)\n",
      "\n",
      "0: 480x640 2 licenses, 109.7ms\n",
      "Speed: 3.2ms preprocess, 109.7ms inference, 1.0ms postprocess per image at shape (1, 3, 480, 640)\n",
      "\n",
      "0: 480x640 19 cars, 2 buss, 3 trucks, 82.0ms\n",
      "Speed: 2.7ms preprocess, 82.0ms inference, 1.0ms postprocess per image at shape (1, 3, 480, 640)\n",
      "\n",
      "0: 480x640 2 licenses, 105.9ms\n",
      "Speed: 3.5ms preprocess, 105.9ms inference, 0.9ms postprocess per image at shape (1, 3, 480, 640)\n",
      "\n",
      "0: 480x640 19 cars, 2 buss, 3 trucks, 95.3ms\n",
      "Speed: 2.9ms preprocess, 95.3ms inference, 1.0ms postprocess per image at shape (1, 3, 480, 640)\n",
      "\n",
      "0: 480x640 2 licenses, 105.0ms\n",
      "Speed: 3.4ms preprocess, 105.0ms inference, 1.0ms postprocess per image at shape (1, 3, 480, 640)\n",
      "\n",
      "0: 480x640 19 cars, 1 bus, 2 trucks, 93.2ms\n",
      "Speed: 3.0ms preprocess, 93.2ms inference, 1.2ms postprocess per image at shape (1, 3, 480, 640)\n",
      "\n",
      "0: 480x640 2 licenses, 107.6ms\n",
      "Speed: 3.9ms preprocess, 107.6ms inference, 1.0ms postprocess per image at shape (1, 3, 480, 640)\n",
      "\n",
      "0: 480x640 19 cars, 1 bus, 2 trucks, 86.6ms\n",
      "Speed: 2.6ms preprocess, 86.6ms inference, 1.0ms postprocess per image at shape (1, 3, 480, 640)\n",
      "\n",
      "0: 480x640 2 licenses, 175.5ms\n",
      "Speed: 3.0ms preprocess, 175.5ms inference, 1.4ms postprocess per image at shape (1, 3, 480, 640)\n",
      "\n",
      "0: 480x640 20 cars, 1 bus, 2 trucks, 118.5ms\n",
      "Speed: 2.4ms preprocess, 118.5ms inference, 0.8ms postprocess per image at shape (1, 3, 480, 640)\n",
      "\n",
      "0: 480x640 2 licenses, 206.9ms\n",
      "Speed: 2.8ms preprocess, 206.9ms inference, 1.1ms postprocess per image at shape (1, 3, 480, 640)\n",
      "\n",
      "0: 480x640 20 cars, 1 bus, 2 trucks, 77.5ms\n",
      "Speed: 2.4ms preprocess, 77.5ms inference, 0.8ms postprocess per image at shape (1, 3, 480, 640)\n",
      "\n",
      "0: 480x640 2 licenses, 77.3ms\n",
      "Speed: 2.8ms preprocess, 77.3ms inference, 0.7ms postprocess per image at shape (1, 3, 480, 640)\n"
     ]
    },
    {
     "name": "stdout",
     "output_type": "stream",
     "text": [
      "Error: results_list is empty or contains tuples without a second element.\n"
     ]
    },
    {
     "name": "stderr",
     "output_type": "stream",
     "text": [
      "\n",
      "0: 480x640 21 cars, 1 bus, 2 trucks, 72.1ms\n",
      "Speed: 2.4ms preprocess, 72.1ms inference, 0.8ms postprocess per image at shape (1, 3, 480, 640)\n",
      "\n",
      "0: 480x640 2 licenses, 71.2ms\n",
      "Speed: 2.7ms preprocess, 71.2ms inference, 0.6ms postprocess per image at shape (1, 3, 480, 640)\n"
     ]
    },
    {
     "name": "stdout",
     "output_type": "stream",
     "text": [
      "Error: results_list is empty or contains tuples without a second element.\n"
     ]
    },
    {
     "name": "stderr",
     "output_type": "stream",
     "text": [
      "\n",
      "0: 480x640 21 cars, 1 bus, 2 trucks, 74.0ms\n",
      "Speed: 2.4ms preprocess, 74.0ms inference, 0.8ms postprocess per image at shape (1, 3, 480, 640)\n",
      "\n",
      "0: 480x640 2 licenses, 76.0ms\n",
      "Speed: 2.7ms preprocess, 76.0ms inference, 0.6ms postprocess per image at shape (1, 3, 480, 640)\n",
      "\n",
      "0: 480x640 21 cars, 2 buss, 3 trucks, 121.2ms\n",
      "Speed: 3.0ms preprocess, 121.2ms inference, 1.4ms postprocess per image at shape (1, 3, 480, 640)\n",
      "\n",
      "0: 480x640 2 licenses, 142.2ms\n",
      "Speed: 4.8ms preprocess, 142.2ms inference, 1.0ms postprocess per image at shape (1, 3, 480, 640)\n",
      "\n",
      "0: 480x640 20 cars, 2 buss, 3 trucks, 133.1ms\n",
      "Speed: 4.8ms preprocess, 133.1ms inference, 2.0ms postprocess per image at shape (1, 3, 480, 640)\n",
      "\n",
      "0: 480x640 2 licenses, 138.4ms\n",
      "Speed: 5.9ms preprocess, 138.4ms inference, 1.0ms postprocess per image at shape (1, 3, 480, 640)\n",
      "\n",
      "0: 480x640 21 cars, 1 bus, 3 trucks, 78.4ms\n",
      "Speed: 2.4ms preprocess, 78.4ms inference, 0.8ms postprocess per image at shape (1, 3, 480, 640)\n",
      "\n",
      "0: 480x640 2 licenses, 83.8ms\n",
      "Speed: 2.9ms preprocess, 83.8ms inference, 0.9ms postprocess per image at shape (1, 3, 480, 640)\n",
      "\n",
      "0: 480x640 21 cars, 1 bus, 2 trucks, 74.9ms\n",
      "Speed: 2.5ms preprocess, 74.9ms inference, 0.8ms postprocess per image at shape (1, 3, 480, 640)\n",
      "\n",
      "0: 480x640 2 licenses, 79.0ms\n",
      "Speed: 2.5ms preprocess, 79.0ms inference, 0.8ms postprocess per image at shape (1, 3, 480, 640)\n",
      "\n",
      "0: 480x640 19 cars, 2 buss, 2 trucks, 76.7ms\n",
      "Speed: 2.5ms preprocess, 76.7ms inference, 0.8ms postprocess per image at shape (1, 3, 480, 640)\n",
      "\n",
      "0: 480x640 2 licenses, 77.5ms\n",
      "Speed: 2.9ms preprocess, 77.5ms inference, 0.6ms postprocess per image at shape (1, 3, 480, 640)\n",
      "\n",
      "0: 480x640 20 cars, 2 buss, 2 trucks, 72.4ms\n",
      "Speed: 2.7ms preprocess, 72.4ms inference, 0.7ms postprocess per image at shape (1, 3, 480, 640)\n",
      "\n",
      "0: 480x640 2 licenses, 68.8ms\n",
      "Speed: 2.7ms preprocess, 68.8ms inference, 0.6ms postprocess per image at shape (1, 3, 480, 640)\n",
      "\n",
      "0: 480x640 19 cars, 1 bus, 2 trucks, 85.1ms\n",
      "Speed: 2.5ms preprocess, 85.1ms inference, 1.0ms postprocess per image at shape (1, 3, 480, 640)\n",
      "\n",
      "0: 480x640 2 licenses, 81.2ms\n",
      "Speed: 3.0ms preprocess, 81.2ms inference, 0.9ms postprocess per image at shape (1, 3, 480, 640)\n",
      "\n",
      "0: 480x640 19 cars, 1 bus, 2 trucks, 81.1ms\n",
      "Speed: 2.4ms preprocess, 81.1ms inference, 0.9ms postprocess per image at shape (1, 3, 480, 640)\n",
      "\n",
      "0: 480x640 2 licenses, 81.2ms\n",
      "Speed: 3.7ms preprocess, 81.2ms inference, 1.1ms postprocess per image at shape (1, 3, 480, 640)\n"
     ]
    },
    {
     "name": "stdout",
     "output_type": "stream",
     "text": [
      "Error: results_list is empty or contains tuples without a second element.\n"
     ]
    },
    {
     "name": "stderr",
     "output_type": "stream",
     "text": [
      "\n",
      "0: 480x640 21 cars, 1 bus, 3 trucks, 100.9ms\n",
      "Speed: 3.1ms preprocess, 100.9ms inference, 1.1ms postprocess per image at shape (1, 3, 480, 640)\n",
      "\n"
     ]
    },
    {
     "name": "stdout",
     "output_type": "stream",
     "text": [
      "Error: results_list is empty or contains tuples without a second element.\n"
     ]
    },
    {
     "name": "stderr",
     "output_type": "stream",
     "text": [
      "0: 480x640 2 licenses, 96.9ms\n",
      "Speed: 3.3ms preprocess, 96.9ms inference, 1.0ms postprocess per image at shape (1, 3, 480, 640)\n",
      "\n",
      "0: 480x640 21 cars, 1 bus, 4 trucks, 92.5ms\n",
      "Speed: 2.8ms preprocess, 92.5ms inference, 1.4ms postprocess per image at shape (1, 3, 480, 640)\n",
      "\n",
      "0: 480x640 2 licenses, 103.4ms\n",
      "Speed: 3.9ms preprocess, 103.4ms inference, 1.1ms postprocess per image at shape (1, 3, 480, 640)\n",
      "\n",
      "0: 480x640 22 cars, 2 buss, 4 trucks, 94.7ms\n",
      "Speed: 3.4ms preprocess, 94.7ms inference, 1.2ms postprocess per image at shape (1, 3, 480, 640)\n",
      "\n",
      "0: 480x640 2 licenses, 148.3ms\n",
      "Speed: 3.8ms preprocess, 148.3ms inference, 1.0ms postprocess per image at shape (1, 3, 480, 640)\n",
      "\n",
      "0: 480x640 21 cars, 2 buss, 4 trucks, 203.8ms\n",
      "Speed: 5.6ms preprocess, 203.8ms inference, 3.5ms postprocess per image at shape (1, 3, 480, 640)\n",
      "\n",
      "0: 480x640 2 licenses, 181.3ms\n",
      "Speed: 4.5ms preprocess, 181.3ms inference, 1.3ms postprocess per image at shape (1, 3, 480, 640)\n"
     ]
    },
    {
     "name": "stdout",
     "output_type": "stream",
     "text": [
      "Error: results_list is empty or contains tuples without a second element.\n"
     ]
    },
    {
     "name": "stderr",
     "output_type": "stream",
     "text": [
      "\n",
      "0: 480x640 17 cars, 1 bus, 4 trucks, 86.1ms\n",
      "Speed: 2.8ms preprocess, 86.1ms inference, 1.0ms postprocess per image at shape (1, 3, 480, 640)\n",
      "\n",
      "0: 480x640 2 licenses, 92.9ms\n",
      "Speed: 3.7ms preprocess, 92.9ms inference, 0.7ms postprocess per image at shape (1, 3, 480, 640)\n",
      "\n",
      "0: 480x640 17 cars, 1 bus, 4 trucks, 141.7ms\n",
      "Speed: 4.2ms preprocess, 141.7ms inference, 1.3ms postprocess per image at shape (1, 3, 480, 640)\n",
      "\n",
      "0: 480x640 2 licenses, 200.4ms\n",
      "Speed: 6.5ms preprocess, 200.4ms inference, 1.4ms postprocess per image at shape (1, 3, 480, 640)\n",
      "\n",
      "0: 480x640 18 cars, 2 buss, 4 trucks, 208.3ms\n",
      "Speed: 5.1ms preprocess, 208.3ms inference, 1.6ms postprocess per image at shape (1, 3, 480, 640)\n",
      "\n",
      "0: 480x640 2 licenses, 198.9ms\n",
      "Speed: 11.9ms preprocess, 198.9ms inference, 1.4ms postprocess per image at shape (1, 3, 480, 640)\n",
      "\n",
      "0: 480x640 18 cars, 2 buss, 4 trucks, 136.6ms\n",
      "Speed: 4.3ms preprocess, 136.6ms inference, 1.5ms postprocess per image at shape (1, 3, 480, 640)\n",
      "\n",
      "0: 480x640 2 licenses, 176.3ms\n",
      "Speed: 7.6ms preprocess, 176.3ms inference, 1.0ms postprocess per image at shape (1, 3, 480, 640)\n",
      "\n",
      "0: 480x640 18 cars, 1 bus, 4 trucks, 155.5ms\n",
      "Speed: 9.0ms preprocess, 155.5ms inference, 1.5ms postprocess per image at shape (1, 3, 480, 640)\n",
      "\n",
      "0: 480x640 2 licenses, 201.4ms\n",
      "Speed: 5.7ms preprocess, 201.4ms inference, 1.3ms postprocess per image at shape (1, 3, 480, 640)\n",
      "\n",
      "0: 480x640 18 cars, 1 bus, 3 trucks, 151.1ms\n",
      "Speed: 4.0ms preprocess, 151.1ms inference, 1.6ms postprocess per image at shape (1, 3, 480, 640)\n",
      "\n",
      "0: 480x640 2 licenses, 149.3ms\n",
      "Speed: 4.3ms preprocess, 149.3ms inference, 1.0ms postprocess per image at shape (1, 3, 480, 640)\n",
      "\n",
      "0: 480x640 19 cars, 1 bus, 4 trucks, 117.8ms\n",
      "Speed: 3.7ms preprocess, 117.8ms inference, 1.4ms postprocess per image at shape (1, 3, 480, 640)\n",
      "\n",
      "0: 480x640 2 licenses, 132.0ms\n",
      "Speed: 4.3ms preprocess, 132.0ms inference, 1.1ms postprocess per image at shape (1, 3, 480, 640)\n",
      "\n",
      "0: 480x640 20 cars, 1 bus, 4 trucks, 99.5ms\n",
      "Speed: 3.6ms preprocess, 99.5ms inference, 1.4ms postprocess per image at shape (1, 3, 480, 640)\n",
      "\n",
      "0: 480x640 2 licenses, 107.0ms\n",
      "Speed: 3.5ms preprocess, 107.0ms inference, 1.1ms postprocess per image at shape (1, 3, 480, 640)\n",
      "\n",
      "0: 480x640 17 cars, 1 bus, 4 trucks, 79.2ms\n",
      "Speed: 3.0ms preprocess, 79.2ms inference, 0.8ms postprocess per image at shape (1, 3, 480, 640)\n",
      "\n",
      "0: 480x640 2 licenses, 75.1ms\n",
      "Speed: 2.9ms preprocess, 75.1ms inference, 0.7ms postprocess per image at shape (1, 3, 480, 640)\n",
      "\n",
      "0: 480x640 17 cars, 1 bus, 4 trucks, 80.0ms\n",
      "Speed: 2.9ms preprocess, 80.0ms inference, 0.9ms postprocess per image at shape (1, 3, 480, 640)\n",
      "\n",
      "0: 480x640 2 licenses, 88.4ms\n",
      "Speed: 2.9ms preprocess, 88.4ms inference, 0.8ms postprocess per image at shape (1, 3, 480, 640)\n",
      "\n",
      "0: 480x640 18 cars, 1 bus, 2 trucks, 73.8ms\n",
      "Speed: 2.6ms preprocess, 73.8ms inference, 0.8ms postprocess per image at shape (1, 3, 480, 640)\n",
      "\n",
      "0: 480x640 1 license, 77.8ms\n",
      "Speed: 3.0ms preprocess, 77.8ms inference, 0.6ms postprocess per image at shape (1, 3, 480, 640)\n",
      "\n",
      "0: 480x640 17 cars, 1 bus, 2 trucks, 80.3ms\n",
      "Speed: 2.8ms preprocess, 80.3ms inference, 0.8ms postprocess per image at shape (1, 3, 480, 640)\n",
      "\n",
      "0: 480x640 1 license, 77.6ms\n",
      "Speed: 3.0ms preprocess, 77.6ms inference, 0.6ms postprocess per image at shape (1, 3, 480, 640)\n",
      "\n",
      "0: 480x640 19 cars, 1 bus, 3 trucks, 76.6ms\n",
      "Speed: 2.4ms preprocess, 76.6ms inference, 0.8ms postprocess per image at shape (1, 3, 480, 640)\n",
      "\n",
      "0: 480x640 2 licenses, 77.8ms\n",
      "Speed: 2.7ms preprocess, 77.8ms inference, 0.6ms postprocess per image at shape (1, 3, 480, 640)\n",
      "\n",
      "0: 480x640 19 cars, 1 bus, 2 trucks, 81.2ms\n",
      "Speed: 2.5ms preprocess, 81.2ms inference, 0.9ms postprocess per image at shape (1, 3, 480, 640)\n",
      "\n",
      "0: 480x640 2 licenses, 109.2ms\n",
      "Speed: 3.4ms preprocess, 109.2ms inference, 1.3ms postprocess per image at shape (1, 3, 480, 640)\n",
      "\n",
      "0: 480x640 20 cars, 1 bus, 2 trucks, 134.6ms\n",
      "Speed: 4.5ms preprocess, 134.6ms inference, 1.4ms postprocess per image at shape (1, 3, 480, 640)\n",
      "\n",
      "0: 480x640 3 licenses, 121.7ms\n",
      "Speed: 4.8ms preprocess, 121.7ms inference, 0.9ms postprocess per image at shape (1, 3, 480, 640)\n",
      "\n",
      "0: 480x640 20 cars, 1 bus, 2 trucks, 74.8ms\n",
      "Speed: 2.6ms preprocess, 74.8ms inference, 0.9ms postprocess per image at shape (1, 3, 480, 640)\n",
      "\n",
      "0: 480x640 3 licenses, 77.8ms\n",
      "Speed: 2.8ms preprocess, 77.8ms inference, 0.7ms postprocess per image at shape (1, 3, 480, 640)\n",
      "\n",
      "0: 480x640 19 cars, 1 bus, 2 trucks, 78.6ms\n",
      "Speed: 2.4ms preprocess, 78.6ms inference, 0.9ms postprocess per image at shape (1, 3, 480, 640)\n",
      "\n",
      "0: 480x640 2 licenses, 78.3ms\n",
      "Speed: 2.9ms preprocess, 78.3ms inference, 0.9ms postprocess per image at shape (1, 3, 480, 640)\n",
      "\n",
      "0: 480x640 19 cars, 1 bus, 2 trucks, 94.0ms\n",
      "Speed: 3.0ms preprocess, 94.0ms inference, 1.1ms postprocess per image at shape (1, 3, 480, 640)\n",
      "\n",
      "0: 480x640 2 licenses, 93.5ms\n",
      "Speed: 3.6ms preprocess, 93.5ms inference, 1.0ms postprocess per image at shape (1, 3, 480, 640)\n",
      "\n",
      "0: 480x640 21 cars, 1 bus, 2 trucks, 71.1ms\n",
      "Speed: 2.4ms preprocess, 71.1ms inference, 0.7ms postprocess per image at shape (1, 3, 480, 640)\n",
      "\n",
      "0: 480x640 1 license, 75.9ms\n",
      "Speed: 3.0ms preprocess, 75.9ms inference, 0.6ms postprocess per image at shape (1, 3, 480, 640)\n",
      "\n",
      "0: 480x640 20 cars, 1 bus, 3 trucks, 78.9ms\n",
      "Speed: 2.6ms preprocess, 78.9ms inference, 0.8ms postprocess per image at shape (1, 3, 480, 640)\n",
      "\n",
      "0: 480x640 1 license, 75.9ms\n",
      "Speed: 2.8ms preprocess, 75.9ms inference, 0.6ms postprocess per image at shape (1, 3, 480, 640)\n",
      "\n",
      "0: 480x640 19 cars, 1 bus, 2 trucks, 78.5ms\n",
      "Speed: 2.7ms preprocess, 78.5ms inference, 1.1ms postprocess per image at shape (1, 3, 480, 640)\n",
      "\n",
      "0: 480x640 2 licenses, 78.1ms\n",
      "Speed: 3.0ms preprocess, 78.1ms inference, 0.6ms postprocess per image at shape (1, 3, 480, 640)\n",
      "\n",
      "0: 480x640 19 cars, 1 bus, 2 trucks, 79.3ms\n",
      "Speed: 2.6ms preprocess, 79.3ms inference, 0.8ms postprocess per image at shape (1, 3, 480, 640)\n",
      "\n",
      "0: 480x640 2 licenses, 77.9ms\n",
      "Speed: 2.8ms preprocess, 77.9ms inference, 0.5ms postprocess per image at shape (1, 3, 480, 640)\n",
      "\n",
      "0: 480x640 19 cars, 1 bus, 2 trucks, 77.3ms\n",
      "Speed: 2.4ms preprocess, 77.3ms inference, 0.8ms postprocess per image at shape (1, 3, 480, 640)\n",
      "\n",
      "0: 480x640 1 license, 74.7ms\n",
      "Speed: 2.7ms preprocess, 74.7ms inference, 0.7ms postprocess per image at shape (1, 3, 480, 640)\n",
      "\n",
      "0: 480x640 19 cars, 1 bus, 2 trucks, 81.5ms\n",
      "Speed: 3.1ms preprocess, 81.5ms inference, 0.9ms postprocess per image at shape (1, 3, 480, 640)\n",
      "\n",
      "0: 480x640 1 license, 76.9ms\n",
      "Speed: 3.1ms preprocess, 76.9ms inference, 0.7ms postprocess per image at shape (1, 3, 480, 640)\n",
      "\n",
      "0: 480x640 19 cars, 1 bus, 2 trucks, 77.4ms\n",
      "Speed: 2.4ms preprocess, 77.4ms inference, 0.9ms postprocess per image at shape (1, 3, 480, 640)\n",
      "\n",
      "0: 480x640 1 license, 76.1ms\n",
      "Speed: 2.9ms preprocess, 76.1ms inference, 0.7ms postprocess per image at shape (1, 3, 480, 640)\n",
      "\n",
      "0: 480x640 19 cars, 1 bus, 2 trucks, 76.2ms\n",
      "Speed: 2.4ms preprocess, 76.2ms inference, 0.8ms postprocess per image at shape (1, 3, 480, 640)\n",
      "\n",
      "0: 480x640 1 license, 76.6ms\n",
      "Speed: 3.0ms preprocess, 76.6ms inference, 0.6ms postprocess per image at shape (1, 3, 480, 640)\n",
      "\n",
      "0: 480x640 19 cars, 1 bus, 3 trucks, 81.2ms\n",
      "Speed: 2.8ms preprocess, 81.2ms inference, 1.0ms postprocess per image at shape (1, 3, 480, 640)\n",
      "\n",
      "0: 480x640 1 license, 78.0ms\n",
      "Speed: 2.6ms preprocess, 78.0ms inference, 0.7ms postprocess per image at shape (1, 3, 480, 640)\n",
      "\n",
      "0: 480x640 19 cars, 1 bus, 3 trucks, 85.3ms\n",
      "Speed: 2.8ms preprocess, 85.3ms inference, 0.8ms postprocess per image at shape (1, 3, 480, 640)\n",
      "\n",
      "0: 480x640 1 license, 83.7ms\n",
      "Speed: 2.6ms preprocess, 83.7ms inference, 0.8ms postprocess per image at shape (1, 3, 480, 640)\n",
      "\n",
      "0: 480x640 19 cars, 1 bus, 1 truck, 95.9ms\n",
      "Speed: 2.9ms preprocess, 95.9ms inference, 1.3ms postprocess per image at shape (1, 3, 480, 640)\n",
      "\n",
      "0: 480x640 1 license, 91.1ms\n",
      "Speed: 3.7ms preprocess, 91.1ms inference, 0.8ms postprocess per image at shape (1, 3, 480, 640)\n",
      "\n",
      "0: 480x640 19 cars, 1 bus, 1 truck, 83.6ms\n",
      "Speed: 2.7ms preprocess, 83.6ms inference, 0.8ms postprocess per image at shape (1, 3, 480, 640)\n",
      "\n",
      "0: 480x640 1 license, 81.5ms\n",
      "Speed: 3.0ms preprocess, 81.5ms inference, 0.7ms postprocess per image at shape (1, 3, 480, 640)\n",
      "\n",
      "0: 480x640 19 cars, 1 bus, 2 trucks, 116.6ms\n",
      "Speed: 3.8ms preprocess, 116.6ms inference, 1.3ms postprocess per image at shape (1, 3, 480, 640)\n",
      "\n",
      "0: 480x640 2 licenses, 130.3ms\n",
      "Speed: 6.3ms preprocess, 130.3ms inference, 1.0ms postprocess per image at shape (1, 3, 480, 640)\n",
      "\n",
      "0: 480x640 19 cars, 1 bus, 2 trucks, 86.6ms\n",
      "Speed: 2.7ms preprocess, 86.6ms inference, 0.9ms postprocess per image at shape (1, 3, 480, 640)\n",
      "\n",
      "0: 480x640 2 licenses, 88.8ms\n",
      "Speed: 2.7ms preprocess, 88.8ms inference, 0.7ms postprocess per image at shape (1, 3, 480, 640)\n",
      "\n",
      "0: 480x640 22 cars, 1 bus, 2 trucks, 81.3ms\n",
      "Speed: 2.9ms preprocess, 81.3ms inference, 0.8ms postprocess per image at shape (1, 3, 480, 640)\n",
      "\n",
      "0: 480x640 1 license, 110.9ms\n",
      "Speed: 3.1ms preprocess, 110.9ms inference, 1.2ms postprocess per image at shape (1, 3, 480, 640)\n",
      "\n",
      "0: 480x640 22 cars, 1 bus, 2 trucks, 74.5ms\n",
      "Speed: 2.5ms preprocess, 74.5ms inference, 1.2ms postprocess per image at shape (1, 3, 480, 640)\n",
      "\n",
      "0: 480x640 1 license, 81.4ms\n",
      "Speed: 3.2ms preprocess, 81.4ms inference, 0.8ms postprocess per image at shape (1, 3, 480, 640)\n",
      "\n",
      "0: 480x640 22 cars, 1 bus, 2 trucks, 79.8ms\n",
      "Speed: 3.5ms preprocess, 79.8ms inference, 0.8ms postprocess per image at shape (1, 3, 480, 640)\n",
      "\n",
      "0: 480x640 1 license, 80.5ms\n",
      "Speed: 2.9ms preprocess, 80.5ms inference, 0.6ms postprocess per image at shape (1, 3, 480, 640)\n",
      "\n",
      "0: 480x640 22 cars, 1 bus, 1 truck, 77.5ms\n",
      "Speed: 2.6ms preprocess, 77.5ms inference, 0.9ms postprocess per image at shape (1, 3, 480, 640)\n",
      "\n",
      "0: 480x640 1 license, 75.4ms\n",
      "Speed: 3.0ms preprocess, 75.4ms inference, 0.6ms postprocess per image at shape (1, 3, 480, 640)\n",
      "\n",
      "0: 480x640 22 cars, 1 bus, 2 trucks, 92.7ms\n",
      "Speed: 3.0ms preprocess, 92.7ms inference, 1.0ms postprocess per image at shape (1, 3, 480, 640)\n",
      "\n",
      "0: 480x640 1 license, 95.2ms\n",
      "Speed: 3.4ms preprocess, 95.2ms inference, 0.8ms postprocess per image at shape (1, 3, 480, 640)\n",
      "\n",
      "0: 480x640 22 cars, 1 bus, 2 trucks, 72.1ms\n",
      "Speed: 2.6ms preprocess, 72.1ms inference, 0.7ms postprocess per image at shape (1, 3, 480, 640)\n",
      "\n",
      "0: 480x640 1 license, 88.0ms\n",
      "Speed: 3.6ms preprocess, 88.0ms inference, 0.9ms postprocess per image at shape (1, 3, 480, 640)\n",
      "\n",
      "0: 480x640 22 cars, 1 bus, 2 trucks, 78.9ms\n",
      "Speed: 3.0ms preprocess, 78.9ms inference, 0.9ms postprocess per image at shape (1, 3, 480, 640)\n",
      "\n",
      "0: 480x640 1 license, 86.9ms\n",
      "Speed: 2.9ms preprocess, 86.9ms inference, 1.0ms postprocess per image at shape (1, 3, 480, 640)\n",
      "\n",
      "0: 480x640 22 cars, 2 buss, 2 trucks, 85.7ms\n",
      "Speed: 3.4ms preprocess, 85.7ms inference, 1.1ms postprocess per image at shape (1, 3, 480, 640)\n",
      "\n",
      "0: 480x640 1 license, 85.4ms\n",
      "Speed: 2.4ms preprocess, 85.4ms inference, 0.7ms postprocess per image at shape (1, 3, 480, 640)\n",
      "\n",
      "0: 480x640 23 cars, 1 bus, 2 trucks, 83.2ms\n",
      "Speed: 2.6ms preprocess, 83.2ms inference, 0.9ms postprocess per image at shape (1, 3, 480, 640)\n",
      "\n",
      "0: 480x640 1 license, 77.5ms\n",
      "Speed: 2.9ms preprocess, 77.5ms inference, 0.6ms postprocess per image at shape (1, 3, 480, 640)\n",
      "\n",
      "0: 480x640 23 cars, 1 bus, 2 trucks, 81.0ms\n",
      "Speed: 2.7ms preprocess, 81.0ms inference, 0.9ms postprocess per image at shape (1, 3, 480, 640)\n",
      "\n",
      "0: 480x640 1 license, 81.4ms\n",
      "Speed: 2.8ms preprocess, 81.4ms inference, 0.6ms postprocess per image at shape (1, 3, 480, 640)\n"
     ]
    },
    {
     "name": "stdout",
     "output_type": "stream",
     "text": [
      "Error: results_list is empty or contains tuples without a second element.\n"
     ]
    },
    {
     "name": "stderr",
     "output_type": "stream",
     "text": [
      "\n",
      "0: 480x640 23 cars, 2 buss, 1 truck, 89.4ms\n",
      "Speed: 3.0ms preprocess, 89.4ms inference, 0.9ms postprocess per image at shape (1, 3, 480, 640)\n",
      "\n",
      "0: 480x640 1 license, 82.5ms\n",
      "Speed: 2.9ms preprocess, 82.5ms inference, 0.6ms postprocess per image at shape (1, 3, 480, 640)\n"
     ]
    },
    {
     "name": "stdout",
     "output_type": "stream",
     "text": [
      "Error: results_list is empty or contains tuples without a second element.\n"
     ]
    },
    {
     "name": "stderr",
     "output_type": "stream",
     "text": [
      "\n",
      "0: 480x640 24 cars, 2 buss, 1 truck, 89.6ms\n",
      "Speed: 2.6ms preprocess, 89.6ms inference, 1.0ms postprocess per image at shape (1, 3, 480, 640)\n",
      "\n",
      "0: 480x640 1 license, 83.9ms\n",
      "Speed: 3.2ms preprocess, 83.9ms inference, 0.8ms postprocess per image at shape (1, 3, 480, 640)\n",
      "\n",
      "0: 480x640 25 cars, 2 buss, 2 trucks, 77.6ms\n",
      "Speed: 2.5ms preprocess, 77.6ms inference, 0.9ms postprocess per image at shape (1, 3, 480, 640)\n",
      "\n",
      "0: 480x640 2 licenses, 75.7ms\n",
      "Speed: 2.4ms preprocess, 75.7ms inference, 0.6ms postprocess per image at shape (1, 3, 480, 640)\n",
      "\n",
      "0: 480x640 25 cars, 2 buss, 1 truck, 86.8ms\n",
      "Speed: 2.4ms preprocess, 86.8ms inference, 1.0ms postprocess per image at shape (1, 3, 480, 640)\n",
      "\n",
      "0: 480x640 2 licenses, 85.7ms\n",
      "Speed: 2.7ms preprocess, 85.7ms inference, 0.7ms postprocess per image at shape (1, 3, 480, 640)\n",
      "\n",
      "0: 480x640 26 cars, 2 buss, 3 trucks, 104.1ms\n",
      "Speed: 2.9ms preprocess, 104.1ms inference, 1.3ms postprocess per image at shape (1, 3, 480, 640)\n",
      "\n",
      "0: 480x640 2 licenses, 158.4ms\n",
      "Speed: 3.6ms preprocess, 158.4ms inference, 3.6ms postprocess per image at shape (1, 3, 480, 640)\n",
      "\n",
      "0: 480x640 26 cars, 2 buss, 3 trucks, 93.5ms\n",
      "Speed: 2.8ms preprocess, 93.5ms inference, 1.2ms postprocess per image at shape (1, 3, 480, 640)\n",
      "\n"
     ]
    },
    {
     "name": "stdout",
     "output_type": "stream",
     "text": [
      "Error: results_list is empty or contains tuples without a second element.\n"
     ]
    },
    {
     "name": "stderr",
     "output_type": "stream",
     "text": [
      "0: 480x640 2 licenses, 220.7ms\n",
      "Speed: 2.9ms preprocess, 220.7ms inference, 1.9ms postprocess per image at shape (1, 3, 480, 640)\n",
      "\n",
      "0: 480x640 25 cars, 2 buss, 3 trucks, 143.3ms\n",
      "Speed: 3.4ms preprocess, 143.3ms inference, 1.6ms postprocess per image at shape (1, 3, 480, 640)\n",
      "\n"
     ]
    },
    {
     "name": "stdout",
     "output_type": "stream",
     "text": [
      "Error: results_list is empty or contains tuples without a second element.\n"
     ]
    },
    {
     "name": "stderr",
     "output_type": "stream",
     "text": [
      "0: 480x640 1 license, 125.4ms\n",
      "Speed: 3.7ms preprocess, 125.4ms inference, 0.8ms postprocess per image at shape (1, 3, 480, 640)\n",
      "\n",
      "0: 480x640 26 cars, 2 buss, 2 trucks, 89.3ms\n",
      "Speed: 2.7ms preprocess, 89.3ms inference, 0.9ms postprocess per image at shape (1, 3, 480, 640)\n",
      "\n",
      "0: 480x640 1 license, 90.8ms\n",
      "Speed: 2.8ms preprocess, 90.8ms inference, 0.7ms postprocess per image at shape (1, 3, 480, 640)\n",
      "\n",
      "0: 480x640 27 cars, 2 buss, 2 trucks, 155.1ms\n",
      "Speed: 3.3ms preprocess, 155.1ms inference, 1.7ms postprocess per image at shape (1, 3, 480, 640)\n",
      "\n",
      "0: 480x640 1 license, 125.1ms\n",
      "Speed: 5.3ms preprocess, 125.1ms inference, 0.8ms postprocess per image at shape (1, 3, 480, 640)\n",
      "\n",
      "0: 480x640 26 cars, 2 buss, 2 trucks, 117.9ms\n",
      "Speed: 3.0ms preprocess, 117.9ms inference, 1.4ms postprocess per image at shape (1, 3, 480, 640)\n",
      "\n",
      "0: 480x640 1 license, 188.6ms\n",
      "Speed: 4.0ms preprocess, 188.6ms inference, 2.2ms postprocess per image at shape (1, 3, 480, 640)\n",
      "\n",
      "0: 480x640 25 cars, 2 buss, 2 trucks, 98.0ms\n",
      "Speed: 3.1ms preprocess, 98.0ms inference, 0.9ms postprocess per image at shape (1, 3, 480, 640)\n",
      "\n",
      "0: 480x640 2 licenses, 85.1ms\n",
      "Speed: 2.7ms preprocess, 85.1ms inference, 0.6ms postprocess per image at shape (1, 3, 480, 640)\n",
      "\n",
      "0: 480x640 25 cars, 2 buss, 2 trucks, 118.0ms\n",
      "Speed: 13.2ms preprocess, 118.0ms inference, 1.2ms postprocess per image at shape (1, 3, 480, 640)\n",
      "\n",
      "0: 480x640 2 licenses, 116.1ms\n",
      "Speed: 3.2ms preprocess, 116.1ms inference, 0.8ms postprocess per image at shape (1, 3, 480, 640)\n",
      "\n",
      "0: 480x640 26 cars, 2 buss, 2 trucks, 82.9ms\n",
      "Speed: 2.6ms preprocess, 82.9ms inference, 0.9ms postprocess per image at shape (1, 3, 480, 640)\n",
      "\n",
      "0: 480x640 1 license, 87.7ms\n",
      "Speed: 2.4ms preprocess, 87.7ms inference, 0.7ms postprocess per image at shape (1, 3, 480, 640)\n",
      "\n",
      "0: 480x640 26 cars, 2 buss, 2 trucks, 105.1ms\n",
      "Speed: 2.8ms preprocess, 105.1ms inference, 1.1ms postprocess per image at shape (1, 3, 480, 640)\n",
      "\n",
      "0: 480x640 1 license, 89.0ms\n",
      "Speed: 4.4ms preprocess, 89.0ms inference, 0.8ms postprocess per image at shape (1, 3, 480, 640)\n",
      "\n",
      "0: 480x640 25 cars, 2 buss, 2 trucks, 109.0ms\n",
      "Speed: 2.6ms preprocess, 109.0ms inference, 2.6ms postprocess per image at shape (1, 3, 480, 640)\n",
      "\n",
      "0: 480x640 3 licenses, 96.6ms\n",
      "Speed: 3.0ms preprocess, 96.6ms inference, 0.8ms postprocess per image at shape (1, 3, 480, 640)\n",
      "\n",
      "0: 480x640 25 cars, 2 buss, 2 trucks, 95.7ms\n",
      "Speed: 2.8ms preprocess, 95.7ms inference, 1.9ms postprocess per image at shape (1, 3, 480, 640)\n",
      "\n",
      "0: 480x640 3 licenses, 127.7ms\n",
      "Speed: 2.9ms preprocess, 127.7ms inference, 1.5ms postprocess per image at shape (1, 3, 480, 640)\n"
     ]
    },
    {
     "name": "stdout",
     "output_type": "stream",
     "text": [
      "Error: results_list is empty or contains tuples without a second element.\n"
     ]
    },
    {
     "name": "stderr",
     "output_type": "stream",
     "text": [
      "\n",
      "0: 480x640 24 cars, 2 buss, 3 trucks, 141.2ms\n",
      "Speed: 3.4ms preprocess, 141.2ms inference, 1.6ms postprocess per image at shape (1, 3, 480, 640)\n",
      "\n",
      "0: 480x640 1 license, 126.5ms\n",
      "Speed: 3.8ms preprocess, 126.5ms inference, 0.8ms postprocess per image at shape (1, 3, 480, 640)\n",
      "\n",
      "0: 480x640 24 cars, 1 bus, 3 trucks, 105.1ms\n",
      "Speed: 3.0ms preprocess, 105.1ms inference, 1.0ms postprocess per image at shape (1, 3, 480, 640)\n",
      "\n",
      "0: 480x640 1 license, 268.2ms\n",
      "Speed: 3.0ms preprocess, 268.2ms inference, 1.9ms postprocess per image at shape (1, 3, 480, 640)\n",
      "\n",
      "0: 480x640 25 cars, 2 buss, 2 trucks, 101.1ms\n",
      "Speed: 3.5ms preprocess, 101.1ms inference, 0.9ms postprocess per image at shape (1, 3, 480, 640)\n",
      "\n",
      "0: 480x640 1 license, 85.7ms\n",
      "Speed: 2.9ms preprocess, 85.7ms inference, 0.8ms postprocess per image at shape (1, 3, 480, 640)\n",
      "\n",
      "0: 480x640 24 cars, 2 buss, 2 trucks, 87.1ms\n",
      "Speed: 3.1ms preprocess, 87.1ms inference, 1.1ms postprocess per image at shape (1, 3, 480, 640)\n",
      "\n",
      "0: 480x640 2 licenses, 72.4ms\n",
      "Speed: 2.8ms preprocess, 72.4ms inference, 0.6ms postprocess per image at shape (1, 3, 480, 640)\n",
      "\n",
      "0: 480x640 25 cars, 2 buss, 2 trucks, 116.8ms\n",
      "Speed: 3.1ms preprocess, 116.8ms inference, 1.3ms postprocess per image at shape (1, 3, 480, 640)\n",
      "\n",
      "0: 480x640 1 license, 232.2ms\n",
      "Speed: 3.5ms preprocess, 232.2ms inference, 1.9ms postprocess per image at shape (1, 3, 480, 640)\n",
      "\n",
      "0: 480x640 25 cars, 2 buss, 2 trucks, 103.3ms\n",
      "Speed: 3.0ms preprocess, 103.3ms inference, 1.4ms postprocess per image at shape (1, 3, 480, 640)\n",
      "\n",
      "0: 480x640 1 license, 95.7ms\n",
      "Speed: 2.6ms preprocess, 95.7ms inference, 0.9ms postprocess per image at shape (1, 3, 480, 640)\n",
      "\n",
      "0: 480x640 28 cars, 1 bus, 2 trucks, 87.3ms\n",
      "Speed: 3.8ms preprocess, 87.3ms inference, 1.0ms postprocess per image at shape (1, 3, 480, 640)\n",
      "\n",
      "0: 480x640 3 licenses, 83.4ms\n",
      "Speed: 3.0ms preprocess, 83.4ms inference, 0.7ms postprocess per image at shape (1, 3, 480, 640)\n",
      "\n",
      "0: 480x640 28 cars, 1 bus, 2 trucks, 153.4ms\n",
      "Speed: 3.8ms preprocess, 153.4ms inference, 4.2ms postprocess per image at shape (1, 3, 480, 640)\n",
      "\n"
     ]
    },
    {
     "name": "stdout",
     "output_type": "stream",
     "text": [
      "Error: results_list is empty or contains tuples without a second element.\n"
     ]
    },
    {
     "name": "stderr",
     "output_type": "stream",
     "text": [
      "0: 480x640 3 licenses, 142.0ms\n",
      "Speed: 6.5ms preprocess, 142.0ms inference, 1.0ms postprocess per image at shape (1, 3, 480, 640)\n",
      "\n",
      "0: 480x640 28 cars, 1 bus, 2 trucks, 125.4ms\n",
      "Speed: 2.8ms preprocess, 125.4ms inference, 1.4ms postprocess per image at shape (1, 3, 480, 640)\n",
      "\n"
     ]
    },
    {
     "name": "stdout",
     "output_type": "stream",
     "text": [
      "Error: results_list is empty or contains tuples without a second element.\n"
     ]
    },
    {
     "name": "stderr",
     "output_type": "stream",
     "text": [
      "0: 480x640 2 licenses, 121.3ms\n",
      "Speed: 3.5ms preprocess, 121.3ms inference, 0.8ms postprocess per image at shape (1, 3, 480, 640)\n",
      "\n",
      "0: 480x640 28 cars, 1 bus, 2 trucks, 105.0ms\n",
      "Speed: 2.7ms preprocess, 105.0ms inference, 1.2ms postprocess per image at shape (1, 3, 480, 640)\n",
      "\n",
      "0: 480x640 2 licenses, 131.6ms\n",
      "Speed: 4.7ms preprocess, 131.6ms inference, 1.6ms postprocess per image at shape (1, 3, 480, 640)\n",
      "\n",
      "0: 480x640 28 cars, 1 bus, 2 trucks, 92.4ms\n",
      "Speed: 2.8ms preprocess, 92.4ms inference, 1.0ms postprocess per image at shape (1, 3, 480, 640)\n",
      "\n",
      "0: 480x640 2 licenses, 92.1ms\n",
      "Speed: 2.9ms preprocess, 92.1ms inference, 0.8ms postprocess per image at shape (1, 3, 480, 640)\n",
      "\n",
      "0: 480x640 28 cars, 1 bus, 2 trucks, 92.5ms\n",
      "Speed: 3.0ms preprocess, 92.5ms inference, 1.5ms postprocess per image at shape (1, 3, 480, 640)\n",
      "\n",
      "0: 480x640 2 licenses, 107.6ms\n",
      "Speed: 5.3ms preprocess, 107.6ms inference, 1.2ms postprocess per image at shape (1, 3, 480, 640)\n",
      "\n",
      "0: 480x640 26 cars, 1 bus, 1 truck, 85.2ms\n",
      "Speed: 2.8ms preprocess, 85.2ms inference, 1.0ms postprocess per image at shape (1, 3, 480, 640)\n",
      "\n",
      "0: 480x640 3 licenses, 90.1ms\n",
      "Speed: 2.8ms preprocess, 90.1ms inference, 0.8ms postprocess per image at shape (1, 3, 480, 640)\n",
      "\n",
      "0: 480x640 26 cars, 1 bus, 1 truck, 141.9ms\n",
      "Speed: 3.7ms preprocess, 141.9ms inference, 1.9ms postprocess per image at shape (1, 3, 480, 640)\n",
      "\n"
     ]
    },
    {
     "name": "stdout",
     "output_type": "stream",
     "text": [
      "Error: results_list is empty or contains tuples without a second element.\n"
     ]
    },
    {
     "name": "stderr",
     "output_type": "stream",
     "text": [
      "0: 480x640 3 licenses, 291.9ms\n",
      "Speed: 3.5ms preprocess, 291.9ms inference, 2.1ms postprocess per image at shape (1, 3, 480, 640)\n",
      "\n",
      "0: 480x640 27 cars, 2 trucks, 173.8ms\n"
     ]
    },
    {
     "name": "stdout",
     "output_type": "stream",
     "text": [
      "Error: results_list is empty or contains tuples without a second element.\n"
     ]
    },
    {
     "name": "stderr",
     "output_type": "stream",
     "text": [
      "Speed: 6.4ms preprocess, 173.8ms inference, 3.9ms postprocess per image at shape (1, 3, 480, 640)\n",
      "\n",
      "0: 480x640 2 licenses, 247.4ms\n",
      "Speed: 5.9ms preprocess, 247.4ms inference, 1.3ms postprocess per image at shape (1, 3, 480, 640)\n",
      "\n",
      "0: 480x640 27 cars, 2 trucks, 136.6ms\n",
      "Speed: 3.1ms preprocess, 136.6ms inference, 1.8ms postprocess per image at shape (1, 3, 480, 640)\n",
      "\n",
      "0: 480x640 2 licenses, 176.2ms\n",
      "Speed: 4.2ms preprocess, 176.2ms inference, 0.9ms postprocess per image at shape (1, 3, 480, 640)\n",
      "\n",
      "0: 480x640 27 cars, 2 buss, 2 trucks, 98.4ms\n",
      "Speed: 3.1ms preprocess, 98.4ms inference, 1.4ms postprocess per image at shape (1, 3, 480, 640)\n",
      "\n",
      "0: 480x640 2 licenses, 99.9ms\n",
      "Speed: 4.9ms preprocess, 99.9ms inference, 0.9ms postprocess per image at shape (1, 3, 480, 640)\n",
      "\n",
      "0: 480x640 26 cars, 2 buss, 2 trucks, 114.7ms\n",
      "Speed: 3.4ms preprocess, 114.7ms inference, 1.4ms postprocess per image at shape (1, 3, 480, 640)\n",
      "\n",
      "0: 480x640 2 licenses, 105.4ms\n",
      "Speed: 3.6ms preprocess, 105.4ms inference, 0.7ms postprocess per image at shape (1, 3, 480, 640)\n"
     ]
    },
    {
     "name": "stdout",
     "output_type": "stream",
     "text": [
      "Error: results_list is empty or contains tuples without a second element.\n"
     ]
    },
    {
     "name": "stderr",
     "output_type": "stream",
     "text": [
      "\n",
      "0: 480x640 27 cars, 2 buss, 2 trucks, 104.9ms\n",
      "Speed: 2.9ms preprocess, 104.9ms inference, 1.6ms postprocess per image at shape (1, 3, 480, 640)\n",
      "\n",
      "0: 480x640 2 licenses, 151.5ms\n",
      "Speed: 3.5ms preprocess, 151.5ms inference, 0.9ms postprocess per image at shape (1, 3, 480, 640)\n",
      "\n",
      "0: 480x640 27 cars, 2 buss, 2 trucks, 82.7ms\n",
      "Speed: 2.8ms preprocess, 82.7ms inference, 0.9ms postprocess per image at shape (1, 3, 480, 640)\n",
      "\n",
      "0: 480x640 2 licenses, 86.4ms\n",
      "Speed: 3.0ms preprocess, 86.4ms inference, 0.8ms postprocess per image at shape (1, 3, 480, 640)\n",
      "\n",
      "0: 480x640 24 cars, 1 bus, 2 trucks, 78.5ms\n",
      "Speed: 3.1ms preprocess, 78.5ms inference, 0.9ms postprocess per image at shape (1, 3, 480, 640)\n",
      "\n",
      "0: 480x640 1 license, 106.5ms\n",
      "Speed: 2.9ms preprocess, 106.5ms inference, 1.0ms postprocess per image at shape (1, 3, 480, 640)\n",
      "\n",
      "0: 480x640 24 cars, 2 buss, 2 trucks, 204.7ms\n",
      "Speed: 6.0ms preprocess, 204.7ms inference, 2.1ms postprocess per image at shape (1, 3, 480, 640)\n",
      "\n",
      "0: 480x640 1 license, 134.3ms\n",
      "Speed: 7.9ms preprocess, 134.3ms inference, 0.9ms postprocess per image at shape (1, 3, 480, 640)\n",
      "\n",
      "0: 480x640 24 cars, 1 bus, 2 trucks, 75.5ms\n",
      "Speed: 2.8ms preprocess, 75.5ms inference, 0.8ms postprocess per image at shape (1, 3, 480, 640)\n",
      "\n",
      "0: 480x640 3 licenses, 70.7ms\n",
      "Speed: 2.6ms preprocess, 70.7ms inference, 0.7ms postprocess per image at shape (1, 3, 480, 640)\n"
     ]
    },
    {
     "name": "stdout",
     "output_type": "stream",
     "text": [
      "Error: results_list is empty or contains tuples without a second element.\n"
     ]
    },
    {
     "name": "stderr",
     "output_type": "stream",
     "text": [
      "\n",
      "0: 480x640 23 cars, 1 bus, 2 trucks, 86.4ms\n",
      "Speed: 5.3ms preprocess, 86.4ms inference, 0.9ms postprocess per image at shape (1, 3, 480, 640)\n",
      "\n",
      "0: 480x640 3 licenses, 96.4ms\n",
      "Speed: 2.8ms preprocess, 96.4ms inference, 0.9ms postprocess per image at shape (1, 3, 480, 640)\n"
     ]
    },
    {
     "name": "stdout",
     "output_type": "stream",
     "text": [
      "Error: results_list is empty or contains tuples without a second element.\n"
     ]
    },
    {
     "name": "stderr",
     "output_type": "stream",
     "text": [
      "\n",
      "0: 480x640 24 cars, 2 buss, 2 trucks, 98.1ms\n",
      "Speed: 3.3ms preprocess, 98.1ms inference, 1.5ms postprocess per image at shape (1, 3, 480, 640)\n",
      "\n",
      "0: 480x640 4 licenses, 404.3ms\n",
      "Speed: 5.9ms preprocess, 404.3ms inference, 3.4ms postprocess per image at shape (1, 3, 480, 640)\n",
      "\n",
      "0: 480x640 24 cars, 2 buss, 2 trucks, 315.9ms\n",
      "Speed: 3.6ms preprocess, 315.9ms inference, 13.7ms postprocess per image at shape (1, 3, 480, 640)\n",
      "\n",
      "0: 480x640 4 licenses, 257.8ms\n",
      "Speed: 10.1ms preprocess, 257.8ms inference, 3.5ms postprocess per image at shape (1, 3, 480, 640)\n",
      "\n",
      "0: 480x640 24 cars, 2 buss, 2 trucks, 217.3ms\n",
      "Speed: 4.2ms preprocess, 217.3ms inference, 5.1ms postprocess per image at shape (1, 3, 480, 640)\n",
      "\n",
      "0: 480x640 2 licenses, 229.2ms\n",
      "Speed: 6.7ms preprocess, 229.2ms inference, 0.9ms postprocess per image at shape (1, 3, 480, 640)\n"
     ]
    },
    {
     "name": "stdout",
     "output_type": "stream",
     "text": [
      "Error: results_list is empty or contains tuples without a second element.\n"
     ]
    },
    {
     "name": "stderr",
     "output_type": "stream",
     "text": [
      "\n",
      "0: 480x640 24 cars, 2 buss, 2 trucks, 443.0ms\n",
      "Speed: 5.6ms preprocess, 443.0ms inference, 9.4ms postprocess per image at shape (1, 3, 480, 640)\n",
      "\n",
      "0: 480x640 2 licenses, 617.2ms\n",
      "Speed: 4.8ms preprocess, 617.2ms inference, 3.7ms postprocess per image at shape (1, 3, 480, 640)\n"
     ]
    },
    {
     "name": "stdout",
     "output_type": "stream",
     "text": [
      "Error: results_list is empty or contains tuples without a second element.\n"
     ]
    },
    {
     "name": "stderr",
     "output_type": "stream",
     "text": [
      "\n",
      "0: 480x640 24 cars, 2 buss, 2 trucks, 333.5ms\n",
      "Speed: 6.4ms preprocess, 333.5ms inference, 1.9ms postprocess per image at shape (1, 3, 480, 640)\n",
      "\n",
      "0: 480x640 2 licenses, 222.3ms\n",
      "Speed: 5.1ms preprocess, 222.3ms inference, 0.9ms postprocess per image at shape (1, 3, 480, 640)\n",
      "\n",
      "0: 480x640 25 cars, 2 buss, 2 trucks, 314.7ms\n",
      "Speed: 7.7ms preprocess, 314.7ms inference, 1.6ms postprocess per image at shape (1, 3, 480, 640)\n",
      "\n",
      "0: 480x640 2 licenses, 293.4ms\n",
      "Speed: 4.8ms preprocess, 293.4ms inference, 1.3ms postprocess per image at shape (1, 3, 480, 640)\n",
      "\n",
      "0: 480x640 24 cars, 2 buss, 1 truck, 125.1ms\n",
      "Speed: 3.4ms preprocess, 125.1ms inference, 1.5ms postprocess per image at shape (1, 3, 480, 640)\n",
      "\n",
      "0: 480x640 1 license, 100.2ms\n",
      "Speed: 2.5ms preprocess, 100.2ms inference, 0.8ms postprocess per image at shape (1, 3, 480, 640)\n",
      "\n",
      "0: 480x640 24 cars, 2 buss, 2 trucks, 141.7ms\n",
      "Speed: 5.4ms preprocess, 141.7ms inference, 1.9ms postprocess per image at shape (1, 3, 480, 640)\n",
      "\n",
      "0: 480x640 1 license, 128.3ms\n",
      "Speed: 6.7ms preprocess, 128.3ms inference, 1.3ms postprocess per image at shape (1, 3, 480, 640)\n",
      "\n",
      "0: 480x640 23 cars, 2 buss, 2 trucks, 179.6ms\n",
      "Speed: 4.9ms preprocess, 179.6ms inference, 2.4ms postprocess per image at shape (1, 3, 480, 640)\n",
      "\n",
      "0: 480x640 2 licenses, 160.3ms\n",
      "Speed: 11.9ms preprocess, 160.3ms inference, 1.3ms postprocess per image at shape (1, 3, 480, 640)\n",
      "\n",
      "0: 480x640 23 cars, 2 buss, 2 trucks, 78.4ms\n",
      "Speed: 2.8ms preprocess, 78.4ms inference, 0.8ms postprocess per image at shape (1, 3, 480, 640)\n",
      "\n",
      "0: 480x640 2 licenses, 87.7ms\n",
      "Speed: 2.6ms preprocess, 87.7ms inference, 0.5ms postprocess per image at shape (1, 3, 480, 640)\n",
      "\n",
      "0: 480x640 24 cars, 2 buss, 1 truck, 136.9ms\n",
      "Speed: 3.2ms preprocess, 136.9ms inference, 2.3ms postprocess per image at shape (1, 3, 480, 640)\n",
      "\n",
      "0: 480x640 3 licenses, 184.6ms\n",
      "Speed: 7.4ms preprocess, 184.6ms inference, 1.0ms postprocess per image at shape (1, 3, 480, 640)\n",
      "\n"
     ]
    },
    {
     "name": "stdout",
     "output_type": "stream",
     "text": [
      "Error: results_list is empty or contains tuples without a second element.\n"
     ]
    },
    {
     "name": "stderr",
     "output_type": "stream",
     "text": [
      "0: 480x640 24 cars, 2 buss, 1 truck, 159.1ms\n",
      "Speed: 4.6ms preprocess, 159.1ms inference, 2.2ms postprocess per image at shape (1, 3, 480, 640)\n",
      "\n",
      "0: 480x640 3 licenses, 151.8ms\n",
      "Speed: 5.8ms preprocess, 151.8ms inference, 1.0ms postprocess per image at shape (1, 3, 480, 640)\n",
      "\n",
      "0: 480x640 25 cars, 2 buss, 1 truck, 115.9ms\n",
      "Speed: 5.8ms preprocess, 115.9ms inference, 1.4ms postprocess per image at shape (1, 3, 480, 640)\n",
      "\n"
     ]
    },
    {
     "name": "stdout",
     "output_type": "stream",
     "text": [
      "Error: results_list is empty or contains tuples without a second element.\n"
     ]
    },
    {
     "name": "stderr",
     "output_type": "stream",
     "text": [
      "0: 480x640 1 license, 130.0ms\n",
      "Speed: 9.0ms preprocess, 130.0ms inference, 1.2ms postprocess per image at shape (1, 3, 480, 640)\n",
      "\n",
      "0: 480x640 24 cars, 2 buss, 1 truck, 89.4ms\n",
      "Speed: 3.1ms preprocess, 89.4ms inference, 0.9ms postprocess per image at shape (1, 3, 480, 640)\n",
      "\n",
      "0: 480x640 1 license, 88.7ms\n",
      "Speed: 2.9ms preprocess, 88.7ms inference, 0.7ms postprocess per image at shape (1, 3, 480, 640)\n",
      "\n",
      "0: 480x640 24 cars, 2 buss, 1 truck, 114.3ms\n",
      "Speed: 3.4ms preprocess, 114.3ms inference, 1.3ms postprocess per image at shape (1, 3, 480, 640)\n",
      "\n",
      "0: 480x640 3 licenses, 107.1ms\n",
      "Speed: 3.7ms preprocess, 107.1ms inference, 1.0ms postprocess per image at shape (1, 3, 480, 640)\n",
      "\n",
      "0: 480x640 24 cars, 2 buss, 1 truck, 90.9ms\n",
      "Speed: 2.7ms preprocess, 90.9ms inference, 1.0ms postprocess per image at shape (1, 3, 480, 640)\n",
      "\n",
      "0: 480x640 3 licenses, 91.5ms\n",
      "Speed: 3.3ms preprocess, 91.5ms inference, 0.8ms postprocess per image at shape (1, 3, 480, 640)\n",
      "\n",
      "0: 480x640 26 cars, 2 buss, 1 truck, 78.2ms\n",
      "Speed: 3.9ms preprocess, 78.2ms inference, 0.8ms postprocess per image at shape (1, 3, 480, 640)\n",
      "\n",
      "0: 480x640 1 license, 80.2ms\n",
      "Speed: 2.8ms preprocess, 80.2ms inference, 0.8ms postprocess per image at shape (1, 3, 480, 640)\n",
      "\n",
      "0: 480x640 26 cars, 2 buss, 1 truck, 78.4ms\n",
      "Speed: 2.6ms preprocess, 78.4ms inference, 1.2ms postprocess per image at shape (1, 3, 480, 640)\n",
      "\n",
      "0: 480x640 1 license, 73.6ms\n",
      "Speed: 3.1ms preprocess, 73.6ms inference, 0.6ms postprocess per image at shape (1, 3, 480, 640)\n"
     ]
    },
    {
     "name": "stdout",
     "output_type": "stream",
     "text": [
      "Error: results_list is empty or contains tuples without a second element.\n"
     ]
    },
    {
     "name": "stderr",
     "output_type": "stream",
     "text": [
      "\n",
      "0: 480x640 25 cars, 2 buss, 1 truck, 86.3ms\n",
      "Speed: 2.7ms preprocess, 86.3ms inference, 1.0ms postprocess per image at shape (1, 3, 480, 640)\n",
      "\n"
     ]
    },
    {
     "name": "stdout",
     "output_type": "stream",
     "text": [
      "Error: results_list is empty or contains tuples without a second element.\n"
     ]
    },
    {
     "name": "stderr",
     "output_type": "stream",
     "text": [
      "0: 480x640 2 licenses, 95.8ms\n",
      "Speed: 4.4ms preprocess, 95.8ms inference, 0.8ms postprocess per image at shape (1, 3, 480, 640)\n",
      "\n",
      "0: 480x640 26 cars, 2 buss, 1 truck, 417.0ms\n",
      "Speed: 8.9ms preprocess, 417.0ms inference, 4.1ms postprocess per image at shape (1, 3, 480, 640)\n",
      "\n",
      "0: 480x640 2 licenses, 198.4ms\n",
      "Speed: 7.0ms preprocess, 198.4ms inference, 1.3ms postprocess per image at shape (1, 3, 480, 640)\n",
      "\n",
      "0: 480x640 25 cars, 3 buss, 1 truck, 169.6ms\n",
      "Speed: 2.8ms preprocess, 169.6ms inference, 4.3ms postprocess per image at shape (1, 3, 480, 640)\n",
      "\n",
      "0: 480x640 2 licenses, 137.7ms\n",
      "Speed: 3.0ms preprocess, 137.7ms inference, 0.8ms postprocess per image at shape (1, 3, 480, 640)\n",
      "\n",
      "0: 480x640 25 cars, 3 buss, 1 truck, 133.6ms\n",
      "Speed: 4.7ms preprocess, 133.6ms inference, 1.4ms postprocess per image at shape (1, 3, 480, 640)\n",
      "\n",
      "0: 480x640 2 licenses, 100.4ms\n",
      "Speed: 3.6ms preprocess, 100.4ms inference, 0.9ms postprocess per image at shape (1, 3, 480, 640)\n",
      "\n",
      "0: 480x640 25 cars, 2 buss, 1 truck, 162.5ms\n",
      "Speed: 4.1ms preprocess, 162.5ms inference, 1.6ms postprocess per image at shape (1, 3, 480, 640)\n",
      "\n",
      "0: 480x640 2 licenses, 254.3ms\n",
      "Speed: 9.0ms preprocess, 254.3ms inference, 1.0ms postprocess per image at shape (1, 3, 480, 640)\n",
      "\n",
      "0: 480x640 24 cars, 2 buss, 1 truck, 84.7ms\n",
      "Speed: 2.5ms preprocess, 84.7ms inference, 0.8ms postprocess per image at shape (1, 3, 480, 640)\n",
      "\n",
      "0: 480x640 2 licenses, 86.9ms\n",
      "Speed: 3.5ms preprocess, 86.9ms inference, 0.8ms postprocess per image at shape (1, 3, 480, 640)\n",
      "\n",
      "0: 480x640 24 cars, 2 buss, 1 truck, 148.0ms\n",
      "Speed: 3.1ms preprocess, 148.0ms inference, 2.2ms postprocess per image at shape (1, 3, 480, 640)\n",
      "\n",
      "0: 480x640 1 license, 154.2ms\n",
      "Speed: 5.1ms preprocess, 154.2ms inference, 3.1ms postprocess per image at shape (1, 3, 480, 640)\n",
      "\n",
      "0: 480x640 25 cars, 2 buss, 1 truck, 95.6ms\n",
      "Speed: 3.6ms preprocess, 95.6ms inference, 1.0ms postprocess per image at shape (1, 3, 480, 640)\n",
      "\n",
      "0: 480x640 1 license, 119.1ms\n",
      "Speed: 3.2ms preprocess, 119.1ms inference, 0.9ms postprocess per image at shape (1, 3, 480, 640)\n",
      "\n",
      "0: 480x640 24 cars, 3 buss, 109.5ms\n",
      "Speed: 2.9ms preprocess, 109.5ms inference, 1.4ms postprocess per image at shape (1, 3, 480, 640)\n",
      "\n",
      "0: 480x640 2 licenses, 96.5ms\n",
      "Speed: 7.8ms preprocess, 96.5ms inference, 0.8ms postprocess per image at shape (1, 3, 480, 640)\n",
      "\n",
      "0: 480x640 23 cars, 3 buss, 84.0ms\n",
      "Speed: 2.7ms preprocess, 84.0ms inference, 1.0ms postprocess per image at shape (1, 3, 480, 640)\n",
      "\n"
     ]
    },
    {
     "name": "stdout",
     "output_type": "stream",
     "text": [
      "Error: results_list is empty or contains tuples without a second element.\n"
     ]
    },
    {
     "name": "stderr",
     "output_type": "stream",
     "text": [
      "0: 480x640 2 licenses, 100.0ms\n",
      "Speed: 3.5ms preprocess, 100.0ms inference, 1.0ms postprocess per image at shape (1, 3, 480, 640)\n",
      "\n",
      "0: 480x640 25 cars, 3 buss, 155.3ms\n",
      "Speed: 6.0ms preprocess, 155.3ms inference, 3.4ms postprocess per image at shape (1, 3, 480, 640)\n"
     ]
    },
    {
     "name": "stdout",
     "output_type": "stream",
     "text": [
      "Error: results_list is empty or contains tuples without a second element.\n"
     ]
    },
    {
     "name": "stderr",
     "output_type": "stream",
     "text": [
      "\n",
      "0: 480x640 2 licenses, 168.4ms\n",
      "Speed: 7.3ms preprocess, 168.4ms inference, 1.1ms postprocess per image at shape (1, 3, 480, 640)\n",
      "\n",
      "0: 480x640 24 cars, 3 buss, 188.6ms\n",
      "Speed: 6.6ms preprocess, 188.6ms inference, 1.8ms postprocess per image at shape (1, 3, 480, 640)\n",
      "\n",
      "0: 480x640 2 licenses, 185.6ms\n",
      "Speed: 6.1ms preprocess, 185.6ms inference, 1.2ms postprocess per image at shape (1, 3, 480, 640)\n",
      "\n",
      "0: 480x640 22 cars, 2 buss, 1 truck, 221.7ms\n",
      "Speed: 9.8ms preprocess, 221.7ms inference, 1.5ms postprocess per image at shape (1, 3, 480, 640)\n",
      "\n",
      "0: 480x640 2 licenses, 109.9ms\n",
      "Speed: 4.5ms preprocess, 109.9ms inference, 0.8ms postprocess per image at shape (1, 3, 480, 640)\n",
      "\n",
      "0: 480x640 23 cars, 2 buss, 1 truck, 92.5ms\n",
      "Speed: 3.7ms preprocess, 92.5ms inference, 1.0ms postprocess per image at shape (1, 3, 480, 640)\n",
      "\n"
     ]
    },
    {
     "name": "stdout",
     "output_type": "stream",
     "text": [
      "Error: results_list is empty or contains tuples without a second element.\n"
     ]
    },
    {
     "name": "stderr",
     "output_type": "stream",
     "text": [
      "0: 480x640 2 licenses, 96.8ms\n",
      "Speed: 3.8ms preprocess, 96.8ms inference, 0.8ms postprocess per image at shape (1, 3, 480, 640)\n",
      "\n"
     ]
    },
    {
     "name": "stdout",
     "output_type": "stream",
     "text": [
      "Error: results_list is empty or contains tuples without a second element.\n"
     ]
    },
    {
     "name": "stderr",
     "output_type": "stream",
     "text": [
      "0: 480x640 23 cars, 3 buss, 1 truck, 79.6ms\n",
      "Speed: 2.5ms preprocess, 79.6ms inference, 0.7ms postprocess per image at shape (1, 3, 480, 640)\n",
      "\n",
      "0: 480x640 2 licenses, 78.8ms\n",
      "Speed: 2.8ms preprocess, 78.8ms inference, 0.7ms postprocess per image at shape (1, 3, 480, 640)\n",
      "\n",
      "0: 480x640 23 cars, 3 buss, 1 truck, 77.1ms\n",
      "Speed: 2.5ms preprocess, 77.1ms inference, 0.8ms postprocess per image at shape (1, 3, 480, 640)\n",
      "\n",
      "0: 480x640 2 licenses, 72.0ms\n",
      "Speed: 2.4ms preprocess, 72.0ms inference, 0.7ms postprocess per image at shape (1, 3, 480, 640)\n",
      "\n",
      "0: 480x640 22 cars, 1 bus, 1 truck, 80.5ms\n",
      "Speed: 2.9ms preprocess, 80.5ms inference, 0.8ms postprocess per image at shape (1, 3, 480, 640)\n",
      "\n",
      "0: 480x640 2 licenses, 73.8ms\n",
      "Speed: 2.3ms preprocess, 73.8ms inference, 0.7ms postprocess per image at shape (1, 3, 480, 640)\n",
      "\n",
      "0: 480x640 22 cars, 1 bus, 1 truck, 80.3ms\n",
      "Speed: 3.0ms preprocess, 80.3ms inference, 1.0ms postprocess per image at shape (1, 3, 480, 640)\n",
      "\n",
      "0: 480x640 2 licenses, 80.8ms\n",
      "Speed: 3.7ms preprocess, 80.8ms inference, 0.6ms postprocess per image at shape (1, 3, 480, 640)\n",
      "\n",
      "0: 480x640 22 cars, 1 bus, 1 truck, 86.5ms\n",
      "Speed: 2.8ms preprocess, 86.5ms inference, 0.9ms postprocess per image at shape (1, 3, 480, 640)\n",
      "\n",
      "0: 480x640 3 licenses, 93.4ms\n",
      "Speed: 2.5ms preprocess, 93.4ms inference, 0.8ms postprocess per image at shape (1, 3, 480, 640)\n",
      "\n",
      "0: 480x640 22 cars, 1 bus, 2 trucks, 147.0ms\n",
      "Speed: 5.7ms preprocess, 147.0ms inference, 1.7ms postprocess per image at shape (1, 3, 480, 640)\n",
      "\n",
      "0: 480x640 3 licenses, 148.1ms\n",
      "Speed: 6.0ms preprocess, 148.1ms inference, 1.3ms postprocess per image at shape (1, 3, 480, 640)\n",
      "\n",
      "0: 480x640 22 cars, 2 buss, 2 trucks, 180.0ms\n",
      "Speed: 4.5ms preprocess, 180.0ms inference, 2.8ms postprocess per image at shape (1, 3, 480, 640)\n",
      "\n",
      "0: 480x640 1 license, 153.8ms\n",
      "Speed: 3.6ms preprocess, 153.8ms inference, 0.7ms postprocess per image at shape (1, 3, 480, 640)\n",
      "\n",
      "0: 480x640 21 cars, 2 buss, 2 trucks, 180.4ms\n",
      "Speed: 4.9ms preprocess, 180.4ms inference, 3.6ms postprocess per image at shape (1, 3, 480, 640)\n",
      "\n",
      "0: 480x640 1 license, 213.9ms\n",
      "Speed: 9.9ms preprocess, 213.9ms inference, 1.5ms postprocess per image at shape (1, 3, 480, 640)\n",
      "\n"
     ]
    },
    {
     "name": "stdout",
     "output_type": "stream",
     "text": [
      "Error: results_list is empty or contains tuples without a second element.\n"
     ]
    },
    {
     "name": "stderr",
     "output_type": "stream",
     "text": [
      "0: 480x640 24 cars, 1 bus, 2 trucks, 193.6ms\n",
      "Speed: 5.0ms preprocess, 193.6ms inference, 13.7ms postprocess per image at shape (1, 3, 480, 640)\n",
      "\n",
      "0: 480x640 2 licenses, 176.1ms\n",
      "Speed: 3.0ms preprocess, 176.1ms inference, 0.6ms postprocess per image at shape (1, 3, 480, 640)\n",
      "\n",
      "0: 480x640 24 cars, 1 bus, 3 trucks, 78.2ms\n",
      "Speed: 2.5ms preprocess, 78.2ms inference, 0.8ms postprocess per image at shape (1, 3, 480, 640)\n",
      "\n",
      "0: 480x640 2 licenses, 69.7ms\n",
      "Speed: 2.9ms preprocess, 69.7ms inference, 0.7ms postprocess per image at shape (1, 3, 480, 640)\n",
      "\n",
      "0: 480x640 24 cars, 1 bus, 1 truck, 72.5ms\n",
      "Speed: 2.7ms preprocess, 72.5ms inference, 0.7ms postprocess per image at shape (1, 3, 480, 640)\n",
      "\n",
      "0: 480x640 1 license, 71.0ms\n",
      "Speed: 2.2ms preprocess, 71.0ms inference, 0.5ms postprocess per image at shape (1, 3, 480, 640)\n",
      "\n",
      "0: 480x640 23 cars, 1 bus, 2 trucks, 70.3ms\n",
      "Speed: 2.5ms preprocess, 70.3ms inference, 0.7ms postprocess per image at shape (1, 3, 480, 640)\n",
      "\n",
      "0: 480x640 1 license, 83.7ms\n",
      "Speed: 2.4ms preprocess, 83.7ms inference, 0.6ms postprocess per image at shape (1, 3, 480, 640)\n",
      "\n",
      "0: 480x640 24 cars, 2 buss, 1 truck, 161.5ms\n",
      "Speed: 3.6ms preprocess, 161.5ms inference, 1.4ms postprocess per image at shape (1, 3, 480, 640)\n",
      "\n",
      "0: 480x640 2 licenses, 195.9ms\n",
      "Speed: 5.7ms preprocess, 195.9ms inference, 1.4ms postprocess per image at shape (1, 3, 480, 640)\n",
      "\n",
      "0: 480x640 24 cars, 2 buss, 1 truck, 75.8ms\n",
      "Speed: 2.6ms preprocess, 75.8ms inference, 0.8ms postprocess per image at shape (1, 3, 480, 640)\n",
      "\n",
      "0: 480x640 2 licenses, 75.0ms\n",
      "Speed: 2.9ms preprocess, 75.0ms inference, 0.9ms postprocess per image at shape (1, 3, 480, 640)\n",
      "\n",
      "0: 480x640 24 cars, 2 buss, 1 truck, 103.6ms\n",
      "Speed: 2.9ms preprocess, 103.6ms inference, 1.3ms postprocess per image at shape (1, 3, 480, 640)\n",
      "\n",
      "0: 480x640 3 licenses, 149.6ms\n",
      "Speed: 5.5ms preprocess, 149.6ms inference, 1.3ms postprocess per image at shape (1, 3, 480, 640)\n",
      "\n",
      "0: 480x640 24 cars, 2 buss, 1 truck, 106.9ms\n",
      "Speed: 3.5ms preprocess, 106.9ms inference, 1.6ms postprocess per image at shape (1, 3, 480, 640)\n",
      "\n",
      "0: 480x640 3 licenses, 120.2ms\n",
      "Speed: 4.6ms preprocess, 120.2ms inference, 0.9ms postprocess per image at shape (1, 3, 480, 640)\n",
      "\n",
      "0: 480x640 25 cars, 2 buss, 116.6ms\n",
      "Speed: 3.7ms preprocess, 116.6ms inference, 1.3ms postprocess per image at shape (1, 3, 480, 640)\n",
      "\n",
      "0: 480x640 3 licenses, 126.1ms\n",
      "Speed: 5.1ms preprocess, 126.1ms inference, 1.0ms postprocess per image at shape (1, 3, 480, 640)\n"
     ]
    },
    {
     "name": "stdout",
     "output_type": "stream",
     "text": [
      "Error: results_list is empty or contains tuples without a second element.\n"
     ]
    },
    {
     "name": "stderr",
     "output_type": "stream",
     "text": [
      "\n",
      "0: 480x640 25 cars, 2 buss, 99.4ms\n",
      "Speed: 3.4ms preprocess, 99.4ms inference, 1.2ms postprocess per image at shape (1, 3, 480, 640)\n",
      "\n",
      "0: 480x640 3 licenses, 118.3ms\n",
      "Speed: 3.9ms preprocess, 118.3ms inference, 0.9ms postprocess per image at shape (1, 3, 480, 640)\n"
     ]
    },
    {
     "name": "stdout",
     "output_type": "stream",
     "text": [
      "Error: results_list is empty or contains tuples without a second element.\n"
     ]
    },
    {
     "name": "stderr",
     "output_type": "stream",
     "text": [
      "\n",
      "0: 480x640 25 cars, 2 buss, 159.3ms\n",
      "Speed: 4.8ms preprocess, 159.3ms inference, 2.0ms postprocess per image at shape (1, 3, 480, 640)\n",
      "\n",
      "0: 480x640 4 licenses, 298.4ms\n",
      "Speed: 5.0ms preprocess, 298.4ms inference, 1.3ms postprocess per image at shape (1, 3, 480, 640)\n",
      "\n",
      "0: 480x640 25 cars, 2 buss, 174.0ms\n",
      "Speed: 5.8ms preprocess, 174.0ms inference, 1.9ms postprocess per image at shape (1, 3, 480, 640)\n",
      "\n",
      "0: 480x640 4 licenses, 138.9ms\n",
      "Speed: 7.1ms preprocess, 138.9ms inference, 1.2ms postprocess per image at shape (1, 3, 480, 640)\n",
      "\n",
      "0: 480x640 26 cars, 2 buss, 1 truck, 170.5ms\n",
      "Speed: 4.8ms preprocess, 170.5ms inference, 1.3ms postprocess per image at shape (1, 3, 480, 640)\n",
      "\n",
      "0: 480x640 3 licenses, 162.3ms\n",
      "Speed: 6.9ms preprocess, 162.3ms inference, 1.1ms postprocess per image at shape (1, 3, 480, 640)\n",
      "\n",
      "0: 480x640 26 cars, 2 buss, 172.0ms\n",
      "Speed: 4.3ms preprocess, 172.0ms inference, 2.3ms postprocess per image at shape (1, 3, 480, 640)\n",
      "\n",
      "0: 480x640 4 licenses, 145.4ms\n",
      "Speed: 5.7ms preprocess, 145.4ms inference, 2.4ms postprocess per image at shape (1, 3, 480, 640)\n",
      "\n",
      "0: 480x640 25 cars, 2 buss, 1 truck, 195.7ms\n",
      "Speed: 6.3ms preprocess, 195.7ms inference, 4.0ms postprocess per image at shape (1, 3, 480, 640)\n",
      "\n",
      "0: 480x640 3 licenses, 179.2ms\n",
      "Speed: 5.4ms preprocess, 179.2ms inference, 1.0ms postprocess per image at shape (1, 3, 480, 640)\n"
     ]
    },
    {
     "name": "stdout",
     "output_type": "stream",
     "text": [
      "Error: results_list is empty or contains tuples without a second element.\n"
     ]
    },
    {
     "name": "stderr",
     "output_type": "stream",
     "text": [
      "\n",
      "0: 480x640 25 cars, 2 buss, 1 truck, 156.4ms\n",
      "Speed: 4.4ms preprocess, 156.4ms inference, 1.6ms postprocess per image at shape (1, 3, 480, 640)\n",
      "\n",
      "0: 480x640 3 licenses, 153.3ms\n",
      "Speed: 5.8ms preprocess, 153.3ms inference, 1.3ms postprocess per image at shape (1, 3, 480, 640)\n"
     ]
    },
    {
     "name": "stdout",
     "output_type": "stream",
     "text": [
      "Error: results_list is empty or contains tuples without a second element.\n"
     ]
    },
    {
     "name": "stderr",
     "output_type": "stream",
     "text": [
      "\n",
      "0: 480x640 26 cars, 1 bus, 1 truck, 169.4ms\n",
      "Speed: 4.4ms preprocess, 169.4ms inference, 1.9ms postprocess per image at shape (1, 3, 480, 640)\n",
      "\n",
      "0: 480x640 3 licenses, 136.7ms\n",
      "Speed: 7.8ms preprocess, 136.7ms inference, 1.0ms postprocess per image at shape (1, 3, 480, 640)\n"
     ]
    },
    {
     "name": "stdout",
     "output_type": "stream",
     "text": [
      "Error: results_list is empty or contains tuples without a second element.\n"
     ]
    },
    {
     "name": "stderr",
     "output_type": "stream",
     "text": [
      "\n",
      "0: 480x640 26 cars, 1 bus, 1 truck, 117.4ms\n",
      "Speed: 3.2ms preprocess, 117.4ms inference, 1.5ms postprocess per image at shape (1, 3, 480, 640)\n",
      "\n",
      "0: 480x640 3 licenses, 136.0ms\n",
      "Speed: 4.8ms preprocess, 136.0ms inference, 1.0ms postprocess per image at shape (1, 3, 480, 640)\n",
      "\n",
      "0: 480x640 23 cars, 2 buss, 1 truck, 91.1ms\n",
      "Speed: 3.3ms preprocess, 91.1ms inference, 1.0ms postprocess per image at shape (1, 3, 480, 640)\n",
      "\n",
      "0: 480x640 3 licenses, 100.1ms\n",
      "Speed: 3.9ms preprocess, 100.1ms inference, 1.1ms postprocess per image at shape (1, 3, 480, 640)\n",
      "\n",
      "0: 480x640 23 cars, 2 buss, 1 truck, 122.1ms\n",
      "Speed: 3.4ms preprocess, 122.1ms inference, 1.6ms postprocess per image at shape (1, 3, 480, 640)\n",
      "\n",
      "0: 480x640 3 licenses, 156.4ms\n",
      "Speed: 5.5ms preprocess, 156.4ms inference, 1.6ms postprocess per image at shape (1, 3, 480, 640)\n",
      "\n",
      "0: 480x640 22 cars, 2 buss, 1 truck, 229.4ms\n",
      "Speed: 6.6ms preprocess, 229.4ms inference, 2.1ms postprocess per image at shape (1, 3, 480, 640)\n",
      "\n",
      "0: 480x640 3 licenses, 218.5ms\n",
      "Speed: 6.9ms preprocess, 218.5ms inference, 1.0ms postprocess per image at shape (1, 3, 480, 640)\n",
      "\n",
      "0: 480x640 22 cars, 2 buss, 1 truck, 106.5ms\n",
      "Speed: 3.5ms preprocess, 106.5ms inference, 1.4ms postprocess per image at shape (1, 3, 480, 640)\n",
      "\n",
      "0: 480x640 3 licenses, 115.7ms\n",
      "Speed: 4.8ms preprocess, 115.7ms inference, 1.1ms postprocess per image at shape (1, 3, 480, 640)\n",
      "\n",
      "0: 480x640 24 cars, 2 buss, 177.2ms\n",
      "Speed: 17.0ms preprocess, 177.2ms inference, 1.9ms postprocess per image at shape (1, 3, 480, 640)\n",
      "\n",
      "0: 480x640 2 licenses, 116.6ms\n",
      "Speed: 4.3ms preprocess, 116.6ms inference, 0.9ms postprocess per image at shape (1, 3, 480, 640)\n",
      "\n",
      "0: 480x640 24 cars, 2 buss, 98.2ms\n",
      "Speed: 2.9ms preprocess, 98.2ms inference, 1.2ms postprocess per image at shape (1, 3, 480, 640)\n",
      "\n",
      "0: 480x640 2 licenses, 133.7ms\n",
      "Speed: 3.7ms preprocess, 133.7ms inference, 1.2ms postprocess per image at shape (1, 3, 480, 640)\n",
      "\n",
      "0: 480x640 23 cars, 2 buss, 2 trucks, 80.1ms\n",
      "Speed: 2.5ms preprocess, 80.1ms inference, 1.0ms postprocess per image at shape (1, 3, 480, 640)\n",
      "\n",
      "0: 480x640 2 licenses, 79.8ms\n",
      "Speed: 3.0ms preprocess, 79.8ms inference, 1.1ms postprocess per image at shape (1, 3, 480, 640)\n",
      "\n",
      "0: 480x640 24 cars, 1 bus, 2 trucks, 145.0ms\n",
      "Speed: 4.2ms preprocess, 145.0ms inference, 1.3ms postprocess per image at shape (1, 3, 480, 640)\n",
      "\n",
      "0: 480x640 2 licenses, 159.5ms\n",
      "Speed: 4.9ms preprocess, 159.5ms inference, 1.0ms postprocess per image at shape (1, 3, 480, 640)\n",
      "\n",
      "0: 480x640 25 cars, 1 bus, 2 trucks, 119.0ms\n",
      "Speed: 3.6ms preprocess, 119.0ms inference, 1.3ms postprocess per image at shape (1, 3, 480, 640)\n",
      "\n",
      "0: 480x640 2 licenses, 151.2ms\n",
      "Speed: 5.3ms preprocess, 151.2ms inference, 1.2ms postprocess per image at shape (1, 3, 480, 640)\n",
      "\n",
      "0: 480x640 25 cars, 1 bus, 2 trucks, 166.7ms\n",
      "Speed: 5.3ms preprocess, 166.7ms inference, 2.0ms postprocess per image at shape (1, 3, 480, 640)\n",
      "\n",
      "0: 480x640 2 licenses, 280.4ms\n",
      "Speed: 7.4ms preprocess, 280.4ms inference, 1.1ms postprocess per image at shape (1, 3, 480, 640)\n",
      "\n",
      "0: 480x640 25 cars, 1 bus, 1 truck, 217.9ms\n",
      "Speed: 4.6ms preprocess, 217.9ms inference, 3.1ms postprocess per image at shape (1, 3, 480, 640)\n",
      "\n",
      "0: 480x640 2 licenses, 253.0ms\n",
      "Speed: 9.5ms preprocess, 253.0ms inference, 9.3ms postprocess per image at shape (1, 3, 480, 640)\n",
      "\n",
      "0: 480x640 25 cars, 1 bus, 1 truck, 220.8ms\n",
      "Speed: 6.7ms preprocess, 220.8ms inference, 2.8ms postprocess per image at shape (1, 3, 480, 640)\n",
      "\n",
      "0: 480x640 2 licenses, 195.9ms\n",
      "Speed: 13.7ms preprocess, 195.9ms inference, 0.9ms postprocess per image at shape (1, 3, 480, 640)\n",
      "\n",
      "0: 480x640 25 cars, 1 bus, 2 trucks, 162.6ms\n",
      "Speed: 4.7ms preprocess, 162.6ms inference, 1.4ms postprocess per image at shape (1, 3, 480, 640)\n",
      "\n",
      "0: 480x640 2 licenses, 154.0ms\n",
      "Speed: 4.9ms preprocess, 154.0ms inference, 0.9ms postprocess per image at shape (1, 3, 480, 640)\n",
      "\n",
      "0: 480x640 25 cars, 1 bus, 2 trucks, 100.5ms\n",
      "Speed: 3.7ms preprocess, 100.5ms inference, 1.0ms postprocess per image at shape (1, 3, 480, 640)\n",
      "\n",
      "0: 480x640 2 licenses, 123.4ms\n",
      "Speed: 5.0ms preprocess, 123.4ms inference, 1.1ms postprocess per image at shape (1, 3, 480, 640)\n",
      "\n",
      "0: 480x640 24 cars, 1 bus, 1 truck, 88.3ms\n",
      "Speed: 3.1ms preprocess, 88.3ms inference, 1.1ms postprocess per image at shape (1, 3, 480, 640)\n",
      "\n",
      "0: 480x640 2 licenses, 171.6ms\n",
      "Speed: 4.3ms preprocess, 171.6ms inference, 1.3ms postprocess per image at shape (1, 3, 480, 640)\n",
      "\n",
      "0: 480x640 24 cars, 1 bus, 1 truck, 77.4ms\n",
      "Speed: 2.7ms preprocess, 77.4ms inference, 0.8ms postprocess per image at shape (1, 3, 480, 640)\n",
      "\n",
      "0: 480x640 2 licenses, 106.2ms\n",
      "Speed: 3.1ms preprocess, 106.2ms inference, 1.1ms postprocess per image at shape (1, 3, 480, 640)\n",
      "\n",
      "0: 480x640 21 cars, 1 bus, 1 truck, 73.6ms\n",
      "Speed: 2.7ms preprocess, 73.6ms inference, 0.8ms postprocess per image at shape (1, 3, 480, 640)\n",
      "\n",
      "0: 480x640 2 licenses, 96.5ms\n",
      "Speed: 2.6ms preprocess, 96.5ms inference, 1.1ms postprocess per image at shape (1, 3, 480, 640)\n",
      "\n",
      "0: 480x640 21 cars, 1 bus, 1 truck, 86.9ms\n",
      "Speed: 2.7ms preprocess, 86.9ms inference, 1.1ms postprocess per image at shape (1, 3, 480, 640)\n",
      "\n",
      "0: 480x640 2 licenses, 127.5ms\n",
      "Speed: 3.8ms preprocess, 127.5ms inference, 1.2ms postprocess per image at shape (1, 3, 480, 640)\n",
      "\n",
      "0: 480x640 22 cars, 1 bus, 1 truck, 79.3ms\n",
      "Speed: 2.7ms preprocess, 79.3ms inference, 1.1ms postprocess per image at shape (1, 3, 480, 640)\n",
      "\n",
      "0: 480x640 2 licenses, 100.2ms\n",
      "Speed: 3.5ms preprocess, 100.2ms inference, 1.0ms postprocess per image at shape (1, 3, 480, 640)\n",
      "\n",
      "0: 480x640 22 cars, 1 bus, 1 truck, 80.0ms\n",
      "Speed: 3.1ms preprocess, 80.0ms inference, 0.8ms postprocess per image at shape (1, 3, 480, 640)\n",
      "\n",
      "0: 480x640 2 licenses, 90.6ms\n",
      "Speed: 2.7ms preprocess, 90.6ms inference, 1.1ms postprocess per image at shape (1, 3, 480, 640)\n",
      "\n",
      "0: 480x640 21 cars, 1 bus, 1 truck, 111.2ms\n",
      "Speed: 3.6ms preprocess, 111.2ms inference, 1.3ms postprocess per image at shape (1, 3, 480, 640)\n",
      "\n",
      "0: 480x640 2 licenses, 132.6ms\n",
      "Speed: 4.1ms preprocess, 132.6ms inference, 1.1ms postprocess per image at shape (1, 3, 480, 640)\n",
      "\n",
      "0: 480x640 21 cars, 1 bus, 1 truck, 104.6ms\n",
      "Speed: 4.0ms preprocess, 104.6ms inference, 1.1ms postprocess per image at shape (1, 3, 480, 640)\n",
      "\n",
      "0: 480x640 2 licenses, 106.5ms\n",
      "Speed: 3.7ms preprocess, 106.5ms inference, 1.2ms postprocess per image at shape (1, 3, 480, 640)\n",
      "\n",
      "0: 480x640 22 cars, 1 bus, 1 truck, 87.0ms\n",
      "Speed: 3.5ms preprocess, 87.0ms inference, 1.0ms postprocess per image at shape (1, 3, 480, 640)\n",
      "\n",
      "0: 480x640 2 licenses, 98.1ms\n",
      "Speed: 3.3ms preprocess, 98.1ms inference, 0.8ms postprocess per image at shape (1, 3, 480, 640)\n",
      "\n",
      "0: 480x640 22 cars, 1 bus, 1 truck, 97.9ms\n",
      "Speed: 2.8ms preprocess, 97.9ms inference, 1.1ms postprocess per image at shape (1, 3, 480, 640)\n",
      "\n",
      "0: 480x640 2 licenses, 115.1ms\n",
      "Speed: 3.8ms preprocess, 115.1ms inference, 1.1ms postprocess per image at shape (1, 3, 480, 640)\n",
      "\n",
      "0: 480x640 23 cars, 1 bus, 1 truck, 105.6ms\n",
      "Speed: 3.3ms preprocess, 105.6ms inference, 2.6ms postprocess per image at shape (1, 3, 480, 640)\n",
      "\n",
      "0: 480x640 2 licenses, 103.5ms\n",
      "Speed: 4.3ms preprocess, 103.5ms inference, 0.8ms postprocess per image at shape (1, 3, 480, 640)\n",
      "\n",
      "0: 480x640 23 cars, 1 bus, 1 truck, 151.4ms\n",
      "Speed: 5.5ms preprocess, 151.4ms inference, 1.6ms postprocess per image at shape (1, 3, 480, 640)\n",
      "\n",
      "0: 480x640 2 licenses, 147.4ms\n",
      "Speed: 5.9ms preprocess, 147.4ms inference, 1.0ms postprocess per image at shape (1, 3, 480, 640)\n",
      "\n",
      "0: 480x640 21 cars, 1 bus, 1 truck, 99.2ms\n",
      "Speed: 2.9ms preprocess, 99.2ms inference, 1.2ms postprocess per image at shape (1, 3, 480, 640)\n",
      "\n",
      "0: 480x640 3 licenses, 179.1ms\n",
      "Speed: 5.5ms preprocess, 179.1ms inference, 1.4ms postprocess per image at shape (1, 3, 480, 640)\n",
      "\n",
      "0: 480x640 21 cars, 1 bus, 1 truck, 77.7ms\n",
      "Speed: 2.7ms preprocess, 77.7ms inference, 0.9ms postprocess per image at shape (1, 3, 480, 640)\n",
      "\n",
      "0: 480x640 3 licenses, 89.5ms\n",
      "Speed: 2.9ms preprocess, 89.5ms inference, 0.7ms postprocess per image at shape (1, 3, 480, 640)\n",
      "\n",
      "0: 480x640 22 cars, 1 bus, 1 truck, 79.1ms\n",
      "Speed: 2.6ms preprocess, 79.1ms inference, 0.9ms postprocess per image at shape (1, 3, 480, 640)\n",
      "\n",
      "0: 480x640 2 licenses, 88.5ms\n",
      "Speed: 2.8ms preprocess, 88.5ms inference, 1.0ms postprocess per image at shape (1, 3, 480, 640)\n",
      "\n",
      "0: 480x640 22 cars, 1 bus, 1 truck, 83.0ms\n",
      "Speed: 3.1ms preprocess, 83.0ms inference, 0.8ms postprocess per image at shape (1, 3, 480, 640)\n",
      "\n",
      "0: 480x640 2 licenses, 90.6ms\n",
      "Speed: 3.4ms preprocess, 90.6ms inference, 0.8ms postprocess per image at shape (1, 3, 480, 640)\n",
      "\n",
      "0: 480x640 20 cars, 1 bus, 2 trucks, 73.2ms\n",
      "Speed: 2.5ms preprocess, 73.2ms inference, 0.7ms postprocess per image at shape (1, 3, 480, 640)\n",
      "\n",
      "0: 480x640 2 licenses, 72.5ms\n",
      "Speed: 2.2ms preprocess, 72.5ms inference, 0.6ms postprocess per image at shape (1, 3, 480, 640)\n",
      "\n",
      "0: 480x640 20 cars, 1 bus, 2 trucks, 72.6ms\n",
      "Speed: 2.3ms preprocess, 72.6ms inference, 0.8ms postprocess per image at shape (1, 3, 480, 640)\n",
      "\n",
      "0: 480x640 2 licenses, 77.5ms\n",
      "Speed: 2.4ms preprocess, 77.5ms inference, 0.6ms postprocess per image at shape (1, 3, 480, 640)\n",
      "\n",
      "0: 480x640 21 cars, 2 buss, 1 truck, 80.1ms\n",
      "Speed: 2.8ms preprocess, 80.1ms inference, 0.9ms postprocess per image at shape (1, 3, 480, 640)\n",
      "\n",
      "0: 480x640 2 licenses, 85.0ms\n",
      "Speed: 3.1ms preprocess, 85.0ms inference, 0.7ms postprocess per image at shape (1, 3, 480, 640)\n",
      "\n",
      "0: 480x640 21 cars, 2 buss, 1 truck, 71.8ms\n",
      "Speed: 2.4ms preprocess, 71.8ms inference, 0.9ms postprocess per image at shape (1, 3, 480, 640)\n",
      "\n",
      "0: 480x640 2 licenses, 68.7ms\n",
      "Speed: 2.7ms preprocess, 68.7ms inference, 0.7ms postprocess per image at shape (1, 3, 480, 640)\n",
      "\n",
      "0: 480x640 20 cars, 2 buss, 73.6ms\n",
      "Speed: 3.0ms preprocess, 73.6ms inference, 0.7ms postprocess per image at shape (1, 3, 480, 640)\n",
      "\n",
      "0: 480x640 2 licenses, 75.1ms\n",
      "Speed: 2.4ms preprocess, 75.1ms inference, 0.6ms postprocess per image at shape (1, 3, 480, 640)\n",
      "\n",
      "0: 480x640 21 cars, 2 buss, 74.0ms\n",
      "Speed: 2.3ms preprocess, 74.0ms inference, 0.7ms postprocess per image at shape (1, 3, 480, 640)\n",
      "\n",
      "0: 480x640 2 licenses, 76.9ms\n",
      "Speed: 2.7ms preprocess, 76.9ms inference, 0.6ms postprocess per image at shape (1, 3, 480, 640)\n",
      "\n",
      "0: 480x640 20 cars, 1 bus, 1 truck, 71.5ms\n",
      "Speed: 2.4ms preprocess, 71.5ms inference, 0.8ms postprocess per image at shape (1, 3, 480, 640)\n",
      "\n",
      "0: 480x640 2 licenses, 76.0ms\n",
      "Speed: 2.3ms preprocess, 76.0ms inference, 0.6ms postprocess per image at shape (1, 3, 480, 640)\n",
      "\n",
      "0: 480x640 20 cars, 1 bus, 1 truck, 72.4ms\n",
      "Speed: 2.3ms preprocess, 72.4ms inference, 0.7ms postprocess per image at shape (1, 3, 480, 640)\n",
      "\n",
      "0: 480x640 2 licenses, 75.3ms\n",
      "Speed: 2.7ms preprocess, 75.3ms inference, 0.8ms postprocess per image at shape (1, 3, 480, 640)\n",
      "\n",
      "0: 480x640 22 cars, 1 bus, 1 truck, 74.7ms\n",
      "Speed: 2.7ms preprocess, 74.7ms inference, 0.7ms postprocess per image at shape (1, 3, 480, 640)\n",
      "\n",
      "0: 480x640 2 licenses, 75.6ms\n",
      "Speed: 2.4ms preprocess, 75.6ms inference, 0.6ms postprocess per image at shape (1, 3, 480, 640)\n",
      "\n",
      "0: 480x640 20 cars, 1 bus, 1 truck, 72.8ms\n",
      "Speed: 2.5ms preprocess, 72.8ms inference, 0.7ms postprocess per image at shape (1, 3, 480, 640)\n",
      "\n",
      "0: 480x640 2 licenses, 77.6ms\n",
      "Speed: 2.8ms preprocess, 77.6ms inference, 0.6ms postprocess per image at shape (1, 3, 480, 640)\n",
      "\n",
      "0: 480x640 22 cars, 1 bus, 2 trucks, 72.6ms\n",
      "Speed: 2.4ms preprocess, 72.6ms inference, 0.7ms postprocess per image at shape (1, 3, 480, 640)\n",
      "\n",
      "0: 480x640 2 licenses, 78.0ms\n",
      "Speed: 2.7ms preprocess, 78.0ms inference, 0.6ms postprocess per image at shape (1, 3, 480, 640)\n",
      "\n",
      "0: 480x640 22 cars, 1 bus, 2 trucks, 73.2ms\n",
      "Speed: 2.5ms preprocess, 73.2ms inference, 0.8ms postprocess per image at shape (1, 3, 480, 640)\n",
      "\n",
      "0: 480x640 2 licenses, 76.6ms\n",
      "Speed: 2.5ms preprocess, 76.6ms inference, 0.6ms postprocess per image at shape (1, 3, 480, 640)\n",
      "\n",
      "0: 480x640 23 cars, 2 buss, 1 truck, 77.0ms\n",
      "Speed: 2.6ms preprocess, 77.0ms inference, 0.8ms postprocess per image at shape (1, 3, 480, 640)\n",
      "\n",
      "0: 480x640 2 licenses, 76.5ms\n",
      "Speed: 2.3ms preprocess, 76.5ms inference, 0.8ms postprocess per image at shape (1, 3, 480, 640)\n",
      "\n",
      "0: 480x640 23 cars, 2 buss, 1 truck, 71.7ms\n",
      "Speed: 2.8ms preprocess, 71.7ms inference, 0.7ms postprocess per image at shape (1, 3, 480, 640)\n",
      "\n",
      "0: 480x640 2 licenses, 75.0ms\n",
      "Speed: 2.7ms preprocess, 75.0ms inference, 0.7ms postprocess per image at shape (1, 3, 480, 640)\n",
      "\n",
      "0: 480x640 22 cars, 2 buss, 1 truck, 75.5ms\n",
      "Speed: 4.3ms preprocess, 75.5ms inference, 0.8ms postprocess per image at shape (1, 3, 480, 640)\n",
      "\n",
      "0: 480x640 2 licenses, 78.4ms\n",
      "Speed: 3.1ms preprocess, 78.4ms inference, 0.6ms postprocess per image at shape (1, 3, 480, 640)\n",
      "\n",
      "0: 480x640 23 cars, 2 buss, 1 truck, 79.5ms\n",
      "Speed: 2.7ms preprocess, 79.5ms inference, 1.0ms postprocess per image at shape (1, 3, 480, 640)\n",
      "\n",
      "0: 480x640 2 licenses, 88.1ms\n",
      "Speed: 2.9ms preprocess, 88.1ms inference, 0.8ms postprocess per image at shape (1, 3, 480, 640)\n",
      "\n",
      "0: 480x640 20 cars, 2 buss, 1 truck, 72.4ms\n",
      "Speed: 2.3ms preprocess, 72.4ms inference, 0.8ms postprocess per image at shape (1, 3, 480, 640)\n",
      "\n",
      "0: 480x640 2 licenses, 69.5ms\n",
      "Speed: 2.7ms preprocess, 69.5ms inference, 0.5ms postprocess per image at shape (1, 3, 480, 640)\n",
      "\n",
      "0: 480x640 20 cars, 2 buss, 1 truck, 73.2ms\n",
      "Speed: 2.6ms preprocess, 73.2ms inference, 0.8ms postprocess per image at shape (1, 3, 480, 640)\n",
      "\n",
      "0: 480x640 2 licenses, 76.0ms\n",
      "Speed: 2.2ms preprocess, 76.0ms inference, 0.6ms postprocess per image at shape (1, 3, 480, 640)\n",
      "\n",
      "0: 480x640 19 cars, 2 buss, 1 truck, 73.9ms\n",
      "Speed: 2.5ms preprocess, 73.9ms inference, 0.8ms postprocess per image at shape (1, 3, 480, 640)\n",
      "\n",
      "0: 480x640 1 license, 74.4ms\n",
      "Speed: 2.7ms preprocess, 74.4ms inference, 0.7ms postprocess per image at shape (1, 3, 480, 640)\n",
      "\n",
      "0: 480x640 19 cars, 2 buss, 1 truck, 80.0ms\n",
      "Speed: 2.8ms preprocess, 80.0ms inference, 0.9ms postprocess per image at shape (1, 3, 480, 640)\n",
      "\n",
      "0: 480x640 1 license, 78.4ms\n",
      "Speed: 3.1ms preprocess, 78.4ms inference, 0.6ms postprocess per image at shape (1, 3, 480, 640)\n",
      "\n",
      "0: 480x640 19 cars, 2 buss, 1 truck, 74.5ms\n",
      "Speed: 2.5ms preprocess, 74.5ms inference, 0.8ms postprocess per image at shape (1, 3, 480, 640)\n",
      "\n",
      "0: 480x640 1 license, 75.9ms\n",
      "Speed: 2.9ms preprocess, 75.9ms inference, 0.6ms postprocess per image at shape (1, 3, 480, 640)\n",
      "\n",
      "0: 480x640 20 cars, 2 buss, 1 truck, 77.9ms\n",
      "Speed: 2.6ms preprocess, 77.9ms inference, 0.8ms postprocess per image at shape (1, 3, 480, 640)\n",
      "\n",
      "0: 480x640 1 license, 77.9ms\n",
      "Speed: 2.7ms preprocess, 77.9ms inference, 0.6ms postprocess per image at shape (1, 3, 480, 640)\n",
      "\n",
      "0: 480x640 20 cars, 2 buss, 1 truck, 80.3ms\n",
      "Speed: 2.5ms preprocess, 80.3ms inference, 0.8ms postprocess per image at shape (1, 3, 480, 640)\n",
      "\n",
      "0: 480x640 1 license, 77.0ms\n",
      "Speed: 2.9ms preprocess, 77.0ms inference, 0.6ms postprocess per image at shape (1, 3, 480, 640)\n",
      "\n",
      "0: 480x640 20 cars, 2 buss, 1 truck, 73.1ms\n",
      "Speed: 2.4ms preprocess, 73.1ms inference, 0.8ms postprocess per image at shape (1, 3, 480, 640)\n",
      "\n",
      "0: 480x640 1 license, 78.6ms\n",
      "Speed: 2.6ms preprocess, 78.6ms inference, 0.6ms postprocess per image at shape (1, 3, 480, 640)\n",
      "\n",
      "0: 480x640 21 cars, 1 bus, 2 trucks, 77.9ms\n",
      "Speed: 2.4ms preprocess, 77.9ms inference, 0.8ms postprocess per image at shape (1, 3, 480, 640)\n",
      "\n",
      "0: 480x640 1 license, 77.1ms\n",
      "Speed: 2.9ms preprocess, 77.1ms inference, 0.8ms postprocess per image at shape (1, 3, 480, 640)\n",
      "\n",
      "0: 480x640 21 cars, 1 bus, 2 trucks, 75.8ms\n",
      "Speed: 2.5ms preprocess, 75.8ms inference, 1.1ms postprocess per image at shape (1, 3, 480, 640)\n",
      "\n",
      "0: 480x640 1 license, 78.3ms\n",
      "Speed: 2.7ms preprocess, 78.3ms inference, 0.6ms postprocess per image at shape (1, 3, 480, 640)\n",
      "\n",
      "0: 480x640 23 cars, 2 buss, 2 trucks, 78.4ms\n",
      "Speed: 2.5ms preprocess, 78.4ms inference, 0.8ms postprocess per image at shape (1, 3, 480, 640)\n",
      "\n",
      "0: 480x640 1 license, 76.4ms\n",
      "Speed: 2.8ms preprocess, 76.4ms inference, 0.6ms postprocess per image at shape (1, 3, 480, 640)\n",
      "\n",
      "0: 480x640 23 cars, 2 buss, 2 trucks, 79.0ms\n",
      "Speed: 2.7ms preprocess, 79.0ms inference, 1.0ms postprocess per image at shape (1, 3, 480, 640)\n",
      "\n",
      "0: 480x640 1 license, 76.7ms\n",
      "Speed: 2.9ms preprocess, 76.7ms inference, 0.6ms postprocess per image at shape (1, 3, 480, 640)\n",
      "\n",
      "0: 480x640 20 cars, 2 buss, 2 trucks, 76.9ms\n",
      "Speed: 2.5ms preprocess, 76.9ms inference, 0.8ms postprocess per image at shape (1, 3, 480, 640)\n",
      "\n",
      "0: 480x640 2 licenses, 78.5ms\n",
      "Speed: 2.7ms preprocess, 78.5ms inference, 0.6ms postprocess per image at shape (1, 3, 480, 640)\n",
      "\n",
      "0: 480x640 20 cars, 2 buss, 2 trucks, 73.9ms\n",
      "Speed: 2.5ms preprocess, 73.9ms inference, 0.8ms postprocess per image at shape (1, 3, 480, 640)\n",
      "\n",
      "0: 480x640 2 licenses, 74.8ms\n",
      "Speed: 2.2ms preprocess, 74.8ms inference, 0.6ms postprocess per image at shape (1, 3, 480, 640)\n",
      "\n",
      "0: 480x640 20 cars, 2 buss, 1 truck, 73.5ms\n",
      "Speed: 2.4ms preprocess, 73.5ms inference, 0.8ms postprocess per image at shape (1, 3, 480, 640)\n",
      "\n",
      "0: 480x640 1 license, 76.0ms\n",
      "Speed: 2.8ms preprocess, 76.0ms inference, 0.6ms postprocess per image at shape (1, 3, 480, 640)\n",
      "\n",
      "0: 480x640 20 cars, 2 buss, 1 truck, 79.8ms\n",
      "Speed: 3.3ms preprocess, 79.8ms inference, 0.9ms postprocess per image at shape (1, 3, 480, 640)\n",
      "\n",
      "0: 480x640 1 license, 85.6ms\n",
      "Speed: 3.4ms preprocess, 85.6ms inference, 0.8ms postprocess per image at shape (1, 3, 480, 640)\n",
      "\n",
      "0: 480x640 20 cars, 2 buss, 2 trucks, 73.0ms\n",
      "Speed: 2.4ms preprocess, 73.0ms inference, 0.8ms postprocess per image at shape (1, 3, 480, 640)\n",
      "\n",
      "0: 480x640 2 licenses, 74.7ms\n",
      "Speed: 2.4ms preprocess, 74.7ms inference, 0.6ms postprocess per image at shape (1, 3, 480, 640)\n",
      "\n",
      "0: 480x640 20 cars, 2 buss, 1 truck, 77.3ms\n",
      "Speed: 2.4ms preprocess, 77.3ms inference, 0.9ms postprocess per image at shape (1, 3, 480, 640)\n",
      "\n",
      "0: 480x640 2 licenses, 77.2ms\n",
      "Speed: 3.0ms preprocess, 77.2ms inference, 0.6ms postprocess per image at shape (1, 3, 480, 640)\n",
      "\n",
      "0: 480x640 21 cars, 2 buss, 1 truck, 73.4ms\n",
      "Speed: 2.5ms preprocess, 73.4ms inference, 0.7ms postprocess per image at shape (1, 3, 480, 640)\n",
      "\n",
      "0: 480x640 1 license, 71.3ms\n",
      "Speed: 2.5ms preprocess, 71.3ms inference, 0.6ms postprocess per image at shape (1, 3, 480, 640)\n",
      "\n",
      "0: 480x640 22 cars, 1 bus, 1 truck, 80.2ms\n",
      "Speed: 2.9ms preprocess, 80.2ms inference, 0.8ms postprocess per image at shape (1, 3, 480, 640)\n",
      "\n",
      "0: 480x640 1 license, 81.8ms\n",
      "Speed: 2.6ms preprocess, 81.8ms inference, 0.6ms postprocess per image at shape (1, 3, 480, 640)\n",
      "\n",
      "0: 480x640 23 cars, 2 trucks, 75.9ms\n",
      "Speed: 2.5ms preprocess, 75.9ms inference, 0.8ms postprocess per image at shape (1, 3, 480, 640)\n",
      "\n",
      "0: 480x640 1 license, 75.8ms\n",
      "Speed: 2.8ms preprocess, 75.8ms inference, 0.7ms postprocess per image at shape (1, 3, 480, 640)\n",
      "\n",
      "0: 480x640 23 cars, 2 trucks, 74.7ms\n",
      "Speed: 2.4ms preprocess, 74.7ms inference, 0.8ms postprocess per image at shape (1, 3, 480, 640)\n",
      "\n",
      "0: 480x640 1 license, 76.6ms\n",
      "Speed: 2.7ms preprocess, 76.6ms inference, 0.6ms postprocess per image at shape (1, 3, 480, 640)\n",
      "\n",
      "0: 480x640 22 cars, 1 bus, 1 truck, 78.9ms\n",
      "Speed: 2.7ms preprocess, 78.9ms inference, 0.9ms postprocess per image at shape (1, 3, 480, 640)\n",
      "\n",
      "0: 480x640 1 license, 76.3ms\n",
      "Speed: 3.0ms preprocess, 76.3ms inference, 0.6ms postprocess per image at shape (1, 3, 480, 640)\n",
      "\n",
      "0: 480x640 22 cars, 1 bus, 1 truck, 78.4ms\n",
      "Speed: 2.4ms preprocess, 78.4ms inference, 0.8ms postprocess per image at shape (1, 3, 480, 640)\n",
      "\n",
      "0: 480x640 1 license, 77.5ms\n",
      "Speed: 2.5ms preprocess, 77.5ms inference, 0.7ms postprocess per image at shape (1, 3, 480, 640)\n",
      "\n",
      "0: 480x640 21 cars, 3 trucks, 80.4ms\n",
      "Speed: 3.0ms preprocess, 80.4ms inference, 0.9ms postprocess per image at shape (1, 3, 480, 640)\n",
      "\n",
      "0: 480x640 1 license, 76.9ms\n",
      "Speed: 2.9ms preprocess, 76.9ms inference, 0.6ms postprocess per image at shape (1, 3, 480, 640)\n",
      "\n",
      "0: 480x640 21 cars, 3 trucks, 77.8ms\n",
      "Speed: 2.4ms preprocess, 77.8ms inference, 0.8ms postprocess per image at shape (1, 3, 480, 640)\n",
      "\n",
      "0: 480x640 1 license, 77.6ms\n",
      "Speed: 3.0ms preprocess, 77.6ms inference, 0.6ms postprocess per image at shape (1, 3, 480, 640)\n",
      "\n",
      "0: 480x640 22 cars, 2 trucks, 80.4ms\n",
      "Speed: 2.7ms preprocess, 80.4ms inference, 0.8ms postprocess per image at shape (1, 3, 480, 640)\n",
      "\n",
      "0: 480x640 1 license, 78.4ms\n",
      "Speed: 3.0ms preprocess, 78.4ms inference, 0.6ms postprocess per image at shape (1, 3, 480, 640)\n",
      "\n",
      "0: 480x640 22 cars, 2 trucks, 76.0ms\n",
      "Speed: 2.6ms preprocess, 76.0ms inference, 0.8ms postprocess per image at shape (1, 3, 480, 640)\n",
      "\n",
      "0: 480x640 1 license, 79.1ms\n",
      "Speed: 2.8ms preprocess, 79.1ms inference, 0.6ms postprocess per image at shape (1, 3, 480, 640)\n",
      "\n",
      "0: 480x640 22 cars, 3 trucks, 80.9ms\n",
      "Speed: 2.7ms preprocess, 80.9ms inference, 0.8ms postprocess per image at shape (1, 3, 480, 640)\n",
      "\n",
      "0: 480x640 1 license, 74.9ms\n",
      "Speed: 2.8ms preprocess, 74.9ms inference, 0.9ms postprocess per image at shape (1, 3, 480, 640)\n",
      "\n",
      "0: 480x640 22 cars, 3 trucks, 75.3ms\n",
      "Speed: 2.5ms preprocess, 75.3ms inference, 1.0ms postprocess per image at shape (1, 3, 480, 640)\n",
      "\n",
      "0: 480x640 1 license, 76.9ms\n",
      "Speed: 2.8ms preprocess, 76.9ms inference, 0.6ms postprocess per image at shape (1, 3, 480, 640)\n",
      "\n",
      "0: 480x640 24 cars, 2 trucks, 73.9ms\n",
      "Speed: 2.7ms preprocess, 73.9ms inference, 0.8ms postprocess per image at shape (1, 3, 480, 640)\n",
      "\n",
      "0: 480x640 1 license, 78.7ms\n",
      "Speed: 3.0ms preprocess, 78.7ms inference, 0.7ms postprocess per image at shape (1, 3, 480, 640)\n",
      "\n",
      "0: 480x640 24 cars, 2 trucks, 76.9ms\n",
      "Speed: 2.5ms preprocess, 76.9ms inference, 1.0ms postprocess per image at shape (1, 3, 480, 640)\n",
      "\n",
      "0: 480x640 1 license, 77.7ms\n",
      "Speed: 2.7ms preprocess, 77.7ms inference, 0.6ms postprocess per image at shape (1, 3, 480, 640)\n",
      "\n",
      "0: 480x640 24 cars, 2 trucks, 80.4ms\n",
      "Speed: 2.5ms preprocess, 80.4ms inference, 0.8ms postprocess per image at shape (1, 3, 480, 640)\n",
      "\n",
      "0: 480x640 1 license, 78.0ms\n",
      "Speed: 2.5ms preprocess, 78.0ms inference, 0.6ms postprocess per image at shape (1, 3, 480, 640)\n",
      "\n",
      "0: 480x640 24 cars, 2 trucks, 78.5ms\n",
      "Speed: 2.4ms preprocess, 78.5ms inference, 0.9ms postprocess per image at shape (1, 3, 480, 640)\n",
      "\n",
      "0: 480x640 1 license, 78.3ms\n",
      "Speed: 2.9ms preprocess, 78.3ms inference, 0.6ms postprocess per image at shape (1, 3, 480, 640)\n",
      "\n",
      "0: 480x640 23 cars, 1 bus, 2 trucks, 78.1ms\n",
      "Speed: 2.6ms preprocess, 78.1ms inference, 0.8ms postprocess per image at shape (1, 3, 480, 640)\n",
      "\n",
      "0: 480x640 2 licenses, 77.6ms\n",
      "Speed: 3.1ms preprocess, 77.6ms inference, 0.6ms postprocess per image at shape (1, 3, 480, 640)\n",
      "\n",
      "0: 480x640 23 cars, 1 bus, 2 trucks, 74.5ms\n",
      "Speed: 2.6ms preprocess, 74.5ms inference, 0.8ms postprocess per image at shape (1, 3, 480, 640)\n",
      "\n",
      "0: 480x640 2 licenses, 71.6ms\n",
      "Speed: 2.4ms preprocess, 71.6ms inference, 0.6ms postprocess per image at shape (1, 3, 480, 640)\n",
      "\n",
      "0: 480x640 23 cars, 1 bus, 2 trucks, 75.2ms\n",
      "Speed: 2.4ms preprocess, 75.2ms inference, 0.7ms postprocess per image at shape (1, 3, 480, 640)\n",
      "\n",
      "0: 480x640 1 license, 75.5ms\n",
      "Speed: 2.8ms preprocess, 75.5ms inference, 0.6ms postprocess per image at shape (1, 3, 480, 640)\n",
      "\n",
      "0: 480x640 22 cars, 1 bus, 2 trucks, 77.6ms\n",
      "Speed: 2.7ms preprocess, 77.6ms inference, 0.8ms postprocess per image at shape (1, 3, 480, 640)\n",
      "\n",
      "0: 480x640 1 license, 78.4ms\n",
      "Speed: 2.7ms preprocess, 78.4ms inference, 0.6ms postprocess per image at shape (1, 3, 480, 640)\n",
      "\n",
      "0: 480x640 21 cars, 1 bus, 74.1ms\n",
      "Speed: 2.5ms preprocess, 74.1ms inference, 0.8ms postprocess per image at shape (1, 3, 480, 640)\n",
      "\n",
      "0: 480x640 1 license, 77.6ms\n",
      "Speed: 3.0ms preprocess, 77.6ms inference, 0.5ms postprocess per image at shape (1, 3, 480, 640)\n",
      "\n",
      "0: 480x640 20 cars, 1 bus, 75.8ms\n",
      "Speed: 2.4ms preprocess, 75.8ms inference, 0.7ms postprocess per image at shape (1, 3, 480, 640)\n",
      "\n",
      "0: 480x640 1 license, 76.9ms\n",
      "Speed: 2.9ms preprocess, 76.9ms inference, 0.6ms postprocess per image at shape (1, 3, 480, 640)\n",
      "\n",
      "0: 480x640 20 cars, 1 bus, 2 trucks, 77.8ms\n",
      "Speed: 2.4ms preprocess, 77.8ms inference, 0.8ms postprocess per image at shape (1, 3, 480, 640)\n",
      "\n",
      "0: 480x640 1 license, 77.7ms\n",
      "Speed: 3.1ms preprocess, 77.7ms inference, 0.6ms postprocess per image at shape (1, 3, 480, 640)\n",
      "\n",
      "0: 480x640 20 cars, 1 bus, 2 trucks, 79.1ms\n",
      "Speed: 2.7ms preprocess, 79.1ms inference, 0.9ms postprocess per image at shape (1, 3, 480, 640)\n",
      "\n",
      "0: 480x640 1 license, 78.5ms\n",
      "Speed: 2.7ms preprocess, 78.5ms inference, 0.6ms postprocess per image at shape (1, 3, 480, 640)\n",
      "\n",
      "0: 480x640 18 cars, 1 bus, 79.2ms\n",
      "Speed: 2.8ms preprocess, 79.2ms inference, 0.8ms postprocess per image at shape (1, 3, 480, 640)\n",
      "\n",
      "0: 480x640 1 license, 78.1ms\n",
      "Speed: 3.1ms preprocess, 78.1ms inference, 0.6ms postprocess per image at shape (1, 3, 480, 640)\n",
      "\n",
      "0: 480x640 18 cars, 1 bus, 78.6ms\n",
      "Speed: 2.3ms preprocess, 78.6ms inference, 0.8ms postprocess per image at shape (1, 3, 480, 640)\n",
      "\n",
      "0: 480x640 1 license, 78.4ms\n",
      "Speed: 2.9ms preprocess, 78.4ms inference, 0.9ms postprocess per image at shape (1, 3, 480, 640)\n",
      "\n",
      "0: 480x640 18 cars, 1 bus, 2 trucks, 78.1ms\n",
      "Speed: 2.3ms preprocess, 78.1ms inference, 0.8ms postprocess per image at shape (1, 3, 480, 640)\n",
      "\n",
      "0: 480x640 2 licenses, 77.9ms\n",
      "Speed: 2.8ms preprocess, 77.9ms inference, 0.6ms postprocess per image at shape (1, 3, 480, 640)\n",
      "\n",
      "0: 480x640 18 cars, 1 bus, 2 trucks, 76.6ms\n",
      "Speed: 2.5ms preprocess, 76.6ms inference, 1.0ms postprocess per image at shape (1, 3, 480, 640)\n",
      "\n",
      "0: 480x640 2 licenses, 77.2ms\n",
      "Speed: 2.7ms preprocess, 77.2ms inference, 0.8ms postprocess per image at shape (1, 3, 480, 640)\n",
      "\n",
      "0: 480x640 18 cars, 1 bus, 2 trucks, 72.6ms\n",
      "Speed: 2.4ms preprocess, 72.6ms inference, 0.7ms postprocess per image at shape (1, 3, 480, 640)\n",
      "\n",
      "0: 480x640 2 licenses, 70.5ms\n",
      "Speed: 2.4ms preprocess, 70.5ms inference, 0.7ms postprocess per image at shape (1, 3, 480, 640)\n",
      "\n",
      "0: 480x640 18 cars, 1 bus, 2 trucks, 75.8ms\n",
      "Speed: 2.9ms preprocess, 75.8ms inference, 0.7ms postprocess per image at shape (1, 3, 480, 640)\n",
      "\n",
      "0: 480x640 2 licenses, 78.3ms\n",
      "Speed: 2.7ms preprocess, 78.3ms inference, 0.6ms postprocess per image at shape (1, 3, 480, 640)\n",
      "\n",
      "0: 480x640 17 cars, 2 trucks, 72.3ms\n",
      "Speed: 2.4ms preprocess, 72.3ms inference, 0.7ms postprocess per image at shape (1, 3, 480, 640)\n",
      "\n",
      "0: 480x640 1 license, 76.9ms\n",
      "Speed: 2.7ms preprocess, 76.9ms inference, 0.7ms postprocess per image at shape (1, 3, 480, 640)\n",
      "\n",
      "0: 480x640 17 cars, 2 trucks, 79.5ms\n",
      "Speed: 2.8ms preprocess, 79.5ms inference, 0.9ms postprocess per image at shape (1, 3, 480, 640)\n",
      "\n",
      "0: 480x640 1 license, 86.0ms\n",
      "Speed: 2.9ms preprocess, 86.0ms inference, 0.8ms postprocess per image at shape (1, 3, 480, 640)\n",
      "\n",
      "0: 480x640 20 cars, 3 trucks, 74.6ms\n",
      "Speed: 2.4ms preprocess, 74.6ms inference, 0.7ms postprocess per image at shape (1, 3, 480, 640)\n",
      "\n",
      "0: 480x640 1 license, 75.8ms\n",
      "Speed: 2.8ms preprocess, 75.8ms inference, 0.6ms postprocess per image at shape (1, 3, 480, 640)\n",
      "\n",
      "0: 480x640 20 cars, 4 trucks, 79.5ms\n",
      "Speed: 2.7ms preprocess, 79.5ms inference, 0.8ms postprocess per image at shape (1, 3, 480, 640)\n",
      "\n",
      "0: 480x640 1 license, 79.1ms\n",
      "Speed: 2.6ms preprocess, 79.1ms inference, 1.0ms postprocess per image at shape (1, 3, 480, 640)\n",
      "\n",
      "0: 480x640 20 cars, 3 trucks, 73.2ms\n",
      "Speed: 2.8ms preprocess, 73.2ms inference, 0.9ms postprocess per image at shape (1, 3, 480, 640)\n",
      "\n",
      "0: 480x640 1 license, 77.4ms\n",
      "Speed: 2.8ms preprocess, 77.4ms inference, 0.7ms postprocess per image at shape (1, 3, 480, 640)\n",
      "\n",
      "0: 480x640 20 cars, 3 trucks, 77.6ms\n",
      "Speed: 2.5ms preprocess, 77.6ms inference, 0.8ms postprocess per image at shape (1, 3, 480, 640)\n",
      "\n",
      "0: 480x640 1 license, 80.5ms\n",
      "Speed: 2.5ms preprocess, 80.5ms inference, 0.6ms postprocess per image at shape (1, 3, 480, 640)\n",
      "\n",
      "0: 480x640 20 cars, 2 trucks, 77.6ms\n",
      "Speed: 2.5ms preprocess, 77.6ms inference, 0.8ms postprocess per image at shape (1, 3, 480, 640)\n",
      "\n",
      "0: 480x640 1 license, 78.8ms\n",
      "Speed: 2.7ms preprocess, 78.8ms inference, 0.6ms postprocess per image at shape (1, 3, 480, 640)\n",
      "\n",
      "0: 480x640 19 cars, 2 trucks, 79.1ms\n",
      "Speed: 2.7ms preprocess, 79.1ms inference, 1.0ms postprocess per image at shape (1, 3, 480, 640)\n",
      "\n",
      "0: 480x640 1 license, 79.3ms\n",
      "Speed: 3.1ms preprocess, 79.3ms inference, 0.6ms postprocess per image at shape (1, 3, 480, 640)\n",
      "\n",
      "0: 480x640 21 cars, 3 trucks, 81.1ms\n",
      "Speed: 2.8ms preprocess, 81.1ms inference, 1.1ms postprocess per image at shape (1, 3, 480, 640)\n",
      "\n",
      "0: 480x640 1 license, 81.5ms\n",
      "Speed: 3.2ms preprocess, 81.5ms inference, 0.7ms postprocess per image at shape (1, 3, 480, 640)\n",
      "\n",
      "0: 480x640 21 cars, 3 trucks, 81.2ms\n",
      "Speed: 2.4ms preprocess, 81.2ms inference, 0.9ms postprocess per image at shape (1, 3, 480, 640)\n",
      "\n",
      "0: 480x640 1 license, 78.5ms\n",
      "Speed: 3.0ms preprocess, 78.5ms inference, 0.6ms postprocess per image at shape (1, 3, 480, 640)\n",
      "\n",
      "0: 480x640 21 cars, 3 trucks, 79.2ms\n",
      "Speed: 2.7ms preprocess, 79.2ms inference, 0.8ms postprocess per image at shape (1, 3, 480, 640)\n",
      "\n",
      "0: 480x640 1 license, 78.4ms\n",
      "Speed: 2.5ms preprocess, 78.4ms inference, 0.7ms postprocess per image at shape (1, 3, 480, 640)\n",
      "\n",
      "0: 480x640 19 cars, 3 trucks, 76.2ms\n",
      "Speed: 2.4ms preprocess, 76.2ms inference, 0.8ms postprocess per image at shape (1, 3, 480, 640)\n",
      "\n",
      "0: 480x640 1 license, 77.3ms\n",
      "Speed: 2.9ms preprocess, 77.3ms inference, 0.6ms postprocess per image at shape (1, 3, 480, 640)\n",
      "\n",
      "0: 480x640 21 cars, 3 trucks, 76.0ms\n",
      "Speed: 2.4ms preprocess, 76.0ms inference, 1.0ms postprocess per image at shape (1, 3, 480, 640)\n",
      "\n",
      "0: 480x640 1 license, 77.4ms\n",
      "Speed: 2.7ms preprocess, 77.4ms inference, 0.7ms postprocess per image at shape (1, 3, 480, 640)\n",
      "\n",
      "0: 480x640 21 cars, 3 trucks, 103.1ms\n",
      "Speed: 3.3ms preprocess, 103.1ms inference, 1.2ms postprocess per image at shape (1, 3, 480, 640)\n",
      "\n",
      "0: 480x640 1 license, 109.9ms\n",
      "Speed: 3.3ms preprocess, 109.9ms inference, 0.9ms postprocess per image at shape (1, 3, 480, 640)\n",
      "\n",
      "0: 480x640 21 cars, 3 trucks, 78.0ms\n",
      "Speed: 2.5ms preprocess, 78.0ms inference, 0.9ms postprocess per image at shape (1, 3, 480, 640)\n",
      "\n",
      "0: 480x640 1 license, 76.9ms\n",
      "Speed: 2.9ms preprocess, 76.9ms inference, 0.8ms postprocess per image at shape (1, 3, 480, 640)\n",
      "\n",
      "0: 480x640 21 cars, 4 trucks, 80.5ms\n",
      "Speed: 2.4ms preprocess, 80.5ms inference, 0.8ms postprocess per image at shape (1, 3, 480, 640)\n",
      "\n",
      "0: 480x640 1 license, 79.1ms\n",
      "Speed: 2.8ms preprocess, 79.1ms inference, 0.6ms postprocess per image at shape (1, 3, 480, 640)\n",
      "\n",
      "0: 480x640 20 cars, 3 trucks, 81.2ms\n",
      "Speed: 2.6ms preprocess, 81.2ms inference, 0.8ms postprocess per image at shape (1, 3, 480, 640)\n",
      "\n",
      "0: 480x640 1 license, 76.6ms\n",
      "Speed: 3.1ms preprocess, 76.6ms inference, 0.8ms postprocess per image at shape (1, 3, 480, 640)\n",
      "\n",
      "0: 480x640 20 cars, 3 trucks, 77.1ms\n",
      "Speed: 2.4ms preprocess, 77.1ms inference, 0.8ms postprocess per image at shape (1, 3, 480, 640)\n",
      "\n",
      "0: 480x640 1 license, 77.6ms\n",
      "Speed: 2.7ms preprocess, 77.6ms inference, 0.9ms postprocess per image at shape (1, 3, 480, 640)\n",
      "\n",
      "0: 480x640 20 cars, 3 trucks, 73.8ms\n",
      "Speed: 2.4ms preprocess, 73.8ms inference, 0.7ms postprocess per image at shape (1, 3, 480, 640)\n",
      "\n",
      "0: 480x640 1 license, 77.2ms\n",
      "Speed: 2.8ms preprocess, 77.2ms inference, 0.6ms postprocess per image at shape (1, 3, 480, 640)\n",
      "\n",
      "0: 480x640 20 cars, 3 trucks, 77.8ms\n",
      "Speed: 2.5ms preprocess, 77.8ms inference, 0.9ms postprocess per image at shape (1, 3, 480, 640)\n",
      "\n",
      "0: 480x640 1 license, 78.5ms\n",
      "Speed: 2.6ms preprocess, 78.5ms inference, 0.6ms postprocess per image at shape (1, 3, 480, 640)\n",
      "\n",
      "0: 480x640 19 cars, 2 trucks, 78.0ms\n",
      "Speed: 2.5ms preprocess, 78.0ms inference, 0.8ms postprocess per image at shape (1, 3, 480, 640)\n",
      "\n",
      "0: 480x640 1 license, 78.2ms\n",
      "Speed: 3.1ms preprocess, 78.2ms inference, 0.7ms postprocess per image at shape (1, 3, 480, 640)\n",
      "\n",
      "0: 480x640 19 cars, 2 trucks, 77.1ms\n",
      "Speed: 2.4ms preprocess, 77.1ms inference, 0.8ms postprocess per image at shape (1, 3, 480, 640)\n",
      "\n",
      "0: 480x640 1 license, 77.4ms\n",
      "Speed: 3.0ms preprocess, 77.4ms inference, 0.6ms postprocess per image at shape (1, 3, 480, 640)\n",
      "\n",
      "0: 480x640 17 cars, 2 trucks, 81.2ms\n",
      "Speed: 2.5ms preprocess, 81.2ms inference, 0.8ms postprocess per image at shape (1, 3, 480, 640)\n",
      "\n",
      "0: 480x640 1 license, 74.8ms\n",
      "Speed: 3.1ms preprocess, 74.8ms inference, 0.5ms postprocess per image at shape (1, 3, 480, 640)\n",
      "\n",
      "0: 480x640 17 cars, 2 trucks, 79.1ms\n",
      "Speed: 2.3ms preprocess, 79.1ms inference, 0.8ms postprocess per image at shape (1, 3, 480, 640)\n",
      "\n",
      "0: 480x640 1 license, 77.6ms\n",
      "Speed: 2.7ms preprocess, 77.6ms inference, 0.6ms postprocess per image at shape (1, 3, 480, 640)\n",
      "\n",
      "0: 480x640 20 cars, 2 trucks, 75.2ms\n",
      "Speed: 2.4ms preprocess, 75.2ms inference, 0.8ms postprocess per image at shape (1, 3, 480, 640)\n",
      "\n",
      "0: 480x640 1 license, 73.3ms\n",
      "Speed: 2.6ms preprocess, 73.3ms inference, 0.6ms postprocess per image at shape (1, 3, 480, 640)\n",
      "\n",
      "0: 480x640 21 cars, 2 trucks, 80.6ms\n",
      "Speed: 2.6ms preprocess, 80.6ms inference, 1.0ms postprocess per image at shape (1, 3, 480, 640)\n",
      "\n",
      "0: 480x640 1 license, 79.0ms\n",
      "Speed: 2.9ms preprocess, 79.0ms inference, 0.6ms postprocess per image at shape (1, 3, 480, 640)\n",
      "\n",
      "0: 480x640 21 cars, 2 trucks, 78.8ms\n",
      "Speed: 2.4ms preprocess, 78.8ms inference, 0.8ms postprocess per image at shape (1, 3, 480, 640)\n",
      "\n",
      "0: 480x640 1 license, 78.5ms\n",
      "Speed: 2.6ms preprocess, 78.5ms inference, 0.6ms postprocess per image at shape (1, 3, 480, 640)\n",
      "\n",
      "0: 480x640 21 cars, 2 trucks, 80.0ms\n",
      "Speed: 2.7ms preprocess, 80.0ms inference, 0.8ms postprocess per image at shape (1, 3, 480, 640)\n",
      "\n",
      "0: 480x640 1 license, 77.3ms\n",
      "Speed: 3.1ms preprocess, 77.3ms inference, 0.6ms postprocess per image at shape (1, 3, 480, 640)\n",
      "\n",
      "0: 480x640 20 cars, 2 trucks, 79.9ms\n",
      "Speed: 2.4ms preprocess, 79.9ms inference, 0.8ms postprocess per image at shape (1, 3, 480, 640)\n",
      "\n",
      "0: 480x640 2 licenses, 78.3ms\n",
      "Speed: 2.7ms preprocess, 78.3ms inference, 0.6ms postprocess per image at shape (1, 3, 480, 640)\n",
      "\n",
      "0: 480x640 19 cars, 2 trucks, 74.9ms\n",
      "Speed: 2.4ms preprocess, 74.9ms inference, 0.7ms postprocess per image at shape (1, 3, 480, 640)\n",
      "\n",
      "0: 480x640 2 licenses, 77.3ms\n",
      "Speed: 2.3ms preprocess, 77.3ms inference, 0.6ms postprocess per image at shape (1, 3, 480, 640)\n",
      "\n",
      "0: 480x640 21 cars, 4 trucks, 74.2ms\n",
      "Speed: 2.4ms preprocess, 74.2ms inference, 1.0ms postprocess per image at shape (1, 3, 480, 640)\n",
      "\n",
      "0: 480x640 1 license, 76.2ms\n",
      "Speed: 2.5ms preprocess, 76.2ms inference, 0.5ms postprocess per image at shape (1, 3, 480, 640)\n",
      "\n",
      "0: 480x640 21 cars, 4 trucks, 79.7ms\n",
      "Speed: 2.6ms preprocess, 79.7ms inference, 0.8ms postprocess per image at shape (1, 3, 480, 640)\n",
      "\n",
      "0: 480x640 1 license, 81.3ms\n",
      "Speed: 2.5ms preprocess, 81.3ms inference, 1.0ms postprocess per image at shape (1, 3, 480, 640)\n",
      "\n",
      "0: 480x640 23 cars, 1 bus, 3 trucks, 76.7ms\n",
      "Speed: 2.8ms preprocess, 76.7ms inference, 1.0ms postprocess per image at shape (1, 3, 480, 640)\n",
      "\n",
      "0: 480x640 1 license, 77.5ms\n",
      "Speed: 3.2ms preprocess, 77.5ms inference, 0.6ms postprocess per image at shape (1, 3, 480, 640)\n",
      "\n",
      "0: 480x640 23 cars, 1 bus, 3 trucks, 76.6ms\n",
      "Speed: 2.5ms preprocess, 76.6ms inference, 0.8ms postprocess per image at shape (1, 3, 480, 640)\n",
      "\n",
      "0: 480x640 1 license, 74.2ms\n",
      "Speed: 3.0ms preprocess, 74.2ms inference, 0.6ms postprocess per image at shape (1, 3, 480, 640)\n",
      "\n",
      "0: 480x640 23 cars, 1 bus, 3 trucks, 77.4ms\n",
      "Speed: 2.4ms preprocess, 77.4ms inference, 0.8ms postprocess per image at shape (1, 3, 480, 640)\n",
      "\n",
      "0: 480x640 2 licenses, 76.3ms\n",
      "Speed: 3.0ms preprocess, 76.3ms inference, 0.9ms postprocess per image at shape (1, 3, 480, 640)\n",
      "\n",
      "0: 480x640 23 cars, 1 bus, 3 trucks, 73.9ms\n",
      "Speed: 2.4ms preprocess, 73.9ms inference, 0.8ms postprocess per image at shape (1, 3, 480, 640)\n",
      "\n",
      "0: 480x640 2 licenses, 72.7ms\n",
      "Speed: 2.4ms preprocess, 72.7ms inference, 0.6ms postprocess per image at shape (1, 3, 480, 640)\n"
     ]
    },
    {
     "name": "stdout",
     "output_type": "stream",
     "text": [
      "Error: results_list is empty or contains tuples without a second element.\n"
     ]
    },
    {
     "name": "stderr",
     "output_type": "stream",
     "text": [
      "\n",
      "0: 480x640 23 cars, 1 bus, 3 trucks, 73.7ms\n",
      "Speed: 2.4ms preprocess, 73.7ms inference, 0.8ms postprocess per image at shape (1, 3, 480, 640)\n",
      "\n",
      "0: 480x640 1 license, 75.4ms\n",
      "Speed: 2.7ms preprocess, 75.4ms inference, 0.6ms postprocess per image at shape (1, 3, 480, 640)\n"
     ]
    },
    {
     "name": "stdout",
     "output_type": "stream",
     "text": [
      "Error: results_list is empty or contains tuples without a second element.\n"
     ]
    },
    {
     "name": "stderr",
     "output_type": "stream",
     "text": [
      "\n",
      "0: 480x640 23 cars, 1 bus, 3 trucks, 79.9ms\n",
      "Speed: 2.4ms preprocess, 79.9ms inference, 0.8ms postprocess per image at shape (1, 3, 480, 640)\n",
      "\n",
      "0: 480x640 1 license, 78.9ms\n",
      "Speed: 2.8ms preprocess, 78.9ms inference, 0.6ms postprocess per image at shape (1, 3, 480, 640)\n",
      "\n",
      "0: 480x640 21 cars, 1 bus, 3 trucks, 76.1ms\n",
      "Speed: 2.5ms preprocess, 76.1ms inference, 1.1ms postprocess per image at shape (1, 3, 480, 640)\n",
      "\n",
      "0: 480x640 2 licenses, 77.9ms\n",
      "Speed: 2.6ms preprocess, 77.9ms inference, 0.6ms postprocess per image at shape (1, 3, 480, 640)\n",
      "\n",
      "0: 480x640 21 cars, 1 bus, 3 trucks, 73.2ms\n",
      "Speed: 2.6ms preprocess, 73.2ms inference, 0.8ms postprocess per image at shape (1, 3, 480, 640)\n",
      "\n",
      "0: 480x640 2 licenses, 77.6ms\n",
      "Speed: 2.3ms preprocess, 77.6ms inference, 0.5ms postprocess per image at shape (1, 3, 480, 640)\n"
     ]
    },
    {
     "name": "stdout",
     "output_type": "stream",
     "text": [
      "Error: results_list is empty or contains tuples without a second element.\n"
     ]
    },
    {
     "name": "stderr",
     "output_type": "stream",
     "text": [
      "\n",
      "0: 480x640 21 cars, 1 bus, 3 trucks, 75.0ms\n",
      "Speed: 2.4ms preprocess, 75.0ms inference, 0.8ms postprocess per image at shape (1, 3, 480, 640)\n",
      "\n",
      "0: 480x640 3 licenses, 74.4ms\n",
      "Speed: 2.7ms preprocess, 74.4ms inference, 0.6ms postprocess per image at shape (1, 3, 480, 640)\n"
     ]
    },
    {
     "name": "stdout",
     "output_type": "stream",
     "text": [
      "Error: results_list is empty or contains tuples without a second element.\n",
      "Error: results_list is empty or contains tuples without a second element.\n"
     ]
    },
    {
     "name": "stderr",
     "output_type": "stream",
     "text": [
      "\n",
      "0: 480x640 21 cars, 1 bus, 3 trucks, 76.2ms\n",
      "Speed: 2.4ms preprocess, 76.2ms inference, 1.2ms postprocess per image at shape (1, 3, 480, 640)\n",
      "\n",
      "0: 480x640 3 licenses, 75.9ms\n",
      "Speed: 2.4ms preprocess, 75.9ms inference, 0.6ms postprocess per image at shape (1, 3, 480, 640)\n"
     ]
    },
    {
     "name": "stdout",
     "output_type": "stream",
     "text": [
      "Error: results_list is empty or contains tuples without a second element.\n",
      "Error: results_list is empty or contains tuples without a second element.\n"
     ]
    },
    {
     "name": "stderr",
     "output_type": "stream",
     "text": [
      "\n",
      "0: 480x640 19 cars, 1 bus, 3 trucks, 158.4ms\n",
      "Speed: 4.6ms preprocess, 158.4ms inference, 4.0ms postprocess per image at shape (1, 3, 480, 640)\n",
      "\n"
     ]
    },
    {
     "name": "stdout",
     "output_type": "stream",
     "text": [
      "Error: results_list is empty or contains tuples without a second element.\n"
     ]
    },
    {
     "name": "stderr",
     "output_type": "stream",
     "text": [
      "0: 480x640 1 license, 211.6ms\n",
      "Speed: 7.1ms preprocess, 211.6ms inference, 1.0ms postprocess per image at shape (1, 3, 480, 640)\n",
      "\n",
      "0: 480x640 20 cars, 1 bus, 3 trucks, 156.2ms\n",
      "Speed: 4.8ms preprocess, 156.2ms inference, 2.5ms postprocess per image at shape (1, 3, 480, 640)\n",
      "\n",
      "0: 480x640 1 license, 186.7ms\n",
      "Speed: 8.8ms preprocess, 186.7ms inference, 1.2ms postprocess per image at shape (1, 3, 480, 640)\n",
      "\n",
      "0: 480x640 22 cars, 3 trucks, 101.6ms\n",
      "Speed: 5.0ms preprocess, 101.6ms inference, 1.0ms postprocess per image at shape (1, 3, 480, 640)\n",
      "\n",
      "0: 480x640 1 license, 112.6ms\n",
      "Speed: 5.0ms preprocess, 112.6ms inference, 1.0ms postprocess per image at shape (1, 3, 480, 640)\n",
      "\n",
      "0: 480x640 22 cars, 3 trucks, 86.0ms\n",
      "Speed: 2.8ms preprocess, 86.0ms inference, 0.9ms postprocess per image at shape (1, 3, 480, 640)\n",
      "\n",
      "0: 480x640 1 license, 131.1ms\n",
      "Speed: 3.2ms preprocess, 131.1ms inference, 1.5ms postprocess per image at shape (1, 3, 480, 640)\n",
      "\n",
      "0: 480x640 20 cars, 3 trucks, 90.7ms\n",
      "Speed: 2.9ms preprocess, 90.7ms inference, 0.9ms postprocess per image at shape (1, 3, 480, 640)\n",
      "\n",
      "0: 480x640 1 license, 84.9ms\n",
      "Speed: 4.8ms preprocess, 84.9ms inference, 0.9ms postprocess per image at shape (1, 3, 480, 640)\n",
      "\n",
      "0: 480x640 21 cars, 4 trucks, 139.6ms\n",
      "Speed: 2.8ms preprocess, 139.6ms inference, 1.1ms postprocess per image at shape (1, 3, 480, 640)\n",
      "\n",
      "0: 480x640 1 license, 393.6ms\n",
      "Speed: 3.4ms preprocess, 393.6ms inference, 1.8ms postprocess per image at shape (1, 3, 480, 640)\n",
      "\n",
      "0: 480x640 20 cars, 4 trucks, 80.5ms\n",
      "Speed: 2.4ms preprocess, 80.5ms inference, 0.9ms postprocess per image at shape (1, 3, 480, 640)\n",
      "\n",
      "0: 480x640 1 license, 107.6ms\n",
      "Speed: 3.1ms preprocess, 107.6ms inference, 1.2ms postprocess per image at shape (1, 3, 480, 640)\n",
      "\n",
      "0: 480x640 20 cars, 4 trucks, 88.4ms\n",
      "Speed: 3.2ms preprocess, 88.4ms inference, 1.3ms postprocess per image at shape (1, 3, 480, 640)\n",
      "\n",
      "0: 480x640 1 license, 225.9ms\n",
      "Speed: 5.2ms preprocess, 225.9ms inference, 1.1ms postprocess per image at shape (1, 3, 480, 640)\n",
      "\n",
      "0: 480x640 22 cars, 1 bus, 4 trucks, 95.2ms\n",
      "Speed: 2.9ms preprocess, 95.2ms inference, 1.1ms postprocess per image at shape (1, 3, 480, 640)\n",
      "\n",
      "0: 480x640 2 licenses, 89.0ms\n",
      "Speed: 3.0ms preprocess, 89.0ms inference, 1.0ms postprocess per image at shape (1, 3, 480, 640)\n",
      "\n",
      "0: 480x640 22 cars, 1 bus, 4 trucks, 87.2ms\n",
      "Speed: 3.5ms preprocess, 87.2ms inference, 1.3ms postprocess per image at shape (1, 3, 480, 640)\n",
      "\n",
      "0: 480x640 2 licenses, 143.1ms\n",
      "Speed: 3.3ms preprocess, 143.1ms inference, 1.0ms postprocess per image at shape (1, 3, 480, 640)\n",
      "\n",
      "0: 480x640 23 cars, 4 trucks, 80.5ms\n",
      "Speed: 2.8ms preprocess, 80.5ms inference, 1.1ms postprocess per image at shape (1, 3, 480, 640)\n",
      "\n",
      "0: 480x640 3 licenses, 97.5ms\n",
      "Speed: 3.5ms preprocess, 97.5ms inference, 0.9ms postprocess per image at shape (1, 3, 480, 640)\n"
     ]
    },
    {
     "name": "stdout",
     "output_type": "stream",
     "text": [
      "Error: results_list is empty or contains tuples without a second element.\n"
     ]
    },
    {
     "name": "stderr",
     "output_type": "stream",
     "text": [
      "\n",
      "0: 480x640 23 cars, 4 trucks, 77.8ms\n",
      "Speed: 2.7ms preprocess, 77.8ms inference, 0.8ms postprocess per image at shape (1, 3, 480, 640)\n",
      "\n",
      "0: 480x640 3 licenses, 88.8ms\n",
      "Speed: 2.7ms preprocess, 88.8ms inference, 1.0ms postprocess per image at shape (1, 3, 480, 640)\n"
     ]
    },
    {
     "name": "stdout",
     "output_type": "stream",
     "text": [
      "Error: results_list is empty or contains tuples without a second element.\n"
     ]
    },
    {
     "name": "stderr",
     "output_type": "stream",
     "text": [
      "\n",
      "0: 480x640 23 cars, 4 trucks, 179.6ms\n",
      "Speed: 4.5ms preprocess, 179.6ms inference, 4.9ms postprocess per image at shape (1, 3, 480, 640)\n",
      "\n",
      "0: 480x640 2 licenses, 243.0ms\n",
      "Speed: 5.3ms preprocess, 243.0ms inference, 7.2ms postprocess per image at shape (1, 3, 480, 640)\n",
      "\n",
      "0: 480x640 23 cars, 4 trucks, 131.5ms\n",
      "Speed: 4.5ms preprocess, 131.5ms inference, 1.7ms postprocess per image at shape (1, 3, 480, 640)\n",
      "\n"
     ]
    },
    {
     "name": "stdout",
     "output_type": "stream",
     "text": [
      "Error: results_list is empty or contains tuples without a second element.\n"
     ]
    },
    {
     "name": "stderr",
     "output_type": "stream",
     "text": [
      "0: 480x640 2 licenses, 147.6ms\n",
      "Speed: 5.9ms preprocess, 147.6ms inference, 1.1ms postprocess per image at shape (1, 3, 480, 640)\n",
      "\n",
      "0: 480x640 21 cars, 1 bus, 3 trucks, 79.0ms\n",
      "Speed: 2.8ms preprocess, 79.0ms inference, 0.8ms postprocess per image at shape (1, 3, 480, 640)\n",
      "\n",
      "0: 480x640 2 licenses, 79.6ms\n",
      "Speed: 2.9ms preprocess, 79.6ms inference, 0.8ms postprocess per image at shape (1, 3, 480, 640)\n"
     ]
    },
    {
     "name": "stdout",
     "output_type": "stream",
     "text": [
      "Error: results_list is empty or contains tuples without a second element.\n"
     ]
    },
    {
     "name": "stderr",
     "output_type": "stream",
     "text": [
      "\n",
      "0: 480x640 21 cars, 1 bus, 3 trucks, 75.2ms\n",
      "Speed: 2.5ms preprocess, 75.2ms inference, 0.8ms postprocess per image at shape (1, 3, 480, 640)\n",
      "\n",
      "0: 480x640 2 licenses, 80.9ms\n",
      "Speed: 2.8ms preprocess, 80.9ms inference, 0.8ms postprocess per image at shape (1, 3, 480, 640)\n"
     ]
    },
    {
     "name": "stdout",
     "output_type": "stream",
     "text": [
      "Error: results_list is empty or contains tuples without a second element.\n"
     ]
    },
    {
     "name": "stderr",
     "output_type": "stream",
     "text": [
      "\n",
      "0: 480x640 20 cars, 1 bus, 3 trucks, 78.4ms\n",
      "Speed: 2.6ms preprocess, 78.4ms inference, 0.9ms postprocess per image at shape (1, 3, 480, 640)\n",
      "\n",
      "0: 480x640 2 licenses, 89.9ms\n",
      "Speed: 3.2ms preprocess, 89.9ms inference, 0.8ms postprocess per image at shape (1, 3, 480, 640)\n"
     ]
    },
    {
     "name": "stdout",
     "output_type": "stream",
     "text": [
      "Error: results_list is empty or contains tuples without a second element.\n",
      "Error: results_list is empty or contains tuples without a second element.\n"
     ]
    },
    {
     "name": "stderr",
     "output_type": "stream",
     "text": [
      "\n",
      "0: 480x640 20 cars, 1 bus, 3 trucks, 74.6ms\n",
      "Speed: 2.3ms preprocess, 74.6ms inference, 0.9ms postprocess per image at shape (1, 3, 480, 640)\n",
      "\n",
      "0: 480x640 2 licenses, 81.4ms\n",
      "Speed: 2.7ms preprocess, 81.4ms inference, 0.7ms postprocess per image at shape (1, 3, 480, 640)\n"
     ]
    },
    {
     "name": "stdout",
     "output_type": "stream",
     "text": [
      "Error: results_list is empty or contains tuples without a second element.\n"
     ]
    },
    {
     "name": "stderr",
     "output_type": "stream",
     "text": [
      "\n",
      "0: 480x640 20 cars, 1 bus, 3 trucks, 80.7ms\n",
      "Speed: 2.6ms preprocess, 80.7ms inference, 1.0ms postprocess per image at shape (1, 3, 480, 640)\n",
      "\n",
      "0: 480x640 3 licenses, 89.4ms\n",
      "Speed: 3.1ms preprocess, 89.4ms inference, 0.8ms postprocess per image at shape (1, 3, 480, 640)\n"
     ]
    },
    {
     "name": "stdout",
     "output_type": "stream",
     "text": [
      "Error: results_list is empty or contains tuples without a second element.\n"
     ]
    },
    {
     "name": "stderr",
     "output_type": "stream",
     "text": [
      "\n",
      "0: 480x640 20 cars, 1 bus, 3 trucks, 132.3ms\n",
      "Speed: 4.2ms preprocess, 132.3ms inference, 1.6ms postprocess per image at shape (1, 3, 480, 640)\n",
      "\n"
     ]
    },
    {
     "name": "stdout",
     "output_type": "stream",
     "text": [
      "Error: results_list is empty or contains tuples without a second element.\n"
     ]
    },
    {
     "name": "stderr",
     "output_type": "stream",
     "text": [
      "0: 480x640 3 licenses, 112.2ms\n",
      "Speed: 5.5ms preprocess, 112.2ms inference, 0.8ms postprocess per image at shape (1, 3, 480, 640)\n"
     ]
    },
    {
     "name": "stdout",
     "output_type": "stream",
     "text": [
      "Error: results_list is empty or contains tuples without a second element.\n"
     ]
    },
    {
     "name": "stderr",
     "output_type": "stream",
     "text": [
      "\n",
      "0: 480x640 21 cars, 1 bus, 4 trucks, 72.6ms\n",
      "Speed: 2.8ms preprocess, 72.6ms inference, 0.8ms postprocess per image at shape (1, 3, 480, 640)\n",
      "\n",
      "0: 480x640 2 licenses, 77.0ms\n",
      "Speed: 3.0ms preprocess, 77.0ms inference, 0.8ms postprocess per image at shape (1, 3, 480, 640)\n"
     ]
    },
    {
     "name": "stdout",
     "output_type": "stream",
     "text": [
      "Error: results_list is empty or contains tuples without a second element.\n"
     ]
    },
    {
     "name": "stderr",
     "output_type": "stream",
     "text": [
      "\n",
      "0: 480x640 21 cars, 1 bus, 4 trucks, 81.1ms\n",
      "Speed: 2.7ms preprocess, 81.1ms inference, 0.9ms postprocess per image at shape (1, 3, 480, 640)\n",
      "\n",
      "0: 480x640 2 licenses, 90.7ms\n",
      "Speed: 3.3ms preprocess, 90.7ms inference, 0.7ms postprocess per image at shape (1, 3, 480, 640)\n",
      "\n",
      "0: 480x640 21 cars, 1 bus, 4 trucks, 72.6ms\n",
      "Speed: 2.4ms preprocess, 72.6ms inference, 0.8ms postprocess per image at shape (1, 3, 480, 640)\n",
      "\n",
      "0: 480x640 2 licenses, 72.6ms\n",
      "Speed: 2.7ms preprocess, 72.6ms inference, 0.6ms postprocess per image at shape (1, 3, 480, 640)\n"
     ]
    },
    {
     "name": "stdout",
     "output_type": "stream",
     "text": [
      "Error: results_list is empty or contains tuples without a second element.\n"
     ]
    },
    {
     "name": "stderr",
     "output_type": "stream",
     "text": [
      "\n",
      "0: 480x640 22 cars, 1 bus, 4 trucks, 77.6ms\n",
      "Speed: 2.6ms preprocess, 77.6ms inference, 0.8ms postprocess per image at shape (1, 3, 480, 640)\n",
      "\n",
      "0: 480x640 2 licenses, 90.0ms\n",
      "Speed: 2.7ms preprocess, 90.0ms inference, 0.7ms postprocess per image at shape (1, 3, 480, 640)\n",
      "\n",
      "0: 480x640 21 cars, 4 trucks, 77.2ms\n",
      "Speed: 2.7ms preprocess, 77.2ms inference, 0.8ms postprocess per image at shape (1, 3, 480, 640)\n",
      "\n",
      "0: 480x640 3 licenses, 85.0ms\n",
      "Speed: 3.2ms preprocess, 85.0ms inference, 0.7ms postprocess per image at shape (1, 3, 480, 640)\n"
     ]
    },
    {
     "name": "stdout",
     "output_type": "stream",
     "text": [
      "Error: results_list is empty or contains tuples without a second element.\n"
     ]
    },
    {
     "name": "stderr",
     "output_type": "stream",
     "text": [
      "\n",
      "0: 480x640 20 cars, 4 trucks, 77.1ms\n",
      "Speed: 2.9ms preprocess, 77.1ms inference, 1.0ms postprocess per image at shape (1, 3, 480, 640)\n",
      "\n",
      "0: 480x640 3 licenses, 81.8ms\n",
      "Speed: 3.0ms preprocess, 81.8ms inference, 0.7ms postprocess per image at shape (1, 3, 480, 640)\n"
     ]
    },
    {
     "name": "stdout",
     "output_type": "stream",
     "text": [
      "Error: results_list is empty or contains tuples without a second element.\n"
     ]
    },
    {
     "name": "stderr",
     "output_type": "stream",
     "text": [
      "\n",
      "0: 480x640 20 cars, 4 trucks, 73.9ms\n",
      "Speed: 2.4ms preprocess, 73.9ms inference, 1.0ms postprocess per image at shape (1, 3, 480, 640)\n",
      "\n",
      "0: 480x640 2 licenses, 81.3ms\n",
      "Speed: 2.7ms preprocess, 81.3ms inference, 0.7ms postprocess per image at shape (1, 3, 480, 640)\n",
      "\n",
      "0: 480x640 20 cars, 4 trucks, 73.6ms\n",
      "Speed: 2.4ms preprocess, 73.6ms inference, 0.9ms postprocess per image at shape (1, 3, 480, 640)\n",
      "\n",
      "0: 480x640 2 licenses, 75.9ms\n",
      "Speed: 3.0ms preprocess, 75.9ms inference, 0.6ms postprocess per image at shape (1, 3, 480, 640)\n"
     ]
    },
    {
     "name": "stdout",
     "output_type": "stream",
     "text": [
      "Error: results_list is empty or contains tuples without a second element.\n"
     ]
    },
    {
     "name": "stderr",
     "output_type": "stream",
     "text": [
      "\n",
      "0: 480x640 21 cars, 3 trucks, 69.7ms\n",
      "Speed: 2.4ms preprocess, 69.7ms inference, 0.8ms postprocess per image at shape (1, 3, 480, 640)\n",
      "\n",
      "0: 480x640 2 licenses, 74.7ms\n",
      "Speed: 2.4ms preprocess, 74.7ms inference, 0.6ms postprocess per image at shape (1, 3, 480, 640)\n"
     ]
    },
    {
     "name": "stdout",
     "output_type": "stream",
     "text": [
      "Error: results_list is empty or contains tuples without a second element.\n",
      "Error: results_list is empty or contains tuples without a second element.\n"
     ]
    },
    {
     "name": "stderr",
     "output_type": "stream",
     "text": [
      "\n",
      "0: 480x640 22 cars, 4 trucks, 76.8ms\n",
      "Speed: 2.5ms preprocess, 76.8ms inference, 0.8ms postprocess per image at shape (1, 3, 480, 640)\n",
      "\n",
      "0: 480x640 2 licenses, 83.0ms\n",
      "Speed: 2.9ms preprocess, 83.0ms inference, 0.7ms postprocess per image at shape (1, 3, 480, 640)\n"
     ]
    },
    {
     "name": "stdout",
     "output_type": "stream",
     "text": [
      "Error: results_list is empty or contains tuples without a second element.\n"
     ]
    },
    {
     "name": "stderr",
     "output_type": "stream",
     "text": [
      "\n",
      "0: 480x640 21 cars, 4 trucks, 94.0ms\n",
      "Speed: 3.2ms preprocess, 94.0ms inference, 1.3ms postprocess per image at shape (1, 3, 480, 640)\n",
      "\n",
      "0: 480x640 2 licenses, 92.4ms\n",
      "Speed: 3.5ms preprocess, 92.4ms inference, 0.7ms postprocess per image at shape (1, 3, 480, 640)\n"
     ]
    },
    {
     "name": "stdout",
     "output_type": "stream",
     "text": [
      "Error: results_list is empty or contains tuples without a second element.\n"
     ]
    },
    {
     "name": "stderr",
     "output_type": "stream",
     "text": [
      "\n",
      "0: 480x640 21 cars, 4 trucks, 77.7ms\n",
      "Speed: 3.1ms preprocess, 77.7ms inference, 0.8ms postprocess per image at shape (1, 3, 480, 640)\n",
      "\n",
      "0: 480x640 2 licenses, 93.1ms\n",
      "Speed: 2.5ms preprocess, 93.1ms inference, 0.9ms postprocess per image at shape (1, 3, 480, 640)\n"
     ]
    },
    {
     "name": "stdout",
     "output_type": "stream",
     "text": [
      "Error: results_list is empty or contains tuples without a second element.\n"
     ]
    },
    {
     "name": "stderr",
     "output_type": "stream",
     "text": [
      "\n",
      "0: 480x640 21 cars, 5 trucks, 120.1ms\n",
      "Speed: 3.4ms preprocess, 120.1ms inference, 1.5ms postprocess per image at shape (1, 3, 480, 640)\n",
      "\n",
      "0: 480x640 2 licenses, 149.9ms\n",
      "Speed: 5.8ms preprocess, 149.9ms inference, 1.8ms postprocess per image at shape (1, 3, 480, 640)\n",
      "\n",
      "0: 480x640 21 cars, 4 trucks, 76.8ms\n",
      "Speed: 2.7ms preprocess, 76.8ms inference, 1.3ms postprocess per image at shape (1, 3, 480, 640)\n",
      "\n"
     ]
    },
    {
     "name": "stdout",
     "output_type": "stream",
     "text": [
      "Error: results_list is empty or contains tuples without a second element.\n"
     ]
    },
    {
     "name": "stderr",
     "output_type": "stream",
     "text": [
      "0: 480x640 2 licenses, 104.5ms\n",
      "Speed: 3.4ms preprocess, 104.5ms inference, 1.2ms postprocess per image at shape (1, 3, 480, 640)\n",
      "\n",
      "0: 480x640 19 cars, 3 trucks, 72.7ms\n",
      "Speed: 2.4ms preprocess, 72.7ms inference, 0.8ms postprocess per image at shape (1, 3, 480, 640)\n",
      "\n",
      "0: 480x640 1 license, 73.5ms\n",
      "Speed: 3.0ms preprocess, 73.5ms inference, 0.7ms postprocess per image at shape (1, 3, 480, 640)\n"
     ]
    },
    {
     "name": "stdout",
     "output_type": "stream",
     "text": [
      "Error: results_list is empty or contains tuples without a second element.\n"
     ]
    },
    {
     "name": "stderr",
     "output_type": "stream",
     "text": [
      "\n",
      "0: 480x640 19 cars, 3 trucks, 77.8ms\n",
      "Speed: 2.8ms preprocess, 77.8ms inference, 0.9ms postprocess per image at shape (1, 3, 480, 640)\n",
      "\n",
      "0: 480x640 1 license, 74.5ms\n",
      "Speed: 3.1ms preprocess, 74.5ms inference, 0.6ms postprocess per image at shape (1, 3, 480, 640)\n",
      "\n",
      "0: 480x640 19 cars, 3 trucks, 81.5ms\n",
      "Speed: 3.0ms preprocess, 81.5ms inference, 0.9ms postprocess per image at shape (1, 3, 480, 640)\n",
      "\n",
      "0: 480x640 3 licenses, 86.8ms\n",
      "Speed: 3.4ms preprocess, 86.8ms inference, 0.7ms postprocess per image at shape (1, 3, 480, 640)\n"
     ]
    },
    {
     "name": "stdout",
     "output_type": "stream",
     "text": [
      "Error: results_list is empty or contains tuples without a second element.\n"
     ]
    },
    {
     "name": "stderr",
     "output_type": "stream",
     "text": [
      "\n",
      "0: 480x640 19 cars, 3 trucks, 72.9ms\n",
      "Speed: 2.5ms preprocess, 72.9ms inference, 0.8ms postprocess per image at shape (1, 3, 480, 640)\n",
      "\n",
      "0: 480x640 3 licenses, 76.2ms\n",
      "Speed: 2.7ms preprocess, 76.2ms inference, 0.8ms postprocess per image at shape (1, 3, 480, 640)\n"
     ]
    },
    {
     "name": "stdout",
     "output_type": "stream",
     "text": [
      "Error: results_list is empty or contains tuples without a second element.\n",
      "Error: results_list is empty or contains tuples without a second element.\n"
     ]
    },
    {
     "name": "stderr",
     "output_type": "stream",
     "text": [
      "\n",
      "0: 480x640 19 cars, 3 trucks, 69.4ms\n",
      "Speed: 2.4ms preprocess, 69.4ms inference, 1.1ms postprocess per image at shape (1, 3, 480, 640)\n",
      "\n",
      "0: 480x640 2 licenses, 73.7ms\n",
      "Speed: 2.3ms preprocess, 73.7ms inference, 0.6ms postprocess per image at shape (1, 3, 480, 640)\n"
     ]
    },
    {
     "name": "stdout",
     "output_type": "stream",
     "text": [
      "Error: results_list is empty or contains tuples without a second element.\n",
      "Error: results_list is empty or contains tuples without a second element.\n"
     ]
    },
    {
     "name": "stderr",
     "output_type": "stream",
     "text": [
      "\n",
      "0: 480x640 19 cars, 3 trucks, 67.4ms\n",
      "Speed: 2.4ms preprocess, 67.4ms inference, 0.8ms postprocess per image at shape (1, 3, 480, 640)\n",
      "\n",
      "0: 480x640 2 licenses, 75.5ms\n",
      "Speed: 3.0ms preprocess, 75.5ms inference, 0.6ms postprocess per image at shape (1, 3, 480, 640)\n"
     ]
    },
    {
     "name": "stdout",
     "output_type": "stream",
     "text": [
      "Error: results_list is empty or contains tuples without a second element.\n"
     ]
    },
    {
     "name": "stderr",
     "output_type": "stream",
     "text": [
      "\n",
      "0: 480x640 19 cars, 3 trucks, 75.3ms\n",
      "Speed: 2.7ms preprocess, 75.3ms inference, 0.8ms postprocess per image at shape (1, 3, 480, 640)\n",
      "\n",
      "0: 480x640 2 licenses, 72.0ms\n",
      "Speed: 2.9ms preprocess, 72.0ms inference, 0.6ms postprocess per image at shape (1, 3, 480, 640)\n",
      "\n",
      "0: 480x640 19 cars, 3 trucks, 75.9ms\n",
      "Speed: 2.4ms preprocess, 75.9ms inference, 0.8ms postprocess per image at shape (1, 3, 480, 640)\n",
      "\n",
      "0: 480x640 2 licenses, 77.5ms\n",
      "Speed: 2.8ms preprocess, 77.5ms inference, 0.8ms postprocess per image at shape (1, 3, 480, 640)\n",
      "\n",
      "0: 480x640 19 cars, 3 trucks, 77.2ms\n",
      "Speed: 2.7ms preprocess, 77.2ms inference, 0.8ms postprocess per image at shape (1, 3, 480, 640)\n",
      "\n",
      "0: 480x640 3 licenses, 83.7ms\n",
      "Speed: 2.6ms preprocess, 83.7ms inference, 0.7ms postprocess per image at shape (1, 3, 480, 640)\n"
     ]
    },
    {
     "name": "stdout",
     "output_type": "stream",
     "text": [
      "Error: results_list is empty or contains tuples without a second element.\n"
     ]
    },
    {
     "name": "stderr",
     "output_type": "stream",
     "text": [
      "\n",
      "0: 480x640 19 cars, 3 trucks, 82.2ms\n",
      "Speed: 2.6ms preprocess, 82.2ms inference, 1.1ms postprocess per image at shape (1, 3, 480, 640)\n",
      "\n",
      "0: 480x640 3 licenses, 103.4ms\n",
      "Speed: 3.9ms preprocess, 103.4ms inference, 1.2ms postprocess per image at shape (1, 3, 480, 640)\n"
     ]
    },
    {
     "name": "stdout",
     "output_type": "stream",
     "text": [
      "Error: results_list is empty or contains tuples without a second element.\n"
     ]
    },
    {
     "name": "stderr",
     "output_type": "stream",
     "text": [
      "\n",
      "0: 480x640 19 cars, 3 trucks, 74.6ms\n",
      "Speed: 2.5ms preprocess, 74.6ms inference, 0.8ms postprocess per image at shape (1, 3, 480, 640)\n",
      "\n",
      "0: 480x640 2 licenses, 83.1ms\n",
      "Speed: 2.6ms preprocess, 83.1ms inference, 1.0ms postprocess per image at shape (1, 3, 480, 640)\n",
      "\n",
      "0: 480x640 19 cars, 3 trucks, 73.1ms\n",
      "Speed: 2.8ms preprocess, 73.1ms inference, 1.0ms postprocess per image at shape (1, 3, 480, 640)\n",
      "\n",
      "0: 480x640 2 licenses, 81.8ms\n",
      "Speed: 3.0ms preprocess, 81.8ms inference, 0.8ms postprocess per image at shape (1, 3, 480, 640)\n",
      "\n",
      "0: 480x640 19 cars, 3 trucks, 85.3ms\n",
      "Speed: 2.9ms preprocess, 85.3ms inference, 1.3ms postprocess per image at shape (1, 3, 480, 640)\n",
      "\n",
      "0: 480x640 2 licenses, 115.9ms\n",
      "Speed: 3.2ms preprocess, 115.9ms inference, 1.1ms postprocess per image at shape (1, 3, 480, 640)\n",
      "\n",
      "0: 480x640 19 cars, 3 trucks, 73.0ms\n",
      "Speed: 2.6ms preprocess, 73.0ms inference, 0.8ms postprocess per image at shape (1, 3, 480, 640)\n",
      "\n",
      "0: 480x640 2 licenses, 79.8ms\n",
      "Speed: 2.6ms preprocess, 79.8ms inference, 0.7ms postprocess per image at shape (1, 3, 480, 640)\n"
     ]
    },
    {
     "name": "stdout",
     "output_type": "stream",
     "text": [
      "Error: results_list is empty or contains tuples without a second element.\n"
     ]
    },
    {
     "name": "stderr",
     "output_type": "stream",
     "text": [
      "\n",
      "0: 480x640 20 cars, 4 trucks, 151.2ms\n",
      "Speed: 5.4ms preprocess, 151.2ms inference, 1.8ms postprocess per image at shape (1, 3, 480, 640)\n",
      "\n"
     ]
    },
    {
     "name": "stdout",
     "output_type": "stream",
     "text": [
      "Error: results_list is empty or contains tuples without a second element.\n"
     ]
    },
    {
     "name": "stderr",
     "output_type": "stream",
     "text": [
      "0: 480x640 2 licenses, 113.1ms\n",
      "Speed: 5.2ms preprocess, 113.1ms inference, 1.2ms postprocess per image at shape (1, 3, 480, 640)\n"
     ]
    },
    {
     "name": "stdout",
     "output_type": "stream",
     "text": [
      "Error: results_list is empty or contains tuples without a second element.\n"
     ]
    },
    {
     "name": "stderr",
     "output_type": "stream",
     "text": [
      "\n",
      "0: 480x640 20 cars, 4 trucks, 137.2ms\n",
      "Speed: 2.7ms preprocess, 137.2ms inference, 1.6ms postprocess per image at shape (1, 3, 480, 640)\n",
      "\n",
      "0: 480x640 2 licenses, 129.1ms\n",
      "Speed: 5.9ms preprocess, 129.1ms inference, 1.2ms postprocess per image at shape (1, 3, 480, 640)\n"
     ]
    },
    {
     "name": "stdout",
     "output_type": "stream",
     "text": [
      "Error: results_list is empty or contains tuples without a second element.\n"
     ]
    },
    {
     "name": "stderr",
     "output_type": "stream",
     "text": [
      "\n",
      "0: 480x640 20 cars, 2 trucks, 138.4ms\n",
      "Speed: 4.7ms preprocess, 138.4ms inference, 1.9ms postprocess per image at shape (1, 3, 480, 640)\n",
      "\n",
      "0: 480x640 2 licenses, 140.6ms\n",
      "Speed: 4.3ms preprocess, 140.6ms inference, 1.0ms postprocess per image at shape (1, 3, 480, 640)\n"
     ]
    },
    {
     "name": "stdout",
     "output_type": "stream",
     "text": [
      "Error: results_list is empty or contains tuples without a second element.\n"
     ]
    },
    {
     "name": "stderr",
     "output_type": "stream",
     "text": [
      "\n",
      "0: 480x640 20 cars, 2 trucks, 94.5ms\n",
      "Speed: 3.3ms preprocess, 94.5ms inference, 1.1ms postprocess per image at shape (1, 3, 480, 640)\n",
      "\n",
      "0: 480x640 2 licenses, 108.7ms\n",
      "Speed: 3.8ms preprocess, 108.7ms inference, 1.0ms postprocess per image at shape (1, 3, 480, 640)\n"
     ]
    },
    {
     "name": "stdout",
     "output_type": "stream",
     "text": [
      "Error: results_list is empty or contains tuples without a second element.\n"
     ]
    },
    {
     "name": "stderr",
     "output_type": "stream",
     "text": [
      "\n",
      "0: 480x640 22 cars, 3 trucks, 75.7ms\n",
      "Speed: 2.5ms preprocess, 75.7ms inference, 0.8ms postprocess per image at shape (1, 3, 480, 640)\n",
      "\n",
      "0: 480x640 2 licenses, 72.8ms\n",
      "Speed: 2.9ms preprocess, 72.8ms inference, 0.8ms postprocess per image at shape (1, 3, 480, 640)\n",
      "\n",
      "0: 480x640 23 cars, 3 trucks, 94.5ms\n",
      "Speed: 3.5ms preprocess, 94.5ms inference, 1.1ms postprocess per image at shape (1, 3, 480, 640)\n",
      "\n",
      "0: 480x640 2 licenses, 155.1ms\n",
      "Speed: 3.9ms preprocess, 155.1ms inference, 1.2ms postprocess per image at shape (1, 3, 480, 640)\n",
      "\n",
      "0: 480x640 22 cars, 5 trucks, 72.6ms\n",
      "Speed: 2.4ms preprocess, 72.6ms inference, 0.8ms postprocess per image at shape (1, 3, 480, 640)\n",
      "\n",
      "0: 480x640 2 licenses, 69.2ms\n",
      "Speed: 2.7ms preprocess, 69.2ms inference, 0.5ms postprocess per image at shape (1, 3, 480, 640)\n",
      "\n",
      "0: 480x640 21 cars, 4 trucks, 92.1ms\n",
      "Speed: 2.7ms preprocess, 92.1ms inference, 1.1ms postprocess per image at shape (1, 3, 480, 640)\n",
      "\n"
     ]
    },
    {
     "name": "stdout",
     "output_type": "stream",
     "text": [
      "Error: results_list is empty or contains tuples without a second element.\n"
     ]
    },
    {
     "name": "stderr",
     "output_type": "stream",
     "text": [
      "0: 480x640 2 licenses, 121.2ms\n",
      "Speed: 6.4ms preprocess, 121.2ms inference, 1.1ms postprocess per image at shape (1, 3, 480, 640)\n",
      "\n",
      "0: 480x640 21 cars, 3 trucks, 82.5ms\n",
      "Speed: 2.6ms preprocess, 82.5ms inference, 0.9ms postprocess per image at shape (1, 3, 480, 640)\n",
      "\n",
      "0: 480x640 3 licenses, 95.0ms\n",
      "Speed: 3.1ms preprocess, 95.0ms inference, 0.9ms postprocess per image at shape (1, 3, 480, 640)\n"
     ]
    },
    {
     "name": "stdout",
     "output_type": "stream",
     "text": [
      "Error: results_list is empty or contains tuples without a second element.\n",
      "Error: results_list is empty or contains tuples without a second element.\n"
     ]
    },
    {
     "name": "stderr",
     "output_type": "stream",
     "text": [
      "\n",
      "0: 480x640 21 cars, 3 trucks, 125.9ms\n",
      "Speed: 3.6ms preprocess, 125.9ms inference, 1.3ms postprocess per image at shape (1, 3, 480, 640)\n",
      "\n",
      "0: 480x640 3 licenses, 135.4ms\n",
      "Speed: 5.3ms preprocess, 135.4ms inference, 1.0ms postprocess per image at shape (1, 3, 480, 640)\n"
     ]
    },
    {
     "name": "stdout",
     "output_type": "stream",
     "text": [
      "Error: results_list is empty or contains tuples without a second element.\n"
     ]
    },
    {
     "name": "stderr",
     "output_type": "stream",
     "text": [
      "\n",
      "0: 480x640 21 cars, 2 trucks, 115.0ms\n",
      "Speed: 4.9ms preprocess, 115.0ms inference, 1.1ms postprocess per image at shape (1, 3, 480, 640)\n",
      "\n",
      "0: 480x640 2 licenses, 95.3ms\n",
      "Speed: 3.9ms preprocess, 95.3ms inference, 0.8ms postprocess per image at shape (1, 3, 480, 640)\n",
      "\n",
      "0: 480x640 21 cars, 1 bus, 2 trucks, 96.3ms\n",
      "Speed: 3.0ms preprocess, 96.3ms inference, 1.1ms postprocess per image at shape (1, 3, 480, 640)\n",
      "\n",
      "0: 480x640 2 licenses, 101.8ms\n",
      "Speed: 3.5ms preprocess, 101.8ms inference, 0.7ms postprocess per image at shape (1, 3, 480, 640)\n",
      "\n",
      "0: 480x640 22 cars, 3 trucks, 90.2ms\n",
      "Speed: 3.0ms preprocess, 90.2ms inference, 1.0ms postprocess per image at shape (1, 3, 480, 640)\n",
      "\n",
      "0: 480x640 2 licenses, 92.7ms\n",
      "Speed: 3.9ms preprocess, 92.7ms inference, 0.8ms postprocess per image at shape (1, 3, 480, 640)\n",
      "\n",
      "0: 480x640 22 cars, 3 trucks, 90.6ms\n",
      "Speed: 3.0ms preprocess, 90.6ms inference, 1.0ms postprocess per image at shape (1, 3, 480, 640)\n",
      "\n"
     ]
    },
    {
     "name": "stdout",
     "output_type": "stream",
     "text": [
      "Error: results_list is empty or contains tuples without a second element.\n"
     ]
    },
    {
     "name": "stderr",
     "output_type": "stream",
     "text": [
      "0: 480x640 2 licenses, 107.7ms\n",
      "Speed: 3.9ms preprocess, 107.7ms inference, 0.9ms postprocess per image at shape (1, 3, 480, 640)\n",
      "\n",
      "0: 480x640 22 cars, 4 trucks, 123.6ms\n",
      "Speed: 3.5ms preprocess, 123.6ms inference, 1.3ms postprocess per image at shape (1, 3, 480, 640)\n",
      "\n",
      "0: 480x640 2 licenses, 113.8ms\n",
      "Speed: 5.1ms preprocess, 113.8ms inference, 0.9ms postprocess per image at shape (1, 3, 480, 640)\n",
      "\n",
      "0: 480x640 22 cars, 4 trucks, 73.5ms\n",
      "Speed: 2.4ms preprocess, 73.5ms inference, 0.9ms postprocess per image at shape (1, 3, 480, 640)\n",
      "\n",
      "0: 480x640 2 licenses, 76.7ms\n",
      "Speed: 2.8ms preprocess, 76.7ms inference, 0.6ms postprocess per image at shape (1, 3, 480, 640)\n"
     ]
    },
    {
     "name": "stdout",
     "output_type": "stream",
     "text": [
      "Error: results_list is empty or contains tuples without a second element.\n"
     ]
    },
    {
     "name": "stderr",
     "output_type": "stream",
     "text": [
      "\n",
      "0: 480x640 21 cars, 4 trucks, 76.4ms\n",
      "Speed: 2.7ms preprocess, 76.4ms inference, 0.8ms postprocess per image at shape (1, 3, 480, 640)\n",
      "\n",
      "0: 480x640 2 licenses, 83.6ms\n",
      "Speed: 2.9ms preprocess, 83.6ms inference, 0.8ms postprocess per image at shape (1, 3, 480, 640)\n",
      "\n",
      "0: 480x640 21 cars, 4 trucks, 71.0ms\n",
      "Speed: 2.5ms preprocess, 71.0ms inference, 0.8ms postprocess per image at shape (1, 3, 480, 640)\n",
      "\n",
      "0: 480x640 2 licenses, 75.9ms\n",
      "Speed: 2.5ms preprocess, 75.9ms inference, 0.6ms postprocess per image at shape (1, 3, 480, 640)\n"
     ]
    },
    {
     "name": "stdout",
     "output_type": "stream",
     "text": [
      "Error: results_list is empty or contains tuples without a second element.\n"
     ]
    },
    {
     "name": "stderr",
     "output_type": "stream",
     "text": [
      "\n",
      "0: 480x640 20 cars, 3 trucks, 72.7ms\n",
      "Speed: 2.4ms preprocess, 72.7ms inference, 0.8ms postprocess per image at shape (1, 3, 480, 640)\n",
      "\n",
      "0: 480x640 2 licenses, 71.0ms\n",
      "Speed: 2.6ms preprocess, 71.0ms inference, 0.5ms postprocess per image at shape (1, 3, 480, 640)\n"
     ]
    },
    {
     "name": "stdout",
     "output_type": "stream",
     "text": [
      "Error: results_list is empty or contains tuples without a second element.\n",
      "Error: results_list is empty or contains tuples without a second element.\n"
     ]
    },
    {
     "name": "stderr",
     "output_type": "stream",
     "text": [
      "\n",
      "0: 480x640 20 cars, 2 trucks, 127.4ms\n",
      "Speed: 2.4ms preprocess, 127.4ms inference, 0.8ms postprocess per image at shape (1, 3, 480, 640)\n",
      "\n"
     ]
    },
    {
     "name": "stdout",
     "output_type": "stream",
     "text": [
      "Error: results_list is empty or contains tuples without a second element.\n"
     ]
    },
    {
     "name": "stderr",
     "output_type": "stream",
     "text": [
      "0: 480x640 2 licenses, 111.9ms\n",
      "Speed: 3.0ms preprocess, 111.9ms inference, 1.2ms postprocess per image at shape (1, 3, 480, 640)\n"
     ]
    },
    {
     "name": "stdout",
     "output_type": "stream",
     "text": [
      "Error: results_list is empty or contains tuples without a second element.\n"
     ]
    },
    {
     "name": "stderr",
     "output_type": "stream",
     "text": [
      "\n",
      "0: 480x640 20 cars, 3 trucks, 72.9ms\n",
      "Speed: 2.3ms preprocess, 72.9ms inference, 0.9ms postprocess per image at shape (1, 3, 480, 640)\n",
      "\n",
      "0: 480x640 3 licenses, 70.2ms\n",
      "Speed: 2.6ms preprocess, 70.2ms inference, 0.6ms postprocess per image at shape (1, 3, 480, 640)\n"
     ]
    },
    {
     "name": "stdout",
     "output_type": "stream",
     "text": [
      "Error: results_list is empty or contains tuples without a second element.\n"
     ]
    },
    {
     "name": "stderr",
     "output_type": "stream",
     "text": [
      "\n",
      "0: 480x640 20 cars, 3 trucks, 78.7ms\n",
      "Speed: 2.4ms preprocess, 78.7ms inference, 0.8ms postprocess per image at shape (1, 3, 480, 640)\n",
      "\n",
      "0: 480x640 2 licenses, 87.0ms\n",
      "Speed: 2.8ms preprocess, 87.0ms inference, 0.8ms postprocess per image at shape (1, 3, 480, 640)\n"
     ]
    },
    {
     "name": "stdout",
     "output_type": "stream",
     "text": [
      "Error: results_list is empty or contains tuples without a second element.\n"
     ]
    },
    {
     "name": "stderr",
     "output_type": "stream",
     "text": [
      "\n",
      "0: 480x640 20 cars, 3 trucks, 77.0ms\n",
      "Speed: 2.7ms preprocess, 77.0ms inference, 0.9ms postprocess per image at shape (1, 3, 480, 640)\n",
      "\n",
      "0: 480x640 3 licenses, 78.9ms\n",
      "Speed: 2.5ms preprocess, 78.9ms inference, 0.6ms postprocess per image at shape (1, 3, 480, 640)\n",
      "\n",
      "0: 480x640 20 cars, 3 trucks, 71.8ms\n",
      "Speed: 2.3ms preprocess, 71.8ms inference, 0.8ms postprocess per image at shape (1, 3, 480, 640)\n",
      "\n",
      "0: 480x640 3 licenses, 75.3ms\n",
      "Speed: 2.7ms preprocess, 75.3ms inference, 0.6ms postprocess per image at shape (1, 3, 480, 640)\n",
      "\n",
      "0: 480x640 20 cars, 3 trucks, 74.9ms\n",
      "Speed: 2.4ms preprocess, 74.9ms inference, 0.8ms postprocess per image at shape (1, 3, 480, 640)\n",
      "\n",
      "0: 480x640 2 licenses, 76.7ms\n",
      "Speed: 2.7ms preprocess, 76.7ms inference, 0.7ms postprocess per image at shape (1, 3, 480, 640)\n"
     ]
    },
    {
     "name": "stdout",
     "output_type": "stream",
     "text": [
      "Error: results_list is empty or contains tuples without a second element.\n"
     ]
    },
    {
     "name": "stderr",
     "output_type": "stream",
     "text": [
      "\n",
      "0: 480x640 20 cars, 3 trucks, 81.4ms\n",
      "Speed: 2.4ms preprocess, 81.4ms inference, 0.8ms postprocess per image at shape (1, 3, 480, 640)\n",
      "\n",
      "0: 480x640 2 licenses, 83.4ms\n",
      "Speed: 2.7ms preprocess, 83.4ms inference, 0.8ms postprocess per image at shape (1, 3, 480, 640)\n"
     ]
    },
    {
     "name": "stdout",
     "output_type": "stream",
     "text": [
      "Error: results_list is empty or contains tuples without a second element.\n",
      "Error: results_list is empty or contains tuples without a second element.\n"
     ]
    },
    {
     "name": "stderr",
     "output_type": "stream",
     "text": [
      "\n",
      "0: 480x640 20 cars, 3 trucks, 80.9ms\n",
      "Speed: 2.6ms preprocess, 80.9ms inference, 0.8ms postprocess per image at shape (1, 3, 480, 640)\n",
      "\n",
      "0: 480x640 2 licenses, 84.6ms\n",
      "Speed: 2.9ms preprocess, 84.6ms inference, 0.8ms postprocess per image at shape (1, 3, 480, 640)\n"
     ]
    },
    {
     "name": "stdout",
     "output_type": "stream",
     "text": [
      "Error: results_list is empty or contains tuples without a second element.\n",
      "Error: results_list is empty or contains tuples without a second element.\n"
     ]
    },
    {
     "name": "stderr",
     "output_type": "stream",
     "text": [
      "\n",
      "0: 480x640 20 cars, 3 trucks, 74.7ms\n",
      "Speed: 2.5ms preprocess, 74.7ms inference, 0.7ms postprocess per image at shape (1, 3, 480, 640)\n",
      "\n",
      "0: 480x640 2 licenses, 77.8ms\n",
      "Speed: 2.6ms preprocess, 77.8ms inference, 0.6ms postprocess per image at shape (1, 3, 480, 640)\n"
     ]
    },
    {
     "name": "stdout",
     "output_type": "stream",
     "text": [
      "Error: results_list is empty or contains tuples without a second element.\n"
     ]
    },
    {
     "name": "stderr",
     "output_type": "stream",
     "text": [
      "\n",
      "0: 480x640 21 cars, 3 trucks, 74.6ms\n",
      "Speed: 2.7ms preprocess, 74.6ms inference, 0.8ms postprocess per image at shape (1, 3, 480, 640)\n",
      "\n",
      "0: 480x640 2 licenses, 73.7ms\n",
      "Speed: 2.4ms preprocess, 73.7ms inference, 0.6ms postprocess per image at shape (1, 3, 480, 640)\n",
      "\n",
      "0: 480x640 21 cars, 3 trucks, 73.6ms\n",
      "Speed: 2.3ms preprocess, 73.6ms inference, 0.8ms postprocess per image at shape (1, 3, 480, 640)\n",
      "\n",
      "0: 480x640 2 licenses, 69.5ms\n",
      "Speed: 2.5ms preprocess, 69.5ms inference, 0.5ms postprocess per image at shape (1, 3, 480, 640)\n"
     ]
    },
    {
     "name": "stdout",
     "output_type": "stream",
     "text": [
      "Error: results_list is empty or contains tuples without a second element.\n"
     ]
    },
    {
     "name": "stderr",
     "output_type": "stream",
     "text": [
      "\n",
      "0: 480x640 21 cars, 3 trucks, 71.6ms\n",
      "Speed: 2.4ms preprocess, 71.6ms inference, 0.7ms postprocess per image at shape (1, 3, 480, 640)\n",
      "\n",
      "0: 480x640 2 licenses, 69.4ms\n",
      "Speed: 2.6ms preprocess, 69.4ms inference, 0.5ms postprocess per image at shape (1, 3, 480, 640)\n"
     ]
    },
    {
     "name": "stdout",
     "output_type": "stream",
     "text": [
      "Error: results_list is empty or contains tuples without a second element.\n"
     ]
    },
    {
     "name": "stderr",
     "output_type": "stream",
     "text": [
      "\n",
      "0: 480x640 21 cars, 3 trucks, 77.9ms\n",
      "Speed: 2.7ms preprocess, 77.9ms inference, 0.8ms postprocess per image at shape (1, 3, 480, 640)\n",
      "\n",
      "0: 480x640 2 licenses, 76.5ms\n",
      "Speed: 2.7ms preprocess, 76.5ms inference, 0.7ms postprocess per image at shape (1, 3, 480, 640)\n",
      "\n",
      "0: 480x640 20 cars, 3 trucks, 71.5ms\n",
      "Speed: 2.5ms preprocess, 71.5ms inference, 0.8ms postprocess per image at shape (1, 3, 480, 640)\n",
      "\n",
      "0: 480x640 3 licenses, 70.0ms\n",
      "Speed: 2.7ms preprocess, 70.0ms inference, 0.5ms postprocess per image at shape (1, 3, 480, 640)\n"
     ]
    },
    {
     "name": "stdout",
     "output_type": "stream",
     "text": [
      "Error: results_list is empty or contains tuples without a second element.\n"
     ]
    },
    {
     "name": "stderr",
     "output_type": "stream",
     "text": [
      "\n",
      "0: 480x640 20 cars, 3 trucks, 79.2ms\n",
      "Speed: 2.5ms preprocess, 79.2ms inference, 0.8ms postprocess per image at shape (1, 3, 480, 640)\n",
      "\n",
      "0: 480x640 3 licenses, 78.1ms\n",
      "Speed: 2.6ms preprocess, 78.1ms inference, 0.7ms postprocess per image at shape (1, 3, 480, 640)\n"
     ]
    },
    {
     "name": "stdout",
     "output_type": "stream",
     "text": [
      "Error: results_list is empty or contains tuples without a second element.\n",
      "Error: results_list is empty or contains tuples without a second element.\n"
     ]
    },
    {
     "name": "stderr",
     "output_type": "stream",
     "text": [
      "\n",
      "0: 480x640 21 cars, 3 trucks, 78.6ms\n",
      "Speed: 2.6ms preprocess, 78.6ms inference, 0.9ms postprocess per image at shape (1, 3, 480, 640)\n",
      "\n",
      "0: 480x640 3 licenses, 75.9ms\n",
      "Speed: 2.6ms preprocess, 75.9ms inference, 0.6ms postprocess per image at shape (1, 3, 480, 640)\n"
     ]
    },
    {
     "name": "stdout",
     "output_type": "stream",
     "text": [
      "Error: results_list is empty or contains tuples without a second element.\n",
      "Error: results_list is empty or contains tuples without a second element.\n"
     ]
    },
    {
     "name": "stderr",
     "output_type": "stream",
     "text": [
      "\n",
      "0: 480x640 20 cars, 3 trucks, 78.7ms\n",
      "Speed: 2.5ms preprocess, 78.7ms inference, 0.8ms postprocess per image at shape (1, 3, 480, 640)\n",
      "\n",
      "0: 480x640 3 licenses, 77.8ms\n",
      "Speed: 3.1ms preprocess, 77.8ms inference, 0.7ms postprocess per image at shape (1, 3, 480, 640)\n"
     ]
    },
    {
     "name": "stdout",
     "output_type": "stream",
     "text": [
      "Error: results_list is empty or contains tuples without a second element.\n",
      "Error: results_list is empty or contains tuples without a second element.\n"
     ]
    },
    {
     "name": "stderr",
     "output_type": "stream",
     "text": [
      "\n",
      "0: 480x640 20 cars, 3 trucks, 78.7ms\n",
      "Speed: 2.5ms preprocess, 78.7ms inference, 0.8ms postprocess per image at shape (1, 3, 480, 640)\n",
      "\n",
      "0: 480x640 2 licenses, 74.4ms\n",
      "Speed: 2.9ms preprocess, 74.4ms inference, 0.5ms postprocess per image at shape (1, 3, 480, 640)\n"
     ]
    },
    {
     "name": "stdout",
     "output_type": "stream",
     "text": [
      "Error: results_list is empty or contains tuples without a second element.\n"
     ]
    },
    {
     "name": "stderr",
     "output_type": "stream",
     "text": [
      "\n",
      "0: 480x640 20 cars, 3 trucks, 96.0ms\n",
      "Speed: 2.7ms preprocess, 96.0ms inference, 1.1ms postprocess per image at shape (1, 3, 480, 640)\n",
      "\n",
      "0: 480x640 2 licenses, 114.5ms\n",
      "Speed: 3.8ms preprocess, 114.5ms inference, 1.0ms postprocess per image at shape (1, 3, 480, 640)\n",
      "\n",
      "0: 480x640 22 cars, 3 trucks, 102.6ms\n",
      "Speed: 3.8ms preprocess, 102.6ms inference, 1.0ms postprocess per image at shape (1, 3, 480, 640)\n",
      "\n",
      "0: 480x640 2 licenses, 97.4ms\n",
      "Speed: 3.1ms preprocess, 97.4ms inference, 0.8ms postprocess per image at shape (1, 3, 480, 640)\n",
      "\n",
      "0: 480x640 22 cars, 3 trucks, 94.8ms\n",
      "Speed: 2.8ms preprocess, 94.8ms inference, 0.8ms postprocess per image at shape (1, 3, 480, 640)\n",
      "\n",
      "0: 480x640 2 licenses, 86.3ms\n",
      "Speed: 2.7ms preprocess, 86.3ms inference, 0.8ms postprocess per image at shape (1, 3, 480, 640)\n"
     ]
    },
    {
     "name": "stdout",
     "output_type": "stream",
     "text": [
      "Error: results_list is empty or contains tuples without a second element.\n"
     ]
    },
    {
     "name": "stderr",
     "output_type": "stream",
     "text": [
      "\n",
      "0: 480x640 19 cars, 3 trucks, 81.6ms\n",
      "Speed: 2.4ms preprocess, 81.6ms inference, 0.7ms postprocess per image at shape (1, 3, 480, 640)\n",
      "\n",
      "0: 480x640 2 licenses, 90.2ms\n",
      "Speed: 3.0ms preprocess, 90.2ms inference, 1.0ms postprocess per image at shape (1, 3, 480, 640)\n"
     ]
    },
    {
     "name": "stdout",
     "output_type": "stream",
     "text": [
      "Error: results_list is empty or contains tuples without a second element.\n"
     ]
    },
    {
     "name": "stderr",
     "output_type": "stream",
     "text": [
      "\n",
      "0: 480x640 20 cars, 3 trucks, 78.3ms\n",
      "Speed: 2.4ms preprocess, 78.3ms inference, 0.8ms postprocess per image at shape (1, 3, 480, 640)\n",
      "\n",
      "0: 480x640 2 licenses, 75.9ms\n",
      "Speed: 2.7ms preprocess, 75.9ms inference, 0.5ms postprocess per image at shape (1, 3, 480, 640)\n",
      "\n",
      "0: 480x640 22 cars, 3 trucks, 77.5ms\n",
      "Speed: 2.5ms preprocess, 77.5ms inference, 0.7ms postprocess per image at shape (1, 3, 480, 640)\n",
      "\n",
      "0: 480x640 3 licenses, 81.6ms\n",
      "Speed: 2.8ms preprocess, 81.6ms inference, 0.6ms postprocess per image at shape (1, 3, 480, 640)\n",
      "\n",
      "0: 480x640 22 cars, 3 trucks, 80.6ms\n",
      "Speed: 2.5ms preprocess, 80.6ms inference, 1.1ms postprocess per image at shape (1, 3, 480, 640)\n",
      "\n",
      "0: 480x640 3 licenses, 80.8ms\n",
      "Speed: 2.7ms preprocess, 80.8ms inference, 1.1ms postprocess per image at shape (1, 3, 480, 640)\n",
      "\n",
      "0: 480x640 18 cars, 3 trucks, 82.6ms\n",
      "Speed: 3.1ms preprocess, 82.6ms inference, 0.8ms postprocess per image at shape (1, 3, 480, 640)\n",
      "\n",
      "0: 480x640 2 licenses, 82.9ms\n",
      "Speed: 3.2ms preprocess, 82.9ms inference, 0.7ms postprocess per image at shape (1, 3, 480, 640)\n",
      "\n",
      "0: 480x640 19 cars, 3 trucks, 77.3ms\n",
      "Speed: 2.6ms preprocess, 77.3ms inference, 0.8ms postprocess per image at shape (1, 3, 480, 640)\n",
      "\n",
      "0: 480x640 2 licenses, 73.0ms\n",
      "Speed: 3.0ms preprocess, 73.0ms inference, 0.5ms postprocess per image at shape (1, 3, 480, 640)\n",
      "\n",
      "0: 480x640 17 cars, 3 trucks, 76.9ms\n",
      "Speed: 2.6ms preprocess, 76.9ms inference, 0.7ms postprocess per image at shape (1, 3, 480, 640)\n",
      "\n",
      "0: 480x640 2 licenses, 76.6ms\n",
      "Speed: 2.9ms preprocess, 76.6ms inference, 0.6ms postprocess per image at shape (1, 3, 480, 640)\n",
      "\n",
      "0: 480x640 17 cars, 3 trucks, 82.1ms\n",
      "Speed: 2.3ms preprocess, 82.1ms inference, 0.7ms postprocess per image at shape (1, 3, 480, 640)\n",
      "\n",
      "0: 480x640 2 licenses, 84.6ms\n",
      "Speed: 3.2ms preprocess, 84.6ms inference, 1.0ms postprocess per image at shape (1, 3, 480, 640)\n",
      "\n",
      "0: 480x640 18 cars, 3 trucks, 79.3ms\n",
      "Speed: 2.4ms preprocess, 79.3ms inference, 0.7ms postprocess per image at shape (1, 3, 480, 640)\n",
      "\n",
      "0: 480x640 2 licenses, 83.3ms\n",
      "Speed: 2.5ms preprocess, 83.3ms inference, 0.6ms postprocess per image at shape (1, 3, 480, 640)\n",
      "\n",
      "0: 480x640 18 cars, 3 trucks, 77.0ms\n",
      "Speed: 2.4ms preprocess, 77.0ms inference, 0.7ms postprocess per image at shape (1, 3, 480, 640)\n",
      "\n",
      "0: 480x640 2 licenses, 82.1ms\n",
      "Speed: 3.0ms preprocess, 82.1ms inference, 0.6ms postprocess per image at shape (1, 3, 480, 640)\n",
      "\n",
      "0: 480x640 19 cars, 3 trucks, 78.2ms\n",
      "Speed: 2.5ms preprocess, 78.2ms inference, 0.8ms postprocess per image at shape (1, 3, 480, 640)\n",
      "\n",
      "0: 480x640 2 licenses, 77.9ms\n",
      "Speed: 2.9ms preprocess, 77.9ms inference, 0.6ms postprocess per image at shape (1, 3, 480, 640)\n",
      "\n",
      "0: 480x640 19 cars, 3 trucks, 80.5ms\n",
      "Speed: 2.4ms preprocess, 80.5ms inference, 0.9ms postprocess per image at shape (1, 3, 480, 640)\n",
      "\n",
      "0: 480x640 2 licenses, 81.9ms\n",
      "Speed: 3.2ms preprocess, 81.9ms inference, 0.6ms postprocess per image at shape (1, 3, 480, 640)\n",
      "\n",
      "0: 480x640 20 cars, 3 trucks, 75.8ms\n",
      "Speed: 2.4ms preprocess, 75.8ms inference, 0.7ms postprocess per image at shape (1, 3, 480, 640)\n",
      "\n",
      "0: 480x640 2 licenses, 77.8ms\n",
      "Speed: 2.3ms preprocess, 77.8ms inference, 0.6ms postprocess per image at shape (1, 3, 480, 640)\n",
      "\n",
      "0: 480x640 20 cars, 3 trucks, 91.9ms\n",
      "Speed: 2.8ms preprocess, 91.9ms inference, 0.8ms postprocess per image at shape (1, 3, 480, 640)\n",
      "\n",
      "0: 480x640 2 licenses, 116.6ms\n",
      "Speed: 3.1ms preprocess, 116.6ms inference, 0.8ms postprocess per image at shape (1, 3, 480, 640)\n",
      "\n",
      "0: 480x640 20 cars, 3 trucks, 88.3ms\n",
      "Speed: 2.9ms preprocess, 88.3ms inference, 0.8ms postprocess per image at shape (1, 3, 480, 640)\n",
      "\n",
      "0: 480x640 2 licenses, 77.9ms\n",
      "Speed: 3.1ms preprocess, 77.9ms inference, 0.6ms postprocess per image at shape (1, 3, 480, 640)\n",
      "\n",
      "0: 480x640 21 cars, 3 trucks, 76.1ms\n",
      "Speed: 2.4ms preprocess, 76.1ms inference, 0.8ms postprocess per image at shape (1, 3, 480, 640)\n",
      "\n",
      "0: 480x640 2 licenses, 79.6ms\n",
      "Speed: 2.8ms preprocess, 79.6ms inference, 0.6ms postprocess per image at shape (1, 3, 480, 640)\n"
     ]
    },
    {
     "name": "stdout",
     "output_type": "stream",
     "text": [
      "Error: results_list is empty or contains tuples without a second element.\n"
     ]
    },
    {
     "name": "stderr",
     "output_type": "stream",
     "text": [
      "\n",
      "0: 480x640 19 cars, 3 trucks, 80.3ms\n",
      "Speed: 2.7ms preprocess, 80.3ms inference, 0.7ms postprocess per image at shape (1, 3, 480, 640)\n",
      "\n",
      "0: 480x640 2 licenses, 76.8ms\n",
      "Speed: 2.3ms preprocess, 76.8ms inference, 0.6ms postprocess per image at shape (1, 3, 480, 640)\n"
     ]
    },
    {
     "name": "stdout",
     "output_type": "stream",
     "text": [
      "Error: results_list is empty or contains tuples without a second element.\n"
     ]
    },
    {
     "name": "stderr",
     "output_type": "stream",
     "text": [
      "\n",
      "0: 480x640 19 cars, 3 trucks, 139.0ms\n",
      "Speed: 2.4ms preprocess, 139.0ms inference, 0.8ms postprocess per image at shape (1, 3, 480, 640)\n",
      "\n",
      "0: 480x640 2 licenses, 90.1ms\n",
      "Speed: 3.3ms preprocess, 90.1ms inference, 0.7ms postprocess per image at shape (1, 3, 480, 640)\n",
      "\n",
      "0: 480x640 19 cars, 3 trucks, 78.4ms\n",
      "Speed: 2.5ms preprocess, 78.4ms inference, 0.8ms postprocess per image at shape (1, 3, 480, 640)\n",
      "\n",
      "0: 480x640 2 licenses, 82.0ms\n",
      "Speed: 2.8ms preprocess, 82.0ms inference, 0.6ms postprocess per image at shape (1, 3, 480, 640)\n"
     ]
    },
    {
     "name": "stdout",
     "output_type": "stream",
     "text": [
      "Error: results_list is empty or contains tuples without a second element.\n",
      "Error: results_list is empty or contains tuples without a second element.\n"
     ]
    },
    {
     "name": "stderr",
     "output_type": "stream",
     "text": [
      "\n",
      "0: 480x640 19 cars, 3 trucks, 79.0ms\n",
      "Speed: 2.5ms preprocess, 79.0ms inference, 0.7ms postprocess per image at shape (1, 3, 480, 640)\n",
      "\n",
      "0: 480x640 2 licenses, 73.3ms\n",
      "Speed: 2.8ms preprocess, 73.3ms inference, 1.1ms postprocess per image at shape (1, 3, 480, 640)\n"
     ]
    },
    {
     "name": "stdout",
     "output_type": "stream",
     "text": [
      "Error: results_list is empty or contains tuples without a second element.\n"
     ]
    },
    {
     "name": "stderr",
     "output_type": "stream",
     "text": [
      "\n",
      "0: 480x640 19 cars, 3 trucks, 76.7ms\n",
      "Speed: 2.5ms preprocess, 76.7ms inference, 0.7ms postprocess per image at shape (1, 3, 480, 640)\n",
      "\n",
      "0: 480x640 3 licenses, 75.9ms\n",
      "Speed: 2.5ms preprocess, 75.9ms inference, 0.6ms postprocess per image at shape (1, 3, 480, 640)\n"
     ]
    },
    {
     "name": "stdout",
     "output_type": "stream",
     "text": [
      "Error: results_list is empty or contains tuples without a second element.\n"
     ]
    },
    {
     "name": "stderr",
     "output_type": "stream",
     "text": [
      "\n",
      "0: 480x640 19 cars, 3 trucks, 85.8ms\n",
      "Speed: 2.7ms preprocess, 85.8ms inference, 0.8ms postprocess per image at shape (1, 3, 480, 640)\n",
      "\n",
      "0: 480x640 3 licenses, 91.5ms\n",
      "Speed: 3.3ms preprocess, 91.5ms inference, 0.6ms postprocess per image at shape (1, 3, 480, 640)\n"
     ]
    },
    {
     "name": "stdout",
     "output_type": "stream",
     "text": [
      "Error: results_list is empty or contains tuples without a second element.\n"
     ]
    },
    {
     "name": "stderr",
     "output_type": "stream",
     "text": [
      "\n",
      "0: 480x640 19 cars, 3 trucks, 80.4ms\n",
      "Speed: 2.4ms preprocess, 80.4ms inference, 0.8ms postprocess per image at shape (1, 3, 480, 640)\n",
      "\n",
      "0: 480x640 3 licenses, 81.9ms\n",
      "Speed: 3.0ms preprocess, 81.9ms inference, 0.6ms postprocess per image at shape (1, 3, 480, 640)\n"
     ]
    },
    {
     "name": "stdout",
     "output_type": "stream",
     "text": [
      "Error: results_list is empty or contains tuples without a second element.\n"
     ]
    },
    {
     "name": "stderr",
     "output_type": "stream",
     "text": [
      "\n",
      "0: 480x640 19 cars, 3 trucks, 86.5ms\n",
      "Speed: 2.4ms preprocess, 86.5ms inference, 0.8ms postprocess per image at shape (1, 3, 480, 640)\n",
      "\n"
     ]
    },
    {
     "name": "stdout",
     "output_type": "stream",
     "text": [
      "Error: results_list is empty or contains tuples without a second element.\n"
     ]
    },
    {
     "name": "stderr",
     "output_type": "stream",
     "text": [
      "0: 480x640 3 licenses, 103.9ms\n",
      "Speed: 3.2ms preprocess, 103.9ms inference, 0.9ms postprocess per image at shape (1, 3, 480, 640)\n"
     ]
    },
    {
     "name": "stdout",
     "output_type": "stream",
     "text": [
      "Error: results_list is empty or contains tuples without a second element.\n"
     ]
    },
    {
     "name": "stderr",
     "output_type": "stream",
     "text": [
      "\n",
      "0: 480x640 18 cars, 3 trucks, 77.7ms\n",
      "Speed: 2.5ms preprocess, 77.7ms inference, 0.7ms postprocess per image at shape (1, 3, 480, 640)\n",
      "\n",
      "0: 480x640 4 licenses, 76.8ms\n",
      "Speed: 2.5ms preprocess, 76.8ms inference, 0.9ms postprocess per image at shape (1, 3, 480, 640)\n"
     ]
    },
    {
     "name": "stdout",
     "output_type": "stream",
     "text": [
      "Error: results_list is empty or contains tuples without a second element.\n"
     ]
    },
    {
     "name": "stderr",
     "output_type": "stream",
     "text": [
      "\n",
      "0: 480x640 18 cars, 3 trucks, 78.8ms\n",
      "Speed: 2.5ms preprocess, 78.8ms inference, 0.7ms postprocess per image at shape (1, 3, 480, 640)\n",
      "\n",
      "0: 480x640 4 licenses, 75.3ms\n",
      "Speed: 3.0ms preprocess, 75.3ms inference, 0.6ms postprocess per image at shape (1, 3, 480, 640)\n"
     ]
    },
    {
     "name": "stdout",
     "output_type": "stream",
     "text": [
      "Error: results_list is empty or contains tuples without a second element.\n"
     ]
    },
    {
     "name": "stderr",
     "output_type": "stream",
     "text": [
      "\n",
      "0: 480x640 17 cars, 3 trucks, 81.5ms\n",
      "Speed: 2.4ms preprocess, 81.5ms inference, 0.7ms postprocess per image at shape (1, 3, 480, 640)\n",
      "\n",
      "0: 480x640 3 licenses, 78.1ms\n",
      "Speed: 3.0ms preprocess, 78.1ms inference, 0.6ms postprocess per image at shape (1, 3, 480, 640)\n"
     ]
    },
    {
     "name": "stdout",
     "output_type": "stream",
     "text": [
      "Error: results_list is empty or contains tuples without a second element.\n"
     ]
    },
    {
     "name": "stderr",
     "output_type": "stream",
     "text": [
      "\n",
      "0: 480x640 17 cars, 3 trucks, 105.4ms\n",
      "Speed: 3.2ms preprocess, 105.4ms inference, 1.0ms postprocess per image at shape (1, 3, 480, 640)\n",
      "\n"
     ]
    },
    {
     "name": "stdout",
     "output_type": "stream",
     "text": [
      "Error: results_list is empty or contains tuples without a second element.\n"
     ]
    },
    {
     "name": "stderr",
     "output_type": "stream",
     "text": [
      "0: 480x640 3 licenses, 100.7ms\n",
      "Speed: 3.7ms preprocess, 100.7ms inference, 0.6ms postprocess per image at shape (1, 3, 480, 640)\n"
     ]
    },
    {
     "name": "stdout",
     "output_type": "stream",
     "text": [
      "Error: results_list is empty or contains tuples without a second element.\n"
     ]
    },
    {
     "name": "stderr",
     "output_type": "stream",
     "text": [
      "\n",
      "0: 480x640 21 cars, 3 trucks, 84.2ms\n",
      "Speed: 2.5ms preprocess, 84.2ms inference, 0.8ms postprocess per image at shape (1, 3, 480, 640)\n",
      "\n",
      "0: 480x640 3 licenses, 76.7ms\n",
      "Speed: 3.1ms preprocess, 76.7ms inference, 0.6ms postprocess per image at shape (1, 3, 480, 640)\n"
     ]
    },
    {
     "name": "stdout",
     "output_type": "stream",
     "text": [
      "Error: results_list is empty or contains tuples without a second element.\n"
     ]
    },
    {
     "name": "stderr",
     "output_type": "stream",
     "text": [
      "\n",
      "0: 480x640 21 cars, 3 trucks, 80.1ms\n",
      "Speed: 2.5ms preprocess, 80.1ms inference, 1.1ms postprocess per image at shape (1, 3, 480, 640)\n",
      "\n",
      "0: 480x640 3 licenses, 82.4ms\n",
      "Speed: 3.0ms preprocess, 82.4ms inference, 0.6ms postprocess per image at shape (1, 3, 480, 640)\n",
      "\n",
      "0: 480x640 23 cars, 3 trucks, 80.3ms\n",
      "Speed: 3.2ms preprocess, 80.3ms inference, 0.8ms postprocess per image at shape (1, 3, 480, 640)\n",
      "\n",
      "0: 480x640 5 licenses, 100.0ms\n",
      "Speed: 3.4ms preprocess, 100.0ms inference, 0.9ms postprocess per image at shape (1, 3, 480, 640)\n",
      "\n",
      "0: 480x640 23 cars, 3 trucks, 127.5ms\n",
      "Speed: 3.9ms preprocess, 127.5ms inference, 1.3ms postprocess per image at shape (1, 3, 480, 640)\n",
      "\n"
     ]
    },
    {
     "name": "stdout",
     "output_type": "stream",
     "text": [
      "Error: results_list is empty or contains tuples without a second element.\n"
     ]
    },
    {
     "name": "stderr",
     "output_type": "stream",
     "text": [
      "0: 480x640 5 licenses, 124.1ms\n",
      "Speed: 4.5ms preprocess, 124.1ms inference, 1.0ms postprocess per image at shape (1, 3, 480, 640)\n",
      "\n",
      "0: 480x640 21 cars, 3 trucks, 112.4ms\n",
      "Speed: 3.1ms preprocess, 112.4ms inference, 1.1ms postprocess per image at shape (1, 3, 480, 640)\n",
      "\n"
     ]
    },
    {
     "name": "stdout",
     "output_type": "stream",
     "text": [
      "Error: results_list is empty or contains tuples without a second element.\n"
     ]
    },
    {
     "name": "stderr",
     "output_type": "stream",
     "text": [
      "0: 480x640 3 licenses, 105.2ms\n",
      "Speed: 4.0ms preprocess, 105.2ms inference, 0.7ms postprocess per image at shape (1, 3, 480, 640)\n",
      "\n",
      "0: 480x640 22 cars, 3 trucks, 85.0ms\n",
      "Speed: 2.5ms preprocess, 85.0ms inference, 0.9ms postprocess per image at shape (1, 3, 480, 640)\n",
      "\n",
      "0: 480x640 3 licenses, 84.3ms\n",
      "Speed: 2.5ms preprocess, 84.3ms inference, 1.2ms postprocess per image at shape (1, 3, 480, 640)\n",
      "\n",
      "0: 480x640 20 cars, 3 trucks, 76.1ms\n",
      "Speed: 2.5ms preprocess, 76.1ms inference, 0.8ms postprocess per image at shape (1, 3, 480, 640)\n",
      "\n",
      "0: 480x640 4 licenses, 77.8ms\n",
      "Speed: 3.1ms preprocess, 77.8ms inference, 0.6ms postprocess per image at shape (1, 3, 480, 640)\n"
     ]
    },
    {
     "name": "stdout",
     "output_type": "stream",
     "text": [
      "Error: results_list is empty or contains tuples without a second element.\n"
     ]
    },
    {
     "name": "stderr",
     "output_type": "stream",
     "text": [
      "\n",
      "0: 480x640 20 cars, 3 trucks, 87.0ms\n",
      "Speed: 2.5ms preprocess, 87.0ms inference, 0.9ms postprocess per image at shape (1, 3, 480, 640)\n",
      "\n",
      "0: 480x640 4 licenses, 94.7ms\n",
      "Speed: 3.2ms preprocess, 94.7ms inference, 0.9ms postprocess per image at shape (1, 3, 480, 640)\n"
     ]
    },
    {
     "name": "stdout",
     "output_type": "stream",
     "text": [
      "Error: results_list is empty or contains tuples without a second element.\n"
     ]
    },
    {
     "name": "stderr",
     "output_type": "stream",
     "text": [
      "\n",
      "0: 480x640 21 cars, 3 trucks, 80.9ms\n",
      "Speed: 2.5ms preprocess, 80.9ms inference, 0.8ms postprocess per image at shape (1, 3, 480, 640)\n",
      "\n",
      "0: 480x640 4 licenses, 81.8ms\n",
      "Speed: 3.1ms preprocess, 81.8ms inference, 0.7ms postprocess per image at shape (1, 3, 480, 640)\n",
      "\n",
      "0: 480x640 21 cars, 3 trucks, 134.4ms\n",
      "Speed: 3.0ms preprocess, 134.4ms inference, 1.6ms postprocess per image at shape (1, 3, 480, 640)\n",
      "\n",
      "0: 480x640 4 licenses, 144.4ms\n",
      "Speed: 5.6ms preprocess, 144.4ms inference, 0.9ms postprocess per image at shape (1, 3, 480, 640)\n",
      "\n",
      "0: 480x640 21 cars, 3 trucks, 80.0ms\n",
      "Speed: 2.5ms preprocess, 80.0ms inference, 0.8ms postprocess per image at shape (1, 3, 480, 640)\n",
      "\n",
      "0: 480x640 3 licenses, 85.8ms\n",
      "Speed: 2.4ms preprocess, 85.8ms inference, 0.6ms postprocess per image at shape (1, 3, 480, 640)\n",
      "\n",
      "0: 480x640 21 cars, 3 trucks, 80.0ms\n",
      "Speed: 2.4ms preprocess, 80.0ms inference, 0.7ms postprocess per image at shape (1, 3, 480, 640)\n",
      "\n",
      "0: 480x640 3 licenses, 77.7ms\n",
      "Speed: 2.3ms preprocess, 77.7ms inference, 0.6ms postprocess per image at shape (1, 3, 480, 640)\n",
      "\n",
      "0: 480x640 20 cars, 3 trucks, 77.8ms\n",
      "Speed: 2.4ms preprocess, 77.8ms inference, 0.7ms postprocess per image at shape (1, 3, 480, 640)\n",
      "\n",
      "0: 480x640 3 licenses, 80.2ms\n",
      "Speed: 2.6ms preprocess, 80.2ms inference, 0.6ms postprocess per image at shape (1, 3, 480, 640)\n",
      "\n",
      "0: 480x640 20 cars, 3 trucks, 76.6ms\n",
      "Speed: 2.6ms preprocess, 76.6ms inference, 0.8ms postprocess per image at shape (1, 3, 480, 640)\n",
      "\n",
      "0: 480x640 3 licenses, 77.0ms\n",
      "Speed: 3.0ms preprocess, 77.0ms inference, 0.6ms postprocess per image at shape (1, 3, 480, 640)\n"
     ]
    },
    {
     "name": "stdout",
     "output_type": "stream",
     "text": [
      "Error: results_list is empty or contains tuples without a second element.\n"
     ]
    },
    {
     "name": "stderr",
     "output_type": "stream",
     "text": [
      "\n",
      "0: 480x640 19 cars, 3 trucks, 91.2ms\n",
      "Speed: 2.4ms preprocess, 91.2ms inference, 0.8ms postprocess per image at shape (1, 3, 480, 640)\n",
      "\n"
     ]
    },
    {
     "name": "stdout",
     "output_type": "stream",
     "text": [
      "Error: results_list is empty or contains tuples without a second element.\n"
     ]
    },
    {
     "name": "stderr",
     "output_type": "stream",
     "text": [
      "0: 480x640 2 licenses, 95.3ms\n",
      "Speed: 3.4ms preprocess, 95.3ms inference, 1.2ms postprocess per image at shape (1, 3, 480, 640)\n",
      "\n",
      "0: 480x640 19 cars, 3 trucks, 79.3ms\n",
      "Speed: 3.3ms preprocess, 79.3ms inference, 0.8ms postprocess per image at shape (1, 3, 480, 640)\n",
      "\n",
      "0: 480x640 2 licenses, 81.0ms\n",
      "Speed: 2.8ms preprocess, 81.0ms inference, 0.6ms postprocess per image at shape (1, 3, 480, 640)\n",
      "\n",
      "0: 480x640 21 cars, 3 trucks, 80.3ms\n",
      "Speed: 2.4ms preprocess, 80.3ms inference, 0.8ms postprocess per image at shape (1, 3, 480, 640)\n",
      "\n",
      "0: 480x640 4 licenses, 82.9ms\n",
      "Speed: 2.3ms preprocess, 82.9ms inference, 0.6ms postprocess per image at shape (1, 3, 480, 640)\n"
     ]
    },
    {
     "name": "stdout",
     "output_type": "stream",
     "text": [
      "Error: results_list is empty or contains tuples without a second element.\n"
     ]
    },
    {
     "name": "stderr",
     "output_type": "stream",
     "text": [
      "\n",
      "0: 480x640 20 cars, 3 trucks, 118.0ms\n",
      "Speed: 3.1ms preprocess, 118.0ms inference, 1.3ms postprocess per image at shape (1, 3, 480, 640)\n",
      "\n",
      "0: 480x640 4 licenses, 122.6ms\n",
      "Speed: 4.2ms preprocess, 122.6ms inference, 0.9ms postprocess per image at shape (1, 3, 480, 640)\n"
     ]
    },
    {
     "name": "stdout",
     "output_type": "stream",
     "text": [
      "Error: results_list is empty or contains tuples without a second element.\n"
     ]
    },
    {
     "name": "stderr",
     "output_type": "stream",
     "text": [
      "\n",
      "0: 480x640 20 cars, 3 trucks, 85.7ms\n",
      "Speed: 2.7ms preprocess, 85.7ms inference, 1.5ms postprocess per image at shape (1, 3, 480, 640)\n",
      "\n",
      "0: 480x640 4 licenses, 88.6ms\n",
      "Speed: 2.7ms preprocess, 88.6ms inference, 0.6ms postprocess per image at shape (1, 3, 480, 640)\n"
     ]
    },
    {
     "name": "stdout",
     "output_type": "stream",
     "text": [
      "Error: results_list is empty or contains tuples without a second element.\n"
     ]
    },
    {
     "name": "stderr",
     "output_type": "stream",
     "text": [
      "\n",
      "0: 480x640 20 cars, 3 trucks, 87.2ms\n",
      "Speed: 2.6ms preprocess, 87.2ms inference, 0.8ms postprocess per image at shape (1, 3, 480, 640)\n",
      "\n",
      "0: 480x640 4 licenses, 82.2ms\n",
      "Speed: 2.7ms preprocess, 82.2ms inference, 0.6ms postprocess per image at shape (1, 3, 480, 640)\n"
     ]
    },
    {
     "name": "stdout",
     "output_type": "stream",
     "text": [
      "Error: results_list is empty or contains tuples without a second element.\n"
     ]
    },
    {
     "name": "stderr",
     "output_type": "stream",
     "text": [
      "\n",
      "0: 480x640 18 cars, 3 trucks, 82.8ms\n",
      "Speed: 2.2ms preprocess, 82.8ms inference, 0.9ms postprocess per image at shape (1, 3, 480, 640)\n",
      "\n",
      "0: 480x640 2 licenses, 80.1ms\n",
      "Speed: 3.3ms preprocess, 80.1ms inference, 0.6ms postprocess per image at shape (1, 3, 480, 640)\n",
      "\n",
      "0: 480x640 18 cars, 3 trucks, 79.1ms\n",
      "Speed: 2.6ms preprocess, 79.1ms inference, 0.9ms postprocess per image at shape (1, 3, 480, 640)\n",
      "\n",
      "0: 480x640 2 licenses, 81.6ms\n",
      "Speed: 3.2ms preprocess, 81.6ms inference, 0.6ms postprocess per image at shape (1, 3, 480, 640)\n",
      "\n",
      "0: 480x640 20 cars, 3 trucks, 84.9ms\n",
      "Speed: 2.4ms preprocess, 84.9ms inference, 0.9ms postprocess per image at shape (1, 3, 480, 640)\n",
      "\n",
      "0: 480x640 2 licenses, 83.4ms\n",
      "Speed: 2.8ms preprocess, 83.4ms inference, 1.1ms postprocess per image at shape (1, 3, 480, 640)\n",
      "\n",
      "0: 480x640 20 cars, 3 trucks, 78.8ms\n",
      "Speed: 2.6ms preprocess, 78.8ms inference, 0.7ms postprocess per image at shape (1, 3, 480, 640)\n",
      "\n",
      "0: 480x640 2 licenses, 79.6ms\n",
      "Speed: 2.4ms preprocess, 79.6ms inference, 0.6ms postprocess per image at shape (1, 3, 480, 640)\n"
     ]
    },
    {
     "name": "stdout",
     "output_type": "stream",
     "text": [
      "Error: results_list is empty or contains tuples without a second element.\n"
     ]
    },
    {
     "name": "stderr",
     "output_type": "stream",
     "text": [
      "\n",
      "0: 480x640 19 cars, 3 trucks, 78.8ms\n",
      "Speed: 2.5ms preprocess, 78.8ms inference, 0.8ms postprocess per image at shape (1, 3, 480, 640)\n",
      "\n",
      "0: 480x640 3 licenses, 79.8ms\n",
      "Speed: 2.4ms preprocess, 79.8ms inference, 0.6ms postprocess per image at shape (1, 3, 480, 640)\n"
     ]
    },
    {
     "name": "stdout",
     "output_type": "stream",
     "text": [
      "Error: results_list is empty or contains tuples without a second element.\n",
      "Error: results_list is empty or contains tuples without a second element.\n"
     ]
    },
    {
     "name": "stderr",
     "output_type": "stream",
     "text": [
      "\n",
      "0: 480x640 18 cars, 3 trucks, 76.3ms\n",
      "Speed: 2.5ms preprocess, 76.3ms inference, 0.8ms postprocess per image at shape (1, 3, 480, 640)\n",
      "\n",
      "0: 480x640 3 licenses, 78.1ms\n",
      "Speed: 2.3ms preprocess, 78.1ms inference, 0.6ms postprocess per image at shape (1, 3, 480, 640)\n"
     ]
    },
    {
     "name": "stdout",
     "output_type": "stream",
     "text": [
      "Error: results_list is empty or contains tuples without a second element.\n"
     ]
    },
    {
     "name": "stderr",
     "output_type": "stream",
     "text": [
      "\n",
      "0: 480x640 20 cars, 3 trucks, 79.7ms\n",
      "Speed: 2.5ms preprocess, 79.7ms inference, 1.0ms postprocess per image at shape (1, 3, 480, 640)\n",
      "\n",
      "0: 480x640 3 licenses, 74.9ms\n",
      "Speed: 3.1ms preprocess, 74.9ms inference, 0.6ms postprocess per image at shape (1, 3, 480, 640)\n"
     ]
    },
    {
     "name": "stdout",
     "output_type": "stream",
     "text": [
      "Error: results_list is empty or contains tuples without a second element.\n"
     ]
    },
    {
     "name": "stderr",
     "output_type": "stream",
     "text": [
      "\n",
      "0: 480x640 20 cars, 3 trucks, 84.6ms\n",
      "Speed: 2.5ms preprocess, 84.6ms inference, 0.9ms postprocess per image at shape (1, 3, 480, 640)\n",
      "\n",
      "0: 480x640 3 licenses, 84.0ms\n",
      "Speed: 3.2ms preprocess, 84.0ms inference, 0.6ms postprocess per image at shape (1, 3, 480, 640)\n"
     ]
    },
    {
     "name": "stdout",
     "output_type": "stream",
     "text": [
      "Error: results_list is empty or contains tuples without a second element.\n",
      "Error: results_list is empty or contains tuples without a second element.\n"
     ]
    },
    {
     "name": "stderr",
     "output_type": "stream",
     "text": [
      "\n",
      "0: 480x640 20 cars, 1 bus, 3 trucks, 89.9ms\n",
      "Speed: 2.5ms preprocess, 89.9ms inference, 0.8ms postprocess per image at shape (1, 3, 480, 640)\n",
      "\n",
      "0: 480x640 3 licenses, 81.8ms\n",
      "Speed: 3.4ms preprocess, 81.8ms inference, 0.7ms postprocess per image at shape (1, 3, 480, 640)\n"
     ]
    },
    {
     "name": "stdout",
     "output_type": "stream",
     "text": [
      "Error: results_list is empty or contains tuples without a second element.\n"
     ]
    },
    {
     "name": "stderr",
     "output_type": "stream",
     "text": [
      "\n",
      "0: 480x640 20 cars, 1 bus, 3 trucks, 85.8ms\n",
      "Speed: 2.3ms preprocess, 85.8ms inference, 1.4ms postprocess per image at shape (1, 3, 480, 640)\n",
      "\n",
      "0: 480x640 3 licenses, 88.2ms\n",
      "Speed: 3.4ms preprocess, 88.2ms inference, 0.7ms postprocess per image at shape (1, 3, 480, 640)\n"
     ]
    },
    {
     "name": "stdout",
     "output_type": "stream",
     "text": [
      "Error: results_list is empty or contains tuples without a second element.\n"
     ]
    },
    {
     "name": "stderr",
     "output_type": "stream",
     "text": [
      "\n",
      "0: 480x640 18 cars, 1 bus, 4 trucks, 87.5ms\n",
      "Speed: 2.5ms preprocess, 87.5ms inference, 0.8ms postprocess per image at shape (1, 3, 480, 640)\n",
      "\n",
      "0: 480x640 3 licenses, 88.4ms\n",
      "Speed: 3.2ms preprocess, 88.4ms inference, 0.6ms postprocess per image at shape (1, 3, 480, 640)\n"
     ]
    },
    {
     "name": "stdout",
     "output_type": "stream",
     "text": [
      "Error: results_list is empty or contains tuples without a second element.\n",
      "Error: results_list is empty or contains tuples without a second element.\n"
     ]
    },
    {
     "name": "stderr",
     "output_type": "stream",
     "text": [
      "\n",
      "0: 480x640 18 cars, 1 bus, 4 trucks, 80.3ms\n",
      "Speed: 2.6ms preprocess, 80.3ms inference, 0.7ms postprocess per image at shape (1, 3, 480, 640)\n",
      "\n",
      "0: 480x640 3 licenses, 83.4ms\n",
      "Speed: 3.1ms preprocess, 83.4ms inference, 0.6ms postprocess per image at shape (1, 3, 480, 640)\n",
      "\n",
      "0: 480x640 22 cars, 1 bus, 4 trucks, 79.6ms\n",
      "Speed: 2.4ms preprocess, 79.6ms inference, 0.8ms postprocess per image at shape (1, 3, 480, 640)\n",
      "\n",
      "0: 480x640 3 licenses, 79.8ms\n",
      "Speed: 3.1ms preprocess, 79.8ms inference, 0.5ms postprocess per image at shape (1, 3, 480, 640)\n"
     ]
    },
    {
     "name": "stdout",
     "output_type": "stream",
     "text": [
      "Error: results_list is empty or contains tuples without a second element.\n"
     ]
    },
    {
     "name": "stderr",
     "output_type": "stream",
     "text": [
      "\n",
      "0: 480x640 23 cars, 4 trucks, 76.2ms\n",
      "Speed: 2.4ms preprocess, 76.2ms inference, 1.0ms postprocess per image at shape (1, 3, 480, 640)\n",
      "\n",
      "0: 480x640 3 licenses, 77.4ms\n",
      "Speed: 2.5ms preprocess, 77.4ms inference, 0.6ms postprocess per image at shape (1, 3, 480, 640)\n"
     ]
    },
    {
     "name": "stdout",
     "output_type": "stream",
     "text": [
      "Error: results_list is empty or contains tuples without a second element.\n"
     ]
    },
    {
     "name": "stderr",
     "output_type": "stream",
     "text": [
      "\n",
      "0: 480x640 19 cars, 3 trucks, 83.4ms\n",
      "Speed: 2.3ms preprocess, 83.4ms inference, 0.9ms postprocess per image at shape (1, 3, 480, 640)\n",
      "\n",
      "0: 480x640 3 licenses, 91.1ms\n",
      "Speed: 3.0ms preprocess, 91.1ms inference, 0.7ms postprocess per image at shape (1, 3, 480, 640)\n"
     ]
    },
    {
     "name": "stdout",
     "output_type": "stream",
     "text": [
      "Error: results_list is empty or contains tuples without a second element.\n",
      "Error: results_list is empty or contains tuples without a second element.\n"
     ]
    },
    {
     "name": "stderr",
     "output_type": "stream",
     "text": [
      "\n",
      "0: 480x640 19 cars, 3 trucks, 87.7ms\n",
      "Speed: 2.5ms preprocess, 87.7ms inference, 0.8ms postprocess per image at shape (1, 3, 480, 640)\n",
      "\n",
      "0: 480x640 3 licenses, 83.9ms\n",
      "Speed: 3.5ms preprocess, 83.9ms inference, 0.7ms postprocess per image at shape (1, 3, 480, 640)\n"
     ]
    },
    {
     "name": "stdout",
     "output_type": "stream",
     "text": [
      "Error: results_list is empty or contains tuples without a second element.\n",
      "Error: results_list is empty or contains tuples without a second element.\n"
     ]
    },
    {
     "name": "stderr",
     "output_type": "stream",
     "text": [
      "\n",
      "0: 480x640 21 cars, 1 bus, 3 trucks, 84.4ms\n",
      "Speed: 2.5ms preprocess, 84.4ms inference, 0.9ms postprocess per image at shape (1, 3, 480, 640)\n",
      "\n",
      "0: 480x640 3 licenses, 83.3ms\n",
      "Speed: 2.6ms preprocess, 83.3ms inference, 0.6ms postprocess per image at shape (1, 3, 480, 640)\n"
     ]
    },
    {
     "name": "stdout",
     "output_type": "stream",
     "text": [
      "Error: results_list is empty or contains tuples without a second element.\n"
     ]
    },
    {
     "name": "stderr",
     "output_type": "stream",
     "text": [
      "\n",
      "0: 480x640 22 cars, 1 bus, 3 trucks, 85.2ms\n",
      "Speed: 2.5ms preprocess, 85.2ms inference, 0.8ms postprocess per image at shape (1, 3, 480, 640)\n",
      "\n",
      "0: 480x640 3 licenses, 81.9ms\n",
      "Speed: 3.2ms preprocess, 81.9ms inference, 0.6ms postprocess per image at shape (1, 3, 480, 640)\n"
     ]
    },
    {
     "name": "stdout",
     "output_type": "stream",
     "text": [
      "Error: results_list is empty or contains tuples without a second element.\n",
      "Error: results_list is empty or contains tuples without a second element.\n"
     ]
    },
    {
     "name": "stderr",
     "output_type": "stream",
     "text": [
      "\n",
      "0: 480x640 20 cars, 1 bus, 3 trucks, 79.3ms\n",
      "Speed: 2.6ms preprocess, 79.3ms inference, 0.8ms postprocess per image at shape (1, 3, 480, 640)\n",
      "\n",
      "0: 480x640 3 licenses, 77.9ms\n",
      "Speed: 2.9ms preprocess, 77.9ms inference, 1.0ms postprocess per image at shape (1, 3, 480, 640)\n"
     ]
    },
    {
     "name": "stdout",
     "output_type": "stream",
     "text": [
      "Error: results_list is empty or contains tuples without a second element.\n",
      "Error: results_list is empty or contains tuples without a second element.\n"
     ]
    },
    {
     "name": "stderr",
     "output_type": "stream",
     "text": [
      "\n",
      "0: 480x640 20 cars, 1 bus, 3 trucks, 80.1ms\n",
      "Speed: 2.5ms preprocess, 80.1ms inference, 0.7ms postprocess per image at shape (1, 3, 480, 640)\n",
      "\n",
      "0: 480x640 3 licenses, 77.7ms\n",
      "Speed: 2.4ms preprocess, 77.7ms inference, 0.6ms postprocess per image at shape (1, 3, 480, 640)\n"
     ]
    },
    {
     "name": "stdout",
     "output_type": "stream",
     "text": [
      "Error: results_list is empty or contains tuples without a second element.\n"
     ]
    },
    {
     "name": "stderr",
     "output_type": "stream",
     "text": [
      "\n",
      "0: 480x640 19 cars, 2 buss, 3 trucks, 78.6ms\n",
      "Speed: 2.6ms preprocess, 78.6ms inference, 0.8ms postprocess per image at shape (1, 3, 480, 640)\n",
      "\n",
      "0: 480x640 3 licenses, 76.1ms\n",
      "Speed: 2.5ms preprocess, 76.1ms inference, 0.5ms postprocess per image at shape (1, 3, 480, 640)\n",
      "\n",
      "0: 480x640 18 cars, 2 buss, 2 trucks, 79.4ms\n",
      "Speed: 2.4ms preprocess, 79.4ms inference, 0.7ms postprocess per image at shape (1, 3, 480, 640)\n",
      "\n",
      "0: 480x640 3 licenses, 74.8ms\n",
      "Speed: 2.9ms preprocess, 74.8ms inference, 0.5ms postprocess per image at shape (1, 3, 480, 640)\n"
     ]
    },
    {
     "name": "stdout",
     "output_type": "stream",
     "text": [
      "Error: results_list is empty or contains tuples without a second element.\n"
     ]
    },
    {
     "name": "stderr",
     "output_type": "stream",
     "text": [
      "\n",
      "0: 480x640 19 cars, 1 bus, 3 trucks, 82.0ms\n",
      "Speed: 2.8ms preprocess, 82.0ms inference, 0.8ms postprocess per image at shape (1, 3, 480, 640)\n",
      "\n",
      "0: 480x640 3 licenses, 82.2ms\n",
      "Speed: 3.4ms preprocess, 82.2ms inference, 0.8ms postprocess per image at shape (1, 3, 480, 640)\n"
     ]
    },
    {
     "name": "stdout",
     "output_type": "stream",
     "text": [
      "Error: results_list is empty or contains tuples without a second element.\n",
      "Error: results_list is empty or contains tuples without a second element.\n"
     ]
    },
    {
     "name": "stderr",
     "output_type": "stream",
     "text": [
      "\n",
      "0: 480x640 19 cars, 1 bus, 3 trucks, 97.1ms\n",
      "Speed: 2.7ms preprocess, 97.1ms inference, 1.0ms postprocess per image at shape (1, 3, 480, 640)\n",
      "\n"
     ]
    },
    {
     "name": "stdout",
     "output_type": "stream",
     "text": [
      "Error: results_list is empty or contains tuples without a second element.\n"
     ]
    },
    {
     "name": "stderr",
     "output_type": "stream",
     "text": [
      "0: 480x640 3 licenses, 107.6ms\n",
      "Speed: 3.6ms preprocess, 107.6ms inference, 1.6ms postprocess per image at shape (1, 3, 480, 640)\n"
     ]
    },
    {
     "name": "stdout",
     "output_type": "stream",
     "text": [
      "Error: results_list is empty or contains tuples without a second element.\n"
     ]
    },
    {
     "name": "stderr",
     "output_type": "stream",
     "text": [
      "\n",
      "0: 480x640 20 cars, 2 buss, 3 trucks, 85.6ms\n",
      "Speed: 2.4ms preprocess, 85.6ms inference, 0.8ms postprocess per image at shape (1, 3, 480, 640)\n",
      "\n",
      "0: 480x640 3 licenses, 83.9ms\n",
      "Speed: 3.3ms preprocess, 83.9ms inference, 0.5ms postprocess per image at shape (1, 3, 480, 640)\n"
     ]
    },
    {
     "name": "stdout",
     "output_type": "stream",
     "text": [
      "Error: results_list is empty or contains tuples without a second element.\n",
      "Error: results_list is empty or contains tuples without a second element.\n"
     ]
    },
    {
     "name": "stderr",
     "output_type": "stream",
     "text": [
      "\n",
      "0: 480x640 20 cars, 2 buss, 3 trucks, 82.8ms\n",
      "Speed: 2.6ms preprocess, 82.8ms inference, 0.8ms postprocess per image at shape (1, 3, 480, 640)\n",
      "\n",
      "0: 480x640 3 licenses, 79.7ms\n",
      "Speed: 3.0ms preprocess, 79.7ms inference, 0.5ms postprocess per image at shape (1, 3, 480, 640)\n"
     ]
    },
    {
     "name": "stdout",
     "output_type": "stream",
     "text": [
      "Error: results_list is empty or contains tuples without a second element.\n"
     ]
    },
    {
     "name": "stderr",
     "output_type": "stream",
     "text": [
      "\n",
      "0: 480x640 18 cars, 1 bus, 3 trucks, 86.4ms\n",
      "Speed: 2.7ms preprocess, 86.4ms inference, 0.9ms postprocess per image at shape (1, 3, 480, 640)\n",
      "\n",
      "0: 480x640 3 licenses, 126.1ms\n",
      "Speed: 3.6ms preprocess, 126.1ms inference, 1.1ms postprocess per image at shape (1, 3, 480, 640)\n"
     ]
    },
    {
     "name": "stdout",
     "output_type": "stream",
     "text": [
      "Error: results_list is empty or contains tuples without a second element.\n"
     ]
    },
    {
     "name": "stderr",
     "output_type": "stream",
     "text": [
      "\n",
      "0: 480x640 18 cars, 1 bus, 3 trucks, 127.9ms\n",
      "Speed: 5.4ms preprocess, 127.9ms inference, 1.7ms postprocess per image at shape (1, 3, 480, 640)\n",
      "\n",
      "0: 480x640 3 licenses, 107.6ms\n",
      "Speed: 5.2ms preprocess, 107.6ms inference, 0.8ms postprocess per image at shape (1, 3, 480, 640)\n"
     ]
    },
    {
     "name": "stdout",
     "output_type": "stream",
     "text": [
      "Error: results_list is empty or contains tuples without a second element.\n"
     ]
    },
    {
     "name": "stderr",
     "output_type": "stream",
     "text": [
      "\n",
      "0: 480x640 19 cars, 1 bus, 3 trucks, 86.3ms\n",
      "Speed: 2.7ms preprocess, 86.3ms inference, 0.8ms postprocess per image at shape (1, 3, 480, 640)\n",
      "\n",
      "0: 480x640 2 licenses, 86.6ms\n",
      "Speed: 2.9ms preprocess, 86.6ms inference, 0.5ms postprocess per image at shape (1, 3, 480, 640)\n",
      "\n",
      "0: 480x640 19 cars, 1 bus, 3 trucks, 87.7ms\n",
      "Speed: 2.7ms preprocess, 87.7ms inference, 0.8ms postprocess per image at shape (1, 3, 480, 640)\n",
      "\n",
      "0: 480x640 2 licenses, 84.2ms\n",
      "Speed: 2.6ms preprocess, 84.2ms inference, 0.6ms postprocess per image at shape (1, 3, 480, 640)\n",
      "\n",
      "0: 480x640 20 cars, 1 bus, 3 trucks, 82.8ms\n",
      "Speed: 2.5ms preprocess, 82.8ms inference, 0.8ms postprocess per image at shape (1, 3, 480, 640)\n",
      "\n",
      "0: 480x640 1 license, 85.3ms\n",
      "Speed: 3.4ms preprocess, 85.3ms inference, 0.6ms postprocess per image at shape (1, 3, 480, 640)\n",
      "\n",
      "0: 480x640 20 cars, 1 bus, 3 trucks, 82.5ms\n",
      "Speed: 2.5ms preprocess, 82.5ms inference, 0.9ms postprocess per image at shape (1, 3, 480, 640)\n",
      "\n",
      "0: 480x640 1 license, 87.0ms\n",
      "Speed: 2.8ms preprocess, 87.0ms inference, 0.6ms postprocess per image at shape (1, 3, 480, 640)\n",
      "\n",
      "0: 480x640 20 cars, 1 bus, 3 trucks, 81.5ms\n",
      "Speed: 2.5ms preprocess, 81.5ms inference, 1.1ms postprocess per image at shape (1, 3, 480, 640)\n",
      "\n",
      "0: 480x640 3 licenses, 81.4ms\n",
      "Speed: 3.4ms preprocess, 81.4ms inference, 0.6ms postprocess per image at shape (1, 3, 480, 640)\n"
     ]
    },
    {
     "name": "stdout",
     "output_type": "stream",
     "text": [
      "Error: results_list is empty or contains tuples without a second element.\n"
     ]
    },
    {
     "name": "stderr",
     "output_type": "stream",
     "text": [
      "\n",
      "0: 480x640 20 cars, 1 bus, 3 trucks, 81.2ms\n",
      "Speed: 2.4ms preprocess, 81.2ms inference, 0.8ms postprocess per image at shape (1, 3, 480, 640)\n",
      "\n",
      "0: 480x640 3 licenses, 81.9ms\n",
      "Speed: 3.2ms preprocess, 81.9ms inference, 0.6ms postprocess per image at shape (1, 3, 480, 640)\n"
     ]
    },
    {
     "name": "stdout",
     "output_type": "stream",
     "text": [
      "Error: results_list is empty or contains tuples without a second element.\n"
     ]
    },
    {
     "name": "stderr",
     "output_type": "stream",
     "text": [
      "\n",
      "0: 480x640 20 cars, 3 trucks, 79.9ms\n",
      "Speed: 2.9ms preprocess, 79.9ms inference, 0.8ms postprocess per image at shape (1, 3, 480, 640)\n",
      "\n",
      "0: 480x640 2 licenses, 80.1ms\n",
      "Speed: 2.9ms preprocess, 80.1ms inference, 0.6ms postprocess per image at shape (1, 3, 480, 640)\n",
      "\n",
      "0: 480x640 20 cars, 1 bus, 3 trucks, 77.5ms\n",
      "Speed: 2.5ms preprocess, 77.5ms inference, 0.7ms postprocess per image at shape (1, 3, 480, 640)\n",
      "\n",
      "0: 480x640 2 licenses, 77.3ms\n",
      "Speed: 3.0ms preprocess, 77.3ms inference, 0.5ms postprocess per image at shape (1, 3, 480, 640)\n",
      "\n",
      "0: 480x640 19 cars, 4 trucks, 77.7ms\n",
      "Speed: 2.4ms preprocess, 77.7ms inference, 0.7ms postprocess per image at shape (1, 3, 480, 640)\n",
      "\n",
      "0: 480x640 3 licenses, 79.3ms\n",
      "Speed: 3.2ms preprocess, 79.3ms inference, 1.0ms postprocess per image at shape (1, 3, 480, 640)\n",
      "\n",
      "0: 480x640 19 cars, 4 trucks, 83.7ms\n",
      "Speed: 2.4ms preprocess, 83.7ms inference, 0.8ms postprocess per image at shape (1, 3, 480, 640)\n",
      "\n",
      "0: 480x640 3 licenses, 86.1ms\n",
      "Speed: 2.7ms preprocess, 86.1ms inference, 0.6ms postprocess per image at shape (1, 3, 480, 640)\n"
     ]
    },
    {
     "name": "stdout",
     "output_type": "stream",
     "text": [
      "Error: results_list is empty or contains tuples without a second element.\n"
     ]
    },
    {
     "name": "stderr",
     "output_type": "stream",
     "text": [
      "\n",
      "0: 480x640 18 cars, 3 trucks, 82.6ms\n",
      "Speed: 2.5ms preprocess, 82.6ms inference, 0.9ms postprocess per image at shape (1, 3, 480, 640)\n",
      "\n",
      "0: 480x640 2 licenses, 82.1ms\n",
      "Speed: 3.1ms preprocess, 82.1ms inference, 0.6ms postprocess per image at shape (1, 3, 480, 640)\n"
     ]
    },
    {
     "name": "stdout",
     "output_type": "stream",
     "text": [
      "Error: results_list is empty or contains tuples without a second element.\n"
     ]
    },
    {
     "name": "stderr",
     "output_type": "stream",
     "text": [
      "\n",
      "0: 480x640 18 cars, 3 trucks, 78.4ms\n",
      "Speed: 2.4ms preprocess, 78.4ms inference, 0.8ms postprocess per image at shape (1, 3, 480, 640)\n",
      "\n",
      "0: 480x640 2 licenses, 75.7ms\n",
      "Speed: 2.8ms preprocess, 75.7ms inference, 0.5ms postprocess per image at shape (1, 3, 480, 640)\n"
     ]
    },
    {
     "name": "stdout",
     "output_type": "stream",
     "text": [
      "Error: results_list is empty or contains tuples without a second element.\n"
     ]
    },
    {
     "name": "stderr",
     "output_type": "stream",
     "text": [
      "\n",
      "0: 480x640 16 cars, 3 trucks, 81.0ms\n",
      "Speed: 2.7ms preprocess, 81.0ms inference, 0.7ms postprocess per image at shape (1, 3, 480, 640)\n",
      "\n",
      "0: 480x640 3 licenses, 81.3ms\n",
      "Speed: 3.1ms preprocess, 81.3ms inference, 0.6ms postprocess per image at shape (1, 3, 480, 640)\n"
     ]
    },
    {
     "name": "stdout",
     "output_type": "stream",
     "text": [
      "Error: results_list is empty or contains tuples without a second element.\n"
     ]
    },
    {
     "name": "stderr",
     "output_type": "stream",
     "text": [
      "\n",
      "0: 480x640 16 cars, 3 trucks, 80.6ms\n",
      "Speed: 2.4ms preprocess, 80.6ms inference, 0.7ms postprocess per image at shape (1, 3, 480, 640)\n",
      "\n",
      "0: 480x640 3 licenses, 78.5ms\n",
      "Speed: 2.5ms preprocess, 78.5ms inference, 0.6ms postprocess per image at shape (1, 3, 480, 640)\n"
     ]
    },
    {
     "name": "stdout",
     "output_type": "stream",
     "text": [
      "Error: results_list is empty or contains tuples without a second element.\n"
     ]
    },
    {
     "name": "stderr",
     "output_type": "stream",
     "text": [
      "\n",
      "0: 480x640 18 cars, 3 trucks, 79.2ms\n",
      "Speed: 2.6ms preprocess, 79.2ms inference, 0.8ms postprocess per image at shape (1, 3, 480, 640)\n",
      "\n",
      "0: 480x640 3 licenses, 79.2ms\n",
      "Speed: 3.1ms preprocess, 79.2ms inference, 0.6ms postprocess per image at shape (1, 3, 480, 640)\n"
     ]
    },
    {
     "name": "stdout",
     "output_type": "stream",
     "text": [
      "Error: results_list is empty or contains tuples without a second element.\n",
      "Error: results_list is empty or contains tuples without a second element.\n"
     ]
    },
    {
     "name": "stderr",
     "output_type": "stream",
     "text": [
      "\n",
      "0: 480x640 18 cars, 3 trucks, 119.3ms\n",
      "Speed: 5.2ms preprocess, 119.3ms inference, 1.6ms postprocess per image at shape (1, 3, 480, 640)\n",
      "\n"
     ]
    },
    {
     "name": "stdout",
     "output_type": "stream",
     "text": [
      "Error: results_list is empty or contains tuples without a second element.\n"
     ]
    },
    {
     "name": "stderr",
     "output_type": "stream",
     "text": [
      "0: 480x640 3 licenses, 155.3ms\n",
      "Speed: 6.5ms preprocess, 155.3ms inference, 1.0ms postprocess per image at shape (1, 3, 480, 640)\n",
      "\n",
      "0: 480x640 18 cars, 3 trucks, 82.0ms\n",
      "Speed: 2.4ms preprocess, 82.0ms inference, 1.1ms postprocess per image at shape (1, 3, 480, 640)\n",
      "\n",
      "0: 480x640 3 licenses, 79.6ms\n",
      "Speed: 2.6ms preprocess, 79.6ms inference, 0.5ms postprocess per image at shape (1, 3, 480, 640)\n",
      "\n",
      "0: 480x640 18 cars, 3 trucks, 81.3ms\n",
      "Speed: 2.5ms preprocess, 81.3ms inference, 0.8ms postprocess per image at shape (1, 3, 480, 640)\n",
      "\n",
      "0: 480x640 3 licenses, 78.2ms\n",
      "Speed: 3.0ms preprocess, 78.2ms inference, 0.6ms postprocess per image at shape (1, 3, 480, 640)\n",
      "\n",
      "0: 480x640 18 cars, 3 trucks, 78.7ms\n",
      "Speed: 2.6ms preprocess, 78.7ms inference, 0.8ms postprocess per image at shape (1, 3, 480, 640)\n",
      "\n",
      "0: 480x640 2 licenses, 81.3ms\n",
      "Speed: 3.1ms preprocess, 81.3ms inference, 0.9ms postprocess per image at shape (1, 3, 480, 640)\n",
      "\n",
      "0: 480x640 18 cars, 3 trucks, 76.0ms\n",
      "Speed: 2.3ms preprocess, 76.0ms inference, 0.7ms postprocess per image at shape (1, 3, 480, 640)\n",
      "\n",
      "0: 480x640 2 licenses, 79.6ms\n",
      "Speed: 3.1ms preprocess, 79.6ms inference, 0.5ms postprocess per image at shape (1, 3, 480, 640)\n",
      "\n",
      "0: 480x640 20 cars, 3 trucks, 81.8ms\n",
      "Speed: 2.5ms preprocess, 81.8ms inference, 0.8ms postprocess per image at shape (1, 3, 480, 640)\n",
      "\n",
      "0: 480x640 3 licenses, 83.2ms\n",
      "Speed: 2.9ms preprocess, 83.2ms inference, 0.6ms postprocess per image at shape (1, 3, 480, 640)\n"
     ]
    },
    {
     "name": "stdout",
     "output_type": "stream",
     "text": [
      "Error: results_list is empty or contains tuples without a second element.\n"
     ]
    },
    {
     "name": "stderr",
     "output_type": "stream",
     "text": [
      "\n",
      "0: 480x640 20 cars, 3 trucks, 80.0ms\n",
      "Speed: 2.5ms preprocess, 80.0ms inference, 0.8ms postprocess per image at shape (1, 3, 480, 640)\n",
      "\n"
     ]
    },
    {
     "name": "stdout",
     "output_type": "stream",
     "text": [
      "Error: results_list is empty or contains tuples without a second element.\n"
     ]
    },
    {
     "name": "stderr",
     "output_type": "stream",
     "text": [
      "0: 480x640 3 licenses, 144.0ms\n",
      "Speed: 4.4ms preprocess, 144.0ms inference, 1.9ms postprocess per image at shape (1, 3, 480, 640)\n"
     ]
    },
    {
     "name": "stdout",
     "output_type": "stream",
     "text": [
      "Error: results_list is empty or contains tuples without a second element.\n"
     ]
    },
    {
     "name": "stderr",
     "output_type": "stream",
     "text": [
      "\n",
      "0: 480x640 21 cars, 3 trucks, 83.6ms\n",
      "Speed: 2.5ms preprocess, 83.6ms inference, 0.9ms postprocess per image at shape (1, 3, 480, 640)\n",
      "\n",
      "0: 480x640 3 licenses, 82.9ms\n",
      "Speed: 2.7ms preprocess, 82.9ms inference, 1.0ms postprocess per image at shape (1, 3, 480, 640)\n"
     ]
    },
    {
     "name": "stdout",
     "output_type": "stream",
     "text": [
      "Error: results_list is empty or contains tuples without a second element.\n",
      "Error: results_list is empty or contains tuples without a second element.\n"
     ]
    },
    {
     "name": "stderr",
     "output_type": "stream",
     "text": [
      "\n",
      "0: 480x640 20 cars, 3 trucks, 83.7ms\n",
      "Speed: 2.4ms preprocess, 83.7ms inference, 0.8ms postprocess per image at shape (1, 3, 480, 640)\n",
      "\n",
      "0: 480x640 3 licenses, 87.5ms\n",
      "Speed: 5.7ms preprocess, 87.5ms inference, 0.7ms postprocess per image at shape (1, 3, 480, 640)\n"
     ]
    },
    {
     "name": "stdout",
     "output_type": "stream",
     "text": [
      "Error: results_list is empty or contains tuples without a second element.\n"
     ]
    },
    {
     "name": "stderr",
     "output_type": "stream",
     "text": [
      "\n",
      "0: 480x640 19 cars, 3 trucks, 78.0ms\n",
      "Speed: 2.7ms preprocess, 78.0ms inference, 0.7ms postprocess per image at shape (1, 3, 480, 640)\n",
      "\n",
      "0: 480x640 3 licenses, 78.9ms\n",
      "Speed: 2.3ms preprocess, 78.9ms inference, 0.6ms postprocess per image at shape (1, 3, 480, 640)\n",
      "\n",
      "0: 480x640 19 cars, 3 trucks, 84.0ms\n",
      "Speed: 2.4ms preprocess, 84.0ms inference, 0.9ms postprocess per image at shape (1, 3, 480, 640)\n",
      "\n",
      "0: 480x640 3 licenses, 84.5ms\n",
      "Speed: 2.8ms preprocess, 84.5ms inference, 0.6ms postprocess per image at shape (1, 3, 480, 640)\n"
     ]
    },
    {
     "name": "stdout",
     "output_type": "stream",
     "text": [
      "Error: results_list is empty or contains tuples without a second element.\n"
     ]
    },
    {
     "name": "stderr",
     "output_type": "stream",
     "text": [
      "\n",
      "0: 480x640 18 cars, 3 trucks, 85.6ms\n",
      "Speed: 2.4ms preprocess, 85.6ms inference, 0.8ms postprocess per image at shape (1, 3, 480, 640)\n",
      "\n",
      "0: 480x640 3 licenses, 88.9ms\n",
      "Speed: 3.1ms preprocess, 88.9ms inference, 0.7ms postprocess per image at shape (1, 3, 480, 640)\n"
     ]
    },
    {
     "name": "stdout",
     "output_type": "stream",
     "text": [
      "Error: results_list is empty or contains tuples without a second element.\n",
      "Error: results_list is empty or contains tuples without a second element.\n"
     ]
    },
    {
     "name": "stderr",
     "output_type": "stream",
     "text": [
      "\n",
      "0: 480x640 18 cars, 3 trucks, 81.4ms\n",
      "Speed: 2.5ms preprocess, 81.4ms inference, 0.8ms postprocess per image at shape (1, 3, 480, 640)\n",
      "\n",
      "0: 480x640 3 licenses, 74.9ms\n",
      "Speed: 3.0ms preprocess, 74.9ms inference, 0.5ms postprocess per image at shape (1, 3, 480, 640)\n"
     ]
    },
    {
     "name": "stdout",
     "output_type": "stream",
     "text": [
      "Error: results_list is empty or contains tuples without a second element.\n",
      "Error: results_list is empty or contains tuples without a second element.\n"
     ]
    },
    {
     "name": "stderr",
     "output_type": "stream",
     "text": [
      "\n",
      "0: 480x640 18 cars, 3 trucks, 85.5ms\n",
      "Speed: 2.7ms preprocess, 85.5ms inference, 0.9ms postprocess per image at shape (1, 3, 480, 640)\n",
      "\n",
      "0: 480x640 3 licenses, 90.0ms\n",
      "Speed: 2.8ms preprocess, 90.0ms inference, 0.6ms postprocess per image at shape (1, 3, 480, 640)\n"
     ]
    },
    {
     "name": "stdout",
     "output_type": "stream",
     "text": [
      "Error: results_list is empty or contains tuples without a second element.\n"
     ]
    },
    {
     "name": "stderr",
     "output_type": "stream",
     "text": [
      "\n",
      "0: 480x640 18 cars, 3 trucks, 88.4ms\n",
      "Speed: 3.8ms preprocess, 88.4ms inference, 0.8ms postprocess per image at shape (1, 3, 480, 640)\n",
      "\n",
      "0: 480x640 3 licenses, 83.5ms\n",
      "Speed: 2.7ms preprocess, 83.5ms inference, 0.7ms postprocess per image at shape (1, 3, 480, 640)\n",
      "\n",
      "0: 480x640 20 cars, 3 trucks, 78.2ms\n",
      "Speed: 2.5ms preprocess, 78.2ms inference, 0.7ms postprocess per image at shape (1, 3, 480, 640)\n",
      "\n",
      "0: 480x640 3 licenses, 76.8ms\n",
      "Speed: 3.1ms preprocess, 76.8ms inference, 0.5ms postprocess per image at shape (1, 3, 480, 640)\n"
     ]
    },
    {
     "name": "stdout",
     "output_type": "stream",
     "text": [
      "Error: results_list is empty or contains tuples without a second element.\n"
     ]
    },
    {
     "name": "stderr",
     "output_type": "stream",
     "text": [
      "\n",
      "0: 480x640 20 cars, 3 trucks, 78.6ms\n",
      "Speed: 2.5ms preprocess, 78.6ms inference, 0.7ms postprocess per image at shape (1, 3, 480, 640)\n",
      "\n",
      "0: 480x640 3 licenses, 78.1ms\n",
      "Speed: 2.3ms preprocess, 78.1ms inference, 0.6ms postprocess per image at shape (1, 3, 480, 640)\n"
     ]
    },
    {
     "name": "stdout",
     "output_type": "stream",
     "text": [
      "Error: results_list is empty or contains tuples without a second element.\n",
      "Error: results_list is empty or contains tuples without a second element.\n"
     ]
    },
    {
     "name": "stderr",
     "output_type": "stream",
     "text": [
      "\n",
      "0: 480x640 20 cars, 3 trucks, 79.2ms\n",
      "Speed: 2.5ms preprocess, 79.2ms inference, 0.7ms postprocess per image at shape (1, 3, 480, 640)\n",
      "\n",
      "0: 480x640 3 licenses, 82.6ms\n",
      "Speed: 3.0ms preprocess, 82.6ms inference, 0.6ms postprocess per image at shape (1, 3, 480, 640)\n"
     ]
    },
    {
     "name": "stdout",
     "output_type": "stream",
     "text": [
      "Error: results_list is empty or contains tuples without a second element.\n",
      "Error: results_list is empty or contains tuples without a second element.\n"
     ]
    },
    {
     "name": "stderr",
     "output_type": "stream",
     "text": [
      "\n",
      "0: 480x640 20 cars, 3 trucks, 80.9ms\n",
      "Speed: 2.4ms preprocess, 80.9ms inference, 0.7ms postprocess per image at shape (1, 3, 480, 640)\n",
      "\n",
      "0: 480x640 3 licenses, 79.5ms\n",
      "Speed: 3.0ms preprocess, 79.5ms inference, 0.9ms postprocess per image at shape (1, 3, 480, 640)\n"
     ]
    },
    {
     "name": "stdout",
     "output_type": "stream",
     "text": [
      "Error: results_list is empty or contains tuples without a second element.\n",
      "Error: results_list is empty or contains tuples without a second element.\n"
     ]
    },
    {
     "name": "stderr",
     "output_type": "stream",
     "text": [
      "\n",
      "0: 480x640 21 cars, 3 trucks, 91.8ms\n",
      "Speed: 2.8ms preprocess, 91.8ms inference, 1.0ms postprocess per image at shape (1, 3, 480, 640)\n",
      "\n"
     ]
    },
    {
     "name": "stdout",
     "output_type": "stream",
     "text": [
      "Error: results_list is empty or contains tuples without a second element.\n"
     ]
    },
    {
     "name": "stderr",
     "output_type": "stream",
     "text": [
      "0: 480x640 2 licenses, 105.6ms\n",
      "Speed: 3.4ms preprocess, 105.6ms inference, 1.2ms postprocess per image at shape (1, 3, 480, 640)\n",
      "\n",
      "0: 480x640 21 cars, 3 trucks, 93.6ms\n",
      "Speed: 2.7ms preprocess, 93.6ms inference, 0.9ms postprocess per image at shape (1, 3, 480, 640)\n",
      "\n",
      "0: 480x640 2 licenses, 92.8ms\n",
      "Speed: 3.7ms preprocess, 92.8ms inference, 0.9ms postprocess per image at shape (1, 3, 480, 640)\n",
      "\n",
      "0: 480x640 20 cars, 1 bus, 3 trucks, 80.3ms\n",
      "Speed: 2.4ms preprocess, 80.3ms inference, 1.5ms postprocess per image at shape (1, 3, 480, 640)\n",
      "\n",
      "0: 480x640 2 licenses, 79.2ms\n",
      "Speed: 2.5ms preprocess, 79.2ms inference, 0.5ms postprocess per image at shape (1, 3, 480, 640)\n",
      "\n",
      "0: 480x640 20 cars, 1 bus, 3 trucks, 79.4ms\n",
      "Speed: 2.5ms preprocess, 79.4ms inference, 0.7ms postprocess per image at shape (1, 3, 480, 640)\n",
      "\n",
      "0: 480x640 2 licenses, 81.6ms\n",
      "Speed: 3.1ms preprocess, 81.6ms inference, 0.6ms postprocess per image at shape (1, 3, 480, 640)\n",
      "\n",
      "0: 480x640 21 cars, 1 bus, 3 trucks, 75.6ms\n",
      "Speed: 2.5ms preprocess, 75.6ms inference, 0.7ms postprocess per image at shape (1, 3, 480, 640)\n",
      "\n",
      "0: 480x640 2 licenses, 82.7ms\n",
      "Speed: 2.3ms preprocess, 82.7ms inference, 0.6ms postprocess per image at shape (1, 3, 480, 640)\n"
     ]
    },
    {
     "name": "stdout",
     "output_type": "stream",
     "text": [
      "Error: results_list is empty or contains tuples without a second element.\n"
     ]
    },
    {
     "name": "stderr",
     "output_type": "stream",
     "text": [
      "\n",
      "0: 480x640 22 cars, 1 bus, 3 trucks, 80.9ms\n",
      "Speed: 2.7ms preprocess, 80.9ms inference, 0.8ms postprocess per image at shape (1, 3, 480, 640)\n",
      "\n",
      "0: 480x640 2 licenses, 73.8ms\n",
      "Speed: 2.9ms preprocess, 73.8ms inference, 1.1ms postprocess per image at shape (1, 3, 480, 640)\n"
     ]
    },
    {
     "name": "stdout",
     "output_type": "stream",
     "text": [
      "Error: results_list is empty or contains tuples without a second element.\n"
     ]
    },
    {
     "name": "stderr",
     "output_type": "stream",
     "text": [
      "\n",
      "0: 480x640 19 cars, 1 bus, 3 trucks, 80.3ms\n",
      "Speed: 2.3ms preprocess, 80.3ms inference, 0.8ms postprocess per image at shape (1, 3, 480, 640)\n",
      "\n",
      "0: 480x640 2 licenses, 84.4ms\n",
      "Speed: 2.9ms preprocess, 84.4ms inference, 0.6ms postprocess per image at shape (1, 3, 480, 640)\n"
     ]
    },
    {
     "name": "stdout",
     "output_type": "stream",
     "text": [
      "Error: results_list is empty or contains tuples without a second element.\n"
     ]
    },
    {
     "name": "stderr",
     "output_type": "stream",
     "text": [
      "\n",
      "0: 480x640 20 cars, 1 bus, 3 trucks, 124.4ms\n",
      "Speed: 2.4ms preprocess, 124.4ms inference, 0.8ms postprocess per image at shape (1, 3, 480, 640)\n",
      "\n",
      "0: 480x640 2 licenses, 104.3ms\n",
      "Speed: 2.7ms preprocess, 104.3ms inference, 0.9ms postprocess per image at shape (1, 3, 480, 640)\n",
      "\n",
      "0: 480x640 21 cars, 1 bus, 3 trucks, 87.9ms\n",
      "Speed: 2.5ms preprocess, 87.9ms inference, 0.8ms postprocess per image at shape (1, 3, 480, 640)\n",
      "\n",
      "0: 480x640 3 licenses, 87.0ms\n",
      "Speed: 2.6ms preprocess, 87.0ms inference, 1.1ms postprocess per image at shape (1, 3, 480, 640)\n",
      "\n",
      "0: 480x640 21 cars, 1 bus, 3 trucks, 78.8ms\n",
      "Speed: 2.5ms preprocess, 78.8ms inference, 1.4ms postprocess per image at shape (1, 3, 480, 640)\n",
      "\n",
      "0: 480x640 3 licenses, 77.2ms\n",
      "Speed: 2.9ms preprocess, 77.2ms inference, 0.6ms postprocess per image at shape (1, 3, 480, 640)\n"
     ]
    },
    {
     "name": "stdout",
     "output_type": "stream",
     "text": [
      "Error: results_list is empty or contains tuples without a second element.\n"
     ]
    },
    {
     "name": "stderr",
     "output_type": "stream",
     "text": [
      "\n",
      "0: 480x640 21 cars, 1 bus, 3 trucks, 88.3ms\n",
      "Speed: 3.0ms preprocess, 88.3ms inference, 0.9ms postprocess per image at shape (1, 3, 480, 640)\n",
      "\n",
      "0: 480x640 2 licenses, 80.6ms\n",
      "Speed: 3.5ms preprocess, 80.6ms inference, 0.7ms postprocess per image at shape (1, 3, 480, 640)\n"
     ]
    },
    {
     "name": "stdout",
     "output_type": "stream",
     "text": [
      "Error: results_list is empty or contains tuples without a second element.\n"
     ]
    },
    {
     "name": "stderr",
     "output_type": "stream",
     "text": [
      "\n",
      "0: 480x640 19 cars, 1 bus, 3 trucks, 80.2ms\n",
      "Speed: 2.5ms preprocess, 80.2ms inference, 0.7ms postprocess per image at shape (1, 3, 480, 640)\n",
      "\n",
      "0: 480x640 2 licenses, 81.5ms\n",
      "Speed: 2.9ms preprocess, 81.5ms inference, 0.6ms postprocess per image at shape (1, 3, 480, 640)\n"
     ]
    },
    {
     "name": "stdout",
     "output_type": "stream",
     "text": [
      "Error: results_list is empty or contains tuples without a second element.\n"
     ]
    },
    {
     "name": "stderr",
     "output_type": "stream",
     "text": [
      "\n",
      "0: 480x640 19 cars, 3 trucks, 80.3ms\n",
      "Speed: 2.4ms preprocess, 80.3ms inference, 1.1ms postprocess per image at shape (1, 3, 480, 640)\n",
      "\n",
      "0: 480x640 3 licenses, 81.0ms\n",
      "Speed: 2.5ms preprocess, 81.0ms inference, 0.6ms postprocess per image at shape (1, 3, 480, 640)\n",
      "\n",
      "0: 480x640 19 cars, 3 trucks, 83.0ms\n",
      "Speed: 2.6ms preprocess, 83.0ms inference, 0.7ms postprocess per image at shape (1, 3, 480, 640)\n",
      "\n",
      "0: 480x640 3 licenses, 83.4ms\n",
      "Speed: 3.1ms preprocess, 83.4ms inference, 0.6ms postprocess per image at shape (1, 3, 480, 640)\n"
     ]
    },
    {
     "name": "stdout",
     "output_type": "stream",
     "text": [
      "Error: results_list is empty or contains tuples without a second element.\n"
     ]
    },
    {
     "name": "stderr",
     "output_type": "stream",
     "text": [
      "\n",
      "0: 480x640 18 cars, 1 bus, 3 trucks, 83.8ms\n",
      "Speed: 2.4ms preprocess, 83.8ms inference, 0.7ms postprocess per image at shape (1, 3, 480, 640)\n",
      "\n",
      "0: 480x640 3 licenses, 76.0ms\n",
      "Speed: 3.0ms preprocess, 76.0ms inference, 1.0ms postprocess per image at shape (1, 3, 480, 640)\n"
     ]
    },
    {
     "name": "stdout",
     "output_type": "stream",
     "text": [
      "Error: results_list is empty or contains tuples without a second element.\n"
     ]
    },
    {
     "name": "stderr",
     "output_type": "stream",
     "text": [
      "\n",
      "0: 480x640 20 cars, 1 bus, 3 trucks, 76.3ms\n",
      "Speed: 2.5ms preprocess, 76.3ms inference, 0.7ms postprocess per image at shape (1, 3, 480, 640)\n",
      "\n",
      "0: 480x640 3 licenses, 82.5ms\n",
      "Speed: 3.0ms preprocess, 82.5ms inference, 0.6ms postprocess per image at shape (1, 3, 480, 640)\n",
      "\n",
      "0: 480x640 18 cars, 1 bus, 3 trucks, 85.3ms\n",
      "Speed: 3.5ms preprocess, 85.3ms inference, 0.8ms postprocess per image at shape (1, 3, 480, 640)\n",
      "\n",
      "0: 480x640 3 licenses, 83.6ms\n",
      "Speed: 2.7ms preprocess, 83.6ms inference, 0.6ms postprocess per image at shape (1, 3, 480, 640)\n",
      "\n",
      "0: 480x640 18 cars, 1 bus, 3 trucks, 78.4ms\n",
      "Speed: 3.4ms preprocess, 78.4ms inference, 1.2ms postprocess per image at shape (1, 3, 480, 640)\n",
      "\n",
      "0: 480x640 3 licenses, 81.2ms\n",
      "Speed: 3.0ms preprocess, 81.2ms inference, 0.6ms postprocess per image at shape (1, 3, 480, 640)\n",
      "\n",
      "0: 480x640 17 cars, 1 bus, 3 trucks, 75.7ms\n",
      "Speed: 2.4ms preprocess, 75.7ms inference, 1.4ms postprocess per image at shape (1, 3, 480, 640)\n",
      "\n",
      "0: 480x640 3 licenses, 75.5ms\n",
      "Speed: 3.2ms preprocess, 75.5ms inference, 0.5ms postprocess per image at shape (1, 3, 480, 640)\n",
      "\n",
      "0: 480x640 19 cars, 1 bus, 3 trucks, 76.5ms\n",
      "Speed: 2.5ms preprocess, 76.5ms inference, 0.8ms postprocess per image at shape (1, 3, 480, 640)\n",
      "\n",
      "0: 480x640 3 licenses, 77.2ms\n",
      "Speed: 2.4ms preprocess, 77.2ms inference, 0.5ms postprocess per image at shape (1, 3, 480, 640)\n",
      "\n",
      "0: 480x640 20 cars, 1 bus, 3 trucks, 79.8ms\n",
      "Speed: 2.5ms preprocess, 79.8ms inference, 0.7ms postprocess per image at shape (1, 3, 480, 640)\n",
      "\n",
      "0: 480x640 2 licenses, 77.4ms\n",
      "Speed: 2.9ms preprocess, 77.4ms inference, 0.5ms postprocess per image at shape (1, 3, 480, 640)\n",
      "\n",
      "0: 480x640 20 cars, 1 bus, 3 trucks, 79.2ms\n",
      "Speed: 2.6ms preprocess, 79.2ms inference, 0.7ms postprocess per image at shape (1, 3, 480, 640)\n",
      "\n",
      "0: 480x640 2 licenses, 79.1ms\n",
      "Speed: 3.1ms preprocess, 79.1ms inference, 1.0ms postprocess per image at shape (1, 3, 480, 640)\n"
     ]
    },
    {
     "name": "stdout",
     "output_type": "stream",
     "text": [
      "Error: results_list is empty or contains tuples without a second element.\n"
     ]
    },
    {
     "name": "stderr",
     "output_type": "stream",
     "text": [
      "\n",
      "0: 480x640 19 cars, 1 bus, 3 trucks, 81.7ms\n",
      "Speed: 2.4ms preprocess, 81.7ms inference, 0.8ms postprocess per image at shape (1, 3, 480, 640)\n",
      "\n",
      "0: 480x640 3 licenses, 73.8ms\n",
      "Speed: 2.9ms preprocess, 73.8ms inference, 0.6ms postprocess per image at shape (1, 3, 480, 640)\n"
     ]
    },
    {
     "name": "stdout",
     "output_type": "stream",
     "text": [
      "Error: results_list is empty or contains tuples without a second element.\n"
     ]
    },
    {
     "name": "stderr",
     "output_type": "stream",
     "text": [
      "\n",
      "0: 480x640 19 cars, 1 bus, 3 trucks, 79.8ms\n",
      "Speed: 2.4ms preprocess, 79.8ms inference, 0.8ms postprocess per image at shape (1, 3, 480, 640)\n",
      "\n",
      "0: 480x640 3 licenses, 82.2ms\n",
      "Speed: 3.0ms preprocess, 82.2ms inference, 0.6ms postprocess per image at shape (1, 3, 480, 640)\n",
      "\n",
      "0: 480x640 17 cars, 1 bus, 3 trucks, 81.7ms\n",
      "Speed: 2.4ms preprocess, 81.7ms inference, 0.7ms postprocess per image at shape (1, 3, 480, 640)\n",
      "\n",
      "0: 480x640 3 licenses, 83.9ms\n",
      "Speed: 3.0ms preprocess, 83.9ms inference, 0.6ms postprocess per image at shape (1, 3, 480, 640)\n"
     ]
    },
    {
     "name": "stdout",
     "output_type": "stream",
     "text": [
      "Error: results_list is empty or contains tuples without a second element.\n"
     ]
    },
    {
     "name": "stderr",
     "output_type": "stream",
     "text": [
      "\n",
      "0: 480x640 18 cars, 1 bus, 3 trucks, 79.5ms\n",
      "Speed: 2.4ms preprocess, 79.5ms inference, 1.0ms postprocess per image at shape (1, 3, 480, 640)\n",
      "\n",
      "0: 480x640 3 licenses, 80.6ms\n",
      "Speed: 3.1ms preprocess, 80.6ms inference, 0.6ms postprocess per image at shape (1, 3, 480, 640)\n",
      "\n",
      "0: 480x640 17 cars, 1 bus, 3 trucks, 86.7ms\n",
      "Speed: 2.9ms preprocess, 86.7ms inference, 1.5ms postprocess per image at shape (1, 3, 480, 640)\n",
      "\n",
      "0: 480x640 2 licenses, 98.4ms\n",
      "Speed: 3.1ms preprocess, 98.4ms inference, 1.0ms postprocess per image at shape (1, 3, 480, 640)\n",
      "\n",
      "0: 480x640 17 cars, 1 bus, 3 trucks, 82.5ms\n",
      "Speed: 3.0ms preprocess, 82.5ms inference, 0.7ms postprocess per image at shape (1, 3, 480, 640)\n",
      "\n",
      "0: 480x640 2 licenses, 80.8ms\n",
      "Speed: 2.9ms preprocess, 80.8ms inference, 0.6ms postprocess per image at shape (1, 3, 480, 640)\n"
     ]
    },
    {
     "name": "stdout",
     "output_type": "stream",
     "text": [
      "Error: results_list is empty or contains tuples without a second element.\n"
     ]
    },
    {
     "name": "stderr",
     "output_type": "stream",
     "text": [
      "\n",
      "0: 480x640 16 cars, 1 bus, 3 trucks, 311.1ms\n",
      "Speed: 11.7ms preprocess, 311.1ms inference, 1.7ms postprocess per image at shape (1, 3, 480, 640)\n",
      "\n",
      "0: 480x640 3 licenses, 114.5ms\n",
      "Speed: 5.6ms preprocess, 114.5ms inference, 0.6ms postprocess per image at shape (1, 3, 480, 640)\n",
      "\n",
      "0: 480x640 16 cars, 1 bus, 2 trucks, 83.7ms\n",
      "Speed: 2.6ms preprocess, 83.7ms inference, 0.8ms postprocess per image at shape (1, 3, 480, 640)\n",
      "\n",
      "0: 480x640 3 licenses, 80.3ms\n",
      "Speed: 3.1ms preprocess, 80.3ms inference, 1.3ms postprocess per image at shape (1, 3, 480, 640)\n"
     ]
    },
    {
     "name": "stdout",
     "output_type": "stream",
     "text": [
      "Error: results_list is empty or contains tuples without a second element.\n"
     ]
    },
    {
     "name": "stderr",
     "output_type": "stream",
     "text": [
      "\n",
      "0: 480x640 15 cars, 1 bus, 3 trucks, 112.4ms\n",
      "Speed: 2.6ms preprocess, 112.4ms inference, 0.9ms postprocess per image at shape (1, 3, 480, 640)\n",
      "\n"
     ]
    },
    {
     "name": "stdout",
     "output_type": "stream",
     "text": [
      "Error: results_list is empty or contains tuples without a second element.\n"
     ]
    },
    {
     "name": "stderr",
     "output_type": "stream",
     "text": [
      "0: 480x640 2 licenses, 119.7ms\n",
      "Speed: 5.2ms preprocess, 119.7ms inference, 1.2ms postprocess per image at shape (1, 3, 480, 640)\n",
      "\n",
      "0: 480x640 15 cars, 1 bus, 3 trucks, 77.8ms\n",
      "Speed: 2.5ms preprocess, 77.8ms inference, 0.8ms postprocess per image at shape (1, 3, 480, 640)\n",
      "\n",
      "0: 480x640 2 licenses, 82.9ms\n",
      "Speed: 3.3ms preprocess, 82.9ms inference, 0.6ms postprocess per image at shape (1, 3, 480, 640)\n",
      "\n",
      "0: 480x640 17 cars, 1 bus, 3 trucks, 81.9ms\n",
      "Speed: 2.4ms preprocess, 81.9ms inference, 0.8ms postprocess per image at shape (1, 3, 480, 640)\n",
      "\n",
      "0: 480x640 3 licenses, 83.5ms\n",
      "Speed: 2.7ms preprocess, 83.5ms inference, 0.6ms postprocess per image at shape (1, 3, 480, 640)\n",
      "\n",
      "0: 480x640 17 cars, 1 bus, 3 trucks, 79.1ms\n",
      "Speed: 2.6ms preprocess, 79.1ms inference, 0.8ms postprocess per image at shape (1, 3, 480, 640)\n",
      "\n",
      "0: 480x640 3 licenses, 79.5ms\n",
      "Speed: 2.4ms preprocess, 79.5ms inference, 0.6ms postprocess per image at shape (1, 3, 480, 640)\n",
      "\n",
      "0: 480x640 17 cars, 1 bus, 3 trucks, 81.1ms\n",
      "Speed: 2.5ms preprocess, 81.1ms inference, 0.7ms postprocess per image at shape (1, 3, 480, 640)\n",
      "\n",
      "0: 480x640 3 licenses, 82.7ms\n",
      "Speed: 3.2ms preprocess, 82.7ms inference, 0.6ms postprocess per image at shape (1, 3, 480, 640)\n"
     ]
    },
    {
     "name": "stdout",
     "output_type": "stream",
     "text": [
      "Error: results_list is empty or contains tuples without a second element.\n"
     ]
    },
    {
     "name": "stderr",
     "output_type": "stream",
     "text": [
      "\n",
      "0: 480x640 17 cars, 1 bus, 3 trucks, 83.1ms\n",
      "Speed: 2.4ms preprocess, 83.1ms inference, 0.9ms postprocess per image at shape (1, 3, 480, 640)\n",
      "\n",
      "0: 480x640 3 licenses, 87.8ms\n",
      "Speed: 3.3ms preprocess, 87.8ms inference, 0.8ms postprocess per image at shape (1, 3, 480, 640)\n"
     ]
    },
    {
     "name": "stdout",
     "output_type": "stream",
     "text": [
      "Error: results_list is empty or contains tuples without a second element.\n",
      "Error: results_list is empty or contains tuples without a second element.\n"
     ]
    },
    {
     "name": "stderr",
     "output_type": "stream",
     "text": [
      "\n",
      "0: 480x640 16 cars, 3 trucks, 81.9ms\n",
      "Speed: 2.6ms preprocess, 81.9ms inference, 0.7ms postprocess per image at shape (1, 3, 480, 640)\n",
      "\n",
      "0: 480x640 3 licenses, 78.0ms\n",
      "Speed: 2.5ms preprocess, 78.0ms inference, 0.8ms postprocess per image at shape (1, 3, 480, 640)\n",
      "\n",
      "0: 480x640 16 cars, 3 trucks, 82.3ms\n",
      "Speed: 2.5ms preprocess, 82.3ms inference, 0.7ms postprocess per image at shape (1, 3, 480, 640)\n",
      "\n",
      "0: 480x640 3 licenses, 75.1ms\n",
      "Speed: 3.0ms preprocess, 75.1ms inference, 0.6ms postprocess per image at shape (1, 3, 480, 640)\n",
      "\n",
      "0: 480x640 18 cars, 3 trucks, 80.0ms\n",
      "Speed: 2.4ms preprocess, 80.0ms inference, 0.7ms postprocess per image at shape (1, 3, 480, 640)\n",
      "\n",
      "0: 480x640 2 licenses, 77.8ms\n",
      "Speed: 2.3ms preprocess, 77.8ms inference, 0.9ms postprocess per image at shape (1, 3, 480, 640)\n",
      "\n",
      "0: 480x640 18 cars, 3 trucks, 80.2ms\n",
      "Speed: 2.5ms preprocess, 80.2ms inference, 1.0ms postprocess per image at shape (1, 3, 480, 640)\n",
      "\n",
      "0: 480x640 2 licenses, 81.5ms\n",
      "Speed: 3.1ms preprocess, 81.5ms inference, 0.6ms postprocess per image at shape (1, 3, 480, 640)\n",
      "\n",
      "0: 480x640 19 cars, 3 trucks, 82.7ms\n",
      "Speed: 2.4ms preprocess, 82.7ms inference, 0.8ms postprocess per image at shape (1, 3, 480, 640)\n",
      "\n",
      "0: 480x640 3 licenses, 79.9ms\n",
      "Speed: 3.0ms preprocess, 79.9ms inference, 0.6ms postprocess per image at shape (1, 3, 480, 640)\n",
      "\n",
      "0: 480x640 19 cars, 3 trucks, 83.0ms\n",
      "Speed: 2.5ms preprocess, 83.0ms inference, 0.9ms postprocess per image at shape (1, 3, 480, 640)\n",
      "\n",
      "0: 480x640 3 licenses, 89.0ms\n",
      "Speed: 3.0ms preprocess, 89.0ms inference, 0.6ms postprocess per image at shape (1, 3, 480, 640)\n",
      "\n",
      "0: 480x640 19 cars, 1 bus, 3 trucks, 77.5ms\n",
      "Speed: 2.4ms preprocess, 77.5ms inference, 0.8ms postprocess per image at shape (1, 3, 480, 640)\n",
      "\n",
      "0: 480x640 3 licenses, 79.7ms\n",
      "Speed: 2.9ms preprocess, 79.7ms inference, 0.6ms postprocess per image at shape (1, 3, 480, 640)\n",
      "\n",
      "0: 480x640 19 cars, 1 bus, 3 trucks, 80.2ms\n",
      "Speed: 2.4ms preprocess, 80.2ms inference, 0.8ms postprocess per image at shape (1, 3, 480, 640)\n",
      "\n",
      "0: 480x640 3 licenses, 74.6ms\n",
      "Speed: 2.4ms preprocess, 74.6ms inference, 0.6ms postprocess per image at shape (1, 3, 480, 640)\n",
      "\n",
      "0: 480x640 19 cars, 1 bus, 3 trucks, 78.2ms\n",
      "Speed: 2.7ms preprocess, 78.2ms inference, 0.7ms postprocess per image at shape (1, 3, 480, 640)\n",
      "\n",
      "0: 480x640 3 licenses, 79.8ms\n",
      "Speed: 3.1ms preprocess, 79.8ms inference, 0.6ms postprocess per image at shape (1, 3, 480, 640)\n"
     ]
    },
    {
     "name": "stdout",
     "output_type": "stream",
     "text": [
      "Error: results_list is empty or contains tuples without a second element.\n"
     ]
    },
    {
     "name": "stderr",
     "output_type": "stream",
     "text": [
      "\n",
      "0: 480x640 18 cars, 1 bus, 3 trucks, 81.0ms\n",
      "Speed: 2.4ms preprocess, 81.0ms inference, 0.8ms postprocess per image at shape (1, 3, 480, 640)\n",
      "\n",
      "0: 480x640 3 licenses, 78.9ms\n",
      "Speed: 3.1ms preprocess, 78.9ms inference, 0.7ms postprocess per image at shape (1, 3, 480, 640)\n"
     ]
    },
    {
     "name": "stdout",
     "output_type": "stream",
     "text": [
      "Error: results_list is empty or contains tuples without a second element.\n",
      "Error: results_list is empty or contains tuples without a second element.\n"
     ]
    },
    {
     "name": "stderr",
     "output_type": "stream",
     "text": [
      "\n",
      "0: 480x640 18 cars, 1 bus, 3 trucks, 81.6ms\n",
      "Speed: 2.4ms preprocess, 81.6ms inference, 0.7ms postprocess per image at shape (1, 3, 480, 640)\n",
      "\n",
      "0: 480x640 3 licenses, 76.3ms\n",
      "Speed: 3.1ms preprocess, 76.3ms inference, 0.5ms postprocess per image at shape (1, 3, 480, 640)\n"
     ]
    },
    {
     "name": "stdout",
     "output_type": "stream",
     "text": [
      "Error: results_list is empty or contains tuples without a second element.\n",
      "Error: results_list is empty or contains tuples without a second element.\n"
     ]
    },
    {
     "name": "stderr",
     "output_type": "stream",
     "text": [
      "\n",
      "0: 480x640 18 cars, 1 bus, 3 trucks, 98.2ms\n",
      "Speed: 2.9ms preprocess, 98.2ms inference, 0.9ms postprocess per image at shape (1, 3, 480, 640)\n",
      "\n",
      "0: 480x640 3 licenses, 104.9ms\n",
      "Speed: 3.0ms preprocess, 104.9ms inference, 0.8ms postprocess per image at shape (1, 3, 480, 640)\n"
     ]
    },
    {
     "name": "stdout",
     "output_type": "stream",
     "text": [
      "Error: results_list is empty or contains tuples without a second element.\n"
     ]
    },
    {
     "name": "stderr",
     "output_type": "stream",
     "text": [
      "\n",
      "0: 480x640 17 cars, 3 trucks, 116.9ms\n",
      "Speed: 3.1ms preprocess, 116.9ms inference, 1.1ms postprocess per image at shape (1, 3, 480, 640)\n",
      "\n",
      "0: 480x640 3 licenses, 103.2ms\n",
      "Speed: 4.0ms preprocess, 103.2ms inference, 1.2ms postprocess per image at shape (1, 3, 480, 640)\n"
     ]
    },
    {
     "name": "stdout",
     "output_type": "stream",
     "text": [
      "Error: results_list is empty or contains tuples without a second element.\n"
     ]
    },
    {
     "name": "stderr",
     "output_type": "stream",
     "text": [
      "\n",
      "0: 480x640 17 cars, 3 trucks, 86.6ms\n",
      "Speed: 2.6ms preprocess, 86.6ms inference, 0.8ms postprocess per image at shape (1, 3, 480, 640)\n",
      "\n",
      "0: 480x640 3 licenses, 87.6ms\n",
      "Speed: 2.7ms preprocess, 87.6ms inference, 0.6ms postprocess per image at shape (1, 3, 480, 640)\n"
     ]
    },
    {
     "name": "stdout",
     "output_type": "stream",
     "text": [
      "Error: results_list is empty or contains tuples without a second element.\n"
     ]
    },
    {
     "name": "stderr",
     "output_type": "stream",
     "text": [
      "\n",
      "0: 480x640 15 cars, 3 trucks, 125.3ms\n",
      "Speed: 2.8ms preprocess, 125.3ms inference, 0.8ms postprocess per image at shape (1, 3, 480, 640)\n",
      "\n",
      "0: 480x640 2 licenses, 109.0ms\n",
      "Speed: 3.2ms preprocess, 109.0ms inference, 1.0ms postprocess per image at shape (1, 3, 480, 640)\n",
      "\n",
      "0: 480x640 17 cars, 3 trucks, 82.9ms\n",
      "Speed: 2.5ms preprocess, 82.9ms inference, 1.3ms postprocess per image at shape (1, 3, 480, 640)\n",
      "\n",
      "0: 480x640 2 licenses, 84.7ms\n",
      "Speed: 3.5ms preprocess, 84.7ms inference, 0.5ms postprocess per image at shape (1, 3, 480, 640)\n",
      "\n",
      "0: 480x640 17 cars, 3 trucks, 83.7ms\n",
      "Speed: 2.3ms preprocess, 83.7ms inference, 0.8ms postprocess per image at shape (1, 3, 480, 640)\n",
      "\n",
      "0: 480x640 3 licenses, 85.7ms\n",
      "Speed: 3.4ms preprocess, 85.7ms inference, 0.7ms postprocess per image at shape (1, 3, 480, 640)\n",
      "\n",
      "0: 480x640 17 cars, 3 trucks, 81.7ms\n",
      "Speed: 2.5ms preprocess, 81.7ms inference, 0.7ms postprocess per image at shape (1, 3, 480, 640)\n",
      "\n",
      "0: 480x640 3 licenses, 82.5ms\n",
      "Speed: 3.2ms preprocess, 82.5ms inference, 0.6ms postprocess per image at shape (1, 3, 480, 640)\n",
      "\n",
      "0: 480x640 16 cars, 3 trucks, 89.6ms\n",
      "Speed: 2.9ms preprocess, 89.6ms inference, 0.9ms postprocess per image at shape (1, 3, 480, 640)\n",
      "\n",
      "0: 480x640 2 licenses, 85.3ms\n",
      "Speed: 3.3ms preprocess, 85.3ms inference, 0.6ms postprocess per image at shape (1, 3, 480, 640)\n",
      "\n",
      "0: 480x640 15 cars, 3 trucks, 83.9ms\n",
      "Speed: 2.8ms preprocess, 83.9ms inference, 0.9ms postprocess per image at shape (1, 3, 480, 640)\n",
      "\n",
      "0: 480x640 2 licenses, 83.8ms\n",
      "Speed: 3.4ms preprocess, 83.8ms inference, 0.6ms postprocess per image at shape (1, 3, 480, 640)\n",
      "\n",
      "0: 480x640 16 cars, 3 trucks, 80.9ms\n",
      "Speed: 2.5ms preprocess, 80.9ms inference, 0.8ms postprocess per image at shape (1, 3, 480, 640)\n",
      "\n",
      "0: 480x640 3 licenses, 81.4ms\n",
      "Speed: 3.4ms preprocess, 81.4ms inference, 1.2ms postprocess per image at shape (1, 3, 480, 640)\n",
      "\n",
      "0: 480x640 16 cars, 3 trucks, 78.9ms\n",
      "Speed: 2.3ms preprocess, 78.9ms inference, 0.8ms postprocess per image at shape (1, 3, 480, 640)\n",
      "\n",
      "0: 480x640 3 licenses, 83.7ms\n",
      "Speed: 3.1ms preprocess, 83.7ms inference, 0.6ms postprocess per image at shape (1, 3, 480, 640)\n",
      "\n",
      "0: 480x640 16 cars, 3 trucks, 76.3ms\n",
      "Speed: 2.5ms preprocess, 76.3ms inference, 0.7ms postprocess per image at shape (1, 3, 480, 640)\n",
      "\n",
      "0: 480x640 3 licenses, 78.0ms\n",
      "Speed: 2.9ms preprocess, 78.0ms inference, 1.1ms postprocess per image at shape (1, 3, 480, 640)\n",
      "\n",
      "0: 480x640 16 cars, 3 trucks, 79.4ms\n",
      "Speed: 2.5ms preprocess, 79.4ms inference, 0.8ms postprocess per image at shape (1, 3, 480, 640)\n",
      "\n",
      "0: 480x640 3 licenses, 83.1ms\n",
      "Speed: 2.7ms preprocess, 83.1ms inference, 0.6ms postprocess per image at shape (1, 3, 480, 640)\n",
      "\n",
      "0: 480x640 15 cars, 3 trucks, 83.9ms\n",
      "Speed: 3.6ms preprocess, 83.9ms inference, 0.7ms postprocess per image at shape (1, 3, 480, 640)\n",
      "\n",
      "0: 480x640 2 licenses, 82.6ms\n",
      "Speed: 3.0ms preprocess, 82.6ms inference, 0.6ms postprocess per image at shape (1, 3, 480, 640)\n",
      "\n",
      "0: 480x640 17 cars, 3 trucks, 87.1ms\n",
      "Speed: 2.7ms preprocess, 87.1ms inference, 0.8ms postprocess per image at shape (1, 3, 480, 640)\n",
      "\n",
      "0: 480x640 2 licenses, 81.6ms\n",
      "Speed: 2.8ms preprocess, 81.6ms inference, 0.6ms postprocess per image at shape (1, 3, 480, 640)\n",
      "\n",
      "0: 480x640 16 cars, 4 trucks, 81.0ms\n",
      "Speed: 2.5ms preprocess, 81.0ms inference, 1.2ms postprocess per image at shape (1, 3, 480, 640)\n",
      "\n",
      "0: 480x640 2 licenses, 81.5ms\n",
      "Speed: 3.2ms preprocess, 81.5ms inference, 0.6ms postprocess per image at shape (1, 3, 480, 640)\n",
      "\n",
      "0: 480x640 16 cars, 4 trucks, 78.9ms\n",
      "Speed: 2.4ms preprocess, 78.9ms inference, 1.4ms postprocess per image at shape (1, 3, 480, 640)\n",
      "\n",
      "0: 480x640 2 licenses, 82.7ms\n",
      "Speed: 2.8ms preprocess, 82.7ms inference, 0.6ms postprocess per image at shape (1, 3, 480, 640)\n",
      "\n",
      "0: 480x640 18 cars, 4 trucks, 86.6ms\n",
      "Speed: 2.5ms preprocess, 86.6ms inference, 1.4ms postprocess per image at shape (1, 3, 480, 640)\n",
      "\n",
      "0: 480x640 2 licenses, 80.6ms\n",
      "Speed: 2.7ms preprocess, 80.6ms inference, 0.6ms postprocess per image at shape (1, 3, 480, 640)\n",
      "\n",
      "0: 480x640 18 cars, 1 bus, 4 trucks, 79.1ms\n",
      "Speed: 3.2ms preprocess, 79.1ms inference, 0.8ms postprocess per image at shape (1, 3, 480, 640)\n",
      "\n",
      "0: 480x640 2 licenses, 81.1ms\n",
      "Speed: 2.4ms preprocess, 81.1ms inference, 0.6ms postprocess per image at shape (1, 3, 480, 640)\n",
      "\n",
      "0: 480x640 18 cars, 4 trucks, 77.3ms\n",
      "Speed: 2.5ms preprocess, 77.3ms inference, 0.7ms postprocess per image at shape (1, 3, 480, 640)\n",
      "\n",
      "0: 480x640 2 licenses, 83.6ms\n",
      "Speed: 3.2ms preprocess, 83.6ms inference, 0.5ms postprocess per image at shape (1, 3, 480, 640)\n",
      "\n",
      "0: 480x640 18 cars, 4 trucks, 76.5ms\n",
      "Speed: 2.6ms preprocess, 76.5ms inference, 0.9ms postprocess per image at shape (1, 3, 480, 640)\n",
      "\n",
      "0: 480x640 2 licenses, 80.0ms\n",
      "Speed: 2.9ms preprocess, 80.0ms inference, 1.2ms postprocess per image at shape (1, 3, 480, 640)\n",
      "\n",
      "0: 480x640 18 cars, 4 trucks, 80.5ms\n",
      "Speed: 2.5ms preprocess, 80.5ms inference, 0.7ms postprocess per image at shape (1, 3, 480, 640)\n",
      "\n",
      "0: 480x640 2 licenses, 83.4ms\n",
      "Speed: 3.2ms preprocess, 83.4ms inference, 0.6ms postprocess per image at shape (1, 3, 480, 640)\n",
      "\n",
      "0: 480x640 17 cars, 4 trucks, 78.1ms\n",
      "Speed: 2.4ms preprocess, 78.1ms inference, 0.8ms postprocess per image at shape (1, 3, 480, 640)\n",
      "\n",
      "0: 480x640 2 licenses, 75.9ms\n",
      "Speed: 2.4ms preprocess, 75.9ms inference, 0.6ms postprocess per image at shape (1, 3, 480, 640)\n",
      "\n",
      "0: 480x640 18 cars, 4 trucks, 84.6ms\n",
      "Speed: 2.6ms preprocess, 84.6ms inference, 1.4ms postprocess per image at shape (1, 3, 480, 640)\n",
      "\n",
      "0: 480x640 2 licenses, 79.5ms\n",
      "Speed: 3.1ms preprocess, 79.5ms inference, 0.6ms postprocess per image at shape (1, 3, 480, 640)\n",
      "\n",
      "0: 480x640 17 cars, 4 trucks, 79.0ms\n",
      "Speed: 2.4ms preprocess, 79.0ms inference, 0.7ms postprocess per image at shape (1, 3, 480, 640)\n",
      "\n",
      "0: 480x640 2 licenses, 82.1ms\n",
      "Speed: 2.2ms preprocess, 82.1ms inference, 0.6ms postprocess per image at shape (1, 3, 480, 640)\n",
      "\n",
      "0: 480x640 17 cars, 3 trucks, 79.0ms\n",
      "Speed: 2.4ms preprocess, 79.0ms inference, 0.7ms postprocess per image at shape (1, 3, 480, 640)\n",
      "\n",
      "0: 480x640 2 licenses, 80.3ms\n",
      "Speed: 3.0ms preprocess, 80.3ms inference, 0.6ms postprocess per image at shape (1, 3, 480, 640)\n",
      "\n",
      "0: 480x640 18 cars, 3 trucks, 87.3ms\n",
      "Speed: 2.8ms preprocess, 87.3ms inference, 0.8ms postprocess per image at shape (1, 3, 480, 640)\n",
      "\n",
      "0: 480x640 2 licenses, 92.9ms\n",
      "Speed: 2.8ms preprocess, 92.9ms inference, 0.7ms postprocess per image at shape (1, 3, 480, 640)\n",
      "\n",
      "0: 480x640 20 cars, 1 bus, 3 trucks, 82.0ms\n",
      "Speed: 2.4ms preprocess, 82.0ms inference, 0.7ms postprocess per image at shape (1, 3, 480, 640)\n",
      "\n",
      "0: 480x640 2 licenses, 79.3ms\n",
      "Speed: 3.2ms preprocess, 79.3ms inference, 0.5ms postprocess per image at shape (1, 3, 480, 640)\n",
      "\n",
      "0: 480x640 20 cars, 1 bus, 3 trucks, 77.7ms\n",
      "Speed: 2.5ms preprocess, 77.7ms inference, 0.7ms postprocess per image at shape (1, 3, 480, 640)\n",
      "\n",
      "0: 480x640 2 licenses, 82.9ms\n",
      "Speed: 2.9ms preprocess, 82.9ms inference, 0.6ms postprocess per image at shape (1, 3, 480, 640)\n",
      "\n",
      "0: 480x640 18 cars, 1 bus, 3 trucks, 82.0ms\n",
      "Speed: 2.6ms preprocess, 82.0ms inference, 0.7ms postprocess per image at shape (1, 3, 480, 640)\n",
      "\n",
      "0: 480x640 2 licenses, 84.4ms\n",
      "Speed: 2.9ms preprocess, 84.4ms inference, 0.6ms postprocess per image at shape (1, 3, 480, 640)\n",
      "\n",
      "0: 480x640 18 cars, 1 bus, 3 trucks, 79.6ms\n",
      "Speed: 2.3ms preprocess, 79.6ms inference, 0.8ms postprocess per image at shape (1, 3, 480, 640)\n",
      "\n",
      "0: 480x640 2 licenses, 93.2ms\n",
      "Speed: 3.5ms preprocess, 93.2ms inference, 0.7ms postprocess per image at shape (1, 3, 480, 640)\n",
      "\n",
      "0: 480x640 22 cars, 1 bus, 3 trucks, 110.5ms\n",
      "Speed: 3.0ms preprocess, 110.5ms inference, 1.0ms postprocess per image at shape (1, 3, 480, 640)\n",
      "\n",
      "0: 480x640 2 licenses, 105.3ms\n",
      "Speed: 3.3ms preprocess, 105.3ms inference, 0.8ms postprocess per image at shape (1, 3, 480, 640)\n",
      "\n",
      "0: 480x640 22 cars, 1 bus, 3 trucks, 83.8ms\n",
      "Speed: 2.4ms preprocess, 83.8ms inference, 0.8ms postprocess per image at shape (1, 3, 480, 640)\n",
      "\n",
      "0: 480x640 2 licenses, 83.1ms\n",
      "Speed: 3.2ms preprocess, 83.1ms inference, 0.6ms postprocess per image at shape (1, 3, 480, 640)\n",
      "\n",
      "0: 480x640 19 cars, 1 bus, 4 trucks, 76.3ms\n",
      "Speed: 2.6ms preprocess, 76.3ms inference, 0.8ms postprocess per image at shape (1, 3, 480, 640)\n",
      "\n",
      "0: 480x640 2 licenses, 77.8ms\n",
      "Speed: 3.1ms preprocess, 77.8ms inference, 0.8ms postprocess per image at shape (1, 3, 480, 640)\n",
      "\n",
      "0: 480x640 19 cars, 1 bus, 3 trucks, 79.0ms\n",
      "Speed: 2.4ms preprocess, 79.0ms inference, 1.1ms postprocess per image at shape (1, 3, 480, 640)\n",
      "\n",
      "0: 480x640 2 licenses, 81.0ms\n",
      "Speed: 3.2ms preprocess, 81.0ms inference, 0.6ms postprocess per image at shape (1, 3, 480, 640)\n",
      "\n",
      "0: 480x640 19 cars, 1 bus, 3 trucks, 86.2ms\n",
      "Speed: 2.9ms preprocess, 86.2ms inference, 0.8ms postprocess per image at shape (1, 3, 480, 640)\n",
      "\n",
      "0: 480x640 1 license, 82.8ms\n",
      "Speed: 2.7ms preprocess, 82.8ms inference, 1.0ms postprocess per image at shape (1, 3, 480, 640)\n",
      "\n",
      "0: 480x640 19 cars, 1 bus, 3 trucks, 91.8ms\n",
      "Speed: 2.8ms preprocess, 91.8ms inference, 0.9ms postprocess per image at shape (1, 3, 480, 640)\n",
      "\n",
      "0: 480x640 1 license, 118.3ms\n",
      "Speed: 3.0ms preprocess, 118.3ms inference, 1.4ms postprocess per image at shape (1, 3, 480, 640)\n",
      "\n",
      "0: 480x640 20 cars, 1 bus, 4 trucks, 79.0ms\n",
      "Speed: 2.6ms preprocess, 79.0ms inference, 1.1ms postprocess per image at shape (1, 3, 480, 640)\n",
      "\n",
      "0: 480x640 1 license, 80.0ms\n",
      "Speed: 2.3ms preprocess, 80.0ms inference, 0.6ms postprocess per image at shape (1, 3, 480, 640)\n",
      "\n",
      "0: 480x640 20 cars, 1 bus, 4 trucks, 85.1ms\n",
      "Speed: 2.4ms preprocess, 85.1ms inference, 0.8ms postprocess per image at shape (1, 3, 480, 640)\n",
      "\n",
      "0: 480x640 1 license, 83.8ms\n",
      "Speed: 2.7ms preprocess, 83.8ms inference, 0.7ms postprocess per image at shape (1, 3, 480, 640)\n",
      "\n",
      "0: 480x640 14 cars, 1 bus, 4 trucks, 78.4ms\n",
      "Speed: 2.4ms preprocess, 78.4ms inference, 1.1ms postprocess per image at shape (1, 3, 480, 640)\n",
      "\n",
      "0: 480x640 2 licenses, 81.9ms\n",
      "Speed: 2.7ms preprocess, 81.9ms inference, 1.2ms postprocess per image at shape (1, 3, 480, 640)\n",
      "\n",
      "0: 480x640 15 cars, 1 bus, 4 trucks, 85.6ms\n",
      "Speed: 2.5ms preprocess, 85.6ms inference, 1.2ms postprocess per image at shape (1, 3, 480, 640)\n",
      "\n",
      "0: 480x640 2 licenses, 87.8ms\n",
      "Speed: 3.4ms preprocess, 87.8ms inference, 0.7ms postprocess per image at shape (1, 3, 480, 640)\n",
      "\n",
      "0: 480x640 19 cars, 1 bus, 4 trucks, 80.0ms\n",
      "Speed: 2.4ms preprocess, 80.0ms inference, 1.0ms postprocess per image at shape (1, 3, 480, 640)\n",
      "\n",
      "0: 480x640 2 licenses, 82.9ms\n",
      "Speed: 2.8ms preprocess, 82.9ms inference, 0.6ms postprocess per image at shape (1, 3, 480, 640)\n",
      "\n",
      "0: 480x640 19 cars, 1 bus, 4 trucks, 80.3ms\n",
      "Speed: 2.5ms preprocess, 80.3ms inference, 0.7ms postprocess per image at shape (1, 3, 480, 640)\n",
      "\n",
      "0: 480x640 2 licenses, 82.4ms\n",
      "Speed: 2.8ms preprocess, 82.4ms inference, 0.6ms postprocess per image at shape (1, 3, 480, 640)\n",
      "\n",
      "0: 480x640 20 cars, 1 bus, 4 trucks, 75.6ms\n",
      "Speed: 2.5ms preprocess, 75.6ms inference, 0.7ms postprocess per image at shape (1, 3, 480, 640)\n",
      "\n",
      "0: 480x640 2 licenses, 80.9ms\n",
      "Speed: 2.4ms preprocess, 80.9ms inference, 0.6ms postprocess per image at shape (1, 3, 480, 640)\n",
      "\n",
      "0: 480x640 20 cars, 1 bus, 4 trucks, 80.2ms\n",
      "Speed: 2.5ms preprocess, 80.2ms inference, 0.8ms postprocess per image at shape (1, 3, 480, 640)\n",
      "\n",
      "0: 480x640 2 licenses, 85.0ms\n",
      "Speed: 2.5ms preprocess, 85.0ms inference, 0.6ms postprocess per image at shape (1, 3, 480, 640)\n",
      "\n",
      "0: 480x640 20 cars, 1 bus, 4 trucks, 81.4ms\n",
      "Speed: 2.7ms preprocess, 81.4ms inference, 0.7ms postprocess per image at shape (1, 3, 480, 640)\n",
      "\n",
      "0: 480x640 1 license, 82.3ms\n",
      "Speed: 2.6ms preprocess, 82.3ms inference, 0.6ms postprocess per image at shape (1, 3, 480, 640)\n",
      "\n",
      "0: 480x640 20 cars, 1 bus, 4 trucks, 87.3ms\n",
      "Speed: 2.7ms preprocess, 87.3ms inference, 0.8ms postprocess per image at shape (1, 3, 480, 640)\n",
      "\n",
      "0: 480x640 1 license, 82.8ms\n",
      "Speed: 3.3ms preprocess, 82.8ms inference, 0.6ms postprocess per image at shape (1, 3, 480, 640)\n",
      "\n",
      "0: 480x640 20 cars, 1 bus, 3 trucks, 83.5ms\n",
      "Speed: 2.4ms preprocess, 83.5ms inference, 0.9ms postprocess per image at shape (1, 3, 480, 640)\n",
      "\n",
      "0: 480x640 2 licenses, 84.0ms\n",
      "Speed: 3.5ms preprocess, 84.0ms inference, 1.0ms postprocess per image at shape (1, 3, 480, 640)\n",
      "\n",
      "0: 480x640 20 cars, 1 bus, 3 trucks, 78.9ms\n",
      "Speed: 2.4ms preprocess, 78.9ms inference, 0.7ms postprocess per image at shape (1, 3, 480, 640)\n",
      "\n",
      "0: 480x640 2 licenses, 79.0ms\n",
      "Speed: 2.6ms preprocess, 79.0ms inference, 0.6ms postprocess per image at shape (1, 3, 480, 640)\n"
     ]
    },
    {
     "name": "stdout",
     "output_type": "stream",
     "text": [
      "Error: results_list is empty or contains tuples without a second element.\n"
     ]
    },
    {
     "name": "stderr",
     "output_type": "stream",
     "text": [
      "\n",
      "0: 480x640 18 cars, 1 bus, 3 trucks, 83.2ms\n",
      "Speed: 2.5ms preprocess, 83.2ms inference, 0.7ms postprocess per image at shape (1, 3, 480, 640)\n",
      "\n",
      "0: 480x640 2 licenses, 83.9ms\n",
      "Speed: 2.4ms preprocess, 83.9ms inference, 0.6ms postprocess per image at shape (1, 3, 480, 640)\n",
      "\n",
      "0: 480x640 18 cars, 1 bus, 3 trucks, 79.1ms\n",
      "Speed: 2.4ms preprocess, 79.1ms inference, 0.8ms postprocess per image at shape (1, 3, 480, 640)\n",
      "\n",
      "0: 480x640 2 licenses, 79.2ms\n",
      "Speed: 3.1ms preprocess, 79.2ms inference, 0.6ms postprocess per image at shape (1, 3, 480, 640)\n",
      "\n",
      "0: 480x640 16 cars, 2 buss, 4 trucks, 83.8ms\n",
      "Speed: 2.6ms preprocess, 83.8ms inference, 0.7ms postprocess per image at shape (1, 3, 480, 640)\n",
      "\n",
      "0: 480x640 2 licenses, 131.9ms\n",
      "Speed: 2.5ms preprocess, 131.9ms inference, 0.7ms postprocess per image at shape (1, 3, 480, 640)\n",
      "\n",
      "0: 480x640 16 cars, 2 buss, 4 trucks, 78.9ms\n",
      "Speed: 2.5ms preprocess, 78.9ms inference, 0.8ms postprocess per image at shape (1, 3, 480, 640)\n",
      "\n",
      "0: 480x640 2 licenses, 73.2ms\n",
      "Speed: 3.1ms preprocess, 73.2ms inference, 0.5ms postprocess per image at shape (1, 3, 480, 640)\n",
      "\n",
      "0: 480x640 16 cars, 1 bus, 4 trucks, 80.3ms\n",
      "Speed: 2.4ms preprocess, 80.3ms inference, 0.8ms postprocess per image at shape (1, 3, 480, 640)\n",
      "\n",
      "0: 480x640 1 license, 82.3ms\n",
      "Speed: 3.1ms preprocess, 82.3ms inference, 0.6ms postprocess per image at shape (1, 3, 480, 640)\n"
     ]
    },
    {
     "name": "stdout",
     "output_type": "stream",
     "text": [
      "Error: results_list is empty or contains tuples without a second element.\n"
     ]
    },
    {
     "name": "stderr",
     "output_type": "stream",
     "text": [
      "\n",
      "0: 480x640 16 cars, 1 bus, 4 trucks, 85.4ms\n",
      "Speed: 2.7ms preprocess, 85.4ms inference, 0.7ms postprocess per image at shape (1, 3, 480, 640)\n",
      "\n",
      "0: 480x640 1 license, 86.3ms\n",
      "Speed: 3.2ms preprocess, 86.3ms inference, 0.6ms postprocess per image at shape (1, 3, 480, 640)\n",
      "\n",
      "0: 480x640 16 cars, 2 buss, 3 trucks, 82.8ms\n",
      "Speed: 2.4ms preprocess, 82.8ms inference, 0.8ms postprocess per image at shape (1, 3, 480, 640)\n",
      "\n",
      "0: 480x640 1 license, 83.0ms\n",
      "Speed: 2.6ms preprocess, 83.0ms inference, 0.6ms postprocess per image at shape (1, 3, 480, 640)\n",
      "\n",
      "0: 480x640 16 cars, 2 buss, 3 trucks, 86.3ms\n",
      "Speed: 2.5ms preprocess, 86.3ms inference, 0.8ms postprocess per image at shape (1, 3, 480, 640)\n",
      "\n",
      "0: 480x640 1 license, 83.7ms\n",
      "Speed: 2.6ms preprocess, 83.7ms inference, 0.6ms postprocess per image at shape (1, 3, 480, 640)\n"
     ]
    },
    {
     "name": "stdout",
     "output_type": "stream",
     "text": [
      "Error: results_list is empty or contains tuples without a second element.\n"
     ]
    },
    {
     "name": "stderr",
     "output_type": "stream",
     "text": [
      "\n",
      "0: 480x640 17 cars, 2 buss, 3 trucks, 88.8ms\n",
      "Speed: 2.5ms preprocess, 88.8ms inference, 0.8ms postprocess per image at shape (1, 3, 480, 640)\n",
      "\n",
      "0: 480x640 1 license, 83.6ms\n",
      "Speed: 2.6ms preprocess, 83.6ms inference, 0.6ms postprocess per image at shape (1, 3, 480, 640)\n",
      "\n",
      "0: 480x640 17 cars, 2 buss, 3 trucks, 109.0ms\n",
      "Speed: 3.0ms preprocess, 109.0ms inference, 1.3ms postprocess per image at shape (1, 3, 480, 640)\n",
      "\n",
      "0: 480x640 1 license, 124.0ms\n",
      "Speed: 5.2ms preprocess, 124.0ms inference, 0.8ms postprocess per image at shape (1, 3, 480, 640)\n",
      "\n",
      "0: 480x640 18 cars, 2 buss, 3 trucks, 81.1ms\n",
      "Speed: 2.5ms preprocess, 81.1ms inference, 0.8ms postprocess per image at shape (1, 3, 480, 640)\n",
      "\n",
      "0: 480x640 1 license, 77.6ms\n",
      "Speed: 3.2ms preprocess, 77.6ms inference, 0.6ms postprocess per image at shape (1, 3, 480, 640)\n",
      "\n",
      "0: 480x640 18 cars, 2 buss, 3 trucks, 82.3ms\n",
      "Speed: 2.4ms preprocess, 82.3ms inference, 0.8ms postprocess per image at shape (1, 3, 480, 640)\n",
      "\n",
      "0: 480x640 1 license, 81.1ms\n",
      "Speed: 2.7ms preprocess, 81.1ms inference, 0.6ms postprocess per image at shape (1, 3, 480, 640)\n",
      "\n",
      "0: 480x640 18 cars, 2 buss, 3 trucks, 80.3ms\n",
      "Speed: 2.4ms preprocess, 80.3ms inference, 0.8ms postprocess per image at shape (1, 3, 480, 640)\n",
      "\n",
      "0: 480x640 2 licenses, 81.4ms\n",
      "Speed: 2.7ms preprocess, 81.4ms inference, 0.6ms postprocess per image at shape (1, 3, 480, 640)\n",
      "\n",
      "0: 480x640 18 cars, 2 buss, 3 trucks, 84.8ms\n",
      "Speed: 2.4ms preprocess, 84.8ms inference, 0.8ms postprocess per image at shape (1, 3, 480, 640)\n",
      "\n",
      "0: 480x640 2 licenses, 86.7ms\n",
      "Speed: 2.5ms preprocess, 86.7ms inference, 1.0ms postprocess per image at shape (1, 3, 480, 640)\n",
      "\n",
      "0: 480x640 17 cars, 1 bus, 3 trucks, 79.2ms\n",
      "Speed: 2.8ms preprocess, 79.2ms inference, 0.8ms postprocess per image at shape (1, 3, 480, 640)\n",
      "\n",
      "0: 480x640 2 licenses, 77.0ms\n",
      "Speed: 2.8ms preprocess, 77.0ms inference, 0.6ms postprocess per image at shape (1, 3, 480, 640)\n",
      "\n",
      "0: 480x640 17 cars, 1 bus, 3 trucks, 81.4ms\n",
      "Speed: 2.4ms preprocess, 81.4ms inference, 0.8ms postprocess per image at shape (1, 3, 480, 640)\n",
      "\n",
      "0: 480x640 2 licenses, 83.1ms\n",
      "Speed: 3.2ms preprocess, 83.1ms inference, 0.6ms postprocess per image at shape (1, 3, 480, 640)\n"
     ]
    },
    {
     "name": "stdout",
     "output_type": "stream",
     "text": [
      "Error: results_list is empty or contains tuples without a second element.\n"
     ]
    },
    {
     "name": "stderr",
     "output_type": "stream",
     "text": [
      "\n",
      "0: 480x640 17 cars, 1 bus, 3 trucks, 82.6ms\n",
      "Speed: 2.5ms preprocess, 82.6ms inference, 0.7ms postprocess per image at shape (1, 3, 480, 640)\n",
      "\n",
      "0: 480x640 2 licenses, 80.1ms\n",
      "Speed: 3.1ms preprocess, 80.1ms inference, 0.6ms postprocess per image at shape (1, 3, 480, 640)\n"
     ]
    },
    {
     "name": "stdout",
     "output_type": "stream",
     "text": [
      "Error: results_list is empty or contains tuples without a second element.\n"
     ]
    },
    {
     "name": "stderr",
     "output_type": "stream",
     "text": [
      "\n",
      "0: 480x640 17 cars, 1 bus, 3 trucks, 83.3ms\n",
      "Speed: 2.5ms preprocess, 83.3ms inference, 0.8ms postprocess per image at shape (1, 3, 480, 640)\n",
      "\n",
      "0: 480x640 2 licenses, 84.3ms\n",
      "Speed: 2.8ms preprocess, 84.3ms inference, 0.6ms postprocess per image at shape (1, 3, 480, 640)\n",
      "\n",
      "0: 480x640 16 cars, 1 bus, 3 trucks, 82.4ms\n",
      "Speed: 2.4ms preprocess, 82.4ms inference, 0.8ms postprocess per image at shape (1, 3, 480, 640)\n",
      "\n",
      "0: 480x640 2 licenses, 78.0ms\n",
      "Speed: 2.5ms preprocess, 78.0ms inference, 0.6ms postprocess per image at shape (1, 3, 480, 640)\n",
      "\n",
      "0: 480x640 16 cars, 1 bus, 3 trucks, 78.7ms\n",
      "Speed: 2.4ms preprocess, 78.7ms inference, 0.7ms postprocess per image at shape (1, 3, 480, 640)\n",
      "\n",
      "0: 480x640 2 licenses, 85.1ms\n",
      "Speed: 3.1ms preprocess, 85.1ms inference, 0.6ms postprocess per image at shape (1, 3, 480, 640)\n"
     ]
    },
    {
     "name": "stdout",
     "output_type": "stream",
     "text": [
      "Error: results_list is empty or contains tuples without a second element.\n"
     ]
    },
    {
     "name": "stderr",
     "output_type": "stream",
     "text": [
      "\n",
      "0: 480x640 15 cars, 1 bus, 3 trucks, 80.1ms\n",
      "Speed: 3.1ms preprocess, 80.1ms inference, 0.8ms postprocess per image at shape (1, 3, 480, 640)\n",
      "\n",
      "0: 480x640 1 license, 80.8ms\n",
      "Speed: 3.0ms preprocess, 80.8ms inference, 0.6ms postprocess per image at shape (1, 3, 480, 640)\n",
      "\n",
      "0: 480x640 15 cars, 1 bus, 3 trucks, 85.7ms\n",
      "Speed: 2.8ms preprocess, 85.7ms inference, 0.9ms postprocess per image at shape (1, 3, 480, 640)\n",
      "\n",
      "0: 480x640 1 license, 86.3ms\n",
      "Speed: 3.1ms preprocess, 86.3ms inference, 0.6ms postprocess per image at shape (1, 3, 480, 640)\n",
      "\n",
      "0: 480x640 15 cars, 1 bus, 2 trucks, 85.1ms\n",
      "Speed: 2.5ms preprocess, 85.1ms inference, 0.9ms postprocess per image at shape (1, 3, 480, 640)\n",
      "\n",
      "0: 480x640 1 license, 87.2ms\n",
      "Speed: 3.2ms preprocess, 87.2ms inference, 0.6ms postprocess per image at shape (1, 3, 480, 640)\n",
      "\n",
      "0: 480x640 15 cars, 1 bus, 2 trucks, 83.1ms\n",
      "Speed: 2.4ms preprocess, 83.1ms inference, 0.8ms postprocess per image at shape (1, 3, 480, 640)\n",
      "\n",
      "0: 480x640 1 license, 80.8ms\n",
      "Speed: 3.4ms preprocess, 80.8ms inference, 0.6ms postprocess per image at shape (1, 3, 480, 640)\n",
      "\n",
      "0: 480x640 17 cars, 2 buss, 3 trucks, 85.8ms\n",
      "Speed: 2.4ms preprocess, 85.8ms inference, 0.8ms postprocess per image at shape (1, 3, 480, 640)\n",
      "\n",
      "0: 480x640 1 license, 87.7ms\n",
      "Speed: 2.7ms preprocess, 87.7ms inference, 1.3ms postprocess per image at shape (1, 3, 480, 640)\n"
     ]
    },
    {
     "name": "stdout",
     "output_type": "stream",
     "text": [
      "Error: results_list is empty or contains tuples without a second element.\n"
     ]
    },
    {
     "name": "stderr",
     "output_type": "stream",
     "text": [
      "\n",
      "0: 480x640 15 cars, 2 buss, 3 trucks, 87.0ms\n",
      "Speed: 2.7ms preprocess, 87.0ms inference, 0.9ms postprocess per image at shape (1, 3, 480, 640)\n",
      "\n",
      "0: 480x640 1 license, 86.8ms\n",
      "Speed: 3.4ms preprocess, 86.8ms inference, 0.6ms postprocess per image at shape (1, 3, 480, 640)\n",
      "\n",
      "0: 480x640 17 cars, 2 buss, 2 trucks, 84.1ms\n",
      "Speed: 2.5ms preprocess, 84.1ms inference, 0.9ms postprocess per image at shape (1, 3, 480, 640)\n",
      "\n",
      "0: 480x640 1 license, 84.5ms\n",
      "Speed: 3.2ms preprocess, 84.5ms inference, 0.6ms postprocess per image at shape (1, 3, 480, 640)\n",
      "\n",
      "0: 480x640 16 cars, 2 buss, 2 trucks, 83.2ms\n",
      "Speed: 2.4ms preprocess, 83.2ms inference, 0.9ms postprocess per image at shape (1, 3, 480, 640)\n",
      "\n",
      "0: 480x640 1 license, 86.6ms\n",
      "Speed: 2.8ms preprocess, 86.6ms inference, 0.6ms postprocess per image at shape (1, 3, 480, 640)\n",
      "\n",
      "0: 480x640 17 cars, 2 buss, 2 trucks, 80.4ms\n",
      "Speed: 2.5ms preprocess, 80.4ms inference, 0.9ms postprocess per image at shape (1, 3, 480, 640)\n",
      "\n",
      "0: 480x640 2 licenses, 85.3ms\n",
      "Speed: 3.4ms preprocess, 85.3ms inference, 0.6ms postprocess per image at shape (1, 3, 480, 640)\n",
      "\n",
      "0: 480x640 17 cars, 2 buss, 2 trucks, 81.6ms\n",
      "Speed: 2.7ms preprocess, 81.6ms inference, 0.8ms postprocess per image at shape (1, 3, 480, 640)\n",
      "\n",
      "0: 480x640 2 licenses, 82.4ms\n",
      "Speed: 2.5ms preprocess, 82.4ms inference, 0.6ms postprocess per image at shape (1, 3, 480, 640)\n",
      "\n",
      "0: 480x640 16 cars, 2 buss, 1 truck, 80.7ms\n",
      "Speed: 2.5ms preprocess, 80.7ms inference, 0.8ms postprocess per image at shape (1, 3, 480, 640)\n",
      "\n",
      "0: 480x640 1 license, 82.1ms\n",
      "Speed: 3.2ms preprocess, 82.1ms inference, 1.3ms postprocess per image at shape (1, 3, 480, 640)\n",
      "\n",
      "0: 480x640 15 cars, 2 buss, 1 truck, 90.3ms\n",
      "Speed: 2.9ms preprocess, 90.3ms inference, 0.8ms postprocess per image at shape (1, 3, 480, 640)\n",
      "\n",
      "0: 480x640 1 license, 84.2ms\n",
      "Speed: 3.1ms preprocess, 84.2ms inference, 0.7ms postprocess per image at shape (1, 3, 480, 640)\n",
      "\n",
      "0: 480x640 15 cars, 2 buss, 2 trucks, 84.6ms\n",
      "Speed: 2.4ms preprocess, 84.6ms inference, 0.8ms postprocess per image at shape (1, 3, 480, 640)\n",
      "\n",
      "0: 480x640 1 license, 85.3ms\n",
      "Speed: 3.5ms preprocess, 85.3ms inference, 0.6ms postprocess per image at shape (1, 3, 480, 640)\n",
      "\n",
      "0: 480x640 15 cars, 2 buss, 2 trucks, 83.8ms\n",
      "Speed: 2.6ms preprocess, 83.8ms inference, 0.8ms postprocess per image at shape (1, 3, 480, 640)\n",
      "\n",
      "0: 480x640 1 license, 84.8ms\n",
      "Speed: 3.5ms preprocess, 84.8ms inference, 0.6ms postprocess per image at shape (1, 3, 480, 640)\n"
     ]
    },
    {
     "name": "stdout",
     "output_type": "stream",
     "text": [
      "Error: results_list is empty or contains tuples without a second element.\n"
     ]
    },
    {
     "name": "stderr",
     "output_type": "stream",
     "text": [
      "\n",
      "0: 480x640 16 cars, 2 buss, 2 trucks, 85.1ms\n",
      "Speed: 2.8ms preprocess, 85.1ms inference, 0.8ms postprocess per image at shape (1, 3, 480, 640)\n",
      "\n",
      "0: 480x640 1 license, 80.0ms\n",
      "Speed: 3.3ms preprocess, 80.0ms inference, 0.6ms postprocess per image at shape (1, 3, 480, 640)\n"
     ]
    },
    {
     "name": "stdout",
     "output_type": "stream",
     "text": [
      "Error: results_list is empty or contains tuples without a second element.\n"
     ]
    },
    {
     "name": "stderr",
     "output_type": "stream",
     "text": [
      "\n",
      "0: 480x640 15 cars, 2 buss, 2 trucks, 80.4ms\n",
      "Speed: 2.6ms preprocess, 80.4ms inference, 0.8ms postprocess per image at shape (1, 3, 480, 640)\n",
      "\n",
      "0: 480x640 1 license, 83.8ms\n",
      "Speed: 2.7ms preprocess, 83.8ms inference, 0.6ms postprocess per image at shape (1, 3, 480, 640)\n",
      "\n",
      "0: 480x640 17 cars, 2 buss, 1 truck, 84.6ms\n",
      "Speed: 2.4ms preprocess, 84.6ms inference, 0.8ms postprocess per image at shape (1, 3, 480, 640)\n",
      "\n",
      "0: 480x640 1 license, 84.5ms\n",
      "Speed: 2.9ms preprocess, 84.5ms inference, 0.6ms postprocess per image at shape (1, 3, 480, 640)\n",
      "\n",
      "0: 480x640 16 cars, 2 buss, 1 truck, 89.3ms\n",
      "Speed: 3.3ms preprocess, 89.3ms inference, 0.8ms postprocess per image at shape (1, 3, 480, 640)\n",
      "\n",
      "0: 480x640 1 license, 82.5ms\n",
      "Speed: 2.6ms preprocess, 82.5ms inference, 0.6ms postprocess per image at shape (1, 3, 480, 640)\n",
      "\n",
      "0: 480x640 13 cars, 2 buss, 1 truck, 89.2ms\n",
      "Speed: 2.6ms preprocess, 89.2ms inference, 0.8ms postprocess per image at shape (1, 3, 480, 640)\n",
      "\n",
      "0: 480x640 2 licenses, 83.0ms\n",
      "Speed: 3.3ms preprocess, 83.0ms inference, 0.6ms postprocess per image at shape (1, 3, 480, 640)\n",
      "\n",
      "0: 480x640 13 cars, 2 buss, 1 truck, 82.3ms\n",
      "Speed: 2.5ms preprocess, 82.3ms inference, 0.7ms postprocess per image at shape (1, 3, 480, 640)\n",
      "\n",
      "0: 480x640 2 licenses, 75.7ms\n",
      "Speed: 3.1ms preprocess, 75.7ms inference, 0.6ms postprocess per image at shape (1, 3, 480, 640)\n",
      "\n",
      "0: 480x640 15 cars, 2 buss, 1 truck, 82.5ms\n",
      "Speed: 2.4ms preprocess, 82.5ms inference, 0.8ms postprocess per image at shape (1, 3, 480, 640)\n",
      "\n",
      "0: 480x640 1 license, 85.8ms\n",
      "Speed: 2.8ms preprocess, 85.8ms inference, 0.6ms postprocess per image at shape (1, 3, 480, 640)\n",
      "\n",
      "0: 480x640 15 cars, 2 buss, 1 truck, 87.4ms\n",
      "Speed: 2.4ms preprocess, 87.4ms inference, 0.8ms postprocess per image at shape (1, 3, 480, 640)\n",
      "\n",
      "0: 480x640 1 license, 81.5ms\n",
      "Speed: 2.8ms preprocess, 81.5ms inference, 0.5ms postprocess per image at shape (1, 3, 480, 640)\n",
      "\n",
      "0: 480x640 18 cars, 2 buss, 2 trucks, 86.2ms\n",
      "Speed: 2.5ms preprocess, 86.2ms inference, 0.8ms postprocess per image at shape (1, 3, 480, 640)\n",
      "\n",
      "0: 480x640 1 license, 88.6ms\n",
      "Speed: 2.9ms preprocess, 88.6ms inference, 0.7ms postprocess per image at shape (1, 3, 480, 640)\n",
      "\n",
      "0: 480x640 18 cars, 2 buss, 1 truck, 81.7ms\n",
      "Speed: 2.4ms preprocess, 81.7ms inference, 0.8ms postprocess per image at shape (1, 3, 480, 640)\n",
      "\n",
      "0: 480x640 1 license, 85.1ms\n",
      "Speed: 2.6ms preprocess, 85.1ms inference, 0.6ms postprocess per image at shape (1, 3, 480, 640)\n",
      "\n",
      "0: 480x640 18 cars, 2 buss, 2 trucks, 83.7ms\n",
      "Speed: 2.5ms preprocess, 83.7ms inference, 0.8ms postprocess per image at shape (1, 3, 480, 640)\n",
      "\n",
      "0: 480x640 1 license, 83.7ms\n",
      "Speed: 3.4ms preprocess, 83.7ms inference, 0.6ms postprocess per image at shape (1, 3, 480, 640)\n",
      "\n",
      "0: 480x640 18 cars, 2 buss, 2 trucks, 79.7ms\n",
      "Speed: 2.5ms preprocess, 79.7ms inference, 0.8ms postprocess per image at shape (1, 3, 480, 640)\n",
      "\n",
      "0: 480x640 1 license, 81.2ms\n",
      "Speed: 2.6ms preprocess, 81.2ms inference, 0.6ms postprocess per image at shape (1, 3, 480, 640)\n",
      "\n",
      "0: 480x640 18 cars, 2 buss, 2 trucks, 86.5ms\n",
      "Speed: 2.5ms preprocess, 86.5ms inference, 1.5ms postprocess per image at shape (1, 3, 480, 640)\n",
      "\n",
      "0: 480x640 1 license, 86.7ms\n",
      "Speed: 3.4ms preprocess, 86.7ms inference, 0.6ms postprocess per image at shape (1, 3, 480, 640)\n",
      "\n",
      "0: 480x640 18 cars, 2 buss, 2 trucks, 92.1ms\n",
      "Speed: 2.5ms preprocess, 92.1ms inference, 0.8ms postprocess per image at shape (1, 3, 480, 640)\n",
      "\n",
      "0: 480x640 1 license, 81.9ms\n",
      "Speed: 2.6ms preprocess, 81.9ms inference, 0.9ms postprocess per image at shape (1, 3, 480, 640)\n"
     ]
    },
    {
     "name": "stdout",
     "output_type": "stream",
     "text": [
      "Error: results_list is empty or contains tuples without a second element.\n"
     ]
    },
    {
     "name": "stderr",
     "output_type": "stream",
     "text": [
      "\n",
      "0: 480x640 16 cars, 2 buss, 2 trucks, 88.3ms\n",
      "Speed: 2.6ms preprocess, 88.3ms inference, 0.8ms postprocess per image at shape (1, 3, 480, 640)\n",
      "\n",
      "0: 480x640 1 license, 82.7ms\n",
      "Speed: 3.5ms preprocess, 82.7ms inference, 0.6ms postprocess per image at shape (1, 3, 480, 640)\n"
     ]
    },
    {
     "name": "stdout",
     "output_type": "stream",
     "text": [
      "Error: results_list is empty or contains tuples without a second element.\n"
     ]
    },
    {
     "name": "stderr",
     "output_type": "stream",
     "text": [
      "\n",
      "0: 480x640 16 cars, 2 buss, 2 trucks, 87.5ms\n",
      "Speed: 2.5ms preprocess, 87.5ms inference, 0.8ms postprocess per image at shape (1, 3, 480, 640)\n",
      "\n",
      "0: 480x640 1 license, 86.0ms\n",
      "Speed: 3.5ms preprocess, 86.0ms inference, 0.6ms postprocess per image at shape (1, 3, 480, 640)\n",
      "\n",
      "0: 480x640 17 cars, 2 buss, 2 trucks, 85.1ms\n",
      "Speed: 2.5ms preprocess, 85.1ms inference, 0.8ms postprocess per image at shape (1, 3, 480, 640)\n",
      "\n",
      "0: 480x640 2 licenses, 85.5ms\n",
      "Speed: 3.3ms preprocess, 85.5ms inference, 0.6ms postprocess per image at shape (1, 3, 480, 640)\n"
     ]
    },
    {
     "name": "stdout",
     "output_type": "stream",
     "text": [
      "Error: results_list is empty or contains tuples without a second element.\n"
     ]
    },
    {
     "name": "stderr",
     "output_type": "stream",
     "text": [
      "\n",
      "0: 480x640 17 cars, 2 buss, 2 trucks, 120.8ms\n",
      "Speed: 2.4ms preprocess, 120.8ms inference, 1.4ms postprocess per image at shape (1, 3, 480, 640)\n",
      "\n"
     ]
    },
    {
     "name": "stdout",
     "output_type": "stream",
     "text": [
      "Error: results_list is empty or contains tuples without a second element.\n"
     ]
    },
    {
     "name": "stderr",
     "output_type": "stream",
     "text": [
      "0: 480x640 2 licenses, 158.0ms\n",
      "Speed: 6.4ms preprocess, 158.0ms inference, 1.1ms postprocess per image at shape (1, 3, 480, 640)\n"
     ]
    },
    {
     "name": "stdout",
     "output_type": "stream",
     "text": [
      "Error: results_list is empty or contains tuples without a second element.\n"
     ]
    },
    {
     "name": "stderr",
     "output_type": "stream",
     "text": [
      "\n",
      "0: 480x640 18 cars, 2 buss, 2 trucks, 87.5ms\n",
      "Speed: 2.4ms preprocess, 87.5ms inference, 0.8ms postprocess per image at shape (1, 3, 480, 640)\n",
      "\n",
      "0: 480x640 1 license, 84.4ms\n",
      "Speed: 3.4ms preprocess, 84.4ms inference, 0.6ms postprocess per image at shape (1, 3, 480, 640)\n"
     ]
    },
    {
     "name": "stdout",
     "output_type": "stream",
     "text": [
      "Error: results_list is empty or contains tuples without a second element.\n"
     ]
    },
    {
     "name": "stderr",
     "output_type": "stream",
     "text": [
      "\n",
      "0: 480x640 18 cars, 2 buss, 2 trucks, 87.3ms\n",
      "Speed: 2.7ms preprocess, 87.3ms inference, 0.8ms postprocess per image at shape (1, 3, 480, 640)\n",
      "\n",
      "0: 480x640 1 license, 83.9ms\n",
      "Speed: 3.5ms preprocess, 83.9ms inference, 1.3ms postprocess per image at shape (1, 3, 480, 640)\n",
      "\n",
      "0: 480x640 18 cars, 2 buss, 2 trucks, 78.1ms\n",
      "Speed: 2.3ms preprocess, 78.1ms inference, 0.7ms postprocess per image at shape (1, 3, 480, 640)\n",
      "\n",
      "0: 480x640 1 license, 82.7ms\n",
      "Speed: 2.7ms preprocess, 82.7ms inference, 0.6ms postprocess per image at shape (1, 3, 480, 640)\n",
      "\n",
      "0: 480x640 18 cars, 2 buss, 2 trucks, 86.7ms\n",
      "Speed: 2.4ms preprocess, 86.7ms inference, 0.8ms postprocess per image at shape (1, 3, 480, 640)\n",
      "\n",
      "0: 480x640 1 license, 88.6ms\n",
      "Speed: 3.4ms preprocess, 88.6ms inference, 0.6ms postprocess per image at shape (1, 3, 480, 640)\n"
     ]
    },
    {
     "name": "stdout",
     "output_type": "stream",
     "text": [
      "Error: results_list is empty or contains tuples without a second element.\n"
     ]
    },
    {
     "name": "stderr",
     "output_type": "stream",
     "text": [
      "\n",
      "0: 480x640 18 cars, 2 buss, 2 trucks, 85.6ms\n",
      "Speed: 2.5ms preprocess, 85.6ms inference, 0.8ms postprocess per image at shape (1, 3, 480, 640)\n",
      "\n",
      "0: 480x640 1 license, 84.1ms\n",
      "Speed: 3.5ms preprocess, 84.1ms inference, 1.2ms postprocess per image at shape (1, 3, 480, 640)\n",
      "\n",
      "0: 480x640 18 cars, 2 buss, 2 trucks, 80.0ms\n",
      "Speed: 2.4ms preprocess, 80.0ms inference, 0.8ms postprocess per image at shape (1, 3, 480, 640)\n",
      "\n",
      "0: 480x640 1 license, 86.6ms\n",
      "Speed: 2.6ms preprocess, 86.6ms inference, 0.6ms postprocess per image at shape (1, 3, 480, 640)\n",
      "\n",
      "0: 480x640 18 cars, 2 buss, 1 truck, 85.8ms\n",
      "Speed: 2.5ms preprocess, 85.8ms inference, 0.8ms postprocess per image at shape (1, 3, 480, 640)\n",
      "\n",
      "0: 480x640 1 license, 82.3ms\n",
      "Speed: 2.7ms preprocess, 82.3ms inference, 0.6ms postprocess per image at shape (1, 3, 480, 640)\n",
      "\n",
      "0: 480x640 18 cars, 2 buss, 1 truck, 85.7ms\n",
      "Speed: 2.4ms preprocess, 85.7ms inference, 0.8ms postprocess per image at shape (1, 3, 480, 640)\n",
      "\n",
      "0: 480x640 1 license, 83.4ms\n",
      "Speed: 2.6ms preprocess, 83.4ms inference, 0.6ms postprocess per image at shape (1, 3, 480, 640)\n",
      "\n",
      "0: 480x640 19 cars, 2 buss, 2 trucks, 84.5ms\n",
      "Speed: 2.4ms preprocess, 84.5ms inference, 1.5ms postprocess per image at shape (1, 3, 480, 640)\n",
      "\n",
      "0: 480x640 1 license, 83.1ms\n",
      "Speed: 3.2ms preprocess, 83.1ms inference, 0.6ms postprocess per image at shape (1, 3, 480, 640)\n",
      "\n",
      "0: 480x640 18 cars, 2 buss, 2 trucks, 86.9ms\n",
      "Speed: 2.4ms preprocess, 86.9ms inference, 0.9ms postprocess per image at shape (1, 3, 480, 640)\n",
      "\n",
      "0: 480x640 1 license, 86.2ms\n",
      "Speed: 2.7ms preprocess, 86.2ms inference, 0.6ms postprocess per image at shape (1, 3, 480, 640)\n",
      "\n",
      "0: 480x640 17 cars, 2 buss, 1 truck, 81.8ms\n",
      "Speed: 2.5ms preprocess, 81.8ms inference, 0.9ms postprocess per image at shape (1, 3, 480, 640)\n",
      "\n",
      "0: 480x640 1 license, 83.9ms\n",
      "Speed: 2.8ms preprocess, 83.9ms inference, 0.5ms postprocess per image at shape (1, 3, 480, 640)\n"
     ]
    },
    {
     "name": "stdout",
     "output_type": "stream",
     "text": [
      "Error: results_list is empty or contains tuples without a second element.\n"
     ]
    },
    {
     "name": "stderr",
     "output_type": "stream",
     "text": [
      "\n",
      "0: 480x640 17 cars, 2 buss, 1 truck, 86.5ms\n",
      "Speed: 2.7ms preprocess, 86.5ms inference, 0.8ms postprocess per image at shape (1, 3, 480, 640)\n",
      "\n",
      "0: 480x640 1 license, 86.6ms\n",
      "Speed: 2.7ms preprocess, 86.6ms inference, 0.9ms postprocess per image at shape (1, 3, 480, 640)\n",
      "\n",
      "0: 480x640 18 cars, 2 buss, 2 trucks, 87.3ms\n",
      "Speed: 2.4ms preprocess, 87.3ms inference, 0.8ms postprocess per image at shape (1, 3, 480, 640)\n",
      "\n",
      "0: 480x640 1 license, 148.8ms\n",
      "Speed: 3.3ms preprocess, 148.8ms inference, 1.0ms postprocess per image at shape (1, 3, 480, 640)\n",
      "\n",
      "0: 480x640 18 cars, 2 buss, 2 trucks, 82.8ms\n",
      "Speed: 3.1ms preprocess, 82.8ms inference, 0.8ms postprocess per image at shape (1, 3, 480, 640)\n",
      "\n",
      "0: 480x640 1 license, 84.1ms\n",
      "Speed: 2.3ms preprocess, 84.1ms inference, 0.6ms postprocess per image at shape (1, 3, 480, 640)\n",
      "\n",
      "0: 480x640 17 cars, 2 buss, 2 trucks, 84.2ms\n",
      "Speed: 2.5ms preprocess, 84.2ms inference, 0.9ms postprocess per image at shape (1, 3, 480, 640)\n",
      "\n",
      "0: 480x640 1 license, 83.1ms\n",
      "Speed: 3.4ms preprocess, 83.1ms inference, 0.6ms postprocess per image at shape (1, 3, 480, 640)\n",
      "\n",
      "0: 480x640 18 cars, 2 buss, 2 trucks, 81.9ms\n",
      "Speed: 2.4ms preprocess, 81.9ms inference, 0.8ms postprocess per image at shape (1, 3, 480, 640)\n",
      "\n",
      "0: 480x640 1 license, 82.1ms\n",
      "Speed: 2.8ms preprocess, 82.1ms inference, 0.6ms postprocess per image at shape (1, 3, 480, 640)\n",
      "\n",
      "0: 480x640 17 cars, 2 buss, 2 trucks, 85.5ms\n",
      "Speed: 2.5ms preprocess, 85.5ms inference, 0.8ms postprocess per image at shape (1, 3, 480, 640)\n",
      "\n",
      "0: 480x640 1 license, 86.1ms\n",
      "Speed: 3.5ms preprocess, 86.1ms inference, 0.6ms postprocess per image at shape (1, 3, 480, 640)\n",
      "\n",
      "0: 480x640 17 cars, 2 buss, 2 trucks, 81.8ms\n",
      "Speed: 2.3ms preprocess, 81.8ms inference, 0.8ms postprocess per image at shape (1, 3, 480, 640)\n",
      "\n",
      "0: 480x640 1 license, 86.8ms\n",
      "Speed: 3.3ms preprocess, 86.8ms inference, 0.6ms postprocess per image at shape (1, 3, 480, 640)\n",
      "\n",
      "0: 480x640 18 cars, 2 buss, 2 trucks, 86.5ms\n",
      "Speed: 2.5ms preprocess, 86.5ms inference, 0.8ms postprocess per image at shape (1, 3, 480, 640)\n",
      "\n",
      "0: 480x640 1 license, 85.6ms\n",
      "Speed: 3.4ms preprocess, 85.6ms inference, 0.6ms postprocess per image at shape (1, 3, 480, 640)\n",
      "\n",
      "0: 480x640 18 cars, 2 buss, 2 trucks, 80.1ms\n",
      "Speed: 2.7ms preprocess, 80.1ms inference, 0.9ms postprocess per image at shape (1, 3, 480, 640)\n",
      "\n",
      "0: 480x640 1 license, 81.3ms\n",
      "Speed: 2.7ms preprocess, 81.3ms inference, 0.6ms postprocess per image at shape (1, 3, 480, 640)\n",
      "\n",
      "0: 480x640 18 cars, 2 buss, 2 trucks, 81.3ms\n",
      "Speed: 2.4ms preprocess, 81.3ms inference, 0.8ms postprocess per image at shape (1, 3, 480, 640)\n",
      "\n",
      "0: 480x640 1 license, 82.1ms\n",
      "Speed: 3.3ms preprocess, 82.1ms inference, 1.0ms postprocess per image at shape (1, 3, 480, 640)\n",
      "\n",
      "0: 480x640 18 cars, 2 buss, 2 trucks, 80.4ms\n",
      "Speed: 2.4ms preprocess, 80.4ms inference, 0.8ms postprocess per image at shape (1, 3, 480, 640)\n",
      "\n",
      "0: 480x640 1 license, 84.6ms\n",
      "Speed: 3.0ms preprocess, 84.6ms inference, 0.7ms postprocess per image at shape (1, 3, 480, 640)\n",
      "\n",
      "0: 480x640 17 cars, 2 buss, 2 trucks, 80.1ms\n",
      "Speed: 2.6ms preprocess, 80.1ms inference, 0.9ms postprocess per image at shape (1, 3, 480, 640)\n",
      "\n",
      "0: 480x640 2 licenses, 83.3ms\n",
      "Speed: 3.3ms preprocess, 83.3ms inference, 1.1ms postprocess per image at shape (1, 3, 480, 640)\n",
      "\n",
      "0: 480x640 17 cars, 2 buss, 2 trucks, 78.7ms\n",
      "Speed: 2.5ms preprocess, 78.7ms inference, 0.7ms postprocess per image at shape (1, 3, 480, 640)\n",
      "\n",
      "0: 480x640 2 licenses, 82.2ms\n",
      "Speed: 3.0ms preprocess, 82.2ms inference, 0.6ms postprocess per image at shape (1, 3, 480, 640)\n",
      "\n",
      "0: 480x640 17 cars, 2 buss, 1 truck, 77.7ms\n",
      "Speed: 2.5ms preprocess, 77.7ms inference, 1.1ms postprocess per image at shape (1, 3, 480, 640)\n",
      "\n",
      "0: 480x640 2 licenses, 81.9ms\n",
      "Speed: 2.4ms preprocess, 81.9ms inference, 0.6ms postprocess per image at shape (1, 3, 480, 640)\n",
      "\n",
      "0: 480x640 17 cars, 2 buss, 1 truck, 83.3ms\n",
      "Speed: 2.7ms preprocess, 83.3ms inference, 0.9ms postprocess per image at shape (1, 3, 480, 640)\n",
      "\n",
      "0: 480x640 2 licenses, 85.7ms\n",
      "Speed: 2.6ms preprocess, 85.7ms inference, 0.6ms postprocess per image at shape (1, 3, 480, 640)\n"
     ]
    },
    {
     "name": "stdout",
     "output_type": "stream",
     "text": [
      "Error: results_list is empty or contains tuples without a second element.\n"
     ]
    },
    {
     "name": "stderr",
     "output_type": "stream",
     "text": [
      "\n",
      "0: 480x640 16 cars, 1 bus, 1 truck, 82.1ms\n",
      "Speed: 2.6ms preprocess, 82.1ms inference, 0.7ms postprocess per image at shape (1, 3, 480, 640)\n",
      "\n",
      "0: 480x640 2 licenses, 75.8ms\n",
      "Speed: 3.0ms preprocess, 75.8ms inference, 0.5ms postprocess per image at shape (1, 3, 480, 640)\n"
     ]
    },
    {
     "name": "stdout",
     "output_type": "stream",
     "text": [
      "Error: results_list is empty or contains tuples without a second element.\n"
     ]
    },
    {
     "name": "stderr",
     "output_type": "stream",
     "text": [
      "\n",
      "0: 480x640 16 cars, 1 bus, 1 truck, 83.6ms\n",
      "Speed: 2.4ms preprocess, 83.6ms inference, 0.8ms postprocess per image at shape (1, 3, 480, 640)\n",
      "\n",
      "0: 480x640 2 licenses, 87.0ms\n",
      "Speed: 3.5ms preprocess, 87.0ms inference, 1.4ms postprocess per image at shape (1, 3, 480, 640)\n",
      "\n",
      "0: 480x640 17 cars, 2 buss, 1 truck, 80.2ms\n",
      "Speed: 2.4ms preprocess, 80.2ms inference, 0.8ms postprocess per image at shape (1, 3, 480, 640)\n",
      "\n",
      "0: 480x640 2 licenses, 80.4ms\n",
      "Speed: 3.2ms preprocess, 80.4ms inference, 0.6ms postprocess per image at shape (1, 3, 480, 640)\n",
      "\n",
      "0: 480x640 17 cars, 2 buss, 1 truck, 80.9ms\n",
      "Speed: 2.5ms preprocess, 80.9ms inference, 0.7ms postprocess per image at shape (1, 3, 480, 640)\n",
      "\n",
      "0: 480x640 2 licenses, 87.7ms\n",
      "Speed: 3.1ms preprocess, 87.7ms inference, 0.6ms postprocess per image at shape (1, 3, 480, 640)\n",
      "\n",
      "0: 480x640 17 cars, 2 buss, 1 truck, 81.8ms\n",
      "Speed: 2.6ms preprocess, 81.8ms inference, 0.8ms postprocess per image at shape (1, 3, 480, 640)\n",
      "\n",
      "0: 480x640 2 licenses, 79.1ms\n",
      "Speed: 3.2ms preprocess, 79.1ms inference, 0.6ms postprocess per image at shape (1, 3, 480, 640)\n"
     ]
    },
    {
     "name": "stdout",
     "output_type": "stream",
     "text": [
      "Error: results_list is empty or contains tuples without a second element.\n"
     ]
    },
    {
     "name": "stderr",
     "output_type": "stream",
     "text": [
      "\n",
      "0: 480x640 17 cars, 2 buss, 1 truck, 83.8ms\n",
      "Speed: 2.9ms preprocess, 83.8ms inference, 0.8ms postprocess per image at shape (1, 3, 480, 640)\n",
      "\n",
      "0: 480x640 2 licenses, 82.5ms\n",
      "Speed: 3.4ms preprocess, 82.5ms inference, 0.6ms postprocess per image at shape (1, 3, 480, 640)\n"
     ]
    },
    {
     "name": "stdout",
     "output_type": "stream",
     "text": [
      "Error: results_list is empty or contains tuples without a second element.\n"
     ]
    },
    {
     "name": "stderr",
     "output_type": "stream",
     "text": [
      "\n",
      "0: 480x640 17 cars, 2 buss, 1 truck, 80.0ms\n",
      "Speed: 2.5ms preprocess, 80.0ms inference, 0.7ms postprocess per image at shape (1, 3, 480, 640)\n",
      "\n",
      "0: 480x640 2 licenses, 81.6ms\n",
      "Speed: 2.5ms preprocess, 81.6ms inference, 0.6ms postprocess per image at shape (1, 3, 480, 640)\n"
     ]
    },
    {
     "name": "stdout",
     "output_type": "stream",
     "text": [
      "Error: results_list is empty or contains tuples without a second element.\n"
     ]
    },
    {
     "name": "stderr",
     "output_type": "stream",
     "text": [
      "\n",
      "0: 480x640 17 cars, 2 buss, 1 truck, 83.9ms\n",
      "Speed: 2.5ms preprocess, 83.9ms inference, 0.7ms postprocess per image at shape (1, 3, 480, 640)\n",
      "\n",
      "0: 480x640 2 licenses, 80.5ms\n",
      "Speed: 2.6ms preprocess, 80.5ms inference, 0.5ms postprocess per image at shape (1, 3, 480, 640)\n",
      "\n",
      "0: 480x640 17 cars, 2 buss, 1 truck, 83.8ms\n",
      "Speed: 2.4ms preprocess, 83.8ms inference, 0.7ms postprocess per image at shape (1, 3, 480, 640)\n",
      "\n",
      "0: 480x640 2 licenses, 83.6ms\n",
      "Speed: 2.4ms preprocess, 83.6ms inference, 0.5ms postprocess per image at shape (1, 3, 480, 640)\n",
      "\n",
      "0: 480x640 17 cars, 2 buss, 1 truck, 80.5ms\n",
      "Speed: 2.4ms preprocess, 80.5ms inference, 0.7ms postprocess per image at shape (1, 3, 480, 640)\n",
      "\n",
      "0: 480x640 2 licenses, 82.0ms\n",
      "Speed: 2.4ms preprocess, 82.0ms inference, 0.6ms postprocess per image at shape (1, 3, 480, 640)\n",
      "\n",
      "0: 480x640 18 cars, 2 buss, 1 truck, 85.6ms\n",
      "Speed: 2.8ms preprocess, 85.6ms inference, 0.8ms postprocess per image at shape (1, 3, 480, 640)\n",
      "\n",
      "0: 480x640 2 licenses, 81.5ms\n",
      "Speed: 3.3ms preprocess, 81.5ms inference, 0.6ms postprocess per image at shape (1, 3, 480, 640)\n",
      "\n",
      "0: 480x640 18 cars, 2 buss, 1 truck, 81.2ms\n",
      "Speed: 2.6ms preprocess, 81.2ms inference, 0.8ms postprocess per image at shape (1, 3, 480, 640)\n",
      "\n",
      "0: 480x640 2 licenses, 75.5ms\n",
      "Speed: 2.4ms preprocess, 75.5ms inference, 0.5ms postprocess per image at shape (1, 3, 480, 640)\n"
     ]
    },
    {
     "name": "stdout",
     "output_type": "stream",
     "text": [
      "Error: results_list is empty or contains tuples without a second element.\n"
     ]
    },
    {
     "name": "stderr",
     "output_type": "stream",
     "text": [
      "\n",
      "0: 480x640 16 cars, 2 buss, 1 truck, 84.8ms\n",
      "Speed: 2.4ms preprocess, 84.8ms inference, 0.8ms postprocess per image at shape (1, 3, 480, 640)\n",
      "\n",
      "0: 480x640 2 licenses, 85.2ms\n",
      "Speed: 3.2ms preprocess, 85.2ms inference, 0.6ms postprocess per image at shape (1, 3, 480, 640)\n"
     ]
    },
    {
     "name": "stdout",
     "output_type": "stream",
     "text": [
      "Error: results_list is empty or contains tuples without a second element.\n"
     ]
    },
    {
     "name": "stderr",
     "output_type": "stream",
     "text": [
      "\n",
      "0: 480x640 16 cars, 2 buss, 1 truck, 80.4ms\n",
      "Speed: 2.4ms preprocess, 80.4ms inference, 0.7ms postprocess per image at shape (1, 3, 480, 640)\n",
      "\n",
      "0: 480x640 2 licenses, 80.4ms\n",
      "Speed: 2.5ms preprocess, 80.4ms inference, 0.9ms postprocess per image at shape (1, 3, 480, 640)\n",
      "\n",
      "0: 480x640 16 cars, 2 buss, 1 truck, 84.1ms\n",
      "Speed: 2.7ms preprocess, 84.1ms inference, 1.5ms postprocess per image at shape (1, 3, 480, 640)\n",
      "\n",
      "0: 480x640 2 licenses, 83.5ms\n",
      "Speed: 3.1ms preprocess, 83.5ms inference, 0.6ms postprocess per image at shape (1, 3, 480, 640)\n"
     ]
    },
    {
     "name": "stdout",
     "output_type": "stream",
     "text": [
      "Error: results_list is empty or contains tuples without a second element.\n"
     ]
    },
    {
     "name": "stderr",
     "output_type": "stream",
     "text": [
      "\n",
      "0: 480x640 16 cars, 2 buss, 1 truck, 84.6ms\n",
      "Speed: 3.1ms preprocess, 84.6ms inference, 0.8ms postprocess per image at shape (1, 3, 480, 640)\n",
      "\n",
      "0: 480x640 2 licenses, 78.8ms\n",
      "Speed: 3.1ms preprocess, 78.8ms inference, 0.6ms postprocess per image at shape (1, 3, 480, 640)\n",
      "\n",
      "0: 480x640 15 cars, 2 buss, 1 truck, 87.5ms\n",
      "Speed: 2.8ms preprocess, 87.5ms inference, 0.8ms postprocess per image at shape (1, 3, 480, 640)\n",
      "\n",
      "0: 480x640 2 licenses, 102.2ms\n",
      "Speed: 2.7ms preprocess, 102.2ms inference, 0.8ms postprocess per image at shape (1, 3, 480, 640)\n",
      "\n",
      "0: 480x640 15 cars, 2 buss, 1 truck, 87.8ms\n",
      "Speed: 2.5ms preprocess, 87.8ms inference, 0.8ms postprocess per image at shape (1, 3, 480, 640)\n",
      "\n",
      "0: 480x640 2 licenses, 80.4ms\n",
      "Speed: 3.5ms preprocess, 80.4ms inference, 0.6ms postprocess per image at shape (1, 3, 480, 640)\n",
      "\n",
      "0: 480x640 14 cars, 2 buss, 1 truck, 79.0ms\n",
      "Speed: 2.6ms preprocess, 79.0ms inference, 0.9ms postprocess per image at shape (1, 3, 480, 640)\n",
      "\n",
      "0: 480x640 2 licenses, 81.9ms\n",
      "Speed: 3.3ms preprocess, 81.9ms inference, 0.6ms postprocess per image at shape (1, 3, 480, 640)\n"
     ]
    },
    {
     "name": "stdout",
     "output_type": "stream",
     "text": [
      "Error: results_list is empty or contains tuples without a second element.\n"
     ]
    },
    {
     "name": "stderr",
     "output_type": "stream",
     "text": [
      "\n",
      "0: 480x640 14 cars, 2 buss, 1 truck, 85.9ms\n",
      "Speed: 2.3ms preprocess, 85.9ms inference, 1.2ms postprocess per image at shape (1, 3, 480, 640)\n",
      "\n",
      "0: 480x640 2 licenses, 85.6ms\n",
      "Speed: 2.9ms preprocess, 85.6ms inference, 1.1ms postprocess per image at shape (1, 3, 480, 640)\n",
      "\n",
      "0: 480x640 14 cars, 1 bus, 3 trucks, 86.3ms\n",
      "Speed: 2.5ms preprocess, 86.3ms inference, 0.9ms postprocess per image at shape (1, 3, 480, 640)\n",
      "\n",
      "0: 480x640 2 licenses, 81.5ms\n",
      "Speed: 3.2ms preprocess, 81.5ms inference, 1.1ms postprocess per image at shape (1, 3, 480, 640)\n",
      "\n",
      "0: 480x640 14 cars, 1 bus, 3 trucks, 80.3ms\n",
      "Speed: 2.4ms preprocess, 80.3ms inference, 0.8ms postprocess per image at shape (1, 3, 480, 640)\n",
      "\n",
      "0: 480x640 2 licenses, 74.2ms\n",
      "Speed: 3.0ms preprocess, 74.2ms inference, 0.5ms postprocess per image at shape (1, 3, 480, 640)\n"
     ]
    },
    {
     "name": "stdout",
     "output_type": "stream",
     "text": [
      "Error: results_list is empty or contains tuples without a second element.\n"
     ]
    },
    {
     "name": "stderr",
     "output_type": "stream",
     "text": [
      "\n",
      "0: 480x640 14 cars, 2 buss, 3 trucks, 79.9ms\n",
      "Speed: 3.6ms preprocess, 79.9ms inference, 0.8ms postprocess per image at shape (1, 3, 480, 640)\n",
      "\n",
      "0: 480x640 2 licenses, 84.1ms\n",
      "Speed: 3.0ms preprocess, 84.1ms inference, 0.6ms postprocess per image at shape (1, 3, 480, 640)\n",
      "\n",
      "0: 480x640 14 cars, 2 buss, 3 trucks, 80.2ms\n",
      "Speed: 2.5ms preprocess, 80.2ms inference, 0.7ms postprocess per image at shape (1, 3, 480, 640)\n",
      "\n",
      "0: 480x640 2 licenses, 80.0ms\n",
      "Speed: 2.9ms preprocess, 80.0ms inference, 0.6ms postprocess per image at shape (1, 3, 480, 640)\n",
      "\n",
      "0: 480x640 14 cars, 2 buss, 2 trucks, 77.9ms\n",
      "Speed: 2.5ms preprocess, 77.9ms inference, 0.7ms postprocess per image at shape (1, 3, 480, 640)\n",
      "\n",
      "0: 480x640 2 licenses, 79.0ms\n",
      "Speed: 2.7ms preprocess, 79.0ms inference, 0.6ms postprocess per image at shape (1, 3, 480, 640)\n",
      "\n",
      "0: 480x640 14 cars, 2 buss, 2 trucks, 79.3ms\n",
      "Speed: 2.5ms preprocess, 79.3ms inference, 0.7ms postprocess per image at shape (1, 3, 480, 640)\n",
      "\n",
      "0: 480x640 2 licenses, 80.9ms\n",
      "Speed: 3.0ms preprocess, 80.9ms inference, 1.3ms postprocess per image at shape (1, 3, 480, 640)\n",
      "\n",
      "0: 480x640 14 cars, 2 buss, 2 trucks, 80.7ms\n",
      "Speed: 2.5ms preprocess, 80.7ms inference, 0.8ms postprocess per image at shape (1, 3, 480, 640)\n",
      "\n",
      "0: 480x640 2 licenses, 81.3ms\n",
      "Speed: 3.1ms preprocess, 81.3ms inference, 0.6ms postprocess per image at shape (1, 3, 480, 640)\n",
      "\n",
      "0: 480x640 14 cars, 2 buss, 2 trucks, 81.2ms\n",
      "Speed: 2.6ms preprocess, 81.2ms inference, 0.7ms postprocess per image at shape (1, 3, 480, 640)\n",
      "\n",
      "0: 480x640 2 licenses, 83.4ms\n",
      "Speed: 3.0ms preprocess, 83.4ms inference, 0.6ms postprocess per image at shape (1, 3, 480, 640)\n",
      "\n",
      "0: 480x640 14 cars, 2 buss, 2 trucks, 79.7ms\n",
      "Speed: 2.4ms preprocess, 79.7ms inference, 0.7ms postprocess per image at shape (1, 3, 480, 640)\n",
      "\n",
      "0: 480x640 2 licenses, 81.4ms\n",
      "Speed: 3.2ms preprocess, 81.4ms inference, 0.6ms postprocess per image at shape (1, 3, 480, 640)\n",
      "\n",
      "0: 480x640 14 cars, 2 buss, 2 trucks, 82.9ms\n",
      "Speed: 2.4ms preprocess, 82.9ms inference, 0.8ms postprocess per image at shape (1, 3, 480, 640)\n",
      "\n",
      "0: 480x640 2 licenses, 100.1ms\n",
      "Speed: 3.1ms preprocess, 100.1ms inference, 0.6ms postprocess per image at shape (1, 3, 480, 640)\n",
      "\n",
      "0: 480x640 14 cars, 2 buss, 3 trucks, 79.4ms\n",
      "Speed: 2.4ms preprocess, 79.4ms inference, 0.8ms postprocess per image at shape (1, 3, 480, 640)\n",
      "\n",
      "0: 480x640 2 licenses, 76.8ms\n",
      "Speed: 2.6ms preprocess, 76.8ms inference, 0.5ms postprocess per image at shape (1, 3, 480, 640)\n",
      "\n",
      "0: 480x640 14 cars, 2 buss, 3 trucks, 77.2ms\n",
      "Speed: 2.4ms preprocess, 77.2ms inference, 0.8ms postprocess per image at shape (1, 3, 480, 640)\n",
      "\n",
      "0: 480x640 2 licenses, 79.1ms\n",
      "Speed: 3.5ms preprocess, 79.1ms inference, 1.1ms postprocess per image at shape (1, 3, 480, 640)\n"
     ]
    },
    {
     "name": "stdout",
     "output_type": "stream",
     "text": [
      "Error: results_list is empty or contains tuples without a second element.\n"
     ]
    },
    {
     "name": "stderr",
     "output_type": "stream",
     "text": [
      "\n",
      "0: 480x640 13 cars, 2 buss, 3 trucks, 83.7ms\n",
      "Speed: 2.7ms preprocess, 83.7ms inference, 0.8ms postprocess per image at shape (1, 3, 480, 640)\n",
      "\n",
      "0: 480x640 2 licenses, 79.4ms\n",
      "Speed: 3.0ms preprocess, 79.4ms inference, 0.7ms postprocess per image at shape (1, 3, 480, 640)\n"
     ]
    },
    {
     "name": "stdout",
     "output_type": "stream",
     "text": [
      "Error: results_list is empty or contains tuples without a second element.\n"
     ]
    },
    {
     "name": "stderr",
     "output_type": "stream",
     "text": [
      "\n",
      "0: 480x640 13 cars, 2 buss, 3 trucks, 82.3ms\n",
      "Speed: 2.5ms preprocess, 82.3ms inference, 0.8ms postprocess per image at shape (1, 3, 480, 640)\n",
      "\n",
      "0: 480x640 2 licenses, 81.9ms\n",
      "Speed: 3.1ms preprocess, 81.9ms inference, 0.6ms postprocess per image at shape (1, 3, 480, 640)\n",
      "\n",
      "0: 480x640 13 cars, 2 buss, 3 trucks, 79.2ms\n",
      "Speed: 2.5ms preprocess, 79.2ms inference, 0.8ms postprocess per image at shape (1, 3, 480, 640)\n",
      "\n",
      "0: 480x640 2 licenses, 80.6ms\n",
      "Speed: 2.9ms preprocess, 80.6ms inference, 0.6ms postprocess per image at shape (1, 3, 480, 640)\n",
      "\n",
      "0: 480x640 13 cars, 2 buss, 3 trucks, 79.5ms\n",
      "Speed: 2.4ms preprocess, 79.5ms inference, 0.7ms postprocess per image at shape (1, 3, 480, 640)\n",
      "\n",
      "0: 480x640 2 licenses, 78.5ms\n",
      "Speed: 2.9ms preprocess, 78.5ms inference, 0.6ms postprocess per image at shape (1, 3, 480, 640)\n",
      "\n",
      "0: 480x640 15 cars, 2 trucks, 88.4ms\n",
      "Speed: 2.5ms preprocess, 88.4ms inference, 0.9ms postprocess per image at shape (1, 3, 480, 640)\n",
      "\n",
      "0: 480x640 2 licenses, 88.5ms\n",
      "Speed: 3.3ms preprocess, 88.5ms inference, 0.7ms postprocess per image at shape (1, 3, 480, 640)\n",
      "\n",
      "0: 480x640 15 cars, 2 trucks, 80.4ms\n",
      "Speed: 2.5ms preprocess, 80.4ms inference, 1.1ms postprocess per image at shape (1, 3, 480, 640)\n",
      "\n",
      "0: 480x640 2 licenses, 79.1ms\n",
      "Speed: 2.6ms preprocess, 79.1ms inference, 0.6ms postprocess per image at shape (1, 3, 480, 640)\n"
     ]
    },
    {
     "name": "stdout",
     "output_type": "stream",
     "text": [
      "Error: results_list is empty or contains tuples without a second element.\n"
     ]
    },
    {
     "name": "stderr",
     "output_type": "stream",
     "text": [
      "\n",
      "0: 480x640 16 cars, 1 bus, 2 trucks, 82.7ms\n",
      "Speed: 2.7ms preprocess, 82.7ms inference, 0.8ms postprocess per image at shape (1, 3, 480, 640)\n",
      "\n",
      "0: 480x640 2 licenses, 81.8ms\n",
      "Speed: 3.1ms preprocess, 81.8ms inference, 0.6ms postprocess per image at shape (1, 3, 480, 640)\n",
      "\n",
      "0: 480x640 17 cars, 1 bus, 2 trucks, 79.0ms\n",
      "Speed: 2.6ms preprocess, 79.0ms inference, 1.2ms postprocess per image at shape (1, 3, 480, 640)\n",
      "\n",
      "0: 480x640 2 licenses, 82.2ms\n",
      "Speed: 2.5ms preprocess, 82.2ms inference, 0.6ms postprocess per image at shape (1, 3, 480, 640)\n",
      "\n",
      "0: 480x640 14 cars, 1 bus, 2 trucks, 80.7ms\n",
      "Speed: 2.5ms preprocess, 80.7ms inference, 0.7ms postprocess per image at shape (1, 3, 480, 640)\n",
      "\n",
      "0: 480x640 2 licenses, 82.6ms\n",
      "Speed: 3.0ms preprocess, 82.6ms inference, 0.6ms postprocess per image at shape (1, 3, 480, 640)\n",
      "\n",
      "0: 480x640 14 cars, 1 bus, 2 trucks, 82.4ms\n",
      "Speed: 2.4ms preprocess, 82.4ms inference, 0.8ms postprocess per image at shape (1, 3, 480, 640)\n",
      "\n",
      "0: 480x640 2 licenses, 86.0ms\n",
      "Speed: 2.5ms preprocess, 86.0ms inference, 0.6ms postprocess per image at shape (1, 3, 480, 640)\n",
      "\n",
      "0: 480x640 16 cars, 1 bus, 2 trucks, 83.2ms\n",
      "Speed: 2.4ms preprocess, 83.2ms inference, 0.8ms postprocess per image at shape (1, 3, 480, 640)\n",
      "\n",
      "0: 480x640 2 licenses, 80.7ms\n",
      "Speed: 3.3ms preprocess, 80.7ms inference, 1.1ms postprocess per image at shape (1, 3, 480, 640)\n",
      "\n",
      "0: 480x640 15 cars, 1 bus, 2 trucks, 82.4ms\n",
      "Speed: 2.4ms preprocess, 82.4ms inference, 0.7ms postprocess per image at shape (1, 3, 480, 640)\n",
      "\n",
      "0: 480x640 2 licenses, 78.8ms\n",
      "Speed: 2.3ms preprocess, 78.8ms inference, 0.5ms postprocess per image at shape (1, 3, 480, 640)\n",
      "\n",
      "0: 480x640 16 cars, 1 bus, 2 trucks, 84.1ms\n",
      "Speed: 2.5ms preprocess, 84.1ms inference, 0.7ms postprocess per image at shape (1, 3, 480, 640)\n",
      "\n",
      "0: 480x640 2 licenses, 83.2ms\n",
      "Speed: 2.6ms preprocess, 83.2ms inference, 0.6ms postprocess per image at shape (1, 3, 480, 640)\n",
      "\n",
      "0: 480x640 16 cars, 1 bus, 2 trucks, 80.8ms\n",
      "Speed: 2.5ms preprocess, 80.8ms inference, 0.8ms postprocess per image at shape (1, 3, 480, 640)\n",
      "\n",
      "0: 480x640 2 licenses, 76.6ms\n",
      "Speed: 2.5ms preprocess, 76.6ms inference, 0.5ms postprocess per image at shape (1, 3, 480, 640)\n"
     ]
    },
    {
     "name": "stdout",
     "output_type": "stream",
     "text": [
      "Error: results_list is empty or contains tuples without a second element.\n"
     ]
    },
    {
     "name": "stderr",
     "output_type": "stream",
     "text": [
      "\n",
      "0: 480x640 16 cars, 1 bus, 2 trucks, 81.9ms\n",
      "Speed: 2.5ms preprocess, 81.9ms inference, 0.7ms postprocess per image at shape (1, 3, 480, 640)\n",
      "\n",
      "0: 480x640 2 licenses, 81.7ms\n",
      "Speed: 2.5ms preprocess, 81.7ms inference, 0.6ms postprocess per image at shape (1, 3, 480, 640)\n"
     ]
    },
    {
     "name": "stdout",
     "output_type": "stream",
     "text": [
      "Error: results_list is empty or contains tuples without a second element.\n"
     ]
    },
    {
     "name": "stderr",
     "output_type": "stream",
     "text": [
      "\n",
      "0: 480x640 16 cars, 1 bus, 2 trucks, 79.1ms\n",
      "Speed: 2.4ms preprocess, 79.1ms inference, 0.8ms postprocess per image at shape (1, 3, 480, 640)\n",
      "\n",
      "0: 480x640 2 licenses, 85.1ms\n",
      "Speed: 3.1ms preprocess, 85.1ms inference, 0.6ms postprocess per image at shape (1, 3, 480, 640)\n",
      "\n",
      "0: 480x640 17 cars, 1 bus, 2 trucks, 81.6ms\n",
      "Speed: 2.5ms preprocess, 81.6ms inference, 0.8ms postprocess per image at shape (1, 3, 480, 640)\n",
      "\n",
      "0: 480x640 2 licenses, 82.2ms\n",
      "Speed: 3.1ms preprocess, 82.2ms inference, 0.6ms postprocess per image at shape (1, 3, 480, 640)\n",
      "\n",
      "0: 480x640 17 cars, 1 bus, 2 trucks, 76.0ms\n",
      "Speed: 2.4ms preprocess, 76.0ms inference, 0.7ms postprocess per image at shape (1, 3, 480, 640)\n",
      "\n",
      "0: 480x640 2 licenses, 85.8ms\n",
      "Speed: 2.9ms preprocess, 85.8ms inference, 0.6ms postprocess per image at shape (1, 3, 480, 640)\n",
      "\n",
      "0: 480x640 16 cars, 1 bus, 2 trucks, 82.3ms\n",
      "Speed: 2.7ms preprocess, 82.3ms inference, 0.7ms postprocess per image at shape (1, 3, 480, 640)\n",
      "\n",
      "0: 480x640 2 licenses, 78.3ms\n",
      "Speed: 2.4ms preprocess, 78.3ms inference, 0.6ms postprocess per image at shape (1, 3, 480, 640)\n",
      "\n",
      "0: 480x640 16 cars, 1 bus, 2 trucks, 78.3ms\n",
      "Speed: 2.4ms preprocess, 78.3ms inference, 0.8ms postprocess per image at shape (1, 3, 480, 640)\n",
      "\n",
      "0: 480x640 2 licenses, 81.3ms\n",
      "Speed: 2.2ms preprocess, 81.3ms inference, 0.7ms postprocess per image at shape (1, 3, 480, 640)\n",
      "\n",
      "0: 480x640 16 cars, 1 bus, 2 trucks, 89.1ms\n",
      "Speed: 2.6ms preprocess, 89.1ms inference, 1.6ms postprocess per image at shape (1, 3, 480, 640)\n",
      "\n",
      "0: 480x640 2 licenses, 99.9ms\n",
      "Speed: 3.7ms preprocess, 99.9ms inference, 0.6ms postprocess per image at shape (1, 3, 480, 640)\n",
      "\n",
      "0: 480x640 16 cars, 1 bus, 3 trucks, 79.6ms\n",
      "Speed: 2.5ms preprocess, 79.6ms inference, 0.8ms postprocess per image at shape (1, 3, 480, 640)\n",
      "\n",
      "0: 480x640 2 licenses, 83.4ms\n",
      "Speed: 2.5ms preprocess, 83.4ms inference, 0.9ms postprocess per image at shape (1, 3, 480, 640)\n",
      "\n",
      "0: 480x640 16 cars, 2 trucks, 80.7ms\n",
      "Speed: 2.4ms preprocess, 80.7ms inference, 0.7ms postprocess per image at shape (1, 3, 480, 640)\n",
      "\n",
      "0: 480x640 2 licenses, 81.1ms\n",
      "Speed: 3.0ms preprocess, 81.1ms inference, 1.2ms postprocess per image at shape (1, 3, 480, 640)\n",
      "\n",
      "0: 480x640 16 cars, 2 trucks, 79.9ms\n",
      "Speed: 2.4ms preprocess, 79.9ms inference, 1.1ms postprocess per image at shape (1, 3, 480, 640)\n",
      "\n",
      "0: 480x640 2 licenses, 85.8ms\n",
      "Speed: 3.1ms preprocess, 85.8ms inference, 0.6ms postprocess per image at shape (1, 3, 480, 640)\n",
      "\n",
      "0: 480x640 17 cars, 1 bus, 2 trucks, 87.5ms\n",
      "Speed: 3.4ms preprocess, 87.5ms inference, 0.9ms postprocess per image at shape (1, 3, 480, 640)\n",
      "\n",
      "0: 480x640 2 licenses, 92.7ms\n",
      "Speed: 3.1ms preprocess, 92.7ms inference, 0.8ms postprocess per image at shape (1, 3, 480, 640)\n",
      "\n",
      "0: 480x640 17 cars, 1 bus, 2 trucks, 78.7ms\n",
      "Speed: 2.6ms preprocess, 78.7ms inference, 0.7ms postprocess per image at shape (1, 3, 480, 640)\n",
      "\n",
      "0: 480x640 2 licenses, 77.2ms\n",
      "Speed: 3.1ms preprocess, 77.2ms inference, 0.6ms postprocess per image at shape (1, 3, 480, 640)\n",
      "\n",
      "0: 480x640 17 cars, 3 trucks, 79.4ms\n",
      "Speed: 2.4ms preprocess, 79.4ms inference, 1.1ms postprocess per image at shape (1, 3, 480, 640)\n",
      "\n",
      "0: 480x640 2 licenses, 83.4ms\n",
      "Speed: 3.1ms preprocess, 83.4ms inference, 0.6ms postprocess per image at shape (1, 3, 480, 640)\n",
      "\n",
      "0: 480x640 17 cars, 3 trucks, 82.4ms\n",
      "Speed: 2.4ms preprocess, 82.4ms inference, 0.8ms postprocess per image at shape (1, 3, 480, 640)\n",
      "\n",
      "0: 480x640 2 licenses, 86.1ms\n",
      "Speed: 2.4ms preprocess, 86.1ms inference, 0.6ms postprocess per image at shape (1, 3, 480, 640)\n",
      "\n",
      "0: 480x640 17 cars, 2 trucks, 79.5ms\n",
      "Speed: 2.5ms preprocess, 79.5ms inference, 0.8ms postprocess per image at shape (1, 3, 480, 640)\n",
      "\n",
      "0: 480x640 2 licenses, 81.5ms\n",
      "Speed: 3.0ms preprocess, 81.5ms inference, 0.6ms postprocess per image at shape (1, 3, 480, 640)\n",
      "\n",
      "0: 480x640 17 cars, 2 trucks, 81.8ms\n",
      "Speed: 2.6ms preprocess, 81.8ms inference, 1.5ms postprocess per image at shape (1, 3, 480, 640)\n",
      "\n",
      "0: 480x640 2 licenses, 83.3ms\n",
      "Speed: 2.8ms preprocess, 83.3ms inference, 0.6ms postprocess per image at shape (1, 3, 480, 640)\n",
      "\n",
      "0: 480x640 16 cars, 2 trucks, 79.5ms\n",
      "Speed: 2.5ms preprocess, 79.5ms inference, 0.8ms postprocess per image at shape (1, 3, 480, 640)\n",
      "\n",
      "0: 480x640 2 licenses, 78.9ms\n",
      "Speed: 2.9ms preprocess, 78.9ms inference, 0.7ms postprocess per image at shape (1, 3, 480, 640)\n",
      "\n",
      "0: 480x640 16 cars, 2 trucks, 81.6ms\n",
      "Speed: 2.3ms preprocess, 81.6ms inference, 0.8ms postprocess per image at shape (1, 3, 480, 640)\n",
      "\n",
      "0: 480x640 2 licenses, 83.1ms\n",
      "Speed: 2.8ms preprocess, 83.1ms inference, 0.6ms postprocess per image at shape (1, 3, 480, 640)\n",
      "\n",
      "0: 480x640 16 cars, 1 bus, 2 trucks, 78.4ms\n",
      "Speed: 2.4ms preprocess, 78.4ms inference, 0.8ms postprocess per image at shape (1, 3, 480, 640)\n",
      "\n",
      "0: 480x640 2 licenses, 83.2ms\n",
      "Speed: 3.4ms preprocess, 83.2ms inference, 0.6ms postprocess per image at shape (1, 3, 480, 640)\n",
      "\n",
      "0: 480x640 17 cars, 2 trucks, 77.4ms\n",
      "Speed: 2.5ms preprocess, 77.4ms inference, 0.7ms postprocess per image at shape (1, 3, 480, 640)\n",
      "\n",
      "0: 480x640 2 licenses, 78.8ms\n",
      "Speed: 3.3ms preprocess, 78.8ms inference, 0.6ms postprocess per image at shape (1, 3, 480, 640)\n",
      "\n",
      "0: 480x640 16 cars, 2 trucks, 79.9ms\n",
      "Speed: 2.4ms preprocess, 79.9ms inference, 0.7ms postprocess per image at shape (1, 3, 480, 640)\n",
      "\n",
      "0: 480x640 2 licenses, 83.6ms\n",
      "Speed: 3.1ms preprocess, 83.6ms inference, 0.6ms postprocess per image at shape (1, 3, 480, 640)\n",
      "\n",
      "0: 480x640 16 cars, 2 trucks, 78.6ms\n",
      "Speed: 2.5ms preprocess, 78.6ms inference, 0.7ms postprocess per image at shape (1, 3, 480, 640)\n",
      "\n",
      "0: 480x640 2 licenses, 80.0ms\n",
      "Speed: 2.9ms preprocess, 80.0ms inference, 0.6ms postprocess per image at shape (1, 3, 480, 640)\n",
      "\n",
      "0: 480x640 16 cars, 2 trucks, 83.1ms\n",
      "Speed: 2.5ms preprocess, 83.1ms inference, 0.8ms postprocess per image at shape (1, 3, 480, 640)\n",
      "\n",
      "0: 480x640 2 licenses, 82.4ms\n",
      "Speed: 3.1ms preprocess, 82.4ms inference, 0.6ms postprocess per image at shape (1, 3, 480, 640)\n",
      "\n",
      "0: 480x640 16 cars, 2 trucks, 79.4ms\n",
      "Speed: 2.5ms preprocess, 79.4ms inference, 0.8ms postprocess per image at shape (1, 3, 480, 640)\n",
      "\n",
      "0: 480x640 2 licenses, 84.0ms\n",
      "Speed: 2.5ms preprocess, 84.0ms inference, 0.6ms postprocess per image at shape (1, 3, 480, 640)\n",
      "\n",
      "0: 480x640 15 cars, 2 trucks, 79.2ms\n",
      "Speed: 2.5ms preprocess, 79.2ms inference, 1.1ms postprocess per image at shape (1, 3, 480, 640)\n",
      "\n",
      "0: 480x640 2 licenses, 82.4ms\n",
      "Speed: 2.9ms preprocess, 82.4ms inference, 0.6ms postprocess per image at shape (1, 3, 480, 640)\n",
      "\n",
      "0: 480x640 15 cars, 2 trucks, 80.1ms\n",
      "Speed: 2.5ms preprocess, 80.1ms inference, 0.7ms postprocess per image at shape (1, 3, 480, 640)\n",
      "\n",
      "0: 480x640 2 licenses, 84.6ms\n",
      "Speed: 2.5ms preprocess, 84.6ms inference, 0.6ms postprocess per image at shape (1, 3, 480, 640)\n",
      "\n",
      "0: 480x640 15 cars, 2 buss, 2 trucks, 78.9ms\n",
      "Speed: 3.4ms preprocess, 78.9ms inference, 0.8ms postprocess per image at shape (1, 3, 480, 640)\n",
      "\n",
      "0: 480x640 2 licenses, 90.0ms\n",
      "Speed: 3.5ms preprocess, 90.0ms inference, 0.6ms postprocess per image at shape (1, 3, 480, 640)\n",
      "\n",
      "0: 480x640 15 cars, 1 bus, 2 trucks, 80.0ms\n",
      "Speed: 2.5ms preprocess, 80.0ms inference, 0.8ms postprocess per image at shape (1, 3, 480, 640)\n",
      "\n",
      "0: 480x640 2 licenses, 76.1ms\n",
      "Speed: 2.9ms preprocess, 76.1ms inference, 0.5ms postprocess per image at shape (1, 3, 480, 640)\n",
      "\n",
      "0: 480x640 14 cars, 1 bus, 2 trucks, 78.2ms\n",
      "Speed: 2.4ms preprocess, 78.2ms inference, 1.3ms postprocess per image at shape (1, 3, 480, 640)\n",
      "\n",
      "0: 480x640 2 licenses, 84.2ms\n",
      "Speed: 2.5ms preprocess, 84.2ms inference, 0.6ms postprocess per image at shape (1, 3, 480, 640)\n",
      "\n",
      "0: 480x640 14 cars, 1 bus, 2 trucks, 80.4ms\n",
      "Speed: 2.4ms preprocess, 80.4ms inference, 1.0ms postprocess per image at shape (1, 3, 480, 640)\n",
      "\n",
      "0: 480x640 2 licenses, 86.5ms\n",
      "Speed: 2.2ms preprocess, 86.5ms inference, 0.6ms postprocess per image at shape (1, 3, 480, 640)\n",
      "\n",
      "0: 480x640 14 cars, 2 buss, 2 trucks, 77.7ms\n",
      "Speed: 2.4ms preprocess, 77.7ms inference, 0.7ms postprocess per image at shape (1, 3, 480, 640)\n",
      "\n",
      "0: 480x640 2 licenses, 80.6ms\n",
      "Speed: 2.5ms preprocess, 80.6ms inference, 0.6ms postprocess per image at shape (1, 3, 480, 640)\n",
      "\n",
      "0: 480x640 14 cars, 1 bus, 2 trucks, 79.4ms\n",
      "Speed: 2.5ms preprocess, 79.4ms inference, 0.8ms postprocess per image at shape (1, 3, 480, 640)\n",
      "\n",
      "0: 480x640 2 licenses, 81.2ms\n",
      "Speed: 3.4ms preprocess, 81.2ms inference, 0.6ms postprocess per image at shape (1, 3, 480, 640)\n",
      "\n",
      "0: 480x640 14 cars, 3 buss, 2 trucks, 81.6ms\n",
      "Speed: 2.7ms preprocess, 81.6ms inference, 0.9ms postprocess per image at shape (1, 3, 480, 640)\n",
      "\n",
      "0: 480x640 2 licenses, 86.9ms\n",
      "Speed: 3.3ms preprocess, 86.9ms inference, 0.7ms postprocess per image at shape (1, 3, 480, 640)\n",
      "\n",
      "0: 480x640 14 cars, 3 buss, 2 trucks, 78.3ms\n",
      "Speed: 2.5ms preprocess, 78.3ms inference, 1.0ms postprocess per image at shape (1, 3, 480, 640)\n",
      "\n",
      "0: 480x640 2 licenses, 76.2ms\n",
      "Speed: 2.4ms preprocess, 76.2ms inference, 1.1ms postprocess per image at shape (1, 3, 480, 640)\n",
      "\n",
      "0: 480x640 14 cars, 3 buss, 2 trucks, 81.4ms\n",
      "Speed: 2.4ms preprocess, 81.4ms inference, 0.7ms postprocess per image at shape (1, 3, 480, 640)\n",
      "\n",
      "0: 480x640 2 licenses, 84.3ms\n",
      "Speed: 2.4ms preprocess, 84.3ms inference, 0.6ms postprocess per image at shape (1, 3, 480, 640)\n",
      "\n",
      "0: 480x640 14 cars, 3 buss, 2 trucks, 78.4ms\n",
      "Speed: 2.4ms preprocess, 78.4ms inference, 0.8ms postprocess per image at shape (1, 3, 480, 640)\n",
      "\n",
      "0: 480x640 2 licenses, 80.7ms\n",
      "Speed: 2.9ms preprocess, 80.7ms inference, 0.6ms postprocess per image at shape (1, 3, 480, 640)\n",
      "\n",
      "0: 480x640 15 cars, 3 buss, 2 trucks, 78.6ms\n",
      "Speed: 2.5ms preprocess, 78.6ms inference, 0.8ms postprocess per image at shape (1, 3, 480, 640)\n",
      "\n",
      "0: 480x640 2 licenses, 82.8ms\n",
      "Speed: 2.8ms preprocess, 82.8ms inference, 0.6ms postprocess per image at shape (1, 3, 480, 640)\n",
      "\n",
      "0: 480x640 15 cars, 3 buss, 2 trucks, 80.2ms\n",
      "Speed: 2.4ms preprocess, 80.2ms inference, 0.7ms postprocess per image at shape (1, 3, 480, 640)\n",
      "\n",
      "0: 480x640 2 licenses, 132.8ms\n",
      "Speed: 2.5ms preprocess, 132.8ms inference, 0.8ms postprocess per image at shape (1, 3, 480, 640)\n",
      "\n",
      "0: 480x640 16 cars, 2 buss, 2 trucks, 79.4ms\n",
      "Speed: 2.7ms preprocess, 79.4ms inference, 0.7ms postprocess per image at shape (1, 3, 480, 640)\n",
      "\n",
      "0: 480x640 2 licenses, 77.6ms\n",
      "Speed: 2.2ms preprocess, 77.6ms inference, 0.5ms postprocess per image at shape (1, 3, 480, 640)\n",
      "\n",
      "0: 480x640 16 cars, 2 buss, 2 trucks, 81.1ms\n",
      "Speed: 2.4ms preprocess, 81.1ms inference, 0.8ms postprocess per image at shape (1, 3, 480, 640)\n",
      "\n",
      "0: 480x640 2 licenses, 86.0ms\n",
      "Speed: 2.9ms preprocess, 86.0ms inference, 0.6ms postprocess per image at shape (1, 3, 480, 640)\n",
      "\n",
      "0: 480x640 14 cars, 2 buss, 2 trucks, 76.8ms\n",
      "Speed: 2.6ms preprocess, 76.8ms inference, 0.8ms postprocess per image at shape (1, 3, 480, 640)\n",
      "\n",
      "0: 480x640 3 licenses, 85.7ms\n",
      "Speed: 2.5ms preprocess, 85.7ms inference, 0.6ms postprocess per image at shape (1, 3, 480, 640)\n",
      "\n",
      "0: 480x640 14 cars, 2 buss, 2 trucks, 83.7ms\n",
      "Speed: 2.5ms preprocess, 83.7ms inference, 0.8ms postprocess per image at shape (1, 3, 480, 640)\n",
      "\n",
      "0: 480x640 3 licenses, 95.1ms\n",
      "Speed: 3.2ms preprocess, 95.1ms inference, 0.9ms postprocess per image at shape (1, 3, 480, 640)\n",
      "\n",
      "0: 480x640 16 cars, 2 buss, 2 trucks, 79.5ms\n",
      "Speed: 2.3ms preprocess, 79.5ms inference, 0.9ms postprocess per image at shape (1, 3, 480, 640)\n",
      "\n",
      "0: 480x640 2 licenses, 83.5ms\n",
      "Speed: 2.7ms preprocess, 83.5ms inference, 0.7ms postprocess per image at shape (1, 3, 480, 640)\n",
      "\n",
      "0: 480x640 16 cars, 2 buss, 2 trucks, 80.8ms\n",
      "Speed: 2.5ms preprocess, 80.8ms inference, 0.7ms postprocess per image at shape (1, 3, 480, 640)\n",
      "\n",
      "0: 480x640 2 licenses, 77.5ms\n",
      "Speed: 2.4ms preprocess, 77.5ms inference, 0.5ms postprocess per image at shape (1, 3, 480, 640)\n",
      "\n",
      "0: 480x640 13 cars, 2 buss, 2 trucks, 83.3ms\n",
      "Speed: 2.8ms preprocess, 83.3ms inference, 0.7ms postprocess per image at shape (1, 3, 480, 640)\n",
      "\n",
      "0: 480x640 2 licenses, 79.9ms\n",
      "Speed: 3.0ms preprocess, 79.9ms inference, 1.2ms postprocess per image at shape (1, 3, 480, 640)\n",
      "\n",
      "0: 480x640 13 cars, 2 buss, 2 trucks, 79.1ms\n",
      "Speed: 2.5ms preprocess, 79.1ms inference, 0.7ms postprocess per image at shape (1, 3, 480, 640)\n",
      "\n",
      "0: 480x640 2 licenses, 82.1ms\n",
      "Speed: 3.1ms preprocess, 82.1ms inference, 0.9ms postprocess per image at shape (1, 3, 480, 640)\n",
      "\n",
      "0: 480x640 1 person, 17 cars, 2 buss, 2 trucks, 80.2ms\n",
      "Speed: 2.5ms preprocess, 80.2ms inference, 0.7ms postprocess per image at shape (1, 3, 480, 640)\n",
      "\n",
      "0: 480x640 2 licenses, 82.3ms\n",
      "Speed: 2.6ms preprocess, 82.3ms inference, 0.6ms postprocess per image at shape (1, 3, 480, 640)\n",
      "\n",
      "0: 480x640 1 person, 17 cars, 2 buss, 2 trucks, 77.0ms\n",
      "Speed: 2.5ms preprocess, 77.0ms inference, 0.8ms postprocess per image at shape (1, 3, 480, 640)\n",
      "\n",
      "0: 480x640 2 licenses, 83.3ms\n",
      "Speed: 3.0ms preprocess, 83.3ms inference, 0.6ms postprocess per image at shape (1, 3, 480, 640)\n",
      "\n",
      "0: 480x640 15 cars, 2 buss, 2 trucks, 81.4ms\n",
      "Speed: 2.5ms preprocess, 81.4ms inference, 0.7ms postprocess per image at shape (1, 3, 480, 640)\n",
      "\n",
      "0: 480x640 2 licenses, 82.6ms\n",
      "Speed: 3.1ms preprocess, 82.6ms inference, 0.9ms postprocess per image at shape (1, 3, 480, 640)\n",
      "\n",
      "0: 480x640 15 cars, 2 buss, 2 trucks, 81.1ms\n",
      "Speed: 2.4ms preprocess, 81.1ms inference, 0.9ms postprocess per image at shape (1, 3, 480, 640)\n",
      "\n",
      "0: 480x640 2 licenses, 81.2ms\n",
      "Speed: 2.4ms preprocess, 81.2ms inference, 0.6ms postprocess per image at shape (1, 3, 480, 640)\n",
      "\n",
      "0: 480x640 1 person, 14 cars, 2 buss, 2 trucks, 84.7ms\n",
      "Speed: 2.5ms preprocess, 84.7ms inference, 0.8ms postprocess per image at shape (1, 3, 480, 640)\n",
      "\n",
      "0: 480x640 2 licenses, 85.5ms\n",
      "Speed: 2.4ms preprocess, 85.5ms inference, 0.6ms postprocess per image at shape (1, 3, 480, 640)\n",
      "\n",
      "0: 480x640 1 person, 14 cars, 2 buss, 2 trucks, 85.4ms\n",
      "Speed: 2.8ms preprocess, 85.4ms inference, 1.0ms postprocess per image at shape (1, 3, 480, 640)\n",
      "\n",
      "0: 480x640 2 licenses, 89.4ms\n",
      "Speed: 2.9ms preprocess, 89.4ms inference, 1.5ms postprocess per image at shape (1, 3, 480, 640)\n"
     ]
    },
    {
     "name": "stdout",
     "output_type": "stream",
     "text": [
      "Error: results_list is empty or contains tuples without a second element.\n"
     ]
    },
    {
     "name": "stderr",
     "output_type": "stream",
     "text": [
      "\n",
      "0: 480x640 16 cars, 2 buss, 2 trucks, 82.5ms\n",
      "Speed: 2.6ms preprocess, 82.5ms inference, 0.7ms postprocess per image at shape (1, 3, 480, 640)\n",
      "\n",
      "0: 480x640 2 licenses, 77.3ms\n",
      "Speed: 3.2ms preprocess, 77.3ms inference, 0.5ms postprocess per image at shape (1, 3, 480, 640)\n",
      "\n",
      "0: 480x640 16 cars, 2 buss, 2 trucks, 79.0ms\n",
      "Speed: 2.5ms preprocess, 79.0ms inference, 1.1ms postprocess per image at shape (1, 3, 480, 640)\n",
      "\n",
      "0: 480x640 2 licenses, 77.4ms\n",
      "Speed: 2.4ms preprocess, 77.4ms inference, 0.5ms postprocess per image at shape (1, 3, 480, 640)\n"
     ]
    },
    {
     "name": "stdout",
     "output_type": "stream",
     "text": [
      "Error: results_list is empty or contains tuples without a second element.\n"
     ]
    },
    {
     "name": "stderr",
     "output_type": "stream",
     "text": [
      "\n",
      "0: 480x640 17 cars, 2 buss, 2 trucks, 80.8ms\n",
      "Speed: 2.3ms preprocess, 80.8ms inference, 0.8ms postprocess per image at shape (1, 3, 480, 640)\n",
      "\n",
      "0: 480x640 2 licenses, 82.8ms\n",
      "Speed: 3.1ms preprocess, 82.8ms inference, 0.6ms postprocess per image at shape (1, 3, 480, 640)\n"
     ]
    },
    {
     "name": "stdout",
     "output_type": "stream",
     "text": [
      "Error: results_list is empty or contains tuples without a second element.\n"
     ]
    },
    {
     "name": "stderr",
     "output_type": "stream",
     "text": [
      "\n",
      "0: 480x640 17 cars, 2 buss, 2 trucks, 77.8ms\n",
      "Speed: 2.4ms preprocess, 77.8ms inference, 0.7ms postprocess per image at shape (1, 3, 480, 640)\n",
      "\n",
      "0: 480x640 2 licenses, 78.6ms\n",
      "Speed: 2.9ms preprocess, 78.6ms inference, 0.6ms postprocess per image at shape (1, 3, 480, 640)\n",
      "\n",
      "0: 480x640 16 cars, 2 buss, 2 trucks, 81.9ms\n",
      "Speed: 2.5ms preprocess, 81.9ms inference, 0.8ms postprocess per image at shape (1, 3, 480, 640)\n",
      "\n",
      "0: 480x640 2 licenses, 85.3ms\n",
      "Speed: 2.9ms preprocess, 85.3ms inference, 0.6ms postprocess per image at shape (1, 3, 480, 640)\n",
      "\n",
      "0: 480x640 16 cars, 2 buss, 2 trucks, 75.9ms\n",
      "Speed: 2.4ms preprocess, 75.9ms inference, 0.8ms postprocess per image at shape (1, 3, 480, 640)\n",
      "\n",
      "0: 480x640 2 licenses, 87.7ms\n",
      "Speed: 2.6ms preprocess, 87.7ms inference, 0.7ms postprocess per image at shape (1, 3, 480, 640)\n",
      "\n",
      "0: 480x640 15 cars, 2 buss, 2 trucks, 77.7ms\n",
      "Speed: 2.5ms preprocess, 77.7ms inference, 1.0ms postprocess per image at shape (1, 3, 480, 640)\n",
      "\n",
      "0: 480x640 2 licenses, 81.3ms\n",
      "Speed: 3.1ms preprocess, 81.3ms inference, 0.6ms postprocess per image at shape (1, 3, 480, 640)\n",
      "\n",
      "0: 480x640 16 cars, 2 buss, 2 trucks, 90.6ms\n",
      "Speed: 2.7ms preprocess, 90.6ms inference, 0.8ms postprocess per image at shape (1, 3, 480, 640)\n",
      "\n",
      "0: 480x640 2 licenses, 81.2ms\n",
      "Speed: 2.8ms preprocess, 81.2ms inference, 0.6ms postprocess per image at shape (1, 3, 480, 640)\n",
      "\n",
      "0: 480x640 15 cars, 2 buss, 2 trucks, 80.2ms\n",
      "Speed: 2.5ms preprocess, 80.2ms inference, 0.9ms postprocess per image at shape (1, 3, 480, 640)\n",
      "\n",
      "0: 480x640 2 licenses, 85.3ms\n",
      "Speed: 2.8ms preprocess, 85.3ms inference, 0.6ms postprocess per image at shape (1, 3, 480, 640)\n",
      "\n",
      "0: 480x640 15 cars, 2 buss, 2 trucks, 87.7ms\n",
      "Speed: 2.6ms preprocess, 87.7ms inference, 0.8ms postprocess per image at shape (1, 3, 480, 640)\n",
      "\n",
      "0: 480x640 2 licenses, 81.5ms\n",
      "Speed: 3.3ms preprocess, 81.5ms inference, 0.6ms postprocess per image at shape (1, 3, 480, 640)\n",
      "\n",
      "0: 480x640 16 cars, 2 buss, 2 trucks, 84.1ms\n",
      "Speed: 2.6ms preprocess, 84.1ms inference, 0.8ms postprocess per image at shape (1, 3, 480, 640)\n",
      "\n",
      "0: 480x640 2 licenses, 79.4ms\n",
      "Speed: 3.1ms preprocess, 79.4ms inference, 0.6ms postprocess per image at shape (1, 3, 480, 640)\n",
      "\n",
      "0: 480x640 16 cars, 2 buss, 2 trucks, 80.3ms\n",
      "Speed: 2.3ms preprocess, 80.3ms inference, 0.8ms postprocess per image at shape (1, 3, 480, 640)\n",
      "\n",
      "0: 480x640 2 licenses, 77.4ms\n",
      "Speed: 3.1ms preprocess, 77.4ms inference, 0.6ms postprocess per image at shape (1, 3, 480, 640)\n"
     ]
    },
    {
     "name": "stdout",
     "output_type": "stream",
     "text": [
      "Error: results_list is empty or contains tuples without a second element.\n"
     ]
    },
    {
     "name": "stderr",
     "output_type": "stream",
     "text": [
      "\n",
      "0: 480x640 14 cars, 2 buss, 2 trucks, 82.4ms\n",
      "Speed: 2.4ms preprocess, 82.4ms inference, 0.8ms postprocess per image at shape (1, 3, 480, 640)\n",
      "\n",
      "0: 480x640 2 licenses, 82.5ms\n",
      "Speed: 3.3ms preprocess, 82.5ms inference, 1.1ms postprocess per image at shape (1, 3, 480, 640)\n"
     ]
    },
    {
     "name": "stdout",
     "output_type": "stream",
     "text": [
      "Error: results_list is empty or contains tuples without a second element.\n"
     ]
    },
    {
     "name": "stderr",
     "output_type": "stream",
     "text": [
      "\n",
      "0: 480x640 14 cars, 2 buss, 2 trucks, 80.7ms\n",
      "Speed: 2.4ms preprocess, 80.7ms inference, 0.7ms postprocess per image at shape (1, 3, 480, 640)\n",
      "\n",
      "0: 480x640 2 licenses, 83.2ms\n",
      "Speed: 2.5ms preprocess, 83.2ms inference, 0.6ms postprocess per image at shape (1, 3, 480, 640)\n",
      "\n",
      "0: 480x640 15 cars, 2 buss, 2 trucks, 78.9ms\n",
      "Speed: 2.4ms preprocess, 78.9ms inference, 0.7ms postprocess per image at shape (1, 3, 480, 640)\n",
      "\n",
      "0: 480x640 2 licenses, 76.6ms\n",
      "Speed: 2.4ms preprocess, 76.6ms inference, 0.7ms postprocess per image at shape (1, 3, 480, 640)\n",
      "\n",
      "0: 480x640 15 cars, 2 buss, 2 trucks, 81.2ms\n",
      "Speed: 2.5ms preprocess, 81.2ms inference, 0.8ms postprocess per image at shape (1, 3, 480, 640)\n",
      "\n",
      "0: 480x640 2 licenses, 78.5ms\n",
      "Speed: 2.4ms preprocess, 78.5ms inference, 0.6ms postprocess per image at shape (1, 3, 480, 640)\n",
      "\n",
      "0: 480x640 14 cars, 2 buss, 2 trucks, 85.4ms\n",
      "Speed: 2.5ms preprocess, 85.4ms inference, 0.8ms postprocess per image at shape (1, 3, 480, 640)\n",
      "\n",
      "0: 480x640 2 licenses, 84.6ms\n",
      "Speed: 3.4ms preprocess, 84.6ms inference, 0.6ms postprocess per image at shape (1, 3, 480, 640)\n",
      "\n",
      "0: 480x640 14 cars, 2 buss, 2 trucks, 121.8ms\n",
      "Speed: 2.7ms preprocess, 121.8ms inference, 1.4ms postprocess per image at shape (1, 3, 480, 640)\n",
      "\n",
      "0: 480x640 2 licenses, 102.1ms\n",
      "Speed: 2.7ms preprocess, 102.1ms inference, 1.1ms postprocess per image at shape (1, 3, 480, 640)\n",
      "\n",
      "0: 480x640 14 cars, 3 buss, 2 trucks, 79.9ms\n",
      "Speed: 2.5ms preprocess, 79.9ms inference, 0.8ms postprocess per image at shape (1, 3, 480, 640)\n",
      "\n",
      "0: 480x640 3 licenses, 85.7ms\n",
      "Speed: 3.4ms preprocess, 85.7ms inference, 1.1ms postprocess per image at shape (1, 3, 480, 640)\n",
      "\n",
      "0: 480x640 14 cars, 3 buss, 2 trucks, 86.3ms\n",
      "Speed: 2.4ms preprocess, 86.3ms inference, 0.8ms postprocess per image at shape (1, 3, 480, 640)\n",
      "\n",
      "0: 480x640 3 licenses, 86.1ms\n",
      "Speed: 3.2ms preprocess, 86.1ms inference, 1.3ms postprocess per image at shape (1, 3, 480, 640)\n",
      "\n",
      "0: 480x640 14 cars, 3 buss, 3 trucks, 83.8ms\n",
      "Speed: 2.5ms preprocess, 83.8ms inference, 0.7ms postprocess per image at shape (1, 3, 480, 640)\n",
      "\n",
      "0: 480x640 2 licenses, 75.8ms\n",
      "Speed: 3.2ms preprocess, 75.8ms inference, 0.5ms postprocess per image at shape (1, 3, 480, 640)\n",
      "\n",
      "0: 480x640 14 cars, 3 buss, 3 trucks, 79.6ms\n",
      "Speed: 2.4ms preprocess, 79.6ms inference, 0.8ms postprocess per image at shape (1, 3, 480, 640)\n",
      "\n",
      "0: 480x640 2 licenses, 78.1ms\n",
      "Speed: 3.0ms preprocess, 78.1ms inference, 0.5ms postprocess per image at shape (1, 3, 480, 640)\n",
      "\n",
      "0: 480x640 14 cars, 3 buss, 3 trucks, 82.6ms\n",
      "Speed: 2.6ms preprocess, 82.6ms inference, 0.9ms postprocess per image at shape (1, 3, 480, 640)\n",
      "\n",
      "0: 480x640 2 licenses, 80.5ms\n",
      "Speed: 3.1ms preprocess, 80.5ms inference, 0.7ms postprocess per image at shape (1, 3, 480, 640)\n",
      "\n",
      "0: 480x640 14 cars, 3 buss, 3 trucks, 78.6ms\n",
      "Speed: 2.5ms preprocess, 78.6ms inference, 0.7ms postprocess per image at shape (1, 3, 480, 640)\n",
      "\n",
      "0: 480x640 2 licenses, 78.7ms\n",
      "Speed: 2.5ms preprocess, 78.7ms inference, 0.6ms postprocess per image at shape (1, 3, 480, 640)\n",
      "\n",
      "0: 480x640 14 cars, 3 buss, 3 trucks, 79.9ms\n",
      "Speed: 3.2ms preprocess, 79.9ms inference, 0.7ms postprocess per image at shape (1, 3, 480, 640)\n",
      "\n",
      "0: 480x640 2 licenses, 84.4ms\n",
      "Speed: 2.3ms preprocess, 84.4ms inference, 0.6ms postprocess per image at shape (1, 3, 480, 640)\n",
      "\n",
      "0: 480x640 14 cars, 3 buss, 3 trucks, 80.3ms\n",
      "Speed: 2.3ms preprocess, 80.3ms inference, 0.7ms postprocess per image at shape (1, 3, 480, 640)\n",
      "\n",
      "0: 480x640 2 licenses, 84.7ms\n",
      "Speed: 3.0ms preprocess, 84.7ms inference, 0.6ms postprocess per image at shape (1, 3, 480, 640)\n",
      "\n",
      "0: 480x640 14 cars, 3 buss, 3 trucks, 79.8ms\n",
      "Speed: 2.4ms preprocess, 79.8ms inference, 0.8ms postprocess per image at shape (1, 3, 480, 640)\n",
      "\n",
      "0: 480x640 2 licenses, 83.8ms\n",
      "Speed: 2.6ms preprocess, 83.8ms inference, 0.6ms postprocess per image at shape (1, 3, 480, 640)\n",
      "\n",
      "0: 480x640 14 cars, 3 buss, 3 trucks, 82.9ms\n",
      "Speed: 2.8ms preprocess, 82.9ms inference, 0.7ms postprocess per image at shape (1, 3, 480, 640)\n",
      "\n",
      "0: 480x640 2 licenses, 84.1ms\n",
      "Speed: 2.4ms preprocess, 84.1ms inference, 1.3ms postprocess per image at shape (1, 3, 480, 640)\n",
      "\n",
      "0: 480x640 13 cars, 3 buss, 3 trucks, 127.4ms\n",
      "Speed: 4.0ms preprocess, 127.4ms inference, 1.3ms postprocess per image at shape (1, 3, 480, 640)\n",
      "\n",
      "0: 480x640 2 licenses, 117.1ms\n",
      "Speed: 4.3ms preprocess, 117.1ms inference, 0.7ms postprocess per image at shape (1, 3, 480, 640)\n",
      "\n",
      "0: 480x640 13 cars, 4 buss, 3 trucks, 81.3ms\n",
      "Speed: 2.5ms preprocess, 81.3ms inference, 1.1ms postprocess per image at shape (1, 3, 480, 640)\n",
      "\n",
      "0: 480x640 2 licenses, 90.4ms\n",
      "Speed: 3.2ms preprocess, 90.4ms inference, 0.7ms postprocess per image at shape (1, 3, 480, 640)\n",
      "\n",
      "0: 480x640 12 cars, 4 buss, 3 trucks, 85.9ms\n",
      "Speed: 2.4ms preprocess, 85.9ms inference, 0.8ms postprocess per image at shape (1, 3, 480, 640)\n",
      "\n",
      "0: 480x640 2 licenses, 84.4ms\n",
      "Speed: 3.3ms preprocess, 84.4ms inference, 0.7ms postprocess per image at shape (1, 3, 480, 640)\n",
      "\n",
      "0: 480x640 13 cars, 4 buss, 3 trucks, 85.9ms\n",
      "Speed: 7.8ms preprocess, 85.9ms inference, 0.8ms postprocess per image at shape (1, 3, 480, 640)\n",
      "\n",
      "0: 480x640 2 licenses, 142.6ms\n",
      "Speed: 2.4ms preprocess, 142.6ms inference, 1.2ms postprocess per image at shape (1, 3, 480, 640)\n",
      "\n",
      "0: 480x640 13 cars, 4 buss, 2 trucks, 84.5ms\n",
      "Speed: 2.6ms preprocess, 84.5ms inference, 0.8ms postprocess per image at shape (1, 3, 480, 640)\n",
      "\n",
      "0: 480x640 2 licenses, 83.4ms\n",
      "Speed: 4.1ms preprocess, 83.4ms inference, 0.6ms postprocess per image at shape (1, 3, 480, 640)\n",
      "\n",
      "0: 480x640 13 cars, 4 buss, 2 trucks, 78.9ms\n",
      "Speed: 2.8ms preprocess, 78.9ms inference, 0.7ms postprocess per image at shape (1, 3, 480, 640)\n",
      "\n",
      "0: 480x640 2 licenses, 77.9ms\n",
      "Speed: 3.1ms preprocess, 77.9ms inference, 0.7ms postprocess per image at shape (1, 3, 480, 640)\n",
      "\n",
      "0: 480x640 12 cars, 3 buss, 2 trucks, 80.5ms\n",
      "Speed: 2.4ms preprocess, 80.5ms inference, 0.7ms postprocess per image at shape (1, 3, 480, 640)\n",
      "\n",
      "0: 480x640 2 licenses, 79.8ms\n",
      "Speed: 3.0ms preprocess, 79.8ms inference, 0.6ms postprocess per image at shape (1, 3, 480, 640)\n",
      "\n",
      "0: 480x640 12 cars, 3 buss, 2 trucks, 79.6ms\n",
      "Speed: 2.5ms preprocess, 79.6ms inference, 0.7ms postprocess per image at shape (1, 3, 480, 640)\n",
      "\n",
      "0: 480x640 2 licenses, 79.4ms\n",
      "Speed: 2.9ms preprocess, 79.4ms inference, 0.6ms postprocess per image at shape (1, 3, 480, 640)\n",
      "\n",
      "0: 480x640 14 cars, 3 buss, 2 trucks, 77.8ms\n",
      "Speed: 2.5ms preprocess, 77.8ms inference, 0.8ms postprocess per image at shape (1, 3, 480, 640)\n",
      "\n",
      "0: 480x640 2 licenses, 79.4ms\n",
      "Speed: 2.9ms preprocess, 79.4ms inference, 0.6ms postprocess per image at shape (1, 3, 480, 640)\n",
      "\n",
      "0: 480x640 13 cars, 3 buss, 2 trucks, 76.4ms\n",
      "Speed: 2.8ms preprocess, 76.4ms inference, 1.2ms postprocess per image at shape (1, 3, 480, 640)\n",
      "\n",
      "0: 480x640 2 licenses, 80.5ms\n",
      "Speed: 2.9ms preprocess, 80.5ms inference, 0.6ms postprocess per image at shape (1, 3, 480, 640)\n",
      "\n",
      "0: 480x640 14 cars, 3 buss, 2 trucks, 78.0ms\n",
      "Speed: 2.5ms preprocess, 78.0ms inference, 1.2ms postprocess per image at shape (1, 3, 480, 640)\n",
      "\n",
      "0: 480x640 2 licenses, 80.1ms\n",
      "Speed: 3.1ms preprocess, 80.1ms inference, 0.6ms postprocess per image at shape (1, 3, 480, 640)\n",
      "\n",
      "0: 480x640 13 cars, 3 buss, 2 trucks, 81.5ms\n",
      "Speed: 2.4ms preprocess, 81.5ms inference, 0.8ms postprocess per image at shape (1, 3, 480, 640)\n",
      "\n",
      "0: 480x640 2 licenses, 80.9ms\n",
      "Speed: 3.2ms preprocess, 80.9ms inference, 0.8ms postprocess per image at shape (1, 3, 480, 640)\n",
      "\n",
      "0: 480x640 15 cars, 3 buss, 2 trucks, 76.3ms\n",
      "Speed: 2.4ms preprocess, 76.3ms inference, 0.8ms postprocess per image at shape (1, 3, 480, 640)\n",
      "\n",
      "0: 480x640 2 licenses, 73.8ms\n",
      "Speed: 3.0ms preprocess, 73.8ms inference, 0.5ms postprocess per image at shape (1, 3, 480, 640)\n",
      "\n",
      "0: 480x640 15 cars, 3 buss, 2 trucks, 85.5ms\n",
      "Speed: 2.7ms preprocess, 85.5ms inference, 1.5ms postprocess per image at shape (1, 3, 480, 640)\n",
      "\n",
      "0: 480x640 2 licenses, 93.3ms\n",
      "Speed: 3.7ms preprocess, 93.3ms inference, 0.7ms postprocess per image at shape (1, 3, 480, 640)\n",
      "\n",
      "0: 480x640 13 cars, 3 buss, 2 trucks, 77.6ms\n",
      "Speed: 2.5ms preprocess, 77.6ms inference, 0.7ms postprocess per image at shape (1, 3, 480, 640)\n",
      "\n",
      "0: 480x640 2 licenses, 79.2ms\n",
      "Speed: 3.0ms preprocess, 79.2ms inference, 0.7ms postprocess per image at shape (1, 3, 480, 640)\n",
      "\n",
      "0: 480x640 13 cars, 3 buss, 2 trucks, 84.9ms\n",
      "Speed: 2.8ms preprocess, 84.9ms inference, 0.8ms postprocess per image at shape (1, 3, 480, 640)\n",
      "\n",
      "0: 480x640 2 licenses, 84.5ms\n",
      "Speed: 2.6ms preprocess, 84.5ms inference, 0.6ms postprocess per image at shape (1, 3, 480, 640)\n",
      "\n",
      "0: 480x640 14 cars, 3 buss, 2 trucks, 85.8ms\n",
      "Speed: 2.6ms preprocess, 85.8ms inference, 0.9ms postprocess per image at shape (1, 3, 480, 640)\n",
      "\n",
      "0: 480x640 2 licenses, 96.4ms\n",
      "Speed: 3.4ms preprocess, 96.4ms inference, 0.7ms postprocess per image at shape (1, 3, 480, 640)\n",
      "\n",
      "0: 480x640 14 cars, 3 buss, 2 trucks, 80.2ms\n",
      "Speed: 2.4ms preprocess, 80.2ms inference, 1.4ms postprocess per image at shape (1, 3, 480, 640)\n",
      "\n",
      "0: 480x640 2 licenses, 80.7ms\n",
      "Speed: 2.4ms preprocess, 80.7ms inference, 0.6ms postprocess per image at shape (1, 3, 480, 640)\n",
      "\n",
      "0: 480x640 13 cars, 3 buss, 2 trucks, 84.4ms\n",
      "Speed: 2.4ms preprocess, 84.4ms inference, 1.2ms postprocess per image at shape (1, 3, 480, 640)\n",
      "\n",
      "0: 480x640 2 licenses, 84.9ms\n",
      "Speed: 2.8ms preprocess, 84.9ms inference, 0.6ms postprocess per image at shape (1, 3, 480, 640)\n",
      "\n",
      "0: 480x640 13 cars, 3 buss, 2 trucks, 82.3ms\n",
      "Speed: 2.4ms preprocess, 82.3ms inference, 0.9ms postprocess per image at shape (1, 3, 480, 640)\n",
      "\n",
      "0: 480x640 2 licenses, 79.2ms\n",
      "Speed: 2.8ms preprocess, 79.2ms inference, 0.6ms postprocess per image at shape (1, 3, 480, 640)\n",
      "\n",
      "0: 480x640 13 cars, 3 buss, 2 trucks, 82.4ms\n",
      "Speed: 2.6ms preprocess, 82.4ms inference, 0.8ms postprocess per image at shape (1, 3, 480, 640)\n",
      "\n",
      "0: 480x640 2 licenses, 89.1ms\n",
      "Speed: 2.6ms preprocess, 89.1ms inference, 0.6ms postprocess per image at shape (1, 3, 480, 640)\n",
      "\n",
      "0: 480x640 13 cars, 3 buss, 2 trucks, 85.4ms\n",
      "Speed: 2.7ms preprocess, 85.4ms inference, 0.8ms postprocess per image at shape (1, 3, 480, 640)\n",
      "\n",
      "0: 480x640 2 licenses, 84.9ms\n",
      "Speed: 3.1ms preprocess, 84.9ms inference, 0.6ms postprocess per image at shape (1, 3, 480, 640)\n",
      "\n",
      "0: 480x640 13 cars, 3 buss, 2 trucks, 81.3ms\n",
      "Speed: 2.5ms preprocess, 81.3ms inference, 0.8ms postprocess per image at shape (1, 3, 480, 640)\n",
      "\n",
      "0: 480x640 2 licenses, 85.8ms\n",
      "Speed: 3.6ms preprocess, 85.8ms inference, 0.6ms postprocess per image at shape (1, 3, 480, 640)\n",
      "\n",
      "0: 480x640 13 cars, 3 buss, 2 trucks, 82.5ms\n",
      "Speed: 2.9ms preprocess, 82.5ms inference, 0.8ms postprocess per image at shape (1, 3, 480, 640)\n",
      "\n",
      "0: 480x640 2 licenses, 85.8ms\n",
      "Speed: 2.7ms preprocess, 85.8ms inference, 0.5ms postprocess per image at shape (1, 3, 480, 640)\n",
      "\n",
      "0: 480x640 13 cars, 3 buss, 2 trucks, 86.2ms\n",
      "Speed: 2.4ms preprocess, 86.2ms inference, 0.8ms postprocess per image at shape (1, 3, 480, 640)\n",
      "\n",
      "0: 480x640 1 license, 87.8ms\n",
      "Speed: 3.1ms preprocess, 87.8ms inference, 0.7ms postprocess per image at shape (1, 3, 480, 640)\n",
      "\n",
      "0: 480x640 13 cars, 3 buss, 2 trucks, 79.5ms\n",
      "Speed: 2.3ms preprocess, 79.5ms inference, 0.8ms postprocess per image at shape (1, 3, 480, 640)\n",
      "\n",
      "0: 480x640 1 license, 79.8ms\n",
      "Speed: 2.9ms preprocess, 79.8ms inference, 0.6ms postprocess per image at shape (1, 3, 480, 640)\n",
      "\n",
      "0: 480x640 13 cars, 3 buss, 2 trucks, 82.9ms\n",
      "Speed: 2.5ms preprocess, 82.9ms inference, 0.7ms postprocess per image at shape (1, 3, 480, 640)\n",
      "\n",
      "0: 480x640 1 license, 82.8ms\n",
      "Speed: 3.4ms preprocess, 82.8ms inference, 0.6ms postprocess per image at shape (1, 3, 480, 640)\n",
      "\n",
      "0: 480x640 13 cars, 3 buss, 2 trucks, 90.0ms\n",
      "Speed: 2.5ms preprocess, 90.0ms inference, 0.8ms postprocess per image at shape (1, 3, 480, 640)\n",
      "\n",
      "0: 480x640 1 license, 85.6ms\n",
      "Speed: 3.1ms preprocess, 85.6ms inference, 0.9ms postprocess per image at shape (1, 3, 480, 640)\n",
      "\n",
      "0: 480x640 14 cars, 3 buss, 2 trucks, 88.8ms\n",
      "Speed: 2.6ms preprocess, 88.8ms inference, 0.8ms postprocess per image at shape (1, 3, 480, 640)\n",
      "\n",
      "0: 480x640 1 license, 86.0ms\n",
      "Speed: 3.3ms preprocess, 86.0ms inference, 0.7ms postprocess per image at shape (1, 3, 480, 640)\n",
      "\n",
      "0: 480x640 14 cars, 3 buss, 2 trucks, 78.9ms\n",
      "Speed: 2.5ms preprocess, 78.9ms inference, 0.9ms postprocess per image at shape (1, 3, 480, 640)\n",
      "\n",
      "0: 480x640 1 license, 84.1ms\n",
      "Speed: 2.7ms preprocess, 84.1ms inference, 0.5ms postprocess per image at shape (1, 3, 480, 640)\n",
      "\n",
      "0: 480x640 13 cars, 3 buss, 2 trucks, 87.8ms\n",
      "Speed: 2.4ms preprocess, 87.8ms inference, 0.8ms postprocess per image at shape (1, 3, 480, 640)\n",
      "\n",
      "0: 480x640 1 license, 85.0ms\n",
      "Speed: 2.5ms preprocess, 85.0ms inference, 0.6ms postprocess per image at shape (1, 3, 480, 640)\n",
      "\n",
      "0: 480x640 13 cars, 3 buss, 2 trucks, 82.0ms\n",
      "Speed: 2.5ms preprocess, 82.0ms inference, 0.8ms postprocess per image at shape (1, 3, 480, 640)\n",
      "\n",
      "0: 480x640 1 license, 83.3ms\n",
      "Speed: 3.1ms preprocess, 83.3ms inference, 0.6ms postprocess per image at shape (1, 3, 480, 640)\n",
      "\n",
      "0: 480x640 13 cars, 3 buss, 2 trucks, 86.5ms\n",
      "Speed: 2.8ms preprocess, 86.5ms inference, 0.8ms postprocess per image at shape (1, 3, 480, 640)\n",
      "\n",
      "0: 480x640 1 license, 84.4ms\n",
      "Speed: 3.2ms preprocess, 84.4ms inference, 0.6ms postprocess per image at shape (1, 3, 480, 640)\n",
      "\n",
      "0: 480x640 13 cars, 3 buss, 2 trucks, 83.8ms\n",
      "Speed: 2.4ms preprocess, 83.8ms inference, 0.8ms postprocess per image at shape (1, 3, 480, 640)\n",
      "\n",
      "0: 480x640 1 license, 81.9ms\n",
      "Speed: 3.5ms preprocess, 81.9ms inference, 0.6ms postprocess per image at shape (1, 3, 480, 640)\n",
      "\n",
      "0: 480x640 13 cars, 3 buss, 2 trucks, 86.8ms\n",
      "Speed: 2.5ms preprocess, 86.8ms inference, 1.4ms postprocess per image at shape (1, 3, 480, 640)\n",
      "\n",
      "0: 480x640 1 license, 85.0ms\n",
      "Speed: 3.5ms preprocess, 85.0ms inference, 0.7ms postprocess per image at shape (1, 3, 480, 640)\n",
      "\n",
      "0: 480x640 13 cars, 3 buss, 2 trucks, 82.0ms\n",
      "Speed: 2.5ms preprocess, 82.0ms inference, 0.8ms postprocess per image at shape (1, 3, 480, 640)\n",
      "\n",
      "0: 480x640 1 license, 84.5ms\n",
      "Speed: 2.8ms preprocess, 84.5ms inference, 0.6ms postprocess per image at shape (1, 3, 480, 640)\n",
      "\n",
      "0: 480x640 14 cars, 3 buss, 2 trucks, 83.3ms\n",
      "Speed: 2.6ms preprocess, 83.3ms inference, 1.2ms postprocess per image at shape (1, 3, 480, 640)\n",
      "\n",
      "0: 480x640 1 license, 84.7ms\n",
      "Speed: 3.1ms preprocess, 84.7ms inference, 1.3ms postprocess per image at shape (1, 3, 480, 640)\n",
      "\n",
      "0: 480x640 14 cars, 3 buss, 2 trucks, 86.0ms\n",
      "Speed: 2.4ms preprocess, 86.0ms inference, 0.8ms postprocess per image at shape (1, 3, 480, 640)\n",
      "\n",
      "0: 480x640 1 license, 84.8ms\n",
      "Speed: 2.7ms preprocess, 84.8ms inference, 0.6ms postprocess per image at shape (1, 3, 480, 640)\n",
      "\n",
      "0: 480x640 14 cars, 2 buss, 2 trucks, 87.0ms\n",
      "Speed: 2.7ms preprocess, 87.0ms inference, 0.8ms postprocess per image at shape (1, 3, 480, 640)\n",
      "\n",
      "0: 480x640 1 license, 92.0ms\n",
      "Speed: 3.4ms preprocess, 92.0ms inference, 0.8ms postprocess per image at shape (1, 3, 480, 640)\n",
      "\n",
      "0: 480x640 14 cars, 2 buss, 2 trucks, 81.2ms\n",
      "Speed: 2.5ms preprocess, 81.2ms inference, 1.0ms postprocess per image at shape (1, 3, 480, 640)\n",
      "\n",
      "0: 480x640 1 license, 84.9ms\n",
      "Speed: 3.1ms preprocess, 84.9ms inference, 0.6ms postprocess per image at shape (1, 3, 480, 640)\n",
      "\n",
      "0: 480x640 15 cars, 2 buss, 2 trucks, 87.9ms\n",
      "Speed: 2.5ms preprocess, 87.9ms inference, 1.4ms postprocess per image at shape (1, 3, 480, 640)\n",
      "\n",
      "0: 480x640 1 license, 83.6ms\n",
      "Speed: 3.4ms preprocess, 83.6ms inference, 0.6ms postprocess per image at shape (1, 3, 480, 640)\n",
      "\n",
      "0: 480x640 15 cars, 2 buss, 2 trucks, 86.2ms\n",
      "Speed: 2.7ms preprocess, 86.2ms inference, 0.8ms postprocess per image at shape (1, 3, 480, 640)\n",
      "\n",
      "0: 480x640 1 license, 85.3ms\n",
      "Speed: 2.6ms preprocess, 85.3ms inference, 1.0ms postprocess per image at shape (1, 3, 480, 640)\n",
      "\n",
      "0: 480x640 15 cars, 2 buss, 2 trucks, 81.7ms\n",
      "Speed: 2.5ms preprocess, 81.7ms inference, 0.9ms postprocess per image at shape (1, 3, 480, 640)\n",
      "\n",
      "0: 480x640 1 license, 83.0ms\n",
      "Speed: 3.2ms preprocess, 83.0ms inference, 0.6ms postprocess per image at shape (1, 3, 480, 640)\n",
      "\n",
      "0: 480x640 15 cars, 2 buss, 2 trucks, 103.4ms\n",
      "Speed: 3.2ms preprocess, 103.4ms inference, 0.8ms postprocess per image at shape (1, 3, 480, 640)\n",
      "\n",
      "0: 480x640 1 license, 95.7ms\n",
      "Speed: 3.8ms preprocess, 95.7ms inference, 0.6ms postprocess per image at shape (1, 3, 480, 640)\n",
      "\n",
      "0: 480x640 14 cars, 3 buss, 3 trucks, 81.7ms\n",
      "Speed: 2.5ms preprocess, 81.7ms inference, 0.8ms postprocess per image at shape (1, 3, 480, 640)\n",
      "\n",
      "0: 480x640 1 license, 79.8ms\n",
      "Speed: 3.2ms preprocess, 79.8ms inference, 0.6ms postprocess per image at shape (1, 3, 480, 640)\n",
      "\n",
      "0: 480x640 14 cars, 3 buss, 3 trucks, 87.7ms\n",
      "Speed: 3.5ms preprocess, 87.7ms inference, 0.8ms postprocess per image at shape (1, 3, 480, 640)\n",
      "\n",
      "0: 480x640 1 license, 84.1ms\n",
      "Speed: 3.4ms preprocess, 84.1ms inference, 0.6ms postprocess per image at shape (1, 3, 480, 640)\n"
     ]
    },
    {
     "name": "stdout",
     "output_type": "stream",
     "text": [
      "Error: results_list is empty or contains tuples without a second element.\n"
     ]
    },
    {
     "name": "stderr",
     "output_type": "stream",
     "text": [
      "\n",
      "0: 480x640 15 cars, 2 buss, 3 trucks, 87.0ms\n",
      "Speed: 2.8ms preprocess, 87.0ms inference, 0.7ms postprocess per image at shape (1, 3, 480, 640)\n",
      "\n",
      "0: 480x640 1 license, 82.7ms\n",
      "Speed: 2.6ms preprocess, 82.7ms inference, 0.6ms postprocess per image at shape (1, 3, 480, 640)\n"
     ]
    },
    {
     "name": "stdout",
     "output_type": "stream",
     "text": [
      "Error: results_list is empty or contains tuples without a second element.\n"
     ]
    },
    {
     "name": "stderr",
     "output_type": "stream",
     "text": [
      "\n",
      "0: 480x640 15 cars, 2 buss, 3 trucks, 80.5ms\n",
      "Speed: 2.5ms preprocess, 80.5ms inference, 0.8ms postprocess per image at shape (1, 3, 480, 640)\n",
      "\n",
      "0: 480x640 1 license, 80.4ms\n",
      "Speed: 3.3ms preprocess, 80.4ms inference, 0.6ms postprocess per image at shape (1, 3, 480, 640)\n",
      "\n",
      "0: 480x640 16 cars, 2 buss, 3 trucks, 83.7ms\n",
      "Speed: 2.4ms preprocess, 83.7ms inference, 0.9ms postprocess per image at shape (1, 3, 480, 640)\n",
      "\n",
      "0: 480x640 1 license, 81.9ms\n",
      "Speed: 2.9ms preprocess, 81.9ms inference, 0.9ms postprocess per image at shape (1, 3, 480, 640)\n",
      "\n",
      "0: 480x640 15 cars, 2 buss, 3 trucks, 87.1ms\n",
      "Speed: 2.8ms preprocess, 87.1ms inference, 1.2ms postprocess per image at shape (1, 3, 480, 640)\n",
      "\n",
      "0: 480x640 1 license, 87.9ms\n",
      "Speed: 3.4ms preprocess, 87.9ms inference, 0.6ms postprocess per image at shape (1, 3, 480, 640)\n",
      "\n",
      "0: 480x640 13 cars, 2 buss, 2 trucks, 80.6ms\n",
      "Speed: 2.4ms preprocess, 80.6ms inference, 0.8ms postprocess per image at shape (1, 3, 480, 640)\n",
      "\n",
      "0: 480x640 1 license, 83.4ms\n",
      "Speed: 3.2ms preprocess, 83.4ms inference, 0.6ms postprocess per image at shape (1, 3, 480, 640)\n",
      "\n",
      "0: 480x640 13 cars, 2 buss, 2 trucks, 83.9ms\n",
      "Speed: 2.4ms preprocess, 83.9ms inference, 0.9ms postprocess per image at shape (1, 3, 480, 640)\n",
      "\n",
      "0: 480x640 1 license, 84.6ms\n",
      "Speed: 2.6ms preprocess, 84.6ms inference, 0.6ms postprocess per image at shape (1, 3, 480, 640)\n",
      "\n",
      "0: 480x640 11 cars, 2 buss, 2 trucks, 83.2ms\n",
      "Speed: 2.4ms preprocess, 83.2ms inference, 0.8ms postprocess per image at shape (1, 3, 480, 640)\n",
      "\n",
      "0: 480x640 1 license, 80.6ms\n",
      "Speed: 3.2ms preprocess, 80.6ms inference, 0.6ms postprocess per image at shape (1, 3, 480, 640)\n",
      "\n",
      "0: 480x640 11 cars, 2 buss, 2 trucks, 88.2ms\n",
      "Speed: 2.4ms preprocess, 88.2ms inference, 1.4ms postprocess per image at shape (1, 3, 480, 640)\n",
      "\n",
      "0: 480x640 1 license, 85.0ms\n",
      "Speed: 3.4ms preprocess, 85.0ms inference, 0.6ms postprocess per image at shape (1, 3, 480, 640)\n",
      "\n",
      "0: 480x640 14 cars, 3 buss, 2 trucks, 82.5ms\n",
      "Speed: 3.4ms preprocess, 82.5ms inference, 0.8ms postprocess per image at shape (1, 3, 480, 640)\n",
      "\n",
      "0: 480x640 1 license, 87.5ms\n",
      "Speed: 3.3ms preprocess, 87.5ms inference, 0.7ms postprocess per image at shape (1, 3, 480, 640)\n",
      "\n",
      "0: 480x640 14 cars, 3 buss, 2 trucks, 79.4ms\n",
      "Speed: 2.4ms preprocess, 79.4ms inference, 1.1ms postprocess per image at shape (1, 3, 480, 640)\n",
      "\n",
      "0: 480x640 1 license, 84.4ms\n",
      "Speed: 2.9ms preprocess, 84.4ms inference, 0.6ms postprocess per image at shape (1, 3, 480, 640)\n",
      "\n",
      "0: 480x640 13 cars, 3 buss, 2 trucks, 84.1ms\n",
      "Speed: 2.5ms preprocess, 84.1ms inference, 0.8ms postprocess per image at shape (1, 3, 480, 640)\n",
      "\n",
      "0: 480x640 1 license, 85.5ms\n",
      "Speed: 3.4ms preprocess, 85.5ms inference, 0.6ms postprocess per image at shape (1, 3, 480, 640)\n",
      "\n",
      "0: 480x640 13 cars, 3 buss, 2 trucks, 85.1ms\n",
      "Speed: 2.4ms preprocess, 85.1ms inference, 0.8ms postprocess per image at shape (1, 3, 480, 640)\n",
      "\n",
      "0: 480x640 1 license, 88.2ms\n",
      "Speed: 3.3ms preprocess, 88.2ms inference, 0.6ms postprocess per image at shape (1, 3, 480, 640)\n",
      "\n",
      "0: 480x640 11 cars, 1 bus, 2 trucks, 84.6ms\n",
      "Speed: 2.5ms preprocess, 84.6ms inference, 1.3ms postprocess per image at shape (1, 3, 480, 640)\n",
      "\n",
      "0: 480x640 1 license, 85.2ms\n",
      "Speed: 3.3ms preprocess, 85.2ms inference, 0.5ms postprocess per image at shape (1, 3, 480, 640)\n",
      "\n",
      "0: 480x640 11 cars, 1 bus, 2 trucks, 82.1ms\n",
      "Speed: 2.6ms preprocess, 82.1ms inference, 0.8ms postprocess per image at shape (1, 3, 480, 640)\n",
      "\n",
      "0: 480x640 1 license, 82.8ms\n",
      "Speed: 2.8ms preprocess, 82.8ms inference, 0.9ms postprocess per image at shape (1, 3, 480, 640)\n",
      "\n",
      "0: 480x640 11 cars, 1 bus, 3 trucks, 84.1ms\n",
      "Speed: 2.3ms preprocess, 84.1ms inference, 0.8ms postprocess per image at shape (1, 3, 480, 640)\n",
      "\n",
      "0: 480x640 1 license, 135.5ms\n",
      "Speed: 3.4ms preprocess, 135.5ms inference, 1.3ms postprocess per image at shape (1, 3, 480, 640)\n",
      "\n",
      "0: 480x640 12 cars, 1 bus, 3 trucks, 78.9ms\n",
      "Speed: 2.5ms preprocess, 78.9ms inference, 0.7ms postprocess per image at shape (1, 3, 480, 640)\n",
      "\n",
      "0: 480x640 1 license, 83.7ms\n",
      "Speed: 2.4ms preprocess, 83.7ms inference, 0.6ms postprocess per image at shape (1, 3, 480, 640)\n",
      "\n",
      "0: 480x640 13 cars, 2 buss, 3 trucks, 79.8ms\n",
      "Speed: 2.5ms preprocess, 79.8ms inference, 1.1ms postprocess per image at shape (1, 3, 480, 640)\n",
      "\n",
      "0: 480x640 1 license, 83.1ms\n",
      "Speed: 3.3ms preprocess, 83.1ms inference, 0.6ms postprocess per image at shape (1, 3, 480, 640)\n",
      "\n",
      "0: 480x640 13 cars, 2 buss, 3 trucks, 84.9ms\n",
      "Speed: 2.6ms preprocess, 84.9ms inference, 0.8ms postprocess per image at shape (1, 3, 480, 640)\n",
      "\n",
      "0: 480x640 1 license, 86.2ms\n",
      "Speed: 3.1ms preprocess, 86.2ms inference, 0.6ms postprocess per image at shape (1, 3, 480, 640)\n",
      "\n",
      "0: 480x640 11 cars, 2 buss, 3 trucks, 87.8ms\n",
      "Speed: 2.7ms preprocess, 87.8ms inference, 0.8ms postprocess per image at shape (1, 3, 480, 640)\n",
      "\n",
      "0: 480x640 1 license, 87.7ms\n",
      "Speed: 3.4ms preprocess, 87.7ms inference, 0.7ms postprocess per image at shape (1, 3, 480, 640)\n",
      "\n",
      "0: 480x640 11 cars, 2 buss, 3 trucks, 80.7ms\n",
      "Speed: 2.6ms preprocess, 80.7ms inference, 0.7ms postprocess per image at shape (1, 3, 480, 640)\n",
      "\n",
      "0: 480x640 1 license, 86.6ms\n",
      "Speed: 3.1ms preprocess, 86.6ms inference, 0.6ms postprocess per image at shape (1, 3, 480, 640)\n"
     ]
    },
    {
     "name": "stdout",
     "output_type": "stream",
     "text": [
      "Error: results_list is empty or contains tuples without a second element.\n"
     ]
    },
    {
     "name": "stderr",
     "output_type": "stream",
     "text": [
      "\n",
      "0: 480x640 12 cars, 1 bus, 3 trucks, 87.2ms\n",
      "Speed: 2.9ms preprocess, 87.2ms inference, 0.8ms postprocess per image at shape (1, 3, 480, 640)\n",
      "\n",
      "0: 480x640 1 license, 86.5ms\n",
      "Speed: 2.7ms preprocess, 86.5ms inference, 0.6ms postprocess per image at shape (1, 3, 480, 640)\n"
     ]
    },
    {
     "name": "stdout",
     "output_type": "stream",
     "text": [
      "Error: results_list is empty or contains tuples without a second element.\n"
     ]
    },
    {
     "name": "stderr",
     "output_type": "stream",
     "text": [
      "\n",
      "0: 480x640 12 cars, 1 bus, 3 trucks, 84.1ms\n",
      "Speed: 2.5ms preprocess, 84.1ms inference, 0.8ms postprocess per image at shape (1, 3, 480, 640)\n",
      "\n",
      "0: 480x640 1 license, 82.3ms\n",
      "Speed: 3.5ms preprocess, 82.3ms inference, 0.6ms postprocess per image at shape (1, 3, 480, 640)\n",
      "\n",
      "0: 480x640 16 cars, 1 bus, 2 trucks, 90.1ms\n",
      "Speed: 2.7ms preprocess, 90.1ms inference, 0.8ms postprocess per image at shape (1, 3, 480, 640)\n",
      "\n",
      "0: 480x640 1 license, 81.0ms\n",
      "Speed: 3.3ms preprocess, 81.0ms inference, 0.6ms postprocess per image at shape (1, 3, 480, 640)\n",
      "\n",
      "0: 480x640 16 cars, 1 bus, 2 trucks, 83.8ms\n",
      "Speed: 2.9ms preprocess, 83.8ms inference, 0.8ms postprocess per image at shape (1, 3, 480, 640)\n",
      "\n",
      "0: 480x640 1 license, 87.5ms\n",
      "Speed: 2.8ms preprocess, 87.5ms inference, 0.6ms postprocess per image at shape (1, 3, 480, 640)\n"
     ]
    },
    {
     "name": "stdout",
     "output_type": "stream",
     "text": [
      "Error: results_list is empty or contains tuples without a second element.\n"
     ]
    },
    {
     "name": "stderr",
     "output_type": "stream",
     "text": [
      "\n",
      "0: 480x640 14 cars, 2 buss, 2 trucks, 86.9ms\n",
      "Speed: 2.6ms preprocess, 86.9ms inference, 0.8ms postprocess per image at shape (1, 3, 480, 640)\n",
      "\n",
      "0: 480x640 1 license, 85.3ms\n",
      "Speed: 3.3ms preprocess, 85.3ms inference, 0.6ms postprocess per image at shape (1, 3, 480, 640)\n"
     ]
    },
    {
     "name": "stdout",
     "output_type": "stream",
     "text": [
      "Error: results_list is empty or contains tuples without a second element.\n"
     ]
    },
    {
     "name": "stderr",
     "output_type": "stream",
     "text": [
      "\n",
      "0: 480x640 16 cars, 2 trucks, 89.3ms\n",
      "Speed: 2.4ms preprocess, 89.3ms inference, 0.8ms postprocess per image at shape (1, 3, 480, 640)\n",
      "\n",
      "0: 480x640 1 license, 87.7ms\n",
      "Speed: 4.3ms preprocess, 87.7ms inference, 0.7ms postprocess per image at shape (1, 3, 480, 640)\n",
      "\n",
      "0: 480x640 16 cars, 1 bus, 2 trucks, 82.3ms\n",
      "Speed: 2.6ms preprocess, 82.3ms inference, 0.8ms postprocess per image at shape (1, 3, 480, 640)\n",
      "\n",
      "0: 480x640 1 license, 87.3ms\n",
      "Speed: 3.4ms preprocess, 87.3ms inference, 0.6ms postprocess per image at shape (1, 3, 480, 640)\n",
      "\n",
      "0: 480x640 15 cars, 1 bus, 2 trucks, 91.5ms\n",
      "Speed: 3.5ms preprocess, 91.5ms inference, 0.9ms postprocess per image at shape (1, 3, 480, 640)\n",
      "\n",
      "0: 480x640 1 license, 101.3ms\n",
      "Speed: 4.3ms preprocess, 101.3ms inference, 0.7ms postprocess per image at shape (1, 3, 480, 640)\n",
      "\n",
      "0: 480x640 17 cars, 1 bus, 2 trucks, 108.0ms\n",
      "Speed: 3.8ms preprocess, 108.0ms inference, 1.1ms postprocess per image at shape (1, 3, 480, 640)\n",
      "\n",
      "0: 480x640 1 license, 96.8ms\n",
      "Speed: 4.3ms preprocess, 96.8ms inference, 0.7ms postprocess per image at shape (1, 3, 480, 640)\n",
      "\n",
      "0: 480x640 17 cars, 1 bus, 2 trucks, 93.6ms\n",
      "Speed: 3.9ms preprocess, 93.6ms inference, 0.9ms postprocess per image at shape (1, 3, 480, 640)\n",
      "\n",
      "0: 480x640 1 license, 89.0ms\n",
      "Speed: 3.1ms preprocess, 89.0ms inference, 0.6ms postprocess per image at shape (1, 3, 480, 640)\n",
      "\n",
      "0: 480x640 17 cars, 1 bus, 2 trucks, 89.7ms\n",
      "Speed: 3.9ms preprocess, 89.7ms inference, 1.7ms postprocess per image at shape (1, 3, 480, 640)\n",
      "\n",
      "0: 480x640 1 license, 87.3ms\n",
      "Speed: 3.5ms preprocess, 87.3ms inference, 0.6ms postprocess per image at shape (1, 3, 480, 640)\n",
      "\n",
      "0: 480x640 17 cars, 1 bus, 2 trucks, 92.8ms\n",
      "Speed: 3.0ms preprocess, 92.8ms inference, 0.9ms postprocess per image at shape (1, 3, 480, 640)\n",
      "\n",
      "0: 480x640 1 license, 98.4ms\n",
      "Speed: 3.0ms preprocess, 98.4ms inference, 0.7ms postprocess per image at shape (1, 3, 480, 640)\n",
      "\n",
      "0: 480x640 19 cars, 2 trucks, 96.3ms\n",
      "Speed: 3.6ms preprocess, 96.3ms inference, 1.0ms postprocess per image at shape (1, 3, 480, 640)\n",
      "\n",
      "0: 480x640 1 license, 95.8ms\n",
      "Speed: 3.1ms preprocess, 95.8ms inference, 0.6ms postprocess per image at shape (1, 3, 480, 640)\n",
      "\n",
      "0: 480x640 20 cars, 2 trucks, 97.2ms\n",
      "Speed: 3.3ms preprocess, 97.2ms inference, 0.9ms postprocess per image at shape (1, 3, 480, 640)\n",
      "\n",
      "0: 480x640 1 license, 88.9ms\n",
      "Speed: 3.6ms preprocess, 88.9ms inference, 0.6ms postprocess per image at shape (1, 3, 480, 640)\n",
      "\n",
      "0: 480x640 19 cars, 1 bus, 2 trucks, 98.1ms\n",
      "Speed: 3.0ms preprocess, 98.1ms inference, 1.0ms postprocess per image at shape (1, 3, 480, 640)\n",
      "\n",
      "0: 480x640 (no detections), 94.1ms\n",
      "Speed: 4.0ms preprocess, 94.1ms inference, 0.4ms postprocess per image at shape (1, 3, 480, 640)\n",
      "\n",
      "0: 480x640 20 cars, 1 bus, 2 trucks, 98.0ms\n",
      "Speed: 4.2ms preprocess, 98.0ms inference, 1.0ms postprocess per image at shape (1, 3, 480, 640)\n",
      "\n",
      "0: 480x640 (no detections), 93.4ms\n",
      "Speed: 3.2ms preprocess, 93.4ms inference, 0.4ms postprocess per image at shape (1, 3, 480, 640)\n",
      "\n",
      "0: 480x640 18 cars, 1 bus, 2 trucks, 95.5ms\n",
      "Speed: 3.1ms preprocess, 95.5ms inference, 0.9ms postprocess per image at shape (1, 3, 480, 640)\n",
      "\n",
      "0: 480x640 (no detections), 93.7ms\n",
      "Speed: 3.5ms preprocess, 93.7ms inference, 0.3ms postprocess per image at shape (1, 3, 480, 640)\n",
      "\n",
      "0: 480x640 19 cars, 1 bus, 2 trucks, 99.6ms\n",
      "Speed: 3.7ms preprocess, 99.6ms inference, 0.9ms postprocess per image at shape (1, 3, 480, 640)\n",
      "\n",
      "0: 480x640 (no detections), 93.5ms\n",
      "Speed: 3.9ms preprocess, 93.5ms inference, 0.4ms postprocess per image at shape (1, 3, 480, 640)\n",
      "\n",
      "0: 480x640 18 cars, 2 trucks, 93.7ms\n",
      "Speed: 3.2ms preprocess, 93.7ms inference, 1.3ms postprocess per image at shape (1, 3, 480, 640)\n",
      "\n",
      "0: 480x640 (no detections), 95.0ms\n",
      "Speed: 3.0ms preprocess, 95.0ms inference, 0.3ms postprocess per image at shape (1, 3, 480, 640)\n",
      "\n",
      "0: 480x640 18 cars, 2 trucks, 91.3ms\n",
      "Speed: 3.0ms preprocess, 91.3ms inference, 0.9ms postprocess per image at shape (1, 3, 480, 640)\n",
      "\n",
      "0: 480x640 (no detections), 90.4ms\n",
      "Speed: 3.5ms preprocess, 90.4ms inference, 0.3ms postprocess per image at shape (1, 3, 480, 640)\n",
      "\n",
      "0: 480x640 16 cars, 1 bus, 2 trucks, 94.9ms\n",
      "Speed: 3.6ms preprocess, 94.9ms inference, 0.9ms postprocess per image at shape (1, 3, 480, 640)\n",
      "\n",
      "0: 480x640 (no detections), 90.9ms\n",
      "Speed: 3.7ms preprocess, 90.9ms inference, 0.4ms postprocess per image at shape (1, 3, 480, 640)\n",
      "\n",
      "0: 480x640 16 cars, 1 bus, 2 trucks, 96.1ms\n",
      "Speed: 3.9ms preprocess, 96.1ms inference, 0.9ms postprocess per image at shape (1, 3, 480, 640)\n",
      "\n",
      "0: 480x640 (no detections), 94.2ms\n",
      "Speed: 3.6ms preprocess, 94.2ms inference, 0.4ms postprocess per image at shape (1, 3, 480, 640)\n",
      "\n",
      "0: 480x640 15 cars, 2 buss, 2 trucks, 92.6ms\n",
      "Speed: 2.8ms preprocess, 92.6ms inference, 0.9ms postprocess per image at shape (1, 3, 480, 640)\n",
      "\n",
      "0: 480x640 (no detections), 94.2ms\n",
      "Speed: 3.7ms preprocess, 94.2ms inference, 0.3ms postprocess per image at shape (1, 3, 480, 640)\n",
      "\n",
      "0: 480x640 15 cars, 2 buss, 2 trucks, 98.7ms\n",
      "Speed: 4.1ms preprocess, 98.7ms inference, 1.0ms postprocess per image at shape (1, 3, 480, 640)\n",
      "\n",
      "0: 480x640 (no detections), 95.0ms\n",
      "Speed: 3.8ms preprocess, 95.0ms inference, 0.4ms postprocess per image at shape (1, 3, 480, 640)\n",
      "\n",
      "0: 480x640 17 cars, 2 buss, 2 trucks, 92.6ms\n",
      "Speed: 2.9ms preprocess, 92.6ms inference, 0.9ms postprocess per image at shape (1, 3, 480, 640)\n",
      "\n",
      "0: 480x640 (no detections), 92.3ms\n",
      "Speed: 3.7ms preprocess, 92.3ms inference, 0.4ms postprocess per image at shape (1, 3, 480, 640)\n",
      "\n",
      "0: 480x640 17 cars, 1 bus, 2 trucks, 99.6ms\n",
      "Speed: 4.0ms preprocess, 99.6ms inference, 0.9ms postprocess per image at shape (1, 3, 480, 640)\n",
      "\n",
      "0: 480x640 (no detections), 93.7ms\n",
      "Speed: 3.6ms preprocess, 93.7ms inference, 0.4ms postprocess per image at shape (1, 3, 480, 640)\n",
      "\n",
      "0: 480x640 17 cars, 1 bus, 2 trucks, 95.2ms\n",
      "Speed: 3.2ms preprocess, 95.2ms inference, 1.0ms postprocess per image at shape (1, 3, 480, 640)\n",
      "\n",
      "0: 480x640 1 license, 93.0ms\n",
      "Speed: 3.9ms preprocess, 93.0ms inference, 0.5ms postprocess per image at shape (1, 3, 480, 640)\n",
      "\n",
      "0: 480x640 16 cars, 1 bus, 2 trucks, 80.9ms\n",
      "Speed: 2.6ms preprocess, 80.9ms inference, 0.8ms postprocess per image at shape (1, 3, 480, 640)\n",
      "\n",
      "0: 480x640 1 license, 83.2ms\n",
      "Speed: 2.6ms preprocess, 83.2ms inference, 0.5ms postprocess per image at shape (1, 3, 480, 640)\n"
     ]
    },
    {
     "name": "stdout",
     "output_type": "stream",
     "text": [
      "Error: results_list is empty or contains tuples without a second element.\n"
     ]
    },
    {
     "name": "stderr",
     "output_type": "stream",
     "text": [
      "\n",
      "0: 480x640 15 cars, 2 buss, 2 trucks, 89.9ms\n",
      "Speed: 2.3ms preprocess, 89.9ms inference, 0.8ms postprocess per image at shape (1, 3, 480, 640)\n",
      "\n",
      "0: 480x640 1 license, 83.8ms\n",
      "Speed: 3.3ms preprocess, 83.8ms inference, 0.6ms postprocess per image at shape (1, 3, 480, 640)\n"
     ]
    },
    {
     "name": "stdout",
     "output_type": "stream",
     "text": [
      "Error: results_list is empty or contains tuples without a second element.\n"
     ]
    },
    {
     "name": "stderr",
     "output_type": "stream",
     "text": [
      "\n",
      "0: 480x640 15 cars, 2 buss, 2 trucks, 83.1ms\n",
      "Speed: 2.3ms preprocess, 83.1ms inference, 0.8ms postprocess per image at shape (1, 3, 480, 640)\n",
      "\n",
      "0: 480x640 1 license, 80.2ms\n",
      "Speed: 3.3ms preprocess, 80.2ms inference, 0.6ms postprocess per image at shape (1, 3, 480, 640)\n"
     ]
    },
    {
     "name": "stdout",
     "output_type": "stream",
     "text": [
      "Error: results_list is empty or contains tuples without a second element.\n"
     ]
    },
    {
     "name": "stderr",
     "output_type": "stream",
     "text": [
      "\n",
      "0: 480x640 15 cars, 1 bus, 2 trucks, 78.5ms\n",
      "Speed: 2.3ms preprocess, 78.5ms inference, 0.8ms postprocess per image at shape (1, 3, 480, 640)\n",
      "\n",
      "0: 480x640 1 license, 79.6ms\n",
      "Speed: 2.7ms preprocess, 79.6ms inference, 0.6ms postprocess per image at shape (1, 3, 480, 640)\n"
     ]
    },
    {
     "name": "stdout",
     "output_type": "stream",
     "text": [
      "Error: results_list is empty or contains tuples without a second element.\n"
     ]
    },
    {
     "name": "stderr",
     "output_type": "stream",
     "text": [
      "\n",
      "0: 480x640 15 cars, 2 buss, 2 trucks, 91.4ms\n",
      "Speed: 2.7ms preprocess, 91.4ms inference, 0.8ms postprocess per image at shape (1, 3, 480, 640)\n",
      "\n",
      "0: 480x640 1 license, 84.9ms\n",
      "Speed: 2.4ms preprocess, 84.9ms inference, 0.5ms postprocess per image at shape (1, 3, 480, 640)\n"
     ]
    },
    {
     "name": "stdout",
     "output_type": "stream",
     "text": [
      "Error: results_list is empty or contains tuples without a second element.\n"
     ]
    },
    {
     "name": "stderr",
     "output_type": "stream",
     "text": [
      "\n",
      "0: 480x640 15 cars, 2 buss, 2 trucks, 85.3ms\n",
      "Speed: 2.5ms preprocess, 85.3ms inference, 0.8ms postprocess per image at shape (1, 3, 480, 640)\n",
      "\n",
      "0: 480x640 1 license, 81.5ms\n",
      "Speed: 3.4ms preprocess, 81.5ms inference, 1.1ms postprocess per image at shape (1, 3, 480, 640)\n"
     ]
    },
    {
     "name": "stdout",
     "output_type": "stream",
     "text": [
      "Error: results_list is empty or contains tuples without a second element.\n"
     ]
    },
    {
     "name": "stderr",
     "output_type": "stream",
     "text": [
      "\n",
      "0: 480x640 15 cars, 2 buss, 2 trucks, 85.4ms\n",
      "Speed: 2.6ms preprocess, 85.4ms inference, 0.9ms postprocess per image at shape (1, 3, 480, 640)\n",
      "\n",
      "0: 480x640 1 license, 83.1ms\n",
      "Speed: 2.6ms preprocess, 83.1ms inference, 0.6ms postprocess per image at shape (1, 3, 480, 640)\n",
      "\n",
      "0: 480x640 15 cars, 2 buss, 2 trucks, 88.1ms\n",
      "Speed: 2.5ms preprocess, 88.1ms inference, 0.8ms postprocess per image at shape (1, 3, 480, 640)\n",
      "\n",
      "0: 480x640 1 license, 84.7ms\n",
      "Speed: 2.8ms preprocess, 84.7ms inference, 0.6ms postprocess per image at shape (1, 3, 480, 640)\n",
      "\n",
      "0: 480x640 15 cars, 2 buss, 2 trucks, 86.5ms\n",
      "Speed: 2.3ms preprocess, 86.5ms inference, 0.8ms postprocess per image at shape (1, 3, 480, 640)\n",
      "\n",
      "0: 480x640 1 license, 84.3ms\n",
      "Speed: 3.6ms preprocess, 84.3ms inference, 0.5ms postprocess per image at shape (1, 3, 480, 640)\n"
     ]
    },
    {
     "name": "stdout",
     "output_type": "stream",
     "text": [
      "Error: results_list is empty or contains tuples without a second element.\n"
     ]
    },
    {
     "name": "stderr",
     "output_type": "stream",
     "text": [
      "\n",
      "0: 480x640 16 cars, 1 bus, 2 trucks, 85.7ms\n",
      "Speed: 2.4ms preprocess, 85.7ms inference, 1.2ms postprocess per image at shape (1, 3, 480, 640)\n",
      "\n",
      "0: 480x640 1 license, 83.0ms\n",
      "Speed: 2.7ms preprocess, 83.0ms inference, 0.5ms postprocess per image at shape (1, 3, 480, 640)\n"
     ]
    },
    {
     "name": "stdout",
     "output_type": "stream",
     "text": [
      "Error: results_list is empty or contains tuples without a second element.\n"
     ]
    },
    {
     "name": "stderr",
     "output_type": "stream",
     "text": [
      "\n",
      "0: 480x640 16 cars, 1 bus, 2 trucks, 82.8ms\n",
      "Speed: 2.4ms preprocess, 82.8ms inference, 1.4ms postprocess per image at shape (1, 3, 480, 640)\n",
      "\n",
      "0: 480x640 1 license, 83.6ms\n",
      "Speed: 2.8ms preprocess, 83.6ms inference, 0.5ms postprocess per image at shape (1, 3, 480, 640)\n",
      "\n",
      "0: 480x640 16 cars, 1 bus, 2 trucks, 81.9ms\n",
      "Speed: 2.5ms preprocess, 81.9ms inference, 0.8ms postprocess per image at shape (1, 3, 480, 640)\n",
      "\n",
      "0: 480x640 1 license, 83.4ms\n",
      "Speed: 2.5ms preprocess, 83.4ms inference, 0.6ms postprocess per image at shape (1, 3, 480, 640)\n",
      "\n",
      "0: 480x640 16 cars, 1 bus, 2 trucks, 86.1ms\n",
      "Speed: 2.7ms preprocess, 86.1ms inference, 0.8ms postprocess per image at shape (1, 3, 480, 640)\n",
      "\n",
      "0: 480x640 1 license, 83.8ms\n",
      "Speed: 3.4ms preprocess, 83.8ms inference, 0.6ms postprocess per image at shape (1, 3, 480, 640)\n",
      "\n",
      "0: 480x640 15 cars, 1 bus, 2 trucks, 84.2ms\n",
      "Speed: 2.3ms preprocess, 84.2ms inference, 0.8ms postprocess per image at shape (1, 3, 480, 640)\n",
      "\n",
      "0: 480x640 1 license, 83.5ms\n",
      "Speed: 3.3ms preprocess, 83.5ms inference, 0.5ms postprocess per image at shape (1, 3, 480, 640)\n",
      "\n",
      "0: 480x640 15 cars, 1 bus, 2 trucks, 84.8ms\n",
      "Speed: 2.5ms preprocess, 84.8ms inference, 0.8ms postprocess per image at shape (1, 3, 480, 640)\n",
      "\n",
      "0: 480x640 1 license, 85.4ms\n",
      "Speed: 2.9ms preprocess, 85.4ms inference, 0.6ms postprocess per image at shape (1, 3, 480, 640)\n",
      "\n",
      "0: 480x640 12 cars, 1 bus, 2 trucks, 104.9ms\n",
      "Speed: 2.8ms preprocess, 104.9ms inference, 1.0ms postprocess per image at shape (1, 3, 480, 640)\n",
      "\n",
      "0: 480x640 1 license, 125.8ms\n",
      "Speed: 4.3ms preprocess, 125.8ms inference, 0.9ms postprocess per image at shape (1, 3, 480, 640)\n",
      "\n",
      "0: 480x640 12 cars, 1 bus, 2 trucks, 87.6ms\n",
      "Speed: 2.8ms preprocess, 87.6ms inference, 0.9ms postprocess per image at shape (1, 3, 480, 640)\n",
      "\n",
      "0: 480x640 1 license, 85.9ms\n",
      "Speed: 3.2ms preprocess, 85.9ms inference, 0.6ms postprocess per image at shape (1, 3, 480, 640)\n",
      "\n",
      "0: 480x640 13 cars, 1 bus, 2 trucks, 85.4ms\n",
      "Speed: 2.4ms preprocess, 85.4ms inference, 0.8ms postprocess per image at shape (1, 3, 480, 640)\n",
      "\n",
      "0: 480x640 1 license, 88.9ms\n",
      "Speed: 3.1ms preprocess, 88.9ms inference, 0.7ms postprocess per image at shape (1, 3, 480, 640)\n",
      "\n",
      "0: 480x640 13 cars, 1 bus, 2 trucks, 81.6ms\n",
      "Speed: 2.5ms preprocess, 81.6ms inference, 1.5ms postprocess per image at shape (1, 3, 480, 640)\n",
      "\n",
      "0: 480x640 1 license, 85.0ms\n",
      "Speed: 3.0ms preprocess, 85.0ms inference, 0.6ms postprocess per image at shape (1, 3, 480, 640)\n",
      "\n",
      "0: 480x640 14 cars, 1 bus, 2 trucks, 84.9ms\n",
      "Speed: 2.4ms preprocess, 84.9ms inference, 0.9ms postprocess per image at shape (1, 3, 480, 640)\n",
      "\n",
      "0: 480x640 2 licenses, 86.5ms\n",
      "Speed: 2.7ms preprocess, 86.5ms inference, 0.6ms postprocess per image at shape (1, 3, 480, 640)\n",
      "\n",
      "0: 480x640 14 cars, 1 bus, 2 trucks, 77.3ms\n",
      "Speed: 2.5ms preprocess, 77.3ms inference, 0.7ms postprocess per image at shape (1, 3, 480, 640)\n",
      "\n",
      "0: 480x640 2 licenses, 76.0ms\n",
      "Speed: 2.2ms preprocess, 76.0ms inference, 0.5ms postprocess per image at shape (1, 3, 480, 640)\n"
     ]
    },
    {
     "name": "stdout",
     "output_type": "stream",
     "text": [
      "Error: results_list is empty or contains tuples without a second element.\n"
     ]
    },
    {
     "name": "stderr",
     "output_type": "stream",
     "text": [
      "\n",
      "0: 480x640 12 cars, 1 bus, 2 trucks, 81.4ms\n",
      "Speed: 2.6ms preprocess, 81.4ms inference, 0.8ms postprocess per image at shape (1, 3, 480, 640)\n",
      "\n",
      "0: 480x640 1 license, 83.5ms\n",
      "Speed: 3.2ms preprocess, 83.5ms inference, 0.5ms postprocess per image at shape (1, 3, 480, 640)\n"
     ]
    },
    {
     "name": "stdout",
     "output_type": "stream",
     "text": [
      "Error: results_list is empty or contains tuples without a second element.\n"
     ]
    },
    {
     "name": "stderr",
     "output_type": "stream",
     "text": [
      "\n",
      "0: 480x640 13 cars, 1 bus, 2 trucks, 87.9ms\n",
      "Speed: 2.8ms preprocess, 87.9ms inference, 0.9ms postprocess per image at shape (1, 3, 480, 640)\n",
      "\n",
      "0: 480x640 1 license, 85.5ms\n",
      "Speed: 3.5ms preprocess, 85.5ms inference, 0.6ms postprocess per image at shape (1, 3, 480, 640)\n",
      "\n",
      "0: 480x640 14 cars, 1 bus, 2 trucks, 81.8ms\n",
      "Speed: 2.4ms preprocess, 81.8ms inference, 0.8ms postprocess per image at shape (1, 3, 480, 640)\n",
      "\n",
      "0: 480x640 1 license, 84.4ms\n",
      "Speed: 3.5ms preprocess, 84.4ms inference, 1.1ms postprocess per image at shape (1, 3, 480, 640)\n",
      "\n",
      "0: 480x640 14 cars, 1 bus, 2 trucks, 87.0ms\n",
      "Speed: 2.6ms preprocess, 87.0ms inference, 1.5ms postprocess per image at shape (1, 3, 480, 640)\n",
      "\n",
      "0: 480x640 1 license, 85.5ms\n",
      "Speed: 3.4ms preprocess, 85.5ms inference, 0.6ms postprocess per image at shape (1, 3, 480, 640)\n",
      "\n",
      "0: 480x640 13 cars, 1 bus, 2 trucks, 87.1ms\n",
      "Speed: 2.5ms preprocess, 87.1ms inference, 0.8ms postprocess per image at shape (1, 3, 480, 640)\n",
      "\n",
      "0: 480x640 1 license, 87.6ms\n",
      "Speed: 3.4ms preprocess, 87.6ms inference, 0.7ms postprocess per image at shape (1, 3, 480, 640)\n",
      "\n",
      "0: 480x640 14 cars, 1 bus, 2 trucks, 79.4ms\n",
      "Speed: 3.1ms preprocess, 79.4ms inference, 1.6ms postprocess per image at shape (1, 3, 480, 640)\n",
      "\n",
      "0: 480x640 1 license, 84.8ms\n",
      "Speed: 3.2ms preprocess, 84.8ms inference, 0.6ms postprocess per image at shape (1, 3, 480, 640)\n",
      "\n",
      "0: 480x640 13 cars, 1 bus, 2 trucks, 82.7ms\n",
      "Speed: 2.3ms preprocess, 82.7ms inference, 0.9ms postprocess per image at shape (1, 3, 480, 640)\n",
      "\n",
      "0: 480x640 1 license, 86.2ms\n",
      "Speed: 3.5ms preprocess, 86.2ms inference, 0.8ms postprocess per image at shape (1, 3, 480, 640)\n",
      "\n",
      "0: 480x640 13 cars, 1 bus, 2 trucks, 83.7ms\n",
      "Speed: 2.4ms preprocess, 83.7ms inference, 0.8ms postprocess per image at shape (1, 3, 480, 640)\n",
      "\n",
      "0: 480x640 1 license, 86.2ms\n",
      "Speed: 2.6ms preprocess, 86.2ms inference, 0.6ms postprocess per image at shape (1, 3, 480, 640)\n",
      "\n",
      "0: 480x640 14 cars, 2 buss, 2 trucks, 78.2ms\n",
      "Speed: 2.5ms preprocess, 78.2ms inference, 0.9ms postprocess per image at shape (1, 3, 480, 640)\n",
      "\n",
      "0: 480x640 1 license, 83.9ms\n",
      "Speed: 2.7ms preprocess, 83.9ms inference, 0.6ms postprocess per image at shape (1, 3, 480, 640)\n",
      "\n",
      "0: 480x640 14 cars, 2 buss, 2 trucks, 85.5ms\n",
      "Speed: 2.5ms preprocess, 85.5ms inference, 0.8ms postprocess per image at shape (1, 3, 480, 640)\n",
      "\n",
      "0: 480x640 1 license, 86.9ms\n",
      "Speed: 2.6ms preprocess, 86.9ms inference, 0.6ms postprocess per image at shape (1, 3, 480, 640)\n",
      "\n",
      "0: 480x640 14 cars, 2 buss, 2 trucks, 84.7ms\n",
      "Speed: 2.9ms preprocess, 84.7ms inference, 0.8ms postprocess per image at shape (1, 3, 480, 640)\n",
      "\n",
      "0: 480x640 1 license, 85.6ms\n",
      "Speed: 3.2ms preprocess, 85.6ms inference, 0.6ms postprocess per image at shape (1, 3, 480, 640)\n",
      "\n",
      "0: 480x640 14 cars, 2 buss, 2 trucks, 84.4ms\n",
      "Speed: 2.4ms preprocess, 84.4ms inference, 1.4ms postprocess per image at shape (1, 3, 480, 640)\n",
      "\n",
      "0: 480x640 1 license, 89.1ms\n",
      "Speed: 2.8ms preprocess, 89.1ms inference, 0.6ms postprocess per image at shape (1, 3, 480, 640)\n",
      "\n",
      "0: 480x640 14 cars, 2 buss, 2 trucks, 89.5ms\n",
      "Speed: 2.7ms preprocess, 89.5ms inference, 0.8ms postprocess per image at shape (1, 3, 480, 640)\n",
      "\n",
      "0: 480x640 1 license, 86.7ms\n",
      "Speed: 3.0ms preprocess, 86.7ms inference, 0.6ms postprocess per image at shape (1, 3, 480, 640)\n",
      "\n",
      "0: 480x640 11 cars, 2 buss, 2 trucks, 79.5ms\n",
      "Speed: 2.5ms preprocess, 79.5ms inference, 0.8ms postprocess per image at shape (1, 3, 480, 640)\n",
      "\n",
      "0: 480x640 1 license, 87.8ms\n",
      "Speed: 3.4ms preprocess, 87.8ms inference, 1.2ms postprocess per image at shape (1, 3, 480, 640)\n",
      "\n",
      "0: 480x640 11 cars, 2 buss, 2 trucks, 82.4ms\n",
      "Speed: 2.4ms preprocess, 82.4ms inference, 0.8ms postprocess per image at shape (1, 3, 480, 640)\n",
      "\n",
      "0: 480x640 1 license, 82.0ms\n",
      "Speed: 2.7ms preprocess, 82.0ms inference, 1.3ms postprocess per image at shape (1, 3, 480, 640)\n",
      "\n",
      "0: 480x640 11 cars, 2 buss, 2 trucks, 85.9ms\n",
      "Speed: 3.0ms preprocess, 85.9ms inference, 0.8ms postprocess per image at shape (1, 3, 480, 640)\n",
      "\n",
      "0: 480x640 1 license, 81.7ms\n",
      "Speed: 3.4ms preprocess, 81.7ms inference, 0.6ms postprocess per image at shape (1, 3, 480, 640)\n",
      "\n",
      "0: 480x640 11 cars, 2 buss, 2 trucks, 80.1ms\n",
      "Speed: 2.4ms preprocess, 80.1ms inference, 0.8ms postprocess per image at shape (1, 3, 480, 640)\n",
      "\n",
      "0: 480x640 2 licenses, 83.8ms\n",
      "Speed: 3.3ms preprocess, 83.8ms inference, 0.6ms postprocess per image at shape (1, 3, 480, 640)\n",
      "\n",
      "0: 480x640 12 cars, 2 buss, 2 trucks, 84.6ms\n",
      "Speed: 2.5ms preprocess, 84.6ms inference, 0.8ms postprocess per image at shape (1, 3, 480, 640)\n",
      "\n",
      "0: 480x640 2 licenses, 87.4ms\n",
      "Speed: 2.7ms preprocess, 87.4ms inference, 0.6ms postprocess per image at shape (1, 3, 480, 640)\n",
      "\n",
      "0: 480x640 11 cars, 2 buss, 2 trucks, 80.4ms\n",
      "Speed: 2.5ms preprocess, 80.4ms inference, 0.7ms postprocess per image at shape (1, 3, 480, 640)\n",
      "\n",
      "0: 480x640 2 licenses, 76.1ms\n",
      "Speed: 2.8ms preprocess, 76.1ms inference, 1.1ms postprocess per image at shape (1, 3, 480, 640)\n"
     ]
    },
    {
     "name": "stdout",
     "output_type": "stream",
     "text": [
      "Error: results_list is empty or contains tuples without a second element.\n"
     ]
    },
    {
     "name": "stderr",
     "output_type": "stream",
     "text": [
      "\n",
      "0: 480x640 11 cars, 2 buss, 2 trucks, 83.7ms\n",
      "Speed: 2.4ms preprocess, 83.7ms inference, 0.8ms postprocess per image at shape (1, 3, 480, 640)\n",
      "\n",
      "0: 480x640 2 licenses, 86.5ms\n",
      "Speed: 3.5ms preprocess, 86.5ms inference, 0.6ms postprocess per image at shape (1, 3, 480, 640)\n",
      "\n",
      "0: 480x640 12 cars, 3 buss, 1 truck, 89.1ms\n",
      "Speed: 2.5ms preprocess, 89.1ms inference, 0.8ms postprocess per image at shape (1, 3, 480, 640)\n",
      "\n",
      "0: 480x640 2 licenses, 85.8ms\n",
      "Speed: 3.4ms preprocess, 85.8ms inference, 0.6ms postprocess per image at shape (1, 3, 480, 640)\n",
      "\n",
      "0: 480x640 12 cars, 3 buss, 1 truck, 77.1ms\n",
      "Speed: 2.9ms preprocess, 77.1ms inference, 0.8ms postprocess per image at shape (1, 3, 480, 640)\n",
      "\n",
      "0: 480x640 2 licenses, 85.6ms\n",
      "Speed: 3.1ms preprocess, 85.6ms inference, 0.6ms postprocess per image at shape (1, 3, 480, 640)\n",
      "\n",
      "0: 480x640 13 cars, 3 buss, 1 truck, 81.2ms\n",
      "Speed: 2.3ms preprocess, 81.2ms inference, 0.8ms postprocess per image at shape (1, 3, 480, 640)\n",
      "\n",
      "0: 480x640 2 licenses, 83.5ms\n",
      "Speed: 3.1ms preprocess, 83.5ms inference, 0.6ms postprocess per image at shape (1, 3, 480, 640)\n"
     ]
    },
    {
     "name": "stdout",
     "output_type": "stream",
     "text": [
      "Error: results_list is empty or contains tuples without a second element.\n"
     ]
    },
    {
     "name": "stderr",
     "output_type": "stream",
     "text": [
      "\n",
      "0: 480x640 13 cars, 3 buss, 1 truck, 82.7ms\n",
      "Speed: 2.6ms preprocess, 82.7ms inference, 1.1ms postprocess per image at shape (1, 3, 480, 640)\n",
      "\n",
      "0: 480x640 2 licenses, 78.4ms\n",
      "Speed: 2.4ms preprocess, 78.4ms inference, 0.5ms postprocess per image at shape (1, 3, 480, 640)\n",
      "\n",
      "0: 480x640 14 cars, 3 buss, 1 truck, 78.9ms\n",
      "Speed: 2.5ms preprocess, 78.9ms inference, 0.7ms postprocess per image at shape (1, 3, 480, 640)\n",
      "\n",
      "0: 480x640 1 license, 84.6ms\n",
      "Speed: 3.0ms preprocess, 84.6ms inference, 0.5ms postprocess per image at shape (1, 3, 480, 640)\n",
      "\n",
      "0: 480x640 14 cars, 3 buss, 1 truck, 93.6ms\n",
      "Speed: 3.2ms preprocess, 93.6ms inference, 0.9ms postprocess per image at shape (1, 3, 480, 640)\n",
      "\n",
      "0: 480x640 1 license, 100.0ms\n",
      "Speed: 3.1ms preprocess, 100.0ms inference, 0.7ms postprocess per image at shape (1, 3, 480, 640)\n",
      "\n",
      "0: 480x640 13 cars, 3 buss, 1 truck, 93.9ms\n",
      "Speed: 3.2ms preprocess, 93.9ms inference, 0.8ms postprocess per image at shape (1, 3, 480, 640)\n",
      "\n",
      "0: 480x640 1 license, 100.8ms\n",
      "Speed: 4.2ms preprocess, 100.8ms inference, 0.9ms postprocess per image at shape (1, 3, 480, 640)\n",
      "\n",
      "0: 480x640 13 cars, 3 buss, 1 truck, 87.3ms\n",
      "Speed: 2.8ms preprocess, 87.3ms inference, 0.9ms postprocess per image at shape (1, 3, 480, 640)\n",
      "\n",
      "0: 480x640 1 license, 97.2ms\n",
      "Speed: 3.8ms preprocess, 97.2ms inference, 0.8ms postprocess per image at shape (1, 3, 480, 640)\n",
      "\n",
      "0: 480x640 12 cars, 3 buss, 1 truck, 78.9ms\n",
      "Speed: 2.4ms preprocess, 78.9ms inference, 1.3ms postprocess per image at shape (1, 3, 480, 640)\n",
      "\n",
      "0: 480x640 1 license, 81.5ms\n",
      "Speed: 2.6ms preprocess, 81.5ms inference, 0.6ms postprocess per image at shape (1, 3, 480, 640)\n",
      "\n",
      "0: 480x640 12 cars, 3 buss, 1 truck, 85.7ms\n",
      "Speed: 2.4ms preprocess, 85.7ms inference, 0.8ms postprocess per image at shape (1, 3, 480, 640)\n",
      "\n",
      "0: 480x640 1 license, 85.3ms\n",
      "Speed: 2.7ms preprocess, 85.3ms inference, 0.6ms postprocess per image at shape (1, 3, 480, 640)\n",
      "\n",
      "0: 480x640 15 cars, 1 bus, 2 trucks, 81.0ms\n",
      "Speed: 2.4ms preprocess, 81.0ms inference, 0.8ms postprocess per image at shape (1, 3, 480, 640)\n",
      "\n",
      "0: 480x640 1 license, 85.7ms\n",
      "Speed: 3.3ms preprocess, 85.7ms inference, 0.6ms postprocess per image at shape (1, 3, 480, 640)\n",
      "\n",
      "0: 480x640 15 cars, 1 bus, 2 trucks, 85.7ms\n",
      "Speed: 2.6ms preprocess, 85.7ms inference, 0.8ms postprocess per image at shape (1, 3, 480, 640)\n",
      "\n",
      "0: 480x640 1 license, 81.3ms\n",
      "Speed: 3.5ms preprocess, 81.3ms inference, 0.6ms postprocess per image at shape (1, 3, 480, 640)\n",
      "\n",
      "0: 480x640 15 cars, 1 bus, 1 truck, 85.1ms\n",
      "Speed: 2.6ms preprocess, 85.1ms inference, 0.8ms postprocess per image at shape (1, 3, 480, 640)\n",
      "\n",
      "0: 480x640 1 license, 85.6ms\n",
      "Speed: 3.2ms preprocess, 85.6ms inference, 0.7ms postprocess per image at shape (1, 3, 480, 640)\n",
      "\n",
      "0: 480x640 15 cars, 1 bus, 1 truck, 79.7ms\n",
      "Speed: 2.5ms preprocess, 79.7ms inference, 0.8ms postprocess per image at shape (1, 3, 480, 640)\n",
      "\n",
      "0: 480x640 1 license, 80.1ms\n",
      "Speed: 2.5ms preprocess, 80.1ms inference, 0.6ms postprocess per image at shape (1, 3, 480, 640)\n",
      "\n",
      "0: 480x640 15 cars, 1 bus, 1 truck, 85.6ms\n",
      "Speed: 2.3ms preprocess, 85.6ms inference, 0.8ms postprocess per image at shape (1, 3, 480, 640)\n",
      "\n",
      "0: 480x640 1 license, 85.8ms\n",
      "Speed: 3.3ms preprocess, 85.8ms inference, 0.6ms postprocess per image at shape (1, 3, 480, 640)\n",
      "\n",
      "0: 480x640 15 cars, 1 bus, 1 truck, 83.0ms\n",
      "Speed: 2.4ms preprocess, 83.0ms inference, 0.8ms postprocess per image at shape (1, 3, 480, 640)\n",
      "\n",
      "0: 480x640 1 license, 87.3ms\n",
      "Speed: 3.4ms preprocess, 87.3ms inference, 0.6ms postprocess per image at shape (1, 3, 480, 640)\n",
      "\n",
      "0: 480x640 15 cars, 1 bus, 1 truck, 82.1ms\n",
      "Speed: 2.6ms preprocess, 82.1ms inference, 0.8ms postprocess per image at shape (1, 3, 480, 640)\n",
      "\n",
      "0: 480x640 1 license, 83.9ms\n",
      "Speed: 2.7ms preprocess, 83.9ms inference, 0.7ms postprocess per image at shape (1, 3, 480, 640)\n",
      "\n",
      "0: 480x640 15 cars, 1 bus, 1 truck, 83.4ms\n",
      "Speed: 2.7ms preprocess, 83.4ms inference, 0.9ms postprocess per image at shape (1, 3, 480, 640)\n",
      "\n",
      "0: 480x640 1 license, 85.8ms\n",
      "Speed: 3.6ms preprocess, 85.8ms inference, 0.6ms postprocess per image at shape (1, 3, 480, 640)\n",
      "\n",
      "0: 480x640 16 cars, 1 bus, 2 trucks, 86.5ms\n",
      "Speed: 2.3ms preprocess, 86.5ms inference, 0.8ms postprocess per image at shape (1, 3, 480, 640)\n",
      "\n",
      "0: 480x640 1 license, 82.3ms\n",
      "Speed: 3.4ms preprocess, 82.3ms inference, 1.2ms postprocess per image at shape (1, 3, 480, 640)\n",
      "\n",
      "0: 480x640 15 cars, 1 bus, 2 trucks, 84.5ms\n",
      "Speed: 2.5ms preprocess, 84.5ms inference, 0.8ms postprocess per image at shape (1, 3, 480, 640)\n",
      "\n",
      "0: 480x640 1 license, 81.7ms\n",
      "Speed: 2.7ms preprocess, 81.7ms inference, 1.0ms postprocess per image at shape (1, 3, 480, 640)\n",
      "\n",
      "0: 480x640 15 cars, 1 bus, 2 trucks, 84.1ms\n",
      "Speed: 2.5ms preprocess, 84.1ms inference, 0.8ms postprocess per image at shape (1, 3, 480, 640)\n",
      "\n",
      "0: 480x640 1 license, 83.7ms\n",
      "Speed: 3.3ms preprocess, 83.7ms inference, 1.1ms postprocess per image at shape (1, 3, 480, 640)\n",
      "\n",
      "0: 480x640 15 cars, 1 bus, 2 trucks, 78.9ms\n",
      "Speed: 2.3ms preprocess, 78.9ms inference, 0.7ms postprocess per image at shape (1, 3, 480, 640)\n",
      "\n",
      "0: 480x640 1 license, 83.7ms\n",
      "Speed: 2.4ms preprocess, 83.7ms inference, 0.6ms postprocess per image at shape (1, 3, 480, 640)\n",
      "\n",
      "0: 480x640 15 cars, 1 bus, 2 trucks, 86.6ms\n",
      "Speed: 2.6ms preprocess, 86.6ms inference, 0.8ms postprocess per image at shape (1, 3, 480, 640)\n",
      "\n",
      "0: 480x640 2 licenses, 89.3ms\n",
      "Speed: 3.3ms preprocess, 89.3ms inference, 0.6ms postprocess per image at shape (1, 3, 480, 640)\n",
      "\n",
      "0: 480x640 15 cars, 1 bus, 2 trucks, 83.3ms\n",
      "Speed: 2.6ms preprocess, 83.3ms inference, 1.3ms postprocess per image at shape (1, 3, 480, 640)\n",
      "\n",
      "0: 480x640 2 licenses, 82.9ms\n",
      "Speed: 2.5ms preprocess, 82.9ms inference, 0.6ms postprocess per image at shape (1, 3, 480, 640)\n",
      "\n",
      "0: 480x640 14 cars, 1 bus, 2 trucks, 80.6ms\n",
      "Speed: 2.4ms preprocess, 80.6ms inference, 0.8ms postprocess per image at shape (1, 3, 480, 640)\n",
      "\n",
      "0: 480x640 2 licenses, 85.7ms\n",
      "Speed: 3.1ms preprocess, 85.7ms inference, 0.5ms postprocess per image at shape (1, 3, 480, 640)\n",
      "\n",
      "0: 480x640 14 cars, 1 bus, 2 trucks, 80.5ms\n",
      "Speed: 2.4ms preprocess, 80.5ms inference, 0.7ms postprocess per image at shape (1, 3, 480, 640)\n",
      "\n",
      "0: 480x640 2 licenses, 80.2ms\n",
      "Speed: 3.2ms preprocess, 80.2ms inference, 1.1ms postprocess per image at shape (1, 3, 480, 640)\n",
      "\n",
      "0: 480x640 13 cars, 1 bus, 1 truck, 83.1ms\n",
      "Speed: 2.5ms preprocess, 83.1ms inference, 0.7ms postprocess per image at shape (1, 3, 480, 640)\n",
      "\n",
      "0: 480x640 2 licenses, 86.1ms\n",
      "Speed: 2.8ms preprocess, 86.1ms inference, 0.6ms postprocess per image at shape (1, 3, 480, 640)\n"
     ]
    },
    {
     "name": "stdout",
     "output_type": "stream",
     "text": [
      "Error: results_list is empty or contains tuples without a second element.\n"
     ]
    },
    {
     "name": "stderr",
     "output_type": "stream",
     "text": [
      "\n",
      "0: 480x640 13 cars, 1 bus, 1 truck, 80.7ms\n",
      "Speed: 2.5ms preprocess, 80.7ms inference, 0.7ms postprocess per image at shape (1, 3, 480, 640)\n",
      "\n",
      "0: 480x640 2 licenses, 75.3ms\n",
      "Speed: 3.0ms preprocess, 75.3ms inference, 0.5ms postprocess per image at shape (1, 3, 480, 640)\n",
      "\n",
      "0: 480x640 14 cars, 1 bus, 2 trucks, 78.8ms\n",
      "Speed: 2.9ms preprocess, 78.8ms inference, 0.7ms postprocess per image at shape (1, 3, 480, 640)\n",
      "\n",
      "0: 480x640 2 licenses, 80.4ms\n",
      "Speed: 3.1ms preprocess, 80.4ms inference, 0.9ms postprocess per image at shape (1, 3, 480, 640)\n",
      "\n",
      "0: 480x640 14 cars, 1 bus, 2 trucks, 82.7ms\n",
      "Speed: 2.5ms preprocess, 82.7ms inference, 0.7ms postprocess per image at shape (1, 3, 480, 640)\n",
      "\n",
      "0: 480x640 2 licenses, 78.9ms\n",
      "Speed: 2.4ms preprocess, 78.9ms inference, 0.6ms postprocess per image at shape (1, 3, 480, 640)\n",
      "\n",
      "0: 480x640 15 cars, 1 bus, 1 truck, 81.4ms\n",
      "Speed: 2.6ms preprocess, 81.4ms inference, 1.1ms postprocess per image at shape (1, 3, 480, 640)\n",
      "\n",
      "0: 480x640 1 license, 83.9ms\n",
      "Speed: 3.3ms preprocess, 83.9ms inference, 2.2ms postprocess per image at shape (1, 3, 480, 640)\n",
      "\n",
      "0: 480x640 15 cars, 1 bus, 1 truck, 82.1ms\n",
      "Speed: 2.9ms preprocess, 82.1ms inference, 1.5ms postprocess per image at shape (1, 3, 480, 640)\n",
      "\n",
      "0: 480x640 1 license, 97.7ms\n",
      "Speed: 3.1ms preprocess, 97.7ms inference, 0.7ms postprocess per image at shape (1, 3, 480, 640)\n",
      "\n",
      "0: 480x640 15 cars, 1 bus, 1 truck, 89.3ms\n",
      "Speed: 2.7ms preprocess, 89.3ms inference, 0.9ms postprocess per image at shape (1, 3, 480, 640)\n",
      "\n",
      "0: 480x640 1 license, 84.0ms\n",
      "Speed: 3.4ms preprocess, 84.0ms inference, 0.6ms postprocess per image at shape (1, 3, 480, 640)\n",
      "\n",
      "0: 480x640 15 cars, 1 bus, 1 truck, 85.7ms\n",
      "Speed: 2.7ms preprocess, 85.7ms inference, 0.8ms postprocess per image at shape (1, 3, 480, 640)\n",
      "\n",
      "0: 480x640 1 license, 92.6ms\n",
      "Speed: 2.6ms preprocess, 92.6ms inference, 0.6ms postprocess per image at shape (1, 3, 480, 640)\n",
      "\n",
      "0: 480x640 15 cars, 1 bus, 1 truck, 83.7ms\n",
      "Speed: 2.6ms preprocess, 83.7ms inference, 0.9ms postprocess per image at shape (1, 3, 480, 640)\n",
      "\n",
      "0: 480x640 1 license, 82.3ms\n",
      "Speed: 3.1ms preprocess, 82.3ms inference, 0.6ms postprocess per image at shape (1, 3, 480, 640)\n",
      "\n",
      "0: 480x640 15 cars, 1 bus, 1 truck, 87.5ms\n",
      "Speed: 2.7ms preprocess, 87.5ms inference, 0.8ms postprocess per image at shape (1, 3, 480, 640)\n",
      "\n",
      "0: 480x640 1 license, 81.0ms\n",
      "Speed: 2.8ms preprocess, 81.0ms inference, 0.9ms postprocess per image at shape (1, 3, 480, 640)\n",
      "\n",
      "0: 480x640 14 cars, 1 bus, 1 truck, 83.8ms\n",
      "Speed: 2.6ms preprocess, 83.8ms inference, 1.5ms postprocess per image at shape (1, 3, 480, 640)\n",
      "\n",
      "0: 480x640 1 license, 86.9ms\n",
      "Speed: 3.4ms preprocess, 86.9ms inference, 0.6ms postprocess per image at shape (1, 3, 480, 640)\n",
      "\n",
      "0: 480x640 15 cars, 1 bus, 1 truck, 91.5ms\n",
      "Speed: 2.4ms preprocess, 91.5ms inference, 0.8ms postprocess per image at shape (1, 3, 480, 640)\n",
      "\n",
      "0: 480x640 1 license, 83.2ms\n",
      "Speed: 2.7ms preprocess, 83.2ms inference, 0.6ms postprocess per image at shape (1, 3, 480, 640)\n",
      "\n",
      "0: 480x640 16 cars, 1 bus, 1 truck, 83.1ms\n",
      "Speed: 2.9ms preprocess, 83.1ms inference, 1.5ms postprocess per image at shape (1, 3, 480, 640)\n",
      "\n",
      "0: 480x640 1 license, 78.3ms\n",
      "Speed: 3.3ms preprocess, 78.3ms inference, 0.6ms postprocess per image at shape (1, 3, 480, 640)\n",
      "\n",
      "0: 480x640 16 cars, 1 bus, 1 truck, 86.7ms\n",
      "Speed: 2.8ms preprocess, 86.7ms inference, 0.8ms postprocess per image at shape (1, 3, 480, 640)\n",
      "\n",
      "0: 480x640 1 license, 81.4ms\n",
      "Speed: 2.7ms preprocess, 81.4ms inference, 1.2ms postprocess per image at shape (1, 3, 480, 640)\n",
      "\n",
      "0: 480x640 16 cars, 1 bus, 1 truck, 146.3ms\n",
      "Speed: 3.2ms preprocess, 146.3ms inference, 1.5ms postprocess per image at shape (1, 3, 480, 640)\n",
      "\n",
      "0: 480x640 2 licenses, 261.6ms\n",
      "Speed: 6.3ms preprocess, 261.6ms inference, 1.4ms postprocess per image at shape (1, 3, 480, 640)\n",
      "\n",
      "0: 480x640 16 cars, 1 bus, 1 truck, 78.8ms\n",
      "Speed: 2.5ms preprocess, 78.8ms inference, 0.8ms postprocess per image at shape (1, 3, 480, 640)\n",
      "\n",
      "0: 480x640 2 licenses, 83.7ms\n",
      "Speed: 3.4ms preprocess, 83.7ms inference, 1.1ms postprocess per image at shape (1, 3, 480, 640)\n",
      "\n",
      "0: 480x640 14 cars, 2 buss, 2 trucks, 89.4ms\n",
      "Speed: 2.8ms preprocess, 89.4ms inference, 0.9ms postprocess per image at shape (1, 3, 480, 640)\n",
      "\n",
      "0: 480x640 1 license, 86.4ms\n",
      "Speed: 2.6ms preprocess, 86.4ms inference, 0.7ms postprocess per image at shape (1, 3, 480, 640)\n",
      "\n",
      "0: 480x640 14 cars, 1 bus, 2 trucks, 174.1ms\n",
      "Speed: 2.7ms preprocess, 174.1ms inference, 1.2ms postprocess per image at shape (1, 3, 480, 640)\n",
      "\n",
      "0: 480x640 1 license, 130.4ms\n",
      "Speed: 4.3ms preprocess, 130.4ms inference, 0.9ms postprocess per image at shape (1, 3, 480, 640)\n",
      "\n",
      "0: 480x640 15 cars, 1 bus, 2 trucks, 79.7ms\n",
      "Speed: 2.4ms preprocess, 79.7ms inference, 0.8ms postprocess per image at shape (1, 3, 480, 640)\n",
      "\n",
      "0: 480x640 1 license, 78.3ms\n",
      "Speed: 2.6ms preprocess, 78.3ms inference, 1.0ms postprocess per image at shape (1, 3, 480, 640)\n",
      "\n",
      "0: 480x640 15 cars, 1 bus, 2 trucks, 81.8ms\n",
      "Speed: 2.6ms preprocess, 81.8ms inference, 0.8ms postprocess per image at shape (1, 3, 480, 640)\n",
      "\n",
      "0: 480x640 1 license, 86.7ms\n",
      "Speed: 2.6ms preprocess, 86.7ms inference, 1.4ms postprocess per image at shape (1, 3, 480, 640)\n",
      "\n",
      "0: 480x640 15 cars, 2 buss, 2 trucks, 77.5ms\n",
      "Speed: 2.9ms preprocess, 77.5ms inference, 0.8ms postprocess per image at shape (1, 3, 480, 640)\n",
      "\n",
      "0: 480x640 2 licenses, 80.3ms\n",
      "Speed: 3.4ms preprocess, 80.3ms inference, 0.6ms postprocess per image at shape (1, 3, 480, 640)\n",
      "\n",
      "0: 480x640 15 cars, 2 buss, 2 trucks, 78.3ms\n",
      "Speed: 2.5ms preprocess, 78.3ms inference, 0.8ms postprocess per image at shape (1, 3, 480, 640)\n",
      "\n",
      "0: 480x640 2 licenses, 86.6ms\n",
      "Speed: 2.6ms preprocess, 86.6ms inference, 1.0ms postprocess per image at shape (1, 3, 480, 640)\n",
      "\n",
      "0: 480x640 15 cars, 2 buss, 1 truck, 76.1ms\n",
      "Speed: 2.5ms preprocess, 76.1ms inference, 0.8ms postprocess per image at shape (1, 3, 480, 640)\n",
      "\n",
      "0: 480x640 3 licenses, 83.8ms\n",
      "Speed: 3.4ms preprocess, 83.8ms inference, 0.7ms postprocess per image at shape (1, 3, 480, 640)\n"
     ]
    },
    {
     "name": "stdout",
     "output_type": "stream",
     "text": [
      "Error: results_list is empty or contains tuples without a second element.\n"
     ]
    },
    {
     "name": "stderr",
     "output_type": "stream",
     "text": [
      "\n",
      "0: 480x640 17 cars, 2 buss, 2 trucks, 87.8ms\n",
      "Speed: 2.4ms preprocess, 87.8ms inference, 0.9ms postprocess per image at shape (1, 3, 480, 640)\n",
      "\n",
      "0: 480x640 3 licenses, 112.4ms\n",
      "Speed: 3.9ms preprocess, 112.4ms inference, 1.2ms postprocess per image at shape (1, 3, 480, 640)\n"
     ]
    },
    {
     "name": "stdout",
     "output_type": "stream",
     "text": [
      "Error: results_list is empty or contains tuples without a second element.\n"
     ]
    },
    {
     "name": "stderr",
     "output_type": "stream",
     "text": [
      "\n",
      "0: 480x640 16 cars, 2 buss, 2 trucks, 84.2ms\n",
      "Speed: 2.4ms preprocess, 84.2ms inference, 0.7ms postprocess per image at shape (1, 3, 480, 640)\n",
      "\n",
      "0: 480x640 2 licenses, 76.5ms\n",
      "Speed: 3.0ms preprocess, 76.5ms inference, 0.5ms postprocess per image at shape (1, 3, 480, 640)\n",
      "\n",
      "0: 480x640 16 cars, 2 buss, 2 trucks, 79.3ms\n",
      "Speed: 2.3ms preprocess, 79.3ms inference, 0.8ms postprocess per image at shape (1, 3, 480, 640)\n",
      "\n",
      "0: 480x640 2 licenses, 77.6ms\n",
      "Speed: 2.9ms preprocess, 77.6ms inference, 0.6ms postprocess per image at shape (1, 3, 480, 640)\n",
      "\n",
      "0: 480x640 15 cars, 1 bus, 2 trucks, 80.9ms\n",
      "Speed: 2.5ms preprocess, 80.9ms inference, 0.7ms postprocess per image at shape (1, 3, 480, 640)\n",
      "\n",
      "0: 480x640 2 licenses, 84.7ms\n",
      "Speed: 3.0ms preprocess, 84.7ms inference, 0.6ms postprocess per image at shape (1, 3, 480, 640)\n",
      "\n",
      "0: 480x640 15 cars, 1 bus, 2 trucks, 80.5ms\n",
      "Speed: 2.4ms preprocess, 80.5ms inference, 0.7ms postprocess per image at shape (1, 3, 480, 640)\n",
      "\n",
      "0: 480x640 2 licenses, 77.0ms\n",
      "Speed: 3.0ms preprocess, 77.0ms inference, 0.5ms postprocess per image at shape (1, 3, 480, 640)\n",
      "\n",
      "0: 480x640 14 cars, 1 bus, 1 truck, 86.1ms\n",
      "Speed: 2.5ms preprocess, 86.1ms inference, 0.9ms postprocess per image at shape (1, 3, 480, 640)\n",
      "\n",
      "0: 480x640 3 licenses, 84.4ms\n",
      "Speed: 2.6ms preprocess, 84.4ms inference, 0.7ms postprocess per image at shape (1, 3, 480, 640)\n",
      "\n",
      "0: 480x640 14 cars, 1 bus, 1 truck, 85.5ms\n",
      "Speed: 2.4ms preprocess, 85.5ms inference, 0.8ms postprocess per image at shape (1, 3, 480, 640)\n",
      "\n",
      "0: 480x640 3 licenses, 85.4ms\n",
      "Speed: 2.6ms preprocess, 85.4ms inference, 0.6ms postprocess per image at shape (1, 3, 480, 640)\n"
     ]
    },
    {
     "name": "stdout",
     "output_type": "stream",
     "text": [
      "Error: results_list is empty or contains tuples without a second element.\n"
     ]
    },
    {
     "name": "stderr",
     "output_type": "stream",
     "text": [
      "\n",
      "0: 480x640 14 cars, 1 bus, 1 truck, 80.1ms\n",
      "Speed: 2.6ms preprocess, 80.1ms inference, 0.8ms postprocess per image at shape (1, 3, 480, 640)\n",
      "\n",
      "0: 480x640 2 licenses, 80.2ms\n",
      "Speed: 2.4ms preprocess, 80.2ms inference, 0.6ms postprocess per image at shape (1, 3, 480, 640)\n"
     ]
    },
    {
     "name": "stdout",
     "output_type": "stream",
     "text": [
      "Error: results_list is empty or contains tuples without a second element.\n"
     ]
    },
    {
     "name": "stderr",
     "output_type": "stream",
     "text": [
      "\n",
      "0: 480x640 15 cars, 1 bus, 1 truck, 76.0ms\n",
      "Speed: 2.7ms preprocess, 76.0ms inference, 0.8ms postprocess per image at shape (1, 3, 480, 640)\n",
      "\n",
      "0: 480x640 2 licenses, 80.4ms\n",
      "Speed: 3.0ms preprocess, 80.4ms inference, 0.6ms postprocess per image at shape (1, 3, 480, 640)\n",
      "\n",
      "0: 480x640 13 cars, 1 bus, 1 truck, 82.9ms\n",
      "Speed: 2.5ms preprocess, 82.9ms inference, 0.8ms postprocess per image at shape (1, 3, 480, 640)\n",
      "\n",
      "0: 480x640 2 licenses, 81.3ms\n",
      "Speed: 2.5ms preprocess, 81.3ms inference, 1.2ms postprocess per image at shape (1, 3, 480, 640)\n",
      "\n",
      "0: 480x640 13 cars, 1 bus, 1 truck, 78.7ms\n",
      "Speed: 2.4ms preprocess, 78.7ms inference, 0.7ms postprocess per image at shape (1, 3, 480, 640)\n",
      "\n",
      "0: 480x640 2 licenses, 77.7ms\n",
      "Speed: 2.3ms preprocess, 77.7ms inference, 0.6ms postprocess per image at shape (1, 3, 480, 640)\n",
      "\n",
      "0: 480x640 14 cars, 1 bus, 1 truck, 77.6ms\n",
      "Speed: 2.4ms preprocess, 77.6ms inference, 0.7ms postprocess per image at shape (1, 3, 480, 640)\n",
      "\n",
      "0: 480x640 2 licenses, 84.1ms\n",
      "Speed: 2.3ms preprocess, 84.1ms inference, 0.6ms postprocess per image at shape (1, 3, 480, 640)\n",
      "\n",
      "0: 480x640 14 cars, 1 bus, 1 truck, 78.8ms\n",
      "Speed: 2.4ms preprocess, 78.8ms inference, 0.7ms postprocess per image at shape (1, 3, 480, 640)\n",
      "\n",
      "0: 480x640 2 licenses, 78.5ms\n",
      "Speed: 2.8ms preprocess, 78.5ms inference, 0.6ms postprocess per image at shape (1, 3, 480, 640)\n",
      "\n",
      "0: 480x640 13 cars, 1 bus, 2 trucks, 79.9ms\n",
      "Speed: 2.8ms preprocess, 79.9ms inference, 1.1ms postprocess per image at shape (1, 3, 480, 640)\n",
      "\n",
      "0: 480x640 2 licenses, 81.9ms\n",
      "Speed: 2.9ms preprocess, 81.9ms inference, 0.6ms postprocess per image at shape (1, 3, 480, 640)\n",
      "\n",
      "0: 480x640 12 cars, 1 bus, 2 trucks, 77.7ms\n",
      "Speed: 2.5ms preprocess, 77.7ms inference, 0.7ms postprocess per image at shape (1, 3, 480, 640)\n",
      "\n",
      "0: 480x640 2 licenses, 80.6ms\n",
      "Speed: 2.5ms preprocess, 80.6ms inference, 0.6ms postprocess per image at shape (1, 3, 480, 640)\n",
      "\n",
      "0: 480x640 15 cars, 1 bus, 1 truck, 81.5ms\n",
      "Speed: 2.5ms preprocess, 81.5ms inference, 0.7ms postprocess per image at shape (1, 3, 480, 640)\n",
      "\n",
      "0: 480x640 1 license, 80.0ms\n",
      "Speed: 3.2ms preprocess, 80.0ms inference, 0.6ms postprocess per image at shape (1, 3, 480, 640)\n",
      "\n",
      "0: 480x640 15 cars, 1 bus, 1 truck, 86.0ms\n",
      "Speed: 2.6ms preprocess, 86.0ms inference, 0.9ms postprocess per image at shape (1, 3, 480, 640)\n",
      "\n",
      "0: 480x640 1 license, 82.7ms\n",
      "Speed: 2.7ms preprocess, 82.7ms inference, 0.6ms postprocess per image at shape (1, 3, 480, 640)\n",
      "\n",
      "0: 480x640 14 cars, 1 bus, 2 trucks, 85.8ms\n",
      "Speed: 2.5ms preprocess, 85.8ms inference, 0.8ms postprocess per image at shape (1, 3, 480, 640)\n",
      "\n",
      "0: 480x640 2 licenses, 84.1ms\n",
      "Speed: 2.7ms preprocess, 84.1ms inference, 0.6ms postprocess per image at shape (1, 3, 480, 640)\n",
      "\n",
      "0: 480x640 14 cars, 1 bus, 1 truck, 78.5ms\n",
      "Speed: 2.5ms preprocess, 78.5ms inference, 0.7ms postprocess per image at shape (1, 3, 480, 640)\n",
      "\n",
      "0: 480x640 2 licenses, 85.7ms\n",
      "Speed: 2.9ms preprocess, 85.7ms inference, 0.6ms postprocess per image at shape (1, 3, 480, 640)\n",
      "\n",
      "0: 480x640 15 cars, 2 buss, 1 truck, 80.7ms\n",
      "Speed: 2.8ms preprocess, 80.7ms inference, 0.7ms postprocess per image at shape (1, 3, 480, 640)\n",
      "\n",
      "0: 480x640 2 licenses, 85.6ms\n",
      "Speed: 3.3ms preprocess, 85.6ms inference, 0.6ms postprocess per image at shape (1, 3, 480, 640)\n"
     ]
    },
    {
     "name": "stdout",
     "output_type": "stream",
     "text": [
      "Error: results_list is empty or contains tuples without a second element.\n"
     ]
    },
    {
     "name": "stderr",
     "output_type": "stream",
     "text": [
      "\n",
      "0: 480x640 14 cars, 2 buss, 1 truck, 89.2ms\n",
      "Speed: 2.3ms preprocess, 89.2ms inference, 0.9ms postprocess per image at shape (1, 3, 480, 640)\n",
      "\n",
      "0: 480x640 2 licenses, 138.9ms\n",
      "Speed: 3.8ms preprocess, 138.9ms inference, 1.1ms postprocess per image at shape (1, 3, 480, 640)\n",
      "\n",
      "0: 480x640 13 cars, 2 buss, 2 trucks, 84.8ms\n",
      "Speed: 2.4ms preprocess, 84.8ms inference, 0.9ms postprocess per image at shape (1, 3, 480, 640)\n",
      "\n",
      "0: 480x640 2 licenses, 83.0ms\n",
      "Speed: 3.5ms preprocess, 83.0ms inference, 0.6ms postprocess per image at shape (1, 3, 480, 640)\n",
      "\n",
      "0: 480x640 13 cars, 2 buss, 2 trucks, 82.4ms\n",
      "Speed: 2.6ms preprocess, 82.4ms inference, 0.8ms postprocess per image at shape (1, 3, 480, 640)\n",
      "\n",
      "0: 480x640 2 licenses, 86.0ms\n",
      "Speed: 3.4ms preprocess, 86.0ms inference, 0.6ms postprocess per image at shape (1, 3, 480, 640)\n",
      "\n",
      "0: 480x640 14 cars, 1 bus, 3 trucks, 81.0ms\n",
      "Speed: 2.5ms preprocess, 81.0ms inference, 0.7ms postprocess per image at shape (1, 3, 480, 640)\n",
      "\n",
      "0: 480x640 2 licenses, 77.2ms\n",
      "Speed: 3.0ms preprocess, 77.2ms inference, 0.5ms postprocess per image at shape (1, 3, 480, 640)\n",
      "\n",
      "0: 480x640 14 cars, 1 bus, 3 trucks, 81.3ms\n",
      "Speed: 2.5ms preprocess, 81.3ms inference, 0.7ms postprocess per image at shape (1, 3, 480, 640)\n",
      "\n",
      "0: 480x640 2 licenses, 84.0ms\n",
      "Speed: 3.2ms preprocess, 84.0ms inference, 0.6ms postprocess per image at shape (1, 3, 480, 640)\n",
      "\n",
      "0: 480x640 12 cars, 1 bus, 2 trucks, 80.4ms\n",
      "Speed: 2.6ms preprocess, 80.4ms inference, 0.8ms postprocess per image at shape (1, 3, 480, 640)\n",
      "\n",
      "0: 480x640 2 licenses, 81.9ms\n",
      "Speed: 2.4ms preprocess, 81.9ms inference, 1.0ms postprocess per image at shape (1, 3, 480, 640)\n",
      "\n",
      "0: 480x640 11 cars, 1 bus, 3 trucks, 77.3ms\n",
      "Speed: 2.6ms preprocess, 77.3ms inference, 0.7ms postprocess per image at shape (1, 3, 480, 640)\n",
      "\n",
      "0: 480x640 2 licenses, 79.5ms\n",
      "Speed: 3.1ms preprocess, 79.5ms inference, 0.6ms postprocess per image at shape (1, 3, 480, 640)\n",
      "\n",
      "0: 480x640 13 cars, 1 bus, 2 trucks, 83.0ms\n",
      "Speed: 2.6ms preprocess, 83.0ms inference, 0.8ms postprocess per image at shape (1, 3, 480, 640)\n",
      "\n",
      "0: 480x640 2 licenses, 83.5ms\n",
      "Speed: 3.3ms preprocess, 83.5ms inference, 0.6ms postprocess per image at shape (1, 3, 480, 640)\n",
      "\n",
      "0: 480x640 14 cars, 1 bus, 2 trucks, 78.3ms\n",
      "Speed: 2.5ms preprocess, 78.3ms inference, 1.1ms postprocess per image at shape (1, 3, 480, 640)\n",
      "\n",
      "0: 480x640 2 licenses, 76.6ms\n",
      "Speed: 2.9ms preprocess, 76.6ms inference, 1.2ms postprocess per image at shape (1, 3, 480, 640)\n"
     ]
    },
    {
     "name": "stdout",
     "output_type": "stream",
     "text": [
      "Error: results_list is empty or contains tuples without a second element.\n"
     ]
    },
    {
     "name": "stderr",
     "output_type": "stream",
     "text": [
      "\n",
      "0: 480x640 13 cars, 1 bus, 2 trucks, 129.2ms\n",
      "Speed: 2.3ms preprocess, 129.2ms inference, 1.3ms postprocess per image at shape (1, 3, 480, 640)\n",
      "\n"
     ]
    },
    {
     "name": "stdout",
     "output_type": "stream",
     "text": [
      "Error: results_list is empty or contains tuples without a second element.\n"
     ]
    },
    {
     "name": "stderr",
     "output_type": "stream",
     "text": [
      "0: 480x640 2 licenses, 275.0ms\n",
      "Speed: 6.0ms preprocess, 275.0ms inference, 1.3ms postprocess per image at shape (1, 3, 480, 640)\n",
      "\n",
      "0: 480x640 13 cars, 1 bus, 2 trucks, 84.1ms\n",
      "Speed: 2.7ms preprocess, 84.1ms inference, 0.8ms postprocess per image at shape (1, 3, 480, 640)\n",
      "\n",
      "0: 480x640 2 licenses, 97.8ms\n",
      "Speed: 3.4ms preprocess, 97.8ms inference, 0.7ms postprocess per image at shape (1, 3, 480, 640)\n",
      "\n",
      "0: 480x640 15 cars, 1 bus, 2 trucks, 82.5ms\n",
      "Speed: 2.8ms preprocess, 82.5ms inference, 0.8ms postprocess per image at shape (1, 3, 480, 640)\n",
      "\n",
      "0: 480x640 1 license, 76.3ms\n",
      "Speed: 2.5ms preprocess, 76.3ms inference, 1.1ms postprocess per image at shape (1, 3, 480, 640)\n",
      "\n",
      "0: 480x640 15 cars, 1 bus, 2 trucks, 89.4ms\n",
      "Speed: 2.7ms preprocess, 89.4ms inference, 0.9ms postprocess per image at shape (1, 3, 480, 640)\n",
      "\n",
      "0: 480x640 1 license, 87.8ms\n",
      "Speed: 2.5ms preprocess, 87.8ms inference, 0.6ms postprocess per image at shape (1, 3, 480, 640)\n",
      "\n",
      "0: 480x640 14 cars, 1 bus, 3 trucks, 78.9ms\n",
      "Speed: 2.4ms preprocess, 78.9ms inference, 0.7ms postprocess per image at shape (1, 3, 480, 640)\n",
      "\n",
      "0: 480x640 3 licenses, 85.4ms\n",
      "Speed: 3.0ms preprocess, 85.4ms inference, 1.0ms postprocess per image at shape (1, 3, 480, 640)\n",
      "\n",
      "0: 480x640 14 cars, 1 bus, 3 trucks, 83.9ms\n",
      "Speed: 2.4ms preprocess, 83.9ms inference, 0.7ms postprocess per image at shape (1, 3, 480, 640)\n",
      "\n",
      "0: 480x640 3 licenses, 79.5ms\n",
      "Speed: 2.5ms preprocess, 79.5ms inference, 0.6ms postprocess per image at shape (1, 3, 480, 640)\n"
     ]
    },
    {
     "name": "stdout",
     "output_type": "stream",
     "text": [
      "Error: results_list is empty or contains tuples without a second element.\n"
     ]
    },
    {
     "name": "stderr",
     "output_type": "stream",
     "text": [
      "\n",
      "0: 480x640 14 cars, 1 bus, 2 trucks, 86.3ms\n",
      "Speed: 2.3ms preprocess, 86.3ms inference, 1.2ms postprocess per image at shape (1, 3, 480, 640)\n",
      "\n",
      "0: 480x640 2 licenses, 82.3ms\n",
      "Speed: 3.2ms preprocess, 82.3ms inference, 0.5ms postprocess per image at shape (1, 3, 480, 640)\n"
     ]
    },
    {
     "name": "stdout",
     "output_type": "stream",
     "text": [
      "Error: results_list is empty or contains tuples without a second element.\n"
     ]
    },
    {
     "name": "stderr",
     "output_type": "stream",
     "text": [
      "\n",
      "0: 480x640 13 cars, 1 bus, 2 trucks, 83.5ms\n",
      "Speed: 3.5ms preprocess, 83.5ms inference, 0.7ms postprocess per image at shape (1, 3, 480, 640)\n",
      "\n",
      "0: 480x640 1 license, 79.0ms\n",
      "Speed: 2.7ms preprocess, 79.0ms inference, 0.6ms postprocess per image at shape (1, 3, 480, 640)\n",
      "\n",
      "0: 480x640 13 cars, 1 bus, 3 trucks, 86.1ms\n",
      "Speed: 2.6ms preprocess, 86.1ms inference, 1.1ms postprocess per image at shape (1, 3, 480, 640)\n",
      "\n",
      "0: 480x640 (no detections), 85.5ms\n",
      "Speed: 3.2ms preprocess, 85.5ms inference, 0.3ms postprocess per image at shape (1, 3, 480, 640)\n",
      "\n",
      "0: 480x640 13 cars, 1 bus, 3 trucks, 92.9ms\n",
      "Speed: 3.2ms preprocess, 92.9ms inference, 0.9ms postprocess per image at shape (1, 3, 480, 640)\n",
      "\n",
      "0: 480x640 (no detections), 100.7ms\n",
      "Speed: 3.8ms preprocess, 100.7ms inference, 0.5ms postprocess per image at shape (1, 3, 480, 640)\n",
      "\n",
      "0: 480x640 14 cars, 1 bus, 2 trucks, 104.2ms\n",
      "Speed: 4.4ms preprocess, 104.2ms inference, 0.9ms postprocess per image at shape (1, 3, 480, 640)\n",
      "\n",
      "0: 480x640 2 licenses, 94.6ms\n",
      "Speed: 3.8ms preprocess, 94.6ms inference, 0.6ms postprocess per image at shape (1, 3, 480, 640)\n",
      "\n",
      "0: 480x640 13 cars, 1 bus, 2 trucks, 77.8ms\n",
      "Speed: 2.6ms preprocess, 77.8ms inference, 0.7ms postprocess per image at shape (1, 3, 480, 640)\n",
      "\n",
      "0: 480x640 2 licenses, 75.6ms\n",
      "Speed: 2.9ms preprocess, 75.6ms inference, 0.5ms postprocess per image at shape (1, 3, 480, 640)\n",
      "\n",
      "0: 480x640 13 cars, 1 bus, 2 trucks, 83.9ms\n",
      "Speed: 2.8ms preprocess, 83.9ms inference, 0.9ms postprocess per image at shape (1, 3, 480, 640)\n",
      "\n",
      "0: 480x640 2 licenses, 84.4ms\n",
      "Speed: 3.1ms preprocess, 84.4ms inference, 0.6ms postprocess per image at shape (1, 3, 480, 640)\n",
      "\n",
      "0: 480x640 13 cars, 1 bus, 2 trucks, 85.3ms\n",
      "Speed: 2.5ms preprocess, 85.3ms inference, 0.8ms postprocess per image at shape (1, 3, 480, 640)\n",
      "\n",
      "0: 480x640 2 licenses, 84.0ms\n",
      "Speed: 2.6ms preprocess, 84.0ms inference, 0.6ms postprocess per image at shape (1, 3, 480, 640)\n",
      "\n",
      "0: 480x640 13 cars, 1 bus, 2 trucks, 82.7ms\n",
      "Speed: 2.4ms preprocess, 82.7ms inference, 0.8ms postprocess per image at shape (1, 3, 480, 640)\n",
      "\n",
      "0: 480x640 2 licenses, 85.9ms\n",
      "Speed: 3.5ms preprocess, 85.9ms inference, 0.6ms postprocess per image at shape (1, 3, 480, 640)\n",
      "\n",
      "0: 480x640 12 cars, 1 bus, 2 trucks, 86.0ms\n",
      "Speed: 2.7ms preprocess, 86.0ms inference, 0.8ms postprocess per image at shape (1, 3, 480, 640)\n",
      "\n",
      "0: 480x640 2 licenses, 83.8ms\n",
      "Speed: 3.5ms preprocess, 83.8ms inference, 0.6ms postprocess per image at shape (1, 3, 480, 640)\n",
      "\n",
      "0: 480x640 16 cars, 1 bus, 2 trucks, 76.3ms\n",
      "Speed: 2.4ms preprocess, 76.3ms inference, 0.8ms postprocess per image at shape (1, 3, 480, 640)\n",
      "\n",
      "0: 480x640 1 license, 81.7ms\n",
      "Speed: 3.4ms preprocess, 81.7ms inference, 0.6ms postprocess per image at shape (1, 3, 480, 640)\n",
      "\n",
      "0: 480x640 16 cars, 1 bus, 2 trucks, 84.5ms\n",
      "Speed: 2.8ms preprocess, 84.5ms inference, 0.8ms postprocess per image at shape (1, 3, 480, 640)\n",
      "\n",
      "0: 480x640 1 license, 87.9ms\n",
      "Speed: 3.3ms preprocess, 87.9ms inference, 0.9ms postprocess per image at shape (1, 3, 480, 640)\n",
      "\n",
      "0: 480x640 15 cars, 1 bus, 2 trucks, 81.5ms\n",
      "Speed: 2.9ms preprocess, 81.5ms inference, 0.8ms postprocess per image at shape (1, 3, 480, 640)\n",
      "\n",
      "0: 480x640 1 license, 79.9ms\n",
      "Speed: 3.4ms preprocess, 79.9ms inference, 1.0ms postprocess per image at shape (1, 3, 480, 640)\n",
      "\n",
      "0: 480x640 16 cars, 1 bus, 2 trucks, 95.1ms\n",
      "Speed: 2.7ms preprocess, 95.1ms inference, 1.0ms postprocess per image at shape (1, 3, 480, 640)\n",
      "\n",
      "0: 480x640 1 license, 113.0ms\n",
      "Speed: 4.5ms preprocess, 113.0ms inference, 1.1ms postprocess per image at shape (1, 3, 480, 640)\n",
      "\n",
      "0: 480x640 17 cars, 2 trucks, 106.0ms\n",
      "Speed: 3.8ms preprocess, 106.0ms inference, 0.9ms postprocess per image at shape (1, 3, 480, 640)\n",
      "\n",
      "0: 480x640 (no detections), 92.5ms\n",
      "Speed: 3.5ms preprocess, 92.5ms inference, 0.8ms postprocess per image at shape (1, 3, 480, 640)\n",
      "\n",
      "0: 480x640 17 cars, 2 trucks, 95.3ms\n",
      "Speed: 3.0ms preprocess, 95.3ms inference, 1.3ms postprocess per image at shape (1, 3, 480, 640)\n",
      "\n",
      "0: 480x640 (no detections), 86.2ms\n",
      "Speed: 3.9ms preprocess, 86.2ms inference, 0.4ms postprocess per image at shape (1, 3, 480, 640)\n",
      "\n",
      "0: 480x640 15 cars, 1 bus, 2 trucks, 101.6ms\n",
      "Speed: 3.1ms preprocess, 101.6ms inference, 0.9ms postprocess per image at shape (1, 3, 480, 640)\n",
      "\n",
      "0: 480x640 1 license, 95.3ms\n",
      "Speed: 3.8ms preprocess, 95.3ms inference, 0.6ms postprocess per image at shape (1, 3, 480, 640)\n",
      "\n",
      "0: 480x640 15 cars, 1 bus, 2 trucks, 111.6ms\n",
      "Speed: 3.4ms preprocess, 111.6ms inference, 1.2ms postprocess per image at shape (1, 3, 480, 640)\n",
      "\n"
     ]
    },
    {
     "name": "stdout",
     "output_type": "stream",
     "text": [
      "Error: results_list is empty or contains tuples without a second element.\n"
     ]
    },
    {
     "name": "stderr",
     "output_type": "stream",
     "text": [
      "0: 480x640 1 license, 122.2ms\n",
      "Speed: 5.0ms preprocess, 122.2ms inference, 1.9ms postprocess per image at shape (1, 3, 480, 640)\n",
      "\n",
      "0: 480x640 14 cars, 2 buss, 2 trucks, 85.4ms\n",
      "Speed: 2.7ms preprocess, 85.4ms inference, 1.6ms postprocess per image at shape (1, 3, 480, 640)\n",
      "\n",
      "0: 480x640 2 licenses, 80.6ms\n",
      "Speed: 3.3ms preprocess, 80.6ms inference, 0.6ms postprocess per image at shape (1, 3, 480, 640)\n"
     ]
    },
    {
     "name": "stdout",
     "output_type": "stream",
     "text": [
      "Error: results_list is empty or contains tuples without a second element.\n"
     ]
    },
    {
     "name": "stderr",
     "output_type": "stream",
     "text": [
      "\n",
      "0: 480x640 14 cars, 2 buss, 2 trucks, 86.3ms\n",
      "Speed: 2.7ms preprocess, 86.3ms inference, 0.8ms postprocess per image at shape (1, 3, 480, 640)\n",
      "\n",
      "0: 480x640 2 licenses, 82.8ms\n",
      "Speed: 3.4ms preprocess, 82.8ms inference, 0.6ms postprocess per image at shape (1, 3, 480, 640)\n"
     ]
    },
    {
     "name": "stdout",
     "output_type": "stream",
     "text": [
      "Error: results_list is empty or contains tuples without a second element.\n"
     ]
    },
    {
     "name": "stderr",
     "output_type": "stream",
     "text": [
      "\n",
      "0: 480x640 14 cars, 1 bus, 2 trucks, 76.9ms\n",
      "Speed: 2.4ms preprocess, 76.9ms inference, 0.8ms postprocess per image at shape (1, 3, 480, 640)\n",
      "\n",
      "0: 480x640 2 licenses, 73.5ms\n",
      "Speed: 3.1ms preprocess, 73.5ms inference, 0.6ms postprocess per image at shape (1, 3, 480, 640)\n"
     ]
    },
    {
     "name": "stdout",
     "output_type": "stream",
     "text": [
      "Error: results_list is empty or contains tuples without a second element.\n"
     ]
    },
    {
     "name": "stderr",
     "output_type": "stream",
     "text": [
      "\n",
      "0: 480x640 14 cars, 1 bus, 2 trucks, 86.3ms\n",
      "Speed: 2.7ms preprocess, 86.3ms inference, 0.8ms postprocess per image at shape (1, 3, 480, 640)\n",
      "\n",
      "0: 480x640 2 licenses, 88.6ms\n",
      "Speed: 3.5ms preprocess, 88.6ms inference, 0.7ms postprocess per image at shape (1, 3, 480, 640)\n",
      "\n",
      "0: 480x640 14 cars, 2 trucks, 81.3ms\n",
      "Speed: 2.5ms preprocess, 81.3ms inference, 0.7ms postprocess per image at shape (1, 3, 480, 640)\n",
      "\n",
      "0: 480x640 2 licenses, 77.6ms\n",
      "Speed: 3.1ms preprocess, 77.6ms inference, 0.6ms postprocess per image at shape (1, 3, 480, 640)\n",
      "\n",
      "0: 480x640 14 cars, 2 trucks, 78.4ms\n",
      "Speed: 2.4ms preprocess, 78.4ms inference, 0.8ms postprocess per image at shape (1, 3, 480, 640)\n",
      "\n",
      "0: 480x640 2 licenses, 83.7ms\n",
      "Speed: 3.1ms preprocess, 83.7ms inference, 0.6ms postprocess per image at shape (1, 3, 480, 640)\n"
     ]
    },
    {
     "name": "stdout",
     "output_type": "stream",
     "text": [
      "Error: results_list is empty or contains tuples without a second element.\n"
     ]
    },
    {
     "name": "stderr",
     "output_type": "stream",
     "text": [
      "\n",
      "0: 480x640 14 cars, 2 trucks, 141.4ms\n",
      "Speed: 2.3ms preprocess, 141.4ms inference, 1.8ms postprocess per image at shape (1, 3, 480, 640)\n",
      "\n"
     ]
    },
    {
     "name": "stdout",
     "output_type": "stream",
     "text": [
      "Error: results_list is empty or contains tuples without a second element.\n"
     ]
    },
    {
     "name": "stderr",
     "output_type": "stream",
     "text": [
      "0: 480x640 2 licenses, 139.2ms\n",
      "Speed: 4.4ms preprocess, 139.2ms inference, 1.1ms postprocess per image at shape (1, 3, 480, 640)\n"
     ]
    },
    {
     "name": "stdout",
     "output_type": "stream",
     "text": [
      "Error: results_list is empty or contains tuples without a second element.\n"
     ]
    },
    {
     "name": "stderr",
     "output_type": "stream",
     "text": [
      "\n",
      "0: 480x640 13 cars, 2 trucks, 82.6ms\n",
      "Speed: 2.7ms preprocess, 82.6ms inference, 0.8ms postprocess per image at shape (1, 3, 480, 640)\n",
      "\n",
      "0: 480x640 2 licenses, 83.7ms\n",
      "Speed: 3.2ms preprocess, 83.7ms inference, 0.6ms postprocess per image at shape (1, 3, 480, 640)\n"
     ]
    },
    {
     "name": "stdout",
     "output_type": "stream",
     "text": [
      "Error: results_list is empty or contains tuples without a second element.\n"
     ]
    },
    {
     "name": "stderr",
     "output_type": "stream",
     "text": [
      "\n",
      "0: 480x640 14 cars, 2 trucks, 79.1ms\n",
      "Speed: 2.4ms preprocess, 79.1ms inference, 0.8ms postprocess per image at shape (1, 3, 480, 640)\n",
      "\n",
      "0: 480x640 2 licenses, 75.2ms\n",
      "Speed: 3.0ms preprocess, 75.2ms inference, 0.6ms postprocess per image at shape (1, 3, 480, 640)\n",
      "\n",
      "0: 480x640 14 cars, 2 trucks, 88.2ms\n",
      "Speed: 2.4ms preprocess, 88.2ms inference, 0.8ms postprocess per image at shape (1, 3, 480, 640)\n",
      "\n",
      "0: 480x640 2 licenses, 89.0ms\n",
      "Speed: 2.8ms preprocess, 89.0ms inference, 0.7ms postprocess per image at shape (1, 3, 480, 640)\n",
      "\n",
      "0: 480x640 14 cars, 1 bus, 2 trucks, 82.1ms\n",
      "Speed: 2.7ms preprocess, 82.1ms inference, 0.8ms postprocess per image at shape (1, 3, 480, 640)\n",
      "\n",
      "0: 480x640 2 licenses, 76.6ms\n",
      "Speed: 2.4ms preprocess, 76.6ms inference, 0.6ms postprocess per image at shape (1, 3, 480, 640)\n",
      "\n",
      "0: 480x640 14 cars, 1 bus, 2 trucks, 75.3ms\n",
      "Speed: 2.4ms preprocess, 75.3ms inference, 0.7ms postprocess per image at shape (1, 3, 480, 640)\n",
      "\n",
      "0: 480x640 2 licenses, 78.1ms\n",
      "Speed: 3.2ms preprocess, 78.1ms inference, 0.5ms postprocess per image at shape (1, 3, 480, 640)\n"
     ]
    },
    {
     "name": "stdout",
     "output_type": "stream",
     "text": [
      "Error: results_list is empty or contains tuples without a second element.\n"
     ]
    },
    {
     "name": "stderr",
     "output_type": "stream",
     "text": [
      "\n",
      "0: 480x640 14 cars, 2 buss, 2 trucks, 80.3ms\n",
      "Speed: 2.4ms preprocess, 80.3ms inference, 0.7ms postprocess per image at shape (1, 3, 480, 640)\n",
      "\n",
      "0: 480x640 1 license, 84.8ms\n",
      "Speed: 3.0ms preprocess, 84.8ms inference, 0.6ms postprocess per image at shape (1, 3, 480, 640)\n"
     ]
    },
    {
     "name": "stdout",
     "output_type": "stream",
     "text": [
      "Error: results_list is empty or contains tuples without a second element.\n"
     ]
    },
    {
     "name": "stderr",
     "output_type": "stream",
     "text": [
      "\n",
      "0: 480x640 13 cars, 3 buss, 2 trucks, 86.8ms\n",
      "Speed: 2.8ms preprocess, 86.8ms inference, 0.7ms postprocess per image at shape (1, 3, 480, 640)\n",
      "\n",
      "0: 480x640 1 license, 87.7ms\n",
      "Speed: 2.7ms preprocess, 87.7ms inference, 0.5ms postprocess per image at shape (1, 3, 480, 640)\n",
      "\n",
      "0: 480x640 13 cars, 3 buss, 2 trucks, 82.8ms\n",
      "Speed: 2.3ms preprocess, 82.8ms inference, 1.2ms postprocess per image at shape (1, 3, 480, 640)\n",
      "\n",
      "0: 480x640 1 license, 84.8ms\n",
      "Speed: 3.5ms preprocess, 84.8ms inference, 0.6ms postprocess per image at shape (1, 3, 480, 640)\n",
      "\n",
      "0: 480x640 14 cars, 2 buss, 2 trucks, 85.3ms\n",
      "Speed: 2.7ms preprocess, 85.3ms inference, 1.1ms postprocess per image at shape (1, 3, 480, 640)\n",
      "\n",
      "0: 480x640 1 license, 80.9ms\n",
      "Speed: 3.4ms preprocess, 80.9ms inference, 0.6ms postprocess per image at shape (1, 3, 480, 640)\n"
     ]
    },
    {
     "name": "stdout",
     "output_type": "stream",
     "text": [
      "Error: results_list is empty or contains tuples without a second element.\n"
     ]
    },
    {
     "name": "stderr",
     "output_type": "stream",
     "text": [
      "\n",
      "0: 480x640 14 cars, 3 buss, 2 trucks, 87.5ms\n",
      "Speed: 2.7ms preprocess, 87.5ms inference, 1.2ms postprocess per image at shape (1, 3, 480, 640)\n",
      "\n",
      "0: 480x640 2 licenses, 85.1ms\n",
      "Speed: 3.1ms preprocess, 85.1ms inference, 1.2ms postprocess per image at shape (1, 3, 480, 640)\n"
     ]
    },
    {
     "name": "stdout",
     "output_type": "stream",
     "text": [
      "Error: results_list is empty or contains tuples without a second element.\n"
     ]
    },
    {
     "name": "stderr",
     "output_type": "stream",
     "text": [
      "\n",
      "0: 480x640 14 cars, 3 buss, 2 trucks, 80.2ms\n",
      "Speed: 2.4ms preprocess, 80.2ms inference, 0.8ms postprocess per image at shape (1, 3, 480, 640)\n",
      "\n",
      "0: 480x640 2 licenses, 85.4ms\n",
      "Speed: 3.3ms preprocess, 85.4ms inference, 0.6ms postprocess per image at shape (1, 3, 480, 640)\n",
      "\n",
      "0: 480x640 14 cars, 1 bus, 2 trucks, 75.1ms\n",
      "Speed: 2.4ms preprocess, 75.1ms inference, 0.7ms postprocess per image at shape (1, 3, 480, 640)\n",
      "\n",
      "0: 480x640 2 licenses, 92.0ms\n",
      "Speed: 2.4ms preprocess, 92.0ms inference, 0.6ms postprocess per image at shape (1, 3, 480, 640)\n",
      "\n",
      "0: 480x640 14 cars, 1 bus, 2 trucks, 79.9ms\n",
      "Speed: 2.7ms preprocess, 79.9ms inference, 0.8ms postprocess per image at shape (1, 3, 480, 640)\n",
      "\n",
      "0: 480x640 2 licenses, 90.7ms\n",
      "Speed: 3.2ms preprocess, 90.7ms inference, 0.8ms postprocess per image at shape (1, 3, 480, 640)\n",
      "\n",
      "0: 480x640 13 cars, 3 buss, 2 trucks, 88.4ms\n",
      "Speed: 2.8ms preprocess, 88.4ms inference, 1.0ms postprocess per image at shape (1, 3, 480, 640)\n",
      "\n",
      "0: 480x640 2 licenses, 125.7ms\n",
      "Speed: 4.3ms preprocess, 125.7ms inference, 2.1ms postprocess per image at shape (1, 3, 480, 640)\n",
      "\n",
      "0: 480x640 13 cars, 3 buss, 2 trucks, 90.3ms\n",
      "Speed: 2.8ms preprocess, 90.3ms inference, 0.8ms postprocess per image at shape (1, 3, 480, 640)\n",
      "\n",
      "0: 480x640 2 licenses, 378.8ms\n",
      "Speed: 3.7ms preprocess, 378.8ms inference, 1.4ms postprocess per image at shape (1, 3, 480, 640)\n",
      "\n",
      "0: 480x640 14 cars, 3 buss, 2 trucks, 77.8ms\n",
      "Speed: 2.4ms preprocess, 77.8ms inference, 0.8ms postprocess per image at shape (1, 3, 480, 640)\n",
      "\n",
      "0: 480x640 2 licenses, 81.3ms\n",
      "Speed: 2.5ms preprocess, 81.3ms inference, 0.6ms postprocess per image at shape (1, 3, 480, 640)\n",
      "\n",
      "0: 480x640 14 cars, 3 buss, 2 trucks, 78.8ms\n",
      "Speed: 2.3ms preprocess, 78.8ms inference, 0.7ms postprocess per image at shape (1, 3, 480, 640)\n",
      "\n",
      "0: 480x640 2 licenses, 82.5ms\n",
      "Speed: 2.4ms preprocess, 82.5ms inference, 0.6ms postprocess per image at shape (1, 3, 480, 640)\n"
     ]
    },
    {
     "name": "stdout",
     "output_type": "stream",
     "text": [
      "Error: results_list is empty or contains tuples without a second element.\n"
     ]
    },
    {
     "name": "stderr",
     "output_type": "stream",
     "text": [
      "\n",
      "0: 480x640 14 cars, 3 buss, 2 trucks, 80.1ms\n",
      "Speed: 2.5ms preprocess, 80.1ms inference, 1.1ms postprocess per image at shape (1, 3, 480, 640)\n",
      "\n",
      "0: 480x640 2 licenses, 81.7ms\n",
      "Speed: 2.5ms preprocess, 81.7ms inference, 0.6ms postprocess per image at shape (1, 3, 480, 640)\n",
      "\n",
      "0: 480x640 14 cars, 3 buss, 2 trucks, 81.2ms\n",
      "Speed: 2.7ms preprocess, 81.2ms inference, 0.8ms postprocess per image at shape (1, 3, 480, 640)\n",
      "\n",
      "0: 480x640 2 licenses, 78.2ms\n",
      "Speed: 2.3ms preprocess, 78.2ms inference, 0.6ms postprocess per image at shape (1, 3, 480, 640)\n",
      "\n",
      "0: 480x640 14 cars, 3 buss, 2 trucks, 81.9ms\n",
      "Speed: 2.4ms preprocess, 81.9ms inference, 0.9ms postprocess per image at shape (1, 3, 480, 640)\n",
      "\n",
      "0: 480x640 2 licenses, 84.5ms\n",
      "Speed: 3.3ms preprocess, 84.5ms inference, 0.6ms postprocess per image at shape (1, 3, 480, 640)\n",
      "\n",
      "0: 480x640 14 cars, 3 buss, 2 trucks, 80.4ms\n",
      "Speed: 3.0ms preprocess, 80.4ms inference, 0.7ms postprocess per image at shape (1, 3, 480, 640)\n",
      "\n",
      "0: 480x640 2 licenses, 79.4ms\n",
      "Speed: 3.0ms preprocess, 79.4ms inference, 0.5ms postprocess per image at shape (1, 3, 480, 640)\n",
      "\n",
      "0: 480x640 16 cars, 2 buss, 2 trucks, 85.1ms\n",
      "Speed: 2.6ms preprocess, 85.1ms inference, 1.0ms postprocess per image at shape (1, 3, 480, 640)\n",
      "\n",
      "0: 480x640 2 licenses, 96.1ms\n",
      "Speed: 3.2ms preprocess, 96.1ms inference, 0.7ms postprocess per image at shape (1, 3, 480, 640)\n",
      "\n",
      "0: 480x640 16 cars, 2 buss, 2 trucks, 404.1ms\n",
      "Speed: 7.0ms preprocess, 404.1ms inference, 1.8ms postprocess per image at shape (1, 3, 480, 640)\n",
      "\n",
      "0: 480x640 2 licenses, 199.6ms\n",
      "Speed: 6.1ms preprocess, 199.6ms inference, 1.5ms postprocess per image at shape (1, 3, 480, 640)\n",
      "\n",
      "0: 480x640 16 cars, 3 buss, 2 trucks, 164.2ms\n",
      "Speed: 5.1ms preprocess, 164.2ms inference, 2.0ms postprocess per image at shape (1, 3, 480, 640)\n",
      "\n"
     ]
    },
    {
     "name": "stdout",
     "output_type": "stream",
     "text": [
      "Error: results_list is empty or contains tuples without a second element.\n"
     ]
    },
    {
     "name": "stderr",
     "output_type": "stream",
     "text": [
      "0: 480x640 1 license, 146.9ms\n",
      "Speed: 4.7ms preprocess, 146.9ms inference, 0.9ms postprocess per image at shape (1, 3, 480, 640)\n",
      "\n",
      "0: 480x640 16 cars, 3 buss, 2 trucks, 221.4ms\n",
      "Speed: 5.0ms preprocess, 221.4ms inference, 5.4ms postprocess per image at shape (1, 3, 480, 640)\n",
      "\n",
      "0: 480x640 1 license, 183.1ms\n",
      "Speed: 6.8ms preprocess, 183.1ms inference, 1.0ms postprocess per image at shape (1, 3, 480, 640)\n",
      "\n",
      "0: 480x640 17 cars, 3 buss, 2 trucks, 154.6ms\n",
      "Speed: 5.1ms preprocess, 154.6ms inference, 1.4ms postprocess per image at shape (1, 3, 480, 640)\n",
      "\n",
      "0: 480x640 2 licenses, 155.0ms\n",
      "Speed: 4.3ms preprocess, 155.0ms inference, 1.0ms postprocess per image at shape (1, 3, 480, 640)\n",
      "\n",
      "0: 480x640 17 cars, 3 buss, 2 trucks, 138.7ms\n",
      "Speed: 4.7ms preprocess, 138.7ms inference, 1.3ms postprocess per image at shape (1, 3, 480, 640)\n",
      "\n",
      "0: 480x640 2 licenses, 135.5ms\n",
      "Speed: 4.9ms preprocess, 135.5ms inference, 0.8ms postprocess per image at shape (1, 3, 480, 640)\n",
      "\n",
      "0: 480x640 16 cars, 3 buss, 2 trucks, 82.5ms\n",
      "Speed: 2.8ms preprocess, 82.5ms inference, 1.5ms postprocess per image at shape (1, 3, 480, 640)\n",
      "\n",
      "0: 480x640 2 licenses, 178.3ms\n",
      "Speed: 3.2ms preprocess, 178.3ms inference, 1.3ms postprocess per image at shape (1, 3, 480, 640)\n"
     ]
    },
    {
     "name": "stdout",
     "output_type": "stream",
     "text": [
      "Error: results_list is empty or contains tuples without a second element.\n"
     ]
    },
    {
     "name": "stderr",
     "output_type": "stream",
     "text": [
      "\n",
      "0: 480x640 16 cars, 3 buss, 2 trucks, 88.5ms\n",
      "Speed: 3.0ms preprocess, 88.5ms inference, 0.8ms postprocess per image at shape (1, 3, 480, 640)\n",
      "\n"
     ]
    },
    {
     "name": "stdout",
     "output_type": "stream",
     "text": [
      "Error: results_list is empty or contains tuples without a second element.\n"
     ]
    },
    {
     "name": "stderr",
     "output_type": "stream",
     "text": [
      "0: 480x640 2 licenses, 92.6ms\n",
      "Speed: 2.7ms preprocess, 92.6ms inference, 1.3ms postprocess per image at shape (1, 3, 480, 640)\n"
     ]
    },
    {
     "name": "stdout",
     "output_type": "stream",
     "text": [
      "Error: results_list is empty or contains tuples without a second element.\n"
     ]
    },
    {
     "name": "stderr",
     "output_type": "stream",
     "text": [
      "\n",
      "0: 480x640 16 cars, 1 bus, 2 trucks, 83.8ms\n",
      "Speed: 2.4ms preprocess, 83.8ms inference, 0.9ms postprocess per image at shape (1, 3, 480, 640)\n",
      "\n",
      "0: 480x640 2 licenses, 96.8ms\n",
      "Speed: 3.1ms preprocess, 96.8ms inference, 0.8ms postprocess per image at shape (1, 3, 480, 640)\n"
     ]
    },
    {
     "name": "stdout",
     "output_type": "stream",
     "text": [
      "Error: results_list is empty or contains tuples without a second element.\n"
     ]
    },
    {
     "name": "stderr",
     "output_type": "stream",
     "text": [
      "\n",
      "0: 480x640 16 cars, 1 bus, 2 trucks, 76.6ms\n",
      "Speed: 2.4ms preprocess, 76.6ms inference, 0.8ms postprocess per image at shape (1, 3, 480, 640)\n",
      "\n",
      "0: 480x640 2 licenses, 83.6ms\n",
      "Speed: 3.1ms preprocess, 83.6ms inference, 0.6ms postprocess per image at shape (1, 3, 480, 640)\n",
      "\n",
      "0: 480x640 17 cars, 1 bus, 2 trucks, 81.4ms\n",
      "Speed: 2.4ms preprocess, 81.4ms inference, 0.7ms postprocess per image at shape (1, 3, 480, 640)\n",
      "\n",
      "0: 480x640 2 licenses, 82.9ms\n",
      "Speed: 2.4ms preprocess, 82.9ms inference, 0.6ms postprocess per image at shape (1, 3, 480, 640)\n",
      "\n",
      "0: 480x640 17 cars, 1 bus, 2 trucks, 78.0ms\n",
      "Speed: 2.5ms preprocess, 78.0ms inference, 1.2ms postprocess per image at shape (1, 3, 480, 640)\n",
      "\n",
      "0: 480x640 2 licenses, 84.5ms\n",
      "Speed: 2.7ms preprocess, 84.5ms inference, 0.6ms postprocess per image at shape (1, 3, 480, 640)\n"
     ]
    },
    {
     "name": "stdout",
     "output_type": "stream",
     "text": [
      "Error: results_list is empty or contains tuples without a second element.\n"
     ]
    },
    {
     "name": "stderr",
     "output_type": "stream",
     "text": [
      "\n",
      "0: 480x640 18 cars, 2 buss, 2 trucks, 79.4ms\n",
      "Speed: 2.4ms preprocess, 79.4ms inference, 1.0ms postprocess per image at shape (1, 3, 480, 640)\n",
      "\n",
      "0: 480x640 3 licenses, 81.3ms\n",
      "Speed: 2.5ms preprocess, 81.3ms inference, 0.6ms postprocess per image at shape (1, 3, 480, 640)\n"
     ]
    },
    {
     "name": "stdout",
     "output_type": "stream",
     "text": [
      "Error: results_list is empty or contains tuples without a second element.\n"
     ]
    },
    {
     "name": "stderr",
     "output_type": "stream",
     "text": [
      "\n",
      "0: 480x640 18 cars, 2 buss, 2 trucks, 133.5ms\n",
      "Speed: 3.7ms preprocess, 133.5ms inference, 1.3ms postprocess per image at shape (1, 3, 480, 640)\n",
      "\n",
      "0: 480x640 3 licenses, 114.7ms\n",
      "Speed: 4.8ms preprocess, 114.7ms inference, 0.7ms postprocess per image at shape (1, 3, 480, 640)\n",
      "\n",
      "0: 480x640 18 cars, 2 buss, 2 trucks, 81.1ms\n",
      "Speed: 2.4ms preprocess, 81.1ms inference, 0.8ms postprocess per image at shape (1, 3, 480, 640)\n",
      "\n",
      "0: 480x640 3 licenses, 82.5ms\n",
      "Speed: 2.7ms preprocess, 82.5ms inference, 0.6ms postprocess per image at shape (1, 3, 480, 640)\n",
      "\n",
      "0: 480x640 18 cars, 2 buss, 2 trucks, 83.8ms\n",
      "Speed: 2.6ms preprocess, 83.8ms inference, 1.3ms postprocess per image at shape (1, 3, 480, 640)\n",
      "\n",
      "0: 480x640 3 licenses, 99.9ms\n",
      "Speed: 3.1ms preprocess, 99.9ms inference, 0.9ms postprocess per image at shape (1, 3, 480, 640)\n",
      "\n",
      "0: 480x640 18 cars, 2 buss, 2 trucks, 77.4ms\n",
      "Speed: 2.4ms preprocess, 77.4ms inference, 0.7ms postprocess per image at shape (1, 3, 480, 640)\n",
      "\n",
      "0: 480x640 3 licenses, 81.1ms\n",
      "Speed: 2.5ms preprocess, 81.1ms inference, 0.6ms postprocess per image at shape (1, 3, 480, 640)\n",
      "\n",
      "0: 480x640 18 cars, 2 buss, 2 trucks, 78.7ms\n",
      "Speed: 2.5ms preprocess, 78.7ms inference, 0.8ms postprocess per image at shape (1, 3, 480, 640)\n",
      "\n",
      "0: 480x640 3 licenses, 80.7ms\n",
      "Speed: 2.4ms preprocess, 80.7ms inference, 0.6ms postprocess per image at shape (1, 3, 480, 640)\n",
      "\n",
      "0: 480x640 18 cars, 2 buss, 2 trucks, 78.4ms\n",
      "Speed: 2.5ms preprocess, 78.4ms inference, 0.7ms postprocess per image at shape (1, 3, 480, 640)\n",
      "\n",
      "0: 480x640 3 licenses, 81.7ms\n",
      "Speed: 3.5ms preprocess, 81.7ms inference, 0.7ms postprocess per image at shape (1, 3, 480, 640)\n"
     ]
    },
    {
     "name": "stdout",
     "output_type": "stream",
     "text": [
      "Error: results_list is empty or contains tuples without a second element.\n"
     ]
    },
    {
     "name": "stderr",
     "output_type": "stream",
     "text": [
      "\n",
      "0: 480x640 18 cars, 2 buss, 2 trucks, 81.1ms\n",
      "Speed: 2.4ms preprocess, 81.1ms inference, 0.8ms postprocess per image at shape (1, 3, 480, 640)\n",
      "\n",
      "0: 480x640 3 licenses, 89.1ms\n",
      "Speed: 2.6ms preprocess, 89.1ms inference, 0.7ms postprocess per image at shape (1, 3, 480, 640)\n"
     ]
    },
    {
     "name": "stdout",
     "output_type": "stream",
     "text": [
      "Error: results_list is empty or contains tuples without a second element.\n"
     ]
    },
    {
     "name": "stderr",
     "output_type": "stream",
     "text": [
      "\n",
      "0: 480x640 18 cars, 2 buss, 2 trucks, 86.9ms\n",
      "Speed: 2.8ms preprocess, 86.9ms inference, 0.8ms postprocess per image at shape (1, 3, 480, 640)\n",
      "\n",
      "0: 480x640 3 licenses, 92.5ms\n",
      "Speed: 3.1ms preprocess, 92.5ms inference, 1.3ms postprocess per image at shape (1, 3, 480, 640)\n",
      "\n",
      "0: 480x640 17 cars, 2 buss, 2 trucks, 84.5ms\n",
      "Speed: 2.5ms preprocess, 84.5ms inference, 0.8ms postprocess per image at shape (1, 3, 480, 640)\n",
      "\n",
      "0: 480x640 3 licenses, 79.8ms\n",
      "Speed: 2.7ms preprocess, 79.8ms inference, 0.6ms postprocess per image at shape (1, 3, 480, 640)\n"
     ]
    },
    {
     "name": "stdout",
     "output_type": "stream",
     "text": [
      "Error: results_list is empty or contains tuples without a second element.\n"
     ]
    },
    {
     "name": "stderr",
     "output_type": "stream",
     "text": [
      "\n",
      "0: 480x640 18 cars, 2 buss, 2 trucks, 82.0ms\n",
      "Speed: 2.4ms preprocess, 82.0ms inference, 0.9ms postprocess per image at shape (1, 3, 480, 640)\n",
      "\n",
      "0: 480x640 3 licenses, 82.7ms\n",
      "Speed: 3.3ms preprocess, 82.7ms inference, 0.7ms postprocess per image at shape (1, 3, 480, 640)\n"
     ]
    },
    {
     "name": "stdout",
     "output_type": "stream",
     "text": [
      "Error: results_list is empty or contains tuples without a second element.\n",
      "Error: results_list is empty or contains tuples without a second element.\n"
     ]
    },
    {
     "name": "stderr",
     "output_type": "stream",
     "text": [
      "\n",
      "0: 480x640 18 cars, 2 buss, 2 trucks, 77.7ms\n",
      "Speed: 2.4ms preprocess, 77.7ms inference, 0.7ms postprocess per image at shape (1, 3, 480, 640)\n",
      "\n",
      "0: 480x640 3 licenses, 81.0ms\n",
      "Speed: 2.8ms preprocess, 81.0ms inference, 0.6ms postprocess per image at shape (1, 3, 480, 640)\n"
     ]
    },
    {
     "name": "stdout",
     "output_type": "stream",
     "text": [
      "Error: results_list is empty or contains tuples without a second element.\n"
     ]
    },
    {
     "name": "stderr",
     "output_type": "stream",
     "text": [
      "\n",
      "0: 480x640 20 cars, 2 buss, 2 trucks, 78.5ms\n",
      "Speed: 2.6ms preprocess, 78.5ms inference, 0.8ms postprocess per image at shape (1, 3, 480, 640)\n",
      "\n",
      "0: 480x640 3 licenses, 76.7ms\n",
      "Speed: 2.4ms preprocess, 76.7ms inference, 0.5ms postprocess per image at shape (1, 3, 480, 640)\n"
     ]
    },
    {
     "name": "stdout",
     "output_type": "stream",
     "text": [
      "Error: results_list is empty or contains tuples without a second element.\n"
     ]
    },
    {
     "name": "stderr",
     "output_type": "stream",
     "text": [
      "\n",
      "0: 480x640 20 cars, 2 buss, 2 trucks, 76.2ms\n",
      "Speed: 2.5ms preprocess, 76.2ms inference, 1.0ms postprocess per image at shape (1, 3, 480, 640)\n",
      "\n",
      "0: 480x640 3 licenses, 75.6ms\n",
      "Speed: 2.8ms preprocess, 75.6ms inference, 0.8ms postprocess per image at shape (1, 3, 480, 640)\n",
      "\n",
      "0: 480x640 20 cars, 3 buss, 2 trucks, 79.5ms\n",
      "Speed: 2.4ms preprocess, 79.5ms inference, 1.2ms postprocess per image at shape (1, 3, 480, 640)\n",
      "\n",
      "0: 480x640 3 licenses, 74.5ms\n",
      "Speed: 2.5ms preprocess, 74.5ms inference, 0.6ms postprocess per image at shape (1, 3, 480, 640)\n",
      "\n",
      "0: 480x640 20 cars, 3 buss, 2 trucks, 83.3ms\n",
      "Speed: 2.4ms preprocess, 83.3ms inference, 0.8ms postprocess per image at shape (1, 3, 480, 640)\n",
      "\n",
      "0: 480x640 3 licenses, 82.5ms\n",
      "Speed: 2.4ms preprocess, 82.5ms inference, 0.6ms postprocess per image at shape (1, 3, 480, 640)\n",
      "\n",
      "0: 480x640 19 cars, 2 buss, 2 trucks, 78.3ms\n",
      "Speed: 2.4ms preprocess, 78.3ms inference, 0.8ms postprocess per image at shape (1, 3, 480, 640)\n",
      "\n",
      "0: 480x640 3 licenses, 82.5ms\n",
      "Speed: 2.3ms preprocess, 82.5ms inference, 0.6ms postprocess per image at shape (1, 3, 480, 640)\n",
      "\n",
      "0: 480x640 19 cars, 2 buss, 2 trucks, 162.1ms\n",
      "Speed: 3.5ms preprocess, 162.1ms inference, 1.5ms postprocess per image at shape (1, 3, 480, 640)\n",
      "\n",
      "0: 480x640 3 licenses, 107.8ms\n",
      "Speed: 4.4ms preprocess, 107.8ms inference, 0.8ms postprocess per image at shape (1, 3, 480, 640)\n",
      "\n",
      "0: 480x640 19 cars, 2 buss, 2 trucks, 88.7ms\n",
      "Speed: 2.8ms preprocess, 88.7ms inference, 0.8ms postprocess per image at shape (1, 3, 480, 640)\n",
      "\n",
      "0: 480x640 3 licenses, 85.5ms\n",
      "Speed: 3.2ms preprocess, 85.5ms inference, 0.7ms postprocess per image at shape (1, 3, 480, 640)\n",
      "\n",
      "0: 480x640 19 cars, 2 buss, 2 trucks, 77.3ms\n",
      "Speed: 2.5ms preprocess, 77.3ms inference, 0.7ms postprocess per image at shape (1, 3, 480, 640)\n",
      "\n",
      "0: 480x640 3 licenses, 75.0ms\n",
      "Speed: 2.8ms preprocess, 75.0ms inference, 0.9ms postprocess per image at shape (1, 3, 480, 640)\n",
      "\n",
      "0: 480x640 16 cars, 2 buss, 2 trucks, 168.7ms\n",
      "Speed: 3.2ms preprocess, 168.7ms inference, 4.4ms postprocess per image at shape (1, 3, 480, 640)\n",
      "\n",
      "0: 480x640 3 licenses, 134.3ms\n",
      "Speed: 5.3ms preprocess, 134.3ms inference, 0.8ms postprocess per image at shape (1, 3, 480, 640)\n"
     ]
    },
    {
     "name": "stdout",
     "output_type": "stream",
     "text": [
      "Error: results_list is empty or contains tuples without a second element.\n"
     ]
    },
    {
     "name": "stderr",
     "output_type": "stream",
     "text": [
      "\n",
      "0: 480x640 16 cars, 2 buss, 2 trucks, 84.5ms\n",
      "Speed: 2.4ms preprocess, 84.5ms inference, 0.8ms postprocess per image at shape (1, 3, 480, 640)\n",
      "\n",
      "0: 480x640 3 licenses, 85.2ms\n",
      "Speed: 2.7ms preprocess, 85.2ms inference, 0.7ms postprocess per image at shape (1, 3, 480, 640)\n"
     ]
    },
    {
     "name": "stdout",
     "output_type": "stream",
     "text": [
      "Error: results_list is empty or contains tuples without a second element.\n"
     ]
    },
    {
     "name": "stderr",
     "output_type": "stream",
     "text": [
      "\n",
      "0: 480x640 18 cars, 2 buss, 2 trucks, 80.6ms\n",
      "Speed: 2.4ms preprocess, 80.6ms inference, 0.7ms postprocess per image at shape (1, 3, 480, 640)\n",
      "\n",
      "0: 480x640 3 licenses, 78.7ms\n",
      "Speed: 2.9ms preprocess, 78.7ms inference, 1.1ms postprocess per image at shape (1, 3, 480, 640)\n"
     ]
    },
    {
     "name": "stdout",
     "output_type": "stream",
     "text": [
      "Error: results_list is empty or contains tuples without a second element.\n"
     ]
    },
    {
     "name": "stderr",
     "output_type": "stream",
     "text": [
      "\n",
      "0: 480x640 18 cars, 2 buss, 2 trucks, 78.6ms\n",
      "Speed: 2.4ms preprocess, 78.6ms inference, 0.7ms postprocess per image at shape (1, 3, 480, 640)\n",
      "\n",
      "0: 480x640 3 licenses, 77.6ms\n",
      "Speed: 3.1ms preprocess, 77.6ms inference, 0.7ms postprocess per image at shape (1, 3, 480, 640)\n"
     ]
    },
    {
     "name": "stdout",
     "output_type": "stream",
     "text": [
      "Error: results_list is empty or contains tuples without a second element.\n"
     ]
    },
    {
     "name": "stderr",
     "output_type": "stream",
     "text": [
      "\n",
      "0: 480x640 19 cars, 2 buss, 2 trucks, 78.7ms\n",
      "Speed: 2.7ms preprocess, 78.7ms inference, 0.8ms postprocess per image at shape (1, 3, 480, 640)\n",
      "\n",
      "0: 480x640 3 licenses, 81.1ms\n",
      "Speed: 2.8ms preprocess, 81.1ms inference, 0.6ms postprocess per image at shape (1, 3, 480, 640)\n",
      "\n",
      "0: 480x640 19 cars, 2 buss, 2 trucks, 102.3ms\n",
      "Speed: 2.4ms preprocess, 102.3ms inference, 0.9ms postprocess per image at shape (1, 3, 480, 640)\n",
      "\n",
      "0: 480x640 3 licenses, 216.2ms\n",
      "Speed: 4.4ms preprocess, 216.2ms inference, 1.0ms postprocess per image at shape (1, 3, 480, 640)\n",
      "\n",
      "0: 480x640 17 cars, 2 buss, 2 trucks, 76.4ms\n",
      "Speed: 2.5ms preprocess, 76.4ms inference, 0.7ms postprocess per image at shape (1, 3, 480, 640)\n",
      "\n",
      "0: 480x640 3 licenses, 75.2ms\n",
      "Speed: 2.4ms preprocess, 75.2ms inference, 0.6ms postprocess per image at shape (1, 3, 480, 640)\n",
      "\n",
      "0: 480x640 17 cars, 2 buss, 2 trucks, 77.7ms\n",
      "Speed: 2.5ms preprocess, 77.7ms inference, 0.7ms postprocess per image at shape (1, 3, 480, 640)\n",
      "\n",
      "0: 480x640 3 licenses, 78.9ms\n",
      "Speed: 2.4ms preprocess, 78.9ms inference, 0.6ms postprocess per image at shape (1, 3, 480, 640)\n",
      "\n",
      "0: 480x640 18 cars, 2 buss, 2 trucks, 79.1ms\n",
      "Speed: 2.5ms preprocess, 79.1ms inference, 0.7ms postprocess per image at shape (1, 3, 480, 640)\n",
      "\n",
      "0: 480x640 3 licenses, 80.3ms\n",
      "Speed: 2.9ms preprocess, 80.3ms inference, 0.6ms postprocess per image at shape (1, 3, 480, 640)\n",
      "\n",
      "0: 480x640 17 cars, 2 buss, 2 trucks, 79.4ms\n",
      "Speed: 2.4ms preprocess, 79.4ms inference, 0.8ms postprocess per image at shape (1, 3, 480, 640)\n",
      "\n",
      "0: 480x640 3 licenses, 84.2ms\n",
      "Speed: 3.2ms preprocess, 84.2ms inference, 0.8ms postprocess per image at shape (1, 3, 480, 640)\n"
     ]
    },
    {
     "name": "stdout",
     "output_type": "stream",
     "text": [
      "Error: results_list is empty or contains tuples without a second element.\n"
     ]
    },
    {
     "name": "stderr",
     "output_type": "stream",
     "text": [
      "\n",
      "0: 480x640 17 cars, 1 bus, 2 trucks, 79.8ms\n",
      "Speed: 2.5ms preprocess, 79.8ms inference, 0.8ms postprocess per image at shape (1, 3, 480, 640)\n",
      "\n",
      "0: 480x640 3 licenses, 75.0ms\n",
      "Speed: 3.0ms preprocess, 75.0ms inference, 0.6ms postprocess per image at shape (1, 3, 480, 640)\n"
     ]
    },
    {
     "name": "stdout",
     "output_type": "stream",
     "text": [
      "Error: results_list is empty or contains tuples without a second element.\n"
     ]
    },
    {
     "name": "stderr",
     "output_type": "stream",
     "text": [
      "\n",
      "0: 480x640 17 cars, 1 bus, 2 trucks, 79.9ms\n",
      "Speed: 2.2ms preprocess, 79.9ms inference, 0.8ms postprocess per image at shape (1, 3, 480, 640)\n",
      "\n",
      "0: 480x640 3 licenses, 77.4ms\n",
      "Speed: 2.9ms preprocess, 77.4ms inference, 0.9ms postprocess per image at shape (1, 3, 480, 640)\n",
      "\n",
      "0: 480x640 16 cars, 1 bus, 2 trucks, 77.5ms\n",
      "Speed: 2.4ms preprocess, 77.5ms inference, 0.7ms postprocess per image at shape (1, 3, 480, 640)\n",
      "\n",
      "0: 480x640 3 licenses, 86.0ms\n",
      "Speed: 2.8ms preprocess, 86.0ms inference, 0.6ms postprocess per image at shape (1, 3, 480, 640)\n",
      "\n",
      "0: 480x640 16 cars, 1 bus, 2 trucks, 122.4ms\n",
      "Speed: 2.4ms preprocess, 122.4ms inference, 1.0ms postprocess per image at shape (1, 3, 480, 640)\n",
      "\n",
      "0: 480x640 3 licenses, 131.2ms\n",
      "Speed: 3.6ms preprocess, 131.2ms inference, 1.2ms postprocess per image at shape (1, 3, 480, 640)\n",
      "\n",
      "0: 480x640 16 cars, 2 buss, 3 trucks, 75.4ms\n",
      "Speed: 2.5ms preprocess, 75.4ms inference, 1.3ms postprocess per image at shape (1, 3, 480, 640)\n",
      "\n",
      "0: 480x640 3 licenses, 79.2ms\n",
      "Speed: 2.6ms preprocess, 79.2ms inference, 0.6ms postprocess per image at shape (1, 3, 480, 640)\n",
      "\n",
      "0: 480x640 15 cars, 2 buss, 2 trucks, 79.7ms\n",
      "Speed: 2.7ms preprocess, 79.7ms inference, 0.7ms postprocess per image at shape (1, 3, 480, 640)\n",
      "\n",
      "0: 480x640 3 licenses, 79.1ms\n",
      "Speed: 2.8ms preprocess, 79.1ms inference, 0.6ms postprocess per image at shape (1, 3, 480, 640)\n",
      "\n",
      "0: 480x640 15 cars, 2 buss, 2 trucks, 75.1ms\n",
      "Speed: 2.4ms preprocess, 75.1ms inference, 0.7ms postprocess per image at shape (1, 3, 480, 640)\n",
      "\n",
      "0: 480x640 3 licenses, 77.4ms\n",
      "Speed: 2.7ms preprocess, 77.4ms inference, 0.6ms postprocess per image at shape (1, 3, 480, 640)\n",
      "\n",
      "0: 480x640 16 cars, 2 buss, 2 trucks, 79.2ms\n",
      "Speed: 2.4ms preprocess, 79.2ms inference, 0.7ms postprocess per image at shape (1, 3, 480, 640)\n",
      "\n",
      "0: 480x640 3 licenses, 80.5ms\n",
      "Speed: 2.3ms preprocess, 80.5ms inference, 0.6ms postprocess per image at shape (1, 3, 480, 640)\n",
      "\n",
      "0: 480x640 1 person, 15 cars, 2 buss, 2 trucks, 76.5ms\n",
      "Speed: 2.5ms preprocess, 76.5ms inference, 1.2ms postprocess per image at shape (1, 3, 480, 640)\n",
      "\n",
      "0: 480x640 3 licenses, 75.8ms\n",
      "Speed: 2.8ms preprocess, 75.8ms inference, 0.6ms postprocess per image at shape (1, 3, 480, 640)\n",
      "\n",
      "0: 480x640 1 person, 15 cars, 2 buss, 2 trucks, 76.3ms\n",
      "Speed: 2.4ms preprocess, 76.3ms inference, 1.2ms postprocess per image at shape (1, 3, 480, 640)\n",
      "\n",
      "0: 480x640 3 licenses, 72.9ms\n",
      "Speed: 2.8ms preprocess, 72.9ms inference, 0.6ms postprocess per image at shape (1, 3, 480, 640)\n",
      "\n",
      "0: 480x640 1 person, 16 cars, 2 buss, 2 trucks, 80.6ms\n",
      "Speed: 3.3ms preprocess, 80.6ms inference, 0.7ms postprocess per image at shape (1, 3, 480, 640)\n",
      "\n",
      "0: 480x640 3 licenses, 79.9ms\n",
      "Speed: 2.7ms preprocess, 79.9ms inference, 0.6ms postprocess per image at shape (1, 3, 480, 640)\n",
      "\n",
      "0: 480x640 1 person, 16 cars, 2 buss, 2 trucks, 79.2ms\n",
      "Speed: 2.4ms preprocess, 79.2ms inference, 0.7ms postprocess per image at shape (1, 3, 480, 640)\n",
      "\n",
      "0: 480x640 3 licenses, 79.3ms\n",
      "Speed: 2.4ms preprocess, 79.3ms inference, 0.6ms postprocess per image at shape (1, 3, 480, 640)\n",
      "\n",
      "0: 480x640 1 person, 16 cars, 1 bus, 2 trucks, 77.3ms\n",
      "Speed: 2.4ms preprocess, 77.3ms inference, 0.8ms postprocess per image at shape (1, 3, 480, 640)\n",
      "\n",
      "0: 480x640 3 licenses, 81.6ms\n",
      "Speed: 2.4ms preprocess, 81.6ms inference, 0.6ms postprocess per image at shape (1, 3, 480, 640)\n",
      "\n",
      "0: 480x640 1 person, 16 cars, 1 bus, 2 trucks, 75.6ms\n",
      "Speed: 2.5ms preprocess, 75.6ms inference, 0.7ms postprocess per image at shape (1, 3, 480, 640)\n",
      "\n",
      "0: 480x640 3 licenses, 76.3ms\n",
      "Speed: 2.7ms preprocess, 76.3ms inference, 0.6ms postprocess per image at shape (1, 3, 480, 640)\n",
      "\n",
      "0: 480x640 16 cars, 2 buss, 2 trucks, 77.6ms\n",
      "Speed: 2.5ms preprocess, 77.6ms inference, 0.7ms postprocess per image at shape (1, 3, 480, 640)\n",
      "\n",
      "0: 480x640 2 licenses, 82.5ms\n",
      "Speed: 2.4ms preprocess, 82.5ms inference, 0.6ms postprocess per image at shape (1, 3, 480, 640)\n",
      "\n",
      "0: 480x640 16 cars, 2 buss, 2 trucks, 81.9ms\n",
      "Speed: 2.7ms preprocess, 81.9ms inference, 0.7ms postprocess per image at shape (1, 3, 480, 640)\n",
      "\n",
      "0: 480x640 2 licenses, 76.9ms\n",
      "Speed: 2.8ms preprocess, 76.9ms inference, 0.6ms postprocess per image at shape (1, 3, 480, 640)\n",
      "\n",
      "0: 480x640 17 cars, 1 bus, 2 trucks, 76.6ms\n",
      "Speed: 2.5ms preprocess, 76.6ms inference, 0.7ms postprocess per image at shape (1, 3, 480, 640)\n",
      "\n",
      "0: 480x640 2 licenses, 79.8ms\n",
      "Speed: 2.3ms preprocess, 79.8ms inference, 1.0ms postprocess per image at shape (1, 3, 480, 640)\n",
      "\n",
      "0: 480x640 17 cars, 1 bus, 2 trucks, 77.7ms\n",
      "Speed: 2.5ms preprocess, 77.7ms inference, 0.7ms postprocess per image at shape (1, 3, 480, 640)\n",
      "\n",
      "0: 480x640 2 licenses, 80.7ms\n",
      "Speed: 2.7ms preprocess, 80.7ms inference, 0.9ms postprocess per image at shape (1, 3, 480, 640)\n",
      "\n",
      "0: 480x640 17 cars, 1 bus, 3 trucks, 240.8ms\n",
      "Speed: 2.9ms preprocess, 240.8ms inference, 1.4ms postprocess per image at shape (1, 3, 480, 640)\n",
      "\n",
      "0: 480x640 2 licenses, 157.2ms\n",
      "Speed: 7.5ms preprocess, 157.2ms inference, 0.9ms postprocess per image at shape (1, 3, 480, 640)\n",
      "\n",
      "0: 480x640 17 cars, 1 bus, 3 trucks, 136.4ms\n",
      "Speed: 3.8ms preprocess, 136.4ms inference, 1.8ms postprocess per image at shape (1, 3, 480, 640)\n",
      "\n",
      "0: 480x640 2 licenses, 111.8ms\n",
      "Speed: 4.1ms preprocess, 111.8ms inference, 0.8ms postprocess per image at shape (1, 3, 480, 640)\n",
      "\n",
      "0: 480x640 17 cars, 2 buss, 2 trucks, 76.2ms\n",
      "Speed: 2.4ms preprocess, 76.2ms inference, 0.8ms postprocess per image at shape (1, 3, 480, 640)\n",
      "\n",
      "0: 480x640 2 licenses, 81.6ms\n",
      "Speed: 2.4ms preprocess, 81.6ms inference, 0.5ms postprocess per image at shape (1, 3, 480, 640)\n"
     ]
    },
    {
     "name": "stdout",
     "output_type": "stream",
     "text": [
      "Error: results_list is empty or contains tuples without a second element.\n"
     ]
    },
    {
     "name": "stderr",
     "output_type": "stream",
     "text": [
      "\n",
      "0: 480x640 16 cars, 2 buss, 2 trucks, 126.9ms\n",
      "Speed: 2.7ms preprocess, 126.9ms inference, 0.9ms postprocess per image at shape (1, 3, 480, 640)\n",
      "\n"
     ]
    },
    {
     "name": "stdout",
     "output_type": "stream",
     "text": [
      "Error: results_list is empty or contains tuples without a second element.\n"
     ]
    },
    {
     "name": "stderr",
     "output_type": "stream",
     "text": [
      "0: 480x640 2 licenses, 114.4ms\n",
      "Speed: 4.0ms preprocess, 114.4ms inference, 1.1ms postprocess per image at shape (1, 3, 480, 640)\n"
     ]
    },
    {
     "name": "stdout",
     "output_type": "stream",
     "text": [
      "Error: results_list is empty or contains tuples without a second element.\n"
     ]
    },
    {
     "name": "stderr",
     "output_type": "stream",
     "text": [
      "\n",
      "0: 480x640 15 cars, 2 buss, 2 trucks, 94.0ms\n",
      "Speed: 2.6ms preprocess, 94.0ms inference, 0.8ms postprocess per image at shape (1, 3, 480, 640)\n",
      "\n"
     ]
    },
    {
     "name": "stdout",
     "output_type": "stream",
     "text": [
      "Error: results_list is empty or contains tuples without a second element.\n"
     ]
    },
    {
     "name": "stderr",
     "output_type": "stream",
     "text": [
      "0: 480x640 2 licenses, 100.2ms\n",
      "Speed: 3.1ms preprocess, 100.2ms inference, 0.8ms postprocess per image at shape (1, 3, 480, 640)\n",
      "\n",
      "0: 480x640 15 cars, 2 buss, 2 trucks, 76.4ms\n",
      "Speed: 2.4ms preprocess, 76.4ms inference, 0.8ms postprocess per image at shape (1, 3, 480, 640)\n",
      "\n",
      "0: 480x640 2 licenses, 73.5ms\n",
      "Speed: 2.4ms preprocess, 73.5ms inference, 0.6ms postprocess per image at shape (1, 3, 480, 640)\n",
      "\n",
      "0: 480x640 17 cars, 2 buss, 2 trucks, 75.9ms\n",
      "Speed: 2.3ms preprocess, 75.9ms inference, 0.7ms postprocess per image at shape (1, 3, 480, 640)\n",
      "\n",
      "0: 480x640 2 licenses, 79.9ms\n",
      "Speed: 2.6ms preprocess, 79.9ms inference, 0.6ms postprocess per image at shape (1, 3, 480, 640)\n"
     ]
    },
    {
     "name": "stdout",
     "output_type": "stream",
     "text": [
      "Error: results_list is empty or contains tuples without a second element.\n"
     ]
    },
    {
     "name": "stderr",
     "output_type": "stream",
     "text": [
      "\n",
      "0: 480x640 17 cars, 2 buss, 2 trucks, 78.0ms\n",
      "Speed: 2.3ms preprocess, 78.0ms inference, 0.8ms postprocess per image at shape (1, 3, 480, 640)\n",
      "\n",
      "0: 480x640 2 licenses, 79.6ms\n",
      "Speed: 2.7ms preprocess, 79.6ms inference, 0.7ms postprocess per image at shape (1, 3, 480, 640)\n"
     ]
    },
    {
     "name": "stdout",
     "output_type": "stream",
     "text": [
      "Error: results_list is empty or contains tuples without a second element.\n"
     ]
    },
    {
     "name": "stderr",
     "output_type": "stream",
     "text": [
      "\n",
      "0: 480x640 18 cars, 2 buss, 2 trucks, 74.2ms\n",
      "Speed: 2.4ms preprocess, 74.2ms inference, 0.8ms postprocess per image at shape (1, 3, 480, 640)\n",
      "\n",
      "0: 480x640 2 licenses, 77.0ms\n",
      "Speed: 2.4ms preprocess, 77.0ms inference, 0.6ms postprocess per image at shape (1, 3, 480, 640)\n",
      "\n",
      "0: 480x640 18 cars, 2 buss, 1 truck, 74.2ms\n",
      "Speed: 2.5ms preprocess, 74.2ms inference, 1.0ms postprocess per image at shape (1, 3, 480, 640)\n",
      "\n",
      "0: 480x640 2 licenses, 82.8ms\n",
      "Speed: 2.8ms preprocess, 82.8ms inference, 0.6ms postprocess per image at shape (1, 3, 480, 640)\n",
      "\n",
      "0: 480x640 16 cars, 2 buss, 2 trucks, 74.9ms\n",
      "Speed: 2.3ms preprocess, 74.9ms inference, 0.8ms postprocess per image at shape (1, 3, 480, 640)\n",
      "\n",
      "0: 480x640 2 licenses, 79.1ms\n",
      "Speed: 2.9ms preprocess, 79.1ms inference, 0.6ms postprocess per image at shape (1, 3, 480, 640)\n",
      "\n",
      "0: 480x640 16 cars, 2 buss, 2 trucks, 78.2ms\n",
      "Speed: 2.4ms preprocess, 78.2ms inference, 0.7ms postprocess per image at shape (1, 3, 480, 640)\n",
      "\n",
      "0: 480x640 2 licenses, 79.9ms\n",
      "Speed: 2.4ms preprocess, 79.9ms inference, 0.6ms postprocess per image at shape (1, 3, 480, 640)\n",
      "\n",
      "0: 480x640 16 cars, 1 bus, 2 trucks, 82.3ms\n",
      "Speed: 2.6ms preprocess, 82.3ms inference, 0.7ms postprocess per image at shape (1, 3, 480, 640)\n",
      "\n",
      "0: 480x640 2 licenses, 92.3ms\n",
      "Speed: 2.3ms preprocess, 92.3ms inference, 0.6ms postprocess per image at shape (1, 3, 480, 640)\n",
      "\n",
      "0: 480x640 16 cars, 1 bus, 2 trucks, 82.8ms\n",
      "Speed: 2.6ms preprocess, 82.8ms inference, 0.7ms postprocess per image at shape (1, 3, 480, 640)\n",
      "\n",
      "0: 480x640 2 licenses, 81.5ms\n",
      "Speed: 2.2ms preprocess, 81.5ms inference, 0.6ms postprocess per image at shape (1, 3, 480, 640)\n",
      "\n",
      "0: 480x640 13 cars, 1 bus, 2 trucks, 76.6ms\n",
      "Speed: 2.4ms preprocess, 76.6ms inference, 0.7ms postprocess per image at shape (1, 3, 480, 640)\n",
      "\n",
      "0: 480x640 2 licenses, 82.0ms\n",
      "Speed: 3.0ms preprocess, 82.0ms inference, 0.5ms postprocess per image at shape (1, 3, 480, 640)\n",
      "\n",
      "0: 480x640 13 cars, 1 bus, 2 trucks, 77.7ms\n",
      "Speed: 2.5ms preprocess, 77.7ms inference, 0.7ms postprocess per image at shape (1, 3, 480, 640)\n",
      "\n",
      "0: 480x640 2 licenses, 80.4ms\n",
      "Speed: 2.7ms preprocess, 80.4ms inference, 0.6ms postprocess per image at shape (1, 3, 480, 640)\n",
      "\n",
      "0: 480x640 14 cars, 2 buss, 3 trucks, 78.8ms\n",
      "Speed: 2.4ms preprocess, 78.8ms inference, 1.2ms postprocess per image at shape (1, 3, 480, 640)\n",
      "\n",
      "0: 480x640 2 licenses, 82.2ms\n",
      "Speed: 2.6ms preprocess, 82.2ms inference, 1.0ms postprocess per image at shape (1, 3, 480, 640)\n",
      "\n",
      "0: 480x640 14 cars, 2 buss, 3 trucks, 78.7ms\n",
      "Speed: 2.8ms preprocess, 78.7ms inference, 0.7ms postprocess per image at shape (1, 3, 480, 640)\n",
      "\n",
      "0: 480x640 2 licenses, 136.0ms\n",
      "Speed: 2.9ms preprocess, 136.0ms inference, 1.0ms postprocess per image at shape (1, 3, 480, 640)\n",
      "\n",
      "0: 480x640 14 cars, 1 bus, 3 trucks, 76.9ms\n",
      "Speed: 2.5ms preprocess, 76.9ms inference, 0.7ms postprocess per image at shape (1, 3, 480, 640)\n",
      "\n",
      "0: 480x640 2 licenses, 75.4ms\n",
      "Speed: 2.4ms preprocess, 75.4ms inference, 0.7ms postprocess per image at shape (1, 3, 480, 640)\n",
      "\n",
      "0: 480x640 13 cars, 1 bus, 3 trucks, 80.3ms\n",
      "Speed: 2.4ms preprocess, 80.3ms inference, 0.8ms postprocess per image at shape (1, 3, 480, 640)\n",
      "\n",
      "0: 480x640 2 licenses, 82.1ms\n",
      "Speed: 2.6ms preprocess, 82.1ms inference, 0.6ms postprocess per image at shape (1, 3, 480, 640)\n",
      "\n",
      "0: 480x640 13 cars, 2 buss, 3 trucks, 77.9ms\n",
      "Speed: 2.4ms preprocess, 77.9ms inference, 0.7ms postprocess per image at shape (1, 3, 480, 640)\n",
      "\n",
      "0: 480x640 2 licenses, 82.7ms\n",
      "Speed: 3.0ms preprocess, 82.7ms inference, 0.9ms postprocess per image at shape (1, 3, 480, 640)\n",
      "\n",
      "0: 480x640 13 cars, 2 buss, 3 trucks, 77.7ms\n",
      "Speed: 2.5ms preprocess, 77.7ms inference, 0.7ms postprocess per image at shape (1, 3, 480, 640)\n",
      "\n",
      "0: 480x640 2 licenses, 85.5ms\n",
      "Speed: 3.0ms preprocess, 85.5ms inference, 0.6ms postprocess per image at shape (1, 3, 480, 640)\n",
      "\n",
      "0: 480x640 12 cars, 2 buss, 3 trucks, 78.4ms\n",
      "Speed: 2.5ms preprocess, 78.4ms inference, 0.7ms postprocess per image at shape (1, 3, 480, 640)\n",
      "\n",
      "0: 480x640 2 licenses, 82.5ms\n",
      "Speed: 2.9ms preprocess, 82.5ms inference, 0.9ms postprocess per image at shape (1, 3, 480, 640)\n",
      "\n",
      "0: 480x640 12 cars, 2 buss, 3 trucks, 77.9ms\n",
      "Speed: 2.7ms preprocess, 77.9ms inference, 1.1ms postprocess per image at shape (1, 3, 480, 640)\n",
      "\n",
      "0: 480x640 2 licenses, 83.3ms\n",
      "Speed: 2.2ms preprocess, 83.3ms inference, 0.6ms postprocess per image at shape (1, 3, 480, 640)\n",
      "\n",
      "0: 480x640 12 cars, 2 buss, 4 trucks, 79.0ms\n",
      "Speed: 2.4ms preprocess, 79.0ms inference, 0.7ms postprocess per image at shape (1, 3, 480, 640)\n",
      "\n",
      "0: 480x640 2 licenses, 83.6ms\n",
      "Speed: 2.5ms preprocess, 83.6ms inference, 0.6ms postprocess per image at shape (1, 3, 480, 640)\n",
      "\n",
      "0: 480x640 12 cars, 2 buss, 4 trucks, 79.3ms\n",
      "Speed: 2.4ms preprocess, 79.3ms inference, 0.7ms postprocess per image at shape (1, 3, 480, 640)\n",
      "\n",
      "0: 480x640 2 licenses, 83.9ms\n",
      "Speed: 2.8ms preprocess, 83.9ms inference, 0.6ms postprocess per image at shape (1, 3, 480, 640)\n",
      "\n",
      "0: 480x640 14 cars, 2 buss, 3 trucks, 76.9ms\n",
      "Speed: 2.5ms preprocess, 76.9ms inference, 0.7ms postprocess per image at shape (1, 3, 480, 640)\n",
      "\n",
      "0: 480x640 2 licenses, 81.3ms\n",
      "Speed: 2.7ms preprocess, 81.3ms inference, 0.6ms postprocess per image at shape (1, 3, 480, 640)\n"
     ]
    },
    {
     "name": "stdout",
     "output_type": "stream",
     "text": [
      "Error: results_list is empty or contains tuples without a second element.\n"
     ]
    },
    {
     "name": "stderr",
     "output_type": "stream",
     "text": [
      "\n",
      "0: 480x640 14 cars, 2 buss, 4 trucks, 81.8ms\n",
      "Speed: 2.4ms preprocess, 81.8ms inference, 0.8ms postprocess per image at shape (1, 3, 480, 640)\n",
      "\n",
      "0: 480x640 2 licenses, 84.6ms\n",
      "Speed: 3.3ms preprocess, 84.6ms inference, 1.0ms postprocess per image at shape (1, 3, 480, 640)\n",
      "\n",
      "0: 480x640 14 cars, 1 bus, 2 trucks, 77.2ms\n",
      "Speed: 2.5ms preprocess, 77.2ms inference, 0.8ms postprocess per image at shape (1, 3, 480, 640)\n",
      "\n",
      "0: 480x640 2 licenses, 75.1ms\n",
      "Speed: 3.0ms preprocess, 75.1ms inference, 0.5ms postprocess per image at shape (1, 3, 480, 640)\n",
      "\n",
      "0: 480x640 14 cars, 1 bus, 2 trucks, 78.3ms\n",
      "Speed: 2.3ms preprocess, 78.3ms inference, 0.9ms postprocess per image at shape (1, 3, 480, 640)\n",
      "\n",
      "0: 480x640 2 licenses, 81.2ms\n",
      "Speed: 3.0ms preprocess, 81.2ms inference, 0.6ms postprocess per image at shape (1, 3, 480, 640)\n",
      "\n",
      "0: 480x640 13 cars, 4 buss, 3 trucks, 78.3ms\n",
      "Speed: 2.4ms preprocess, 78.3ms inference, 0.7ms postprocess per image at shape (1, 3, 480, 640)\n",
      "\n",
      "0: 480x640 2 licenses, 83.2ms\n",
      "Speed: 3.0ms preprocess, 83.2ms inference, 0.6ms postprocess per image at shape (1, 3, 480, 640)\n",
      "\n",
      "0: 480x640 13 cars, 4 buss, 3 trucks, 79.2ms\n",
      "Speed: 2.4ms preprocess, 79.2ms inference, 0.7ms postprocess per image at shape (1, 3, 480, 640)\n",
      "\n",
      "0: 480x640 2 licenses, 76.6ms\n",
      "Speed: 2.6ms preprocess, 76.6ms inference, 0.6ms postprocess per image at shape (1, 3, 480, 640)\n",
      "\n",
      "0: 480x640 16 cars, 1 bus, 4 trucks, 81.3ms\n",
      "Speed: 2.5ms preprocess, 81.3ms inference, 0.8ms postprocess per image at shape (1, 3, 480, 640)\n",
      "\n",
      "0: 480x640 2 licenses, 84.6ms\n",
      "Speed: 2.5ms preprocess, 84.6ms inference, 0.5ms postprocess per image at shape (1, 3, 480, 640)\n",
      "\n",
      "0: 480x640 16 cars, 1 bus, 4 trucks, 78.6ms\n",
      "Speed: 2.4ms preprocess, 78.6ms inference, 0.7ms postprocess per image at shape (1, 3, 480, 640)\n",
      "\n",
      "0: 480x640 2 licenses, 81.2ms\n",
      "Speed: 2.3ms preprocess, 81.2ms inference, 0.6ms postprocess per image at shape (1, 3, 480, 640)\n",
      "\n",
      "0: 480x640 13 cars, 3 buss, 5 trucks, 77.2ms\n",
      "Speed: 2.8ms preprocess, 77.2ms inference, 0.7ms postprocess per image at shape (1, 3, 480, 640)\n",
      "\n",
      "0: 480x640 2 licenses, 80.8ms\n",
      "Speed: 3.1ms preprocess, 80.8ms inference, 0.6ms postprocess per image at shape (1, 3, 480, 640)\n"
     ]
    },
    {
     "name": "stdout",
     "output_type": "stream",
     "text": [
      "Error: results_list is empty or contains tuples without a second element.\n"
     ]
    },
    {
     "name": "stderr",
     "output_type": "stream",
     "text": [
      "\n",
      "0: 480x640 13 cars, 3 buss, 4 trucks, 80.6ms\n",
      "Speed: 2.4ms preprocess, 80.6ms inference, 0.9ms postprocess per image at shape (1, 3, 480, 640)\n",
      "\n",
      "0: 480x640 2 licenses, 82.9ms\n",
      "Speed: 2.7ms preprocess, 82.9ms inference, 0.6ms postprocess per image at shape (1, 3, 480, 640)\n"
     ]
    },
    {
     "name": "stdout",
     "output_type": "stream",
     "text": [
      "Error: results_list is empty or contains tuples without a second element.\n"
     ]
    },
    {
     "name": "stderr",
     "output_type": "stream",
     "text": [
      "\n",
      "0: 480x640 16 cars, 2 buss, 4 trucks, 77.0ms\n",
      "Speed: 2.5ms preprocess, 77.0ms inference, 0.8ms postprocess per image at shape (1, 3, 480, 640)\n",
      "\n",
      "0: 480x640 2 licenses, 80.5ms\n",
      "Speed: 2.5ms preprocess, 80.5ms inference, 0.6ms postprocess per image at shape (1, 3, 480, 640)\n",
      "\n",
      "0: 480x640 16 cars, 2 buss, 4 trucks, 81.4ms\n",
      "Speed: 2.5ms preprocess, 81.4ms inference, 0.7ms postprocess per image at shape (1, 3, 480, 640)\n",
      "\n",
      "0: 480x640 2 licenses, 82.4ms\n",
      "Speed: 3.0ms preprocess, 82.4ms inference, 0.6ms postprocess per image at shape (1, 3, 480, 640)\n",
      "\n",
      "0: 480x640 13 cars, 2 buss, 5 trucks, 77.3ms\n",
      "Speed: 2.4ms preprocess, 77.3ms inference, 0.7ms postprocess per image at shape (1, 3, 480, 640)\n",
      "\n",
      "0: 480x640 2 licenses, 77.9ms\n",
      "Speed: 2.9ms preprocess, 77.9ms inference, 0.6ms postprocess per image at shape (1, 3, 480, 640)\n",
      "\n",
      "0: 480x640 14 cars, 2 buss, 5 trucks, 79.0ms\n",
      "Speed: 2.6ms preprocess, 79.0ms inference, 0.8ms postprocess per image at shape (1, 3, 480, 640)\n",
      "\n",
      "0: 480x640 2 licenses, 79.9ms\n",
      "Speed: 2.8ms preprocess, 79.9ms inference, 0.8ms postprocess per image at shape (1, 3, 480, 640)\n",
      "\n",
      "0: 480x640 13 cars, 3 buss, 5 trucks, 78.1ms\n",
      "Speed: 2.4ms preprocess, 78.1ms inference, 0.7ms postprocess per image at shape (1, 3, 480, 640)\n",
      "\n",
      "0: 480x640 2 licenses, 84.5ms\n",
      "Speed: 2.4ms preprocess, 84.5ms inference, 0.6ms postprocess per image at shape (1, 3, 480, 640)\n",
      "\n",
      "0: 480x640 13 cars, 3 buss, 5 trucks, 78.9ms\n",
      "Speed: 2.4ms preprocess, 78.9ms inference, 0.7ms postprocess per image at shape (1, 3, 480, 640)\n",
      "\n",
      "0: 480x640 2 licenses, 79.6ms\n",
      "Speed: 2.9ms preprocess, 79.6ms inference, 0.6ms postprocess per image at shape (1, 3, 480, 640)\n",
      "\n",
      "0: 480x640 13 cars, 2 buss, 5 trucks, 79.3ms\n",
      "Speed: 2.4ms preprocess, 79.3ms inference, 0.7ms postprocess per image at shape (1, 3, 480, 640)\n",
      "\n",
      "0: 480x640 2 licenses, 82.7ms\n",
      "Speed: 2.7ms preprocess, 82.7ms inference, 0.6ms postprocess per image at shape (1, 3, 480, 640)\n",
      "\n",
      "0: 480x640 13 cars, 2 buss, 5 trucks, 78.3ms\n",
      "Speed: 2.6ms preprocess, 78.3ms inference, 1.2ms postprocess per image at shape (1, 3, 480, 640)\n",
      "\n",
      "0: 480x640 2 licenses, 80.6ms\n",
      "Speed: 2.3ms preprocess, 80.6ms inference, 0.6ms postprocess per image at shape (1, 3, 480, 640)\n",
      "\n",
      "0: 480x640 13 cars, 4 buss, 5 trucks, 81.6ms\n",
      "Speed: 2.6ms preprocess, 81.6ms inference, 0.8ms postprocess per image at shape (1, 3, 480, 640)\n",
      "\n",
      "0: 480x640 2 licenses, 82.2ms\n",
      "Speed: 2.4ms preprocess, 82.2ms inference, 0.6ms postprocess per image at shape (1, 3, 480, 640)\n",
      "\n",
      "0: 480x640 13 cars, 4 buss, 5 trucks, 76.0ms\n",
      "Speed: 2.4ms preprocess, 76.0ms inference, 0.7ms postprocess per image at shape (1, 3, 480, 640)\n",
      "\n",
      "0: 480x640 2 licenses, 80.3ms\n",
      "Speed: 2.8ms preprocess, 80.3ms inference, 0.6ms postprocess per image at shape (1, 3, 480, 640)\n",
      "\n",
      "0: 480x640 13 cars, 1 bus, 5 trucks, 81.2ms\n",
      "Speed: 2.5ms preprocess, 81.2ms inference, 0.7ms postprocess per image at shape (1, 3, 480, 640)\n",
      "\n",
      "0: 480x640 2 licenses, 82.4ms\n",
      "Speed: 2.4ms preprocess, 82.4ms inference, 0.6ms postprocess per image at shape (1, 3, 480, 640)\n",
      "\n",
      "0: 480x640 13 cars, 1 bus, 5 trucks, 77.0ms\n",
      "Speed: 2.5ms preprocess, 77.0ms inference, 1.3ms postprocess per image at shape (1, 3, 480, 640)\n",
      "\n",
      "0: 480x640 2 licenses, 82.3ms\n",
      "Speed: 3.2ms preprocess, 82.3ms inference, 0.6ms postprocess per image at shape (1, 3, 480, 640)\n",
      "\n",
      "0: 480x640 13 cars, 1 bus, 5 trucks, 76.7ms\n",
      "Speed: 2.3ms preprocess, 76.7ms inference, 0.7ms postprocess per image at shape (1, 3, 480, 640)\n",
      "\n",
      "0: 480x640 2 licenses, 77.7ms\n",
      "Speed: 2.9ms preprocess, 77.7ms inference, 1.0ms postprocess per image at shape (1, 3, 480, 640)\n",
      "\n",
      "0: 480x640 13 cars, 1 bus, 5 trucks, 93.8ms\n",
      "Speed: 2.8ms preprocess, 93.8ms inference, 1.0ms postprocess per image at shape (1, 3, 480, 640)\n",
      "\n",
      "0: 480x640 2 licenses, 114.1ms\n",
      "Speed: 3.5ms preprocess, 114.1ms inference, 0.9ms postprocess per image at shape (1, 3, 480, 640)\n",
      "\n",
      "0: 480x640 13 cars, 1 bus, 4 trucks, 111.3ms\n",
      "Speed: 3.5ms preprocess, 111.3ms inference, 1.0ms postprocess per image at shape (1, 3, 480, 640)\n",
      "\n",
      "0: 480x640 2 licenses, 101.2ms\n",
      "Speed: 4.0ms preprocess, 101.2ms inference, 3.1ms postprocess per image at shape (1, 3, 480, 640)\n",
      "\n",
      "0: 480x640 14 cars, 1 bus, 4 trucks, 76.2ms\n",
      "Speed: 2.9ms preprocess, 76.2ms inference, 0.7ms postprocess per image at shape (1, 3, 480, 640)\n",
      "\n",
      "0: 480x640 2 licenses, 73.1ms\n",
      "Speed: 2.8ms preprocess, 73.1ms inference, 0.5ms postprocess per image at shape (1, 3, 480, 640)\n",
      "\n",
      "0: 480x640 14 cars, 1 bus, 5 trucks, 78.0ms\n",
      "Speed: 2.4ms preprocess, 78.0ms inference, 0.7ms postprocess per image at shape (1, 3, 480, 640)\n",
      "\n",
      "0: 480x640 2 licenses, 80.8ms\n",
      "Speed: 2.9ms preprocess, 80.8ms inference, 0.6ms postprocess per image at shape (1, 3, 480, 640)\n"
     ]
    },
    {
     "name": "stdout",
     "output_type": "stream",
     "text": [
      "Error: results_list is empty or contains tuples without a second element.\n"
     ]
    },
    {
     "name": "stderr",
     "output_type": "stream",
     "text": [
      "\n",
      "0: 480x640 14 cars, 1 bus, 5 trucks, 82.4ms\n",
      "Speed: 2.4ms preprocess, 82.4ms inference, 1.2ms postprocess per image at shape (1, 3, 480, 640)\n",
      "\n",
      "0: 480x640 2 licenses, 83.3ms\n",
      "Speed: 2.8ms preprocess, 83.3ms inference, 0.7ms postprocess per image at shape (1, 3, 480, 640)\n",
      "\n",
      "0: 480x640 14 cars, 3 trucks, 79.4ms\n",
      "Speed: 2.5ms preprocess, 79.4ms inference, 0.7ms postprocess per image at shape (1, 3, 480, 640)\n",
      "\n",
      "0: 480x640 2 licenses, 76.9ms\n",
      "Speed: 2.9ms preprocess, 76.9ms inference, 0.5ms postprocess per image at shape (1, 3, 480, 640)\n"
     ]
    },
    {
     "name": "stdout",
     "output_type": "stream",
     "text": [
      "Error: results_list is empty or contains tuples without a second element.\n"
     ]
    },
    {
     "name": "stderr",
     "output_type": "stream",
     "text": [
      "\n",
      "0: 480x640 14 cars, 1 bus, 3 trucks, 147.5ms\n",
      "Speed: 2.7ms preprocess, 147.5ms inference, 1.2ms postprocess per image at shape (1, 3, 480, 640)\n",
      "\n",
      "0: 480x640 2 licenses, 158.0ms\n",
      "Speed: 5.5ms preprocess, 158.0ms inference, 1.1ms postprocess per image at shape (1, 3, 480, 640)\n"
     ]
    },
    {
     "name": "stdout",
     "output_type": "stream",
     "text": [
      "Error: results_list is empty or contains tuples without a second element.\n"
     ]
    },
    {
     "name": "stderr",
     "output_type": "stream",
     "text": [
      "\n",
      "0: 480x640 15 cars, 1 bus, 4 trucks, 73.5ms\n",
      "Speed: 2.5ms preprocess, 73.5ms inference, 0.7ms postprocess per image at shape (1, 3, 480, 640)\n",
      "\n",
      "0: 480x640 1 license, 75.1ms\n",
      "Speed: 2.4ms preprocess, 75.1ms inference, 0.6ms postprocess per image at shape (1, 3, 480, 640)\n",
      "\n",
      "0: 480x640 15 cars, 1 bus, 4 trucks, 90.8ms\n",
      "Speed: 2.8ms preprocess, 90.8ms inference, 1.0ms postprocess per image at shape (1, 3, 480, 640)\n",
      "\n"
     ]
    },
    {
     "name": "stdout",
     "output_type": "stream",
     "text": [
      "Error: results_list is empty or contains tuples without a second element.\n"
     ]
    },
    {
     "name": "stderr",
     "output_type": "stream",
     "text": [
      "0: 480x640 1 license, 94.4ms\n",
      "Speed: 3.0ms preprocess, 94.4ms inference, 0.8ms postprocess per image at shape (1, 3, 480, 640)\n",
      "\n",
      "0: 480x640 15 cars, 1 bus, 4 trucks, 79.2ms\n",
      "Speed: 2.5ms preprocess, 79.2ms inference, 0.8ms postprocess per image at shape (1, 3, 480, 640)\n",
      "\n",
      "0: 480x640 2 licenses, 97.7ms\n",
      "Speed: 3.1ms preprocess, 97.7ms inference, 0.6ms postprocess per image at shape (1, 3, 480, 640)\n"
     ]
    },
    {
     "name": "stdout",
     "output_type": "stream",
     "text": [
      "Error: results_list is empty or contains tuples without a second element.\n"
     ]
    },
    {
     "name": "stderr",
     "output_type": "stream",
     "text": [
      "\n",
      "0: 480x640 15 cars, 1 bus, 4 trucks, 111.9ms\n",
      "Speed: 2.4ms preprocess, 111.9ms inference, 0.9ms postprocess per image at shape (1, 3, 480, 640)\n",
      "\n",
      "0: 480x640 2 licenses, 122.7ms\n",
      "Speed: 6.7ms preprocess, 122.7ms inference, 1.2ms postprocess per image at shape (1, 3, 480, 640)\n",
      "\n",
      "0: 480x640 14 cars, 1 bus, 4 trucks, 77.5ms\n",
      "Speed: 2.5ms preprocess, 77.5ms inference, 0.8ms postprocess per image at shape (1, 3, 480, 640)\n",
      "\n",
      "0: 480x640 2 licenses, 71.8ms\n",
      "Speed: 2.4ms preprocess, 71.8ms inference, 0.5ms postprocess per image at shape (1, 3, 480, 640)\n"
     ]
    },
    {
     "name": "stdout",
     "output_type": "stream",
     "text": [
      "Error: results_list is empty or contains tuples without a second element.\n"
     ]
    },
    {
     "name": "stderr",
     "output_type": "stream",
     "text": [
      "\n",
      "0: 480x640 15 cars, 1 bus, 4 trucks, 80.6ms\n",
      "Speed: 2.4ms preprocess, 80.6ms inference, 0.9ms postprocess per image at shape (1, 3, 480, 640)\n",
      "\n",
      "0: 480x640 2 licenses, 81.4ms\n",
      "Speed: 2.6ms preprocess, 81.4ms inference, 0.6ms postprocess per image at shape (1, 3, 480, 640)\n"
     ]
    },
    {
     "name": "stdout",
     "output_type": "stream",
     "text": [
      "Error: results_list is empty or contains tuples without a second element.\n"
     ]
    },
    {
     "name": "stderr",
     "output_type": "stream",
     "text": [
      "\n",
      "0: 480x640 13 cars, 1 bus, 3 trucks, 81.0ms\n",
      "Speed: 2.4ms preprocess, 81.0ms inference, 0.8ms postprocess per image at shape (1, 3, 480, 640)\n",
      "\n",
      "0: 480x640 2 licenses, 80.7ms\n",
      "Speed: 3.0ms preprocess, 80.7ms inference, 0.6ms postprocess per image at shape (1, 3, 480, 640)\n",
      "\n",
      "0: 480x640 13 cars, 1 bus, 3 trucks, 79.7ms\n",
      "Speed: 2.9ms preprocess, 79.7ms inference, 0.8ms postprocess per image at shape (1, 3, 480, 640)\n",
      "\n",
      "0: 480x640 2 licenses, 78.2ms\n",
      "Speed: 2.6ms preprocess, 78.2ms inference, 0.6ms postprocess per image at shape (1, 3, 480, 640)\n",
      "\n",
      "0: 480x640 14 cars, 1 bus, 3 trucks, 76.0ms\n",
      "Speed: 2.4ms preprocess, 76.0ms inference, 0.8ms postprocess per image at shape (1, 3, 480, 640)\n",
      "\n",
      "0: 480x640 2 licenses, 80.8ms\n",
      "Speed: 2.9ms preprocess, 80.8ms inference, 0.6ms postprocess per image at shape (1, 3, 480, 640)\n",
      "\n",
      "0: 480x640 14 cars, 1 bus, 3 trucks, 85.0ms\n",
      "Speed: 2.4ms preprocess, 85.0ms inference, 0.8ms postprocess per image at shape (1, 3, 480, 640)\n",
      "\n",
      "0: 480x640 2 licenses, 84.4ms\n",
      "Speed: 3.1ms preprocess, 84.4ms inference, 1.0ms postprocess per image at shape (1, 3, 480, 640)\n",
      "\n",
      "0: 480x640 15 cars, 1 bus, 3 trucks, 75.2ms\n",
      "Speed: 2.5ms preprocess, 75.2ms inference, 0.7ms postprocess per image at shape (1, 3, 480, 640)\n",
      "\n",
      "0: 480x640 3 licenses, 75.1ms\n",
      "Speed: 2.4ms preprocess, 75.1ms inference, 0.6ms postprocess per image at shape (1, 3, 480, 640)\n",
      "\n",
      "0: 480x640 15 cars, 3 trucks, 77.6ms\n",
      "Speed: 2.4ms preprocess, 77.6ms inference, 0.7ms postprocess per image at shape (1, 3, 480, 640)\n",
      "\n",
      "0: 480x640 3 licenses, 73.1ms\n",
      "Speed: 2.5ms preprocess, 73.1ms inference, 0.5ms postprocess per image at shape (1, 3, 480, 640)\n"
     ]
    },
    {
     "name": "stdout",
     "output_type": "stream",
     "text": [
      "Error: results_list is empty or contains tuples without a second element.\n"
     ]
    },
    {
     "name": "stderr",
     "output_type": "stream",
     "text": [
      "\n",
      "0: 480x640 13 cars, 3 trucks, 78.9ms\n",
      "Speed: 2.9ms preprocess, 78.9ms inference, 0.8ms postprocess per image at shape (1, 3, 480, 640)\n",
      "\n",
      "0: 480x640 3 licenses, 83.6ms\n",
      "Speed: 3.2ms preprocess, 83.6ms inference, 0.6ms postprocess per image at shape (1, 3, 480, 640)\n"
     ]
    },
    {
     "name": "stdout",
     "output_type": "stream",
     "text": [
      "Error: results_list is empty or contains tuples without a second element.\n"
     ]
    },
    {
     "name": "stderr",
     "output_type": "stream",
     "text": [
      "\n",
      "0: 480x640 13 cars, 4 trucks, 98.1ms\n",
      "Speed: 4.8ms preprocess, 98.1ms inference, 1.0ms postprocess per image at shape (1, 3, 480, 640)\n",
      "\n",
      "0: 480x640 3 licenses, 120.3ms\n",
      "Speed: 4.4ms preprocess, 120.3ms inference, 1.0ms postprocess per image at shape (1, 3, 480, 640)\n",
      "\n",
      "0: 480x640 14 cars, 4 trucks, 79.9ms\n",
      "Speed: 2.4ms preprocess, 79.9ms inference, 1.1ms postprocess per image at shape (1, 3, 480, 640)\n",
      "\n",
      "0: 480x640 2 licenses, 81.9ms\n",
      "Speed: 2.5ms preprocess, 81.9ms inference, 0.6ms postprocess per image at shape (1, 3, 480, 640)\n",
      "\n",
      "0: 480x640 14 cars, 4 trucks, 80.0ms\n",
      "Speed: 2.4ms preprocess, 80.0ms inference, 0.8ms postprocess per image at shape (1, 3, 480, 640)\n",
      "\n",
      "0: 480x640 2 licenses, 80.4ms\n",
      "Speed: 2.5ms preprocess, 80.4ms inference, 0.6ms postprocess per image at shape (1, 3, 480, 640)\n",
      "\n",
      "0: 480x640 15 cars, 4 trucks, 78.4ms\n",
      "Speed: 2.4ms preprocess, 78.4ms inference, 0.7ms postprocess per image at shape (1, 3, 480, 640)\n",
      "\n",
      "0: 480x640 2 licenses, 80.5ms\n",
      "Speed: 2.9ms preprocess, 80.5ms inference, 0.6ms postprocess per image at shape (1, 3, 480, 640)\n",
      "\n",
      "0: 480x640 15 cars, 4 trucks, 78.7ms\n",
      "Speed: 2.6ms preprocess, 78.7ms inference, 0.7ms postprocess per image at shape (1, 3, 480, 640)\n",
      "\n",
      "0: 480x640 2 licenses, 83.7ms\n",
      "Speed: 2.9ms preprocess, 83.7ms inference, 0.6ms postprocess per image at shape (1, 3, 480, 640)\n",
      "\n",
      "0: 480x640 13 cars, 3 trucks, 78.8ms\n",
      "Speed: 2.4ms preprocess, 78.8ms inference, 1.2ms postprocess per image at shape (1, 3, 480, 640)\n",
      "\n",
      "0: 480x640 3 licenses, 79.0ms\n",
      "Speed: 2.5ms preprocess, 79.0ms inference, 0.6ms postprocess per image at shape (1, 3, 480, 640)\n",
      "\n",
      "0: 480x640 13 cars, 3 trucks, 79.6ms\n",
      "Speed: 2.5ms preprocess, 79.6ms inference, 0.8ms postprocess per image at shape (1, 3, 480, 640)\n",
      "\n",
      "0: 480x640 3 licenses, 83.6ms\n",
      "Speed: 3.2ms preprocess, 83.6ms inference, 0.7ms postprocess per image at shape (1, 3, 480, 640)\n",
      "\n",
      "0: 480x640 13 cars, 3 trucks, 76.3ms\n",
      "Speed: 2.4ms preprocess, 76.3ms inference, 1.4ms postprocess per image at shape (1, 3, 480, 640)\n",
      "\n",
      "0: 480x640 2 licenses, 85.1ms\n",
      "Speed: 2.7ms preprocess, 85.1ms inference, 0.6ms postprocess per image at shape (1, 3, 480, 640)\n",
      "\n",
      "0: 480x640 13 cars, 3 trucks, 78.3ms\n",
      "Speed: 2.5ms preprocess, 78.3ms inference, 0.7ms postprocess per image at shape (1, 3, 480, 640)\n",
      "\n",
      "0: 480x640 2 licenses, 76.9ms\n",
      "Speed: 2.4ms preprocess, 76.9ms inference, 0.6ms postprocess per image at shape (1, 3, 480, 640)\n",
      "\n",
      "0: 480x640 14 cars, 3 trucks, 85.2ms\n",
      "Speed: 2.5ms preprocess, 85.2ms inference, 1.3ms postprocess per image at shape (1, 3, 480, 640)\n",
      "\n",
      "0: 480x640 2 licenses, 94.9ms\n",
      "Speed: 2.7ms preprocess, 94.9ms inference, 0.8ms postprocess per image at shape (1, 3, 480, 640)\n",
      "\n",
      "0: 480x640 15 cars, 3 trucks, 87.2ms\n",
      "Speed: 2.6ms preprocess, 87.2ms inference, 0.9ms postprocess per image at shape (1, 3, 480, 640)\n",
      "\n",
      "0: 480x640 2 licenses, 95.2ms\n",
      "Speed: 3.4ms preprocess, 95.2ms inference, 0.8ms postprocess per image at shape (1, 3, 480, 640)\n"
     ]
    },
    {
     "name": "stdout",
     "output_type": "stream",
     "text": [
      "Error: results_list is empty or contains tuples without a second element.\n"
     ]
    },
    {
     "name": "stderr",
     "output_type": "stream",
     "text": [
      "\n",
      "0: 480x640 13 cars, 4 trucks, 83.9ms\n",
      "Speed: 2.7ms preprocess, 83.9ms inference, 0.8ms postprocess per image at shape (1, 3, 480, 640)\n",
      "\n",
      "0: 480x640 3 licenses, 85.1ms\n",
      "Speed: 3.3ms preprocess, 85.1ms inference, 0.6ms postprocess per image at shape (1, 3, 480, 640)\n",
      "\n",
      "0: 480x640 13 cars, 4 trucks, 81.9ms\n",
      "Speed: 2.7ms preprocess, 81.9ms inference, 0.8ms postprocess per image at shape (1, 3, 480, 640)\n",
      "\n",
      "0: 480x640 3 licenses, 90.6ms\n",
      "Speed: 3.0ms preprocess, 90.6ms inference, 0.7ms postprocess per image at shape (1, 3, 480, 640)\n",
      "\n",
      "0: 480x640 13 cars, 4 trucks, 85.7ms\n",
      "Speed: 2.4ms preprocess, 85.7ms inference, 1.2ms postprocess per image at shape (1, 3, 480, 640)\n",
      "\n",
      "0: 480x640 3 licenses, 79.2ms\n",
      "Speed: 3.2ms preprocess, 79.2ms inference, 0.6ms postprocess per image at shape (1, 3, 480, 640)\n"
     ]
    },
    {
     "name": "stdout",
     "output_type": "stream",
     "text": [
      "Error: results_list is empty or contains tuples without a second element.\n"
     ]
    },
    {
     "name": "stderr",
     "output_type": "stream",
     "text": [
      "\n",
      "0: 480x640 13 cars, 4 trucks, 124.9ms\n",
      "Speed: 2.8ms preprocess, 124.9ms inference, 1.4ms postprocess per image at shape (1, 3, 480, 640)\n",
      "\n",
      "0: 480x640 3 licenses, 152.7ms\n",
      "Speed: 7.7ms preprocess, 152.7ms inference, 1.0ms postprocess per image at shape (1, 3, 480, 640)\n"
     ]
    },
    {
     "name": "stdout",
     "output_type": "stream",
     "text": [
      "Error: results_list is empty or contains tuples without a second element.\n"
     ]
    },
    {
     "name": "stderr",
     "output_type": "stream",
     "text": [
      "\n",
      "0: 480x640 14 cars, 3 trucks, 102.9ms\n",
      "Speed: 2.7ms preprocess, 102.9ms inference, 1.2ms postprocess per image at shape (1, 3, 480, 640)\n",
      "\n",
      "0: 480x640 2 licenses, 122.6ms\n",
      "Speed: 4.1ms preprocess, 122.6ms inference, 1.3ms postprocess per image at shape (1, 3, 480, 640)\n",
      "\n",
      "0: 480x640 14 cars, 3 trucks, 83.0ms\n",
      "Speed: 2.4ms preprocess, 83.0ms inference, 0.8ms postprocess per image at shape (1, 3, 480, 640)\n",
      "\n",
      "0: 480x640 2 licenses, 82.7ms\n",
      "Speed: 3.2ms preprocess, 82.7ms inference, 0.7ms postprocess per image at shape (1, 3, 480, 640)\n",
      "\n",
      "0: 480x640 13 cars, 1 bus, 3 trucks, 78.2ms\n",
      "Speed: 2.3ms preprocess, 78.2ms inference, 0.7ms postprocess per image at shape (1, 3, 480, 640)\n",
      "\n",
      "0: 480x640 3 licenses, 81.6ms\n",
      "Speed: 2.8ms preprocess, 81.6ms inference, 0.9ms postprocess per image at shape (1, 3, 480, 640)\n"
     ]
    },
    {
     "name": "stdout",
     "output_type": "stream",
     "text": [
      "Error: results_list is empty or contains tuples without a second element.\n"
     ]
    },
    {
     "name": "stderr",
     "output_type": "stream",
     "text": [
      "\n",
      "0: 480x640 13 cars, 1 bus, 3 trucks, 84.2ms\n",
      "Speed: 2.7ms preprocess, 84.2ms inference, 0.8ms postprocess per image at shape (1, 3, 480, 640)\n",
      "\n",
      "0: 480x640 3 licenses, 82.4ms\n",
      "Speed: 3.1ms preprocess, 82.4ms inference, 0.6ms postprocess per image at shape (1, 3, 480, 640)\n"
     ]
    },
    {
     "name": "stdout",
     "output_type": "stream",
     "text": [
      "Error: results_list is empty or contains tuples without a second element.\n"
     ]
    },
    {
     "name": "stderr",
     "output_type": "stream",
     "text": [
      "\n",
      "0: 480x640 14 cars, 1 bus, 3 trucks, 90.0ms\n",
      "Speed: 2.3ms preprocess, 90.0ms inference, 0.9ms postprocess per image at shape (1, 3, 480, 640)\n",
      "\n",
      "0: 480x640 3 licenses, 112.8ms\n",
      "Speed: 3.3ms preprocess, 112.8ms inference, 1.2ms postprocess per image at shape (1, 3, 480, 640)\n",
      "\n",
      "0: 480x640 14 cars, 1 bus, 3 trucks, 79.7ms\n",
      "Speed: 2.4ms preprocess, 79.7ms inference, 0.8ms postprocess per image at shape (1, 3, 480, 640)\n",
      "\n",
      "0: 480x640 3 licenses, 84.0ms\n",
      "Speed: 3.3ms preprocess, 84.0ms inference, 0.6ms postprocess per image at shape (1, 3, 480, 640)\n",
      "\n",
      "0: 480x640 13 cars, 1 bus, 3 trucks, 79.9ms\n",
      "Speed: 2.4ms preprocess, 79.9ms inference, 1.1ms postprocess per image at shape (1, 3, 480, 640)\n",
      "\n",
      "0: 480x640 3 licenses, 76.9ms\n",
      "Speed: 2.3ms preprocess, 76.9ms inference, 0.9ms postprocess per image at shape (1, 3, 480, 640)\n",
      "\n",
      "0: 480x640 13 cars, 1 bus, 3 trucks, 77.6ms\n",
      "Speed: 2.3ms preprocess, 77.6ms inference, 0.7ms postprocess per image at shape (1, 3, 480, 640)\n",
      "\n",
      "0: 480x640 3 licenses, 76.9ms\n",
      "Speed: 2.4ms preprocess, 76.9ms inference, 0.6ms postprocess per image at shape (1, 3, 480, 640)\n"
     ]
    },
    {
     "name": "stdout",
     "output_type": "stream",
     "text": [
      "Error: results_list is empty or contains tuples without a second element.\n"
     ]
    },
    {
     "name": "stderr",
     "output_type": "stream",
     "text": [
      "\n",
      "0: 480x640 12 cars, 1 bus, 3 trucks, 78.8ms\n",
      "Speed: 2.4ms preprocess, 78.8ms inference, 0.8ms postprocess per image at shape (1, 3, 480, 640)\n",
      "\n",
      "0: 480x640 3 licenses, 77.2ms\n",
      "Speed: 2.8ms preprocess, 77.2ms inference, 0.6ms postprocess per image at shape (1, 3, 480, 640)\n"
     ]
    },
    {
     "name": "stdout",
     "output_type": "stream",
     "text": [
      "Error: results_list is empty or contains tuples without a second element.\n"
     ]
    },
    {
     "name": "stderr",
     "output_type": "stream",
     "text": [
      "\n",
      "0: 480x640 12 cars, 1 bus, 3 trucks, 80.9ms\n",
      "Speed: 2.5ms preprocess, 80.9ms inference, 0.7ms postprocess per image at shape (1, 3, 480, 640)\n",
      "\n",
      "0: 480x640 3 licenses, 76.5ms\n",
      "Speed: 2.8ms preprocess, 76.5ms inference, 0.6ms postprocess per image at shape (1, 3, 480, 640)\n"
     ]
    },
    {
     "name": "stdout",
     "output_type": "stream",
     "text": [
      "Error: results_list is empty or contains tuples without a second element.\n"
     ]
    },
    {
     "name": "stderr",
     "output_type": "stream",
     "text": [
      "\n",
      "0: 480x640 13 cars, 2 buss, 3 trucks, 80.4ms\n",
      "Speed: 2.5ms preprocess, 80.4ms inference, 0.7ms postprocess per image at shape (1, 3, 480, 640)\n",
      "\n",
      "0: 480x640 2 licenses, 78.4ms\n",
      "Speed: 2.9ms preprocess, 78.4ms inference, 0.6ms postprocess per image at shape (1, 3, 480, 640)\n",
      "\n",
      "0: 480x640 13 cars, 2 buss, 3 trucks, 78.6ms\n",
      "Speed: 2.4ms preprocess, 78.6ms inference, 0.7ms postprocess per image at shape (1, 3, 480, 640)\n",
      "\n",
      "0: 480x640 2 licenses, 76.4ms\n",
      "Speed: 2.9ms preprocess, 76.4ms inference, 0.6ms postprocess per image at shape (1, 3, 480, 640)\n",
      "\n",
      "0: 480x640 15 cars, 2 buss, 3 trucks, 77.4ms\n",
      "Speed: 2.5ms preprocess, 77.4ms inference, 0.8ms postprocess per image at shape (1, 3, 480, 640)\n",
      "\n",
      "0: 480x640 3 licenses, 75.6ms\n",
      "Speed: 3.2ms preprocess, 75.6ms inference, 0.6ms postprocess per image at shape (1, 3, 480, 640)\n",
      "\n",
      "0: 480x640 15 cars, 2 buss, 3 trucks, 75.2ms\n",
      "Speed: 2.5ms preprocess, 75.2ms inference, 0.7ms postprocess per image at shape (1, 3, 480, 640)\n",
      "\n",
      "0: 480x640 3 licenses, 76.3ms\n",
      "Speed: 2.8ms preprocess, 76.3ms inference, 0.5ms postprocess per image at shape (1, 3, 480, 640)\n",
      "\n",
      "0: 480x640 15 cars, 2 buss, 3 trucks, 83.6ms\n",
      "Speed: 2.4ms preprocess, 83.6ms inference, 0.8ms postprocess per image at shape (1, 3, 480, 640)\n",
      "\n"
     ]
    },
    {
     "name": "stdout",
     "output_type": "stream",
     "text": [
      "Error: results_list is empty or contains tuples without a second element.\n"
     ]
    },
    {
     "name": "stderr",
     "output_type": "stream",
     "text": [
      "0: 480x640 3 licenses, 113.2ms\n",
      "Speed: 3.5ms preprocess, 113.2ms inference, 1.1ms postprocess per image at shape (1, 3, 480, 640)\n",
      "\n",
      "0: 480x640 15 cars, 2 buss, 3 trucks, 78.4ms\n",
      "Speed: 2.4ms preprocess, 78.4ms inference, 0.7ms postprocess per image at shape (1, 3, 480, 640)\n",
      "\n",
      "0: 480x640 3 licenses, 77.8ms\n",
      "Speed: 3.1ms preprocess, 77.8ms inference, 0.6ms postprocess per image at shape (1, 3, 480, 640)\n",
      "\n",
      "0: 480x640 15 cars, 2 buss, 3 trucks, 76.5ms\n",
      "Speed: 2.6ms preprocess, 76.5ms inference, 1.3ms postprocess per image at shape (1, 3, 480, 640)\n",
      "\n",
      "0: 480x640 3 licenses, 75.5ms\n",
      "Speed: 2.4ms preprocess, 75.5ms inference, 0.6ms postprocess per image at shape (1, 3, 480, 640)\n",
      "\n",
      "0: 480x640 14 cars, 2 buss, 3 trucks, 75.9ms\n",
      "Speed: 2.4ms preprocess, 75.9ms inference, 0.7ms postprocess per image at shape (1, 3, 480, 640)\n",
      "\n",
      "0: 480x640 3 licenses, 75.7ms\n",
      "Speed: 2.9ms preprocess, 75.7ms inference, 0.9ms postprocess per image at shape (1, 3, 480, 640)\n",
      "\n",
      "0: 480x640 14 cars, 2 buss, 3 trucks, 76.3ms\n",
      "Speed: 2.5ms preprocess, 76.3ms inference, 0.7ms postprocess per image at shape (1, 3, 480, 640)\n",
      "\n",
      "0: 480x640 3 licenses, 74.8ms\n",
      "Speed: 2.3ms preprocess, 74.8ms inference, 0.5ms postprocess per image at shape (1, 3, 480, 640)\n",
      "\n",
      "0: 480x640 14 cars, 2 buss, 3 trucks, 78.2ms\n",
      "Speed: 2.4ms preprocess, 78.2ms inference, 0.7ms postprocess per image at shape (1, 3, 480, 640)\n",
      "\n",
      "0: 480x640 3 licenses, 76.6ms\n",
      "Speed: 2.4ms preprocess, 76.6ms inference, 0.5ms postprocess per image at shape (1, 3, 480, 640)\n",
      "\n",
      "0: 480x640 14 cars, 1 bus, 3 trucks, 75.9ms\n",
      "Speed: 2.4ms preprocess, 75.9ms inference, 0.7ms postprocess per image at shape (1, 3, 480, 640)\n",
      "\n",
      "0: 480x640 3 licenses, 74.5ms\n",
      "Speed: 2.9ms preprocess, 74.5ms inference, 0.5ms postprocess per image at shape (1, 3, 480, 640)\n",
      "\n",
      "0: 480x640 13 cars, 1 bus, 3 trucks, 78.9ms\n",
      "Speed: 2.4ms preprocess, 78.9ms inference, 0.7ms postprocess per image at shape (1, 3, 480, 640)\n",
      "\n",
      "0: 480x640 3 licenses, 78.4ms\n",
      "Speed: 2.9ms preprocess, 78.4ms inference, 0.6ms postprocess per image at shape (1, 3, 480, 640)\n",
      "\n",
      "0: 480x640 14 cars, 1 bus, 3 trucks, 78.1ms\n",
      "Speed: 2.6ms preprocess, 78.1ms inference, 0.7ms postprocess per image at shape (1, 3, 480, 640)\n",
      "\n",
      "0: 480x640 3 licenses, 77.0ms\n",
      "Speed: 2.9ms preprocess, 77.0ms inference, 0.5ms postprocess per image at shape (1, 3, 480, 640)\n",
      "\n",
      "0: 480x640 13 cars, 1 bus, 3 trucks, 83.0ms\n",
      "Speed: 2.4ms preprocess, 83.0ms inference, 0.8ms postprocess per image at shape (1, 3, 480, 640)\n",
      "\n",
      "0: 480x640 3 licenses, 91.0ms\n",
      "Speed: 3.2ms preprocess, 91.0ms inference, 0.8ms postprocess per image at shape (1, 3, 480, 640)\n",
      "\n",
      "0: 480x640 14 cars, 1 bus, 3 trucks, 84.0ms\n",
      "Speed: 2.4ms preprocess, 84.0ms inference, 0.8ms postprocess per image at shape (1, 3, 480, 640)\n",
      "\n",
      "0: 480x640 3 licenses, 82.6ms\n",
      "Speed: 2.5ms preprocess, 82.6ms inference, 0.6ms postprocess per image at shape (1, 3, 480, 640)\n",
      "\n",
      "0: 480x640 14 cars, 1 bus, 3 trucks, 78.9ms\n",
      "Speed: 2.4ms preprocess, 78.9ms inference, 0.7ms postprocess per image at shape (1, 3, 480, 640)\n",
      "\n",
      "0: 480x640 3 licenses, 79.7ms\n",
      "Speed: 2.4ms preprocess, 79.7ms inference, 0.6ms postprocess per image at shape (1, 3, 480, 640)\n"
     ]
    },
    {
     "name": "stdout",
     "output_type": "stream",
     "text": [
      "Error: results_list is empty or contains tuples without a second element.\n"
     ]
    },
    {
     "name": "stderr",
     "output_type": "stream",
     "text": [
      "\n",
      "0: 480x640 13 cars, 2 buss, 3 trucks, 80.7ms\n",
      "Speed: 2.4ms preprocess, 80.7ms inference, 0.7ms postprocess per image at shape (1, 3, 480, 640)\n",
      "\n",
      "0: 480x640 3 licenses, 75.2ms\n",
      "Speed: 2.4ms preprocess, 75.2ms inference, 0.5ms postprocess per image at shape (1, 3, 480, 640)\n"
     ]
    },
    {
     "name": "stdout",
     "output_type": "stream",
     "text": [
      "Error: results_list is empty or contains tuples without a second element.\n",
      "Error: results_list is empty or contains tuples without a second element.\n"
     ]
    },
    {
     "name": "stderr",
     "output_type": "stream",
     "text": [
      "\n",
      "0: 480x640 13 cars, 2 buss, 3 trucks, 79.8ms\n",
      "Speed: 2.4ms preprocess, 79.8ms inference, 0.7ms postprocess per image at shape (1, 3, 480, 640)\n",
      "\n",
      "0: 480x640 3 licenses, 76.9ms\n",
      "Speed: 2.3ms preprocess, 76.9ms inference, 0.6ms postprocess per image at shape (1, 3, 480, 640)\n"
     ]
    },
    {
     "name": "stdout",
     "output_type": "stream",
     "text": [
      "Error: results_list is empty or contains tuples without a second element.\n"
     ]
    },
    {
     "name": "stderr",
     "output_type": "stream",
     "text": [
      "\n",
      "0: 480x640 12 cars, 2 buss, 3 trucks, 81.9ms\n",
      "Speed: 2.6ms preprocess, 81.9ms inference, 0.8ms postprocess per image at shape (1, 3, 480, 640)\n",
      "\n",
      "0: 480x640 2 licenses, 77.2ms\n",
      "Speed: 2.4ms preprocess, 77.2ms inference, 0.9ms postprocess per image at shape (1, 3, 480, 640)\n",
      "\n",
      "0: 480x640 12 cars, 2 buss, 3 trucks, 77.6ms\n",
      "Speed: 2.4ms preprocess, 77.6ms inference, 0.8ms postprocess per image at shape (1, 3, 480, 640)\n",
      "\n",
      "0: 480x640 2 licenses, 79.1ms\n",
      "Speed: 2.5ms preprocess, 79.1ms inference, 0.6ms postprocess per image at shape (1, 3, 480, 640)\n",
      "\n",
      "0: 480x640 1 person, 12 cars, 2 buss, 3 trucks, 82.2ms\n",
      "Speed: 2.4ms preprocess, 82.2ms inference, 0.8ms postprocess per image at shape (1, 3, 480, 640)\n",
      "\n",
      "0: 480x640 2 licenses, 79.4ms\n",
      "Speed: 3.2ms preprocess, 79.4ms inference, 0.6ms postprocess per image at shape (1, 3, 480, 640)\n",
      "\n",
      "0: 480x640 1 person, 12 cars, 2 buss, 3 trucks, 79.4ms\n",
      "Speed: 2.4ms preprocess, 79.4ms inference, 0.7ms postprocess per image at shape (1, 3, 480, 640)\n",
      "\n",
      "0: 480x640 2 licenses, 79.6ms\n",
      "Speed: 2.9ms preprocess, 79.6ms inference, 0.6ms postprocess per image at shape (1, 3, 480, 640)\n",
      "\n",
      "0: 480x640 1 person, 15 cars, 2 buss, 4 trucks, 77.7ms\n",
      "Speed: 2.4ms preprocess, 77.7ms inference, 0.8ms postprocess per image at shape (1, 3, 480, 640)\n",
      "\n",
      "0: 480x640 3 licenses, 80.2ms\n",
      "Speed: 2.8ms preprocess, 80.2ms inference, 0.6ms postprocess per image at shape (1, 3, 480, 640)\n",
      "\n",
      "0: 480x640 1 person, 15 cars, 2 buss, 4 trucks, 82.9ms\n",
      "Speed: 2.4ms preprocess, 82.9ms inference, 0.8ms postprocess per image at shape (1, 3, 480, 640)\n",
      "\n",
      "0: 480x640 3 licenses, 84.6ms\n",
      "Speed: 2.7ms preprocess, 84.6ms inference, 1.3ms postprocess per image at shape (1, 3, 480, 640)\n",
      "\n",
      "0: 480x640 1 person, 16 cars, 2 buss, 4 trucks, 125.8ms\n",
      "Speed: 3.1ms preprocess, 125.8ms inference, 2.1ms postprocess per image at shape (1, 3, 480, 640)\n",
      "\n",
      "0: 480x640 2 licenses, 148.4ms\n",
      "Speed: 5.4ms preprocess, 148.4ms inference, 1.2ms postprocess per image at shape (1, 3, 480, 640)\n",
      "\n",
      "0: 480x640 1 person, 15 cars, 2 buss, 4 trucks, 79.8ms\n",
      "Speed: 2.4ms preprocess, 79.8ms inference, 0.8ms postprocess per image at shape (1, 3, 480, 640)\n",
      "\n",
      "0: 480x640 2 licenses, 82.1ms\n",
      "Speed: 2.6ms preprocess, 82.1ms inference, 0.6ms postprocess per image at shape (1, 3, 480, 640)\n",
      "\n",
      "0: 480x640 1 person, 16 cars, 1 bus, 4 trucks, 83.5ms\n",
      "Speed: 2.4ms preprocess, 83.5ms inference, 0.8ms postprocess per image at shape (1, 3, 480, 640)\n",
      "\n",
      "0: 480x640 3 licenses, 85.3ms\n",
      "Speed: 2.6ms preprocess, 85.3ms inference, 0.7ms postprocess per image at shape (1, 3, 480, 640)\n",
      "\n",
      "0: 480x640 1 person, 15 cars, 1 bus, 4 trucks, 81.8ms\n",
      "Speed: 2.4ms preprocess, 81.8ms inference, 0.8ms postprocess per image at shape (1, 3, 480, 640)\n",
      "\n",
      "0: 480x640 3 licenses, 81.1ms\n",
      "Speed: 2.7ms preprocess, 81.1ms inference, 0.6ms postprocess per image at shape (1, 3, 480, 640)\n",
      "\n",
      "0: 480x640 1 person, 15 cars, 1 bus, 3 trucks, 78.7ms\n",
      "Speed: 2.5ms preprocess, 78.7ms inference, 0.7ms postprocess per image at shape (1, 3, 480, 640)\n",
      "\n",
      "0: 480x640 4 licenses, 75.5ms\n",
      "Speed: 2.4ms preprocess, 75.5ms inference, 0.5ms postprocess per image at shape (1, 3, 480, 640)\n",
      "\n",
      "0: 480x640 1 person, 15 cars, 1 bus, 3 trucks, 88.3ms\n",
      "Speed: 2.8ms preprocess, 88.3ms inference, 0.9ms postprocess per image at shape (1, 3, 480, 640)\n",
      "\n",
      "0: 480x640 4 licenses, 81.8ms\n",
      "Speed: 3.2ms preprocess, 81.8ms inference, 0.6ms postprocess per image at shape (1, 3, 480, 640)\n",
      "\n",
      "0: 480x640 1 person, 14 cars, 1 bus, 3 trucks, 81.4ms\n",
      "Speed: 2.5ms preprocess, 81.4ms inference, 0.8ms postprocess per image at shape (1, 3, 480, 640)\n",
      "\n",
      "0: 480x640 3 licenses, 78.3ms\n",
      "Speed: 3.2ms preprocess, 78.3ms inference, 0.6ms postprocess per image at shape (1, 3, 480, 640)\n"
     ]
    },
    {
     "name": "stdout",
     "output_type": "stream",
     "text": [
      "Error: results_list is empty or contains tuples without a second element.\n"
     ]
    },
    {
     "name": "stderr",
     "output_type": "stream",
     "text": [
      "\n",
      "0: 480x640 1 person, 15 cars, 1 bus, 3 trucks, 95.0ms\n",
      "Speed: 3.1ms preprocess, 95.0ms inference, 1.0ms postprocess per image at shape (1, 3, 480, 640)\n",
      "\n",
      "0: 480x640 3 licenses, 89.8ms\n",
      "Speed: 3.0ms preprocess, 89.8ms inference, 0.8ms postprocess per image at shape (1, 3, 480, 640)\n"
     ]
    },
    {
     "name": "stdout",
     "output_type": "stream",
     "text": [
      "Error: results_list is empty or contains tuples without a second element.\n"
     ]
    },
    {
     "name": "stderr",
     "output_type": "stream",
     "text": [
      "\n",
      "0: 480x640 13 cars, 1 bus, 4 trucks, 84.9ms\n",
      "Speed: 2.5ms preprocess, 84.9ms inference, 0.8ms postprocess per image at shape (1, 3, 480, 640)\n",
      "\n",
      "0: 480x640 3 licenses, 80.6ms\n",
      "Speed: 2.7ms preprocess, 80.6ms inference, 0.7ms postprocess per image at shape (1, 3, 480, 640)\n",
      "\n",
      "0: 480x640 13 cars, 1 bus, 4 trucks, 77.3ms\n",
      "Speed: 2.5ms preprocess, 77.3ms inference, 0.8ms postprocess per image at shape (1, 3, 480, 640)\n",
      "\n",
      "0: 480x640 3 licenses, 71.3ms\n",
      "Speed: 2.9ms preprocess, 71.3ms inference, 0.5ms postprocess per image at shape (1, 3, 480, 640)\n",
      "\n",
      "0: 480x640 12 cars, 1 bus, 4 trucks, 81.9ms\n",
      "Speed: 3.0ms preprocess, 81.9ms inference, 0.7ms postprocess per image at shape (1, 3, 480, 640)\n",
      "\n",
      "0: 480x640 3 licenses, 75.8ms\n",
      "Speed: 2.3ms preprocess, 75.8ms inference, 0.5ms postprocess per image at shape (1, 3, 480, 640)\n",
      "\n",
      "0: 480x640 12 cars, 1 bus, 4 trucks, 77.9ms\n",
      "Speed: 2.5ms preprocess, 77.9ms inference, 0.7ms postprocess per image at shape (1, 3, 480, 640)\n",
      "\n",
      "0: 480x640 3 licenses, 77.4ms\n",
      "Speed: 2.3ms preprocess, 77.4ms inference, 0.6ms postprocess per image at shape (1, 3, 480, 640)\n",
      "\n",
      "0: 480x640 11 cars, 1 bus, 4 trucks, 77.6ms\n",
      "Speed: 2.4ms preprocess, 77.6ms inference, 1.2ms postprocess per image at shape (1, 3, 480, 640)\n",
      "\n",
      "0: 480x640 2 licenses, 77.7ms\n",
      "Speed: 2.4ms preprocess, 77.7ms inference, 0.6ms postprocess per image at shape (1, 3, 480, 640)\n",
      "\n",
      "0: 480x640 11 cars, 1 bus, 4 trucks, 79.9ms\n",
      "Speed: 2.4ms preprocess, 79.9ms inference, 0.7ms postprocess per image at shape (1, 3, 480, 640)\n",
      "\n",
      "0: 480x640 2 licenses, 81.9ms\n",
      "Speed: 2.5ms preprocess, 81.9ms inference, 0.6ms postprocess per image at shape (1, 3, 480, 640)\n",
      "\n",
      "0: 480x640 12 cars, 1 bus, 4 trucks, 82.0ms\n",
      "Speed: 2.5ms preprocess, 82.0ms inference, 0.7ms postprocess per image at shape (1, 3, 480, 640)\n",
      "\n",
      "0: 480x640 3 licenses, 82.1ms\n",
      "Speed: 2.3ms preprocess, 82.1ms inference, 0.6ms postprocess per image at shape (1, 3, 480, 640)\n",
      "\n",
      "0: 480x640 12 cars, 1 bus, 4 trucks, 79.7ms\n",
      "Speed: 2.4ms preprocess, 79.7ms inference, 0.7ms postprocess per image at shape (1, 3, 480, 640)\n",
      "\n",
      "0: 480x640 3 licenses, 79.3ms\n",
      "Speed: 3.8ms preprocess, 79.3ms inference, 0.7ms postprocess per image at shape (1, 3, 480, 640)\n",
      "\n",
      "0: 480x640 1 person, 11 cars, 1 bus, 4 trucks, 130.1ms\n",
      "Speed: 2.9ms preprocess, 130.1ms inference, 1.0ms postprocess per image at shape (1, 3, 480, 640)\n",
      "\n",
      "0: 480x640 4 licenses, 139.1ms\n",
      "Speed: 4.2ms preprocess, 139.1ms inference, 1.3ms postprocess per image at shape (1, 3, 480, 640)\n"
     ]
    },
    {
     "name": "stdout",
     "output_type": "stream",
     "text": [
      "Error: results_list is empty or contains tuples without a second element.\n"
     ]
    },
    {
     "name": "stderr",
     "output_type": "stream",
     "text": [
      "\n",
      "0: 480x640 1 person, 12 cars, 1 bus, 4 trucks, 85.8ms\n",
      "Speed: 2.4ms preprocess, 85.8ms inference, 0.8ms postprocess per image at shape (1, 3, 480, 640)\n",
      "\n",
      "0: 480x640 4 licenses, 82.2ms\n",
      "Speed: 2.7ms preprocess, 82.2ms inference, 0.6ms postprocess per image at shape (1, 3, 480, 640)\n"
     ]
    },
    {
     "name": "stdout",
     "output_type": "stream",
     "text": [
      "Error: results_list is empty or contains tuples without a second element.\n"
     ]
    },
    {
     "name": "stderr",
     "output_type": "stream",
     "text": [
      "\n",
      "0: 480x640 1 person, 11 cars, 1 bus, 4 trucks, 78.0ms\n",
      "Speed: 2.4ms preprocess, 78.0ms inference, 0.7ms postprocess per image at shape (1, 3, 480, 640)\n",
      "\n",
      "0: 480x640 3 licenses, 79.5ms\n",
      "Speed: 2.8ms preprocess, 79.5ms inference, 0.6ms postprocess per image at shape (1, 3, 480, 640)\n",
      "\n",
      "0: 480x640 1 person, 11 cars, 1 bus, 4 trucks, 84.4ms\n",
      "Speed: 2.6ms preprocess, 84.4ms inference, 0.8ms postprocess per image at shape (1, 3, 480, 640)\n",
      "\n",
      "0: 480x640 3 licenses, 87.4ms\n",
      "Speed: 3.4ms preprocess, 87.4ms inference, 0.7ms postprocess per image at shape (1, 3, 480, 640)\n",
      "\n",
      "0: 480x640 1 person, 13 cars, 1 bus, 3 trucks, 82.4ms\n",
      "Speed: 2.3ms preprocess, 82.4ms inference, 0.8ms postprocess per image at shape (1, 3, 480, 640)\n",
      "\n",
      "0: 480x640 4 licenses, 81.8ms\n",
      "Speed: 2.6ms preprocess, 81.8ms inference, 1.2ms postprocess per image at shape (1, 3, 480, 640)\n",
      "\n",
      "0: 480x640 1 person, 13 cars, 1 bus, 3 trucks, 80.3ms\n",
      "Speed: 2.4ms preprocess, 80.3ms inference, 1.0ms postprocess per image at shape (1, 3, 480, 640)\n",
      "\n",
      "0: 480x640 4 licenses, 81.3ms\n",
      "Speed: 2.4ms preprocess, 81.3ms inference, 0.6ms postprocess per image at shape (1, 3, 480, 640)\n"
     ]
    },
    {
     "name": "stdout",
     "output_type": "stream",
     "text": [
      "Error: results_list is empty or contains tuples without a second element.\n"
     ]
    },
    {
     "name": "stderr",
     "output_type": "stream",
     "text": [
      "\n"
     ]
    },
    {
     "name": "stdout",
     "output_type": "stream",
     "text": [
      "Error: results_list is empty or contains tuples without a second element.\n"
     ]
    },
    {
     "name": "stderr",
     "output_type": "stream",
     "text": [
      "0: 480x640 1 person, 14 cars, 1 bus, 3 trucks, 213.5ms\n",
      "Speed: 3.0ms preprocess, 213.5ms inference, 1.3ms postprocess per image at shape (1, 3, 480, 640)\n",
      "\n",
      "0: 480x640 4 licenses, 159.0ms\n",
      "Speed: 7.2ms preprocess, 159.0ms inference, 0.8ms postprocess per image at shape (1, 3, 480, 640)\n"
     ]
    },
    {
     "name": "stdout",
     "output_type": "stream",
     "text": [
      "Error: results_list is empty or contains tuples without a second element.\n",
      "Error: results_list is empty or contains tuples without a second element.\n"
     ]
    },
    {
     "name": "stderr",
     "output_type": "stream",
     "text": [
      "\n",
      "0: 480x640 1 person, 15 cars, 1 bus, 3 trucks, 78.4ms\n",
      "Speed: 2.3ms preprocess, 78.4ms inference, 0.7ms postprocess per image at shape (1, 3, 480, 640)\n",
      "\n",
      "0: 480x640 4 licenses, 77.6ms\n",
      "Speed: 2.3ms preprocess, 77.6ms inference, 1.1ms postprocess per image at shape (1, 3, 480, 640)\n"
     ]
    },
    {
     "name": "stdout",
     "output_type": "stream",
     "text": [
      "Error: results_list is empty or contains tuples without a second element.\n",
      "Error: results_list is empty or contains tuples without a second element.\n"
     ]
    },
    {
     "name": "stderr",
     "output_type": "stream",
     "text": [
      "\n",
      "0: 480x640 1 person, 16 cars, 1 bus, 3 trucks, 86.9ms\n",
      "Speed: 2.4ms preprocess, 86.9ms inference, 1.2ms postprocess per image at shape (1, 3, 480, 640)\n",
      "\n",
      "0: 480x640 3 licenses, 85.0ms\n",
      "Speed: 2.5ms preprocess, 85.0ms inference, 0.8ms postprocess per image at shape (1, 3, 480, 640)\n"
     ]
    },
    {
     "name": "stdout",
     "output_type": "stream",
     "text": [
      "Error: results_list is empty or contains tuples without a second element.\n"
     ]
    },
    {
     "name": "stderr",
     "output_type": "stream",
     "text": [
      "\n",
      "0: 480x640 1 person, 16 cars, 1 bus, 3 trucks, 78.9ms\n",
      "Speed: 2.5ms preprocess, 78.9ms inference, 0.8ms postprocess per image at shape (1, 3, 480, 640)\n",
      "\n",
      "0: 480x640 3 licenses, 78.4ms\n",
      "Speed: 2.8ms preprocess, 78.4ms inference, 0.5ms postprocess per image at shape (1, 3, 480, 640)\n"
     ]
    },
    {
     "name": "stdout",
     "output_type": "stream",
     "text": [
      "Error: results_list is empty or contains tuples without a second element.\n"
     ]
    },
    {
     "name": "stderr",
     "output_type": "stream",
     "text": [
      "\n",
      "0: 480x640 1 person, 17 cars, 1 bus, 3 trucks, 82.7ms\n",
      "Speed: 2.6ms preprocess, 82.7ms inference, 0.7ms postprocess per image at shape (1, 3, 480, 640)\n",
      "\n",
      "0: 480x640 3 licenses, 76.3ms\n",
      "Speed: 2.4ms preprocess, 76.3ms inference, 0.8ms postprocess per image at shape (1, 3, 480, 640)\n",
      "\n",
      "0: 480x640 1 person, 17 cars, 1 bus, 3 trucks, 79.3ms\n",
      "Speed: 2.6ms preprocess, 79.3ms inference, 0.7ms postprocess per image at shape (1, 3, 480, 640)\n",
      "\n",
      "0: 480x640 3 licenses, 83.5ms\n",
      "Speed: 3.0ms preprocess, 83.5ms inference, 0.6ms postprocess per image at shape (1, 3, 480, 640)\n",
      "\n",
      "0: 480x640 2 persons, 17 cars, 1 bus, 3 trucks, 79.2ms\n",
      "Speed: 2.6ms preprocess, 79.2ms inference, 0.8ms postprocess per image at shape (1, 3, 480, 640)\n",
      "\n",
      "0: 480x640 2 licenses, 80.4ms\n",
      "Speed: 2.7ms preprocess, 80.4ms inference, 0.6ms postprocess per image at shape (1, 3, 480, 640)\n",
      "\n",
      "0: 480x640 1 person, 17 cars, 1 bus, 3 trucks, 75.8ms\n",
      "Speed: 2.5ms preprocess, 75.8ms inference, 0.8ms postprocess per image at shape (1, 3, 480, 640)\n",
      "\n",
      "0: 480x640 2 licenses, 75.8ms\n",
      "Speed: 2.4ms preprocess, 75.8ms inference, 0.5ms postprocess per image at shape (1, 3, 480, 640)\n",
      "\n",
      "0: 480x640 1 person, 17 cars, 1 bus, 3 trucks, 78.4ms\n",
      "Speed: 2.4ms preprocess, 78.4ms inference, 0.7ms postprocess per image at shape (1, 3, 480, 640)\n",
      "\n",
      "0: 480x640 3 licenses, 80.6ms\n",
      "Speed: 2.8ms preprocess, 80.6ms inference, 0.6ms postprocess per image at shape (1, 3, 480, 640)\n",
      "\n",
      "0: 480x640 1 person, 17 cars, 1 bus, 3 trucks, 77.5ms\n",
      "Speed: 2.4ms preprocess, 77.5ms inference, 0.7ms postprocess per image at shape (1, 3, 480, 640)\n",
      "\n",
      "0: 480x640 3 licenses, 78.0ms\n",
      "Speed: 3.1ms preprocess, 78.0ms inference, 0.6ms postprocess per image at shape (1, 3, 480, 640)\n",
      "\n",
      "0: 480x640 17 cars, 1 bus, 3 trucks, 78.2ms\n",
      "Speed: 2.5ms preprocess, 78.2ms inference, 0.8ms postprocess per image at shape (1, 3, 480, 640)\n",
      "\n",
      "0: 480x640 3 licenses, 81.1ms\n",
      "Speed: 3.0ms preprocess, 81.1ms inference, 0.6ms postprocess per image at shape (1, 3, 480, 640)\n",
      "\n",
      "0: 480x640 16 cars, 1 bus, 3 trucks, 78.5ms\n",
      "Speed: 2.6ms preprocess, 78.5ms inference, 0.7ms postprocess per image at shape (1, 3, 480, 640)\n",
      "\n",
      "0: 480x640 3 licenses, 79.0ms\n",
      "Speed: 2.4ms preprocess, 79.0ms inference, 0.6ms postprocess per image at shape (1, 3, 480, 640)\n",
      "\n",
      "0: 480x640 14 cars, 1 bus, 3 trucks, 78.7ms\n",
      "Speed: 2.5ms preprocess, 78.7ms inference, 0.7ms postprocess per image at shape (1, 3, 480, 640)\n",
      "\n",
      "0: 480x640 3 licenses, 78.0ms\n",
      "Speed: 2.9ms preprocess, 78.0ms inference, 0.6ms postprocess per image at shape (1, 3, 480, 640)\n"
     ]
    },
    {
     "name": "stdout",
     "output_type": "stream",
     "text": [
      "Error: results_list is empty or contains tuples without a second element.\n"
     ]
    },
    {
     "name": "stderr",
     "output_type": "stream",
     "text": [
      "\n",
      "0: 480x640 15 cars, 1 bus, 3 trucks, 85.9ms\n",
      "Speed: 2.5ms preprocess, 85.9ms inference, 0.8ms postprocess per image at shape (1, 3, 480, 640)\n",
      "\n",
      "0: 480x640 3 licenses, 84.3ms\n",
      "Speed: 3.1ms preprocess, 84.3ms inference, 0.6ms postprocess per image at shape (1, 3, 480, 640)\n"
     ]
    },
    {
     "name": "stdout",
     "output_type": "stream",
     "text": [
      "Error: results_list is empty or contains tuples without a second element.\n"
     ]
    },
    {
     "name": "stderr",
     "output_type": "stream",
     "text": [
      "\n",
      "0: 480x640 15 cars, 1 bus, 3 trucks, 78.0ms\n",
      "Speed: 2.4ms preprocess, 78.0ms inference, 0.7ms postprocess per image at shape (1, 3, 480, 640)\n",
      "\n",
      "0: 480x640 4 licenses, 77.5ms\n",
      "Speed: 2.9ms preprocess, 77.5ms inference, 0.6ms postprocess per image at shape (1, 3, 480, 640)\n"
     ]
    },
    {
     "name": "stdout",
     "output_type": "stream",
     "text": [
      "Error: results_list is empty or contains tuples without a second element.\n"
     ]
    },
    {
     "name": "stderr",
     "output_type": "stream",
     "text": [
      "\n",
      "0: 480x640 15 cars, 1 bus, 4 trucks, 85.4ms\n",
      "Speed: 2.4ms preprocess, 85.4ms inference, 0.8ms postprocess per image at shape (1, 3, 480, 640)\n",
      "\n",
      "0: 480x640 4 licenses, 83.1ms\n",
      "Speed: 3.2ms preprocess, 83.1ms inference, 0.6ms postprocess per image at shape (1, 3, 480, 640)\n"
     ]
    },
    {
     "name": "stdout",
     "output_type": "stream",
     "text": [
      "Error: results_list is empty or contains tuples without a second element.\n",
      "Error: results_list is empty or contains tuples without a second element.\n"
     ]
    },
    {
     "name": "stderr",
     "output_type": "stream",
     "text": [
      "\n",
      "0: 480x640 14 cars, 1 bus, 4 trucks, 77.3ms\n",
      "Speed: 2.5ms preprocess, 77.3ms inference, 0.7ms postprocess per image at shape (1, 3, 480, 640)\n",
      "\n",
      "0: 480x640 2 licenses, 82.2ms\n",
      "Speed: 3.2ms preprocess, 82.2ms inference, 0.6ms postprocess per image at shape (1, 3, 480, 640)\n"
     ]
    },
    {
     "name": "stdout",
     "output_type": "stream",
     "text": [
      "Error: results_list is empty or contains tuples without a second element.\n"
     ]
    },
    {
     "name": "stderr",
     "output_type": "stream",
     "text": [
      "\n",
      "0: 480x640 14 cars, 1 bus, 4 trucks, 81.5ms\n",
      "Speed: 2.7ms preprocess, 81.5ms inference, 0.7ms postprocess per image at shape (1, 3, 480, 640)\n",
      "\n",
      "0: 480x640 2 licenses, 76.6ms\n",
      "Speed: 2.9ms preprocess, 76.6ms inference, 0.6ms postprocess per image at shape (1, 3, 480, 640)\n",
      "\n",
      "0: 480x640 15 cars, 1 bus, 4 trucks, 75.6ms\n",
      "Speed: 2.4ms preprocess, 75.6ms inference, 0.7ms postprocess per image at shape (1, 3, 480, 640)\n",
      "\n",
      "0: 480x640 2 licenses, 83.4ms\n",
      "Speed: 3.0ms preprocess, 83.4ms inference, 0.6ms postprocess per image at shape (1, 3, 480, 640)\n"
     ]
    },
    {
     "name": "stdout",
     "output_type": "stream",
     "text": [
      "Error: results_list is empty or contains tuples without a second element.\n"
     ]
    },
    {
     "name": "stderr",
     "output_type": "stream",
     "text": [
      "\n",
      "0: 480x640 14 cars, 1 bus, 4 trucks, 82.7ms\n",
      "Speed: 2.5ms preprocess, 82.7ms inference, 0.8ms postprocess per image at shape (1, 3, 480, 640)\n",
      "\n",
      "0: 480x640 2 licenses, 84.2ms\n",
      "Speed: 3.1ms preprocess, 84.2ms inference, 0.7ms postprocess per image at shape (1, 3, 480, 640)\n",
      "\n",
      "0: 480x640 15 cars, 1 bus, 3 trucks, 77.4ms\n",
      "Speed: 2.5ms preprocess, 77.4ms inference, 0.7ms postprocess per image at shape (1, 3, 480, 640)\n",
      "\n",
      "0: 480x640 2 licenses, 80.6ms\n",
      "Speed: 2.5ms preprocess, 80.6ms inference, 0.5ms postprocess per image at shape (1, 3, 480, 640)\n",
      "\n",
      "0: 480x640 15 cars, 1 bus, 3 trucks, 80.3ms\n",
      "Speed: 2.3ms preprocess, 80.3ms inference, 0.7ms postprocess per image at shape (1, 3, 480, 640)\n",
      "\n",
      "0: 480x640 2 licenses, 85.8ms\n",
      "Speed: 2.4ms preprocess, 85.8ms inference, 0.6ms postprocess per image at shape (1, 3, 480, 640)\n",
      "\n",
      "0: 480x640 1 person, 14 cars, 1 bus, 3 trucks, 106.9ms\n",
      "Speed: 4.4ms preprocess, 106.9ms inference, 0.7ms postprocess per image at shape (1, 3, 480, 640)\n",
      "\n",
      "0: 480x640 3 licenses, 82.2ms\n",
      "Speed: 2.3ms preprocess, 82.2ms inference, 0.6ms postprocess per image at shape (1, 3, 480, 640)\n",
      "\n",
      "0: 480x640 1 person, 14 cars, 1 bus, 3 trucks, 203.8ms\n",
      "Speed: 6.7ms preprocess, 203.8ms inference, 1.6ms postprocess per image at shape (1, 3, 480, 640)\n",
      "\n",
      "0: 480x640 3 licenses, 127.8ms\n",
      "Speed: 6.0ms preprocess, 127.8ms inference, 1.0ms postprocess per image at shape (1, 3, 480, 640)\n"
     ]
    },
    {
     "name": "stdout",
     "output_type": "stream",
     "text": [
      "Error: results_list is empty or contains tuples without a second element.\n"
     ]
    },
    {
     "name": "stderr",
     "output_type": "stream",
     "text": [
      "\n",
      "0: 480x640 14 cars, 1 bus, 2 trucks, 77.5ms\n",
      "Speed: 2.5ms preprocess, 77.5ms inference, 0.9ms postprocess per image at shape (1, 3, 480, 640)\n",
      "\n",
      "0: 480x640 3 licenses, 82.3ms\n",
      "Speed: 2.6ms preprocess, 82.3ms inference, 0.6ms postprocess per image at shape (1, 3, 480, 640)\n",
      "\n",
      "0: 480x640 15 cars, 1 bus, 2 trucks, 83.0ms\n",
      "Speed: 2.5ms preprocess, 83.0ms inference, 0.7ms postprocess per image at shape (1, 3, 480, 640)\n",
      "\n",
      "0: 480x640 3 licenses, 81.7ms\n",
      "Speed: 3.1ms preprocess, 81.7ms inference, 0.9ms postprocess per image at shape (1, 3, 480, 640)\n"
     ]
    },
    {
     "name": "stdout",
     "output_type": "stream",
     "text": [
      "Error: results_list is empty or contains tuples without a second element.\n"
     ]
    },
    {
     "name": "stderr",
     "output_type": "stream",
     "text": [
      "\n",
      "0: 480x640 1 person, 14 cars, 1 bus, 3 trucks, 83.5ms\n",
      "Speed: 2.4ms preprocess, 83.5ms inference, 0.8ms postprocess per image at shape (1, 3, 480, 640)\n",
      "\n",
      "0: 480x640 3 licenses, 88.4ms\n",
      "Speed: 3.1ms preprocess, 88.4ms inference, 0.9ms postprocess per image at shape (1, 3, 480, 640)\n"
     ]
    },
    {
     "name": "stdout",
     "output_type": "stream",
     "text": [
      "Error: results_list is empty or contains tuples without a second element.\n"
     ]
    },
    {
     "name": "stderr",
     "output_type": "stream",
     "text": [
      "\n",
      "0: 480x640 1 person, 14 cars, 1 bus, 3 trucks, 83.9ms\n",
      "Speed: 2.4ms preprocess, 83.9ms inference, 0.8ms postprocess per image at shape (1, 3, 480, 640)\n",
      "\n",
      "0: 480x640 3 licenses, 83.5ms\n",
      "Speed: 3.2ms preprocess, 83.5ms inference, 0.6ms postprocess per image at shape (1, 3, 480, 640)\n"
     ]
    },
    {
     "name": "stdout",
     "output_type": "stream",
     "text": [
      "Error: results_list is empty or contains tuples without a second element.\n",
      "Error: results_list is empty or contains tuples without a second element.\n"
     ]
    },
    {
     "name": "stderr",
     "output_type": "stream",
     "text": [
      "\n",
      "0: 480x640 1 person, 14 cars, 1 bus, 3 trucks, 79.0ms\n",
      "Speed: 2.3ms preprocess, 79.0ms inference, 0.7ms postprocess per image at shape (1, 3, 480, 640)\n",
      "\n",
      "0: 480x640 4 licenses, 82.6ms\n",
      "Speed: 2.8ms preprocess, 82.6ms inference, 0.6ms postprocess per image at shape (1, 3, 480, 640)\n"
     ]
    },
    {
     "name": "stdout",
     "output_type": "stream",
     "text": [
      "Error: results_list is empty or contains tuples without a second element.\n",
      "Error: results_list is empty or contains tuples without a second element.\n"
     ]
    },
    {
     "name": "stderr",
     "output_type": "stream",
     "text": [
      "\n",
      "0: 480x640 1 person, 14 cars, 1 bus, 3 trucks, 126.6ms\n",
      "Speed: 3.1ms preprocess, 126.6ms inference, 0.9ms postprocess per image at shape (1, 3, 480, 640)\n",
      "\n",
      "0: 480x640 4 licenses, 159.6ms\n",
      "Speed: 4.1ms preprocess, 159.6ms inference, 1.1ms postprocess per image at shape (1, 3, 480, 640)\n"
     ]
    },
    {
     "name": "stdout",
     "output_type": "stream",
     "text": [
      "Error: results_list is empty or contains tuples without a second element.\n"
     ]
    },
    {
     "name": "stderr",
     "output_type": "stream",
     "text": [
      "\n",
      "0: 480x640 1 person, 13 cars, 1 bus, 3 trucks, 81.6ms\n",
      "Speed: 2.5ms preprocess, 81.6ms inference, 0.8ms postprocess per image at shape (1, 3, 480, 640)\n",
      "\n",
      "0: 480x640 3 licenses, 82.0ms\n",
      "Speed: 3.1ms preprocess, 82.0ms inference, 0.7ms postprocess per image at shape (1, 3, 480, 640)\n",
      "\n",
      "0: 480x640 1 person, 13 cars, 1 bus, 3 trucks, 81.1ms\n",
      "Speed: 2.5ms preprocess, 81.1ms inference, 0.8ms postprocess per image at shape (1, 3, 480, 640)\n",
      "\n",
      "0: 480x640 3 licenses, 83.7ms\n",
      "Speed: 3.2ms preprocess, 83.7ms inference, 0.7ms postprocess per image at shape (1, 3, 480, 640)\n",
      "\n",
      "0: 480x640 13 cars, 2 buss, 2 trucks, 86.2ms\n",
      "Speed: 2.6ms preprocess, 86.2ms inference, 0.9ms postprocess per image at shape (1, 3, 480, 640)\n",
      "\n",
      "0: 480x640 3 licenses, 82.9ms\n",
      "Speed: 3.1ms preprocess, 82.9ms inference, 0.6ms postprocess per image at shape (1, 3, 480, 640)\n"
     ]
    },
    {
     "name": "stdout",
     "output_type": "stream",
     "text": [
      "Error: results_list is empty or contains tuples without a second element.\n",
      "Error: results_list is empty or contains tuples without a second element.\n"
     ]
    },
    {
     "name": "stderr",
     "output_type": "stream",
     "text": [
      "\n",
      "0: 480x640 13 cars, 2 buss, 2 trucks, 81.6ms\n",
      "Speed: 2.5ms preprocess, 81.6ms inference, 0.8ms postprocess per image at shape (1, 3, 480, 640)\n",
      "\n",
      "0: 480x640 3 licenses, 84.3ms\n",
      "Speed: 2.5ms preprocess, 84.3ms inference, 0.6ms postprocess per image at shape (1, 3, 480, 640)\n"
     ]
    },
    {
     "name": "stdout",
     "output_type": "stream",
     "text": [
      "Error: results_list is empty or contains tuples without a second element.\n",
      "Error: results_list is empty or contains tuples without a second element.\n"
     ]
    },
    {
     "name": "stderr",
     "output_type": "stream",
     "text": [
      "\n",
      "0: 480x640 13 cars, 1 bus, 2 trucks, 77.0ms\n",
      "Speed: 2.7ms preprocess, 77.0ms inference, 0.7ms postprocess per image at shape (1, 3, 480, 640)\n",
      "\n",
      "0: 480x640 2 licenses, 75.8ms\n",
      "Speed: 2.8ms preprocess, 75.8ms inference, 0.5ms postprocess per image at shape (1, 3, 480, 640)\n"
     ]
    },
    {
     "name": "stdout",
     "output_type": "stream",
     "text": [
      "Error: results_list is empty or contains tuples without a second element.\n",
      "Error: results_list is empty or contains tuples without a second element.\n"
     ]
    },
    {
     "name": "stderr",
     "output_type": "stream",
     "text": [
      "\n",
      "0: 480x640 12 cars, 1 bus, 2 trucks, 77.9ms\n",
      "Speed: 2.5ms preprocess, 77.9ms inference, 0.7ms postprocess per image at shape (1, 3, 480, 640)\n",
      "\n",
      "0: 480x640 2 licenses, 76.5ms\n",
      "Speed: 2.4ms preprocess, 76.5ms inference, 0.7ms postprocess per image at shape (1, 3, 480, 640)\n",
      "\n",
      "0: 480x640 13 cars, 1 bus, 3 trucks, 76.2ms\n",
      "Speed: 2.4ms preprocess, 76.2ms inference, 0.8ms postprocess per image at shape (1, 3, 480, 640)\n",
      "\n",
      "0: 480x640 3 licenses, 84.8ms\n",
      "Speed: 3.6ms preprocess, 84.8ms inference, 0.6ms postprocess per image at shape (1, 3, 480, 640)\n",
      "\n",
      "0: 480x640 13 cars, 1 bus, 3 trucks, 77.9ms\n",
      "Speed: 2.5ms preprocess, 77.9ms inference, 0.7ms postprocess per image at shape (1, 3, 480, 640)\n",
      "\n",
      "0: 480x640 3 licenses, 76.1ms\n",
      "Speed: 2.8ms preprocess, 76.1ms inference, 0.6ms postprocess per image at shape (1, 3, 480, 640)\n",
      "\n",
      "0: 480x640 12 cars, 1 bus, 3 trucks, 81.7ms\n",
      "Speed: 2.4ms preprocess, 81.7ms inference, 0.7ms postprocess per image at shape (1, 3, 480, 640)\n",
      "\n",
      "0: 480x640 3 licenses, 78.5ms\n",
      "Speed: 2.3ms preprocess, 78.5ms inference, 0.8ms postprocess per image at shape (1, 3, 480, 640)\n"
     ]
    },
    {
     "name": "stdout",
     "output_type": "stream",
     "text": [
      "Error: results_list is empty or contains tuples without a second element.\n",
      "Error: results_list is empty or contains tuples without a second element.\n"
     ]
    },
    {
     "name": "stderr",
     "output_type": "stream",
     "text": [
      "\n",
      "0: 480x640 12 cars, 1 bus, 3 trucks, 81.0ms\n",
      "Speed: 2.7ms preprocess, 81.0ms inference, 0.7ms postprocess per image at shape (1, 3, 480, 640)\n",
      "\n",
      "0: 480x640 3 licenses, 78.1ms\n",
      "Speed: 2.5ms preprocess, 78.1ms inference, 0.5ms postprocess per image at shape (1, 3, 480, 640)\n",
      "\n",
      "0: 480x640 12 cars, 1 bus, 3 trucks, 81.0ms\n",
      "Speed: 2.4ms preprocess, 81.0ms inference, 0.6ms postprocess per image at shape (1, 3, 480, 640)\n",
      "\n",
      "0: 480x640 3 licenses, 75.4ms\n",
      "Speed: 2.8ms preprocess, 75.4ms inference, 1.0ms postprocess per image at shape (1, 3, 480, 640)\n"
     ]
    },
    {
     "name": "stdout",
     "output_type": "stream",
     "text": [
      "Error: results_list is empty or contains tuples without a second element.\n"
     ]
    },
    {
     "name": "stderr",
     "output_type": "stream",
     "text": [
      "\n",
      "0: 480x640 12 cars, 1 bus, 3 trucks, 77.8ms\n",
      "Speed: 2.5ms preprocess, 77.8ms inference, 0.7ms postprocess per image at shape (1, 3, 480, 640)\n",
      "\n",
      "0: 480x640 3 licenses, 74.1ms\n",
      "Speed: 2.9ms preprocess, 74.1ms inference, 0.6ms postprocess per image at shape (1, 3, 480, 640)\n"
     ]
    },
    {
     "name": "stdout",
     "output_type": "stream",
     "text": [
      "Error: results_list is empty or contains tuples without a second element.\n"
     ]
    },
    {
     "name": "stderr",
     "output_type": "stream",
     "text": [
      "\n",
      "0: 480x640 11 cars, 1 bus, 3 trucks, 79.4ms\n",
      "Speed: 2.5ms preprocess, 79.4ms inference, 0.7ms postprocess per image at shape (1, 3, 480, 640)\n",
      "\n",
      "0: 480x640 2 licenses, 77.4ms\n",
      "Speed: 3.0ms preprocess, 77.4ms inference, 0.7ms postprocess per image at shape (1, 3, 480, 640)\n",
      "\n",
      "0: 480x640 11 cars, 1 bus, 3 trucks, 76.9ms\n",
      "Speed: 2.6ms preprocess, 76.9ms inference, 0.8ms postprocess per image at shape (1, 3, 480, 640)\n",
      "\n",
      "0: 480x640 2 licenses, 76.0ms\n",
      "Speed: 2.8ms preprocess, 76.0ms inference, 0.6ms postprocess per image at shape (1, 3, 480, 640)\n",
      "\n",
      "0: 480x640 11 cars, 2 buss, 3 trucks, 79.3ms\n",
      "Speed: 2.4ms preprocess, 79.3ms inference, 0.7ms postprocess per image at shape (1, 3, 480, 640)\n",
      "\n",
      "0: 480x640 2 licenses, 86.3ms\n",
      "Speed: 2.9ms preprocess, 86.3ms inference, 0.6ms postprocess per image at shape (1, 3, 480, 640)\n",
      "\n",
      "0: 480x640 11 cars, 2 buss, 3 trucks, 77.9ms\n",
      "Speed: 2.6ms preprocess, 77.9ms inference, 0.8ms postprocess per image at shape (1, 3, 480, 640)\n",
      "\n",
      "0: 480x640 2 licenses, 82.2ms\n",
      "Speed: 2.8ms preprocess, 82.2ms inference, 0.6ms postprocess per image at shape (1, 3, 480, 640)\n"
     ]
    },
    {
     "name": "stdout",
     "output_type": "stream",
     "text": [
      "Error: results_list is empty or contains tuples without a second element.\n"
     ]
    },
    {
     "name": "stderr",
     "output_type": "stream",
     "text": [
      "\n",
      "0: 480x640 12 cars, 2 buss, 3 trucks, 82.5ms\n",
      "Speed: 2.5ms preprocess, 82.5ms inference, 0.8ms postprocess per image at shape (1, 3, 480, 640)\n",
      "\n",
      "0: 480x640 3 licenses, 79.0ms\n",
      "Speed: 2.5ms preprocess, 79.0ms inference, 0.6ms postprocess per image at shape (1, 3, 480, 640)\n"
     ]
    },
    {
     "name": "stdout",
     "output_type": "stream",
     "text": [
      "Error: results_list is empty or contains tuples without a second element.\n"
     ]
    },
    {
     "name": "stderr",
     "output_type": "stream",
     "text": [
      "\n",
      "0: 480x640 12 cars, 2 buss, 3 trucks, 90.7ms\n",
      "Speed: 2.7ms preprocess, 90.7ms inference, 0.8ms postprocess per image at shape (1, 3, 480, 640)\n",
      "\n",
      "0: 480x640 3 licenses, 89.9ms\n",
      "Speed: 3.3ms preprocess, 89.9ms inference, 0.8ms postprocess per image at shape (1, 3, 480, 640)\n"
     ]
    },
    {
     "name": "stdout",
     "output_type": "stream",
     "text": [
      "Error: results_list is empty or contains tuples without a second element.\n"
     ]
    },
    {
     "name": "stderr",
     "output_type": "stream",
     "text": [
      "\n",
      "0: 480x640 1 person, 11 cars, 1 bus, 3 trucks, 78.1ms\n",
      "Speed: 2.6ms preprocess, 78.1ms inference, 0.8ms postprocess per image at shape (1, 3, 480, 640)\n",
      "\n",
      "0: 480x640 3 licenses, 84.6ms\n",
      "Speed: 3.1ms preprocess, 84.6ms inference, 0.6ms postprocess per image at shape (1, 3, 480, 640)\n",
      "\n",
      "0: 480x640 1 person, 12 cars, 1 bus, 3 trucks, 78.2ms\n",
      "Speed: 2.3ms preprocess, 78.2ms inference, 0.7ms postprocess per image at shape (1, 3, 480, 640)\n",
      "\n",
      "0: 480x640 3 licenses, 77.3ms\n",
      "Speed: 2.4ms preprocess, 77.3ms inference, 0.6ms postprocess per image at shape (1, 3, 480, 640)\n"
     ]
    },
    {
     "name": "stdout",
     "output_type": "stream",
     "text": [
      "Error: results_list is empty or contains tuples without a second element.\n"
     ]
    },
    {
     "name": "stderr",
     "output_type": "stream",
     "text": [
      "\n",
      "0: 480x640 12 cars, 1 bus, 3 trucks, 80.7ms\n",
      "Speed: 2.8ms preprocess, 80.7ms inference, 1.2ms postprocess per image at shape (1, 3, 480, 640)\n",
      "\n",
      "0: 480x640 3 licenses, 83.2ms\n",
      "Speed: 2.7ms preprocess, 83.2ms inference, 0.9ms postprocess per image at shape (1, 3, 480, 640)\n"
     ]
    },
    {
     "name": "stdout",
     "output_type": "stream",
     "text": [
      "Error: results_list is empty or contains tuples without a second element.\n"
     ]
    },
    {
     "name": "stderr",
     "output_type": "stream",
     "text": [
      "\n",
      "0: 480x640 12 cars, 1 bus, 3 trucks, 81.2ms\n",
      "Speed: 2.5ms preprocess, 81.2ms inference, 0.8ms postprocess per image at shape (1, 3, 480, 640)\n",
      "\n",
      "0: 480x640 3 licenses, 81.3ms\n",
      "Speed: 3.2ms preprocess, 81.3ms inference, 0.6ms postprocess per image at shape (1, 3, 480, 640)\n",
      "\n",
      "0: 480x640 12 cars, 1 bus, 3 trucks, 74.8ms\n",
      "Speed: 2.5ms preprocess, 74.8ms inference, 0.8ms postprocess per image at shape (1, 3, 480, 640)\n",
      "\n",
      "0: 480x640 3 licenses, 83.5ms\n",
      "Speed: 4.8ms preprocess, 83.5ms inference, 0.7ms postprocess per image at shape (1, 3, 480, 640)\n",
      "\n",
      "0: 480x640 12 cars, 1 bus, 3 trucks, 81.8ms\n",
      "Speed: 2.5ms preprocess, 81.8ms inference, 1.1ms postprocess per image at shape (1, 3, 480, 640)\n",
      "\n",
      "0: 480x640 3 licenses, 81.5ms\n",
      "Speed: 2.8ms preprocess, 81.5ms inference, 0.6ms postprocess per image at shape (1, 3, 480, 640)\n"
     ]
    },
    {
     "name": "stdout",
     "output_type": "stream",
     "text": [
      "Error: results_list is empty or contains tuples without a second element.\n"
     ]
    },
    {
     "name": "stderr",
     "output_type": "stream",
     "text": [
      "\n",
      "0: 480x640 13 cars, 1 bus, 3 trucks, 74.9ms\n",
      "Speed: 2.4ms preprocess, 74.9ms inference, 0.9ms postprocess per image at shape (1, 3, 480, 640)\n",
      "\n",
      "0: 480x640 2 licenses, 81.5ms\n",
      "Speed: 3.2ms preprocess, 81.5ms inference, 0.6ms postprocess per image at shape (1, 3, 480, 640)\n",
      "\n",
      "0: 480x640 13 cars, 1 bus, 3 trucks, 76.9ms\n",
      "Speed: 2.4ms preprocess, 76.9ms inference, 1.0ms postprocess per image at shape (1, 3, 480, 640)\n",
      "\n",
      "0: 480x640 2 licenses, 81.4ms\n",
      "Speed: 2.5ms preprocess, 81.4ms inference, 0.6ms postprocess per image at shape (1, 3, 480, 640)\n",
      "\n",
      "0: 480x640 13 cars, 1 bus, 3 trucks, 77.4ms\n",
      "Speed: 2.8ms preprocess, 77.4ms inference, 0.8ms postprocess per image at shape (1, 3, 480, 640)\n",
      "\n",
      "0: 480x640 3 licenses, 76.6ms\n",
      "Speed: 2.4ms preprocess, 76.6ms inference, 0.6ms postprocess per image at shape (1, 3, 480, 640)\n"
     ]
    },
    {
     "name": "stdout",
     "output_type": "stream",
     "text": [
      "Error: results_list is empty or contains tuples without a second element.\n"
     ]
    },
    {
     "name": "stderr",
     "output_type": "stream",
     "text": [
      "\n",
      "0: 480x640 13 cars, 1 bus, 3 trucks, 79.5ms\n",
      "Speed: 2.4ms preprocess, 79.5ms inference, 1.2ms postprocess per image at shape (1, 3, 480, 640)\n",
      "\n",
      "0: 480x640 3 licenses, 81.2ms\n",
      "Speed: 2.5ms preprocess, 81.2ms inference, 0.8ms postprocess per image at shape (1, 3, 480, 640)\n"
     ]
    },
    {
     "name": "stdout",
     "output_type": "stream",
     "text": [
      "Error: results_list is empty or contains tuples without a second element.\n"
     ]
    },
    {
     "name": "stderr",
     "output_type": "stream",
     "text": [
      "\n",
      "0: 480x640 14 cars, 1 bus, 3 trucks, 81.0ms\n",
      "Speed: 2.5ms preprocess, 81.0ms inference, 0.8ms postprocess per image at shape (1, 3, 480, 640)\n",
      "\n",
      "0: 480x640 3 licenses, 83.0ms\n",
      "Speed: 3.3ms preprocess, 83.0ms inference, 0.6ms postprocess per image at shape (1, 3, 480, 640)\n",
      "\n",
      "0: 480x640 14 cars, 1 bus, 3 trucks, 80.5ms\n",
      "Speed: 2.4ms preprocess, 80.5ms inference, 0.8ms postprocess per image at shape (1, 3, 480, 640)\n",
      "\n",
      "0: 480x640 3 licenses, 85.1ms\n",
      "Speed: 3.1ms preprocess, 85.1ms inference, 0.6ms postprocess per image at shape (1, 3, 480, 640)\n"
     ]
    },
    {
     "name": "stdout",
     "output_type": "stream",
     "text": [
      "Error: results_list is empty or contains tuples without a second element.\n"
     ]
    },
    {
     "name": "stderr",
     "output_type": "stream",
     "text": [
      "\n",
      "0: 480x640 13 cars, 1 bus, 3 trucks, 83.0ms\n",
      "Speed: 2.6ms preprocess, 83.0ms inference, 0.8ms postprocess per image at shape (1, 3, 480, 640)\n",
      "\n",
      "0: 480x640 3 licenses, 82.3ms\n",
      "Speed: 2.6ms preprocess, 82.3ms inference, 0.6ms postprocess per image at shape (1, 3, 480, 640)\n"
     ]
    },
    {
     "name": "stdout",
     "output_type": "stream",
     "text": [
      "Error: results_list is empty or contains tuples without a second element.\n"
     ]
    },
    {
     "name": "stderr",
     "output_type": "stream",
     "text": [
      "\n",
      "0: 480x640 14 cars, 1 bus, 3 trucks, 84.5ms\n",
      "Speed: 2.6ms preprocess, 84.5ms inference, 0.8ms postprocess per image at shape (1, 3, 480, 640)\n",
      "\n",
      "0: 480x640 3 licenses, 81.6ms\n",
      "Speed: 3.1ms preprocess, 81.6ms inference, 0.6ms postprocess per image at shape (1, 3, 480, 640)\n"
     ]
    },
    {
     "name": "stdout",
     "output_type": "stream",
     "text": [
      "Error: results_list is empty or contains tuples without a second element.\n"
     ]
    },
    {
     "name": "stderr",
     "output_type": "stream",
     "text": [
      "\n",
      "0: 480x640 12 cars, 1 bus, 3 trucks, 83.0ms\n",
      "Speed: 3.3ms preprocess, 83.0ms inference, 0.8ms postprocess per image at shape (1, 3, 480, 640)\n",
      "\n",
      "0: 480x640 3 licenses, 88.8ms\n",
      "Speed: 2.7ms preprocess, 88.8ms inference, 0.7ms postprocess per image at shape (1, 3, 480, 640)\n",
      "\n",
      "0: 480x640 12 cars, 1 bus, 3 trucks, 81.2ms\n",
      "Speed: 2.4ms preprocess, 81.2ms inference, 0.8ms postprocess per image at shape (1, 3, 480, 640)\n",
      "\n",
      "0: 480x640 3 licenses, 126.0ms\n",
      "Speed: 3.3ms preprocess, 126.0ms inference, 0.8ms postprocess per image at shape (1, 3, 480, 640)\n",
      "\n",
      "0: 480x640 1 person, 14 cars, 1 bus, 2 trucks, 75.8ms\n",
      "Speed: 2.4ms preprocess, 75.8ms inference, 0.7ms postprocess per image at shape (1, 3, 480, 640)\n",
      "\n",
      "0: 480x640 2 licenses, 77.0ms\n",
      "Speed: 2.4ms preprocess, 77.0ms inference, 0.9ms postprocess per image at shape (1, 3, 480, 640)\n",
      "\n",
      "0: 480x640 1 person, 13 cars, 1 bus, 3 trucks, 79.4ms\n",
      "Speed: 2.6ms preprocess, 79.4ms inference, 0.8ms postprocess per image at shape (1, 3, 480, 640)\n",
      "\n",
      "0: 480x640 2 licenses, 82.0ms\n",
      "Speed: 3.1ms preprocess, 82.0ms inference, 0.6ms postprocess per image at shape (1, 3, 480, 640)\n",
      "\n",
      "0: 480x640 1 person, 16 cars, 1 bus, 3 trucks, 77.7ms\n",
      "Speed: 2.5ms preprocess, 77.7ms inference, 0.7ms postprocess per image at shape (1, 3, 480, 640)\n",
      "\n",
      "0: 480x640 2 licenses, 74.7ms\n",
      "Speed: 3.0ms preprocess, 74.7ms inference, 0.5ms postprocess per image at shape (1, 3, 480, 640)\n",
      "\n",
      "0: 480x640 2 persons, 16 cars, 1 bus, 3 trucks, 75.6ms\n",
      "Speed: 2.4ms preprocess, 75.6ms inference, 0.7ms postprocess per image at shape (1, 3, 480, 640)\n",
      "\n",
      "0: 480x640 2 licenses, 81.4ms\n",
      "Speed: 3.2ms preprocess, 81.4ms inference, 0.6ms postprocess per image at shape (1, 3, 480, 640)\n",
      "\n",
      "0: 480x640 1 person, 15 cars, 1 bus, 3 trucks, 76.1ms\n",
      "Speed: 2.5ms preprocess, 76.1ms inference, 0.7ms postprocess per image at shape (1, 3, 480, 640)\n",
      "\n",
      "0: 480x640 3 licenses, 70.0ms\n",
      "Speed: 2.3ms preprocess, 70.0ms inference, 0.5ms postprocess per image at shape (1, 3, 480, 640)\n",
      "\n",
      "0: 480x640 1 person, 16 cars, 1 bus, 3 trucks, 79.0ms\n",
      "Speed: 2.4ms preprocess, 79.0ms inference, 0.8ms postprocess per image at shape (1, 3, 480, 640)\n",
      "\n",
      "0: 480x640 3 licenses, 78.2ms\n",
      "Speed: 3.1ms preprocess, 78.2ms inference, 0.6ms postprocess per image at shape (1, 3, 480, 640)\n"
     ]
    },
    {
     "name": "stdout",
     "output_type": "stream",
     "text": [
      "Error: results_list is empty or contains tuples without a second element.\n"
     ]
    },
    {
     "name": "stderr",
     "output_type": "stream",
     "text": [
      "\n",
      "0: 480x640 2 persons, 13 cars, 1 bus, 4 trucks, 80.8ms\n",
      "Speed: 2.4ms preprocess, 80.8ms inference, 0.7ms postprocess per image at shape (1, 3, 480, 640)\n",
      "\n",
      "0: 480x640 3 licenses, 82.5ms\n",
      "Speed: 3.1ms preprocess, 82.5ms inference, 0.6ms postprocess per image at shape (1, 3, 480, 640)\n"
     ]
    },
    {
     "name": "stdout",
     "output_type": "stream",
     "text": [
      "Error: results_list is empty or contains tuples without a second element.\n"
     ]
    },
    {
     "name": "stderr",
     "output_type": "stream",
     "text": [
      "\n",
      "0: 480x640 2 persons, 14 cars, 1 bus, 4 trucks, 117.7ms\n",
      "Speed: 2.4ms preprocess, 117.7ms inference, 0.7ms postprocess per image at shape (1, 3, 480, 640)\n",
      "\n"
     ]
    },
    {
     "name": "stdout",
     "output_type": "stream",
     "text": [
      "Error: results_list is empty or contains tuples without a second element.\n"
     ]
    },
    {
     "name": "stderr",
     "output_type": "stream",
     "text": [
      "0: 480x640 3 licenses, 74.3ms\n",
      "Speed: 2.4ms preprocess, 74.3ms inference, 0.6ms postprocess per image at shape (1, 3, 480, 640)\n",
      "\n",
      "0: 480x640 2 persons, 14 cars, 1 bus, 3 trucks, 76.0ms\n",
      "Speed: 2.4ms preprocess, 76.0ms inference, 0.7ms postprocess per image at shape (1, 3, 480, 640)\n",
      "\n",
      "0: 480x640 3 licenses, 73.6ms\n",
      "Speed: 3.0ms preprocess, 73.6ms inference, 0.5ms postprocess per image at shape (1, 3, 480, 640)\n"
     ]
    },
    {
     "name": "stdout",
     "output_type": "stream",
     "text": [
      "Error: results_list is empty or contains tuples without a second element.\n"
     ]
    },
    {
     "name": "stderr",
     "output_type": "stream",
     "text": [
      "\n",
      "0: 480x640 2 persons, 15 cars, 1 bus, 3 trucks, 86.2ms\n",
      "Speed: 2.6ms preprocess, 86.2ms inference, 1.1ms postprocess per image at shape (1, 3, 480, 640)\n",
      "\n",
      "0: 480x640 3 licenses, 83.6ms\n",
      "Speed: 3.3ms preprocess, 83.6ms inference, 0.8ms postprocess per image at shape (1, 3, 480, 640)\n",
      "\n",
      "0: 480x640 1 person, 14 cars, 1 bus, 3 trucks, 81.4ms\n",
      "Speed: 2.6ms preprocess, 81.4ms inference, 0.7ms postprocess per image at shape (1, 3, 480, 640)\n",
      "\n",
      "0: 480x640 3 licenses, 76.3ms\n",
      "Speed: 2.9ms preprocess, 76.3ms inference, 0.5ms postprocess per image at shape (1, 3, 480, 640)\n",
      "\n",
      "0: 480x640 1 person, 14 cars, 1 bus, 3 trucks, 79.9ms\n",
      "Speed: 2.5ms preprocess, 79.9ms inference, 0.7ms postprocess per image at shape (1, 3, 480, 640)\n",
      "\n",
      "0: 480x640 3 licenses, 78.6ms\n",
      "Speed: 2.5ms preprocess, 78.6ms inference, 0.5ms postprocess per image at shape (1, 3, 480, 640)\n",
      "\n",
      "0: 480x640 1 person, 14 cars, 1 bus, 3 trucks, 76.7ms\n",
      "Speed: 2.5ms preprocess, 76.7ms inference, 0.7ms postprocess per image at shape (1, 3, 480, 640)\n",
      "\n",
      "0: 480x640 2 licenses, 83.4ms\n",
      "Speed: 2.8ms preprocess, 83.4ms inference, 0.6ms postprocess per image at shape (1, 3, 480, 640)\n",
      "\n",
      "0: 480x640 1 person, 14 cars, 1 bus, 3 trucks, 80.1ms\n",
      "Speed: 2.5ms preprocess, 80.1ms inference, 0.8ms postprocess per image at shape (1, 3, 480, 640)\n",
      "\n",
      "0: 480x640 2 licenses, 79.5ms\n",
      "Speed: 2.6ms preprocess, 79.5ms inference, 0.6ms postprocess per image at shape (1, 3, 480, 640)\n",
      "\n",
      "0: 480x640 1 person, 14 cars, 1 bus, 3 trucks, 78.7ms\n",
      "Speed: 2.5ms preprocess, 78.7ms inference, 0.7ms postprocess per image at shape (1, 3, 480, 640)\n",
      "\n",
      "0: 480x640 3 licenses, 80.5ms\n",
      "Speed: 3.0ms preprocess, 80.5ms inference, 0.6ms postprocess per image at shape (1, 3, 480, 640)\n",
      "\n",
      "0: 480x640 1 person, 14 cars, 1 bus, 3 trucks, 76.2ms\n",
      "Speed: 2.5ms preprocess, 76.2ms inference, 0.7ms postprocess per image at shape (1, 3, 480, 640)\n",
      "\n",
      "0: 480x640 3 licenses, 78.0ms\n",
      "Speed: 2.9ms preprocess, 78.0ms inference, 0.5ms postprocess per image at shape (1, 3, 480, 640)\n"
     ]
    },
    {
     "name": "stdout",
     "output_type": "stream",
     "text": [
      "Error: results_list is empty or contains tuples without a second element.\n"
     ]
    },
    {
     "name": "stderr",
     "output_type": "stream",
     "text": [
      "\n",
      "0: 480x640 1 person, 13 cars, 1 bus, 3 trucks, 80.5ms\n",
      "Speed: 2.6ms preprocess, 80.5ms inference, 0.7ms postprocess per image at shape (1, 3, 480, 640)\n",
      "\n",
      "0: 480x640 3 licenses, 77.7ms\n",
      "Speed: 2.8ms preprocess, 77.7ms inference, 1.0ms postprocess per image at shape (1, 3, 480, 640)\n"
     ]
    },
    {
     "name": "stdout",
     "output_type": "stream",
     "text": [
      "Error: results_list is empty or contains tuples without a second element.\n"
     ]
    },
    {
     "name": "stderr",
     "output_type": "stream",
     "text": [
      "\n",
      "0: 480x640 1 person, 13 cars, 1 bus, 3 trucks, 77.6ms\n",
      "Speed: 2.5ms preprocess, 77.6ms inference, 1.0ms postprocess per image at shape (1, 3, 480, 640)\n",
      "\n",
      "0: 480x640 3 licenses, 77.4ms\n",
      "Speed: 2.8ms preprocess, 77.4ms inference, 0.6ms postprocess per image at shape (1, 3, 480, 640)\n",
      "\n",
      "0: 480x640 1 person, 13 cars, 1 bus, 3 trucks, 77.6ms\n",
      "Speed: 2.5ms preprocess, 77.6ms inference, 0.8ms postprocess per image at shape (1, 3, 480, 640)\n",
      "\n",
      "0: 480x640 2 licenses, 82.5ms\n",
      "Speed: 2.9ms preprocess, 82.5ms inference, 0.6ms postprocess per image at shape (1, 3, 480, 640)\n"
     ]
    },
    {
     "name": "stdout",
     "output_type": "stream",
     "text": [
      "Error: results_list is empty or contains tuples without a second element.\n"
     ]
    },
    {
     "name": "stderr",
     "output_type": "stream",
     "text": [
      "\n",
      "0: 480x640 1 person, 13 cars, 1 bus, 3 trucks, 78.0ms\n",
      "Speed: 2.5ms preprocess, 78.0ms inference, 0.7ms postprocess per image at shape (1, 3, 480, 640)\n",
      "\n",
      "0: 480x640 2 licenses, 76.9ms\n",
      "Speed: 2.8ms preprocess, 76.9ms inference, 1.0ms postprocess per image at shape (1, 3, 480, 640)\n"
     ]
    },
    {
     "name": "stdout",
     "output_type": "stream",
     "text": [
      "Error: results_list is empty or contains tuples without a second element.\n",
      "Error: results_list is empty or contains tuples without a second element.\n"
     ]
    },
    {
     "name": "stderr",
     "output_type": "stream",
     "text": [
      "\n",
      "0: 480x640 13 cars, 1 bus, 3 trucks, 80.0ms\n",
      "Speed: 2.4ms preprocess, 80.0ms inference, 0.7ms postprocess per image at shape (1, 3, 480, 640)\n",
      "\n",
      "0: 480x640 3 licenses, 76.0ms\n",
      "Speed: 2.9ms preprocess, 76.0ms inference, 0.5ms postprocess per image at shape (1, 3, 480, 640)\n"
     ]
    },
    {
     "name": "stdout",
     "output_type": "stream",
     "text": [
      "Error: results_list is empty or contains tuples without a second element.\n",
      "Error: results_list is empty or contains tuples without a second element.\n"
     ]
    },
    {
     "name": "stderr",
     "output_type": "stream",
     "text": [
      "\n",
      "0: 480x640 13 cars, 1 bus, 3 trucks, 83.3ms\n",
      "Speed: 2.3ms preprocess, 83.3ms inference, 0.9ms postprocess per image at shape (1, 3, 480, 640)\n",
      "\n",
      "0: 480x640 3 licenses, 82.5ms\n",
      "Speed: 3.3ms preprocess, 82.5ms inference, 0.6ms postprocess per image at shape (1, 3, 480, 640)\n"
     ]
    },
    {
     "name": "stdout",
     "output_type": "stream",
     "text": [
      "Error: results_list is empty or contains tuples without a second element.\n"
     ]
    },
    {
     "name": "stderr",
     "output_type": "stream",
     "text": [
      "\n",
      "0: 480x640 13 cars, 1 bus, 2 trucks, 81.5ms\n",
      "Speed: 2.7ms preprocess, 81.5ms inference, 0.7ms postprocess per image at shape (1, 3, 480, 640)\n",
      "\n",
      "0: 480x640 3 licenses, 75.6ms\n",
      "Speed: 2.4ms preprocess, 75.6ms inference, 0.5ms postprocess per image at shape (1, 3, 480, 640)\n"
     ]
    },
    {
     "name": "stdout",
     "output_type": "stream",
     "text": [
      "Error: results_list is empty or contains tuples without a second element.\n"
     ]
    },
    {
     "name": "stderr",
     "output_type": "stream",
     "text": [
      "\n",
      "0: 480x640 1 person, 15 cars, 1 bus, 2 trucks, 77.6ms\n",
      "Speed: 2.4ms preprocess, 77.6ms inference, 0.7ms postprocess per image at shape (1, 3, 480, 640)\n",
      "\n",
      "0: 480x640 3 licenses, 79.2ms\n",
      "Speed: 2.4ms preprocess, 79.2ms inference, 0.6ms postprocess per image at shape (1, 3, 480, 640)\n"
     ]
    },
    {
     "name": "stdout",
     "output_type": "stream",
     "text": [
      "Error: results_list is empty or contains tuples without a second element.\n"
     ]
    },
    {
     "name": "stderr",
     "output_type": "stream",
     "text": [
      "\n",
      "0: 480x640 15 cars, 1 bus, 2 trucks, 76.8ms\n",
      "Speed: 2.4ms preprocess, 76.8ms inference, 0.7ms postprocess per image at shape (1, 3, 480, 640)\n",
      "\n",
      "0: 480x640 3 licenses, 78.2ms\n",
      "Speed: 2.7ms preprocess, 78.2ms inference, 0.5ms postprocess per image at shape (1, 3, 480, 640)\n"
     ]
    },
    {
     "name": "stdout",
     "output_type": "stream",
     "text": [
      "Error: results_list is empty or contains tuples without a second element.\n",
      "Error: results_list is empty or contains tuples without a second element.\n"
     ]
    },
    {
     "name": "stderr",
     "output_type": "stream",
     "text": [
      "\n",
      "0: 480x640 15 cars, 1 bus, 2 trucks, 84.9ms\n",
      "Speed: 2.8ms preprocess, 84.9ms inference, 0.9ms postprocess per image at shape (1, 3, 480, 640)\n",
      "\n",
      "0: 480x640 3 licenses, 90.6ms\n",
      "Speed: 3.4ms preprocess, 90.6ms inference, 0.8ms postprocess per image at shape (1, 3, 480, 640)\n"
     ]
    },
    {
     "name": "stdout",
     "output_type": "stream",
     "text": [
      "Error: results_list is empty or contains tuples without a second element.\n",
      "Error: results_list is empty or contains tuples without a second element.\n"
     ]
    },
    {
     "name": "stderr",
     "output_type": "stream",
     "text": [
      "\n",
      "0: 480x640 1 person, 15 cars, 1 bus, 2 trucks, 78.2ms\n",
      "Speed: 2.4ms preprocess, 78.2ms inference, 0.7ms postprocess per image at shape (1, 3, 480, 640)\n",
      "\n",
      "0: 480x640 3 licenses, 79.0ms\n",
      "Speed: 2.9ms preprocess, 79.0ms inference, 0.6ms postprocess per image at shape (1, 3, 480, 640)\n"
     ]
    },
    {
     "name": "stdout",
     "output_type": "stream",
     "text": [
      "Error: results_list is empty or contains tuples without a second element.\n",
      "Error: results_list is empty or contains tuples without a second element.\n"
     ]
    },
    {
     "name": "stderr",
     "output_type": "stream",
     "text": [
      "\n",
      "0: 480x640 1 person, 15 cars, 1 bus, 2 trucks, 86.8ms\n",
      "Speed: 2.8ms preprocess, 86.8ms inference, 0.8ms postprocess per image at shape (1, 3, 480, 640)\n",
      "\n",
      "0: 480x640 3 licenses, 82.5ms\n",
      "Speed: 2.6ms preprocess, 82.5ms inference, 0.6ms postprocess per image at shape (1, 3, 480, 640)\n"
     ]
    },
    {
     "name": "stdout",
     "output_type": "stream",
     "text": [
      "Error: results_list is empty or contains tuples without a second element.\n",
      "Error: results_list is empty or contains tuples without a second element.\n"
     ]
    },
    {
     "name": "stderr",
     "output_type": "stream",
     "text": [
      "\n",
      "0: 480x640 1 person, 15 cars, 1 bus, 2 trucks, 82.9ms\n",
      "Speed: 2.4ms preprocess, 82.9ms inference, 1.2ms postprocess per image at shape (1, 3, 480, 640)\n",
      "\n",
      "0: 480x640 3 licenses, 82.5ms\n",
      "Speed: 3.1ms preprocess, 82.5ms inference, 0.6ms postprocess per image at shape (1, 3, 480, 640)\n"
     ]
    },
    {
     "name": "stdout",
     "output_type": "stream",
     "text": [
      "Error: results_list is empty or contains tuples without a second element.\n",
      "Error: results_list is empty or contains tuples without a second element.\n"
     ]
    },
    {
     "name": "stderr",
     "output_type": "stream",
     "text": [
      "\n",
      "0: 480x640 1 person, 15 cars, 1 bus, 2 trucks, 77.1ms\n",
      "Speed: 2.4ms preprocess, 77.1ms inference, 0.8ms postprocess per image at shape (1, 3, 480, 640)\n",
      "\n",
      "0: 480x640 3 licenses, 82.8ms\n",
      "Speed: 2.8ms preprocess, 82.8ms inference, 0.6ms postprocess per image at shape (1, 3, 480, 640)\n"
     ]
    },
    {
     "name": "stdout",
     "output_type": "stream",
     "text": [
      "Error: results_list is empty or contains tuples without a second element.\n"
     ]
    },
    {
     "name": "stderr",
     "output_type": "stream",
     "text": [
      "\n",
      "0: 480x640 1 person, 16 cars, 1 bus, 2 trucks, 116.5ms\n",
      "Speed: 3.0ms preprocess, 116.5ms inference, 1.0ms postprocess per image at shape (1, 3, 480, 640)\n",
      "\n",
      "0: 480x640 3 licenses, 100.4ms\n",
      "Speed: 3.5ms preprocess, 100.4ms inference, 1.4ms postprocess per image at shape (1, 3, 480, 640)\n",
      "\n",
      "0: 480x640 14 cars, 1 bus, 2 trucks, 84.1ms\n",
      "Speed: 2.5ms preprocess, 84.1ms inference, 0.8ms postprocess per image at shape (1, 3, 480, 640)\n",
      "\n",
      "0: 480x640 3 licenses, 79.1ms\n",
      "Speed: 2.5ms preprocess, 79.1ms inference, 0.6ms postprocess per image at shape (1, 3, 480, 640)\n"
     ]
    },
    {
     "name": "stdout",
     "output_type": "stream",
     "text": [
      "Error: results_list is empty or contains tuples without a second element.\n"
     ]
    },
    {
     "name": "stderr",
     "output_type": "stream",
     "text": [
      "\n",
      "0: 480x640 12 cars, 1 bus, 2 trucks, 85.4ms\n",
      "Speed: 2.8ms preprocess, 85.4ms inference, 0.8ms postprocess per image at shape (1, 3, 480, 640)\n",
      "\n",
      "0: 480x640 3 licenses, 80.2ms\n",
      "Speed: 3.2ms preprocess, 80.2ms inference, 0.6ms postprocess per image at shape (1, 3, 480, 640)\n"
     ]
    },
    {
     "name": "stdout",
     "output_type": "stream",
     "text": [
      "Error: results_list is empty or contains tuples without a second element.\n",
      "Error: results_list is empty or contains tuples without a second element.\n"
     ]
    },
    {
     "name": "stderr",
     "output_type": "stream",
     "text": [
      "\n",
      "0: 480x640 13 cars, 1 bus, 2 trucks, 82.0ms\n",
      "Speed: 2.5ms preprocess, 82.0ms inference, 0.8ms postprocess per image at shape (1, 3, 480, 640)\n",
      "\n",
      "0: 480x640 3 licenses, 80.1ms\n",
      "Speed: 3.0ms preprocess, 80.1ms inference, 0.6ms postprocess per image at shape (1, 3, 480, 640)\n"
     ]
    },
    {
     "name": "stdout",
     "output_type": "stream",
     "text": [
      "Error: results_list is empty or contains tuples without a second element.\n",
      "Error: results_list is empty or contains tuples without a second element.\n"
     ]
    },
    {
     "name": "stderr",
     "output_type": "stream",
     "text": [
      "\n",
      "0: 480x640 14 cars, 1 bus, 2 trucks, 77.8ms\n",
      "Speed: 2.6ms preprocess, 77.8ms inference, 0.8ms postprocess per image at shape (1, 3, 480, 640)\n",
      "\n",
      "0: 480x640 3 licenses, 84.1ms\n",
      "Speed: 2.7ms preprocess, 84.1ms inference, 0.6ms postprocess per image at shape (1, 3, 480, 640)\n"
     ]
    },
    {
     "name": "stdout",
     "output_type": "stream",
     "text": [
      "Error: results_list is empty or contains tuples without a second element.\n",
      "Error: results_list is empty or contains tuples without a second element.\n"
     ]
    },
    {
     "name": "stderr",
     "output_type": "stream",
     "text": [
      "\n",
      "0: 480x640 14 cars, 1 bus, 2 trucks, 80.2ms\n",
      "Speed: 2.4ms preprocess, 80.2ms inference, 0.8ms postprocess per image at shape (1, 3, 480, 640)\n",
      "\n",
      "0: 480x640 3 licenses, 82.0ms\n",
      "Speed: 3.2ms preprocess, 82.0ms inference, 0.6ms postprocess per image at shape (1, 3, 480, 640)\n"
     ]
    },
    {
     "name": "stdout",
     "output_type": "stream",
     "text": [
      "Error: results_list is empty or contains tuples without a second element.\n"
     ]
    },
    {
     "name": "stderr",
     "output_type": "stream",
     "text": [
      "\n",
      "0: 480x640 14 cars, 1 bus, 3 trucks, 75.6ms\n",
      "Speed: 2.5ms preprocess, 75.6ms inference, 0.7ms postprocess per image at shape (1, 3, 480, 640)\n",
      "\n",
      "0: 480x640 3 licenses, 72.6ms\n",
      "Speed: 2.4ms preprocess, 72.6ms inference, 0.5ms postprocess per image at shape (1, 3, 480, 640)\n",
      "\n",
      "0: 480x640 13 cars, 1 bus, 3 trucks, 76.1ms\n",
      "Speed: 2.5ms preprocess, 76.1ms inference, 0.7ms postprocess per image at shape (1, 3, 480, 640)\n",
      "\n",
      "0: 480x640 3 licenses, 78.0ms\n",
      "Speed: 2.8ms preprocess, 78.0ms inference, 0.9ms postprocess per image at shape (1, 3, 480, 640)\n"
     ]
    },
    {
     "name": "stdout",
     "output_type": "stream",
     "text": [
      "Error: results_list is empty or contains tuples without a second element.\n",
      "Error: results_list is empty or contains tuples without a second element.\n"
     ]
    },
    {
     "name": "stderr",
     "output_type": "stream",
     "text": [
      "\n",
      "0: 480x640 16 cars, 1 bus, 2 trucks, 75.3ms\n",
      "Speed: 2.5ms preprocess, 75.3ms inference, 0.7ms postprocess per image at shape (1, 3, 480, 640)\n",
      "\n",
      "0: 480x640 3 licenses, 75.4ms\n",
      "Speed: 2.8ms preprocess, 75.4ms inference, 0.5ms postprocess per image at shape (1, 3, 480, 640)\n"
     ]
    },
    {
     "name": "stdout",
     "output_type": "stream",
     "text": [
      "Error: results_list is empty or contains tuples without a second element.\n"
     ]
    },
    {
     "name": "stderr",
     "output_type": "stream",
     "text": [
      "\n",
      "0: 480x640 16 cars, 1 bus, 2 trucks, 78.1ms\n",
      "Speed: 2.4ms preprocess, 78.1ms inference, 0.7ms postprocess per image at shape (1, 3, 480, 640)\n",
      "\n",
      "0: 480x640 3 licenses, 80.5ms\n",
      "Speed: 2.9ms preprocess, 80.5ms inference, 0.6ms postprocess per image at shape (1, 3, 480, 640)\n"
     ]
    },
    {
     "name": "stdout",
     "output_type": "stream",
     "text": [
      "Error: results_list is empty or contains tuples without a second element.\n"
     ]
    },
    {
     "name": "stderr",
     "output_type": "stream",
     "text": [
      "\n",
      "0: 480x640 14 cars, 1 bus, 2 trucks, 83.2ms\n",
      "Speed: 2.4ms preprocess, 83.2ms inference, 0.9ms postprocess per image at shape (1, 3, 480, 640)\n",
      "\n",
      "0: 480x640 3 licenses, 82.4ms\n",
      "Speed: 3.2ms preprocess, 82.4ms inference, 0.6ms postprocess per image at shape (1, 3, 480, 640)\n"
     ]
    },
    {
     "name": "stdout",
     "output_type": "stream",
     "text": [
      "Error: results_list is empty or contains tuples without a second element.\n"
     ]
    },
    {
     "name": "stderr",
     "output_type": "stream",
     "text": [
      "\n",
      "0: 480x640 13 cars, 1 bus, 2 trucks, 83.0ms\n",
      "Speed: 2.4ms preprocess, 83.0ms inference, 1.2ms postprocess per image at shape (1, 3, 480, 640)\n",
      "\n",
      "0: 480x640 3 licenses, 81.7ms\n",
      "Speed: 2.7ms preprocess, 81.7ms inference, 0.6ms postprocess per image at shape (1, 3, 480, 640)\n"
     ]
    },
    {
     "name": "stdout",
     "output_type": "stream",
     "text": [
      "Error: results_list is empty or contains tuples without a second element.\n"
     ]
    },
    {
     "name": "stderr",
     "output_type": "stream",
     "text": [
      "\n",
      "0: 480x640 12 cars, 1 bus, 2 trucks, 79.5ms\n",
      "Speed: 2.6ms preprocess, 79.5ms inference, 0.7ms postprocess per image at shape (1, 3, 480, 640)\n",
      "\n",
      "0: 480x640 4 licenses, 74.8ms\n",
      "Speed: 2.9ms preprocess, 74.8ms inference, 0.5ms postprocess per image at shape (1, 3, 480, 640)\n"
     ]
    },
    {
     "name": "stdout",
     "output_type": "stream",
     "text": [
      "Error: results_list is empty or contains tuples without a second element.\n",
      "Error: results_list is empty or contains tuples without a second element.\n",
      "Error: results_list is empty or contains tuples without a second element.\n"
     ]
    },
    {
     "name": "stderr",
     "output_type": "stream",
     "text": [
      "\n",
      "0: 480x640 12 cars, 1 bus, 2 trucks, 82.4ms\n",
      "Speed: 2.5ms preprocess, 82.4ms inference, 0.8ms postprocess per image at shape (1, 3, 480, 640)\n",
      "\n",
      "0: 480x640 4 licenses, 83.0ms\n",
      "Speed: 3.0ms preprocess, 83.0ms inference, 0.6ms postprocess per image at shape (1, 3, 480, 640)\n"
     ]
    },
    {
     "name": "stdout",
     "output_type": "stream",
     "text": [
      "Error: results_list is empty or contains tuples without a second element.\n",
      "Error: results_list is empty or contains tuples without a second element.\n"
     ]
    },
    {
     "name": "stderr",
     "output_type": "stream",
     "text": [
      "\n",
      "0: 480x640 1 person, 15 cars, 1 bus, 2 trucks, 131.6ms\n",
      "Speed: 2.7ms preprocess, 131.6ms inference, 0.9ms postprocess per image at shape (1, 3, 480, 640)\n",
      "\n",
      "0: 480x640 3 licenses, 92.7ms\n",
      "Speed: 3.0ms preprocess, 92.7ms inference, 1.1ms postprocess per image at shape (1, 3, 480, 640)\n"
     ]
    },
    {
     "name": "stdout",
     "output_type": "stream",
     "text": [
      "Error: results_list is empty or contains tuples without a second element.\n"
     ]
    },
    {
     "name": "stderr",
     "output_type": "stream",
     "text": [
      "\n",
      "0: 480x640 1 person, 15 cars, 1 bus, 2 trucks, 82.0ms\n",
      "Speed: 2.4ms preprocess, 82.0ms inference, 0.8ms postprocess per image at shape (1, 3, 480, 640)\n",
      "\n",
      "0: 480x640 3 licenses, 80.5ms\n",
      "Speed: 3.1ms preprocess, 80.5ms inference, 0.6ms postprocess per image at shape (1, 3, 480, 640)\n"
     ]
    },
    {
     "name": "stdout",
     "output_type": "stream",
     "text": [
      "Error: results_list is empty or contains tuples without a second element.\n"
     ]
    },
    {
     "name": "stderr",
     "output_type": "stream",
     "text": [
      "\n",
      "0: 480x640 1 person, 16 cars, 1 bus, 2 trucks, 75.3ms\n",
      "Speed: 2.4ms preprocess, 75.3ms inference, 0.7ms postprocess per image at shape (1, 3, 480, 640)\n",
      "\n",
      "0: 480x640 3 licenses, 75.0ms\n",
      "Speed: 2.5ms preprocess, 75.0ms inference, 0.6ms postprocess per image at shape (1, 3, 480, 640)\n"
     ]
    },
    {
     "name": "stdout",
     "output_type": "stream",
     "text": [
      "Error: results_list is empty or contains tuples without a second element.\n"
     ]
    },
    {
     "name": "stderr",
     "output_type": "stream",
     "text": [
      "\n",
      "0: 480x640 1 person, 16 cars, 1 bus, 2 trucks, 75.5ms\n",
      "Speed: 2.4ms preprocess, 75.5ms inference, 0.8ms postprocess per image at shape (1, 3, 480, 640)\n",
      "\n",
      "0: 480x640 3 licenses, 74.2ms\n",
      "Speed: 2.4ms preprocess, 74.2ms inference, 0.5ms postprocess per image at shape (1, 3, 480, 640)\n"
     ]
    },
    {
     "name": "stdout",
     "output_type": "stream",
     "text": [
      "Error: results_list is empty or contains tuples without a second element.\n",
      "Error: results_list is empty or contains tuples without a second element.\n"
     ]
    },
    {
     "name": "stderr",
     "output_type": "stream",
     "text": [
      "\n",
      "0: 480x640 16 cars, 1 bus, 2 trucks, 79.8ms\n",
      "Speed: 2.5ms preprocess, 79.8ms inference, 0.7ms postprocess per image at shape (1, 3, 480, 640)\n",
      "\n",
      "0: 480x640 3 licenses, 74.1ms\n",
      "Speed: 2.8ms preprocess, 74.1ms inference, 0.5ms postprocess per image at shape (1, 3, 480, 640)\n"
     ]
    },
    {
     "name": "stdout",
     "output_type": "stream",
     "text": [
      "Error: results_list is empty or contains tuples without a second element.\n",
      "Error: results_list is empty or contains tuples without a second element.\n"
     ]
    },
    {
     "name": "stderr",
     "output_type": "stream",
     "text": [
      "\n",
      "0: 480x640 16 cars, 1 bus, 2 trucks, 83.0ms\n",
      "Speed: 2.3ms preprocess, 83.0ms inference, 0.8ms postprocess per image at shape (1, 3, 480, 640)\n",
      "\n",
      "0: 480x640 3 licenses, 83.6ms\n",
      "Speed: 2.7ms preprocess, 83.6ms inference, 0.6ms postprocess per image at shape (1, 3, 480, 640)\n"
     ]
    },
    {
     "name": "stdout",
     "output_type": "stream",
     "text": [
      "Error: results_list is empty or contains tuples without a second element.\n",
      "Error: results_list is empty or contains tuples without a second element.\n"
     ]
    },
    {
     "name": "stderr",
     "output_type": "stream",
     "text": [
      "\n",
      "0: 480x640 15 cars, 1 bus, 2 trucks, 82.9ms\n",
      "Speed: 2.5ms preprocess, 82.9ms inference, 0.7ms postprocess per image at shape (1, 3, 480, 640)\n",
      "\n",
      "0: 480x640 3 licenses, 82.4ms\n",
      "Speed: 2.5ms preprocess, 82.4ms inference, 0.6ms postprocess per image at shape (1, 3, 480, 640)\n"
     ]
    },
    {
     "name": "stdout",
     "output_type": "stream",
     "text": [
      "Error: results_list is empty or contains tuples without a second element.\n"
     ]
    },
    {
     "name": "stderr",
     "output_type": "stream",
     "text": [
      "\n",
      "0: 480x640 15 cars, 1 bus, 2 trucks, 79.1ms\n",
      "Speed: 2.4ms preprocess, 79.1ms inference, 0.7ms postprocess per image at shape (1, 3, 480, 640)\n",
      "\n",
      "0: 480x640 3 licenses, 74.4ms\n",
      "Speed: 2.9ms preprocess, 74.4ms inference, 0.6ms postprocess per image at shape (1, 3, 480, 640)\n"
     ]
    },
    {
     "name": "stdout",
     "output_type": "stream",
     "text": [
      "Error: results_list is empty or contains tuples without a second element.\n"
     ]
    },
    {
     "name": "stderr",
     "output_type": "stream",
     "text": [
      "\n",
      "0: 480x640 15 cars, 1 bus, 2 trucks, 82.9ms\n",
      "Speed: 2.4ms preprocess, 82.9ms inference, 0.8ms postprocess per image at shape (1, 3, 480, 640)\n",
      "\n",
      "0: 480x640 4 licenses, 80.5ms\n",
      "Speed: 2.8ms preprocess, 80.5ms inference, 1.0ms postprocess per image at shape (1, 3, 480, 640)\n"
     ]
    },
    {
     "name": "stdout",
     "output_type": "stream",
     "text": [
      "Error: results_list is empty or contains tuples without a second element.\n",
      "Error: results_list is empty or contains tuples without a second element.\n"
     ]
    },
    {
     "name": "stderr",
     "output_type": "stream",
     "text": [
      "\n",
      "0: 480x640 15 cars, 1 bus, 2 trucks, 77.2ms\n",
      "Speed: 2.4ms preprocess, 77.2ms inference, 0.8ms postprocess per image at shape (1, 3, 480, 640)\n",
      "\n",
      "0: 480x640 4 licenses, 80.2ms\n",
      "Speed: 3.0ms preprocess, 80.2ms inference, 0.7ms postprocess per image at shape (1, 3, 480, 640)\n"
     ]
    },
    {
     "name": "stdout",
     "output_type": "stream",
     "text": [
      "Error: results_list is empty or contains tuples without a second element.\n"
     ]
    },
    {
     "name": "stderr",
     "output_type": "stream",
     "text": [
      "\n",
      "0: 480x640 1 person, 17 cars, 1 bus, 2 trucks, 81.0ms\n",
      "Speed: 2.6ms preprocess, 81.0ms inference, 0.7ms postprocess per image at shape (1, 3, 480, 640)\n",
      "\n",
      "0: 480x640 3 licenses, 76.3ms\n",
      "Speed: 2.4ms preprocess, 76.3ms inference, 0.5ms postprocess per image at shape (1, 3, 480, 640)\n",
      "\n",
      "0: 480x640 1 person, 18 cars, 1 bus, 2 trucks, 77.0ms\n",
      "Speed: 2.4ms preprocess, 77.0ms inference, 0.8ms postprocess per image at shape (1, 3, 480, 640)\n",
      "\n",
      "0: 480x640 3 licenses, 74.6ms\n",
      "Speed: 3.0ms preprocess, 74.6ms inference, 0.6ms postprocess per image at shape (1, 3, 480, 640)\n"
     ]
    },
    {
     "name": "stdout",
     "output_type": "stream",
     "text": [
      "Error: results_list is empty or contains tuples without a second element.\n"
     ]
    },
    {
     "name": "stderr",
     "output_type": "stream",
     "text": [
      "\n",
      "0: 480x640 15 cars, 1 bus, 3 trucks, 78.9ms\n",
      "Speed: 2.4ms preprocess, 78.9ms inference, 0.9ms postprocess per image at shape (1, 3, 480, 640)\n",
      "\n",
      "0: 480x640 3 licenses, 73.5ms\n",
      "Speed: 2.6ms preprocess, 73.5ms inference, 0.5ms postprocess per image at shape (1, 3, 480, 640)\n",
      "\n",
      "0: 480x640 15 cars, 1 bus, 3 trucks, 83.6ms\n",
      "Speed: 2.4ms preprocess, 83.6ms inference, 0.7ms postprocess per image at shape (1, 3, 480, 640)\n",
      "\n",
      "0: 480x640 3 licenses, 79.6ms\n",
      "Speed: 3.2ms preprocess, 79.6ms inference, 0.6ms postprocess per image at shape (1, 3, 480, 640)\n"
     ]
    },
    {
     "name": "stdout",
     "output_type": "stream",
     "text": [
      "Error: results_list is empty or contains tuples without a second element.\n"
     ]
    },
    {
     "name": "stderr",
     "output_type": "stream",
     "text": [
      "\n",
      "0: 480x640 16 cars, 1 bus, 3 trucks, 82.1ms\n",
      "Speed: 2.5ms preprocess, 82.1ms inference, 0.8ms postprocess per image at shape (1, 3, 480, 640)\n",
      "\n",
      "0: 480x640 3 licenses, 82.8ms\n",
      "Speed: 2.5ms preprocess, 82.8ms inference, 0.6ms postprocess per image at shape (1, 3, 480, 640)\n"
     ]
    },
    {
     "name": "stdout",
     "output_type": "stream",
     "text": [
      "Error: results_list is empty or contains tuples without a second element.\n"
     ]
    },
    {
     "name": "stderr",
     "output_type": "stream",
     "text": [
      "\n",
      "0: 480x640 16 cars, 1 bus, 2 trucks, 77.0ms\n",
      "Speed: 2.4ms preprocess, 77.0ms inference, 0.7ms postprocess per image at shape (1, 3, 480, 640)\n",
      "\n",
      "0: 480x640 3 licenses, 76.3ms\n",
      "Speed: 2.4ms preprocess, 76.3ms inference, 0.5ms postprocess per image at shape (1, 3, 480, 640)\n"
     ]
    },
    {
     "name": "stdout",
     "output_type": "stream",
     "text": [
      "Error: results_list is empty or contains tuples without a second element.\n",
      "Error: results_list is empty or contains tuples without a second element.\n"
     ]
    },
    {
     "name": "stderr",
     "output_type": "stream",
     "text": [
      "\n",
      "0: 480x640 1 person, 17 cars, 1 bus, 3 trucks, 85.6ms\n",
      "Speed: 2.9ms preprocess, 85.6ms inference, 0.8ms postprocess per image at shape (1, 3, 480, 640)\n",
      "\n",
      "0: 480x640 4 licenses, 79.7ms\n",
      "Speed: 2.7ms preprocess, 79.7ms inference, 0.6ms postprocess per image at shape (1, 3, 480, 640)\n"
     ]
    },
    {
     "name": "stdout",
     "output_type": "stream",
     "text": [
      "Error: results_list is empty or contains tuples without a second element.\n"
     ]
    },
    {
     "name": "stderr",
     "output_type": "stream",
     "text": [
      "\n",
      "0: 480x640 1 person, 16 cars, 1 bus, 3 trucks, 77.8ms\n",
      "Speed: 2.4ms preprocess, 77.8ms inference, 0.8ms postprocess per image at shape (1, 3, 480, 640)\n",
      "\n",
      "0: 480x640 4 licenses, 79.5ms\n",
      "Speed: 2.7ms preprocess, 79.5ms inference, 0.6ms postprocess per image at shape (1, 3, 480, 640)\n"
     ]
    },
    {
     "name": "stdout",
     "output_type": "stream",
     "text": [
      "Error: results_list is empty or contains tuples without a second element.\n"
     ]
    },
    {
     "name": "stderr",
     "output_type": "stream",
     "text": [
      "\n",
      "0: 480x640 1 person, 15 cars, 1 bus, 3 trucks, 79.4ms\n",
      "Speed: 2.4ms preprocess, 79.4ms inference, 1.0ms postprocess per image at shape (1, 3, 480, 640)\n",
      "\n",
      "0: 480x640 4 licenses, 85.9ms\n",
      "Speed: 3.0ms preprocess, 85.9ms inference, 0.6ms postprocess per image at shape (1, 3, 480, 640)\n"
     ]
    },
    {
     "name": "stdout",
     "output_type": "stream",
     "text": [
      "Error: results_list is empty or contains tuples without a second element.\n",
      "Error: results_list is empty or contains tuples without a second element.\n"
     ]
    },
    {
     "name": "stderr",
     "output_type": "stream",
     "text": [
      "\n",
      "0: 480x640 1 person, 14 cars, 1 bus, 3 trucks, 78.1ms\n",
      "Speed: 2.4ms preprocess, 78.1ms inference, 0.8ms postprocess per image at shape (1, 3, 480, 640)\n",
      "\n",
      "0: 480x640 4 licenses, 76.2ms\n",
      "Speed: 2.4ms preprocess, 76.2ms inference, 0.5ms postprocess per image at shape (1, 3, 480, 640)\n"
     ]
    },
    {
     "name": "stdout",
     "output_type": "stream",
     "text": [
      "Error: results_list is empty or contains tuples without a second element.\n",
      "Error: results_list is empty or contains tuples without a second element.\n",
      "Error: results_list is empty or contains tuples without a second element.\n"
     ]
    },
    {
     "name": "stderr",
     "output_type": "stream",
     "text": [
      "\n",
      "0: 480x640 1 person, 14 cars, 1 bus, 3 trucks, 85.8ms\n",
      "Speed: 2.4ms preprocess, 85.8ms inference, 0.8ms postprocess per image at shape (1, 3, 480, 640)\n",
      "\n",
      "0: 480x640 3 licenses, 84.6ms\n",
      "Speed: 2.8ms preprocess, 84.6ms inference, 1.1ms postprocess per image at shape (1, 3, 480, 640)\n"
     ]
    },
    {
     "name": "stdout",
     "output_type": "stream",
     "text": [
      "Error: results_list is empty or contains tuples without a second element.\n",
      "Error: results_list is empty or contains tuples without a second element.\n"
     ]
    },
    {
     "name": "stderr",
     "output_type": "stream",
     "text": [
      "\n",
      "0: 480x640 1 person, 14 cars, 1 bus, 3 trucks, 79.3ms\n",
      "Speed: 2.4ms preprocess, 79.3ms inference, 0.7ms postprocess per image at shape (1, 3, 480, 640)\n",
      "\n",
      "0: 480x640 3 licenses, 83.7ms\n",
      "Speed: 2.4ms preprocess, 83.7ms inference, 0.6ms postprocess per image at shape (1, 3, 480, 640)\n"
     ]
    },
    {
     "name": "stdout",
     "output_type": "stream",
     "text": [
      "Error: results_list is empty or contains tuples without a second element.\n",
      "Error: results_list is empty or contains tuples without a second element.\n"
     ]
    },
    {
     "name": "stderr",
     "output_type": "stream",
     "text": [
      "\n",
      "0: 480x640 1 person, 16 cars, 1 bus, 5 trucks, 80.1ms\n",
      "Speed: 2.7ms preprocess, 80.1ms inference, 0.7ms postprocess per image at shape (1, 3, 480, 640)\n",
      "\n",
      "0: 480x640 3 licenses, 75.8ms\n",
      "Speed: 3.0ms preprocess, 75.8ms inference, 0.6ms postprocess per image at shape (1, 3, 480, 640)\n"
     ]
    },
    {
     "name": "stdout",
     "output_type": "stream",
     "text": [
      "Error: results_list is empty or contains tuples without a second element.\n",
      "Error: results_list is empty or contains tuples without a second element.\n",
      "Error: results_list is empty or contains tuples without a second element.\n"
     ]
    },
    {
     "name": "stderr",
     "output_type": "stream",
     "text": [
      "\n",
      "0: 480x640 1 person, 16 cars, 1 bus, 5 trucks, 83.4ms\n",
      "Speed: 2.4ms preprocess, 83.4ms inference, 0.8ms postprocess per image at shape (1, 3, 480, 640)\n",
      "\n",
      "0: 480x640 3 licenses, 84.6ms\n",
      "Speed: 2.7ms preprocess, 84.6ms inference, 0.6ms postprocess per image at shape (1, 3, 480, 640)\n"
     ]
    },
    {
     "name": "stdout",
     "output_type": "stream",
     "text": [
      "Error: results_list is empty or contains tuples without a second element.\n",
      "Error: results_list is empty or contains tuples without a second element.\n"
     ]
    },
    {
     "name": "stderr",
     "output_type": "stream",
     "text": [
      "\n",
      "0: 480x640 1 person, 17 cars, 1 bus, 3 trucks, 83.0ms\n",
      "Speed: 2.4ms preprocess, 83.0ms inference, 0.8ms postprocess per image at shape (1, 3, 480, 640)\n",
      "\n",
      "0: 480x640 3 licenses, 81.1ms\n",
      "Speed: 3.3ms preprocess, 81.1ms inference, 0.6ms postprocess per image at shape (1, 3, 480, 640)\n",
      "\n",
      "0: 480x640 1 person, 15 cars, 1 bus, 3 trucks, 82.6ms\n",
      "Speed: 2.4ms preprocess, 82.6ms inference, 0.8ms postprocess per image at shape (1, 3, 480, 640)\n",
      "\n",
      "0: 480x640 3 licenses, 81.5ms\n",
      "Speed: 3.0ms preprocess, 81.5ms inference, 0.6ms postprocess per image at shape (1, 3, 480, 640)\n"
     ]
    },
    {
     "name": "stdout",
     "output_type": "stream",
     "text": [
      "Error: results_list is empty or contains tuples without a second element.\n",
      "Error: results_list is empty or contains tuples without a second element.\n"
     ]
    },
    {
     "name": "stderr",
     "output_type": "stream",
     "text": [
      "\n",
      "0: 480x640 15 cars, 1 bus, 3 trucks, 84.1ms\n",
      "Speed: 2.4ms preprocess, 84.1ms inference, 0.9ms postprocess per image at shape (1, 3, 480, 640)\n",
      "\n",
      "0: 480x640 3 licenses, 78.9ms\n",
      "Speed: 2.6ms preprocess, 78.9ms inference, 0.6ms postprocess per image at shape (1, 3, 480, 640)\n"
     ]
    },
    {
     "name": "stdout",
     "output_type": "stream",
     "text": [
      "Error: results_list is empty or contains tuples without a second element.\n"
     ]
    },
    {
     "name": "stderr",
     "output_type": "stream",
     "text": [
      "\n",
      "0: 480x640 15 cars, 1 bus, 3 trucks, 81.1ms\n",
      "Speed: 2.6ms preprocess, 81.1ms inference, 0.7ms postprocess per image at shape (1, 3, 480, 640)\n",
      "\n",
      "0: 480x640 3 licenses, 77.2ms\n",
      "Speed: 2.4ms preprocess, 77.2ms inference, 0.6ms postprocess per image at shape (1, 3, 480, 640)\n"
     ]
    },
    {
     "name": "stdout",
     "output_type": "stream",
     "text": [
      "Error: results_list is empty or contains tuples without a second element.\n"
     ]
    },
    {
     "name": "stderr",
     "output_type": "stream",
     "text": [
      "\n",
      "0: 480x640 17 cars, 1 bus, 3 trucks, 79.7ms\n",
      "Speed: 2.5ms preprocess, 79.7ms inference, 0.8ms postprocess per image at shape (1, 3, 480, 640)\n",
      "\n",
      "0: 480x640 3 licenses, 81.9ms\n",
      "Speed: 2.5ms preprocess, 81.9ms inference, 0.6ms postprocess per image at shape (1, 3, 480, 640)\n"
     ]
    },
    {
     "name": "stdout",
     "output_type": "stream",
     "text": [
      "Error: results_list is empty or contains tuples without a second element.\n",
      "Error: results_list is empty or contains tuples without a second element.\n"
     ]
    },
    {
     "name": "stderr",
     "output_type": "stream",
     "text": [
      "\n",
      "0: 480x640 17 cars, 1 bus, 3 trucks, 82.6ms\n",
      "Speed: 2.5ms preprocess, 82.6ms inference, 0.8ms postprocess per image at shape (1, 3, 480, 640)\n",
      "\n",
      "0: 480x640 3 licenses, 81.0ms\n",
      "Speed: 2.7ms preprocess, 81.0ms inference, 0.6ms postprocess per image at shape (1, 3, 480, 640)\n"
     ]
    },
    {
     "name": "stdout",
     "output_type": "stream",
     "text": [
      "Error: results_list is empty or contains tuples without a second element.\n"
     ]
    },
    {
     "name": "stderr",
     "output_type": "stream",
     "text": [
      "\n",
      "0: 480x640 1 person, 14 cars, 1 bus, 2 trucks, 81.0ms\n",
      "Speed: 2.4ms preprocess, 81.0ms inference, 0.8ms postprocess per image at shape (1, 3, 480, 640)\n",
      "\n",
      "0: 480x640 3 licenses, 81.5ms\n",
      "Speed: 2.6ms preprocess, 81.5ms inference, 0.6ms postprocess per image at shape (1, 3, 480, 640)\n"
     ]
    },
    {
     "name": "stdout",
     "output_type": "stream",
     "text": [
      "Error: results_list is empty or contains tuples without a second element.\n"
     ]
    },
    {
     "name": "stderr",
     "output_type": "stream",
     "text": [
      "\n",
      "0: 480x640 1 person, 14 cars, 1 bus, 2 trucks, 77.9ms\n",
      "Speed: 2.4ms preprocess, 77.9ms inference, 0.7ms postprocess per image at shape (1, 3, 480, 640)\n",
      "\n",
      "0: 480x640 3 licenses, 75.7ms\n",
      "Speed: 2.9ms preprocess, 75.7ms inference, 0.5ms postprocess per image at shape (1, 3, 480, 640)\n"
     ]
    },
    {
     "name": "stdout",
     "output_type": "stream",
     "text": [
      "Error: results_list is empty or contains tuples without a second element.\n"
     ]
    },
    {
     "name": "stderr",
     "output_type": "stream",
     "text": [
      "\n",
      "0: 480x640 1 person, 13 cars, 1 bus, 3 trucks, 76.3ms\n",
      "Speed: 2.5ms preprocess, 76.3ms inference, 0.7ms postprocess per image at shape (1, 3, 480, 640)\n",
      "\n",
      "0: 480x640 3 licenses, 80.9ms\n",
      "Speed: 3.2ms preprocess, 80.9ms inference, 0.6ms postprocess per image at shape (1, 3, 480, 640)\n"
     ]
    },
    {
     "name": "stdout",
     "output_type": "stream",
     "text": [
      "Error: results_list is empty or contains tuples without a second element.\n"
     ]
    },
    {
     "name": "stderr",
     "output_type": "stream",
     "text": [
      "\n",
      "0: 480x640 1 person, 13 cars, 1 bus, 3 trucks, 83.3ms\n",
      "Speed: 2.7ms preprocess, 83.3ms inference, 0.8ms postprocess per image at shape (1, 3, 480, 640)\n",
      "\n",
      "0: 480x640 3 licenses, 83.4ms\n",
      "Speed: 2.6ms preprocess, 83.4ms inference, 0.6ms postprocess per image at shape (1, 3, 480, 640)\n"
     ]
    },
    {
     "name": "stdout",
     "output_type": "stream",
     "text": [
      "Error: results_list is empty or contains tuples without a second element.\n"
     ]
    },
    {
     "name": "stderr",
     "output_type": "stream",
     "text": [
      "\n",
      "0: 480x640 1 person, 13 cars, 1 bus, 3 trucks, 78.9ms\n",
      "Speed: 2.4ms preprocess, 78.9ms inference, 0.7ms postprocess per image at shape (1, 3, 480, 640)\n",
      "\n",
      "0: 480x640 3 licenses, 81.7ms\n",
      "Speed: 2.8ms preprocess, 81.7ms inference, 0.7ms postprocess per image at shape (1, 3, 480, 640)\n"
     ]
    },
    {
     "name": "stdout",
     "output_type": "stream",
     "text": [
      "Error: results_list is empty or contains tuples without a second element.\n"
     ]
    },
    {
     "name": "stderr",
     "output_type": "stream",
     "text": [
      "\n",
      "0: 480x640 1 person, 14 cars, 1 bus, 3 trucks, 128.6ms\n",
      "Speed: 2.4ms preprocess, 128.6ms inference, 0.9ms postprocess per image at shape (1, 3, 480, 640)\n",
      "\n"
     ]
    },
    {
     "name": "stdout",
     "output_type": "stream",
     "text": [
      "Error: results_list is empty or contains tuples without a second element.\n"
     ]
    },
    {
     "name": "stderr",
     "output_type": "stream",
     "text": [
      "0: 480x640 3 licenses, 109.5ms\n",
      "Speed: 4.2ms preprocess, 109.5ms inference, 0.9ms postprocess per image at shape (1, 3, 480, 640)\n"
     ]
    },
    {
     "name": "stdout",
     "output_type": "stream",
     "text": [
      "Error: results_list is empty or contains tuples without a second element.\n"
     ]
    },
    {
     "name": "stderr",
     "output_type": "stream",
     "text": [
      "\n",
      "0: 480x640 1 person, 13 cars, 1 bus, 2 trucks, 80.8ms\n",
      "Speed: 2.3ms preprocess, 80.8ms inference, 0.7ms postprocess per image at shape (1, 3, 480, 640)\n",
      "\n",
      "0: 480x640 3 licenses, 80.1ms\n",
      "Speed: 2.2ms preprocess, 80.1ms inference, 0.9ms postprocess per image at shape (1, 3, 480, 640)\n"
     ]
    },
    {
     "name": "stdout",
     "output_type": "stream",
     "text": [
      "Error: results_list is empty or contains tuples without a second element.\n",
      "Error: results_list is empty or contains tuples without a second element.\n"
     ]
    },
    {
     "name": "stderr",
     "output_type": "stream",
     "text": [
      "\n",
      "0: 480x640 1 person, 14 cars, 1 bus, 3 trucks, 83.5ms\n",
      "Speed: 2.4ms preprocess, 83.5ms inference, 0.8ms postprocess per image at shape (1, 3, 480, 640)\n",
      "\n",
      "0: 480x640 3 licenses, 83.0ms\n",
      "Speed: 2.7ms preprocess, 83.0ms inference, 0.6ms postprocess per image at shape (1, 3, 480, 640)\n"
     ]
    },
    {
     "name": "stdout",
     "output_type": "stream",
     "text": [
      "Error: results_list is empty or contains tuples without a second element.\n",
      "Error: results_list is empty or contains tuples without a second element.\n"
     ]
    },
    {
     "name": "stderr",
     "output_type": "stream",
     "text": [
      "\n",
      "0: 480x640 1 person, 13 cars, 1 bus, 3 trucks, 83.5ms\n",
      "Speed: 2.3ms preprocess, 83.5ms inference, 1.2ms postprocess per image at shape (1, 3, 480, 640)\n",
      "\n",
      "0: 480x640 3 licenses, 81.4ms\n",
      "Speed: 2.9ms preprocess, 81.4ms inference, 0.6ms postprocess per image at shape (1, 3, 480, 640)\n"
     ]
    },
    {
     "name": "stdout",
     "output_type": "stream",
     "text": [
      "Error: results_list is empty or contains tuples without a second element.\n"
     ]
    },
    {
     "name": "stderr",
     "output_type": "stream",
     "text": [
      "\n",
      "0: 480x640 1 person, 13 cars, 1 bus, 3 trucks, 82.2ms\n",
      "Speed: 2.5ms preprocess, 82.2ms inference, 0.7ms postprocess per image at shape (1, 3, 480, 640)\n",
      "\n",
      "0: 480x640 3 licenses, 76.4ms\n",
      "Speed: 2.8ms preprocess, 76.4ms inference, 0.6ms postprocess per image at shape (1, 3, 480, 640)\n"
     ]
    },
    {
     "name": "stdout",
     "output_type": "stream",
     "text": [
      "Error: results_list is empty or contains tuples without a second element.\n"
     ]
    },
    {
     "name": "stderr",
     "output_type": "stream",
     "text": [
      "\n",
      "0: 480x640 1 person, 14 cars, 1 bus, 3 trucks, 80.6ms\n",
      "Speed: 2.4ms preprocess, 80.6ms inference, 0.8ms postprocess per image at shape (1, 3, 480, 640)\n",
      "\n",
      "0: 480x640 3 licenses, 83.2ms\n",
      "Speed: 3.3ms preprocess, 83.2ms inference, 0.6ms postprocess per image at shape (1, 3, 480, 640)\n",
      "\n",
      "0: 480x640 1 person, 14 cars, 1 bus, 3 trucks, 82.7ms\n",
      "Speed: 2.6ms preprocess, 82.7ms inference, 0.9ms postprocess per image at shape (1, 3, 480, 640)\n",
      "\n",
      "0: 480x640 3 licenses, 89.4ms\n",
      "Speed: 3.5ms preprocess, 89.4ms inference, 0.6ms postprocess per image at shape (1, 3, 480, 640)\n"
     ]
    },
    {
     "name": "stdout",
     "output_type": "stream",
     "text": [
      "Error: results_list is empty or contains tuples without a second element.\n"
     ]
    },
    {
     "name": "stderr",
     "output_type": "stream",
     "text": [
      "\n",
      "0: 480x640 1 person, 18 cars, 1 bus, 3 trucks, 85.0ms\n",
      "Speed: 2.4ms preprocess, 85.0ms inference, 0.8ms postprocess per image at shape (1, 3, 480, 640)\n",
      "\n",
      "0: 480x640 3 licenses, 82.9ms\n",
      "Speed: 3.1ms preprocess, 82.9ms inference, 1.2ms postprocess per image at shape (1, 3, 480, 640)\n"
     ]
    },
    {
     "name": "stdout",
     "output_type": "stream",
     "text": [
      "Error: results_list is empty or contains tuples without a second element.\n"
     ]
    },
    {
     "name": "stderr",
     "output_type": "stream",
     "text": [
      "\n",
      "0: 480x640 1 person, 18 cars, 1 bus, 3 trucks, 81.6ms\n",
      "Speed: 2.5ms preprocess, 81.6ms inference, 0.7ms postprocess per image at shape (1, 3, 480, 640)\n",
      "\n",
      "0: 480x640 3 licenses, 71.7ms\n",
      "Speed: 2.9ms preprocess, 71.7ms inference, 0.5ms postprocess per image at shape (1, 3, 480, 640)\n"
     ]
    },
    {
     "name": "stdout",
     "output_type": "stream",
     "text": [
      "Error: results_list is empty or contains tuples without a second element.\n"
     ]
    },
    {
     "name": "stderr",
     "output_type": "stream",
     "text": [
      "\n",
      "0: 480x640 1 person, 16 cars, 1 bus, 3 trucks, 82.1ms\n",
      "Speed: 2.5ms preprocess, 82.1ms inference, 0.7ms postprocess per image at shape (1, 3, 480, 640)\n",
      "\n",
      "0: 480x640 3 licenses, 76.5ms\n",
      "Speed: 3.0ms preprocess, 76.5ms inference, 0.6ms postprocess per image at shape (1, 3, 480, 640)\n"
     ]
    },
    {
     "name": "stdout",
     "output_type": "stream",
     "text": [
      "Error: results_list is empty or contains tuples without a second element.\n"
     ]
    },
    {
     "name": "stderr",
     "output_type": "stream",
     "text": [
      "\n",
      "0: 480x640 1 person, 16 cars, 1 bus, 3 trucks, 127.4ms\n",
      "Speed: 2.4ms preprocess, 127.4ms inference, 1.0ms postprocess per image at shape (1, 3, 480, 640)\n",
      "\n",
      "0: 480x640 3 licenses, 103.4ms\n",
      "Speed: 3.6ms preprocess, 103.4ms inference, 0.8ms postprocess per image at shape (1, 3, 480, 640)\n",
      "\n",
      "0: 480x640 1 person, 16 cars, 1 bus, 2 trucks, 78.3ms\n",
      "Speed: 2.4ms preprocess, 78.3ms inference, 0.8ms postprocess per image at shape (1, 3, 480, 640)\n",
      "\n",
      "0: 480x640 3 licenses, 82.6ms\n",
      "Speed: 2.5ms preprocess, 82.6ms inference, 0.6ms postprocess per image at shape (1, 3, 480, 640)\n",
      "\n",
      "0: 480x640 1 person, 16 cars, 1 bus, 2 trucks, 74.6ms\n",
      "Speed: 2.4ms preprocess, 74.6ms inference, 0.7ms postprocess per image at shape (1, 3, 480, 640)\n",
      "\n",
      "0: 480x640 3 licenses, 75.4ms\n",
      "Speed: 2.9ms preprocess, 75.4ms inference, 1.0ms postprocess per image at shape (1, 3, 480, 640)\n"
     ]
    },
    {
     "name": "stdout",
     "output_type": "stream",
     "text": [
      "Error: results_list is empty or contains tuples without a second element.\n",
      "Error: results_list is empty or contains tuples without a second element.\n"
     ]
    },
    {
     "name": "stderr",
     "output_type": "stream",
     "text": [
      "\n",
      "0: 480x640 1 person, 17 cars, 1 bus, 3 trucks, 84.7ms\n",
      "Speed: 2.4ms preprocess, 84.7ms inference, 0.8ms postprocess per image at shape (1, 3, 480, 640)\n",
      "\n",
      "0: 480x640 3 licenses, 81.4ms\n",
      "Speed: 3.3ms preprocess, 81.4ms inference, 0.6ms postprocess per image at shape (1, 3, 480, 640)\n"
     ]
    },
    {
     "name": "stdout",
     "output_type": "stream",
     "text": [
      "Error: results_list is empty or contains tuples without a second element.\n"
     ]
    },
    {
     "name": "stderr",
     "output_type": "stream",
     "text": [
      "\n",
      "0: 480x640 1 person, 16 cars, 1 bus, 3 trucks, 78.6ms\n",
      "Speed: 2.5ms preprocess, 78.6ms inference, 0.7ms postprocess per image at shape (1, 3, 480, 640)\n",
      "\n",
      "0: 480x640 3 licenses, 79.7ms\n",
      "Speed: 2.4ms preprocess, 79.7ms inference, 0.6ms postprocess per image at shape (1, 3, 480, 640)\n"
     ]
    },
    {
     "name": "stdout",
     "output_type": "stream",
     "text": [
      "Error: results_list is empty or contains tuples without a second element.\n"
     ]
    },
    {
     "name": "stderr",
     "output_type": "stream",
     "text": [
      "\n",
      "0: 480x640 1 person, 19 cars, 1 bus, 3 trucks, 85.5ms\n",
      "Speed: 2.8ms preprocess, 85.5ms inference, 0.8ms postprocess per image at shape (1, 3, 480, 640)\n",
      "\n",
      "0: 480x640 3 licenses, 84.3ms\n",
      "Speed: 3.2ms preprocess, 84.3ms inference, 0.6ms postprocess per image at shape (1, 3, 480, 640)\n"
     ]
    },
    {
     "name": "stdout",
     "output_type": "stream",
     "text": [
      "Error: results_list is empty or contains tuples without a second element.\n",
      "Error: results_list is empty or contains tuples without a second element.\n"
     ]
    },
    {
     "name": "stderr",
     "output_type": "stream",
     "text": [
      "\n",
      "0: 480x640 1 person, 18 cars, 1 bus, 3 trucks, 79.2ms\n",
      "Speed: 2.3ms preprocess, 79.2ms inference, 0.8ms postprocess per image at shape (1, 3, 480, 640)\n",
      "\n",
      "0: 480x640 3 licenses, 75.2ms\n",
      "Speed: 2.8ms preprocess, 75.2ms inference, 0.6ms postprocess per image at shape (1, 3, 480, 640)\n"
     ]
    },
    {
     "name": "stdout",
     "output_type": "stream",
     "text": [
      "Error: results_list is empty or contains tuples without a second element.\n"
     ]
    },
    {
     "name": "stderr",
     "output_type": "stream",
     "text": [
      "\n",
      "0: 480x640 1 person, 16 cars, 1 bus, 3 trucks, 80.2ms\n",
      "Speed: 2.5ms preprocess, 80.2ms inference, 0.8ms postprocess per image at shape (1, 3, 480, 640)\n",
      "\n",
      "0: 480x640 4 licenses, 81.4ms\n",
      "Speed: 3.1ms preprocess, 81.4ms inference, 0.6ms postprocess per image at shape (1, 3, 480, 640)\n",
      "\n",
      "0: 480x640 1 person, 16 cars, 1 bus, 3 trucks, 76.8ms\n",
      "Speed: 2.4ms preprocess, 76.8ms inference, 0.8ms postprocess per image at shape (1, 3, 480, 640)\n",
      "\n",
      "0: 480x640 4 licenses, 80.8ms\n",
      "Speed: 2.3ms preprocess, 80.8ms inference, 0.6ms postprocess per image at shape (1, 3, 480, 640)\n"
     ]
    },
    {
     "name": "stdout",
     "output_type": "stream",
     "text": [
      "Error: results_list is empty or contains tuples without a second element.\n"
     ]
    },
    {
     "name": "stderr",
     "output_type": "stream",
     "text": [
      "\n",
      "0: 480x640 15 cars, 1 bus, 3 trucks, 76.6ms\n",
      "Speed: 2.4ms preprocess, 76.6ms inference, 0.7ms postprocess per image at shape (1, 3, 480, 640)\n",
      "\n",
      "0: 480x640 3 licenses, 81.3ms\n",
      "Speed: 2.8ms preprocess, 81.3ms inference, 0.6ms postprocess per image at shape (1, 3, 480, 640)\n"
     ]
    },
    {
     "name": "stdout",
     "output_type": "stream",
     "text": [
      "Error: results_list is empty or contains tuples without a second element.\n"
     ]
    },
    {
     "name": "stderr",
     "output_type": "stream",
     "text": [
      "\n",
      "0: 480x640 15 cars, 1 bus, 3 trucks, 89.2ms\n",
      "Speed: 3.5ms preprocess, 89.2ms inference, 0.9ms postprocess per image at shape (1, 3, 480, 640)\n",
      "\n",
      "0: 480x640 3 licenses, 125.5ms\n",
      "Speed: 4.0ms preprocess, 125.5ms inference, 1.2ms postprocess per image at shape (1, 3, 480, 640)\n",
      "\n",
      "0: 480x640 15 cars, 1 bus, 2 trucks, 79.4ms\n",
      "Speed: 2.6ms preprocess, 79.4ms inference, 1.2ms postprocess per image at shape (1, 3, 480, 640)\n",
      "\n",
      "0: 480x640 3 licenses, 82.1ms\n",
      "Speed: 2.8ms preprocess, 82.1ms inference, 0.6ms postprocess per image at shape (1, 3, 480, 640)\n",
      "\n",
      "0: 480x640 15 cars, 1 bus, 2 trucks, 78.0ms\n",
      "Speed: 2.4ms preprocess, 78.0ms inference, 0.7ms postprocess per image at shape (1, 3, 480, 640)\n",
      "\n",
      "0: 480x640 3 licenses, 76.7ms\n",
      "Speed: 2.7ms preprocess, 76.7ms inference, 0.6ms postprocess per image at shape (1, 3, 480, 640)\n"
     ]
    },
    {
     "name": "stdout",
     "output_type": "stream",
     "text": [
      "Error: results_list is empty or contains tuples without a second element.\n"
     ]
    },
    {
     "name": "stderr",
     "output_type": "stream",
     "text": [
      "\n",
      "0: 480x640 17 cars, 1 bus, 3 trucks, 82.1ms\n",
      "Speed: 2.5ms preprocess, 82.1ms inference, 0.8ms postprocess per image at shape (1, 3, 480, 640)\n",
      "\n",
      "0: 480x640 3 licenses, 82.1ms\n",
      "Speed: 2.7ms preprocess, 82.1ms inference, 0.7ms postprocess per image at shape (1, 3, 480, 640)\n"
     ]
    },
    {
     "name": "stdout",
     "output_type": "stream",
     "text": [
      "Error: results_list is empty or contains tuples without a second element.\n",
      "Error: results_list is empty or contains tuples without a second element.\n"
     ]
    },
    {
     "name": "stderr",
     "output_type": "stream",
     "text": [
      "\n",
      "0: 480x640 17 cars, 1 bus, 3 trucks, 76.5ms\n",
      "Speed: 2.5ms preprocess, 76.5ms inference, 0.7ms postprocess per image at shape (1, 3, 480, 640)\n",
      "\n",
      "0: 480x640 3 licenses, 75.4ms\n",
      "Speed: 3.0ms preprocess, 75.4ms inference, 0.6ms postprocess per image at shape (1, 3, 480, 640)\n",
      "\n",
      "0: 480x640 1 person, 15 cars, 1 bus, 3 trucks, 77.0ms\n",
      "Speed: 2.7ms preprocess, 77.0ms inference, 0.7ms postprocess per image at shape (1, 3, 480, 640)\n",
      "\n",
      "0: 480x640 3 licenses, 74.6ms\n",
      "Speed: 2.5ms preprocess, 74.6ms inference, 0.6ms postprocess per image at shape (1, 3, 480, 640)\n",
      "\n",
      "0: 480x640 1 person, 15 cars, 1 bus, 3 trucks, 81.6ms\n",
      "Speed: 2.4ms preprocess, 81.6ms inference, 0.8ms postprocess per image at shape (1, 3, 480, 640)\n",
      "\n",
      "0: 480x640 3 licenses, 81.1ms\n",
      "Speed: 3.2ms preprocess, 81.1ms inference, 0.6ms postprocess per image at shape (1, 3, 480, 640)\n"
     ]
    },
    {
     "name": "stdout",
     "output_type": "stream",
     "text": [
      "Error: results_list is empty or contains tuples without a second element.\n"
     ]
    },
    {
     "name": "stderr",
     "output_type": "stream",
     "text": [
      "\n",
      "0: 480x640 1 person, 13 cars, 1 bus, 3 trucks, 83.0ms\n",
      "Speed: 2.3ms preprocess, 83.0ms inference, 0.8ms postprocess per image at shape (1, 3, 480, 640)\n",
      "\n",
      "0: 480x640 3 licenses, 77.2ms\n",
      "Speed: 2.9ms preprocess, 77.2ms inference, 0.7ms postprocess per image at shape (1, 3, 480, 640)\n"
     ]
    },
    {
     "name": "stdout",
     "output_type": "stream",
     "text": [
      "Error: results_list is empty or contains tuples without a second element.\n"
     ]
    },
    {
     "name": "stderr",
     "output_type": "stream",
     "text": [
      "\n",
      "0: 480x640 1 person, 14 cars, 1 bus, 3 trucks, 85.2ms\n",
      "Speed: 2.4ms preprocess, 85.2ms inference, 0.8ms postprocess per image at shape (1, 3, 480, 640)\n",
      "\n",
      "0: 480x640 3 licenses, 81.4ms\n",
      "Speed: 3.0ms preprocess, 81.4ms inference, 1.0ms postprocess per image at shape (1, 3, 480, 640)\n",
      "\n",
      "0: 480x640 1 person, 14 cars, 1 bus, 2 trucks, 75.4ms\n",
      "Speed: 2.4ms preprocess, 75.4ms inference, 1.1ms postprocess per image at shape (1, 3, 480, 640)\n",
      "\n",
      "0: 480x640 3 licenses, 76.6ms\n",
      "Speed: 2.4ms preprocess, 76.6ms inference, 0.9ms postprocess per image at shape (1, 3, 480, 640)\n",
      "\n",
      "0: 480x640 1 person, 14 cars, 1 bus, 2 trucks, 75.6ms\n",
      "Speed: 2.4ms preprocess, 75.6ms inference, 0.8ms postprocess per image at shape (1, 3, 480, 640)\n",
      "\n",
      "0: 480x640 3 licenses, 76.1ms\n",
      "Speed: 3.0ms preprocess, 76.1ms inference, 0.5ms postprocess per image at shape (1, 3, 480, 640)\n",
      "\n",
      "0: 480x640 1 person, 15 cars, 1 bus, 3 trucks, 78.5ms\n",
      "Speed: 2.4ms preprocess, 78.5ms inference, 1.2ms postprocess per image at shape (1, 3, 480, 640)\n",
      "\n",
      "0: 480x640 3 licenses, 81.7ms\n",
      "Speed: 2.9ms preprocess, 81.7ms inference, 0.6ms postprocess per image at shape (1, 3, 480, 640)\n"
     ]
    },
    {
     "name": "stdout",
     "output_type": "stream",
     "text": [
      "Error: results_list is empty or contains tuples without a second element.\n"
     ]
    },
    {
     "name": "stderr",
     "output_type": "stream",
     "text": [
      "\n",
      "0: 480x640 1 person, 16 cars, 1 bus, 3 trucks, 103.2ms\n",
      "Speed: 2.9ms preprocess, 103.2ms inference, 1.3ms postprocess per image at shape (1, 3, 480, 640)\n",
      "\n",
      "0: 480x640 3 licenses, 113.2ms\n",
      "Speed: 5.0ms preprocess, 113.2ms inference, 0.9ms postprocess per image at shape (1, 3, 480, 640)\n"
     ]
    },
    {
     "name": "stdout",
     "output_type": "stream",
     "text": [
      "Error: results_list is empty or contains tuples without a second element.\n"
     ]
    },
    {
     "name": "stderr",
     "output_type": "stream",
     "text": [
      "\n",
      "0: 480x640 1 person, 16 cars, 2 buss, 3 trucks, 83.9ms\n",
      "Speed: 2.5ms preprocess, 83.9ms inference, 0.8ms postprocess per image at shape (1, 3, 480, 640)\n",
      "\n",
      "0: 480x640 3 licenses, 81.6ms\n",
      "Speed: 3.3ms preprocess, 81.6ms inference, 0.6ms postprocess per image at shape (1, 3, 480, 640)\n"
     ]
    },
    {
     "name": "stdout",
     "output_type": "stream",
     "text": [
      "Error: results_list is empty or contains tuples without a second element.\n"
     ]
    },
    {
     "name": "stderr",
     "output_type": "stream",
     "text": [
      "\n",
      "0: 480x640 1 person, 16 cars, 1 bus, 3 trucks, 80.1ms\n",
      "Speed: 2.4ms preprocess, 80.1ms inference, 0.8ms postprocess per image at shape (1, 3, 480, 640)\n",
      "\n",
      "0: 480x640 3 licenses, 81.3ms\n",
      "Speed: 3.2ms preprocess, 81.3ms inference, 0.7ms postprocess per image at shape (1, 3, 480, 640)\n",
      "\n",
      "0: 480x640 1 person, 15 cars, 1 bus, 3 trucks, 84.1ms\n",
      "Speed: 2.3ms preprocess, 84.1ms inference, 0.8ms postprocess per image at shape (1, 3, 480, 640)\n",
      "\n",
      "0: 480x640 3 licenses, 85.0ms\n",
      "Speed: 2.7ms preprocess, 85.0ms inference, 0.6ms postprocess per image at shape (1, 3, 480, 640)\n",
      "\n",
      "0: 480x640 1 person, 15 cars, 1 bus, 3 trucks, 78.2ms\n",
      "Speed: 2.5ms preprocess, 78.2ms inference, 0.8ms postprocess per image at shape (1, 3, 480, 640)\n",
      "\n",
      "0: 480x640 3 licenses, 126.5ms\n",
      "Speed: 2.9ms preprocess, 126.5ms inference, 0.8ms postprocess per image at shape (1, 3, 480, 640)\n",
      "\n",
      "0: 480x640 1 person, 16 cars, 2 trucks, 80.2ms\n",
      "Speed: 2.5ms preprocess, 80.2ms inference, 0.7ms postprocess per image at shape (1, 3, 480, 640)\n",
      "\n",
      "0: 480x640 3 licenses, 81.0ms\n",
      "Speed: 2.5ms preprocess, 81.0ms inference, 0.6ms postprocess per image at shape (1, 3, 480, 640)\n",
      "\n",
      "0: 480x640 1 person, 16 cars, 2 trucks, 74.6ms\n",
      "Speed: 2.5ms preprocess, 74.6ms inference, 0.7ms postprocess per image at shape (1, 3, 480, 640)\n",
      "\n",
      "0: 480x640 3 licenses, 75.2ms\n",
      "Speed: 2.9ms preprocess, 75.2ms inference, 0.6ms postprocess per image at shape (1, 3, 480, 640)\n",
      "\n",
      "0: 480x640 1 person, 14 cars, 2 trucks, 77.9ms\n",
      "Speed: 2.4ms preprocess, 77.9ms inference, 0.7ms postprocess per image at shape (1, 3, 480, 640)\n",
      "\n",
      "0: 480x640 3 licenses, 75.3ms\n",
      "Speed: 2.9ms preprocess, 75.3ms inference, 0.5ms postprocess per image at shape (1, 3, 480, 640)\n",
      "\n",
      "0: 480x640 1 person, 14 cars, 2 trucks, 75.0ms\n",
      "Speed: 2.6ms preprocess, 75.0ms inference, 0.7ms postprocess per image at shape (1, 3, 480, 640)\n",
      "\n",
      "0: 480x640 3 licenses, 76.7ms\n",
      "Speed: 3.0ms preprocess, 76.7ms inference, 0.6ms postprocess per image at shape (1, 3, 480, 640)\n",
      "\n",
      "0: 480x640 1 person, 16 cars, 1 bus, 2 trucks, 78.4ms\n",
      "Speed: 2.3ms preprocess, 78.4ms inference, 0.7ms postprocess per image at shape (1, 3, 480, 640)\n",
      "\n",
      "0: 480x640 2 licenses, 76.9ms\n",
      "Speed: 2.9ms preprocess, 76.9ms inference, 0.6ms postprocess per image at shape (1, 3, 480, 640)\n",
      "\n",
      "0: 480x640 1 person, 17 cars, 1 bus, 2 trucks, 77.6ms\n",
      "Speed: 2.4ms preprocess, 77.6ms inference, 0.7ms postprocess per image at shape (1, 3, 480, 640)\n",
      "\n",
      "0: 480x640 2 licenses, 79.4ms\n",
      "Speed: 3.0ms preprocess, 79.4ms inference, 0.6ms postprocess per image at shape (1, 3, 480, 640)\n",
      "\n",
      "0: 480x640 1 person, 18 cars, 3 trucks, 79.4ms\n",
      "Speed: 2.7ms preprocess, 79.4ms inference, 0.8ms postprocess per image at shape (1, 3, 480, 640)\n",
      "\n",
      "0: 480x640 2 licenses, 79.8ms\n",
      "Speed: 3.0ms preprocess, 79.8ms inference, 0.5ms postprocess per image at shape (1, 3, 480, 640)\n",
      "\n",
      "0: 480x640 1 person, 18 cars, 1 bus, 2 trucks, 80.0ms\n",
      "Speed: 2.4ms preprocess, 80.0ms inference, 0.7ms postprocess per image at shape (1, 3, 480, 640)\n",
      "\n",
      "0: 480x640 2 licenses, 75.1ms\n",
      "Speed: 2.2ms preprocess, 75.1ms inference, 0.9ms postprocess per image at shape (1, 3, 480, 640)\n",
      "\n",
      "0: 480x640 1 person, 19 cars, 1 bus, 3 trucks, 83.8ms\n",
      "Speed: 2.7ms preprocess, 83.8ms inference, 0.8ms postprocess per image at shape (1, 3, 480, 640)\n",
      "\n",
      "0: 480x640 2 licenses, 90.9ms\n",
      "Speed: 2.8ms preprocess, 90.9ms inference, 0.7ms postprocess per image at shape (1, 3, 480, 640)\n"
     ]
    },
    {
     "name": "stdout",
     "output_type": "stream",
     "text": [
      "Error: results_list is empty or contains tuples without a second element.\n"
     ]
    },
    {
     "name": "stderr",
     "output_type": "stream",
     "text": [
      "\n",
      "0: 480x640 1 person, 19 cars, 1 bus, 2 trucks, 82.5ms\n",
      "Speed: 2.5ms preprocess, 82.5ms inference, 0.8ms postprocess per image at shape (1, 3, 480, 640)\n",
      "\n",
      "0: 480x640 2 licenses, 83.6ms\n",
      "Speed: 3.2ms preprocess, 83.6ms inference, 0.6ms postprocess per image at shape (1, 3, 480, 640)\n"
     ]
    },
    {
     "name": "stdout",
     "output_type": "stream",
     "text": [
      "Error: results_list is empty or contains tuples without a second element.\n",
      "Error: results_list is empty or contains tuples without a second element.\n"
     ]
    },
    {
     "name": "stderr",
     "output_type": "stream",
     "text": [
      "\n",
      "0: 480x640 1 person, 19 cars, 1 bus, 2 trucks, 78.2ms\n",
      "Speed: 2.4ms preprocess, 78.2ms inference, 0.7ms postprocess per image at shape (1, 3, 480, 640)\n",
      "\n",
      "0: 480x640 2 licenses, 74.8ms\n",
      "Speed: 2.4ms preprocess, 74.8ms inference, 0.5ms postprocess per image at shape (1, 3, 480, 640)\n"
     ]
    },
    {
     "name": "stdout",
     "output_type": "stream",
     "text": [
      "Error: results_list is empty or contains tuples without a second element.\n"
     ]
    },
    {
     "name": "stderr",
     "output_type": "stream",
     "text": [
      "\n",
      "0: 480x640 1 person, 19 cars, 1 bus, 2 trucks, 78.6ms\n",
      "Speed: 2.3ms preprocess, 78.6ms inference, 0.7ms postprocess per image at shape (1, 3, 480, 640)\n",
      "\n",
      "0: 480x640 2 licenses, 80.9ms\n",
      "Speed: 2.9ms preprocess, 80.9ms inference, 0.6ms postprocess per image at shape (1, 3, 480, 640)\n",
      "\n",
      "0: 480x640 1 person, 19 cars, 1 bus, 2 trucks, 76.9ms\n",
      "Speed: 2.6ms preprocess, 76.9ms inference, 0.7ms postprocess per image at shape (1, 3, 480, 640)\n",
      "\n",
      "0: 480x640 2 licenses, 74.7ms\n",
      "Speed: 2.4ms preprocess, 74.7ms inference, 0.5ms postprocess per image at shape (1, 3, 480, 640)\n"
     ]
    },
    {
     "name": "stdout",
     "output_type": "stream",
     "text": [
      "Error: results_list is empty or contains tuples without a second element.\n"
     ]
    },
    {
     "name": "stderr",
     "output_type": "stream",
     "text": [
      "\n",
      "0: 480x640 1 person, 18 cars, 1 bus, 2 trucks, 76.3ms\n",
      "Speed: 2.4ms preprocess, 76.3ms inference, 1.1ms postprocess per image at shape (1, 3, 480, 640)\n",
      "\n",
      "0: 480x640 2 licenses, 83.7ms\n",
      "Speed: 2.9ms preprocess, 83.7ms inference, 0.6ms postprocess per image at shape (1, 3, 480, 640)\n"
     ]
    },
    {
     "name": "stdout",
     "output_type": "stream",
     "text": [
      "Error: results_list is empty or contains tuples without a second element.\n"
     ]
    },
    {
     "name": "stderr",
     "output_type": "stream",
     "text": [
      "\n",
      "0: 480x640 1 person, 19 cars, 1 bus, 2 trucks, 80.3ms\n",
      "Speed: 2.5ms preprocess, 80.3ms inference, 0.7ms postprocess per image at shape (1, 3, 480, 640)\n",
      "\n",
      "0: 480x640 2 licenses, 71.3ms\n",
      "Speed: 2.9ms preprocess, 71.3ms inference, 0.5ms postprocess per image at shape (1, 3, 480, 640)\n"
     ]
    },
    {
     "name": "stdout",
     "output_type": "stream",
     "text": [
      "Error: results_list is empty or contains tuples without a second element.\n"
     ]
    },
    {
     "name": "stderr",
     "output_type": "stream",
     "text": [
      "\n",
      "0: 480x640 1 person, 19 cars, 1 bus, 2 trucks, 77.5ms\n",
      "Speed: 2.5ms preprocess, 77.5ms inference, 0.8ms postprocess per image at shape (1, 3, 480, 640)\n",
      "\n",
      "0: 480x640 2 licenses, 77.7ms\n",
      "Speed: 2.2ms preprocess, 77.7ms inference, 0.5ms postprocess per image at shape (1, 3, 480, 640)\n",
      "\n",
      "0: 480x640 1 person, 18 cars, 2 trucks, 82.2ms\n",
      "Speed: 2.5ms preprocess, 82.2ms inference, 0.8ms postprocess per image at shape (1, 3, 480, 640)\n",
      "\n",
      "0: 480x640 2 licenses, 81.4ms\n",
      "Speed: 3.2ms preprocess, 81.4ms inference, 0.6ms postprocess per image at shape (1, 3, 480, 640)\n",
      "\n",
      "0: 480x640 1 person, 18 cars, 2 trucks, 77.1ms\n",
      "Speed: 2.8ms preprocess, 77.1ms inference, 0.7ms postprocess per image at shape (1, 3, 480, 640)\n",
      "\n",
      "0: 480x640 2 licenses, 72.9ms\n",
      "Speed: 2.6ms preprocess, 72.9ms inference, 0.5ms postprocess per image at shape (1, 3, 480, 640)\n",
      "\n",
      "0: 480x640 1 person, 18 cars, 2 trucks, 75.0ms\n",
      "Speed: 2.4ms preprocess, 75.0ms inference, 0.8ms postprocess per image at shape (1, 3, 480, 640)\n",
      "\n",
      "0: 480x640 2 licenses, 79.1ms\n",
      "Speed: 2.9ms preprocess, 79.1ms inference, 0.6ms postprocess per image at shape (1, 3, 480, 640)\n",
      "\n",
      "0: 480x640 1 person, 18 cars, 2 trucks, 77.8ms\n",
      "Speed: 2.4ms preprocess, 77.8ms inference, 0.7ms postprocess per image at shape (1, 3, 480, 640)\n",
      "\n",
      "0: 480x640 2 licenses, 77.1ms\n",
      "Speed: 2.5ms preprocess, 77.1ms inference, 0.8ms postprocess per image at shape (1, 3, 480, 640)\n",
      "\n",
      "0: 480x640 1 person, 18 cars, 2 trucks, 78.2ms\n",
      "Speed: 2.4ms preprocess, 78.2ms inference, 0.7ms postprocess per image at shape (1, 3, 480, 640)\n",
      "\n",
      "0: 480x640 2 licenses, 76.6ms\n",
      "Speed: 2.9ms preprocess, 76.6ms inference, 0.5ms postprocess per image at shape (1, 3, 480, 640)\n",
      "\n",
      "0: 480x640 1 person, 18 cars, 2 trucks, 76.3ms\n",
      "Speed: 2.5ms preprocess, 76.3ms inference, 0.7ms postprocess per image at shape (1, 3, 480, 640)\n",
      "\n",
      "0: 480x640 2 licenses, 80.4ms\n",
      "Speed: 2.8ms preprocess, 80.4ms inference, 0.6ms postprocess per image at shape (1, 3, 480, 640)\n",
      "\n",
      "0: 480x640 1 person, 17 cars, 1 bus, 3 trucks, 76.6ms\n",
      "Speed: 2.5ms preprocess, 76.6ms inference, 0.7ms postprocess per image at shape (1, 3, 480, 640)\n",
      "\n",
      "0: 480x640 2 licenses, 75.1ms\n",
      "Speed: 3.0ms preprocess, 75.1ms inference, 0.5ms postprocess per image at shape (1, 3, 480, 640)\n",
      "\n",
      "0: 480x640 1 person, 17 cars, 1 bus, 3 trucks, 79.6ms\n",
      "Speed: 2.4ms preprocess, 79.6ms inference, 0.7ms postprocess per image at shape (1, 3, 480, 640)\n",
      "\n",
      "0: 480x640 2 licenses, 81.2ms\n",
      "Speed: 2.4ms preprocess, 81.2ms inference, 0.6ms postprocess per image at shape (1, 3, 480, 640)\n",
      "\n",
      "0: 480x640 1 person, 20 cars, 2 trucks, 78.7ms\n",
      "Speed: 2.4ms preprocess, 78.7ms inference, 0.8ms postprocess per image at shape (1, 3, 480, 640)\n",
      "\n",
      "0: 480x640 2 licenses, 76.3ms\n",
      "Speed: 2.8ms preprocess, 76.3ms inference, 0.8ms postprocess per image at shape (1, 3, 480, 640)\n",
      "\n",
      "0: 480x640 1 person, 19 cars, 2 trucks, 74.6ms\n",
      "Speed: 2.4ms preprocess, 74.6ms inference, 1.2ms postprocess per image at shape (1, 3, 480, 640)\n",
      "\n",
      "0: 480x640 2 licenses, 77.4ms\n",
      "Speed: 2.7ms preprocess, 77.4ms inference, 1.1ms postprocess per image at shape (1, 3, 480, 640)\n",
      "\n",
      "0: 480x640 1 person, 20 cars, 2 trucks, 77.6ms\n",
      "Speed: 2.3ms preprocess, 77.6ms inference, 0.7ms postprocess per image at shape (1, 3, 480, 640)\n",
      "\n",
      "0: 480x640 2 licenses, 74.8ms\n",
      "Speed: 2.4ms preprocess, 74.8ms inference, 0.8ms postprocess per image at shape (1, 3, 480, 640)\n",
      "\n",
      "0: 480x640 1 person, 19 cars, 2 trucks, 79.7ms\n",
      "Speed: 2.5ms preprocess, 79.7ms inference, 0.7ms postprocess per image at shape (1, 3, 480, 640)\n",
      "\n",
      "0: 480x640 2 licenses, 80.4ms\n",
      "Speed: 2.4ms preprocess, 80.4ms inference, 0.6ms postprocess per image at shape (1, 3, 480, 640)\n",
      "\n",
      "0: 480x640 1 person, 17 cars, 2 trucks, 79.5ms\n",
      "Speed: 2.4ms preprocess, 79.5ms inference, 0.7ms postprocess per image at shape (1, 3, 480, 640)\n",
      "\n",
      "0: 480x640 2 licenses, 74.9ms\n",
      "Speed: 2.8ms preprocess, 74.9ms inference, 0.5ms postprocess per image at shape (1, 3, 480, 640)\n"
     ]
    },
    {
     "name": "stdout",
     "output_type": "stream",
     "text": [
      "Error: results_list is empty or contains tuples without a second element.\n"
     ]
    },
    {
     "name": "stderr",
     "output_type": "stream",
     "text": [
      "\n",
      "0: 480x640 1 person, 17 cars, 2 trucks, 120.8ms\n",
      "Speed: 2.4ms preprocess, 120.8ms inference, 0.8ms postprocess per image at shape (1, 3, 480, 640)\n",
      "\n",
      "0: 480x640 2 licenses, 108.1ms\n",
      "Speed: 2.8ms preprocess, 108.1ms inference, 0.9ms postprocess per image at shape (1, 3, 480, 640)\n"
     ]
    },
    {
     "name": "stdout",
     "output_type": "stream",
     "text": [
      "Error: results_list is empty or contains tuples without a second element.\n"
     ]
    },
    {
     "name": "stderr",
     "output_type": "stream",
     "text": [
      "\n",
      "0: 480x640 1 person, 16 cars, 1 bus, 2 trucks, 87.0ms\n",
      "Speed: 2.6ms preprocess, 87.0ms inference, 1.1ms postprocess per image at shape (1, 3, 480, 640)\n",
      "\n",
      "0: 480x640 2 licenses, 79.1ms\n",
      "Speed: 2.7ms preprocess, 79.1ms inference, 0.6ms postprocess per image at shape (1, 3, 480, 640)\n"
     ]
    },
    {
     "name": "stdout",
     "output_type": "stream",
     "text": [
      "Error: results_list is empty or contains tuples without a second element.\n"
     ]
    },
    {
     "name": "stderr",
     "output_type": "stream",
     "text": [
      "\n",
      "0: 480x640 1 person, 16 cars, 1 bus, 2 trucks, 111.1ms\n",
      "Speed: 2.7ms preprocess, 111.1ms inference, 1.4ms postprocess per image at shape (1, 3, 480, 640)\n",
      "\n",
      "0: 480x640 2 licenses, 145.8ms\n",
      "Speed: 4.7ms preprocess, 145.8ms inference, 1.2ms postprocess per image at shape (1, 3, 480, 640)\n"
     ]
    },
    {
     "name": "stdout",
     "output_type": "stream",
     "text": [
      "Error: results_list is empty or contains tuples without a second element.\n"
     ]
    },
    {
     "name": "stderr",
     "output_type": "stream",
     "text": [
      "\n",
      "0: 480x640 16 cars, 2 trucks, 82.8ms\n",
      "Speed: 2.4ms preprocess, 82.8ms inference, 0.7ms postprocess per image at shape (1, 3, 480, 640)\n",
      "\n",
      "0: 480x640 2 licenses, 81.4ms\n",
      "Speed: 3.3ms preprocess, 81.4ms inference, 0.9ms postprocess per image at shape (1, 3, 480, 640)\n",
      "\n",
      "0: 480x640 16 cars, 2 trucks, 77.1ms\n",
      "Speed: 2.5ms preprocess, 77.1ms inference, 0.7ms postprocess per image at shape (1, 3, 480, 640)\n",
      "\n",
      "0: 480x640 2 licenses, 77.8ms\n",
      "Speed: 2.4ms preprocess, 77.8ms inference, 0.6ms postprocess per image at shape (1, 3, 480, 640)\n",
      "\n",
      "0: 480x640 1 person, 18 cars, 1 bus, 2 trucks, 77.3ms\n",
      "Speed: 2.4ms preprocess, 77.3ms inference, 1.0ms postprocess per image at shape (1, 3, 480, 640)\n",
      "\n",
      "0: 480x640 2 licenses, 76.0ms\n",
      "Speed: 2.5ms preprocess, 76.0ms inference, 0.5ms postprocess per image at shape (1, 3, 480, 640)\n",
      "\n",
      "0: 480x640 1 person, 18 cars, 1 bus, 2 trucks, 77.6ms\n",
      "Speed: 2.4ms preprocess, 77.6ms inference, 0.7ms postprocess per image at shape (1, 3, 480, 640)\n",
      "\n",
      "0: 480x640 2 licenses, 79.9ms\n",
      "Speed: 2.9ms preprocess, 79.9ms inference, 0.6ms postprocess per image at shape (1, 3, 480, 640)\n",
      "\n",
      "0: 480x640 2 persons, 17 cars, 1 bus, 3 trucks, 77.0ms\n",
      "Speed: 2.7ms preprocess, 77.0ms inference, 0.7ms postprocess per image at shape (1, 3, 480, 640)\n",
      "\n",
      "0: 480x640 2 licenses, 77.7ms\n",
      "Speed: 2.8ms preprocess, 77.7ms inference, 0.6ms postprocess per image at shape (1, 3, 480, 640)\n",
      "\n",
      "0: 480x640 2 persons, 17 cars, 1 bus, 3 trucks, 82.3ms\n",
      "Speed: 2.3ms preprocess, 82.3ms inference, 0.8ms postprocess per image at shape (1, 3, 480, 640)\n",
      "\n",
      "0: 480x640 2 licenses, 81.8ms\n",
      "Speed: 3.2ms preprocess, 81.8ms inference, 0.6ms postprocess per image at shape (1, 3, 480, 640)\n",
      "\n",
      "0: 480x640 1 person, 19 cars, 1 bus, 2 trucks, 81.2ms\n",
      "Speed: 2.4ms preprocess, 81.2ms inference, 0.8ms postprocess per image at shape (1, 3, 480, 640)\n",
      "\n",
      "0: 480x640 2 licenses, 82.4ms\n",
      "Speed: 3.4ms preprocess, 82.4ms inference, 0.6ms postprocess per image at shape (1, 3, 480, 640)\n",
      "\n",
      "0: 480x640 1 person, 19 cars, 1 bus, 2 trucks, 79.8ms\n",
      "Speed: 2.4ms preprocess, 79.8ms inference, 0.7ms postprocess per image at shape (1, 3, 480, 640)\n",
      "\n",
      "0: 480x640 2 licenses, 82.0ms\n",
      "Speed: 2.9ms preprocess, 82.0ms inference, 0.6ms postprocess per image at shape (1, 3, 480, 640)\n",
      "\n",
      "0: 480x640 1 person, 17 cars, 1 bus, 2 trucks, 78.7ms\n",
      "Speed: 2.6ms preprocess, 78.7ms inference, 0.8ms postprocess per image at shape (1, 3, 480, 640)\n",
      "\n",
      "0: 480x640 2 licenses, 81.1ms\n",
      "Speed: 2.6ms preprocess, 81.1ms inference, 0.6ms postprocess per image at shape (1, 3, 480, 640)\n",
      "\n",
      "0: 480x640 1 person, 17 cars, 1 bus, 2 trucks, 75.3ms\n",
      "Speed: 2.5ms preprocess, 75.3ms inference, 0.7ms postprocess per image at shape (1, 3, 480, 640)\n",
      "\n",
      "0: 480x640 2 licenses, 82.2ms\n",
      "Speed: 2.3ms preprocess, 82.2ms inference, 0.6ms postprocess per image at shape (1, 3, 480, 640)\n",
      "\n",
      "0: 480x640 1 person, 18 cars, 1 bus, 2 trucks, 79.5ms\n",
      "Speed: 2.9ms preprocess, 79.5ms inference, 1.2ms postprocess per image at shape (1, 3, 480, 640)\n",
      "\n",
      "0: 480x640 2 licenses, 79.3ms\n",
      "Speed: 2.7ms preprocess, 79.3ms inference, 0.6ms postprocess per image at shape (1, 3, 480, 640)\n",
      "\n",
      "0: 480x640 1 person, 18 cars, 1 bus, 2 trucks, 77.5ms\n",
      "Speed: 2.4ms preprocess, 77.5ms inference, 0.7ms postprocess per image at shape (1, 3, 480, 640)\n",
      "\n",
      "0: 480x640 2 licenses, 77.1ms\n",
      "Speed: 2.9ms preprocess, 77.1ms inference, 0.6ms postprocess per image at shape (1, 3, 480, 640)\n",
      "\n",
      "0: 480x640 1 person, 18 cars, 1 bus, 2 trucks, 78.5ms\n",
      "Speed: 2.4ms preprocess, 78.5ms inference, 0.8ms postprocess per image at shape (1, 3, 480, 640)\n",
      "\n",
      "0: 480x640 2 licenses, 79.1ms\n",
      "Speed: 3.1ms preprocess, 79.1ms inference, 0.6ms postprocess per image at shape (1, 3, 480, 640)\n"
     ]
    },
    {
     "name": "stdout",
     "output_type": "stream",
     "text": [
      "Error: results_list is empty or contains tuples without a second element.\n"
     ]
    },
    {
     "name": "stderr",
     "output_type": "stream",
     "text": [
      "\n",
      "0: 480x640 1 person, 18 cars, 1 bus, 2 trucks, 77.3ms\n",
      "Speed: 2.5ms preprocess, 77.3ms inference, 0.7ms postprocess per image at shape (1, 3, 480, 640)\n",
      "\n",
      "0: 480x640 2 licenses, 80.2ms\n",
      "Speed: 2.8ms preprocess, 80.2ms inference, 0.6ms postprocess per image at shape (1, 3, 480, 640)\n",
      "\n",
      "0: 480x640 1 person, 19 cars, 1 bus, 2 trucks, 79.8ms\n",
      "Speed: 2.5ms preprocess, 79.8ms inference, 0.8ms postprocess per image at shape (1, 3, 480, 640)\n",
      "\n",
      "0: 480x640 1 license, 82.3ms\n",
      "Speed: 2.5ms preprocess, 82.3ms inference, 0.6ms postprocess per image at shape (1, 3, 480, 640)\n",
      "\n",
      "0: 480x640 1 person, 19 cars, 1 bus, 2 trucks, 79.7ms\n",
      "Speed: 2.5ms preprocess, 79.7ms inference, 0.7ms postprocess per image at shape (1, 3, 480, 640)\n",
      "\n",
      "0: 480x640 1 license, 79.2ms\n",
      "Speed: 2.4ms preprocess, 79.2ms inference, 0.9ms postprocess per image at shape (1, 3, 480, 640)\n",
      "\n",
      "0: 480x640 1 person, 19 cars, 2 trucks, 80.4ms\n",
      "Speed: 2.8ms preprocess, 80.4ms inference, 0.8ms postprocess per image at shape (1, 3, 480, 640)\n",
      "\n",
      "0: 480x640 1 license, 81.1ms\n",
      "Speed: 3.2ms preprocess, 81.1ms inference, 1.1ms postprocess per image at shape (1, 3, 480, 640)\n",
      "\n",
      "0: 480x640 1 person, 20 cars, 2 trucks, 77.0ms\n",
      "Speed: 2.4ms preprocess, 77.0ms inference, 0.7ms postprocess per image at shape (1, 3, 480, 640)\n",
      "\n",
      "0: 480x640 1 license, 72.6ms\n",
      "Speed: 2.4ms preprocess, 72.6ms inference, 1.1ms postprocess per image at shape (1, 3, 480, 640)\n",
      "\n",
      "0: 480x640 1 person, 18 cars, 2 trucks, 83.1ms\n",
      "Speed: 2.3ms preprocess, 83.1ms inference, 0.8ms postprocess per image at shape (1, 3, 480, 640)\n",
      "\n",
      "0: 480x640 1 license, 80.7ms\n",
      "Speed: 3.2ms preprocess, 80.7ms inference, 0.6ms postprocess per image at shape (1, 3, 480, 640)\n",
      "\n",
      "0: 480x640 1 person, 18 cars, 2 trucks, 76.3ms\n",
      "Speed: 2.4ms preprocess, 76.3ms inference, 0.9ms postprocess per image at shape (1, 3, 480, 640)\n",
      "\n",
      "0: 480x640 1 license, 78.6ms\n",
      "Speed: 3.0ms preprocess, 78.6ms inference, 0.6ms postprocess per image at shape (1, 3, 480, 640)\n",
      "\n",
      "0: 480x640 1 person, 17 cars, 1 bus, 2 trucks, 79.1ms\n",
      "Speed: 2.6ms preprocess, 79.1ms inference, 1.1ms postprocess per image at shape (1, 3, 480, 640)\n",
      "\n",
      "0: 480x640 1 license, 82.4ms\n",
      "Speed: 3.1ms preprocess, 82.4ms inference, 0.6ms postprocess per image at shape (1, 3, 480, 640)\n",
      "\n",
      "0: 480x640 1 person, 17 cars, 1 bus, 2 trucks, 81.0ms\n",
      "Speed: 2.3ms preprocess, 81.0ms inference, 0.7ms postprocess per image at shape (1, 3, 480, 640)\n",
      "\n",
      "0: 480x640 1 license, 81.9ms\n",
      "Speed: 2.6ms preprocess, 81.9ms inference, 0.6ms postprocess per image at shape (1, 3, 480, 640)\n",
      "\n",
      "0: 480x640 1 person, 17 cars, 1 bus, 2 trucks, 79.6ms\n",
      "Speed: 2.4ms preprocess, 79.6ms inference, 0.8ms postprocess per image at shape (1, 3, 480, 640)\n",
      "\n",
      "0: 480x640 1 license, 82.6ms\n",
      "Speed: 3.1ms preprocess, 82.6ms inference, 0.6ms postprocess per image at shape (1, 3, 480, 640)\n",
      "\n",
      "0: 480x640 1 person, 17 cars, 1 bus, 2 trucks, 76.6ms\n",
      "Speed: 2.4ms preprocess, 76.6ms inference, 1.0ms postprocess per image at shape (1, 3, 480, 640)\n",
      "\n",
      "0: 480x640 1 license, 82.1ms\n",
      "Speed: 2.5ms preprocess, 82.1ms inference, 0.6ms postprocess per image at shape (1, 3, 480, 640)\n",
      "\n",
      "0: 480x640 1 person, 16 cars, 1 bus, 2 trucks, 81.0ms\n",
      "Speed: 2.6ms preprocess, 81.0ms inference, 0.8ms postprocess per image at shape (1, 3, 480, 640)\n",
      "\n",
      "0: 480x640 1 license, 83.0ms\n",
      "Speed: 3.3ms preprocess, 83.0ms inference, 0.5ms postprocess per image at shape (1, 3, 480, 640)\n",
      "\n",
      "0: 480x640 1 person, 17 cars, 1 bus, 2 trucks, 80.3ms\n",
      "Speed: 2.4ms preprocess, 80.3ms inference, 0.7ms postprocess per image at shape (1, 3, 480, 640)\n",
      "\n",
      "0: 480x640 1 license, 80.2ms\n",
      "Speed: 2.4ms preprocess, 80.2ms inference, 0.6ms postprocess per image at shape (1, 3, 480, 640)\n",
      "\n",
      "0: 480x640 1 person, 16 cars, 1 bus, 3 trucks, 83.0ms\n",
      "Speed: 2.5ms preprocess, 83.0ms inference, 0.8ms postprocess per image at shape (1, 3, 480, 640)\n",
      "\n",
      "0: 480x640 1 license, 80.2ms\n",
      "Speed: 3.6ms preprocess, 80.2ms inference, 0.6ms postprocess per image at shape (1, 3, 480, 640)\n",
      "\n",
      "0: 480x640 1 person, 16 cars, 1 bus, 3 trucks, 77.4ms\n",
      "Speed: 2.4ms preprocess, 77.4ms inference, 0.7ms postprocess per image at shape (1, 3, 480, 640)\n",
      "\n",
      "0: 480x640 1 license, 79.1ms\n",
      "Speed: 2.4ms preprocess, 79.1ms inference, 0.6ms postprocess per image at shape (1, 3, 480, 640)\n",
      "\n",
      "0: 480x640 1 person, 17 cars, 1 bus, 2 trucks, 79.8ms\n",
      "Speed: 2.5ms preprocess, 79.8ms inference, 0.8ms postprocess per image at shape (1, 3, 480, 640)\n",
      "\n",
      "0: 480x640 1 license, 82.6ms\n",
      "Speed: 2.7ms preprocess, 82.6ms inference, 0.9ms postprocess per image at shape (1, 3, 480, 640)\n",
      "\n",
      "0: 480x640 1 person, 17 cars, 2 trucks, 75.6ms\n",
      "Speed: 2.5ms preprocess, 75.6ms inference, 0.7ms postprocess per image at shape (1, 3, 480, 640)\n",
      "\n",
      "0: 480x640 1 license, 79.3ms\n",
      "Speed: 2.4ms preprocess, 79.3ms inference, 0.6ms postprocess per image at shape (1, 3, 480, 640)\n",
      "\n",
      "0: 480x640 1 person, 17 cars, 2 trucks, 79.5ms\n",
      "Speed: 2.4ms preprocess, 79.5ms inference, 1.2ms postprocess per image at shape (1, 3, 480, 640)\n",
      "\n",
      "0: 480x640 1 license, 81.6ms\n",
      "Speed: 3.3ms preprocess, 81.6ms inference, 0.6ms postprocess per image at shape (1, 3, 480, 640)\n",
      "\n",
      "0: 480x640 1 person, 17 cars, 2 trucks, 78.0ms\n",
      "Speed: 2.4ms preprocess, 78.0ms inference, 0.8ms postprocess per image at shape (1, 3, 480, 640)\n",
      "\n",
      "0: 480x640 1 license, 81.8ms\n",
      "Speed: 2.2ms preprocess, 81.8ms inference, 1.2ms postprocess per image at shape (1, 3, 480, 640)\n",
      "\n",
      "0: 480x640 1 person, 19 cars, 2 trucks, 81.0ms\n",
      "Speed: 2.6ms preprocess, 81.0ms inference, 0.8ms postprocess per image at shape (1, 3, 480, 640)\n",
      "\n",
      "0: 480x640 1 license, 82.0ms\n",
      "Speed: 2.6ms preprocess, 82.0ms inference, 0.6ms postprocess per image at shape (1, 3, 480, 640)\n",
      "\n",
      "0: 480x640 1 person, 19 cars, 2 trucks, 78.6ms\n",
      "Speed: 2.4ms preprocess, 78.6ms inference, 0.7ms postprocess per image at shape (1, 3, 480, 640)\n",
      "\n",
      "0: 480x640 1 license, 80.0ms\n",
      "Speed: 2.9ms preprocess, 80.0ms inference, 0.6ms postprocess per image at shape (1, 3, 480, 640)\n",
      "\n",
      "0: 480x640 1 person, 19 cars, 2 trucks, 79.7ms\n",
      "Speed: 2.5ms preprocess, 79.7ms inference, 0.8ms postprocess per image at shape (1, 3, 480, 640)\n",
      "\n",
      "0: 480x640 1 license, 82.5ms\n",
      "Speed: 2.5ms preprocess, 82.5ms inference, 1.2ms postprocess per image at shape (1, 3, 480, 640)\n",
      "\n",
      "0: 480x640 1 person, 19 cars, 2 trucks, 76.6ms\n",
      "Speed: 2.4ms preprocess, 76.6ms inference, 0.7ms postprocess per image at shape (1, 3, 480, 640)\n",
      "\n",
      "0: 480x640 1 license, 82.5ms\n",
      "Speed: 2.9ms preprocess, 82.5ms inference, 0.6ms postprocess per image at shape (1, 3, 480, 640)\n",
      "\n",
      "0: 480x640 1 person, 20 cars, 2 trucks, 77.8ms\n",
      "Speed: 2.4ms preprocess, 77.8ms inference, 0.8ms postprocess per image at shape (1, 3, 480, 640)\n",
      "\n",
      "0: 480x640 2 licenses, 81.4ms\n",
      "Speed: 3.2ms preprocess, 81.4ms inference, 0.6ms postprocess per image at shape (1, 3, 480, 640)\n",
      "\n",
      "0: 480x640 1 person, 20 cars, 2 trucks, 76.7ms\n",
      "Speed: 2.4ms preprocess, 76.7ms inference, 0.8ms postprocess per image at shape (1, 3, 480, 640)\n",
      "\n",
      "0: 480x640 2 licenses, 76.1ms\n",
      "Speed: 2.9ms preprocess, 76.1ms inference, 0.5ms postprocess per image at shape (1, 3, 480, 640)\n"
     ]
    },
    {
     "name": "stdout",
     "output_type": "stream",
     "text": [
      "Error: results_list is empty or contains tuples without a second element.\n"
     ]
    },
    {
     "name": "stderr",
     "output_type": "stream",
     "text": [
      "\n",
      "0: 480x640 1 person, 19 cars, 1 bus, 2 trucks, 81.4ms\n",
      "Speed: 3.1ms preprocess, 81.4ms inference, 0.7ms postprocess per image at shape (1, 3, 480, 640)\n",
      "\n",
      "0: 480x640 1 license, 77.3ms\n",
      "Speed: 3.0ms preprocess, 77.3ms inference, 0.5ms postprocess per image at shape (1, 3, 480, 640)\n"
     ]
    },
    {
     "name": "stdout",
     "output_type": "stream",
     "text": [
      "Error: results_list is empty or contains tuples without a second element.\n"
     ]
    },
    {
     "name": "stderr",
     "output_type": "stream",
     "text": [
      "\n",
      "0: 480x640 1 person, 17 cars, 1 bus, 2 trucks, 90.2ms\n",
      "Speed: 2.7ms preprocess, 90.2ms inference, 0.8ms postprocess per image at shape (1, 3, 480, 640)\n",
      "\n",
      "0: 480x640 1 license, 89.2ms\n",
      "Speed: 3.2ms preprocess, 89.2ms inference, 0.6ms postprocess per image at shape (1, 3, 480, 640)\n",
      "\n",
      "0: 480x640 1 person, 18 cars, 1 bus, 3 trucks, 77.4ms\n",
      "Speed: 2.5ms preprocess, 77.4ms inference, 0.8ms postprocess per image at shape (1, 3, 480, 640)\n",
      "\n",
      "0: 480x640 1 license, 83.0ms\n",
      "Speed: 2.9ms preprocess, 83.0ms inference, 0.5ms postprocess per image at shape (1, 3, 480, 640)\n",
      "\n",
      "0: 480x640 1 person, 18 cars, 1 bus, 3 trucks, 79.7ms\n",
      "Speed: 2.4ms preprocess, 79.7ms inference, 1.0ms postprocess per image at shape (1, 3, 480, 640)\n",
      "\n",
      "0: 480x640 1 license, 81.2ms\n",
      "Speed: 3.0ms preprocess, 81.2ms inference, 0.8ms postprocess per image at shape (1, 3, 480, 640)\n",
      "\n",
      "0: 480x640 1 person, 18 cars, 1 bus, 2 trucks, 78.1ms\n",
      "Speed: 2.4ms preprocess, 78.1ms inference, 1.2ms postprocess per image at shape (1, 3, 480, 640)\n",
      "\n",
      "0: 480x640 1 license, 86.7ms\n",
      "Speed: 2.9ms preprocess, 86.7ms inference, 0.6ms postprocess per image at shape (1, 3, 480, 640)\n",
      "\n",
      "0: 480x640 1 person, 18 cars, 1 bus, 2 trucks, 77.9ms\n",
      "Speed: 2.5ms preprocess, 77.9ms inference, 1.0ms postprocess per image at shape (1, 3, 480, 640)\n",
      "\n",
      "0: 480x640 1 license, 76.6ms\n",
      "Speed: 2.9ms preprocess, 76.6ms inference, 0.9ms postprocess per image at shape (1, 3, 480, 640)\n",
      "\n",
      "0: 480x640 1 person, 18 cars, 1 bus, 3 trucks, 101.2ms\n",
      "Speed: 3.2ms preprocess, 101.2ms inference, 1.1ms postprocess per image at shape (1, 3, 480, 640)\n",
      "\n",
      "0: 480x640 1 license, 103.1ms\n",
      "Speed: 4.3ms preprocess, 103.1ms inference, 0.8ms postprocess per image at shape (1, 3, 480, 640)\n",
      "\n",
      "0: 480x640 1 person, 18 cars, 1 bus, 3 trucks, 79.2ms\n",
      "Speed: 2.5ms preprocess, 79.2ms inference, 0.8ms postprocess per image at shape (1, 3, 480, 640)\n",
      "\n",
      "0: 480x640 1 license, 74.6ms\n",
      "Speed: 2.4ms preprocess, 74.6ms inference, 0.6ms postprocess per image at shape (1, 3, 480, 640)\n",
      "\n",
      "0: 480x640 1 person, 18 cars, 1 bus, 3 trucks, 79.3ms\n",
      "Speed: 2.4ms preprocess, 79.3ms inference, 1.2ms postprocess per image at shape (1, 3, 480, 640)\n",
      "\n",
      "0: 480x640 2 licenses, 78.1ms\n",
      "Speed: 2.6ms preprocess, 78.1ms inference, 1.0ms postprocess per image at shape (1, 3, 480, 640)\n",
      "\n",
      "0: 480x640 1 person, 18 cars, 1 bus, 3 trucks, 76.7ms\n",
      "Speed: 2.4ms preprocess, 76.7ms inference, 0.7ms postprocess per image at shape (1, 3, 480, 640)\n",
      "\n",
      "0: 480x640 2 licenses, 76.2ms\n",
      "Speed: 2.5ms preprocess, 76.2ms inference, 0.5ms postprocess per image at shape (1, 3, 480, 640)\n"
     ]
    },
    {
     "name": "stdout",
     "output_type": "stream",
     "text": [
      "Error: results_list is empty or contains tuples without a second element.\n"
     ]
    },
    {
     "name": "stderr",
     "output_type": "stream",
     "text": [
      "\n",
      "0: 480x640 1 person, 16 cars, 1 bus, 3 trucks, 77.0ms\n",
      "Speed: 2.4ms preprocess, 77.0ms inference, 0.8ms postprocess per image at shape (1, 3, 480, 640)\n",
      "\n",
      "0: 480x640 1 license, 72.3ms\n",
      "Speed: 2.9ms preprocess, 72.3ms inference, 0.8ms postprocess per image at shape (1, 3, 480, 640)\n"
     ]
    },
    {
     "name": "stdout",
     "output_type": "stream",
     "text": [
      "Error: results_list is empty or contains tuples without a second element.\n"
     ]
    },
    {
     "name": "stderr",
     "output_type": "stream",
     "text": [
      "\n",
      "0: 480x640 1 person, 16 cars, 1 bus, 3 trucks, 83.7ms\n",
      "Speed: 2.4ms preprocess, 83.7ms inference, 1.1ms postprocess per image at shape (1, 3, 480, 640)\n",
      "\n",
      "0: 480x640 1 license, 82.8ms\n",
      "Speed: 3.1ms preprocess, 82.8ms inference, 0.7ms postprocess per image at shape (1, 3, 480, 640)\n",
      "\n",
      "0: 480x640 1 person, 15 cars, 1 bus, 3 trucks, 80.1ms\n",
      "Speed: 3.5ms preprocess, 80.1ms inference, 0.8ms postprocess per image at shape (1, 3, 480, 640)\n",
      "\n",
      "0: 480x640 1 license, 81.3ms\n",
      "Speed: 2.9ms preprocess, 81.3ms inference, 0.6ms postprocess per image at shape (1, 3, 480, 640)\n",
      "\n",
      "0: 480x640 1 person, 17 cars, 1 bus, 3 trucks, 77.6ms\n",
      "Speed: 2.3ms preprocess, 77.6ms inference, 0.8ms postprocess per image at shape (1, 3, 480, 640)\n",
      "\n",
      "0: 480x640 1 license, 80.8ms\n",
      "Speed: 3.1ms preprocess, 80.8ms inference, 0.6ms postprocess per image at shape (1, 3, 480, 640)\n",
      "\n",
      "0: 480x640 1 person, 16 cars, 1 bus, 3 trucks, 76.0ms\n",
      "Speed: 2.5ms preprocess, 76.0ms inference, 0.7ms postprocess per image at shape (1, 3, 480, 640)\n",
      "\n",
      "0: 480x640 1 license, 76.4ms\n",
      "Speed: 2.8ms preprocess, 76.4ms inference, 0.5ms postprocess per image at shape (1, 3, 480, 640)\n",
      "\n",
      "0: 480x640 1 person, 16 cars, 1 bus, 3 trucks, 84.2ms\n",
      "Speed: 2.6ms preprocess, 84.2ms inference, 0.8ms postprocess per image at shape (1, 3, 480, 640)\n",
      "\n",
      "0: 480x640 1 license, 80.0ms\n",
      "Speed: 2.6ms preprocess, 80.0ms inference, 1.0ms postprocess per image at shape (1, 3, 480, 640)\n",
      "\n",
      "0: 480x640 1 person, 18 cars, 1 bus, 3 trucks, 72.6ms\n",
      "Speed: 2.3ms preprocess, 72.6ms inference, 0.7ms postprocess per image at shape (1, 3, 480, 640)\n",
      "\n",
      "0: 480x640 1 license, 77.7ms\n",
      "Speed: 2.5ms preprocess, 77.7ms inference, 0.5ms postprocess per image at shape (1, 3, 480, 640)\n",
      "\n",
      "0: 480x640 1 person, 16 cars, 1 bus, 3 trucks, 77.6ms\n",
      "Speed: 2.7ms preprocess, 77.6ms inference, 0.7ms postprocess per image at shape (1, 3, 480, 640)\n",
      "\n",
      "0: 480x640 1 license, 79.6ms\n",
      "Speed: 2.4ms preprocess, 79.6ms inference, 1.0ms postprocess per image at shape (1, 3, 480, 640)\n",
      "\n",
      "0: 480x640 1 person, 17 cars, 1 bus, 2 trucks, 78.7ms\n",
      "Speed: 2.3ms preprocess, 78.7ms inference, 0.8ms postprocess per image at shape (1, 3, 480, 640)\n",
      "\n",
      "0: 480x640 1 license, 81.9ms\n",
      "Speed: 3.1ms preprocess, 81.9ms inference, 0.6ms postprocess per image at shape (1, 3, 480, 640)\n",
      "\n",
      "0: 480x640 1 person, 16 cars, 1 bus, 2 trucks, 78.6ms\n",
      "Speed: 2.5ms preprocess, 78.6ms inference, 0.7ms postprocess per image at shape (1, 3, 480, 640)\n",
      "\n",
      "0: 480x640 1 license, 80.0ms\n",
      "Speed: 2.9ms preprocess, 80.0ms inference, 0.6ms postprocess per image at shape (1, 3, 480, 640)\n",
      "\n",
      "0: 480x640 1 person, 18 cars, 1 bus, 2 trucks, 81.4ms\n",
      "Speed: 2.4ms preprocess, 81.4ms inference, 0.8ms postprocess per image at shape (1, 3, 480, 640)\n",
      "\n",
      "0: 480x640 1 license, 84.0ms\n",
      "Speed: 2.9ms preprocess, 84.0ms inference, 1.0ms postprocess per image at shape (1, 3, 480, 640)\n",
      "\n",
      "0: 480x640 1 person, 17 cars, 1 bus, 2 trucks, 76.0ms\n",
      "Speed: 2.6ms preprocess, 76.0ms inference, 0.7ms postprocess per image at shape (1, 3, 480, 640)\n",
      "\n",
      "0: 480x640 1 license, 80.6ms\n",
      "Speed: 2.4ms preprocess, 80.6ms inference, 0.6ms postprocess per image at shape (1, 3, 480, 640)\n"
     ]
    },
    {
     "name": "stdout",
     "output_type": "stream",
     "text": [
      "Error: results_list is empty or contains tuples without a second element.\n"
     ]
    },
    {
     "name": "stderr",
     "output_type": "stream",
     "text": [
      "\n",
      "0: 480x640 1 person, 15 cars, 1 bus, 2 trucks, 81.1ms\n",
      "Speed: 2.4ms preprocess, 81.1ms inference, 0.8ms postprocess per image at shape (1, 3, 480, 640)\n",
      "\n",
      "0: 480x640 1 license, 81.0ms\n",
      "Speed: 2.7ms preprocess, 81.0ms inference, 0.6ms postprocess per image at shape (1, 3, 480, 640)\n",
      "\n",
      "0: 480x640 1 person, 14 cars, 1 bus, 2 trucks, 81.9ms\n",
      "Speed: 2.6ms preprocess, 81.9ms inference, 0.7ms postprocess per image at shape (1, 3, 480, 640)\n",
      "\n",
      "0: 480x640 1 license, 78.7ms\n",
      "Speed: 2.9ms preprocess, 78.7ms inference, 0.5ms postprocess per image at shape (1, 3, 480, 640)\n",
      "\n",
      "0: 480x640 1 person, 17 cars, 1 bus, 2 trucks, 76.5ms\n",
      "Speed: 2.5ms preprocess, 76.5ms inference, 0.7ms postprocess per image at shape (1, 3, 480, 640)\n",
      "\n",
      "0: 480x640 3 licenses, 77.9ms\n",
      "Speed: 2.8ms preprocess, 77.9ms inference, 0.6ms postprocess per image at shape (1, 3, 480, 640)\n",
      "\n",
      "0: 480x640 1 person, 17 cars, 1 bus, 2 trucks, 76.9ms\n",
      "Speed: 2.4ms preprocess, 76.9ms inference, 1.3ms postprocess per image at shape (1, 3, 480, 640)\n",
      "\n",
      "0: 480x640 3 licenses, 75.8ms\n",
      "Speed: 3.0ms preprocess, 75.8ms inference, 0.5ms postprocess per image at shape (1, 3, 480, 640)\n"
     ]
    },
    {
     "name": "stdout",
     "output_type": "stream",
     "text": [
      "Error: results_list is empty or contains tuples without a second element.\n"
     ]
    },
    {
     "name": "stderr",
     "output_type": "stream",
     "text": [
      "\n",
      "0: 480x640 1 person, 18 cars, 1 bus, 2 trucks, 81.2ms\n",
      "Speed: 2.4ms preprocess, 81.2ms inference, 0.8ms postprocess per image at shape (1, 3, 480, 640)\n",
      "\n",
      "0: 480x640 1 license, 82.1ms\n",
      "Speed: 3.1ms preprocess, 82.1ms inference, 0.6ms postprocess per image at shape (1, 3, 480, 640)\n"
     ]
    },
    {
     "name": "stdout",
     "output_type": "stream",
     "text": [
      "Error: results_list is empty or contains tuples without a second element.\n"
     ]
    },
    {
     "name": "stderr",
     "output_type": "stream",
     "text": [
      "\n",
      "0: 480x640 1 person, 18 cars, 1 bus, 2 trucks, 80.1ms\n",
      "Speed: 2.4ms preprocess, 80.1ms inference, 0.8ms postprocess per image at shape (1, 3, 480, 640)\n",
      "\n",
      "0: 480x640 1 license, 84.0ms\n",
      "Speed: 3.2ms preprocess, 84.0ms inference, 0.9ms postprocess per image at shape (1, 3, 480, 640)\n",
      "\n",
      "0: 480x640 1 person, 19 cars, 2 trucks, 78.7ms\n",
      "Speed: 2.3ms preprocess, 78.7ms inference, 0.7ms postprocess per image at shape (1, 3, 480, 640)\n",
      "\n",
      "0: 480x640 1 license, 82.7ms\n",
      "Speed: 3.2ms preprocess, 82.7ms inference, 0.6ms postprocess per image at shape (1, 3, 480, 640)\n",
      "\n",
      "0: 480x640 1 person, 19 cars, 1 bus, 2 trucks, 78.3ms\n",
      "Speed: 3.3ms preprocess, 78.3ms inference, 0.7ms postprocess per image at shape (1, 3, 480, 640)\n",
      "\n",
      "0: 480x640 1 license, 81.5ms\n",
      "Speed: 2.8ms preprocess, 81.5ms inference, 0.6ms postprocess per image at shape (1, 3, 480, 640)\n",
      "\n",
      "0: 480x640 1 person, 19 cars, 1 bus, 3 trucks, 76.7ms\n",
      "Speed: 2.5ms preprocess, 76.7ms inference, 0.9ms postprocess per image at shape (1, 3, 480, 640)\n",
      "\n",
      "0: 480x640 1 license, 81.7ms\n",
      "Speed: 3.2ms preprocess, 81.7ms inference, 0.6ms postprocess per image at shape (1, 3, 480, 640)\n",
      "\n",
      "0: 480x640 1 person, 20 cars, 1 bus, 3 trucks, 79.1ms\n",
      "Speed: 2.5ms preprocess, 79.1ms inference, 0.7ms postprocess per image at shape (1, 3, 480, 640)\n",
      "\n",
      "0: 480x640 1 license, 83.2ms\n",
      "Speed: 2.4ms preprocess, 83.2ms inference, 0.6ms postprocess per image at shape (1, 3, 480, 640)\n",
      "\n",
      "0: 480x640 1 person, 16 cars, 3 buss, 2 trucks, 78.1ms\n",
      "Speed: 2.4ms preprocess, 78.1ms inference, 0.8ms postprocess per image at shape (1, 3, 480, 640)\n",
      "\n",
      "0: 480x640 1 license, 84.5ms\n",
      "Speed: 3.2ms preprocess, 84.5ms inference, 0.6ms postprocess per image at shape (1, 3, 480, 640)\n",
      "\n",
      "0: 480x640 1 person, 16 cars, 3 buss, 2 trucks, 75.1ms\n",
      "Speed: 2.5ms preprocess, 75.1ms inference, 0.7ms postprocess per image at shape (1, 3, 480, 640)\n",
      "\n",
      "0: 480x640 1 license, 81.7ms\n",
      "Speed: 3.3ms preprocess, 81.7ms inference, 0.6ms postprocess per image at shape (1, 3, 480, 640)\n",
      "\n",
      "0: 480x640 1 person, 15 cars, 2 buss, 2 trucks, 77.9ms\n",
      "Speed: 2.4ms preprocess, 77.9ms inference, 0.7ms postprocess per image at shape (1, 3, 480, 640)\n",
      "\n",
      "0: 480x640 1 license, 83.8ms\n",
      "Speed: 2.9ms preprocess, 83.8ms inference, 0.6ms postprocess per image at shape (1, 3, 480, 640)\n",
      "\n",
      "0: 480x640 1 person, 16 cars, 2 buss, 2 trucks, 77.7ms\n",
      "Speed: 2.7ms preprocess, 77.7ms inference, 0.7ms postprocess per image at shape (1, 3, 480, 640)\n",
      "\n",
      "0: 480x640 1 license, 83.2ms\n",
      "Speed: 2.6ms preprocess, 83.2ms inference, 0.6ms postprocess per image at shape (1, 3, 480, 640)\n",
      "\n",
      "0: 480x640 1 person, 18 cars, 2 buss, 2 trucks, 75.0ms\n",
      "Speed: 2.4ms preprocess, 75.0ms inference, 0.7ms postprocess per image at shape (1, 3, 480, 640)\n",
      "\n",
      "0: 480x640 1 license, 84.0ms\n",
      "Speed: 2.8ms preprocess, 84.0ms inference, 0.6ms postprocess per image at shape (1, 3, 480, 640)\n",
      "\n",
      "0: 480x640 1 person, 18 cars, 2 buss, 2 trucks, 79.1ms\n",
      "Speed: 2.4ms preprocess, 79.1ms inference, 0.7ms postprocess per image at shape (1, 3, 480, 640)\n",
      "\n",
      "0: 480x640 1 license, 79.5ms\n",
      "Speed: 2.4ms preprocess, 79.5ms inference, 0.6ms postprocess per image at shape (1, 3, 480, 640)\n",
      "\n",
      "0: 480x640 1 person, 18 cars, 1 bus, 3 trucks, 78.7ms\n",
      "Speed: 2.4ms preprocess, 78.7ms inference, 0.7ms postprocess per image at shape (1, 3, 480, 640)\n",
      "\n",
      "0: 480x640 1 license, 82.2ms\n",
      "Speed: 2.8ms preprocess, 82.2ms inference, 0.6ms postprocess per image at shape (1, 3, 480, 640)\n",
      "\n",
      "0: 480x640 1 person, 19 cars, 1 bus, 3 trucks, 77.3ms\n",
      "Speed: 2.5ms preprocess, 77.3ms inference, 0.7ms postprocess per image at shape (1, 3, 480, 640)\n",
      "\n",
      "0: 480x640 1 license, 80.5ms\n",
      "Speed: 2.4ms preprocess, 80.5ms inference, 0.8ms postprocess per image at shape (1, 3, 480, 640)\n",
      "\n",
      "0: 480x640 1 person, 19 cars, 1 bus, 3 trucks, 81.6ms\n",
      "Speed: 2.5ms preprocess, 81.6ms inference, 0.7ms postprocess per image at shape (1, 3, 480, 640)\n",
      "\n",
      "0: 480x640 1 license, 81.4ms\n",
      "Speed: 2.9ms preprocess, 81.4ms inference, 0.5ms postprocess per image at shape (1, 3, 480, 640)\n",
      "\n",
      "0: 480x640 1 person, 19 cars, 1 bus, 3 trucks, 77.3ms\n",
      "Speed: 2.4ms preprocess, 77.3ms inference, 0.7ms postprocess per image at shape (1, 3, 480, 640)\n",
      "\n",
      "0: 480x640 1 license, 79.6ms\n",
      "Speed: 3.4ms preprocess, 79.6ms inference, 0.6ms postprocess per image at shape (1, 3, 480, 640)\n",
      "\n",
      "0: 480x640 1 person, 22 cars, 1 bus, 3 trucks, 78.3ms\n",
      "Speed: 2.5ms preprocess, 78.3ms inference, 0.7ms postprocess per image at shape (1, 3, 480, 640)\n",
      "\n",
      "0: 480x640 1 license, 82.8ms\n",
      "Speed: 2.8ms preprocess, 82.8ms inference, 0.6ms postprocess per image at shape (1, 3, 480, 640)\n",
      "\n",
      "0: 480x640 1 person, 22 cars, 1 bus, 2 trucks, 79.1ms\n",
      "Speed: 2.4ms preprocess, 79.1ms inference, 1.1ms postprocess per image at shape (1, 3, 480, 640)\n",
      "\n",
      "0: 480x640 1 license, 83.9ms\n",
      "Speed: 2.9ms preprocess, 83.9ms inference, 0.6ms postprocess per image at shape (1, 3, 480, 640)\n",
      "\n",
      "0: 480x640 1 person, 22 cars, 1 bus, 2 trucks, 76.6ms\n",
      "Speed: 2.4ms preprocess, 76.6ms inference, 0.7ms postprocess per image at shape (1, 3, 480, 640)\n",
      "\n",
      "0: 480x640 1 license, 83.9ms\n",
      "Speed: 2.4ms preprocess, 83.9ms inference, 0.5ms postprocess per image at shape (1, 3, 480, 640)\n",
      "\n",
      "0: 480x640 1 person, 21 cars, 1 bus, 2 trucks, 121.0ms\n",
      "Speed: 2.3ms preprocess, 121.0ms inference, 0.8ms postprocess per image at shape (1, 3, 480, 640)\n",
      "\n",
      "0: 480x640 1 license, 98.9ms\n",
      "Speed: 2.6ms preprocess, 98.9ms inference, 0.7ms postprocess per image at shape (1, 3, 480, 640)\n",
      "\n",
      "0: 480x640 1 person, 19 cars, 1 bus, 2 trucks, 76.8ms\n",
      "Speed: 2.8ms preprocess, 76.8ms inference, 0.7ms postprocess per image at shape (1, 3, 480, 640)\n",
      "\n",
      "0: 480x640 1 license, 75.3ms\n",
      "Speed: 2.9ms preprocess, 75.3ms inference, 0.6ms postprocess per image at shape (1, 3, 480, 640)\n",
      "\n",
      "0: 480x640 1 person, 19 cars, 1 bus, 2 trucks, 82.5ms\n",
      "Speed: 2.5ms preprocess, 82.5ms inference, 0.8ms postprocess per image at shape (1, 3, 480, 640)\n",
      "\n",
      "0: 480x640 1 license, 83.8ms\n",
      "Speed: 3.2ms preprocess, 83.8ms inference, 0.6ms postprocess per image at shape (1, 3, 480, 640)\n",
      "\n",
      "0: 480x640 1 person, 18 cars, 1 bus, 2 trucks, 77.3ms\n",
      "Speed: 2.4ms preprocess, 77.3ms inference, 0.7ms postprocess per image at shape (1, 3, 480, 640)\n",
      "\n",
      "0: 480x640 1 license, 81.8ms\n",
      "Speed: 2.4ms preprocess, 81.8ms inference, 0.6ms postprocess per image at shape (1, 3, 480, 640)\n",
      "\n",
      "0: 480x640 1 person, 17 cars, 1 bus, 2 trucks, 81.9ms\n",
      "Speed: 2.4ms preprocess, 81.9ms inference, 0.8ms postprocess per image at shape (1, 3, 480, 640)\n",
      "\n",
      "0: 480x640 1 license, 82.5ms\n",
      "Speed: 3.3ms preprocess, 82.5ms inference, 0.6ms postprocess per image at shape (1, 3, 480, 640)\n",
      "\n",
      "0: 480x640 1 person, 16 cars, 2 buss, 2 trucks, 78.4ms\n",
      "Speed: 2.6ms preprocess, 78.4ms inference, 0.7ms postprocess per image at shape (1, 3, 480, 640)\n",
      "\n",
      "0: 480x640 1 license, 84.5ms\n",
      "Speed: 2.5ms preprocess, 84.5ms inference, 0.6ms postprocess per image at shape (1, 3, 480, 640)\n",
      "\n",
      "0: 480x640 1 person, 16 cars, 2 buss, 2 trucks, 81.0ms\n",
      "Speed: 2.4ms preprocess, 81.0ms inference, 0.8ms postprocess per image at shape (1, 3, 480, 640)\n",
      "\n",
      "0: 480x640 1 license, 83.1ms\n",
      "Speed: 2.7ms preprocess, 83.1ms inference, 0.6ms postprocess per image at shape (1, 3, 480, 640)\n",
      "\n",
      "0: 480x640 1 person, 16 cars, 1 bus, 2 trucks, 77.2ms\n",
      "Speed: 2.4ms preprocess, 77.2ms inference, 0.7ms postprocess per image at shape (1, 3, 480, 640)\n",
      "\n",
      "0: 480x640 1 license, 80.0ms\n",
      "Speed: 2.8ms preprocess, 80.0ms inference, 0.5ms postprocess per image at shape (1, 3, 480, 640)\n",
      "\n",
      "0: 480x640 1 person, 16 cars, 1 bus, 2 trucks, 79.1ms\n",
      "Speed: 2.4ms preprocess, 79.1ms inference, 0.8ms postprocess per image at shape (1, 3, 480, 640)\n",
      "\n",
      "0: 480x640 1 license, 84.3ms\n",
      "Speed: 3.3ms preprocess, 84.3ms inference, 0.6ms postprocess per image at shape (1, 3, 480, 640)\n",
      "\n",
      "0: 480x640 1 person, 16 cars, 2 buss, 2 trucks, 78.6ms\n",
      "Speed: 2.4ms preprocess, 78.6ms inference, 1.0ms postprocess per image at shape (1, 3, 480, 640)\n",
      "\n",
      "0: 480x640 1 license, 82.6ms\n",
      "Speed: 3.0ms preprocess, 82.6ms inference, 0.6ms postprocess per image at shape (1, 3, 480, 640)\n",
      "\n",
      "0: 480x640 1 person, 16 cars, 2 buss, 2 trucks, 80.8ms\n",
      "Speed: 2.4ms preprocess, 80.8ms inference, 0.8ms postprocess per image at shape (1, 3, 480, 640)\n",
      "\n",
      "0: 480x640 1 license, 83.7ms\n",
      "Speed: 3.2ms preprocess, 83.7ms inference, 0.6ms postprocess per image at shape (1, 3, 480, 640)\n",
      "\n",
      "0: 480x640 1 person, 15 cars, 2 buss, 2 trucks, 76.6ms\n",
      "Speed: 2.4ms preprocess, 76.6ms inference, 0.7ms postprocess per image at shape (1, 3, 480, 640)\n",
      "\n",
      "0: 480x640 1 license, 82.9ms\n",
      "Speed: 2.4ms preprocess, 82.9ms inference, 0.5ms postprocess per image at shape (1, 3, 480, 640)\n",
      "\n",
      "0: 480x640 1 person, 15 cars, 2 buss, 2 trucks, 79.4ms\n",
      "Speed: 2.4ms preprocess, 79.4ms inference, 0.8ms postprocess per image at shape (1, 3, 480, 640)\n",
      "\n",
      "0: 480x640 1 license, 82.6ms\n",
      "Speed: 3.2ms preprocess, 82.6ms inference, 0.6ms postprocess per image at shape (1, 3, 480, 640)\n",
      "\n",
      "0: 480x640 1 person, 16 cars, 2 buss, 2 trucks, 75.8ms\n",
      "Speed: 2.4ms preprocess, 75.8ms inference, 1.2ms postprocess per image at shape (1, 3, 480, 640)\n",
      "\n",
      "0: 480x640 1 license, 78.0ms\n",
      "Speed: 2.8ms preprocess, 78.0ms inference, 0.6ms postprocess per image at shape (1, 3, 480, 640)\n",
      "\n",
      "0: 480x640 1 person, 15 cars, 2 buss, 2 trucks, 84.3ms\n",
      "Speed: 2.5ms preprocess, 84.3ms inference, 0.8ms postprocess per image at shape (1, 3, 480, 640)\n",
      "\n",
      "0: 480x640 1 license, 80.7ms\n",
      "Speed: 2.7ms preprocess, 80.7ms inference, 0.6ms postprocess per image at shape (1, 3, 480, 640)\n",
      "\n",
      "0: 480x640 1 person, 15 cars, 2 buss, 3 trucks, 76.7ms\n",
      "Speed: 2.4ms preprocess, 76.7ms inference, 0.7ms postprocess per image at shape (1, 3, 480, 640)\n",
      "\n",
      "0: 480x640 1 license, 81.4ms\n",
      "Speed: 2.4ms preprocess, 81.4ms inference, 0.6ms postprocess per image at shape (1, 3, 480, 640)\n",
      "\n",
      "0: 480x640 1 person, 15 cars, 2 buss, 3 trucks, 81.3ms\n",
      "Speed: 2.5ms preprocess, 81.3ms inference, 1.2ms postprocess per image at shape (1, 3, 480, 640)\n",
      "\n",
      "0: 480x640 1 license, 80.1ms\n",
      "Speed: 2.8ms preprocess, 80.1ms inference, 0.6ms postprocess per image at shape (1, 3, 480, 640)\n",
      "\n",
      "0: 480x640 1 person, 16 cars, 2 buss, 3 trucks, 79.1ms\n",
      "Speed: 2.4ms preprocess, 79.1ms inference, 0.8ms postprocess per image at shape (1, 3, 480, 640)\n",
      "\n",
      "0: 480x640 1 license, 81.2ms\n",
      "Speed: 2.9ms preprocess, 81.2ms inference, 0.6ms postprocess per image at shape (1, 3, 480, 640)\n",
      "\n",
      "0: 480x640 1 person, 16 cars, 2 buss, 3 trucks, 81.1ms\n",
      "Speed: 2.6ms preprocess, 81.1ms inference, 0.8ms postprocess per image at shape (1, 3, 480, 640)\n",
      "\n",
      "0: 480x640 1 license, 81.4ms\n",
      "Speed: 3.2ms preprocess, 81.4ms inference, 0.5ms postprocess per image at shape (1, 3, 480, 640)\n",
      "\n",
      "0: 480x640 1 person, 16 cars, 2 buss, 2 trucks, 76.7ms\n",
      "Speed: 2.5ms preprocess, 76.7ms inference, 0.7ms postprocess per image at shape (1, 3, 480, 640)\n",
      "\n",
      "0: 480x640 1 license, 77.6ms\n",
      "Speed: 2.9ms preprocess, 77.6ms inference, 0.6ms postprocess per image at shape (1, 3, 480, 640)\n",
      "\n",
      "0: 480x640 1 person, 16 cars, 2 buss, 3 trucks, 78.4ms\n",
      "Speed: 2.7ms preprocess, 78.4ms inference, 0.8ms postprocess per image at shape (1, 3, 480, 640)\n",
      "\n",
      "0: 480x640 1 license, 80.5ms\n",
      "Speed: 2.6ms preprocess, 80.5ms inference, 0.8ms postprocess per image at shape (1, 3, 480, 640)\n",
      "\n",
      "0: 480x640 1 person, 15 cars, 2 buss, 2 trucks, 176.3ms\n",
      "Speed: 4.5ms preprocess, 176.3ms inference, 1.3ms postprocess per image at shape (1, 3, 480, 640)\n",
      "\n",
      "0: 480x640 1 license, 161.1ms\n",
      "Speed: 7.8ms preprocess, 161.1ms inference, 1.0ms postprocess per image at shape (1, 3, 480, 640)\n",
      "\n",
      "0: 480x640 1 person, 15 cars, 2 buss, 2 trucks, 90.0ms\n",
      "Speed: 2.6ms preprocess, 90.0ms inference, 0.8ms postprocess per image at shape (1, 3, 480, 640)\n",
      "\n",
      "0: 480x640 1 license, 102.9ms\n",
      "Speed: 3.5ms preprocess, 102.9ms inference, 0.9ms postprocess per image at shape (1, 3, 480, 640)\n",
      "\n",
      "0: 480x640 1 person, 17 cars, 1 bus, 2 trucks, 154.0ms\n",
      "Speed: 4.3ms preprocess, 154.0ms inference, 1.5ms postprocess per image at shape (1, 3, 480, 640)\n",
      "\n",
      "0: 480x640 1 license, 137.6ms\n",
      "Speed: 6.4ms preprocess, 137.6ms inference, 0.9ms postprocess per image at shape (1, 3, 480, 640)\n",
      "\n",
      "0: 480x640 1 person, 17 cars, 1 bus, 2 trucks, 121.5ms\n",
      "Speed: 3.4ms preprocess, 121.5ms inference, 1.1ms postprocess per image at shape (1, 3, 480, 640)\n",
      "\n",
      "0: 480x640 1 license, 119.3ms\n",
      "Speed: 4.2ms preprocess, 119.3ms inference, 0.9ms postprocess per image at shape (1, 3, 480, 640)\n",
      "\n",
      "0: 480x640 1 person, 17 cars, 1 bus, 2 trucks, 118.2ms\n",
      "Speed: 3.5ms preprocess, 118.2ms inference, 1.2ms postprocess per image at shape (1, 3, 480, 640)\n",
      "\n",
      "0: 480x640 1 license, 136.4ms\n",
      "Speed: 4.9ms preprocess, 136.4ms inference, 0.9ms postprocess per image at shape (1, 3, 480, 640)\n",
      "\n",
      "0: 480x640 1 person, 17 cars, 1 bus, 2 trucks, 98.2ms\n",
      "Speed: 3.1ms preprocess, 98.2ms inference, 1.0ms postprocess per image at shape (1, 3, 480, 640)\n",
      "\n",
      "0: 480x640 1 license, 117.1ms\n",
      "Speed: 3.6ms preprocess, 117.1ms inference, 0.9ms postprocess per image at shape (1, 3, 480, 640)\n",
      "\n",
      "0: 480x640 1 person, 18 cars, 1 bus, 4 trucks, 96.8ms\n",
      "Speed: 2.7ms preprocess, 96.8ms inference, 1.0ms postprocess per image at shape (1, 3, 480, 640)\n",
      "\n",
      "0: 480x640 1 license, 120.4ms\n",
      "Speed: 3.6ms preprocess, 120.4ms inference, 1.4ms postprocess per image at shape (1, 3, 480, 640)\n",
      "\n",
      "0: 480x640 1 person, 18 cars, 1 bus, 4 trucks, 90.3ms\n",
      "Speed: 2.7ms preprocess, 90.3ms inference, 0.9ms postprocess per image at shape (1, 3, 480, 640)\n",
      "\n",
      "0: 480x640 1 license, 110.5ms\n",
      "Speed: 3.9ms preprocess, 110.5ms inference, 0.8ms postprocess per image at shape (1, 3, 480, 640)\n",
      "\n",
      "0: 480x640 1 person, 18 cars, 5 trucks, 122.4ms\n",
      "Speed: 3.5ms preprocess, 122.4ms inference, 1.4ms postprocess per image at shape (1, 3, 480, 640)\n",
      "\n",
      "0: 480x640 1 license, 131.8ms\n",
      "Speed: 6.9ms preprocess, 131.8ms inference, 1.8ms postprocess per image at shape (1, 3, 480, 640)\n",
      "\n",
      "0: 480x640 1 person, 18 cars, 4 trucks, 102.4ms\n",
      "Speed: 3.7ms preprocess, 102.4ms inference, 1.0ms postprocess per image at shape (1, 3, 480, 640)\n",
      "\n",
      "0: 480x640 1 license, 112.9ms\n",
      "Speed: 3.4ms preprocess, 112.9ms inference, 0.9ms postprocess per image at shape (1, 3, 480, 640)\n",
      "\n",
      "0: 480x640 1 person, 18 cars, 1 bus, 2 trucks, 131.5ms\n",
      "Speed: 3.6ms preprocess, 131.5ms inference, 1.4ms postprocess per image at shape (1, 3, 480, 640)\n",
      "\n",
      "0: 480x640 1 license, 110.8ms\n",
      "Speed: 4.1ms preprocess, 110.8ms inference, 0.8ms postprocess per image at shape (1, 3, 480, 640)\n",
      "\n",
      "0: 480x640 1 person, 18 cars, 1 bus, 2 trucks, 84.4ms\n",
      "Speed: 2.4ms preprocess, 84.4ms inference, 0.8ms postprocess per image at shape (1, 3, 480, 640)\n",
      "\n",
      "0: 480x640 1 license, 88.4ms\n",
      "Speed: 3.2ms preprocess, 88.4ms inference, 0.8ms postprocess per image at shape (1, 3, 480, 640)\n"
     ]
    },
    {
     "name": "stdout",
     "output_type": "stream",
     "text": [
      "Error: results_list is empty or contains tuples without a second element.\n"
     ]
    },
    {
     "name": "stderr",
     "output_type": "stream",
     "text": [
      "\n",
      "0: 480x640 1 person, 21 cars, 2 buss, 2 trucks, 82.9ms\n",
      "Speed: 2.7ms preprocess, 82.9ms inference, 0.9ms postprocess per image at shape (1, 3, 480, 640)\n",
      "\n",
      "0: 480x640 1 license, 81.8ms\n",
      "Speed: 2.6ms preprocess, 81.8ms inference, 0.7ms postprocess per image at shape (1, 3, 480, 640)\n",
      "\n",
      "0: 480x640 1 person, 21 cars, 2 buss, 2 trucks, 101.8ms\n",
      "Speed: 3.7ms preprocess, 101.8ms inference, 1.1ms postprocess per image at shape (1, 3, 480, 640)\n",
      "\n",
      "0: 480x640 1 license, 98.7ms\n",
      "Speed: 2.9ms preprocess, 98.7ms inference, 0.7ms postprocess per image at shape (1, 3, 480, 640)\n",
      "\n",
      "0: 480x640 1 person, 20 cars, 3 trucks, 109.9ms\n",
      "Speed: 3.7ms preprocess, 109.9ms inference, 1.5ms postprocess per image at shape (1, 3, 480, 640)\n",
      "\n",
      "0: 480x640 1 license, 97.0ms\n",
      "Speed: 4.1ms preprocess, 97.0ms inference, 0.7ms postprocess per image at shape (1, 3, 480, 640)\n",
      "\n",
      "0: 480x640 1 person, 19 cars, 3 trucks, 95.8ms\n",
      "Speed: 3.0ms preprocess, 95.8ms inference, 1.6ms postprocess per image at shape (1, 3, 480, 640)\n",
      "\n",
      "0: 480x640 1 license, 99.1ms\n",
      "Speed: 3.6ms preprocess, 99.1ms inference, 0.8ms postprocess per image at shape (1, 3, 480, 640)\n",
      "\n",
      "0: 480x640 1 person, 22 cars, 1 bus, 3 trucks, 83.1ms\n",
      "Speed: 2.7ms preprocess, 83.1ms inference, 1.0ms postprocess per image at shape (1, 3, 480, 640)\n",
      "\n",
      "0: 480x640 1 license, 101.6ms\n",
      "Speed: 3.6ms preprocess, 101.6ms inference, 0.9ms postprocess per image at shape (1, 3, 480, 640)\n",
      "\n",
      "0: 480x640 1 person, 22 cars, 1 bus, 3 trucks, 85.2ms\n",
      "Speed: 2.8ms preprocess, 85.2ms inference, 0.9ms postprocess per image at shape (1, 3, 480, 640)\n",
      "\n",
      "0: 480x640 1 license, 95.2ms\n",
      "Speed: 3.0ms preprocess, 95.2ms inference, 1.5ms postprocess per image at shape (1, 3, 480, 640)\n",
      "\n",
      "0: 480x640 1 person, 22 cars, 1 bus, 3 trucks, 105.4ms\n",
      "Speed: 3.5ms preprocess, 105.4ms inference, 1.3ms postprocess per image at shape (1, 3, 480, 640)\n",
      "\n",
      "0: 480x640 1 license, 134.0ms\n",
      "Speed: 4.9ms preprocess, 134.0ms inference, 0.9ms postprocess per image at shape (1, 3, 480, 640)\n",
      "\n",
      "0: 480x640 1 person, 22 cars, 1 bus, 3 trucks, 119.3ms\n",
      "Speed: 2.9ms preprocess, 119.3ms inference, 1.3ms postprocess per image at shape (1, 3, 480, 640)\n",
      "\n",
      "0: 480x640 1 license, 113.8ms\n",
      "Speed: 4.2ms preprocess, 113.8ms inference, 0.9ms postprocess per image at shape (1, 3, 480, 640)\n",
      "\n",
      "0: 480x640 20 cars, 1 bus, 3 trucks, 115.2ms\n",
      "Speed: 3.1ms preprocess, 115.2ms inference, 1.2ms postprocess per image at shape (1, 3, 480, 640)\n",
      "\n",
      "0: 480x640 1 license, 139.9ms\n",
      "Speed: 4.4ms preprocess, 139.9ms inference, 1.4ms postprocess per image at shape (1, 3, 480, 640)\n",
      "\n",
      "0: 480x640 20 cars, 1 bus, 3 trucks, 103.5ms\n",
      "Speed: 3.1ms preprocess, 103.5ms inference, 0.8ms postprocess per image at shape (1, 3, 480, 640)\n",
      "\n",
      "0: 480x640 1 license, 125.6ms\n",
      "Speed: 4.8ms preprocess, 125.6ms inference, 0.6ms postprocess per image at shape (1, 3, 480, 640)\n",
      "\n",
      "0: 480x640 1 person, 21 cars, 3 trucks, 119.3ms\n",
      "Speed: 3.5ms preprocess, 119.3ms inference, 1.2ms postprocess per image at shape (1, 3, 480, 640)\n",
      "\n",
      "0: 480x640 1 license, 136.0ms\n",
      "Speed: 4.3ms preprocess, 136.0ms inference, 1.5ms postprocess per image at shape (1, 3, 480, 640)\n",
      "\n",
      "0: 480x640 1 person, 21 cars, 3 trucks, 175.6ms\n",
      "Speed: 4.4ms preprocess, 175.6ms inference, 1.7ms postprocess per image at shape (1, 3, 480, 640)\n",
      "\n",
      "0: 480x640 1 license, 124.2ms\n",
      "Speed: 5.7ms preprocess, 124.2ms inference, 0.9ms postprocess per image at shape (1, 3, 480, 640)\n",
      "\n",
      "0: 480x640 1 person, 21 cars, 1 bus, 3 trucks, 77.5ms\n",
      "Speed: 2.5ms preprocess, 77.5ms inference, 0.8ms postprocess per image at shape (1, 3, 480, 640)\n",
      "\n",
      "0: 480x640 1 license, 83.5ms\n",
      "Speed: 3.1ms preprocess, 83.5ms inference, 0.7ms postprocess per image at shape (1, 3, 480, 640)\n",
      "\n",
      "0: 480x640 1 person, 21 cars, 1 bus, 3 trucks, 97.8ms\n",
      "Speed: 3.8ms preprocess, 97.8ms inference, 1.0ms postprocess per image at shape (1, 3, 480, 640)\n",
      "\n",
      "0: 480x640 1 license, 111.2ms\n",
      "Speed: 4.1ms preprocess, 111.2ms inference, 0.9ms postprocess per image at shape (1, 3, 480, 640)\n",
      "\n",
      "0: 480x640 1 person, 19 cars, 3 trucks, 100.8ms\n",
      "Speed: 2.6ms preprocess, 100.8ms inference, 1.5ms postprocess per image at shape (1, 3, 480, 640)\n",
      "\n",
      "0: 480x640 1 license, 114.2ms\n",
      "Speed: 3.5ms preprocess, 114.2ms inference, 1.0ms postprocess per image at shape (1, 3, 480, 640)\n",
      "\n",
      "0: 480x640 1 person, 19 cars, 3 trucks, 88.6ms\n",
      "Speed: 2.5ms preprocess, 88.6ms inference, 0.8ms postprocess per image at shape (1, 3, 480, 640)\n",
      "\n",
      "0: 480x640 1 license, 85.1ms\n",
      "Speed: 3.2ms preprocess, 85.1ms inference, 0.7ms postprocess per image at shape (1, 3, 480, 640)\n",
      "\n",
      "0: 480x640 1 person, 20 cars, 1 bus, 2 trucks, 79.1ms\n",
      "Speed: 2.8ms preprocess, 79.1ms inference, 0.8ms postprocess per image at shape (1, 3, 480, 640)\n",
      "\n",
      "0: 480x640 1 license, 84.4ms\n",
      "Speed: 3.1ms preprocess, 84.4ms inference, 0.7ms postprocess per image at shape (1, 3, 480, 640)\n",
      "\n",
      "0: 480x640 1 person, 19 cars, 1 bus, 2 trucks, 89.8ms\n",
      "Speed: 2.8ms preprocess, 89.8ms inference, 1.0ms postprocess per image at shape (1, 3, 480, 640)\n",
      "\n",
      "0: 480x640 1 license, 100.7ms\n",
      "Speed: 4.1ms preprocess, 100.7ms inference, 0.7ms postprocess per image at shape (1, 3, 480, 640)\n",
      "\n",
      "0: 480x640 1 person, 19 cars, 1 bus, 3 trucks, 79.5ms\n",
      "Speed: 2.7ms preprocess, 79.5ms inference, 0.9ms postprocess per image at shape (1, 3, 480, 640)\n",
      "\n",
      "0: 480x640 1 license, 87.6ms\n",
      "Speed: 3.5ms preprocess, 87.6ms inference, 0.7ms postprocess per image at shape (1, 3, 480, 640)\n",
      "\n",
      "0: 480x640 1 person, 19 cars, 2 buss, 3 trucks, 93.9ms\n",
      "Speed: 3.1ms preprocess, 93.9ms inference, 1.7ms postprocess per image at shape (1, 3, 480, 640)\n",
      "\n",
      "0: 480x640 1 license, 108.9ms\n",
      "Speed: 3.3ms preprocess, 108.9ms inference, 1.1ms postprocess per image at shape (1, 3, 480, 640)\n",
      "\n",
      "0: 480x640 18 cars, 1 bus, 4 trucks, 88.0ms\n",
      "Speed: 2.7ms preprocess, 88.0ms inference, 0.9ms postprocess per image at shape (1, 3, 480, 640)\n",
      "\n",
      "0: 480x640 1 license, 110.9ms\n",
      "Speed: 4.2ms preprocess, 110.9ms inference, 0.9ms postprocess per image at shape (1, 3, 480, 640)\n",
      "\n",
      "0: 480x640 19 cars, 1 bus, 4 trucks, 90.6ms\n",
      "Speed: 2.7ms preprocess, 90.6ms inference, 1.0ms postprocess per image at shape (1, 3, 480, 640)\n",
      "\n",
      "0: 480x640 1 license, 109.3ms\n",
      "Speed: 3.3ms preprocess, 109.3ms inference, 1.5ms postprocess per image at shape (1, 3, 480, 640)\n",
      "\n",
      "0: 480x640 18 cars, 1 bus, 5 trucks, 81.3ms\n",
      "Speed: 2.6ms preprocess, 81.3ms inference, 1.3ms postprocess per image at shape (1, 3, 480, 640)\n",
      "\n",
      "0: 480x640 1 license, 102.4ms\n",
      "Speed: 3.2ms preprocess, 102.4ms inference, 1.2ms postprocess per image at shape (1, 3, 480, 640)\n",
      "\n",
      "0: 480x640 18 cars, 1 bus, 5 trucks, 80.0ms\n",
      "Speed: 2.8ms preprocess, 80.0ms inference, 0.9ms postprocess per image at shape (1, 3, 480, 640)\n",
      "\n",
      "0: 480x640 1 license, 95.4ms\n",
      "Speed: 3.0ms preprocess, 95.4ms inference, 0.9ms postprocess per image at shape (1, 3, 480, 640)\n",
      "\n",
      "0: 480x640 19 cars, 1 bus, 4 trucks, 94.4ms\n",
      "Speed: 2.6ms preprocess, 94.4ms inference, 1.4ms postprocess per image at shape (1, 3, 480, 640)\n",
      "\n",
      "0: 480x640 1 license, 99.3ms\n",
      "Speed: 3.6ms preprocess, 99.3ms inference, 0.9ms postprocess per image at shape (1, 3, 480, 640)\n",
      "\n",
      "0: 480x640 18 cars, 1 bus, 4 trucks, 94.2ms\n",
      "Speed: 2.7ms preprocess, 94.2ms inference, 1.0ms postprocess per image at shape (1, 3, 480, 640)\n",
      "\n",
      "0: 480x640 1 license, 102.9ms\n",
      "Speed: 4.1ms preprocess, 102.9ms inference, 0.7ms postprocess per image at shape (1, 3, 480, 640)\n",
      "\n",
      "0: 480x640 19 cars, 1 bus, 5 trucks, 90.4ms\n",
      "Speed: 2.6ms preprocess, 90.4ms inference, 1.6ms postprocess per image at shape (1, 3, 480, 640)\n",
      "\n",
      "0: 480x640 1 license, 105.0ms\n",
      "Speed: 3.4ms preprocess, 105.0ms inference, 0.9ms postprocess per image at shape (1, 3, 480, 640)\n",
      "\n",
      "0: 480x640 19 cars, 1 bus, 5 trucks, 86.4ms\n",
      "Speed: 2.6ms preprocess, 86.4ms inference, 1.0ms postprocess per image at shape (1, 3, 480, 640)\n",
      "\n",
      "0: 480x640 1 license, 97.3ms\n",
      "Speed: 4.1ms preprocess, 97.3ms inference, 0.7ms postprocess per image at shape (1, 3, 480, 640)\n",
      "\n",
      "0: 480x640 18 cars, 1 bus, 4 trucks, 82.6ms\n",
      "Speed: 2.7ms preprocess, 82.6ms inference, 0.9ms postprocess per image at shape (1, 3, 480, 640)\n",
      "\n",
      "0: 480x640 1 license, 95.8ms\n",
      "Speed: 3.0ms preprocess, 95.8ms inference, 0.9ms postprocess per image at shape (1, 3, 480, 640)\n",
      "\n",
      "0: 480x640 18 cars, 1 bus, 4 trucks, 77.7ms\n",
      "Speed: 3.0ms preprocess, 77.7ms inference, 0.8ms postprocess per image at shape (1, 3, 480, 640)\n",
      "\n",
      "0: 480x640 1 license, 86.2ms\n",
      "Speed: 2.7ms preprocess, 86.2ms inference, 0.6ms postprocess per image at shape (1, 3, 480, 640)\n",
      "\n",
      "0: 480x640 21 cars, 1 bus, 4 trucks, 96.9ms\n",
      "Speed: 3.4ms preprocess, 96.9ms inference, 1.1ms postprocess per image at shape (1, 3, 480, 640)\n",
      "\n",
      "0: 480x640 1 license, 111.4ms\n",
      "Speed: 3.3ms preprocess, 111.4ms inference, 0.8ms postprocess per image at shape (1, 3, 480, 640)\n",
      "\n",
      "0: 480x640 21 cars, 1 bus, 4 trucks, 100.3ms\n",
      "Speed: 3.1ms preprocess, 100.3ms inference, 1.1ms postprocess per image at shape (1, 3, 480, 640)\n",
      "\n",
      "0: 480x640 1 license, 112.1ms\n",
      "Speed: 3.3ms preprocess, 112.1ms inference, 0.9ms postprocess per image at shape (1, 3, 480, 640)\n",
      "\n",
      "0: 480x640 20 cars, 2 buss, 2 trucks, 88.5ms\n",
      "Speed: 2.9ms preprocess, 88.5ms inference, 1.1ms postprocess per image at shape (1, 3, 480, 640)\n",
      "\n",
      "0: 480x640 1 license, 94.0ms\n",
      "Speed: 3.4ms preprocess, 94.0ms inference, 0.8ms postprocess per image at shape (1, 3, 480, 640)\n",
      "\n",
      "0: 480x640 20 cars, 2 buss, 2 trucks, 80.5ms\n",
      "Speed: 2.9ms preprocess, 80.5ms inference, 0.8ms postprocess per image at shape (1, 3, 480, 640)\n",
      "\n",
      "0: 480x640 1 license, 74.6ms\n",
      "Speed: 3.2ms preprocess, 74.6ms inference, 0.6ms postprocess per image at shape (1, 3, 480, 640)\n",
      "\n",
      "0: 480x640 21 cars, 2 buss, 2 trucks, 82.7ms\n",
      "Speed: 3.2ms preprocess, 82.7ms inference, 0.8ms postprocess per image at shape (1, 3, 480, 640)\n",
      "\n",
      "0: 480x640 2 licenses, 75.3ms\n",
      "Speed: 2.7ms preprocess, 75.3ms inference, 0.6ms postprocess per image at shape (1, 3, 480, 640)\n",
      "\n",
      "0: 480x640 21 cars, 2 buss, 2 trucks, 76.8ms\n",
      "Speed: 2.6ms preprocess, 76.8ms inference, 0.8ms postprocess per image at shape (1, 3, 480, 640)\n",
      "\n",
      "0: 480x640 2 licenses, 77.1ms\n",
      "Speed: 3.1ms preprocess, 77.1ms inference, 0.7ms postprocess per image at shape (1, 3, 480, 640)\n",
      "\n",
      "0: 480x640 22 cars, 2 buss, 3 trucks, 77.7ms\n",
      "Speed: 2.5ms preprocess, 77.7ms inference, 0.8ms postprocess per image at shape (1, 3, 480, 640)\n",
      "\n",
      "0: 480x640 1 license, 78.3ms\n",
      "Speed: 3.1ms preprocess, 78.3ms inference, 0.6ms postprocess per image at shape (1, 3, 480, 640)\n",
      "\n",
      "0: 480x640 22 cars, 2 buss, 4 trucks, 78.9ms\n",
      "Speed: 2.4ms preprocess, 78.9ms inference, 0.8ms postprocess per image at shape (1, 3, 480, 640)\n",
      "\n",
      "0: 480x640 1 license, 75.0ms\n",
      "Speed: 3.2ms preprocess, 75.0ms inference, 0.5ms postprocess per image at shape (1, 3, 480, 640)\n",
      "\n",
      "0: 480x640 20 cars, 2 buss, 4 trucks, 73.5ms\n",
      "Speed: 2.4ms preprocess, 73.5ms inference, 0.8ms postprocess per image at shape (1, 3, 480, 640)\n",
      "\n",
      "0: 480x640 1 license, 74.5ms\n",
      "Speed: 2.4ms preprocess, 74.5ms inference, 0.5ms postprocess per image at shape (1, 3, 480, 640)\n",
      "\n",
      "0: 480x640 21 cars, 2 buss, 4 trucks, 110.8ms\n",
      "Speed: 3.6ms preprocess, 110.8ms inference, 1.1ms postprocess per image at shape (1, 3, 480, 640)\n",
      "\n",
      "0: 480x640 1 license, 98.3ms\n",
      "Speed: 5.2ms preprocess, 98.3ms inference, 1.1ms postprocess per image at shape (1, 3, 480, 640)\n",
      "\n",
      "0: 480x640 21 cars, 1 bus, 3 trucks, 80.0ms\n",
      "Speed: 3.1ms preprocess, 80.0ms inference, 0.8ms postprocess per image at shape (1, 3, 480, 640)\n",
      "\n",
      "0: 480x640 1 license, 80.0ms\n",
      "Speed: 3.1ms preprocess, 80.0ms inference, 0.7ms postprocess per image at shape (1, 3, 480, 640)\n",
      "\n",
      "0: 480x640 21 cars, 1 bus, 3 trucks, 419.0ms\n",
      "Speed: 48.2ms preprocess, 419.0ms inference, 2.8ms postprocess per image at shape (1, 3, 480, 640)\n",
      "\n",
      "0: 480x640 1 license, 259.2ms\n",
      "Speed: 7.1ms preprocess, 259.2ms inference, 1.1ms postprocess per image at shape (1, 3, 480, 640)\n",
      "\n",
      "0: 480x640 21 cars, 2 buss, 2 trucks, 243.6ms\n",
      "Speed: 4.4ms preprocess, 243.6ms inference, 1.8ms postprocess per image at shape (1, 3, 480, 640)\n",
      "\n",
      "0: 480x640 1 license, 141.0ms\n",
      "Speed: 11.7ms preprocess, 141.0ms inference, 0.9ms postprocess per image at shape (1, 3, 480, 640)\n",
      "\n",
      "0: 480x640 21 cars, 2 buss, 2 trucks, 102.6ms\n",
      "Speed: 3.1ms preprocess, 102.6ms inference, 1.0ms postprocess per image at shape (1, 3, 480, 640)\n",
      "\n",
      "0: 480x640 1 license, 101.3ms\n",
      "Speed: 4.2ms preprocess, 101.3ms inference, 0.8ms postprocess per image at shape (1, 3, 480, 640)\n",
      "\n",
      "0: 480x640 20 cars, 1 bus, 2 trucks, 91.9ms\n",
      "Speed: 2.7ms preprocess, 91.9ms inference, 1.0ms postprocess per image at shape (1, 3, 480, 640)\n",
      "\n",
      "0: 480x640 1 license, 99.4ms\n",
      "Speed: 3.8ms preprocess, 99.4ms inference, 0.7ms postprocess per image at shape (1, 3, 480, 640)\n",
      "\n",
      "0: 480x640 1 person, 20 cars, 1 bus, 2 trucks, 81.4ms\n",
      "Speed: 2.4ms preprocess, 81.4ms inference, 1.1ms postprocess per image at shape (1, 3, 480, 640)\n",
      "\n",
      "0: 480x640 1 license, 80.4ms\n",
      "Speed: 2.6ms preprocess, 80.4ms inference, 0.6ms postprocess per image at shape (1, 3, 480, 640)\n",
      "\n",
      "0: 480x640 1 person, 21 cars, 1 bus, 2 trucks, 111.7ms\n",
      "Speed: 3.6ms preprocess, 111.7ms inference, 1.4ms postprocess per image at shape (1, 3, 480, 640)\n",
      "\n",
      "0: 480x640 1 license, 125.2ms\n",
      "Speed: 3.8ms preprocess, 125.2ms inference, 0.8ms postprocess per image at shape (1, 3, 480, 640)\n",
      "\n",
      "0: 480x640 1 person, 21 cars, 1 bus, 2 trucks, 89.8ms\n",
      "Speed: 3.0ms preprocess, 89.8ms inference, 0.9ms postprocess per image at shape (1, 3, 480, 640)\n",
      "\n",
      "0: 480x640 1 license, 101.0ms\n",
      "Speed: 3.5ms preprocess, 101.0ms inference, 0.7ms postprocess per image at shape (1, 3, 480, 640)\n",
      "\n",
      "0: 480x640 21 cars, 2 trucks, 87.3ms\n",
      "Speed: 2.5ms preprocess, 87.3ms inference, 0.8ms postprocess per image at shape (1, 3, 480, 640)\n",
      "\n",
      "0: 480x640 1 license, 81.6ms\n",
      "Speed: 3.2ms preprocess, 81.6ms inference, 0.6ms postprocess per image at shape (1, 3, 480, 640)\n",
      "\n",
      "0: 480x640 21 cars, 2 trucks, 92.7ms\n",
      "Speed: 2.7ms preprocess, 92.7ms inference, 0.9ms postprocess per image at shape (1, 3, 480, 640)\n",
      "\n",
      "0: 480x640 1 license, 215.6ms\n",
      "Speed: 4.2ms preprocess, 215.6ms inference, 1.2ms postprocess per image at shape (1, 3, 480, 640)\n",
      "\n",
      "0: 480x640 20 cars, 2 trucks, 87.8ms\n",
      "Speed: 2.4ms preprocess, 87.8ms inference, 0.8ms postprocess per image at shape (1, 3, 480, 640)\n",
      "\n",
      "0: 480x640 1 license, 80.4ms\n",
      "Speed: 3.2ms preprocess, 80.4ms inference, 0.6ms postprocess per image at shape (1, 3, 480, 640)\n",
      "\n",
      "0: 480x640 21 cars, 2 trucks, 84.5ms\n",
      "Speed: 3.4ms preprocess, 84.5ms inference, 0.8ms postprocess per image at shape (1, 3, 480, 640)\n",
      "\n",
      "0: 480x640 1 license, 79.7ms\n",
      "Speed: 2.8ms preprocess, 79.7ms inference, 0.6ms postprocess per image at shape (1, 3, 480, 640)\n",
      "\n",
      "0: 480x640 20 cars, 2 trucks, 79.3ms\n",
      "Speed: 2.4ms preprocess, 79.3ms inference, 0.9ms postprocess per image at shape (1, 3, 480, 640)\n",
      "\n",
      "0: 480x640 1 license, 77.9ms\n",
      "Speed: 3.1ms preprocess, 77.9ms inference, 0.6ms postprocess per image at shape (1, 3, 480, 640)\n",
      "\n",
      "0: 480x640 20 cars, 2 trucks, 81.4ms\n",
      "Speed: 2.5ms preprocess, 81.4ms inference, 0.9ms postprocess per image at shape (1, 3, 480, 640)\n",
      "\n",
      "0: 480x640 1 license, 79.8ms\n",
      "Speed: 2.6ms preprocess, 79.8ms inference, 0.6ms postprocess per image at shape (1, 3, 480, 640)\n",
      "\n",
      "0: 480x640 22 cars, 1 truck, 96.9ms\n",
      "Speed: 4.9ms preprocess, 96.9ms inference, 1.0ms postprocess per image at shape (1, 3, 480, 640)\n",
      "\n",
      "0: 480x640 1 license, 110.3ms\n",
      "Speed: 4.1ms preprocess, 110.3ms inference, 0.9ms postprocess per image at shape (1, 3, 480, 640)\n",
      "\n",
      "0: 480x640 22 cars, 1 truck, 74.0ms\n",
      "Speed: 2.4ms preprocess, 74.0ms inference, 0.7ms postprocess per image at shape (1, 3, 480, 640)\n",
      "\n",
      "0: 480x640 1 license, 79.3ms\n",
      "Speed: 2.9ms preprocess, 79.3ms inference, 0.6ms postprocess per image at shape (1, 3, 480, 640)\n",
      "\n",
      "0: 480x640 22 cars, 1 truck, 77.8ms\n",
      "Speed: 2.4ms preprocess, 77.8ms inference, 0.8ms postprocess per image at shape (1, 3, 480, 640)\n",
      "\n",
      "0: 480x640 1 license, 81.2ms\n",
      "Speed: 2.8ms preprocess, 81.2ms inference, 0.6ms postprocess per image at shape (1, 3, 480, 640)\n",
      "\n",
      "0: 480x640 22 cars, 1 truck, 82.7ms\n",
      "Speed: 2.6ms preprocess, 82.7ms inference, 0.8ms postprocess per image at shape (1, 3, 480, 640)\n",
      "\n",
      "0: 480x640 1 license, 79.5ms\n",
      "Speed: 2.5ms preprocess, 79.5ms inference, 0.6ms postprocess per image at shape (1, 3, 480, 640)\n",
      "\n",
      "0: 480x640 22 cars, 2 trucks, 1 traffic light, 79.2ms\n",
      "Speed: 2.4ms preprocess, 79.2ms inference, 0.8ms postprocess per image at shape (1, 3, 480, 640)\n",
      "\n",
      "0: 480x640 2 licenses, 82.4ms\n",
      "Speed: 3.1ms preprocess, 82.4ms inference, 0.6ms postprocess per image at shape (1, 3, 480, 640)\n",
      "\n"
     ]
    },
    {
     "name": "stdout",
     "output_type": "stream",
     "text": [
      "Error: results_list is empty or contains tuples without a second element.\n"
     ]
    },
    {
     "name": "stderr",
     "output_type": "stream",
     "text": [
      "0: 480x640 23 cars, 2 trucks, 182.6ms\n",
      "Speed: 10.1ms preprocess, 182.6ms inference, 2.6ms postprocess per image at shape (1, 3, 480, 640)\n",
      "\n",
      "0: 480x640 2 licenses, 128.5ms\n",
      "Speed: 5.5ms preprocess, 128.5ms inference, 0.8ms postprocess per image at shape (1, 3, 480, 640)\n",
      "\n",
      "0: 480x640 22 cars, 2 trucks, 77.4ms\n",
      "Speed: 2.6ms preprocess, 77.4ms inference, 0.8ms postprocess per image at shape (1, 3, 480, 640)\n",
      "\n",
      "0: 480x640 1 license, 77.6ms\n",
      "Speed: 2.9ms preprocess, 77.6ms inference, 0.6ms postprocess per image at shape (1, 3, 480, 640)\n",
      "\n",
      "0: 480x640 22 cars, 2 trucks, 83.0ms\n",
      "Speed: 2.7ms preprocess, 83.0ms inference, 0.9ms postprocess per image at shape (1, 3, 480, 640)\n",
      "\n",
      "0: 480x640 1 license, 87.3ms\n",
      "Speed: 3.7ms preprocess, 87.3ms inference, 0.6ms postprocess per image at shape (1, 3, 480, 640)\n",
      "\n",
      "0: 480x640 22 cars, 1 truck, 82.4ms\n",
      "Speed: 2.6ms preprocess, 82.4ms inference, 0.8ms postprocess per image at shape (1, 3, 480, 640)\n",
      "\n",
      "0: 480x640 1 license, 81.4ms\n",
      "Speed: 2.8ms preprocess, 81.4ms inference, 0.6ms postprocess per image at shape (1, 3, 480, 640)\n",
      "\n",
      "0: 480x640 22 cars, 1 truck, 81.5ms\n",
      "Speed: 2.6ms preprocess, 81.5ms inference, 1.3ms postprocess per image at shape (1, 3, 480, 640)\n",
      "\n",
      "0: 480x640 1 license, 79.4ms\n",
      "Speed: 3.1ms preprocess, 79.4ms inference, 0.7ms postprocess per image at shape (1, 3, 480, 640)\n",
      "\n",
      "0: 480x640 22 cars, 1 truck, 85.5ms\n",
      "Speed: 2.9ms preprocess, 85.5ms inference, 0.8ms postprocess per image at shape (1, 3, 480, 640)\n",
      "\n",
      "0: 480x640 2 licenses, 84.3ms\n",
      "Speed: 3.2ms preprocess, 84.3ms inference, 0.6ms postprocess per image at shape (1, 3, 480, 640)\n",
      "\n",
      "0: 480x640 22 cars, 1 truck, 95.3ms\n",
      "Speed: 2.9ms preprocess, 95.3ms inference, 1.1ms postprocess per image at shape (1, 3, 480, 640)\n",
      "\n"
     ]
    },
    {
     "name": "stdout",
     "output_type": "stream",
     "text": [
      "Error: results_list is empty or contains tuples without a second element.\n"
     ]
    },
    {
     "name": "stderr",
     "output_type": "stream",
     "text": [
      "0: 480x640 2 licenses, 106.6ms\n",
      "Speed: 4.0ms preprocess, 106.6ms inference, 0.8ms postprocess per image at shape (1, 3, 480, 640)\n",
      "\n",
      "0: 480x640 21 cars, 1 truck, 100.5ms\n",
      "Speed: 3.2ms preprocess, 100.5ms inference, 1.0ms postprocess per image at shape (1, 3, 480, 640)\n",
      "\n"
     ]
    },
    {
     "name": "stdout",
     "output_type": "stream",
     "text": [
      "Error: results_list is empty or contains tuples without a second element.\n"
     ]
    },
    {
     "name": "stderr",
     "output_type": "stream",
     "text": [
      "0: 480x640 1 license, 94.4ms\n",
      "Speed: 3.6ms preprocess, 94.4ms inference, 0.9ms postprocess per image at shape (1, 3, 480, 640)\n",
      "\n",
      "0: 480x640 22 cars, 1 truck, 77.1ms\n",
      "Speed: 2.7ms preprocess, 77.1ms inference, 0.7ms postprocess per image at shape (1, 3, 480, 640)\n",
      "\n",
      "0: 480x640 1 license, 75.8ms\n",
      "Speed: 2.3ms preprocess, 75.8ms inference, 0.6ms postprocess per image at shape (1, 3, 480, 640)\n",
      "\n",
      "0: 480x640 22 cars, 1 truck, 85.0ms\n",
      "Speed: 3.0ms preprocess, 85.0ms inference, 0.9ms postprocess per image at shape (1, 3, 480, 640)\n",
      "\n",
      "0: 480x640 1 license, 83.0ms\n",
      "Speed: 2.7ms preprocess, 83.0ms inference, 0.6ms postprocess per image at shape (1, 3, 480, 640)\n",
      "\n",
      "0: 480x640 22 cars, 1 truck, 78.5ms\n",
      "Speed: 2.4ms preprocess, 78.5ms inference, 1.0ms postprocess per image at shape (1, 3, 480, 640)\n",
      "\n",
      "0: 480x640 1 license, 79.6ms\n",
      "Speed: 2.7ms preprocess, 79.6ms inference, 0.6ms postprocess per image at shape (1, 3, 480, 640)\n",
      "\n",
      "0: 480x640 23 cars, 1 truck, 78.4ms\n",
      "Speed: 2.4ms preprocess, 78.4ms inference, 0.9ms postprocess per image at shape (1, 3, 480, 640)\n",
      "\n",
      "0: 480x640 1 license, 82.7ms\n",
      "Speed: 3.1ms preprocess, 82.7ms inference, 0.6ms postprocess per image at shape (1, 3, 480, 640)\n",
      "\n",
      "0: 480x640 23 cars, 1 truck, 79.1ms\n",
      "Speed: 2.4ms preprocess, 79.1ms inference, 1.2ms postprocess per image at shape (1, 3, 480, 640)\n",
      "\n",
      "0: 480x640 1 license, 78.7ms\n",
      "Speed: 2.7ms preprocess, 78.7ms inference, 0.6ms postprocess per image at shape (1, 3, 480, 640)\n",
      "\n",
      "0: 480x640 23 cars, 1 truck, 80.8ms\n",
      "Speed: 2.5ms preprocess, 80.8ms inference, 0.8ms postprocess per image at shape (1, 3, 480, 640)\n",
      "\n",
      "0: 480x640 1 license, 81.0ms\n",
      "Speed: 3.2ms preprocess, 81.0ms inference, 0.5ms postprocess per image at shape (1, 3, 480, 640)\n"
     ]
    },
    {
     "name": "stdout",
     "output_type": "stream",
     "text": [
      "Error: results_list is empty or contains tuples without a second element.\n"
     ]
    },
    {
     "name": "stderr",
     "output_type": "stream",
     "text": [
      "\n",
      "0: 480x640 23 cars, 1 truck, 85.2ms\n",
      "Speed: 2.5ms preprocess, 85.2ms inference, 0.8ms postprocess per image at shape (1, 3, 480, 640)\n",
      "\n",
      "0: 480x640 1 license, 79.2ms\n",
      "Speed: 3.1ms preprocess, 79.2ms inference, 0.9ms postprocess per image at shape (1, 3, 480, 640)\n"
     ]
    },
    {
     "name": "stdout",
     "output_type": "stream",
     "text": [
      "Error: results_list is empty or contains tuples without a second element.\n"
     ]
    },
    {
     "name": "stderr",
     "output_type": "stream",
     "text": [
      "\n",
      "0: 480x640 22 cars, 1 truck, 1 traffic light, 86.7ms\n",
      "Speed: 2.4ms preprocess, 86.7ms inference, 1.0ms postprocess per image at shape (1, 3, 480, 640)\n",
      "\n",
      "0: 480x640 1 license, 84.7ms\n",
      "Speed: 3.0ms preprocess, 84.7ms inference, 1.0ms postprocess per image at shape (1, 3, 480, 640)\n"
     ]
    },
    {
     "name": "stdout",
     "output_type": "stream",
     "text": [
      "Error: results_list is empty or contains tuples without a second element.\n"
     ]
    },
    {
     "name": "stderr",
     "output_type": "stream",
     "text": [
      "\n",
      "0: 480x640 22 cars, 1 truck, 1 traffic light, 79.6ms\n",
      "Speed: 2.5ms preprocess, 79.6ms inference, 0.8ms postprocess per image at shape (1, 3, 480, 640)\n",
      "\n",
      "0: 480x640 1 license, 82.6ms\n",
      "Speed: 2.7ms preprocess, 82.6ms inference, 0.6ms postprocess per image at shape (1, 3, 480, 640)\n",
      "\n",
      "0: 480x640 21 cars, 2 trucks, 1 traffic light, 82.7ms\n",
      "Speed: 2.5ms preprocess, 82.7ms inference, 0.8ms postprocess per image at shape (1, 3, 480, 640)\n",
      "\n",
      "0: 480x640 1 license, 84.2ms\n",
      "Speed: 3.2ms preprocess, 84.2ms inference, 0.7ms postprocess per image at shape (1, 3, 480, 640)\n",
      "\n",
      "0: 480x640 21 cars, 2 trucks, 1 traffic light, 111.1ms\n",
      "Speed: 3.6ms preprocess, 111.1ms inference, 1.3ms postprocess per image at shape (1, 3, 480, 640)\n",
      "\n",
      "0: 480x640 1 license, 111.7ms\n",
      "Speed: 5.0ms preprocess, 111.7ms inference, 0.7ms postprocess per image at shape (1, 3, 480, 640)\n",
      "\n",
      "0: 480x640 23 cars, 2 trucks, 1 traffic light, 94.5ms\n",
      "Speed: 3.5ms preprocess, 94.5ms inference, 1.0ms postprocess per image at shape (1, 3, 480, 640)\n",
      "\n",
      "0: 480x640 1 license, 85.4ms\n",
      "Speed: 3.5ms preprocess, 85.4ms inference, 0.6ms postprocess per image at shape (1, 3, 480, 640)\n",
      "\n",
      "0: 480x640 23 cars, 2 trucks, 1 traffic light, 88.5ms\n",
      "Speed: 2.9ms preprocess, 88.5ms inference, 0.9ms postprocess per image at shape (1, 3, 480, 640)\n",
      "\n",
      "0: 480x640 1 license, 85.2ms\n",
      "Speed: 3.1ms preprocess, 85.2ms inference, 0.7ms postprocess per image at shape (1, 3, 480, 640)\n",
      "\n",
      "0: 480x640 20 cars, 1 truck, 87.5ms\n",
      "Speed: 2.6ms preprocess, 87.5ms inference, 0.9ms postprocess per image at shape (1, 3, 480, 640)\n",
      "\n",
      "0: 480x640 1 license, 90.0ms\n",
      "Speed: 3.5ms preprocess, 90.0ms inference, 0.7ms postprocess per image at shape (1, 3, 480, 640)\n",
      "\n",
      "0: 480x640 20 cars, 1 truck, 88.7ms\n",
      "Speed: 2.9ms preprocess, 88.7ms inference, 0.9ms postprocess per image at shape (1, 3, 480, 640)\n",
      "\n",
      "0: 480x640 1 license, 93.2ms\n",
      "Speed: 3.6ms preprocess, 93.2ms inference, 0.7ms postprocess per image at shape (1, 3, 480, 640)\n",
      "\n",
      "0: 480x640 19 cars, 1 truck, 95.6ms\n",
      "Speed: 3.7ms preprocess, 95.6ms inference, 0.9ms postprocess per image at shape (1, 3, 480, 640)\n",
      "\n",
      "0: 480x640 1 license, 92.5ms\n",
      "Speed: 2.9ms preprocess, 92.5ms inference, 0.6ms postprocess per image at shape (1, 3, 480, 640)\n",
      "\n",
      "0: 480x640 19 cars, 1 truck, 91.2ms\n",
      "Speed: 3.6ms preprocess, 91.2ms inference, 1.0ms postprocess per image at shape (1, 3, 480, 640)\n",
      "\n",
      "0: 480x640 1 license, 154.3ms\n",
      "Speed: 3.4ms preprocess, 154.3ms inference, 0.7ms postprocess per image at shape (1, 3, 480, 640)\n",
      "\n",
      "0: 480x640 21 cars, 1 truck, 101.8ms\n",
      "Speed: 3.6ms preprocess, 101.8ms inference, 0.9ms postprocess per image at shape (1, 3, 480, 640)\n",
      "\n",
      "0: 480x640 1 license, 90.6ms\n",
      "Speed: 3.4ms preprocess, 90.6ms inference, 0.6ms postprocess per image at shape (1, 3, 480, 640)\n",
      "\n",
      "0: 480x640 20 cars, 1 truck, 95.1ms\n",
      "Speed: 3.8ms preprocess, 95.1ms inference, 0.9ms postprocess per image at shape (1, 3, 480, 640)\n",
      "\n",
      "0: 480x640 1 license, 88.5ms\n",
      "Speed: 2.9ms preprocess, 88.5ms inference, 0.6ms postprocess per image at shape (1, 3, 480, 640)\n",
      "\n",
      "0: 480x640 21 cars, 1 truck, 91.1ms\n",
      "Speed: 3.2ms preprocess, 91.1ms inference, 0.9ms postprocess per image at shape (1, 3, 480, 640)\n",
      "\n",
      "0: 480x640 (no detections), 89.0ms\n",
      "Speed: 3.3ms preprocess, 89.0ms inference, 0.7ms postprocess per image at shape (1, 3, 480, 640)\n",
      "\n",
      "0: 480x640 22 cars, 1 truck, 89.2ms\n",
      "Speed: 3.3ms preprocess, 89.2ms inference, 0.9ms postprocess per image at shape (1, 3, 480, 640)\n",
      "\n",
      "0: 480x640 (no detections), 89.7ms\n",
      "Speed: 3.6ms preprocess, 89.7ms inference, 0.7ms postprocess per image at shape (1, 3, 480, 640)\n",
      "\n",
      "0: 480x640 22 cars, 1 truck, 90.8ms\n",
      "Speed: 3.1ms preprocess, 90.8ms inference, 0.9ms postprocess per image at shape (1, 3, 480, 640)\n",
      "\n",
      "0: 480x640 (no detections), 89.7ms\n",
      "Speed: 3.4ms preprocess, 89.7ms inference, 0.4ms postprocess per image at shape (1, 3, 480, 640)\n",
      "\n",
      "0: 480x640 22 cars, 1 truck, 92.6ms\n",
      "Speed: 3.4ms preprocess, 92.6ms inference, 0.9ms postprocess per image at shape (1, 3, 480, 640)\n",
      "\n",
      "0: 480x640 (no detections), 89.4ms\n",
      "Speed: 3.3ms preprocess, 89.4ms inference, 0.4ms postprocess per image at shape (1, 3, 480, 640)\n",
      "\n",
      "0: 480x640 24 cars, 1 truck, 96.4ms\n",
      "Speed: 3.2ms preprocess, 96.4ms inference, 1.1ms postprocess per image at shape (1, 3, 480, 640)\n",
      "\n",
      "0: 480x640 (no detections), 89.4ms\n",
      "Speed: 3.1ms preprocess, 89.4ms inference, 0.4ms postprocess per image at shape (1, 3, 480, 640)\n",
      "\n",
      "0: 480x640 24 cars, 1 truck, 93.3ms\n",
      "Speed: 3.5ms preprocess, 93.3ms inference, 0.9ms postprocess per image at shape (1, 3, 480, 640)\n",
      "\n",
      "0: 480x640 (no detections), 87.4ms\n",
      "Speed: 3.4ms preprocess, 87.4ms inference, 0.3ms postprocess per image at shape (1, 3, 480, 640)\n",
      "\n",
      "0: 480x640 24 cars, 1 truck, 92.6ms\n",
      "Speed: 3.6ms preprocess, 92.6ms inference, 0.9ms postprocess per image at shape (1, 3, 480, 640)\n",
      "\n",
      "0: 480x640 (no detections), 90.0ms\n",
      "Speed: 3.1ms preprocess, 90.0ms inference, 0.4ms postprocess per image at shape (1, 3, 480, 640)\n",
      "\n",
      "0: 480x640 24 cars, 1 truck, 94.3ms\n",
      "Speed: 3.0ms preprocess, 94.3ms inference, 1.4ms postprocess per image at shape (1, 3, 480, 640)\n",
      "\n",
      "0: 480x640 (no detections), 88.2ms\n",
      "Speed: 3.1ms preprocess, 88.2ms inference, 0.3ms postprocess per image at shape (1, 3, 480, 640)\n",
      "\n",
      "0: 480x640 23 cars, 1 truck, 95.1ms\n",
      "Speed: 3.6ms preprocess, 95.1ms inference, 0.9ms postprocess per image at shape (1, 3, 480, 640)\n",
      "\n",
      "0: 480x640 (no detections), 91.4ms\n",
      "Speed: 2.9ms preprocess, 91.4ms inference, 0.4ms postprocess per image at shape (1, 3, 480, 640)\n",
      "\n",
      "0: 480x640 23 cars, 1 truck, 92.8ms\n",
      "Speed: 3.6ms preprocess, 92.8ms inference, 0.9ms postprocess per image at shape (1, 3, 480, 640)\n",
      "\n",
      "0: 480x640 (no detections), 88.0ms\n",
      "Speed: 3.2ms preprocess, 88.0ms inference, 0.3ms postprocess per image at shape (1, 3, 480, 640)\n",
      "\n",
      "0: 480x640 22 cars, 2 trucks, 92.7ms\n",
      "Speed: 2.7ms preprocess, 92.7ms inference, 1.0ms postprocess per image at shape (1, 3, 480, 640)\n",
      "\n",
      "0: 480x640 (no detections), 93.0ms\n",
      "Speed: 3.1ms preprocess, 93.0ms inference, 0.3ms postprocess per image at shape (1, 3, 480, 640)\n",
      "\n",
      "0: 480x640 22 cars, 2 trucks, 92.4ms\n",
      "Speed: 3.0ms preprocess, 92.4ms inference, 1.0ms postprocess per image at shape (1, 3, 480, 640)\n",
      "\n",
      "0: 480x640 (no detections), 91.3ms\n",
      "Speed: 3.5ms preprocess, 91.3ms inference, 0.5ms postprocess per image at shape (1, 3, 480, 640)\n",
      "\n",
      "0: 480x640 21 cars, 2 trucks, 88.7ms\n",
      "Speed: 3.5ms preprocess, 88.7ms inference, 1.3ms postprocess per image at shape (1, 3, 480, 640)\n",
      "\n",
      "0: 480x640 (no detections), 87.8ms\n",
      "Speed: 3.5ms preprocess, 87.8ms inference, 0.3ms postprocess per image at shape (1, 3, 480, 640)\n",
      "\n",
      "0: 480x640 21 cars, 2 trucks, 95.2ms\n",
      "Speed: 4.0ms preprocess, 95.2ms inference, 0.9ms postprocess per image at shape (1, 3, 480, 640)\n",
      "\n",
      "0: 480x640 (no detections), 91.0ms\n",
      "Speed: 3.6ms preprocess, 91.0ms inference, 0.3ms postprocess per image at shape (1, 3, 480, 640)\n",
      "\n",
      "0: 480x640 21 cars, 2 trucks, 91.0ms\n",
      "Speed: 3.2ms preprocess, 91.0ms inference, 1.0ms postprocess per image at shape (1, 3, 480, 640)\n",
      "\n",
      "0: 480x640 (no detections), 91.2ms\n",
      "Speed: 3.8ms preprocess, 91.2ms inference, 0.4ms postprocess per image at shape (1, 3, 480, 640)\n",
      "\n",
      "0: 480x640 21 cars, 2 trucks, 91.1ms\n",
      "Speed: 3.1ms preprocess, 91.1ms inference, 0.9ms postprocess per image at shape (1, 3, 480, 640)\n",
      "\n",
      "0: 480x640 (no detections), 90.8ms\n",
      "Speed: 3.0ms preprocess, 90.8ms inference, 0.3ms postprocess per image at shape (1, 3, 480, 640)\n",
      "\n",
      "0: 480x640 19 cars, 1 truck, 89.9ms\n",
      "Speed: 3.6ms preprocess, 89.9ms inference, 1.0ms postprocess per image at shape (1, 3, 480, 640)\n",
      "\n",
      "0: 480x640 (no detections), 88.2ms\n",
      "Speed: 3.1ms preprocess, 88.2ms inference, 0.3ms postprocess per image at shape (1, 3, 480, 640)\n",
      "\n",
      "0: 480x640 19 cars, 1 truck, 93.9ms\n",
      "Speed: 2.9ms preprocess, 93.9ms inference, 1.3ms postprocess per image at shape (1, 3, 480, 640)\n",
      "\n",
      "0: 480x640 (no detections), 88.0ms\n",
      "Speed: 3.1ms preprocess, 88.0ms inference, 0.4ms postprocess per image at shape (1, 3, 480, 640)\n",
      "\n",
      "0: 480x640 22 cars, 2 trucks, 92.1ms\n",
      "Speed: 3.0ms preprocess, 92.1ms inference, 0.9ms postprocess per image at shape (1, 3, 480, 640)\n",
      "\n",
      "0: 480x640 (no detections), 92.2ms\n",
      "Speed: 3.6ms preprocess, 92.2ms inference, 0.3ms postprocess per image at shape (1, 3, 480, 640)\n",
      "\n",
      "0: 480x640 22 cars, 1 truck, 91.9ms\n",
      "Speed: 3.1ms preprocess, 91.9ms inference, 0.9ms postprocess per image at shape (1, 3, 480, 640)\n",
      "\n",
      "0: 480x640 (no detections), 87.6ms\n",
      "Speed: 3.5ms preprocess, 87.6ms inference, 0.3ms postprocess per image at shape (1, 3, 480, 640)\n",
      "\n",
      "0: 480x640 20 cars, 2 trucks, 94.0ms\n",
      "Speed: 3.2ms preprocess, 94.0ms inference, 0.9ms postprocess per image at shape (1, 3, 480, 640)\n",
      "\n",
      "0: 480x640 (no detections), 88.6ms\n",
      "Speed: 3.7ms preprocess, 88.6ms inference, 0.6ms postprocess per image at shape (1, 3, 480, 640)\n",
      "\n",
      "0: 480x640 20 cars, 2 trucks, 89.6ms\n",
      "Speed: 3.0ms preprocess, 89.6ms inference, 0.9ms postprocess per image at shape (1, 3, 480, 640)\n",
      "\n",
      "0: 480x640 (no detections), 91.3ms\n",
      "Speed: 3.0ms preprocess, 91.3ms inference, 0.3ms postprocess per image at shape (1, 3, 480, 640)\n",
      "\n",
      "0: 480x640 22 cars, 1 truck, 96.2ms\n",
      "Speed: 3.2ms preprocess, 96.2ms inference, 0.9ms postprocess per image at shape (1, 3, 480, 640)\n",
      "\n",
      "0: 480x640 (no detections), 89.0ms\n",
      "Speed: 3.7ms preprocess, 89.0ms inference, 0.4ms postprocess per image at shape (1, 3, 480, 640)\n",
      "\n",
      "0: 480x640 21 cars, 1 truck, 93.4ms\n",
      "Speed: 3.5ms preprocess, 93.4ms inference, 1.0ms postprocess per image at shape (1, 3, 480, 640)\n",
      "\n",
      "0: 480x640 (no detections), 91.6ms\n",
      "Speed: 2.9ms preprocess, 91.6ms inference, 0.4ms postprocess per image at shape (1, 3, 480, 640)\n",
      "\n",
      "0: 480x640 24 cars, 1 truck, 89.5ms\n",
      "Speed: 3.5ms preprocess, 89.5ms inference, 1.0ms postprocess per image at shape (1, 3, 480, 640)\n",
      "\n",
      "0: 480x640 (no detections), 89.8ms\n",
      "Speed: 3.6ms preprocess, 89.8ms inference, 0.4ms postprocess per image at shape (1, 3, 480, 640)\n",
      "\n",
      "0: 480x640 23 cars, 1 truck, 94.2ms\n",
      "Speed: 3.0ms preprocess, 94.2ms inference, 0.9ms postprocess per image at shape (1, 3, 480, 640)\n",
      "\n",
      "0: 480x640 (no detections), 91.7ms\n",
      "Speed: 3.7ms preprocess, 91.7ms inference, 0.4ms postprocess per image at shape (1, 3, 480, 640)\n",
      "\n",
      "0: 480x640 23 cars, 2 trucks, 92.4ms\n",
      "Speed: 3.2ms preprocess, 92.4ms inference, 0.9ms postprocess per image at shape (1, 3, 480, 640)\n",
      "\n",
      "0: 480x640 (no detections), 93.2ms\n",
      "Speed: 3.1ms preprocess, 93.2ms inference, 0.4ms postprocess per image at shape (1, 3, 480, 640)\n",
      "\n",
      "0: 480x640 23 cars, 2 trucks, 94.1ms\n",
      "Speed: 3.2ms preprocess, 94.1ms inference, 0.9ms postprocess per image at shape (1, 3, 480, 640)\n",
      "\n",
      "0: 480x640 (no detections), 90.9ms\n",
      "Speed: 3.7ms preprocess, 90.9ms inference, 0.4ms postprocess per image at shape (1, 3, 480, 640)\n",
      "\n",
      "0: 480x640 20 cars, 2 trucks, 98.6ms\n",
      "Speed: 3.7ms preprocess, 98.6ms inference, 0.9ms postprocess per image at shape (1, 3, 480, 640)\n",
      "\n",
      "0: 480x640 (no detections), 91.5ms\n",
      "Speed: 2.9ms preprocess, 91.5ms inference, 0.4ms postprocess per image at shape (1, 3, 480, 640)\n",
      "\n",
      "0: 480x640 20 cars, 1 truck, 91.7ms\n",
      "Speed: 2.6ms preprocess, 91.7ms inference, 0.8ms postprocess per image at shape (1, 3, 480, 640)\n",
      "\n",
      "0: 480x640 (no detections), 88.6ms\n",
      "Speed: 3.3ms preprocess, 88.6ms inference, 0.4ms postprocess per image at shape (1, 3, 480, 640)\n",
      "\n",
      "0: 480x640 23 cars, 2 trucks, 90.3ms\n",
      "Speed: 3.6ms preprocess, 90.3ms inference, 0.9ms postprocess per image at shape (1, 3, 480, 640)\n",
      "\n",
      "0: 480x640 (no detections), 89.2ms\n",
      "Speed: 3.7ms preprocess, 89.2ms inference, 0.4ms postprocess per image at shape (1, 3, 480, 640)\n",
      "\n",
      "0: 480x640 24 cars, 2 trucks, 93.6ms\n",
      "Speed: 3.1ms preprocess, 93.6ms inference, 0.9ms postprocess per image at shape (1, 3, 480, 640)\n",
      "\n",
      "0: 480x640 (no detections), 86.6ms\n",
      "Speed: 3.1ms preprocess, 86.6ms inference, 1.0ms postprocess per image at shape (1, 3, 480, 640)\n",
      "\n",
      "0: 480x640 21 cars, 1 bus, 2 trucks, 91.6ms\n",
      "Speed: 3.3ms preprocess, 91.6ms inference, 1.0ms postprocess per image at shape (1, 3, 480, 640)\n",
      "\n",
      "0: 480x640 (no detections), 90.7ms\n",
      "Speed: 3.0ms preprocess, 90.7ms inference, 0.3ms postprocess per image at shape (1, 3, 480, 640)\n",
      "\n",
      "0: 480x640 20 cars, 1 bus, 2 trucks, 92.5ms\n",
      "Speed: 3.5ms preprocess, 92.5ms inference, 0.9ms postprocess per image at shape (1, 3, 480, 640)\n",
      "\n",
      "0: 480x640 (no detections), 92.6ms\n",
      "Speed: 3.5ms preprocess, 92.6ms inference, 0.4ms postprocess per image at shape (1, 3, 480, 640)\n",
      "\n",
      "0: 480x640 22 cars, 1 bus, 1 truck, 93.0ms\n",
      "Speed: 3.0ms preprocess, 93.0ms inference, 1.4ms postprocess per image at shape (1, 3, 480, 640)\n",
      "\n",
      "0: 480x640 (no detections), 94.8ms\n",
      "Speed: 3.6ms preprocess, 94.8ms inference, 0.4ms postprocess per image at shape (1, 3, 480, 640)\n",
      "\n",
      "0: 480x640 22 cars, 1 bus, 1 truck, 95.0ms\n",
      "Speed: 3.1ms preprocess, 95.0ms inference, 0.9ms postprocess per image at shape (1, 3, 480, 640)\n",
      "\n",
      "0: 480x640 (no detections), 94.9ms\n",
      "Speed: 2.9ms preprocess, 94.9ms inference, 0.4ms postprocess per image at shape (1, 3, 480, 640)\n",
      "\n",
      "0: 480x640 22 cars, 1 bus, 1 truck, 93.1ms\n",
      "Speed: 2.9ms preprocess, 93.1ms inference, 0.9ms postprocess per image at shape (1, 3, 480, 640)\n",
      "\n",
      "0: 480x640 (no detections), 92.0ms\n",
      "Speed: 3.2ms preprocess, 92.0ms inference, 0.8ms postprocess per image at shape (1, 3, 480, 640)\n",
      "\n",
      "0: 480x640 22 cars, 1 bus, 1 truck, 92.2ms\n",
      "Speed: 3.3ms preprocess, 92.2ms inference, 0.9ms postprocess per image at shape (1, 3, 480, 640)\n",
      "\n",
      "0: 480x640 (no detections), 92.2ms\n",
      "Speed: 3.5ms preprocess, 92.2ms inference, 0.4ms postprocess per image at shape (1, 3, 480, 640)\n",
      "\n",
      "0: 480x640 22 cars, 1 bus, 1 truck, 1 traffic light, 93.9ms\n",
      "Speed: 3.5ms preprocess, 93.9ms inference, 0.9ms postprocess per image at shape (1, 3, 480, 640)\n",
      "\n",
      "0: 480x640 (no detections), 88.4ms\n",
      "Speed: 3.6ms preprocess, 88.4ms inference, 0.4ms postprocess per image at shape (1, 3, 480, 640)\n",
      "\n",
      "0: 480x640 22 cars, 1 bus, 1 truck, 1 traffic light, 92.5ms\n",
      "Speed: 3.5ms preprocess, 92.5ms inference, 0.9ms postprocess per image at shape (1, 3, 480, 640)\n",
      "\n",
      "0: 480x640 (no detections), 92.1ms\n",
      "Speed: 3.6ms preprocess, 92.1ms inference, 0.3ms postprocess per image at shape (1, 3, 480, 640)\n",
      "\n",
      "0: 480x640 24 cars, 1 truck, 94.8ms\n",
      "Speed: 2.9ms preprocess, 94.8ms inference, 0.9ms postprocess per image at shape (1, 3, 480, 640)\n",
      "\n",
      "0: 480x640 (no detections), 90.7ms\n",
      "Speed: 3.6ms preprocess, 90.7ms inference, 0.4ms postprocess per image at shape (1, 3, 480, 640)\n",
      "\n",
      "0: 480x640 24 cars, 1 truck, 89.9ms\n",
      "Speed: 3.0ms preprocess, 89.9ms inference, 1.0ms postprocess per image at shape (1, 3, 480, 640)\n",
      "\n",
      "0: 480x640 (no detections), 89.1ms\n",
      "Speed: 3.1ms preprocess, 89.1ms inference, 0.3ms postprocess per image at shape (1, 3, 480, 640)\n",
      "\n",
      "0: 480x640 22 cars, 1 bus, 1 truck, 90.4ms\n",
      "Speed: 3.5ms preprocess, 90.4ms inference, 0.9ms postprocess per image at shape (1, 3, 480, 640)\n",
      "\n",
      "0: 480x640 (no detections), 90.6ms\n",
      "Speed: 3.5ms preprocess, 90.6ms inference, 0.4ms postprocess per image at shape (1, 3, 480, 640)\n",
      "\n",
      "0: 480x640 21 cars, 1 bus, 1 truck, 90.5ms\n",
      "Speed: 3.3ms preprocess, 90.5ms inference, 1.4ms postprocess per image at shape (1, 3, 480, 640)\n",
      "\n",
      "0: 480x640 (no detections), 87.1ms\n",
      "Speed: 3.6ms preprocess, 87.1ms inference, 0.3ms postprocess per image at shape (1, 3, 480, 640)\n",
      "\n",
      "0: 480x640 21 cars, 1 truck, 92.6ms\n",
      "Speed: 3.8ms preprocess, 92.6ms inference, 0.9ms postprocess per image at shape (1, 3, 480, 640)\n",
      "\n",
      "0: 480x640 (no detections), 88.0ms\n",
      "Speed: 2.9ms preprocess, 88.0ms inference, 0.4ms postprocess per image at shape (1, 3, 480, 640)\n",
      "\n",
      "0: 480x640 21 cars, 1 bus, 1 truck, 92.4ms\n",
      "Speed: 3.3ms preprocess, 92.4ms inference, 0.9ms postprocess per image at shape (1, 3, 480, 640)\n",
      "\n",
      "0: 480x640 (no detections), 95.9ms\n",
      "Speed: 3.0ms preprocess, 95.9ms inference, 0.8ms postprocess per image at shape (1, 3, 480, 640)\n",
      "\n",
      "0: 480x640 23 cars, 1 bus, 1 truck, 97.5ms\n",
      "Speed: 3.3ms preprocess, 97.5ms inference, 1.0ms postprocess per image at shape (1, 3, 480, 640)\n",
      "\n",
      "0: 480x640 (no detections), 92.9ms\n",
      "Speed: 3.0ms preprocess, 92.9ms inference, 0.3ms postprocess per image at shape (1, 3, 480, 640)\n",
      "\n",
      "0: 480x640 23 cars, 1 bus, 1 truck, 90.4ms\n",
      "Speed: 3.6ms preprocess, 90.4ms inference, 1.5ms postprocess per image at shape (1, 3, 480, 640)\n",
      "\n",
      "0: 480x640 (no detections), 91.7ms\n",
      "Speed: 3.5ms preprocess, 91.7ms inference, 0.4ms postprocess per image at shape (1, 3, 480, 640)\n",
      "\n",
      "0: 480x640 23 cars, 1 truck, 99.2ms\n",
      "Speed: 3.9ms preprocess, 99.2ms inference, 1.1ms postprocess per image at shape (1, 3, 480, 640)\n",
      "\n",
      "0: 480x640 (no detections), 101.1ms\n",
      "Speed: 3.7ms preprocess, 101.1ms inference, 0.4ms postprocess per image at shape (1, 3, 480, 640)\n",
      "\n",
      "0: 480x640 23 cars, 1 truck, 96.2ms\n",
      "Speed: 3.1ms preprocess, 96.2ms inference, 1.0ms postprocess per image at shape (1, 3, 480, 640)\n",
      "\n",
      "0: 480x640 (no detections), 94.6ms\n",
      "Speed: 3.7ms preprocess, 94.6ms inference, 0.4ms postprocess per image at shape (1, 3, 480, 640)\n",
      "\n",
      "0: 480x640 23 cars, 1 truck, 92.6ms\n",
      "Speed: 3.1ms preprocess, 92.6ms inference, 1.0ms postprocess per image at shape (1, 3, 480, 640)\n",
      "\n",
      "0: 480x640 (no detections), 90.6ms\n",
      "Speed: 3.5ms preprocess, 90.6ms inference, 0.4ms postprocess per image at shape (1, 3, 480, 640)\n",
      "\n",
      "0: 480x640 23 cars, 1 truck, 91.8ms\n",
      "Speed: 3.6ms preprocess, 91.8ms inference, 0.9ms postprocess per image at shape (1, 3, 480, 640)\n",
      "\n",
      "0: 480x640 (no detections), 92.5ms\n",
      "Speed: 3.5ms preprocess, 92.5ms inference, 0.3ms postprocess per image at shape (1, 3, 480, 640)\n",
      "\n",
      "0: 480x640 22 cars, 1 truck, 94.5ms\n",
      "Speed: 3.2ms preprocess, 94.5ms inference, 0.9ms postprocess per image at shape (1, 3, 480, 640)\n",
      "\n",
      "0: 480x640 (no detections), 92.5ms\n",
      "Speed: 3.5ms preprocess, 92.5ms inference, 0.4ms postprocess per image at shape (1, 3, 480, 640)\n",
      "\n",
      "0: 480x640 22 cars, 1 truck, 92.0ms\n",
      "Speed: 3.3ms preprocess, 92.0ms inference, 0.9ms postprocess per image at shape (1, 3, 480, 640)\n",
      "\n",
      "0: 480x640 (no detections), 89.6ms\n",
      "Speed: 2.7ms preprocess, 89.6ms inference, 0.3ms postprocess per image at shape (1, 3, 480, 640)\n",
      "\n",
      "0: 480x640 20 cars, 1 truck, 95.7ms\n",
      "Speed: 3.2ms preprocess, 95.7ms inference, 0.9ms postprocess per image at shape (1, 3, 480, 640)\n",
      "\n",
      "0: 480x640 (no detections), 92.6ms\n",
      "Speed: 3.1ms preprocess, 92.6ms inference, 0.4ms postprocess per image at shape (1, 3, 480, 640)\n",
      "\n",
      "0: 480x640 20 cars, 1 truck, 93.7ms\n",
      "Speed: 3.1ms preprocess, 93.7ms inference, 0.9ms postprocess per image at shape (1, 3, 480, 640)\n",
      "\n",
      "0: 480x640 (no detections), 91.4ms\n",
      "Speed: 3.2ms preprocess, 91.4ms inference, 0.4ms postprocess per image at shape (1, 3, 480, 640)\n",
      "\n",
      "0: 480x640 22 cars, 1 truck, 90.5ms\n",
      "Speed: 3.8ms preprocess, 90.5ms inference, 0.9ms postprocess per image at shape (1, 3, 480, 640)\n",
      "\n",
      "0: 480x640 (no detections), 91.2ms\n",
      "Speed: 3.2ms preprocess, 91.2ms inference, 0.3ms postprocess per image at shape (1, 3, 480, 640)\n",
      "\n",
      "0: 480x640 22 cars, 1 truck, 97.5ms\n",
      "Speed: 3.1ms preprocess, 97.5ms inference, 0.9ms postprocess per image at shape (1, 3, 480, 640)\n",
      "\n",
      "0: 480x640 (no detections), 90.4ms\n",
      "Speed: 3.7ms preprocess, 90.4ms inference, 1.0ms postprocess per image at shape (1, 3, 480, 640)\n",
      "\n",
      "0: 480x640 21 cars, 1 truck, 91.8ms\n",
      "Speed: 3.2ms preprocess, 91.8ms inference, 0.9ms postprocess per image at shape (1, 3, 480, 640)\n",
      "\n",
      "0: 480x640 (no detections), 91.6ms\n",
      "Speed: 2.9ms preprocess, 91.6ms inference, 0.4ms postprocess per image at shape (1, 3, 480, 640)\n",
      "\n",
      "0: 480x640 21 cars, 1 truck, 97.1ms\n",
      "Speed: 3.6ms preprocess, 97.1ms inference, 0.9ms postprocess per image at shape (1, 3, 480, 640)\n",
      "\n",
      "0: 480x640 (no detections), 88.8ms\n",
      "Speed: 3.3ms preprocess, 88.8ms inference, 0.4ms postprocess per image at shape (1, 3, 480, 640)\n",
      "\n",
      "0: 480x640 21 cars, 2 trucks, 91.8ms\n",
      "Speed: 3.0ms preprocess, 91.8ms inference, 1.3ms postprocess per image at shape (1, 3, 480, 640)\n",
      "\n",
      "0: 480x640 (no detections), 91.1ms\n",
      "Speed: 3.6ms preprocess, 91.1ms inference, 0.4ms postprocess per image at shape (1, 3, 480, 640)\n",
      "\n",
      "0: 480x640 20 cars, 1 truck, 92.7ms\n",
      "Speed: 3.1ms preprocess, 92.7ms inference, 0.9ms postprocess per image at shape (1, 3, 480, 640)\n",
      "\n",
      "0: 480x640 (no detections), 91.6ms\n",
      "Speed: 2.8ms preprocess, 91.6ms inference, 0.4ms postprocess per image at shape (1, 3, 480, 640)\n",
      "\n",
      "0: 480x640 21 cars, 1 truck, 91.6ms\n",
      "Speed: 3.5ms preprocess, 91.6ms inference, 1.0ms postprocess per image at shape (1, 3, 480, 640)\n",
      "\n",
      "0: 480x640 (no detections), 89.8ms\n",
      "Speed: 3.0ms preprocess, 89.8ms inference, 0.3ms postprocess per image at shape (1, 3, 480, 640)\n",
      "\n",
      "0: 480x640 21 cars, 2 trucks, 93.3ms\n",
      "Speed: 3.0ms preprocess, 93.3ms inference, 0.9ms postprocess per image at shape (1, 3, 480, 640)\n",
      "\n",
      "0: 480x640 (no detections), 90.3ms\n",
      "Speed: 3.0ms preprocess, 90.3ms inference, 0.3ms postprocess per image at shape (1, 3, 480, 640)\n",
      "\n",
      "0: 480x640 21 cars, 1 truck, 96.9ms\n",
      "Speed: 3.9ms preprocess, 96.9ms inference, 1.0ms postprocess per image at shape (1, 3, 480, 640)\n",
      "\n",
      "0: 480x640 (no detections), 89.0ms\n",
      "Speed: 3.6ms preprocess, 89.0ms inference, 0.4ms postprocess per image at shape (1, 3, 480, 640)\n",
      "\n",
      "0: 480x640 22 cars, 1 truck, 94.9ms\n",
      "Speed: 3.5ms preprocess, 94.9ms inference, 0.9ms postprocess per image at shape (1, 3, 480, 640)\n",
      "\n",
      "0: 480x640 (no detections), 89.3ms\n",
      "Speed: 3.4ms preprocess, 89.3ms inference, 0.4ms postprocess per image at shape (1, 3, 480, 640)\n",
      "\n",
      "0: 480x640 24 cars, 1 truck, 92.4ms\n",
      "Speed: 3.8ms preprocess, 92.4ms inference, 1.0ms postprocess per image at shape (1, 3, 480, 640)\n",
      "\n",
      "0: 480x640 (no detections), 88.0ms\n",
      "Speed: 3.6ms preprocess, 88.0ms inference, 0.3ms postprocess per image at shape (1, 3, 480, 640)\n",
      "\n",
      "0: 480x640 24 cars, 1 truck, 95.5ms\n",
      "Speed: 3.2ms preprocess, 95.5ms inference, 0.9ms postprocess per image at shape (1, 3, 480, 640)\n",
      "\n",
      "0: 480x640 (no detections), 87.1ms\n",
      "Speed: 3.0ms preprocess, 87.1ms inference, 0.4ms postprocess per image at shape (1, 3, 480, 640)\n",
      "\n",
      "0: 480x640 21 cars, 1 truck, 95.5ms\n",
      "Speed: 3.6ms preprocess, 95.5ms inference, 0.9ms postprocess per image at shape (1, 3, 480, 640)\n",
      "\n",
      "0: 480x640 (no detections), 93.5ms\n",
      "Speed: 3.6ms preprocess, 93.5ms inference, 0.3ms postprocess per image at shape (1, 3, 480, 640)\n",
      "\n",
      "0: 480x640 21 cars, 1 truck, 93.8ms\n",
      "Speed: 3.8ms preprocess, 93.8ms inference, 0.9ms postprocess per image at shape (1, 3, 480, 640)\n",
      "\n",
      "0: 480x640 (no detections), 88.1ms\n",
      "Speed: 3.6ms preprocess, 88.1ms inference, 0.4ms postprocess per image at shape (1, 3, 480, 640)\n",
      "\n",
      "0: 480x640 21 cars, 1 truck, 106.2ms\n",
      "Speed: 3.7ms preprocess, 106.2ms inference, 1.0ms postprocess per image at shape (1, 3, 480, 640)\n",
      "\n",
      "0: 480x640 (no detections), 97.6ms\n",
      "Speed: 3.5ms preprocess, 97.6ms inference, 0.4ms postprocess per image at shape (1, 3, 480, 640)\n",
      "\n",
      "0: 480x640 21 cars, 1 truck, 95.5ms\n",
      "Speed: 3.0ms preprocess, 95.5ms inference, 0.9ms postprocess per image at shape (1, 3, 480, 640)\n",
      "\n",
      "0: 480x640 (no detections), 92.4ms\n",
      "Speed: 3.0ms preprocess, 92.4ms inference, 0.4ms postprocess per image at shape (1, 3, 480, 640)\n",
      "\n",
      "0: 480x640 21 cars, 1 truck, 92.6ms\n",
      "Speed: 3.6ms preprocess, 92.6ms inference, 0.9ms postprocess per image at shape (1, 3, 480, 640)\n",
      "\n",
      "0: 480x640 (no detections), 90.7ms\n",
      "Speed: 2.9ms preprocess, 90.7ms inference, 0.4ms postprocess per image at shape (1, 3, 480, 640)\n",
      "\n",
      "0: 480x640 21 cars, 1 truck, 93.6ms\n",
      "Speed: 3.1ms preprocess, 93.6ms inference, 0.9ms postprocess per image at shape (1, 3, 480, 640)\n",
      "\n",
      "0: 480x640 (no detections), 89.6ms\n",
      "Speed: 3.6ms preprocess, 89.6ms inference, 1.0ms postprocess per image at shape (1, 3, 480, 640)\n",
      "\n",
      "0: 480x640 21 cars, 1 truck, 94.7ms\n",
      "Speed: 3.3ms preprocess, 94.7ms inference, 0.9ms postprocess per image at shape (1, 3, 480, 640)\n",
      "\n",
      "0: 480x640 (no detections), 89.0ms\n",
      "Speed: 3.3ms preprocess, 89.0ms inference, 0.3ms postprocess per image at shape (1, 3, 480, 640)\n",
      "\n",
      "0: 480x640 22 cars, 1 truck, 93.6ms\n",
      "Speed: 3.1ms preprocess, 93.6ms inference, 0.9ms postprocess per image at shape (1, 3, 480, 640)\n",
      "\n",
      "0: 480x640 (no detections), 87.9ms\n",
      "Speed: 3.6ms preprocess, 87.9ms inference, 0.4ms postprocess per image at shape (1, 3, 480, 640)\n",
      "\n",
      "0: 480x640 22 cars, 1 truck, 94.3ms\n",
      "Speed: 3.2ms preprocess, 94.3ms inference, 0.9ms postprocess per image at shape (1, 3, 480, 640)\n",
      "\n",
      "0: 480x640 (no detections), 92.4ms\n",
      "Speed: 2.9ms preprocess, 92.4ms inference, 0.3ms postprocess per image at shape (1, 3, 480, 640)\n",
      "\n",
      "0: 480x640 22 cars, 1 truck, 94.2ms\n",
      "Speed: 3.0ms preprocess, 94.2ms inference, 0.9ms postprocess per image at shape (1, 3, 480, 640)\n",
      "\n",
      "0: 480x640 (no detections), 91.0ms\n",
      "Speed: 3.6ms preprocess, 91.0ms inference, 0.7ms postprocess per image at shape (1, 3, 480, 640)\n",
      "\n",
      "0: 480x640 20 cars, 1 truck, 94.0ms\n",
      "Speed: 2.9ms preprocess, 94.0ms inference, 0.9ms postprocess per image at shape (1, 3, 480, 640)\n",
      "\n",
      "0: 480x640 (no detections), 89.5ms\n",
      "Speed: 2.9ms preprocess, 89.5ms inference, 0.3ms postprocess per image at shape (1, 3, 480, 640)\n",
      "\n",
      "0: 480x640 20 cars, 1 truck, 93.7ms\n",
      "Speed: 3.0ms preprocess, 93.7ms inference, 1.2ms postprocess per image at shape (1, 3, 480, 640)\n",
      "\n",
      "0: 480x640 (no detections), 88.7ms\n",
      "Speed: 3.1ms preprocess, 88.7ms inference, 0.4ms postprocess per image at shape (1, 3, 480, 640)\n",
      "\n",
      "0: 480x640 21 cars, 1 truck, 93.5ms\n",
      "Speed: 2.9ms preprocess, 93.5ms inference, 1.0ms postprocess per image at shape (1, 3, 480, 640)\n",
      "\n",
      "0: 480x640 (no detections), 92.1ms\n",
      "Speed: 4.6ms preprocess, 92.1ms inference, 0.4ms postprocess per image at shape (1, 3, 480, 640)\n",
      "\n",
      "0: 480x640 21 cars, 1 truck, 119.6ms\n",
      "Speed: 3.7ms preprocess, 119.6ms inference, 1.1ms postprocess per image at shape (1, 3, 480, 640)\n",
      "\n",
      "0: 480x640 (no detections), 105.4ms\n",
      "Speed: 3.7ms preprocess, 105.4ms inference, 0.5ms postprocess per image at shape (1, 3, 480, 640)\n",
      "\n",
      "0: 480x640 22 cars, 1 truck, 120.0ms\n",
      "Speed: 6.1ms preprocess, 120.0ms inference, 1.2ms postprocess per image at shape (1, 3, 480, 640)\n",
      "\n",
      "0: 480x640 (no detections), 105.3ms\n",
      "Speed: 4.6ms preprocess, 105.3ms inference, 0.5ms postprocess per image at shape (1, 3, 480, 640)\n",
      "\n",
      "0: 480x640 22 cars, 1 truck, 95.8ms\n",
      "Speed: 3.6ms preprocess, 95.8ms inference, 0.9ms postprocess per image at shape (1, 3, 480, 640)\n",
      "\n",
      "0: 480x640 (no detections), 86.9ms\n",
      "Speed: 3.5ms preprocess, 86.9ms inference, 0.4ms postprocess per image at shape (1, 3, 480, 640)\n",
      "\n",
      "0: 480x640 22 cars, 1 bus, 1 truck, 155.1ms\n",
      "Speed: 3.2ms preprocess, 155.1ms inference, 1.0ms postprocess per image at shape (1, 3, 480, 640)\n",
      "\n",
      "0: 480x640 (no detections), 98.7ms\n",
      "Speed: 4.1ms preprocess, 98.7ms inference, 0.4ms postprocess per image at shape (1, 3, 480, 640)\n",
      "\n",
      "0: 480x640 21 cars, 1 bus, 1 truck, 95.3ms\n",
      "Speed: 3.1ms preprocess, 95.3ms inference, 1.0ms postprocess per image at shape (1, 3, 480, 640)\n",
      "\n",
      "0: 480x640 (no detections), 88.4ms\n",
      "Speed: 3.0ms preprocess, 88.4ms inference, 0.4ms postprocess per image at shape (1, 3, 480, 640)\n",
      "\n",
      "0: 480x640 22 cars, 1 bus, 1 truck, 93.3ms\n",
      "Speed: 3.5ms preprocess, 93.3ms inference, 1.0ms postprocess per image at shape (1, 3, 480, 640)\n",
      "\n",
      "0: 480x640 (no detections), 89.8ms\n",
      "Speed: 3.5ms preprocess, 89.8ms inference, 0.6ms postprocess per image at shape (1, 3, 480, 640)\n",
      "\n",
      "0: 480x640 22 cars, 2 buss, 1 truck, 94.3ms\n",
      "Speed: 3.0ms preprocess, 94.3ms inference, 0.9ms postprocess per image at shape (1, 3, 480, 640)\n",
      "\n",
      "0: 480x640 (no detections), 89.3ms\n",
      "Speed: 3.6ms preprocess, 89.3ms inference, 0.4ms postprocess per image at shape (1, 3, 480, 640)\n",
      "\n",
      "0: 480x640 21 cars, 2 buss, 1 truck, 1 traffic light, 95.6ms\n",
      "Speed: 3.4ms preprocess, 95.6ms inference, 0.9ms postprocess per image at shape (1, 3, 480, 640)\n",
      "\n",
      "0: 480x640 (no detections), 89.4ms\n",
      "Speed: 3.0ms preprocess, 89.4ms inference, 1.0ms postprocess per image at shape (1, 3, 480, 640)\n",
      "\n",
      "0: 480x640 21 cars, 2 buss, 1 truck, 1 traffic light, 91.4ms\n",
      "Speed: 3.2ms preprocess, 91.4ms inference, 1.0ms postprocess per image at shape (1, 3, 480, 640)\n",
      "\n",
      "0: 480x640 (no detections), 91.1ms\n",
      "Speed: 3.0ms preprocess, 91.1ms inference, 0.3ms postprocess per image at shape (1, 3, 480, 640)\n",
      "\n",
      "0: 480x640 21 cars, 2 buss, 1 truck, 92.2ms\n",
      "Speed: 4.1ms preprocess, 92.2ms inference, 1.4ms postprocess per image at shape (1, 3, 480, 640)\n",
      "\n",
      "0: 480x640 (no detections), 91.5ms\n",
      "Speed: 3.2ms preprocess, 91.5ms inference, 0.3ms postprocess per image at shape (1, 3, 480, 640)\n",
      "\n",
      "0: 480x640 21 cars, 2 buss, 1 truck, 91.8ms\n",
      "Speed: 3.2ms preprocess, 91.8ms inference, 0.9ms postprocess per image at shape (1, 3, 480, 640)\n",
      "\n",
      "0: 480x640 (no detections), 90.4ms\n",
      "Speed: 3.6ms preprocess, 90.4ms inference, 0.4ms postprocess per image at shape (1, 3, 480, 640)\n",
      "\n",
      "0: 480x640 21 cars, 1 bus, 1 truck, 95.1ms\n",
      "Speed: 3.1ms preprocess, 95.1ms inference, 0.9ms postprocess per image at shape (1, 3, 480, 640)\n",
      "\n",
      "0: 480x640 (no detections), 88.2ms\n",
      "Speed: 3.6ms preprocess, 88.2ms inference, 0.4ms postprocess per image at shape (1, 3, 480, 640)\n",
      "\n",
      "0: 480x640 21 cars, 1 bus, 1 truck, 96.7ms\n",
      "Speed: 3.1ms preprocess, 96.7ms inference, 1.0ms postprocess per image at shape (1, 3, 480, 640)\n",
      "\n",
      "0: 480x640 (no detections), 94.1ms\n",
      "Speed: 3.0ms preprocess, 94.1ms inference, 0.4ms postprocess per image at shape (1, 3, 480, 640)\n",
      "\n",
      "0: 480x640 21 cars, 2 buss, 1 truck, 94.8ms\n",
      "Speed: 3.6ms preprocess, 94.8ms inference, 0.9ms postprocess per image at shape (1, 3, 480, 640)\n",
      "\n",
      "0: 480x640 (no detections), 89.4ms\n",
      "Speed: 3.7ms preprocess, 89.4ms inference, 0.4ms postprocess per image at shape (1, 3, 480, 640)\n",
      "\n",
      "0: 480x640 21 cars, 2 buss, 1 truck, 93.4ms\n",
      "Speed: 4.7ms preprocess, 93.4ms inference, 1.1ms postprocess per image at shape (1, 3, 480, 640)\n",
      "\n",
      "0: 480x640 (no detections), 92.8ms\n",
      "Speed: 3.0ms preprocess, 92.8ms inference, 0.4ms postprocess per image at shape (1, 3, 480, 640)\n",
      "\n",
      "0: 480x640 25 cars, 2 buss, 1 truck, 94.9ms\n",
      "Speed: 3.1ms preprocess, 94.9ms inference, 0.9ms postprocess per image at shape (1, 3, 480, 640)\n",
      "\n",
      "0: 480x640 (no detections), 90.0ms\n",
      "Speed: 3.4ms preprocess, 90.0ms inference, 0.9ms postprocess per image at shape (1, 3, 480, 640)\n",
      "\n",
      "0: 480x640 25 cars, 2 buss, 1 truck, 88.2ms\n",
      "Speed: 3.5ms preprocess, 88.2ms inference, 0.9ms postprocess per image at shape (1, 3, 480, 640)\n",
      "\n",
      "0: 480x640 (no detections), 90.7ms\n",
      "Speed: 3.0ms preprocess, 90.7ms inference, 0.4ms postprocess per image at shape (1, 3, 480, 640)\n",
      "\n",
      "0: 480x640 23 cars, 2 buss, 1 truck, 91.5ms\n",
      "Speed: 3.4ms preprocess, 91.5ms inference, 1.0ms postprocess per image at shape (1, 3, 480, 640)\n",
      "\n",
      "0: 480x640 (no detections), 91.0ms\n",
      "Speed: 3.5ms preprocess, 91.0ms inference, 0.3ms postprocess per image at shape (1, 3, 480, 640)\n",
      "\n",
      "0: 480x640 25 cars, 2 buss, 1 truck, 92.2ms\n",
      "Speed: 3.0ms preprocess, 92.2ms inference, 1.4ms postprocess per image at shape (1, 3, 480, 640)\n",
      "\n",
      "0: 480x640 (no detections), 90.2ms\n",
      "Speed: 2.9ms preprocess, 90.2ms inference, 0.4ms postprocess per image at shape (1, 3, 480, 640)\n",
      "\n",
      "0: 480x640 25 cars, 1 truck, 91.4ms\n",
      "Speed: 3.5ms preprocess, 91.4ms inference, 1.0ms postprocess per image at shape (1, 3, 480, 640)\n",
      "\n",
      "0: 480x640 (no detections), 92.1ms\n",
      "Speed: 3.0ms preprocess, 92.1ms inference, 0.4ms postprocess per image at shape (1, 3, 480, 640)\n",
      "\n",
      "0: 480x640 26 cars, 1 truck, 91.6ms\n",
      "Speed: 3.4ms preprocess, 91.6ms inference, 0.9ms postprocess per image at shape (1, 3, 480, 640)\n",
      "\n",
      "0: 480x640 (no detections), 92.2ms\n",
      "Speed: 3.0ms preprocess, 92.2ms inference, 0.4ms postprocess per image at shape (1, 3, 480, 640)\n",
      "\n",
      "0: 480x640 25 cars, 1 truck, 91.9ms\n",
      "Speed: 3.7ms preprocess, 91.9ms inference, 0.9ms postprocess per image at shape (1, 3, 480, 640)\n",
      "\n",
      "0: 480x640 (no detections), 86.1ms\n",
      "Speed: 3.5ms preprocess, 86.1ms inference, 0.3ms postprocess per image at shape (1, 3, 480, 640)\n",
      "\n",
      "0: 480x640 25 cars, 1 truck, 91.6ms\n",
      "Speed: 3.0ms preprocess, 91.6ms inference, 0.9ms postprocess per image at shape (1, 3, 480, 640)\n",
      "\n",
      "0: 480x640 (no detections), 91.9ms\n",
      "Speed: 3.5ms preprocess, 91.9ms inference, 0.4ms postprocess per image at shape (1, 3, 480, 640)\n",
      "\n",
      "0: 480x640 24 cars, 1 truck, 93.2ms\n",
      "Speed: 3.1ms preprocess, 93.2ms inference, 1.0ms postprocess per image at shape (1, 3, 480, 640)\n",
      "\n",
      "0: 480x640 (no detections), 89.6ms\n",
      "Speed: 3.4ms preprocess, 89.6ms inference, 0.4ms postprocess per image at shape (1, 3, 480, 640)\n",
      "\n",
      "0: 480x640 24 cars, 1 truck, 90.9ms\n",
      "Speed: 3.1ms preprocess, 90.9ms inference, 0.9ms postprocess per image at shape (1, 3, 480, 640)\n",
      "\n",
      "0: 480x640 (no detections), 89.6ms\n",
      "Speed: 3.1ms preprocess, 89.6ms inference, 0.4ms postprocess per image at shape (1, 3, 480, 640)\n",
      "\n",
      "0: 480x640 24 cars, 1 truck, 96.9ms\n",
      "Speed: 3.3ms preprocess, 96.9ms inference, 0.9ms postprocess per image at shape (1, 3, 480, 640)\n",
      "\n",
      "0: 480x640 (no detections), 88.7ms\n",
      "Speed: 3.0ms preprocess, 88.7ms inference, 0.7ms postprocess per image at shape (1, 3, 480, 640)\n",
      "\n",
      "0: 480x640 24 cars, 1 truck, 93.8ms\n",
      "Speed: 3.3ms preprocess, 93.8ms inference, 0.9ms postprocess per image at shape (1, 3, 480, 640)\n",
      "\n",
      "0: 480x640 (no detections), 88.9ms\n",
      "Speed: 3.1ms preprocess, 88.9ms inference, 0.4ms postprocess per image at shape (1, 3, 480, 640)\n",
      "\n",
      "0: 480x640 25 cars, 1 truck, 91.6ms\n",
      "Speed: 3.2ms preprocess, 91.6ms inference, 0.9ms postprocess per image at shape (1, 3, 480, 640)\n",
      "\n",
      "0: 480x640 (no detections), 92.6ms\n",
      "Speed: 3.3ms preprocess, 92.6ms inference, 0.4ms postprocess per image at shape (1, 3, 480, 640)\n",
      "\n",
      "0: 480x640 24 cars, 1 truck, 90.8ms\n",
      "Speed: 3.2ms preprocess, 90.8ms inference, 0.9ms postprocess per image at shape (1, 3, 480, 640)\n",
      "\n",
      "0: 480x640 (no detections), 87.9ms\n",
      "Speed: 3.0ms preprocess, 87.9ms inference, 0.4ms postprocess per image at shape (1, 3, 480, 640)\n",
      "\n",
      "0: 480x640 23 cars, 1 truck, 94.2ms\n",
      "Speed: 3.5ms preprocess, 94.2ms inference, 0.9ms postprocess per image at shape (1, 3, 480, 640)\n",
      "\n",
      "0: 480x640 (no detections), 91.4ms\n",
      "Speed: 3.1ms preprocess, 91.4ms inference, 0.4ms postprocess per image at shape (1, 3, 480, 640)\n",
      "\n",
      "0: 480x640 23 cars, 1 truck, 96.4ms\n",
      "Speed: 3.2ms preprocess, 96.4ms inference, 1.0ms postprocess per image at shape (1, 3, 480, 640)\n",
      "\n",
      "0: 480x640 (no detections), 91.6ms\n",
      "Speed: 3.0ms preprocess, 91.6ms inference, 0.4ms postprocess per image at shape (1, 3, 480, 640)\n",
      "\n",
      "0: 480x640 24 cars, 1 truck, 94.1ms\n",
      "Speed: 3.1ms preprocess, 94.1ms inference, 1.5ms postprocess per image at shape (1, 3, 480, 640)\n",
      "\n",
      "0: 480x640 (no detections), 88.5ms\n",
      "Speed: 3.4ms preprocess, 88.5ms inference, 0.4ms postprocess per image at shape (1, 3, 480, 640)\n",
      "\n",
      "0: 480x640 23 cars, 1 truck, 92.5ms\n",
      "Speed: 3.1ms preprocess, 92.5ms inference, 0.9ms postprocess per image at shape (1, 3, 480, 640)\n",
      "\n",
      "0: 480x640 (no detections), 88.2ms\n",
      "Speed: 3.6ms preprocess, 88.2ms inference, 0.4ms postprocess per image at shape (1, 3, 480, 640)\n",
      "\n",
      "0: 480x640 23 cars, 1 truck, 89.3ms\n",
      "Speed: 3.6ms preprocess, 89.3ms inference, 0.9ms postprocess per image at shape (1, 3, 480, 640)\n",
      "\n",
      "0: 480x640 (no detections), 87.2ms\n",
      "Speed: 3.0ms preprocess, 87.2ms inference, 0.3ms postprocess per image at shape (1, 3, 480, 640)\n",
      "\n",
      "0: 480x640 23 cars, 1 truck, 91.4ms\n",
      "Speed: 3.2ms preprocess, 91.4ms inference, 0.9ms postprocess per image at shape (1, 3, 480, 640)\n",
      "\n",
      "0: 480x640 (no detections), 90.2ms\n",
      "Speed: 3.0ms preprocess, 90.2ms inference, 0.4ms postprocess per image at shape (1, 3, 480, 640)\n",
      "\n",
      "0: 480x640 22 cars, 1 truck, 92.3ms\n",
      "Speed: 3.2ms preprocess, 92.3ms inference, 1.0ms postprocess per image at shape (1, 3, 480, 640)\n",
      "\n",
      "0: 480x640 (no detections), 94.2ms\n",
      "Speed: 3.4ms preprocess, 94.2ms inference, 0.3ms postprocess per image at shape (1, 3, 480, 640)\n",
      "\n",
      "0: 480x640 22 cars, 1 truck, 93.7ms\n",
      "Speed: 3.5ms preprocess, 93.7ms inference, 1.0ms postprocess per image at shape (1, 3, 480, 640)\n",
      "\n",
      "0: 480x640 (no detections), 88.9ms\n",
      "Speed: 3.2ms preprocess, 88.9ms inference, 0.4ms postprocess per image at shape (1, 3, 480, 640)\n",
      "\n",
      "0: 480x640 23 cars, 1 truck, 1 traffic light, 97.9ms\n",
      "Speed: 3.8ms preprocess, 97.9ms inference, 0.9ms postprocess per image at shape (1, 3, 480, 640)\n",
      "\n",
      "0: 480x640 (no detections), 93.2ms\n",
      "Speed: 3.7ms preprocess, 93.2ms inference, 0.4ms postprocess per image at shape (1, 3, 480, 640)\n",
      "\n",
      "0: 480x640 23 cars, 1 truck, 95.5ms\n",
      "Speed: 3.0ms preprocess, 95.5ms inference, 1.0ms postprocess per image at shape (1, 3, 480, 640)\n",
      "\n",
      "0: 480x640 (no detections), 92.7ms\n",
      "Speed: 3.0ms preprocess, 92.7ms inference, 0.4ms postprocess per image at shape (1, 3, 480, 640)\n",
      "\n",
      "0: 480x640 22 cars, 1 truck, 1 traffic light, 94.8ms\n",
      "Speed: 3.7ms preprocess, 94.8ms inference, 1.0ms postprocess per image at shape (1, 3, 480, 640)\n",
      "\n",
      "0: 480x640 (no detections), 89.1ms\n",
      "Speed: 3.6ms preprocess, 89.1ms inference, 0.4ms postprocess per image at shape (1, 3, 480, 640)\n",
      "\n",
      "0: 480x640 23 cars, 1 truck, 1 traffic light, 89.5ms\n",
      "Speed: 3.0ms preprocess, 89.5ms inference, 1.4ms postprocess per image at shape (1, 3, 480, 640)\n",
      "\n",
      "0: 480x640 (no detections), 86.6ms\n",
      "Speed: 3.1ms preprocess, 86.6ms inference, 0.4ms postprocess per image at shape (1, 3, 480, 640)\n",
      "\n",
      "0: 480x640 25 cars, 1 truck, 1 traffic light, 94.6ms\n",
      "Speed: 3.0ms preprocess, 94.6ms inference, 0.9ms postprocess per image at shape (1, 3, 480, 640)\n",
      "\n",
      "0: 480x640 (no detections), 91.4ms\n",
      "Speed: 3.5ms preprocess, 91.4ms inference, 0.4ms postprocess per image at shape (1, 3, 480, 640)\n",
      "\n",
      "0: 480x640 25 cars, 1 truck, 1 traffic light, 93.0ms\n",
      "Speed: 3.3ms preprocess, 93.0ms inference, 0.9ms postprocess per image at shape (1, 3, 480, 640)\n",
      "\n",
      "0: 480x640 (no detections), 90.8ms\n",
      "Speed: 3.5ms preprocess, 90.8ms inference, 0.8ms postprocess per image at shape (1, 3, 480, 640)\n",
      "\n",
      "0: 480x640 23 cars, 1 truck, 90.4ms\n",
      "Speed: 2.9ms preprocess, 90.4ms inference, 0.9ms postprocess per image at shape (1, 3, 480, 640)\n",
      "\n",
      "0: 480x640 (no detections), 91.7ms\n",
      "Speed: 3.5ms preprocess, 91.7ms inference, 0.4ms postprocess per image at shape (1, 3, 480, 640)\n",
      "\n",
      "0: 480x640 22 cars, 1 truck, 1 traffic light, 91.7ms\n",
      "Speed: 3.5ms preprocess, 91.7ms inference, 0.9ms postprocess per image at shape (1, 3, 480, 640)\n",
      "\n",
      "0: 480x640 (no detections), 92.3ms\n",
      "Speed: 3.6ms preprocess, 92.3ms inference, 0.3ms postprocess per image at shape (1, 3, 480, 640)\n",
      "\n",
      "0: 480x640 22 cars, 1 truck, 94.5ms\n",
      "Speed: 3.6ms preprocess, 94.5ms inference, 1.2ms postprocess per image at shape (1, 3, 480, 640)\n",
      "\n",
      "0: 480x640 1 license, 88.5ms\n",
      "Speed: 3.6ms preprocess, 88.5ms inference, 0.7ms postprocess per image at shape (1, 3, 480, 640)\n",
      "\n",
      "0: 480x640 22 cars, 1 truck, 77.9ms\n",
      "Speed: 2.4ms preprocess, 77.9ms inference, 0.8ms postprocess per image at shape (1, 3, 480, 640)\n",
      "\n",
      "0: 480x640 1 license, 78.3ms\n",
      "Speed: 2.8ms preprocess, 78.3ms inference, 0.5ms postprocess per image at shape (1, 3, 480, 640)\n",
      "\n",
      "0: 480x640 23 cars, 1 truck, 85.6ms\n",
      "Speed: 2.9ms preprocess, 85.6ms inference, 0.9ms postprocess per image at shape (1, 3, 480, 640)\n",
      "\n",
      "0: 480x640 (no detections), 90.6ms\n",
      "Speed: 3.2ms preprocess, 90.6ms inference, 0.4ms postprocess per image at shape (1, 3, 480, 640)\n",
      "\n"
     ]
    },
    {
     "name": "stdout",
     "output_type": "stream",
     "text": [
      "Error: results_list is empty or contains tuples without a second element.\n"
     ]
    },
    {
     "name": "stderr",
     "output_type": "stream",
     "text": [
      "0: 480x640 22 cars, 1 truck, 1 traffic light, 114.8ms\n",
      "Speed: 3.8ms preprocess, 114.8ms inference, 1.1ms postprocess per image at shape (1, 3, 480, 640)\n",
      "\n",
      "0: 480x640 (no detections), 108.3ms\n",
      "Speed: 4.1ms preprocess, 108.3ms inference, 0.4ms postprocess per image at shape (1, 3, 480, 640)\n",
      "\n",
      "0: 480x640 23 cars, 1 truck, 107.5ms\n",
      "Speed: 3.6ms preprocess, 107.5ms inference, 1.0ms postprocess per image at shape (1, 3, 480, 640)\n",
      "\n",
      "0: 480x640 (no detections), 93.7ms\n",
      "Speed: 3.6ms preprocess, 93.7ms inference, 0.4ms postprocess per image at shape (1, 3, 480, 640)\n",
      "\n",
      "0: 480x640 23 cars, 1 truck, 97.5ms\n",
      "Speed: 4.1ms preprocess, 97.5ms inference, 0.9ms postprocess per image at shape (1, 3, 480, 640)\n",
      "\n",
      "0: 480x640 (no detections), 87.7ms\n",
      "Speed: 3.0ms preprocess, 87.7ms inference, 0.4ms postprocess per image at shape (1, 3, 480, 640)\n",
      "\n",
      "0: 480x640 21 cars, 1 truck, 93.7ms\n",
      "Speed: 3.1ms preprocess, 93.7ms inference, 1.0ms postprocess per image at shape (1, 3, 480, 640)\n",
      "\n",
      "0: 480x640 (no detections), 92.9ms\n",
      "Speed: 2.8ms preprocess, 92.9ms inference, 0.4ms postprocess per image at shape (1, 3, 480, 640)\n",
      "\n",
      "0: 480x640 21 cars, 1 truck, 94.0ms\n",
      "Speed: 3.1ms preprocess, 94.0ms inference, 0.9ms postprocess per image at shape (1, 3, 480, 640)\n",
      "\n",
      "0: 480x640 (no detections), 87.5ms\n",
      "Speed: 2.7ms preprocess, 87.5ms inference, 0.3ms postprocess per image at shape (1, 3, 480, 640)\n",
      "\n",
      "0: 480x640 22 cars, 1 truck, 99.8ms\n",
      "Speed: 2.9ms preprocess, 99.8ms inference, 0.9ms postprocess per image at shape (1, 3, 480, 640)\n",
      "\n",
      "0: 480x640 (no detections), 88.4ms\n",
      "Speed: 3.2ms preprocess, 88.4ms inference, 0.4ms postprocess per image at shape (1, 3, 480, 640)\n",
      "\n",
      "0: 480x640 22 cars, 1 truck, 91.5ms\n",
      "Speed: 3.7ms preprocess, 91.5ms inference, 0.9ms postprocess per image at shape (1, 3, 480, 640)\n",
      "\n",
      "0: 480x640 (no detections), 88.6ms\n",
      "Speed: 3.0ms preprocess, 88.6ms inference, 0.4ms postprocess per image at shape (1, 3, 480, 640)\n",
      "\n",
      "0: 480x640 20 cars, 1 truck, 90.5ms\n",
      "Speed: 3.3ms preprocess, 90.5ms inference, 1.0ms postprocess per image at shape (1, 3, 480, 640)\n",
      "\n",
      "0: 480x640 1 license, 88.1ms\n",
      "Speed: 3.0ms preprocess, 88.1ms inference, 0.6ms postprocess per image at shape (1, 3, 480, 640)\n",
      "\n",
      "0: 480x640 20 cars, 1 truck, 79.4ms\n",
      "Speed: 2.3ms preprocess, 79.4ms inference, 0.8ms postprocess per image at shape (1, 3, 480, 640)\n",
      "\n",
      "0: 480x640 1 license, 75.0ms\n",
      "Speed: 2.5ms preprocess, 75.0ms inference, 0.4ms postprocess per image at shape (1, 3, 480, 640)\n"
     ]
    },
    {
     "name": "stdout",
     "output_type": "stream",
     "text": [
      "Error: results_list is empty or contains tuples without a second element.\n"
     ]
    },
    {
     "name": "stderr",
     "output_type": "stream",
     "text": [
      "\n",
      "0: 480x640 19 cars, 1 truck, 87.1ms\n",
      "Speed: 2.8ms preprocess, 87.1ms inference, 1.2ms postprocess per image at shape (1, 3, 480, 640)\n",
      "\n",
      "0: 480x640 (no detections), 83.7ms\n",
      "Speed: 2.9ms preprocess, 83.7ms inference, 0.3ms postprocess per image at shape (1, 3, 480, 640)\n",
      "\n"
     ]
    },
    {
     "name": "stdout",
     "output_type": "stream",
     "text": [
      "Error: results_list is empty or contains tuples without a second element.\n"
     ]
    },
    {
     "name": "stderr",
     "output_type": "stream",
     "text": [
      "0: 480x640 18 cars, 1 truck, 89.0ms\n",
      "Speed: 2.6ms preprocess, 89.0ms inference, 0.8ms postprocess per image at shape (1, 3, 480, 640)\n",
      "\n",
      "0: 480x640 (no detections), 96.8ms\n",
      "Speed: 3.8ms preprocess, 96.8ms inference, 0.4ms postprocess per image at shape (1, 3, 480, 640)\n",
      "\n",
      "0: 480x640 19 cars, 1 truck, 107.5ms\n",
      "Speed: 3.8ms preprocess, 107.5ms inference, 1.0ms postprocess per image at shape (1, 3, 480, 640)\n",
      "\n",
      "0: 480x640 (no detections), 94.3ms\n",
      "Speed: 3.7ms preprocess, 94.3ms inference, 0.3ms postprocess per image at shape (1, 3, 480, 640)\n",
      "\n",
      "0: 480x640 20 cars, 1 truck, 93.7ms\n",
      "Speed: 3.5ms preprocess, 93.7ms inference, 0.9ms postprocess per image at shape (1, 3, 480, 640)\n",
      "\n",
      "0: 480x640 (no detections), 91.7ms\n",
      "Speed: 3.0ms preprocess, 91.7ms inference, 0.7ms postprocess per image at shape (1, 3, 480, 640)\n",
      "\n",
      "0: 480x640 19 cars, 1 truck, 91.7ms\n",
      "Speed: 3.0ms preprocess, 91.7ms inference, 0.9ms postprocess per image at shape (1, 3, 480, 640)\n",
      "\n",
      "0: 480x640 1 license, 84.7ms\n",
      "Speed: 3.6ms preprocess, 84.7ms inference, 0.6ms postprocess per image at shape (1, 3, 480, 640)\n",
      "\n",
      "0: 480x640 19 cars, 1 truck, 77.2ms\n",
      "Speed: 2.8ms preprocess, 77.2ms inference, 0.8ms postprocess per image at shape (1, 3, 480, 640)\n",
      "\n",
      "0: 480x640 1 license, 76.7ms\n",
      "Speed: 2.8ms preprocess, 76.7ms inference, 0.6ms postprocess per image at shape (1, 3, 480, 640)\n",
      "\n",
      "0: 480x640 22 cars, 1 truck, 82.7ms\n",
      "Speed: 2.6ms preprocess, 82.7ms inference, 0.8ms postprocess per image at shape (1, 3, 480, 640)\n",
      "\n",
      "0: 480x640 (no detections), 83.1ms\n",
      "Speed: 2.6ms preprocess, 83.1ms inference, 0.3ms postprocess per image at shape (1, 3, 480, 640)\n",
      "\n",
      "0: 480x640 21 cars, 1 truck, 94.4ms\n",
      "Speed: 3.5ms preprocess, 94.4ms inference, 1.1ms postprocess per image at shape (1, 3, 480, 640)\n",
      "\n",
      "0: 480x640 (no detections), 103.9ms\n",
      "Speed: 4.3ms preprocess, 103.9ms inference, 0.4ms postprocess per image at shape (1, 3, 480, 640)\n",
      "\n",
      "0: 480x640 22 cars, 2 trucks, 104.3ms\n",
      "Speed: 3.7ms preprocess, 104.3ms inference, 0.9ms postprocess per image at shape (1, 3, 480, 640)\n",
      "\n",
      "0: 480x640 2 licenses, 94.2ms\n",
      "Speed: 3.6ms preprocess, 94.2ms inference, 0.7ms postprocess per image at shape (1, 3, 480, 640)\n"
     ]
    },
    {
     "name": "stdout",
     "output_type": "stream",
     "text": [
      "Error: results_list is empty or contains tuples without a second element.\n"
     ]
    },
    {
     "name": "stderr",
     "output_type": "stream",
     "text": [
      "\n",
      "0: 480x640 22 cars, 2 trucks, 83.8ms\n",
      "Speed: 2.3ms preprocess, 83.8ms inference, 0.9ms postprocess per image at shape (1, 3, 480, 640)\n",
      "\n",
      "0: 480x640 2 licenses, 84.5ms\n",
      "Speed: 3.4ms preprocess, 84.5ms inference, 0.6ms postprocess per image at shape (1, 3, 480, 640)\n"
     ]
    },
    {
     "name": "stdout",
     "output_type": "stream",
     "text": [
      "Error: results_list is empty or contains tuples without a second element.\n"
     ]
    },
    {
     "name": "stderr",
     "output_type": "stream",
     "text": [
      "\n",
      "0: 480x640 21 cars, 2 trucks, 79.2ms\n",
      "Speed: 2.5ms preprocess, 79.2ms inference, 1.1ms postprocess per image at shape (1, 3, 480, 640)\n",
      "\n",
      "0: 480x640 1 license, 76.3ms\n",
      "Speed: 2.9ms preprocess, 76.3ms inference, 0.5ms postprocess per image at shape (1, 3, 480, 640)\n",
      "\n",
      "0: 480x640 21 cars, 2 trucks, 87.4ms\n",
      "Speed: 2.8ms preprocess, 87.4ms inference, 0.8ms postprocess per image at shape (1, 3, 480, 640)\n",
      "\n",
      "0: 480x640 1 license, 86.9ms\n",
      "Speed: 3.3ms preprocess, 86.9ms inference, 0.7ms postprocess per image at shape (1, 3, 480, 640)\n",
      "\n",
      "0: 480x640 22 cars, 2 trucks, 76.2ms\n",
      "Speed: 2.4ms preprocess, 76.2ms inference, 0.7ms postprocess per image at shape (1, 3, 480, 640)\n",
      "\n",
      "0: 480x640 1 license, 80.7ms\n",
      "Speed: 3.1ms preprocess, 80.7ms inference, 0.6ms postprocess per image at shape (1, 3, 480, 640)\n",
      "\n",
      "0: 480x640 22 cars, 2 trucks, 81.2ms\n",
      "Speed: 2.4ms preprocess, 81.2ms inference, 0.8ms postprocess per image at shape (1, 3, 480, 640)\n",
      "\n",
      "0: 480x640 1 license, 82.5ms\n",
      "Speed: 3.2ms preprocess, 82.5ms inference, 1.0ms postprocess per image at shape (1, 3, 480, 640)\n",
      "\n",
      "0: 480x640 21 cars, 1 truck, 79.5ms\n",
      "Speed: 2.5ms preprocess, 79.5ms inference, 0.8ms postprocess per image at shape (1, 3, 480, 640)\n",
      "\n",
      "0: 480x640 1 license, 80.5ms\n",
      "Speed: 2.7ms preprocess, 80.5ms inference, 0.5ms postprocess per image at shape (1, 3, 480, 640)\n",
      "\n",
      "0: 480x640 22 cars, 1 truck, 81.0ms\n",
      "Speed: 2.4ms preprocess, 81.0ms inference, 0.8ms postprocess per image at shape (1, 3, 480, 640)\n",
      "\n",
      "0: 480x640 1 license, 83.9ms\n",
      "Speed: 3.2ms preprocess, 83.9ms inference, 0.6ms postprocess per image at shape (1, 3, 480, 640)\n",
      "\n",
      "0: 480x640 21 cars, 2 trucks, 81.6ms\n",
      "Speed: 2.5ms preprocess, 81.6ms inference, 0.8ms postprocess per image at shape (1, 3, 480, 640)\n",
      "\n",
      "0: 480x640 (no detections), 84.0ms\n",
      "Speed: 3.3ms preprocess, 84.0ms inference, 0.4ms postprocess per image at shape (1, 3, 480, 640)\n",
      "\n",
      "0: 480x640 21 cars, 2 trucks, 87.7ms\n",
      "Speed: 3.5ms preprocess, 87.7ms inference, 1.4ms postprocess per image at shape (1, 3, 480, 640)\n",
      "\n",
      "0: 480x640 1 license, 101.3ms\n",
      "Speed: 3.0ms preprocess, 101.3ms inference, 0.7ms postprocess per image at shape (1, 3, 480, 640)\n",
      "\n",
      "0: 480x640 21 cars, 1 truck, 78.3ms\n",
      "Speed: 2.4ms preprocess, 78.3ms inference, 0.8ms postprocess per image at shape (1, 3, 480, 640)\n",
      "\n",
      "0: 480x640 2 licenses, 73.2ms\n",
      "Speed: 2.8ms preprocess, 73.2ms inference, 0.6ms postprocess per image at shape (1, 3, 480, 640)\n",
      "\n",
      "0: 480x640 21 cars, 2 trucks, 77.5ms\n",
      "Speed: 2.4ms preprocess, 77.5ms inference, 0.7ms postprocess per image at shape (1, 3, 480, 640)\n",
      "\n",
      "0: 480x640 2 licenses, 75.5ms\n",
      "Speed: 2.9ms preprocess, 75.5ms inference, 0.6ms postprocess per image at shape (1, 3, 480, 640)\n",
      "\n",
      "0: 480x640 22 cars, 1 truck, 1 traffic light, 75.4ms\n",
      "Speed: 2.3ms preprocess, 75.4ms inference, 0.8ms postprocess per image at shape (1, 3, 480, 640)\n",
      "\n",
      "0: 480x640 1 license, 82.6ms\n",
      "Speed: 2.4ms preprocess, 82.6ms inference, 0.6ms postprocess per image at shape (1, 3, 480, 640)\n",
      "\n",
      "0: 480x640 22 cars, 2 trucks, 1 traffic light, 88.1ms\n",
      "Speed: 2.8ms preprocess, 88.1ms inference, 0.9ms postprocess per image at shape (1, 3, 480, 640)\n",
      "\n",
      "0: 480x640 1 license, 82.6ms\n",
      "Speed: 3.1ms preprocess, 82.6ms inference, 0.6ms postprocess per image at shape (1, 3, 480, 640)\n",
      "\n",
      "0: 480x640 21 cars, 1 bus, 2 trucks, 1 traffic light, 82.1ms\n",
      "Speed: 3.0ms preprocess, 82.1ms inference, 0.8ms postprocess per image at shape (1, 3, 480, 640)\n",
      "\n",
      "0: 480x640 2 licenses, 81.0ms\n",
      "Speed: 3.1ms preprocess, 81.0ms inference, 0.6ms postprocess per image at shape (1, 3, 480, 640)\n",
      "\n",
      "0: 480x640 21 cars, 1 bus, 2 trucks, 1 traffic light, 80.9ms\n",
      "Speed: 2.4ms preprocess, 80.9ms inference, 0.8ms postprocess per image at shape (1, 3, 480, 640)\n",
      "\n",
      "0: 480x640 2 licenses, 75.5ms\n",
      "Speed: 2.4ms preprocess, 75.5ms inference, 0.5ms postprocess per image at shape (1, 3, 480, 640)\n"
     ]
    },
    {
     "name": "stdout",
     "output_type": "stream",
     "text": [
      "Error: results_list is empty or contains tuples without a second element.\n"
     ]
    },
    {
     "name": "stderr",
     "output_type": "stream",
     "text": [
      "\n",
      "0: 480x640 21 cars, 2 trucks, 79.3ms\n",
      "Speed: 2.6ms preprocess, 79.3ms inference, 0.8ms postprocess per image at shape (1, 3, 480, 640)\n",
      "\n",
      "0: 480x640 1 license, 77.5ms\n",
      "Speed: 3.1ms preprocess, 77.5ms inference, 0.6ms postprocess per image at shape (1, 3, 480, 640)\n"
     ]
    },
    {
     "name": "stdout",
     "output_type": "stream",
     "text": [
      "Error: results_list is empty or contains tuples without a second element.\n"
     ]
    },
    {
     "name": "stderr",
     "output_type": "stream",
     "text": [
      "\n",
      "0: 480x640 22 cars, 2 trucks, 84.6ms\n",
      "Speed: 2.3ms preprocess, 84.6ms inference, 0.9ms postprocess per image at shape (1, 3, 480, 640)\n",
      "\n",
      "0: 480x640 1 license, 80.1ms\n",
      "Speed: 3.1ms preprocess, 80.1ms inference, 0.9ms postprocess per image at shape (1, 3, 480, 640)\n",
      "\n",
      "0: 480x640 21 cars, 1 bus, 1 truck, 79.5ms\n",
      "Speed: 2.5ms preprocess, 79.5ms inference, 0.8ms postprocess per image at shape (1, 3, 480, 640)\n",
      "\n",
      "0: 480x640 1 license, 83.3ms\n",
      "Speed: 2.7ms preprocess, 83.3ms inference, 0.6ms postprocess per image at shape (1, 3, 480, 640)\n",
      "\n",
      "0: 480x640 21 cars, 1 bus, 1 truck, 81.4ms\n",
      "Speed: 2.6ms preprocess, 81.4ms inference, 0.8ms postprocess per image at shape (1, 3, 480, 640)\n",
      "\n",
      "0: 480x640 1 license, 80.3ms\n",
      "Speed: 3.2ms preprocess, 80.3ms inference, 0.9ms postprocess per image at shape (1, 3, 480, 640)\n",
      "\n",
      "0: 480x640 23 cars, 1 truck, 85.3ms\n",
      "Speed: 2.4ms preprocess, 85.3ms inference, 0.8ms postprocess per image at shape (1, 3, 480, 640)\n",
      "\n",
      "0: 480x640 1 license, 83.4ms\n",
      "Speed: 3.2ms preprocess, 83.4ms inference, 0.8ms postprocess per image at shape (1, 3, 480, 640)\n",
      "\n",
      "0: 480x640 22 cars, 1 truck, 80.4ms\n",
      "Speed: 2.5ms preprocess, 80.4ms inference, 0.8ms postprocess per image at shape (1, 3, 480, 640)\n",
      "\n",
      "0: 480x640 1 license, 81.5ms\n",
      "Speed: 3.3ms preprocess, 81.5ms inference, 0.6ms postprocess per image at shape (1, 3, 480, 640)\n"
     ]
    },
    {
     "name": "stdout",
     "output_type": "stream",
     "text": [
      "Error: results_list is empty or contains tuples without a second element.\n"
     ]
    },
    {
     "name": "stderr",
     "output_type": "stream",
     "text": [
      "\n",
      "0: 480x640 21 cars, 1 truck, 82.5ms\n",
      "Speed: 2.4ms preprocess, 82.5ms inference, 0.8ms postprocess per image at shape (1, 3, 480, 640)\n",
      "\n",
      "0: 480x640 1 license, 82.9ms\n",
      "Speed: 3.2ms preprocess, 82.9ms inference, 0.6ms postprocess per image at shape (1, 3, 480, 640)\n"
     ]
    },
    {
     "name": "stdout",
     "output_type": "stream",
     "text": [
      "Error: results_list is empty or contains tuples without a second element.\n"
     ]
    },
    {
     "name": "stderr",
     "output_type": "stream",
     "text": [
      "\n",
      "0: 480x640 21 cars, 1 truck, 83.6ms\n",
      "Speed: 2.5ms preprocess, 83.6ms inference, 1.0ms postprocess per image at shape (1, 3, 480, 640)\n",
      "\n",
      "0: 480x640 1 license, 85.5ms\n",
      "Speed: 2.6ms preprocess, 85.5ms inference, 1.0ms postprocess per image at shape (1, 3, 480, 640)\n",
      "\n",
      "0: 480x640 23 cars, 1 truck, 85.5ms\n",
      "Speed: 3.5ms preprocess, 85.5ms inference, 0.8ms postprocess per image at shape (1, 3, 480, 640)\n",
      "\n",
      "0: 480x640 2 licenses, 78.5ms\n",
      "Speed: 2.5ms preprocess, 78.5ms inference, 1.0ms postprocess per image at shape (1, 3, 480, 640)\n",
      "\n",
      "0: 480x640 23 cars, 1 truck, 77.8ms\n",
      "Speed: 2.5ms preprocess, 77.8ms inference, 0.8ms postprocess per image at shape (1, 3, 480, 640)\n",
      "\n",
      "0: 480x640 2 licenses, 76.9ms\n",
      "Speed: 3.0ms preprocess, 76.9ms inference, 0.5ms postprocess per image at shape (1, 3, 480, 640)\n"
     ]
    },
    {
     "name": "stdout",
     "output_type": "stream",
     "text": [
      "Error: results_list is empty or contains tuples without a second element.\n"
     ]
    },
    {
     "name": "stderr",
     "output_type": "stream",
     "text": [
      "\n",
      "0: 480x640 24 cars, 1 truck, 80.0ms\n",
      "Speed: 2.3ms preprocess, 80.0ms inference, 0.8ms postprocess per image at shape (1, 3, 480, 640)\n",
      "\n",
      "0: 480x640 1 license, 81.9ms\n",
      "Speed: 3.3ms preprocess, 81.9ms inference, 0.6ms postprocess per image at shape (1, 3, 480, 640)\n"
     ]
    },
    {
     "name": "stdout",
     "output_type": "stream",
     "text": [
      "Error: results_list is empty or contains tuples without a second element.\n"
     ]
    },
    {
     "name": "stderr",
     "output_type": "stream",
     "text": [
      "\n",
      "0: 480x640 24 cars, 1 truck, 85.5ms\n",
      "Speed: 2.6ms preprocess, 85.5ms inference, 1.0ms postprocess per image at shape (1, 3, 480, 640)\n",
      "\n",
      "0: 480x640 1 license, 82.1ms\n",
      "Speed: 3.1ms preprocess, 82.1ms inference, 0.6ms postprocess per image at shape (1, 3, 480, 640)\n",
      "\n",
      "0: 480x640 22 cars, 1 truck, 79.9ms\n",
      "Speed: 2.4ms preprocess, 79.9ms inference, 0.9ms postprocess per image at shape (1, 3, 480, 640)\n",
      "\n",
      "0: 480x640 1 license, 82.5ms\n",
      "Speed: 3.2ms preprocess, 82.5ms inference, 0.6ms postprocess per image at shape (1, 3, 480, 640)\n",
      "\n",
      "0: 480x640 22 cars, 1 truck, 85.7ms\n",
      "Speed: 2.8ms preprocess, 85.7ms inference, 1.3ms postprocess per image at shape (1, 3, 480, 640)\n",
      "\n",
      "0: 480x640 1 license, 84.9ms\n",
      "Speed: 2.8ms preprocess, 84.9ms inference, 0.6ms postprocess per image at shape (1, 3, 480, 640)\n",
      "\n",
      "0: 480x640 24 cars, 1 truck, 127.6ms\n",
      "Speed: 2.4ms preprocess, 127.6ms inference, 0.9ms postprocess per image at shape (1, 3, 480, 640)\n",
      "\n",
      "0: 480x640 1 license, 112.2ms\n",
      "Speed: 3.6ms preprocess, 112.2ms inference, 0.9ms postprocess per image at shape (1, 3, 480, 640)\n",
      "\n",
      "0: 480x640 23 cars, 1 truck, 77.1ms\n",
      "Speed: 2.4ms preprocess, 77.1ms inference, 0.8ms postprocess per image at shape (1, 3, 480, 640)\n",
      "\n",
      "0: 480x640 1 license, 74.7ms\n",
      "Speed: 3.0ms preprocess, 74.7ms inference, 0.9ms postprocess per image at shape (1, 3, 480, 640)\n",
      "\n",
      "0: 480x640 26 cars, 1 truck, 106.5ms\n",
      "Speed: 2.5ms preprocess, 106.5ms inference, 1.9ms postprocess per image at shape (1, 3, 480, 640)\n",
      "\n",
      "0: 480x640 1 license, 152.9ms\n",
      "Speed: 3.8ms preprocess, 152.9ms inference, 1.2ms postprocess per image at shape (1, 3, 480, 640)\n",
      "\n",
      "0: 480x640 26 cars, 1 truck, 77.8ms\n",
      "Speed: 2.4ms preprocess, 77.8ms inference, 0.7ms postprocess per image at shape (1, 3, 480, 640)\n",
      "\n",
      "0: 480x640 1 license, 77.3ms\n",
      "Speed: 2.9ms preprocess, 77.3ms inference, 0.6ms postprocess per image at shape (1, 3, 480, 640)\n",
      "\n",
      "0: 480x640 24 cars, 1 truck, 80.0ms\n",
      "Speed: 2.4ms preprocess, 80.0ms inference, 0.9ms postprocess per image at shape (1, 3, 480, 640)\n",
      "\n",
      "0: 480x640 1 license, 83.6ms\n",
      "Speed: 3.2ms preprocess, 83.6ms inference, 0.6ms postprocess per image at shape (1, 3, 480, 640)\n",
      "\n",
      "0: 480x640 24 cars, 1 truck, 82.3ms\n",
      "Speed: 2.5ms preprocess, 82.3ms inference, 0.8ms postprocess per image at shape (1, 3, 480, 640)\n",
      "\n",
      "0: 480x640 1 license, 78.8ms\n",
      "Speed: 3.2ms preprocess, 78.8ms inference, 0.9ms postprocess per image at shape (1, 3, 480, 640)\n",
      "\n",
      "0: 480x640 24 cars, 1 truck, 81.5ms\n",
      "Speed: 2.5ms preprocess, 81.5ms inference, 0.8ms postprocess per image at shape (1, 3, 480, 640)\n",
      "\n",
      "0: 480x640 1 license, 80.2ms\n",
      "Speed: 2.7ms preprocess, 80.2ms inference, 0.6ms postprocess per image at shape (1, 3, 480, 640)\n",
      "\n",
      "0: 480x640 24 cars, 1 truck, 82.9ms\n",
      "Speed: 2.4ms preprocess, 82.9ms inference, 0.9ms postprocess per image at shape (1, 3, 480, 640)\n",
      "\n",
      "0: 480x640 1 license, 82.2ms\n",
      "Speed: 3.2ms preprocess, 82.2ms inference, 0.8ms postprocess per image at shape (1, 3, 480, 640)\n",
      "\n",
      "0: 480x640 26 cars, 1 truck, 79.9ms\n",
      "Speed: 2.4ms preprocess, 79.9ms inference, 0.8ms postprocess per image at shape (1, 3, 480, 640)\n",
      "\n",
      "0: 480x640 1 license, 81.6ms\n",
      "Speed: 3.2ms preprocess, 81.6ms inference, 0.6ms postprocess per image at shape (1, 3, 480, 640)\n",
      "\n",
      "0: 480x640 26 cars, 1 truck, 82.8ms\n",
      "Speed: 2.4ms preprocess, 82.8ms inference, 0.8ms postprocess per image at shape (1, 3, 480, 640)\n",
      "\n",
      "0: 480x640 1 license, 81.4ms\n",
      "Speed: 2.8ms preprocess, 81.4ms inference, 0.6ms postprocess per image at shape (1, 3, 480, 640)\n",
      "\n",
      "0: 480x640 23 cars, 1 truck, 84.8ms\n",
      "Speed: 2.4ms preprocess, 84.8ms inference, 0.9ms postprocess per image at shape (1, 3, 480, 640)\n",
      "\n",
      "0: 480x640 1 license, 83.4ms\n",
      "Speed: 2.7ms preprocess, 83.4ms inference, 0.6ms postprocess per image at shape (1, 3, 480, 640)\n",
      "\n",
      "0: 480x640 22 cars, 1 truck, 83.1ms\n",
      "Speed: 3.0ms preprocess, 83.1ms inference, 0.8ms postprocess per image at shape (1, 3, 480, 640)\n",
      "\n",
      "0: 480x640 1 license, 87.4ms\n",
      "Speed: 3.2ms preprocess, 87.4ms inference, 0.6ms postprocess per image at shape (1, 3, 480, 640)\n",
      "\n",
      "0: 480x640 23 cars, 1 truck, 83.5ms\n",
      "Speed: 2.4ms preprocess, 83.5ms inference, 0.8ms postprocess per image at shape (1, 3, 480, 640)\n",
      "\n",
      "0: 480x640 2 licenses, 81.0ms\n",
      "Speed: 2.6ms preprocess, 81.0ms inference, 0.6ms postprocess per image at shape (1, 3, 480, 640)\n",
      "\n",
      "0: 480x640 23 cars, 1 truck, 77.4ms\n",
      "Speed: 2.4ms preprocess, 77.4ms inference, 0.8ms postprocess per image at shape (1, 3, 480, 640)\n",
      "\n",
      "0: 480x640 2 licenses, 75.5ms\n",
      "Speed: 2.4ms preprocess, 75.5ms inference, 0.5ms postprocess per image at shape (1, 3, 480, 640)\n"
     ]
    },
    {
     "name": "stdout",
     "output_type": "stream",
     "text": [
      "Error: results_list is empty or contains tuples without a second element.\n"
     ]
    },
    {
     "name": "stderr",
     "output_type": "stream",
     "text": [
      "\n",
      "0: 480x640 23 cars, 1 truck, 78.1ms\n",
      "Speed: 2.6ms preprocess, 78.1ms inference, 0.7ms postprocess per image at shape (1, 3, 480, 640)\n",
      "\n",
      "0: 480x640 1 license, 76.4ms\n",
      "Speed: 3.0ms preprocess, 76.4ms inference, 0.6ms postprocess per image at shape (1, 3, 480, 640)\n"
     ]
    },
    {
     "name": "stdout",
     "output_type": "stream",
     "text": [
      "Error: results_list is empty or contains tuples without a second element.\n"
     ]
    },
    {
     "name": "stderr",
     "output_type": "stream",
     "text": [
      "\n",
      "0: 480x640 23 cars, 1 truck, 84.3ms\n",
      "Speed: 2.6ms preprocess, 84.3ms inference, 0.9ms postprocess per image at shape (1, 3, 480, 640)\n",
      "\n",
      "0: 480x640 1 license, 82.1ms\n",
      "Speed: 3.3ms preprocess, 82.1ms inference, 0.6ms postprocess per image at shape (1, 3, 480, 640)\n",
      "\n",
      "0: 480x640 23 cars, 2 trucks, 79.3ms\n",
      "Speed: 2.8ms preprocess, 79.3ms inference, 0.8ms postprocess per image at shape (1, 3, 480, 640)\n",
      "\n",
      "0: 480x640 1 license, 84.1ms\n",
      "Speed: 3.2ms preprocess, 84.1ms inference, 0.6ms postprocess per image at shape (1, 3, 480, 640)\n",
      "\n",
      "0: 480x640 23 cars, 2 trucks, 75.6ms\n",
      "Speed: 2.4ms preprocess, 75.6ms inference, 0.9ms postprocess per image at shape (1, 3, 480, 640)\n",
      "\n",
      "0: 480x640 1 license, 82.7ms\n",
      "Speed: 3.1ms preprocess, 82.7ms inference, 0.6ms postprocess per image at shape (1, 3, 480, 640)\n",
      "\n",
      "0: 480x640 21 cars, 2 trucks, 78.8ms\n",
      "Speed: 2.5ms preprocess, 78.8ms inference, 0.8ms postprocess per image at shape (1, 3, 480, 640)\n",
      "\n",
      "0: 480x640 1 license, 82.3ms\n",
      "Speed: 2.8ms preprocess, 82.3ms inference, 0.6ms postprocess per image at shape (1, 3, 480, 640)\n",
      "\n",
      "0: 480x640 21 cars, 2 trucks, 78.8ms\n",
      "Speed: 2.6ms preprocess, 78.8ms inference, 0.8ms postprocess per image at shape (1, 3, 480, 640)\n",
      "\n",
      "0: 480x640 1 license, 80.8ms\n",
      "Speed: 2.6ms preprocess, 80.8ms inference, 0.6ms postprocess per image at shape (1, 3, 480, 640)\n"
     ]
    },
    {
     "name": "stdout",
     "output_type": "stream",
     "text": [
      "Error: results_list is empty or contains tuples without a second element.\n"
     ]
    },
    {
     "name": "stderr",
     "output_type": "stream",
     "text": [
      "\n",
      "0: 480x640 25 cars, 3 trucks, 83.0ms\n",
      "Speed: 2.4ms preprocess, 83.0ms inference, 0.8ms postprocess per image at shape (1, 3, 480, 640)\n",
      "\n",
      "0: 480x640 1 license, 81.4ms\n",
      "Speed: 3.1ms preprocess, 81.4ms inference, 0.6ms postprocess per image at shape (1, 3, 480, 640)\n",
      "\n",
      "0: 480x640 24 cars, 3 trucks, 81.4ms\n",
      "Speed: 3.0ms preprocess, 81.4ms inference, 0.9ms postprocess per image at shape (1, 3, 480, 640)\n",
      "\n",
      "0: 480x640 1 license, 84.8ms\n",
      "Speed: 2.7ms preprocess, 84.8ms inference, 0.6ms postprocess per image at shape (1, 3, 480, 640)\n",
      "\n",
      "0: 480x640 24 cars, 1 truck, 80.3ms\n",
      "Speed: 2.5ms preprocess, 80.3ms inference, 0.7ms postprocess per image at shape (1, 3, 480, 640)\n",
      "\n",
      "0: 480x640 1 license, 82.4ms\n",
      "Speed: 2.8ms preprocess, 82.4ms inference, 0.6ms postprocess per image at shape (1, 3, 480, 640)\n",
      "\n",
      "0: 480x640 24 cars, 1 truck, 80.9ms\n",
      "Speed: 2.5ms preprocess, 80.9ms inference, 0.8ms postprocess per image at shape (1, 3, 480, 640)\n",
      "\n",
      "0: 480x640 1 license, 82.1ms\n",
      "Speed: 3.2ms preprocess, 82.1ms inference, 0.6ms postprocess per image at shape (1, 3, 480, 640)\n",
      "\n",
      "0: 480x640 23 cars, 1 truck, 83.7ms\n",
      "Speed: 2.5ms preprocess, 83.7ms inference, 0.9ms postprocess per image at shape (1, 3, 480, 640)\n",
      "\n",
      "0: 480x640 1 license, 82.6ms\n",
      "Speed: 2.8ms preprocess, 82.6ms inference, 0.6ms postprocess per image at shape (1, 3, 480, 640)\n",
      "\n",
      "0: 480x640 23 cars, 1 truck, 84.2ms\n",
      "Speed: 2.5ms preprocess, 84.2ms inference, 0.9ms postprocess per image at shape (1, 3, 480, 640)\n",
      "\n",
      "0: 480x640 1 license, 83.0ms\n",
      "Speed: 2.7ms preprocess, 83.0ms inference, 0.6ms postprocess per image at shape (1, 3, 480, 640)\n",
      "\n",
      "0: 480x640 22 cars, 4 trucks, 77.9ms\n",
      "Speed: 2.4ms preprocess, 77.9ms inference, 0.8ms postprocess per image at shape (1, 3, 480, 640)\n",
      "\n",
      "0: 480x640 1 license, 83.8ms\n",
      "Speed: 3.2ms preprocess, 83.8ms inference, 0.6ms postprocess per image at shape (1, 3, 480, 640)\n",
      "\n",
      "0: 480x640 22 cars, 4 trucks, 82.1ms\n",
      "Speed: 2.5ms preprocess, 82.1ms inference, 0.8ms postprocess per image at shape (1, 3, 480, 640)\n",
      "\n",
      "0: 480x640 1 license, 84.0ms\n",
      "Speed: 2.8ms preprocess, 84.0ms inference, 0.5ms postprocess per image at shape (1, 3, 480, 640)\n",
      "\n",
      "0: 480x640 24 cars, 5 trucks, 81.1ms\n",
      "Speed: 2.5ms preprocess, 81.1ms inference, 0.8ms postprocess per image at shape (1, 3, 480, 640)\n",
      "\n",
      "0: 480x640 2 licenses, 82.9ms\n",
      "Speed: 3.2ms preprocess, 82.9ms inference, 0.6ms postprocess per image at shape (1, 3, 480, 640)\n",
      "\n",
      "0: 480x640 23 cars, 5 trucks, 83.4ms\n",
      "Speed: 2.3ms preprocess, 83.4ms inference, 0.8ms postprocess per image at shape (1, 3, 480, 640)\n",
      "\n",
      "0: 480x640 2 licenses, 83.6ms\n",
      "Speed: 2.7ms preprocess, 83.6ms inference, 0.6ms postprocess per image at shape (1, 3, 480, 640)\n"
     ]
    },
    {
     "name": "stdout",
     "output_type": "stream",
     "text": [
      "Error: results_list is empty or contains tuples without a second element.\n"
     ]
    },
    {
     "name": "stderr",
     "output_type": "stream",
     "text": [
      "\n",
      "0: 480x640 23 cars, 5 trucks, 79.8ms\n",
      "Speed: 2.4ms preprocess, 79.8ms inference, 0.8ms postprocess per image at shape (1, 3, 480, 640)\n",
      "\n",
      "0: 480x640 2 licenses, 83.9ms\n",
      "Speed: 3.3ms preprocess, 83.9ms inference, 0.9ms postprocess per image at shape (1, 3, 480, 640)\n"
     ]
    },
    {
     "name": "stdout",
     "output_type": "stream",
     "text": [
      "Error: results_list is empty or contains tuples without a second element.\n"
     ]
    },
    {
     "name": "stderr",
     "output_type": "stream",
     "text": [
      "\n",
      "0: 480x640 23 cars, 5 trucks, 83.5ms\n",
      "Speed: 2.5ms preprocess, 83.5ms inference, 0.7ms postprocess per image at shape (1, 3, 480, 640)\n",
      "\n",
      "0: 480x640 2 licenses, 83.0ms\n",
      "Speed: 3.1ms preprocess, 83.0ms inference, 0.6ms postprocess per image at shape (1, 3, 480, 640)\n"
     ]
    },
    {
     "name": "stdout",
     "output_type": "stream",
     "text": [
      "Error: results_list is empty or contains tuples without a second element.\n"
     ]
    },
    {
     "name": "stderr",
     "output_type": "stream",
     "text": [
      "\n",
      "0: 480x640 25 cars, 2 trucks, 86.3ms\n",
      "Speed: 2.7ms preprocess, 86.3ms inference, 0.8ms postprocess per image at shape (1, 3, 480, 640)\n",
      "\n",
      "0: 480x640 1 license, 84.8ms\n",
      "Speed: 2.7ms preprocess, 84.8ms inference, 0.7ms postprocess per image at shape (1, 3, 480, 640)\n"
     ]
    },
    {
     "name": "stdout",
     "output_type": "stream",
     "text": [
      "Error: results_list is empty or contains tuples without a second element.\n"
     ]
    },
    {
     "name": "stderr",
     "output_type": "stream",
     "text": [
      "\n",
      "0: 480x640 26 cars, 1 truck, 128.9ms\n",
      "Speed: 2.3ms preprocess, 128.9ms inference, 0.9ms postprocess per image at shape (1, 3, 480, 640)\n",
      "\n",
      "0: 480x640 1 license, 92.9ms\n",
      "Speed: 3.0ms preprocess, 92.9ms inference, 0.7ms postprocess per image at shape (1, 3, 480, 640)\n",
      "\n",
      "0: 480x640 25 cars, 3 trucks, 75.3ms\n",
      "Speed: 2.5ms preprocess, 75.3ms inference, 0.8ms postprocess per image at shape (1, 3, 480, 640)\n",
      "\n",
      "0: 480x640 1 license, 77.1ms\n",
      "Speed: 2.9ms preprocess, 77.1ms inference, 0.6ms postprocess per image at shape (1, 3, 480, 640)\n",
      "\n",
      "0: 480x640 25 cars, 3 trucks, 79.9ms\n",
      "Speed: 2.4ms preprocess, 79.9ms inference, 0.8ms postprocess per image at shape (1, 3, 480, 640)\n",
      "\n",
      "0: 480x640 1 license, 82.0ms\n",
      "Speed: 3.0ms preprocess, 82.0ms inference, 0.6ms postprocess per image at shape (1, 3, 480, 640)\n",
      "\n",
      "0: 480x640 25 cars, 3 trucks, 82.8ms\n",
      "Speed: 2.4ms preprocess, 82.8ms inference, 0.9ms postprocess per image at shape (1, 3, 480, 640)\n",
      "\n",
      "0: 480x640 2 licenses, 82.9ms\n",
      "Speed: 3.3ms preprocess, 82.9ms inference, 0.6ms postprocess per image at shape (1, 3, 480, 640)\n",
      "\n",
      "0: 480x640 24 cars, 3 trucks, 79.6ms\n",
      "Speed: 2.7ms preprocess, 79.6ms inference, 0.7ms postprocess per image at shape (1, 3, 480, 640)\n",
      "\n",
      "0: 480x640 2 licenses, 83.8ms\n",
      "Speed: 3.0ms preprocess, 83.8ms inference, 0.6ms postprocess per image at shape (1, 3, 480, 640)\n"
     ]
    },
    {
     "name": "stdout",
     "output_type": "stream",
     "text": [
      "Error: results_list is empty or contains tuples without a second element.\n"
     ]
    },
    {
     "name": "stderr",
     "output_type": "stream",
     "text": [
      "\n",
      "0: 480x640 23 cars, 3 trucks, 81.5ms\n",
      "Speed: 2.3ms preprocess, 81.5ms inference, 0.8ms postprocess per image at shape (1, 3, 480, 640)\n",
      "\n",
      "0: 480x640 2 licenses, 79.6ms\n",
      "Speed: 2.8ms preprocess, 79.6ms inference, 0.6ms postprocess per image at shape (1, 3, 480, 640)\n"
     ]
    },
    {
     "name": "stdout",
     "output_type": "stream",
     "text": [
      "Error: results_list is empty or contains tuples without a second element.\n"
     ]
    },
    {
     "name": "stderr",
     "output_type": "stream",
     "text": [
      "\n",
      "0: 480x640 23 cars, 3 trucks, 84.8ms\n",
      "Speed: 2.4ms preprocess, 84.8ms inference, 0.8ms postprocess per image at shape (1, 3, 480, 640)\n",
      "\n",
      "0: 480x640 2 licenses, 84.1ms\n",
      "Speed: 3.2ms preprocess, 84.1ms inference, 1.1ms postprocess per image at shape (1, 3, 480, 640)\n"
     ]
    },
    {
     "name": "stdout",
     "output_type": "stream",
     "text": [
      "Error: results_list is empty or contains tuples without a second element.\n"
     ]
    },
    {
     "name": "stderr",
     "output_type": "stream",
     "text": [
      "\n",
      "0: 480x640 23 cars, 3 trucks, 80.4ms\n",
      "Speed: 2.5ms preprocess, 80.4ms inference, 0.8ms postprocess per image at shape (1, 3, 480, 640)\n",
      "\n",
      "0: 480x640 2 licenses, 73.7ms\n",
      "Speed: 2.4ms preprocess, 73.7ms inference, 0.5ms postprocess per image at shape (1, 3, 480, 640)\n"
     ]
    },
    {
     "name": "stdout",
     "output_type": "stream",
     "text": [
      "Error: results_list is empty or contains tuples without a second element.\n"
     ]
    },
    {
     "name": "stderr",
     "output_type": "stream",
     "text": [
      "\n",
      "0: 480x640 21 cars, 3 trucks, 79.2ms\n",
      "Speed: 2.6ms preprocess, 79.2ms inference, 0.8ms postprocess per image at shape (1, 3, 480, 640)\n",
      "\n",
      "0: 480x640 2 licenses, 77.1ms\n",
      "Speed: 3.1ms preprocess, 77.1ms inference, 0.9ms postprocess per image at shape (1, 3, 480, 640)\n"
     ]
    },
    {
     "name": "stdout",
     "output_type": "stream",
     "text": [
      "Error: results_list is empty or contains tuples without a second element.\n"
     ]
    },
    {
     "name": "stderr",
     "output_type": "stream",
     "text": [
      "\n",
      "0: 480x640 24 cars, 3 trucks, 82.4ms\n",
      "Speed: 3.0ms preprocess, 82.4ms inference, 0.8ms postprocess per image at shape (1, 3, 480, 640)\n",
      "\n",
      "0: 480x640 2 licenses, 79.7ms\n",
      "Speed: 2.5ms preprocess, 79.7ms inference, 0.6ms postprocess per image at shape (1, 3, 480, 640)\n"
     ]
    },
    {
     "name": "stdout",
     "output_type": "stream",
     "text": [
      "Error: results_list is empty or contains tuples without a second element.\n",
      "Error: results_list is empty or contains tuples without a second element.\n"
     ]
    },
    {
     "name": "stderr",
     "output_type": "stream",
     "text": [
      "\n",
      "0: 480x640 24 cars, 3 trucks, 80.0ms\n",
      "Speed: 2.5ms preprocess, 80.0ms inference, 0.8ms postprocess per image at shape (1, 3, 480, 640)\n",
      "\n",
      "0: 480x640 2 licenses, 79.7ms\n",
      "Speed: 2.5ms preprocess, 79.7ms inference, 0.6ms postprocess per image at shape (1, 3, 480, 640)\n"
     ]
    },
    {
     "name": "stdout",
     "output_type": "stream",
     "text": [
      "Error: results_list is empty or contains tuples without a second element.\n",
      "Error: results_list is empty or contains tuples without a second element.\n"
     ]
    },
    {
     "name": "stderr",
     "output_type": "stream",
     "text": [
      "\n",
      "0: 480x640 24 cars, 3 trucks, 74.8ms\n",
      "Speed: 2.5ms preprocess, 74.8ms inference, 0.8ms postprocess per image at shape (1, 3, 480, 640)\n",
      "\n",
      "0: 480x640 2 licenses, 72.7ms\n",
      "Speed: 2.9ms preprocess, 72.7ms inference, 0.5ms postprocess per image at shape (1, 3, 480, 640)\n"
     ]
    },
    {
     "name": "stdout",
     "output_type": "stream",
     "text": [
      "Error: results_list is empty or contains tuples without a second element.\n"
     ]
    },
    {
     "name": "stderr",
     "output_type": "stream",
     "text": [
      "\n",
      "0: 480x640 23 cars, 3 trucks, 79.7ms\n",
      "Speed: 2.5ms preprocess, 79.7ms inference, 0.8ms postprocess per image at shape (1, 3, 480, 640)\n",
      "\n",
      "0: 480x640 2 licenses, 80.9ms\n",
      "Speed: 2.4ms preprocess, 80.9ms inference, 0.6ms postprocess per image at shape (1, 3, 480, 640)\n"
     ]
    },
    {
     "name": "stdout",
     "output_type": "stream",
     "text": [
      "Error: results_list is empty or contains tuples without a second element.\n"
     ]
    },
    {
     "name": "stderr",
     "output_type": "stream",
     "text": [
      "\n",
      "0: 480x640 22 cars, 3 trucks, 84.5ms\n",
      "Speed: 2.9ms preprocess, 84.5ms inference, 1.3ms postprocess per image at shape (1, 3, 480, 640)\n",
      "\n",
      "0: 480x640 2 licenses, 83.0ms\n",
      "Speed: 3.2ms preprocess, 83.0ms inference, 0.7ms postprocess per image at shape (1, 3, 480, 640)\n"
     ]
    },
    {
     "name": "stdout",
     "output_type": "stream",
     "text": [
      "Error: results_list is empty or contains tuples without a second element.\n"
     ]
    },
    {
     "name": "stderr",
     "output_type": "stream",
     "text": [
      "\n",
      "0: 480x640 22 cars, 3 trucks, 80.6ms\n",
      "Speed: 2.3ms preprocess, 80.6ms inference, 0.7ms postprocess per image at shape (1, 3, 480, 640)\n",
      "\n",
      "0: 480x640 2 licenses, 73.2ms\n",
      "Speed: 2.9ms preprocess, 73.2ms inference, 0.5ms postprocess per image at shape (1, 3, 480, 640)\n"
     ]
    },
    {
     "name": "stdout",
     "output_type": "stream",
     "text": [
      "Error: results_list is empty or contains tuples without a second element.\n"
     ]
    },
    {
     "name": "stderr",
     "output_type": "stream",
     "text": [
      "\n",
      "0: 480x640 23 cars, 3 trucks, 77.7ms\n",
      "Speed: 2.4ms preprocess, 77.7ms inference, 1.0ms postprocess per image at shape (1, 3, 480, 640)\n",
      "\n",
      "0: 480x640 1 license, 80.9ms\n",
      "Speed: 2.5ms preprocess, 80.9ms inference, 0.6ms postprocess per image at shape (1, 3, 480, 640)\n"
     ]
    },
    {
     "name": "stdout",
     "output_type": "stream",
     "text": [
      "Error: results_list is empty or contains tuples without a second element.\n"
     ]
    },
    {
     "name": "stderr",
     "output_type": "stream",
     "text": [
      "\n",
      "0: 480x640 23 cars, 3 trucks, 83.1ms\n",
      "Speed: 2.4ms preprocess, 83.1ms inference, 0.8ms postprocess per image at shape (1, 3, 480, 640)\n",
      "\n",
      "0: 480x640 1 license, 81.2ms\n",
      "Speed: 3.1ms preprocess, 81.2ms inference, 0.6ms postprocess per image at shape (1, 3, 480, 640)\n",
      "\n",
      "0: 480x640 22 cars, 2 trucks, 83.0ms\n",
      "Speed: 2.4ms preprocess, 83.0ms inference, 0.8ms postprocess per image at shape (1, 3, 480, 640)\n",
      "\n",
      "0: 480x640 2 licenses, 79.7ms\n",
      "Speed: 3.2ms preprocess, 79.7ms inference, 0.7ms postprocess per image at shape (1, 3, 480, 640)\n",
      "\n",
      "0: 480x640 23 cars, 2 trucks, 78.8ms\n",
      "Speed: 2.5ms preprocess, 78.8ms inference, 0.7ms postprocess per image at shape (1, 3, 480, 640)\n",
      "\n",
      "0: 480x640 2 licenses, 73.8ms\n",
      "Speed: 2.4ms preprocess, 73.8ms inference, 0.5ms postprocess per image at shape (1, 3, 480, 640)\n"
     ]
    },
    {
     "name": "stdout",
     "output_type": "stream",
     "text": [
      "Error: results_list is empty or contains tuples without a second element.\n"
     ]
    },
    {
     "name": "stderr",
     "output_type": "stream",
     "text": [
      "\n",
      "0: 480x640 22 cars, 3 trucks, 77.4ms\n",
      "Speed: 2.4ms preprocess, 77.4ms inference, 0.8ms postprocess per image at shape (1, 3, 480, 640)\n",
      "\n",
      "0: 480x640 1 license, 80.7ms\n",
      "Speed: 2.3ms preprocess, 80.7ms inference, 0.6ms postprocess per image at shape (1, 3, 480, 640)\n"
     ]
    },
    {
     "name": "stdout",
     "output_type": "stream",
     "text": [
      "Error: results_list is empty or contains tuples without a second element.\n"
     ]
    },
    {
     "name": "stderr",
     "output_type": "stream",
     "text": [
      "\n",
      "0: 480x640 22 cars, 3 trucks, 84.1ms\n",
      "Speed: 2.7ms preprocess, 84.1ms inference, 0.8ms postprocess per image at shape (1, 3, 480, 640)\n",
      "\n",
      "0: 480x640 1 license, 83.8ms\n",
      "Speed: 2.7ms preprocess, 83.8ms inference, 0.7ms postprocess per image at shape (1, 3, 480, 640)\n",
      "\n",
      "0: 480x640 19 cars, 3 trucks, 78.3ms\n",
      "Speed: 2.5ms preprocess, 78.3ms inference, 0.8ms postprocess per image at shape (1, 3, 480, 640)\n",
      "\n",
      "0: 480x640 1 license, 80.1ms\n",
      "Speed: 2.7ms preprocess, 80.1ms inference, 0.5ms postprocess per image at shape (1, 3, 480, 640)\n",
      "\n",
      "0: 480x640 19 cars, 3 trucks, 83.7ms\n",
      "Speed: 2.6ms preprocess, 83.7ms inference, 0.9ms postprocess per image at shape (1, 3, 480, 640)\n",
      "\n",
      "0: 480x640 1 license, 80.9ms\n",
      "Speed: 3.2ms preprocess, 80.9ms inference, 0.6ms postprocess per image at shape (1, 3, 480, 640)\n",
      "\n",
      "0: 480x640 20 cars, 3 trucks, 78.0ms\n",
      "Speed: 2.5ms preprocess, 78.0ms inference, 0.7ms postprocess per image at shape (1, 3, 480, 640)\n",
      "\n",
      "0: 480x640 1 license, 77.1ms\n",
      "Speed: 2.4ms preprocess, 77.1ms inference, 0.5ms postprocess per image at shape (1, 3, 480, 640)\n",
      "\n",
      "0: 480x640 20 cars, 3 trucks, 77.4ms\n",
      "Speed: 2.4ms preprocess, 77.4ms inference, 0.8ms postprocess per image at shape (1, 3, 480, 640)\n",
      "\n",
      "0: 480x640 1 license, 79.2ms\n",
      "Speed: 3.2ms preprocess, 79.2ms inference, 1.0ms postprocess per image at shape (1, 3, 480, 640)\n",
      "\n",
      "0: 480x640 20 cars, 3 trucks, 75.9ms\n",
      "Speed: 2.4ms preprocess, 75.9ms inference, 0.8ms postprocess per image at shape (1, 3, 480, 640)\n",
      "\n",
      "0: 480x640 1 license, 81.5ms\n",
      "Speed: 3.1ms preprocess, 81.5ms inference, 0.6ms postprocess per image at shape (1, 3, 480, 640)\n",
      "\n",
      "0: 480x640 21 cars, 3 trucks, 77.4ms\n",
      "Speed: 2.3ms preprocess, 77.4ms inference, 0.8ms postprocess per image at shape (1, 3, 480, 640)\n",
      "\n",
      "0: 480x640 1 license, 83.6ms\n",
      "Speed: 3.2ms preprocess, 83.6ms inference, 0.6ms postprocess per image at shape (1, 3, 480, 640)\n",
      "\n",
      "0: 480x640 19 cars, 2 trucks, 1 traffic light, 82.9ms\n",
      "Speed: 2.4ms preprocess, 82.9ms inference, 0.8ms postprocess per image at shape (1, 3, 480, 640)\n",
      "\n",
      "0: 480x640 1 license, 82.2ms\n",
      "Speed: 2.6ms preprocess, 82.2ms inference, 0.5ms postprocess per image at shape (1, 3, 480, 640)\n",
      "\n",
      "0: 480x640 19 cars, 2 trucks, 1 traffic light, 84.1ms\n",
      "Speed: 2.7ms preprocess, 84.1ms inference, 1.2ms postprocess per image at shape (1, 3, 480, 640)\n",
      "\n",
      "0: 480x640 1 license, 85.2ms\n",
      "Speed: 3.2ms preprocess, 85.2ms inference, 0.6ms postprocess per image at shape (1, 3, 480, 640)\n",
      "\n",
      "0: 480x640 20 cars, 2 trucks, 78.2ms\n",
      "Speed: 2.4ms preprocess, 78.2ms inference, 0.7ms postprocess per image at shape (1, 3, 480, 640)\n",
      "\n",
      "0: 480x640 1 license, 81.8ms\n",
      "Speed: 2.5ms preprocess, 81.8ms inference, 0.6ms postprocess per image at shape (1, 3, 480, 640)\n",
      "\n",
      "0: 480x640 19 cars, 2 trucks, 83.9ms\n",
      "Speed: 2.4ms preprocess, 83.9ms inference, 0.8ms postprocess per image at shape (1, 3, 480, 640)\n",
      "\n",
      "0: 480x640 1 license, 82.1ms\n",
      "Speed: 3.2ms preprocess, 82.1ms inference, 0.6ms postprocess per image at shape (1, 3, 480, 640)\n",
      "\n",
      "0: 480x640 19 cars, 1 truck, 81.8ms\n",
      "Speed: 2.4ms preprocess, 81.8ms inference, 0.8ms postprocess per image at shape (1, 3, 480, 640)\n",
      "\n",
      "0: 480x640 2 licenses, 83.8ms\n",
      "Speed: 2.6ms preprocess, 83.8ms inference, 0.6ms postprocess per image at shape (1, 3, 480, 640)\n",
      "\n",
      "0: 480x640 19 cars, 1 truck, 76.3ms\n",
      "Speed: 2.4ms preprocess, 76.3ms inference, 0.7ms postprocess per image at shape (1, 3, 480, 640)\n",
      "\n",
      "0: 480x640 2 licenses, 81.3ms\n",
      "Speed: 2.9ms preprocess, 81.3ms inference, 0.6ms postprocess per image at shape (1, 3, 480, 640)\n"
     ]
    },
    {
     "name": "stdout",
     "output_type": "stream",
     "text": [
      "Error: results_list is empty or contains tuples without a second element.\n"
     ]
    },
    {
     "name": "stderr",
     "output_type": "stream",
     "text": [
      "\n",
      "0: 480x640 18 cars, 1 truck, 82.5ms\n",
      "Speed: 3.1ms preprocess, 82.5ms inference, 0.8ms postprocess per image at shape (1, 3, 480, 640)\n",
      "\n",
      "0: 480x640 1 license, 78.4ms\n",
      "Speed: 2.3ms preprocess, 78.4ms inference, 0.6ms postprocess per image at shape (1, 3, 480, 640)\n"
     ]
    },
    {
     "name": "stdout",
     "output_type": "stream",
     "text": [
      "Error: results_list is empty or contains tuples without a second element.\n"
     ]
    },
    {
     "name": "stderr",
     "output_type": "stream",
     "text": [
      "\n",
      "0: 480x640 18 cars, 1 truck, 85.5ms\n",
      "Speed: 2.6ms preprocess, 85.5ms inference, 0.8ms postprocess per image at shape (1, 3, 480, 640)\n",
      "\n",
      "0: 480x640 1 license, 84.9ms\n",
      "Speed: 2.7ms preprocess, 84.9ms inference, 0.6ms postprocess per image at shape (1, 3, 480, 640)\n",
      "\n",
      "0: 480x640 20 cars, 2 trucks, 77.2ms\n",
      "Speed: 2.6ms preprocess, 77.2ms inference, 0.9ms postprocess per image at shape (1, 3, 480, 640)\n",
      "\n",
      "0: 480x640 1 license, 81.5ms\n",
      "Speed: 3.2ms preprocess, 81.5ms inference, 0.6ms postprocess per image at shape (1, 3, 480, 640)\n",
      "\n",
      "0: 480x640 20 cars, 1 truck, 79.0ms\n",
      "Speed: 2.4ms preprocess, 79.0ms inference, 0.8ms postprocess per image at shape (1, 3, 480, 640)\n",
      "\n",
      "0: 480x640 1 license, 81.9ms\n",
      "Speed: 3.2ms preprocess, 81.9ms inference, 0.7ms postprocess per image at shape (1, 3, 480, 640)\n",
      "\n",
      "0: 480x640 20 cars, 1 truck, 75.4ms\n",
      "Speed: 2.4ms preprocess, 75.4ms inference, 0.9ms postprocess per image at shape (1, 3, 480, 640)\n",
      "\n",
      "0: 480x640 1 license, 80.7ms\n",
      "Speed: 3.2ms preprocess, 80.7ms inference, 0.6ms postprocess per image at shape (1, 3, 480, 640)\n",
      "\n",
      "0: 480x640 20 cars, 1 truck, 83.0ms\n",
      "Speed: 2.6ms preprocess, 83.0ms inference, 0.8ms postprocess per image at shape (1, 3, 480, 640)\n",
      "\n",
      "0: 480x640 1 license, 80.3ms\n",
      "Speed: 2.6ms preprocess, 80.3ms inference, 1.2ms postprocess per image at shape (1, 3, 480, 640)\n",
      "\n",
      "0: 480x640 19 cars, 1 truck, 86.6ms\n",
      "Speed: 2.8ms preprocess, 86.6ms inference, 0.9ms postprocess per image at shape (1, 3, 480, 640)\n",
      "\n",
      "0: 480x640 1 license, 82.5ms\n",
      "Speed: 2.7ms preprocess, 82.5ms inference, 0.8ms postprocess per image at shape (1, 3, 480, 640)\n",
      "\n",
      "0: 480x640 19 cars, 2 trucks, 83.1ms\n",
      "Speed: 2.5ms preprocess, 83.1ms inference, 0.8ms postprocess per image at shape (1, 3, 480, 640)\n",
      "\n",
      "0: 480x640 1 license, 80.6ms\n",
      "Speed: 3.3ms preprocess, 80.6ms inference, 0.8ms postprocess per image at shape (1, 3, 480, 640)\n",
      "\n",
      "0: 480x640 19 cars, 1 truck, 82.6ms\n",
      "Speed: 2.4ms preprocess, 82.6ms inference, 0.8ms postprocess per image at shape (1, 3, 480, 640)\n",
      "\n",
      "0: 480x640 1 license, 83.2ms\n",
      "Speed: 3.2ms preprocess, 83.2ms inference, 0.6ms postprocess per image at shape (1, 3, 480, 640)\n",
      "\n",
      "0: 480x640 19 cars, 1 truck, 77.3ms\n",
      "Speed: 2.5ms preprocess, 77.3ms inference, 0.7ms postprocess per image at shape (1, 3, 480, 640)\n",
      "\n",
      "0: 480x640 1 license, 81.5ms\n",
      "Speed: 2.4ms preprocess, 81.5ms inference, 0.6ms postprocess per image at shape (1, 3, 480, 640)\n",
      "\n",
      "0: 480x640 18 cars, 1 truck, 81.1ms\n",
      "Speed: 2.4ms preprocess, 81.1ms inference, 0.8ms postprocess per image at shape (1, 3, 480, 640)\n",
      "\n",
      "0: 480x640 1 license, 82.3ms\n",
      "Speed: 3.2ms preprocess, 82.3ms inference, 0.6ms postprocess per image at shape (1, 3, 480, 640)\n",
      "\n",
      "0: 480x640 18 cars, 1 truck, 86.1ms\n",
      "Speed: 2.5ms preprocess, 86.1ms inference, 0.8ms postprocess per image at shape (1, 3, 480, 640)\n",
      "\n",
      "0: 480x640 1 license, 82.8ms\n",
      "Speed: 2.7ms preprocess, 82.8ms inference, 0.6ms postprocess per image at shape (1, 3, 480, 640)\n",
      "\n",
      "0: 480x640 19 cars, 2 trucks, 78.1ms\n",
      "Speed: 2.3ms preprocess, 78.1ms inference, 0.8ms postprocess per image at shape (1, 3, 480, 640)\n",
      "\n",
      "0: 480x640 1 license, 83.0ms\n",
      "Speed: 3.2ms preprocess, 83.0ms inference, 0.6ms postprocess per image at shape (1, 3, 480, 640)\n",
      "\n",
      "0: 480x640 19 cars, 2 trucks, 84.4ms\n",
      "Speed: 2.4ms preprocess, 84.4ms inference, 0.8ms postprocess per image at shape (1, 3, 480, 640)\n",
      "\n",
      "0: 480x640 1 license, 81.8ms\n",
      "Speed: 3.2ms preprocess, 81.8ms inference, 0.5ms postprocess per image at shape (1, 3, 480, 640)\n",
      "\n",
      "0: 480x640 19 cars, 1 truck, 81.3ms\n",
      "Speed: 2.4ms preprocess, 81.3ms inference, 0.8ms postprocess per image at shape (1, 3, 480, 640)\n",
      "\n",
      "0: 480x640 1 license, 87.9ms\n",
      "Speed: 3.2ms preprocess, 87.9ms inference, 0.7ms postprocess per image at shape (1, 3, 480, 640)\n",
      "\n",
      "0: 480x640 19 cars, 1 truck, 88.4ms\n",
      "Speed: 2.9ms preprocess, 88.4ms inference, 0.8ms postprocess per image at shape (1, 3, 480, 640)\n",
      "\n",
      "0: 480x640 1 license, 82.6ms\n",
      "Speed: 2.7ms preprocess, 82.6ms inference, 0.6ms postprocess per image at shape (1, 3, 480, 640)\n",
      "\n",
      "0: 480x640 20 cars, 1 truck, 83.0ms\n",
      "Speed: 2.5ms preprocess, 83.0ms inference, 1.2ms postprocess per image at shape (1, 3, 480, 640)\n",
      "\n",
      "0: 480x640 1 license, 81.6ms\n",
      "Speed: 3.0ms preprocess, 81.6ms inference, 0.6ms postprocess per image at shape (1, 3, 480, 640)\n",
      "\n",
      "0: 480x640 20 cars, 1 truck, 78.8ms\n",
      "Speed: 2.6ms preprocess, 78.8ms inference, 0.8ms postprocess per image at shape (1, 3, 480, 640)\n",
      "\n",
      "0: 480x640 1 license, 78.5ms\n",
      "Speed: 3.1ms preprocess, 78.5ms inference, 0.6ms postprocess per image at shape (1, 3, 480, 640)\n",
      "\n",
      "0: 480x640 21 cars, 1 truck, 1 traffic light, 75.0ms\n",
      "Speed: 2.4ms preprocess, 75.0ms inference, 0.8ms postprocess per image at shape (1, 3, 480, 640)\n",
      "\n",
      "0: 480x640 1 license, 80.4ms\n",
      "Speed: 3.1ms preprocess, 80.4ms inference, 0.5ms postprocess per image at shape (1, 3, 480, 640)\n",
      "\n",
      "0: 480x640 21 cars, 1 truck, 1 traffic light, 83.1ms\n",
      "Speed: 2.6ms preprocess, 83.1ms inference, 0.8ms postprocess per image at shape (1, 3, 480, 640)\n",
      "\n",
      "0: 480x640 1 license, 83.8ms\n",
      "Speed: 3.4ms preprocess, 83.8ms inference, 0.6ms postprocess per image at shape (1, 3, 480, 640)\n",
      "\n",
      "0: 480x640 23 cars, 1 truck, 81.0ms\n",
      "Speed: 2.5ms preprocess, 81.0ms inference, 0.8ms postprocess per image at shape (1, 3, 480, 640)\n",
      "\n",
      "0: 480x640 1 license, 80.9ms\n",
      "Speed: 3.1ms preprocess, 80.9ms inference, 0.5ms postprocess per image at shape (1, 3, 480, 640)\n",
      "\n",
      "0: 480x640 23 cars, 1 truck, 80.5ms\n",
      "Speed: 2.4ms preprocess, 80.5ms inference, 0.8ms postprocess per image at shape (1, 3, 480, 640)\n",
      "\n",
      "0: 480x640 1 license, 81.2ms\n",
      "Speed: 2.7ms preprocess, 81.2ms inference, 0.6ms postprocess per image at shape (1, 3, 480, 640)\n",
      "\n",
      "0: 480x640 22 cars, 1 truck, 81.4ms\n",
      "Speed: 2.4ms preprocess, 81.4ms inference, 0.8ms postprocess per image at shape (1, 3, 480, 640)\n",
      "\n",
      "0: 480x640 1 license, 82.9ms\n",
      "Speed: 3.3ms preprocess, 82.9ms inference, 0.7ms postprocess per image at shape (1, 3, 480, 640)\n",
      "\n",
      "0: 480x640 20 cars, 1 truck, 78.0ms\n",
      "Speed: 2.7ms preprocess, 78.0ms inference, 0.8ms postprocess per image at shape (1, 3, 480, 640)\n",
      "\n",
      "0: 480x640 1 license, 131.8ms\n",
      "Speed: 3.2ms preprocess, 131.8ms inference, 0.8ms postprocess per image at shape (1, 3, 480, 640)\n",
      "\n",
      "0: 480x640 21 cars, 1 truck, 75.4ms\n",
      "Speed: 2.5ms preprocess, 75.4ms inference, 1.2ms postprocess per image at shape (1, 3, 480, 640)\n",
      "\n",
      "0: 480x640 1 license, 84.5ms\n",
      "Speed: 3.2ms preprocess, 84.5ms inference, 0.6ms postprocess per image at shape (1, 3, 480, 640)\n",
      "\n",
      "0: 480x640 21 cars, 1 truck, 82.9ms\n",
      "Speed: 2.4ms preprocess, 82.9ms inference, 0.8ms postprocess per image at shape (1, 3, 480, 640)\n",
      "\n",
      "0: 480x640 1 license, 83.8ms\n",
      "Speed: 2.7ms preprocess, 83.8ms inference, 0.6ms postprocess per image at shape (1, 3, 480, 640)\n",
      "\n",
      "0: 480x640 23 cars, 1 truck, 82.2ms\n",
      "Speed: 2.6ms preprocess, 82.2ms inference, 0.8ms postprocess per image at shape (1, 3, 480, 640)\n",
      "\n",
      "0: 480x640 1 license, 82.8ms\n",
      "Speed: 3.1ms preprocess, 82.8ms inference, 0.6ms postprocess per image at shape (1, 3, 480, 640)\n",
      "\n",
      "0: 480x640 23 cars, 1 truck, 84.7ms\n",
      "Speed: 2.4ms preprocess, 84.7ms inference, 0.8ms postprocess per image at shape (1, 3, 480, 640)\n",
      "\n",
      "0: 480x640 1 license, 79.1ms\n",
      "Speed: 2.5ms preprocess, 79.1ms inference, 0.9ms postprocess per image at shape (1, 3, 480, 640)\n",
      "\n",
      "0: 480x640 1 person, 22 cars, 1 truck, 80.5ms\n",
      "Speed: 2.4ms preprocess, 80.5ms inference, 1.4ms postprocess per image at shape (1, 3, 480, 640)\n",
      "\n",
      "0: 480x640 1 license, 79.1ms\n",
      "Speed: 3.2ms preprocess, 79.1ms inference, 1.1ms postprocess per image at shape (1, 3, 480, 640)\n",
      "\n",
      "0: 480x640 1 person, 22 cars, 1 truck, 85.2ms\n",
      "Speed: 3.0ms preprocess, 85.2ms inference, 0.8ms postprocess per image at shape (1, 3, 480, 640)\n",
      "\n",
      "0: 480x640 1 license, 82.7ms\n",
      "Speed: 2.6ms preprocess, 82.7ms inference, 0.6ms postprocess per image at shape (1, 3, 480, 640)\n",
      "\n",
      "0: 480x640 23 cars, 1 truck, 75.1ms\n",
      "Speed: 2.5ms preprocess, 75.1ms inference, 0.8ms postprocess per image at shape (1, 3, 480, 640)\n",
      "\n",
      "0: 480x640 1 license, 78.9ms\n",
      "Speed: 3.1ms preprocess, 78.9ms inference, 1.0ms postprocess per image at shape (1, 3, 480, 640)\n",
      "\n",
      "0: 480x640 1 person, 23 cars, 1 truck, 81.7ms\n",
      "Speed: 2.4ms preprocess, 81.7ms inference, 0.9ms postprocess per image at shape (1, 3, 480, 640)\n",
      "\n",
      "0: 480x640 1 license, 80.1ms\n",
      "Speed: 3.2ms preprocess, 80.1ms inference, 0.6ms postprocess per image at shape (1, 3, 480, 640)\n",
      "\n",
      "0: 480x640 1 person, 21 cars, 1 truck, 78.9ms\n",
      "Speed: 2.4ms preprocess, 78.9ms inference, 0.9ms postprocess per image at shape (1, 3, 480, 640)\n",
      "\n",
      "0: 480x640 1 license, 79.5ms\n",
      "Speed: 2.7ms preprocess, 79.5ms inference, 0.7ms postprocess per image at shape (1, 3, 480, 640)\n",
      "\n",
      "0: 480x640 1 person, 21 cars, 1 truck, 81.2ms\n",
      "Speed: 2.4ms preprocess, 81.2ms inference, 0.8ms postprocess per image at shape (1, 3, 480, 640)\n",
      "\n",
      "0: 480x640 1 license, 81.7ms\n",
      "Speed: 2.7ms preprocess, 81.7ms inference, 1.0ms postprocess per image at shape (1, 3, 480, 640)\n",
      "\n",
      "0: 480x640 22 cars, 1 truck, 82.5ms\n",
      "Speed: 2.4ms preprocess, 82.5ms inference, 0.8ms postprocess per image at shape (1, 3, 480, 640)\n",
      "\n",
      "0: 480x640 1 license, 79.9ms\n",
      "Speed: 3.0ms preprocess, 79.9ms inference, 0.6ms postprocess per image at shape (1, 3, 480, 640)\n",
      "\n",
      "0: 480x640 22 cars, 1 truck, 85.1ms\n",
      "Speed: 2.8ms preprocess, 85.1ms inference, 0.8ms postprocess per image at shape (1, 3, 480, 640)\n",
      "\n",
      "0: 480x640 1 license, 82.6ms\n",
      "Speed: 3.3ms preprocess, 82.6ms inference, 0.6ms postprocess per image at shape (1, 3, 480, 640)\n",
      "\n",
      "0: 480x640 22 cars, 1 truck, 80.6ms\n",
      "Speed: 2.4ms preprocess, 80.6ms inference, 0.8ms postprocess per image at shape (1, 3, 480, 640)\n",
      "\n",
      "0: 480x640 1 license, 83.1ms\n",
      "Speed: 3.2ms preprocess, 83.1ms inference, 0.6ms postprocess per image at shape (1, 3, 480, 640)\n",
      "\n",
      "0: 480x640 22 cars, 1 truck, 86.1ms\n",
      "Speed: 2.4ms preprocess, 86.1ms inference, 0.9ms postprocess per image at shape (1, 3, 480, 640)\n",
      "\n",
      "0: 480x640 1 license, 81.7ms\n",
      "Speed: 2.6ms preprocess, 81.7ms inference, 0.6ms postprocess per image at shape (1, 3, 480, 640)\n",
      "\n",
      "0: 480x640 20 cars, 1 truck, 80.4ms\n",
      "Speed: 2.4ms preprocess, 80.4ms inference, 0.8ms postprocess per image at shape (1, 3, 480, 640)\n",
      "\n",
      "0: 480x640 1 license, 77.0ms\n",
      "Speed: 3.1ms preprocess, 77.0ms inference, 0.6ms postprocess per image at shape (1, 3, 480, 640)\n",
      "\n",
      "0: 480x640 20 cars, 1 truck, 80.4ms\n",
      "Speed: 2.4ms preprocess, 80.4ms inference, 0.8ms postprocess per image at shape (1, 3, 480, 640)\n",
      "\n",
      "0: 480x640 1 license, 82.9ms\n",
      "Speed: 3.3ms preprocess, 82.9ms inference, 1.1ms postprocess per image at shape (1, 3, 480, 640)\n",
      "\n",
      "0: 480x640 21 cars, 1 truck, 85.6ms\n",
      "Speed: 2.5ms preprocess, 85.6ms inference, 0.8ms postprocess per image at shape (1, 3, 480, 640)\n",
      "\n",
      "0: 480x640 1 license, 82.4ms\n",
      "Speed: 3.3ms preprocess, 82.4ms inference, 0.6ms postprocess per image at shape (1, 3, 480, 640)\n",
      "\n",
      "0: 480x640 21 cars, 1 truck, 80.0ms\n",
      "Speed: 2.5ms preprocess, 80.0ms inference, 0.8ms postprocess per image at shape (1, 3, 480, 640)\n",
      "\n",
      "0: 480x640 1 license, 83.5ms\n",
      "Speed: 3.3ms preprocess, 83.5ms inference, 0.6ms postprocess per image at shape (1, 3, 480, 640)\n",
      "\n",
      "0: 480x640 24 cars, 1 truck, 80.3ms\n",
      "Speed: 2.4ms preprocess, 80.3ms inference, 0.9ms postprocess per image at shape (1, 3, 480, 640)\n",
      "\n",
      "0: 480x640 1 license, 87.7ms\n",
      "Speed: 3.2ms preprocess, 87.7ms inference, 0.6ms postprocess per image at shape (1, 3, 480, 640)\n",
      "\n",
      "0: 480x640 24 cars, 1 truck, 83.1ms\n",
      "Speed: 3.0ms preprocess, 83.1ms inference, 0.8ms postprocess per image at shape (1, 3, 480, 640)\n",
      "\n",
      "0: 480x640 1 license, 83.5ms\n",
      "Speed: 3.2ms preprocess, 83.5ms inference, 1.1ms postprocess per image at shape (1, 3, 480, 640)\n",
      "\n",
      "0: 480x640 24 cars, 1 truck, 84.3ms\n",
      "Speed: 2.4ms preprocess, 84.3ms inference, 0.9ms postprocess per image at shape (1, 3, 480, 640)\n",
      "\n",
      "0: 480x640 1 license, 83.2ms\n",
      "Speed: 2.7ms preprocess, 83.2ms inference, 0.6ms postprocess per image at shape (1, 3, 480, 640)\n",
      "\n",
      "0: 480x640 24 cars, 1 truck, 80.1ms\n",
      "Speed: 2.5ms preprocess, 80.1ms inference, 0.8ms postprocess per image at shape (1, 3, 480, 640)\n",
      "\n",
      "0: 480x640 1 license, 82.3ms\n",
      "Speed: 3.4ms preprocess, 82.3ms inference, 0.6ms postprocess per image at shape (1, 3, 480, 640)\n",
      "\n",
      "0: 480x640 24 cars, 1 truck, 82.6ms\n",
      "Speed: 2.7ms preprocess, 82.6ms inference, 0.9ms postprocess per image at shape (1, 3, 480, 640)\n",
      "\n",
      "0: 480x640 1 license, 81.6ms\n",
      "Speed: 2.7ms preprocess, 81.6ms inference, 0.7ms postprocess per image at shape (1, 3, 480, 640)\n",
      "\n",
      "0: 480x640 24 cars, 1 truck, 83.0ms\n",
      "Speed: 2.6ms preprocess, 83.0ms inference, 0.9ms postprocess per image at shape (1, 3, 480, 640)\n",
      "\n",
      "0: 480x640 1 license, 83.0ms\n",
      "Speed: 3.2ms preprocess, 83.0ms inference, 0.6ms postprocess per image at shape (1, 3, 480, 640)\n",
      "\n",
      "0: 480x640 22 cars, 1 truck, 84.4ms\n",
      "Speed: 2.5ms preprocess, 84.4ms inference, 0.8ms postprocess per image at shape (1, 3, 480, 640)\n",
      "\n",
      "0: 480x640 1 license, 83.5ms\n",
      "Speed: 2.6ms preprocess, 83.5ms inference, 0.6ms postprocess per image at shape (1, 3, 480, 640)\n",
      "\n",
      "0: 480x640 23 cars, 1 truck, 82.8ms\n",
      "Speed: 2.5ms preprocess, 82.8ms inference, 0.8ms postprocess per image at shape (1, 3, 480, 640)\n",
      "\n",
      "0: 480x640 1 license, 84.0ms\n",
      "Speed: 3.2ms preprocess, 84.0ms inference, 0.6ms postprocess per image at shape (1, 3, 480, 640)\n",
      "\n",
      "0: 480x640 23 cars, 1 bus, 1 truck, 1 traffic light, 87.7ms\n",
      "Speed: 2.4ms preprocess, 87.7ms inference, 0.8ms postprocess per image at shape (1, 3, 480, 640)\n",
      "\n",
      "0: 480x640 1 license, 111.8ms\n",
      "Speed: 3.3ms preprocess, 111.8ms inference, 1.0ms postprocess per image at shape (1, 3, 480, 640)\n",
      "\n",
      "0: 480x640 24 cars, 1 bus, 1 truck, 1 traffic light, 76.3ms\n",
      "Speed: 2.5ms preprocess, 76.3ms inference, 0.7ms postprocess per image at shape (1, 3, 480, 640)\n",
      "\n",
      "0: 480x640 1 license, 79.0ms\n",
      "Speed: 2.8ms preprocess, 79.0ms inference, 0.6ms postprocess per image at shape (1, 3, 480, 640)\n",
      "\n",
      "0: 480x640 23 cars, 1 bus, 2 trucks, 1 traffic light, 82.2ms\n",
      "Speed: 2.9ms preprocess, 82.2ms inference, 0.9ms postprocess per image at shape (1, 3, 480, 640)\n",
      "\n",
      "0: 480x640 1 license, 82.7ms\n",
      "Speed: 2.9ms preprocess, 82.7ms inference, 1.0ms postprocess per image at shape (1, 3, 480, 640)\n",
      "\n",
      "0: 480x640 23 cars, 1 bus, 2 trucks, 1 traffic light, 95.5ms\n",
      "Speed: 2.7ms preprocess, 95.5ms inference, 1.6ms postprocess per image at shape (1, 3, 480, 640)\n",
      "\n",
      "0: 480x640 1 license, 102.2ms\n",
      "Speed: 3.9ms preprocess, 102.2ms inference, 0.7ms postprocess per image at shape (1, 3, 480, 640)\n",
      "\n",
      "0: 480x640 20 cars, 1 bus, 2 trucks, 1 traffic light, 103.3ms\n",
      "Speed: 3.6ms preprocess, 103.3ms inference, 0.9ms postprocess per image at shape (1, 3, 480, 640)\n",
      "\n",
      "0: 480x640 1 license, 89.1ms\n",
      "Speed: 3.5ms preprocess, 89.1ms inference, 1.0ms postprocess per image at shape (1, 3, 480, 640)\n",
      "\n",
      "0: 480x640 20 cars, 1 bus, 2 trucks, 1 traffic light, 90.3ms\n",
      "Speed: 3.5ms preprocess, 90.3ms inference, 0.9ms postprocess per image at shape (1, 3, 480, 640)\n",
      "\n",
      "0: 480x640 1 license, 88.6ms\n",
      "Speed: 3.5ms preprocess, 88.6ms inference, 0.8ms postprocess per image at shape (1, 3, 480, 640)\n",
      "\n",
      "0: 480x640 21 cars, 1 bus, 2 trucks, 1 traffic light, 89.7ms\n",
      "Speed: 3.1ms preprocess, 89.7ms inference, 0.9ms postprocess per image at shape (1, 3, 480, 640)\n",
      "\n",
      "0: 480x640 1 license, 86.0ms\n",
      "Speed: 3.6ms preprocess, 86.0ms inference, 0.7ms postprocess per image at shape (1, 3, 480, 640)\n",
      "\n",
      "0: 480x640 21 cars, 1 bus, 2 trucks, 1 traffic light, 93.7ms\n",
      "Speed: 3.9ms preprocess, 93.7ms inference, 1.1ms postprocess per image at shape (1, 3, 480, 640)\n",
      "\n",
      "0: 480x640 1 license, 93.8ms\n",
      "Speed: 3.7ms preprocess, 93.8ms inference, 0.7ms postprocess per image at shape (1, 3, 480, 640)\n",
      "\n",
      "0: 480x640 22 cars, 1 bus, 2 trucks, 1 traffic light, 92.6ms\n",
      "Speed: 3.7ms preprocess, 92.6ms inference, 0.9ms postprocess per image at shape (1, 3, 480, 640)\n",
      "\n",
      "0: 480x640 1 license, 90.1ms\n",
      "Speed: 3.3ms preprocess, 90.1ms inference, 0.5ms postprocess per image at shape (1, 3, 480, 640)\n",
      "\n",
      "0: 480x640 22 cars, 1 bus, 2 trucks, 1 traffic light, 92.4ms\n",
      "Speed: 3.5ms preprocess, 92.4ms inference, 1.0ms postprocess per image at shape (1, 3, 480, 640)\n",
      "\n",
      "0: 480x640 1 license, 90.9ms\n",
      "Speed: 3.0ms preprocess, 90.9ms inference, 0.6ms postprocess per image at shape (1, 3, 480, 640)\n",
      "\n",
      "0: 480x640 22 cars, 1 bus, 2 trucks, 1 traffic light, 95.4ms\n",
      "Speed: 3.3ms preprocess, 95.4ms inference, 0.9ms postprocess per image at shape (1, 3, 480, 640)\n",
      "\n",
      "0: 480x640 (no detections), 90.5ms\n",
      "Speed: 3.6ms preprocess, 90.5ms inference, 0.3ms postprocess per image at shape (1, 3, 480, 640)\n",
      "\n",
      "0: 480x640 22 cars, 1 bus, 2 trucks, 1 traffic light, 91.2ms\n",
      "Speed: 3.7ms preprocess, 91.2ms inference, 0.9ms postprocess per image at shape (1, 3, 480, 640)\n",
      "\n",
      "0: 480x640 (no detections), 92.0ms\n",
      "Speed: 2.9ms preprocess, 92.0ms inference, 0.4ms postprocess per image at shape (1, 3, 480, 640)\n",
      "\n",
      "0: 480x640 22 cars, 1 bus, 1 truck, 1 traffic light, 98.5ms\n",
      "Speed: 3.3ms preprocess, 98.5ms inference, 0.9ms postprocess per image at shape (1, 3, 480, 640)\n",
      "\n",
      "0: 480x640 1 license, 91.2ms\n",
      "Speed: 3.7ms preprocess, 91.2ms inference, 0.7ms postprocess per image at shape (1, 3, 480, 640)\n",
      "\n",
      "0: 480x640 22 cars, 1 bus, 1 truck, 1 traffic light, 90.9ms\n",
      "Speed: 3.0ms preprocess, 90.9ms inference, 1.0ms postprocess per image at shape (1, 3, 480, 640)\n",
      "\n",
      "0: 480x640 1 license, 90.2ms\n",
      "Speed: 3.1ms preprocess, 90.2ms inference, 0.6ms postprocess per image at shape (1, 3, 480, 640)\n",
      "\n",
      "0: 480x640 20 cars, 1 bus, 2 trucks, 1 traffic light, 91.3ms\n",
      "Speed: 3.1ms preprocess, 91.3ms inference, 0.9ms postprocess per image at shape (1, 3, 480, 640)\n",
      "\n",
      "0: 480x640 1 license, 86.4ms\n",
      "Speed: 3.0ms preprocess, 86.4ms inference, 1.1ms postprocess per image at shape (1, 3, 480, 640)\n",
      "\n",
      "0: 480x640 20 cars, 1 bus, 2 trucks, 1 traffic light, 75.9ms\n",
      "Speed: 2.5ms preprocess, 75.9ms inference, 0.8ms postprocess per image at shape (1, 3, 480, 640)\n",
      "\n",
      "0: 480x640 1 license, 74.4ms\n",
      "Speed: 2.8ms preprocess, 74.4ms inference, 0.5ms postprocess per image at shape (1, 3, 480, 640)\n"
     ]
    },
    {
     "name": "stdout",
     "output_type": "stream",
     "text": [
      "Error: results_list is empty or contains tuples without a second element.\n"
     ]
    },
    {
     "name": "stderr",
     "output_type": "stream",
     "text": [
      "\n",
      "0: 480x640 22 cars, 1 bus, 2 trucks, 1 traffic light, 90.6ms\n",
      "Speed: 2.7ms preprocess, 90.6ms inference, 0.9ms postprocess per image at shape (1, 3, 480, 640)\n",
      "\n"
     ]
    },
    {
     "name": "stdout",
     "output_type": "stream",
     "text": [
      "Error: results_list is empty or contains tuples without a second element.\n"
     ]
    },
    {
     "name": "stderr",
     "output_type": "stream",
     "text": [
      "0: 480x640 (no detections), 97.9ms\n",
      "Speed: 3.5ms preprocess, 97.9ms inference, 0.4ms postprocess per image at shape (1, 3, 480, 640)\n",
      "\n",
      "0: 480x640 22 cars, 1 bus, 2 trucks, 1 traffic light, 111.0ms\n",
      "Speed: 3.2ms preprocess, 111.0ms inference, 1.0ms postprocess per image at shape (1, 3, 480, 640)\n",
      "\n",
      "0: 480x640 (no detections), 94.1ms\n",
      "Speed: 3.7ms preprocess, 94.1ms inference, 0.4ms postprocess per image at shape (1, 3, 480, 640)\n",
      "\n",
      "0: 480x640 20 cars, 1 bus, 2 trucks, 1 traffic light, 92.5ms\n",
      "Speed: 3.7ms preprocess, 92.5ms inference, 1.0ms postprocess per image at shape (1, 3, 480, 640)\n",
      "\n",
      "0: 480x640 (no detections), 90.9ms\n",
      "Speed: 3.6ms preprocess, 90.9ms inference, 0.8ms postprocess per image at shape (1, 3, 480, 640)\n",
      "\n",
      "0: 480x640 20 cars, 1 bus, 2 trucks, 1 traffic light, 95.9ms\n",
      "Speed: 3.3ms preprocess, 95.9ms inference, 1.0ms postprocess per image at shape (1, 3, 480, 640)\n",
      "\n",
      "0: 480x640 (no detections), 88.7ms\n",
      "Speed: 3.2ms preprocess, 88.7ms inference, 0.3ms postprocess per image at shape (1, 3, 480, 640)\n",
      "\n",
      "0: 480x640 20 cars, 1 bus, 2 trucks, 1 traffic light, 95.5ms\n",
      "Speed: 3.0ms preprocess, 95.5ms inference, 0.9ms postprocess per image at shape (1, 3, 480, 640)\n",
      "\n",
      "0: 480x640 (no detections), 92.0ms\n",
      "Speed: 3.6ms preprocess, 92.0ms inference, 0.3ms postprocess per image at shape (1, 3, 480, 640)\n",
      "\n",
      "0: 480x640 20 cars, 1 bus, 2 trucks, 1 traffic light, 95.7ms\n",
      "Speed: 2.8ms preprocess, 95.7ms inference, 1.0ms postprocess per image at shape (1, 3, 480, 640)\n",
      "\n",
      "0: 480x640 (no detections), 88.3ms\n",
      "Speed: 3.0ms preprocess, 88.3ms inference, 0.3ms postprocess per image at shape (1, 3, 480, 640)\n",
      "\n",
      "0: 480x640 1 person, 21 cars, 1 bus, 2 trucks, 1 traffic light, 96.7ms\n",
      "Speed: 3.3ms preprocess, 96.7ms inference, 0.9ms postprocess per image at shape (1, 3, 480, 640)\n",
      "\n",
      "0: 480x640 (no detections), 93.5ms\n",
      "Speed: 3.6ms preprocess, 93.5ms inference, 0.4ms postprocess per image at shape (1, 3, 480, 640)\n",
      "\n",
      "0: 480x640 1 person, 21 cars, 1 bus, 2 trucks, 1 traffic light, 94.0ms\n",
      "Speed: 3.8ms preprocess, 94.0ms inference, 1.0ms postprocess per image at shape (1, 3, 480, 640)\n",
      "\n",
      "0: 480x640 (no detections), 92.2ms\n",
      "Speed: 3.6ms preprocess, 92.2ms inference, 0.4ms postprocess per image at shape (1, 3, 480, 640)\n",
      "\n",
      "0: 480x640 20 cars, 1 bus, 2 trucks, 1 traffic light, 94.0ms\n",
      "Speed: 3.2ms preprocess, 94.0ms inference, 1.5ms postprocess per image at shape (1, 3, 480, 640)\n",
      "\n",
      "0: 480x640 (no detections), 94.4ms\n",
      "Speed: 3.0ms preprocess, 94.4ms inference, 0.4ms postprocess per image at shape (1, 3, 480, 640)\n",
      "\n",
      "0: 480x640 21 cars, 1 bus, 2 trucks, 1 traffic light, 93.7ms\n",
      "Speed: 3.2ms preprocess, 93.7ms inference, 0.9ms postprocess per image at shape (1, 3, 480, 640)\n",
      "\n",
      "0: 480x640 (no detections), 91.1ms\n",
      "Speed: 2.9ms preprocess, 91.1ms inference, 0.4ms postprocess per image at shape (1, 3, 480, 640)\n",
      "\n",
      "0: 480x640 1 person, 21 cars, 2 trucks, 1 traffic light, 95.0ms\n",
      "Speed: 3.2ms preprocess, 95.0ms inference, 0.9ms postprocess per image at shape (1, 3, 480, 640)\n",
      "\n",
      "0: 480x640 (no detections), 91.5ms\n",
      "Speed: 3.5ms preprocess, 91.5ms inference, 0.3ms postprocess per image at shape (1, 3, 480, 640)\n",
      "\n",
      "0: 480x640 1 person, 21 cars, 2 trucks, 1 traffic light, 93.1ms\n",
      "Speed: 3.2ms preprocess, 93.1ms inference, 0.9ms postprocess per image at shape (1, 3, 480, 640)\n",
      "\n",
      "0: 480x640 (no detections), 89.8ms\n",
      "Speed: 3.4ms preprocess, 89.8ms inference, 0.4ms postprocess per image at shape (1, 3, 480, 640)\n",
      "\n",
      "0: 480x640 23 cars, 1 bus, 2 trucks, 1 traffic light, 95.6ms\n",
      "Speed: 2.9ms preprocess, 95.6ms inference, 1.0ms postprocess per image at shape (1, 3, 480, 640)\n",
      "\n",
      "0: 480x640 (no detections), 90.2ms\n",
      "Speed: 2.9ms preprocess, 90.2ms inference, 0.4ms postprocess per image at shape (1, 3, 480, 640)\n",
      "\n",
      "0: 480x640 23 cars, 1 bus, 2 trucks, 1 traffic light, 90.6ms\n",
      "Speed: 3.4ms preprocess, 90.6ms inference, 0.9ms postprocess per image at shape (1, 3, 480, 640)\n",
      "\n",
      "0: 480x640 (no detections), 87.4ms\n",
      "Speed: 3.1ms preprocess, 87.4ms inference, 0.9ms postprocess per image at shape (1, 3, 480, 640)\n",
      "\n",
      "0: 480x640 20 cars, 1 bus, 2 trucks, 1 traffic light, 94.4ms\n",
      "Speed: 3.7ms preprocess, 94.4ms inference, 1.0ms postprocess per image at shape (1, 3, 480, 640)\n",
      "\n",
      "0: 480x640 (no detections), 94.9ms\n",
      "Speed: 3.0ms preprocess, 94.9ms inference, 0.4ms postprocess per image at shape (1, 3, 480, 640)\n",
      "\n",
      "0: 480x640 20 cars, 1 bus, 2 trucks, 1 traffic light, 90.5ms\n",
      "Speed: 3.6ms preprocess, 90.5ms inference, 0.9ms postprocess per image at shape (1, 3, 480, 640)\n",
      "\n",
      "0: 480x640 (no detections), 88.1ms\n",
      "Speed: 3.3ms preprocess, 88.1ms inference, 0.4ms postprocess per image at shape (1, 3, 480, 640)\n",
      "\n",
      "0: 480x640 20 cars, 1 bus, 2 trucks, 1 traffic light, 92.5ms\n",
      "Speed: 3.0ms preprocess, 92.5ms inference, 0.9ms postprocess per image at shape (1, 3, 480, 640)\n",
      "\n",
      "0: 480x640 (no detections), 88.7ms\n",
      "Speed: 3.6ms preprocess, 88.7ms inference, 0.3ms postprocess per image at shape (1, 3, 480, 640)\n",
      "\n",
      "0: 480x640 20 cars, 1 bus, 2 trucks, 1 traffic light, 93.9ms\n",
      "Speed: 4.5ms preprocess, 93.9ms inference, 1.0ms postprocess per image at shape (1, 3, 480, 640)\n",
      "\n",
      "0: 480x640 (no detections), 96.2ms\n",
      "Speed: 3.1ms preprocess, 96.2ms inference, 0.4ms postprocess per image at shape (1, 3, 480, 640)\n",
      "\n",
      "0: 480x640 20 cars, 1 bus, 1 truck, 1 traffic light, 93.4ms\n",
      "Speed: 3.6ms preprocess, 93.4ms inference, 0.9ms postprocess per image at shape (1, 3, 480, 640)\n",
      "\n",
      "0: 480x640 (no detections), 91.6ms\n",
      "Speed: 3.7ms preprocess, 91.6ms inference, 0.4ms postprocess per image at shape (1, 3, 480, 640)\n",
      "\n",
      "0: 480x640 20 cars, 1 bus, 2 trucks, 1 traffic light, 92.6ms\n",
      "Speed: 3.7ms preprocess, 92.6ms inference, 1.5ms postprocess per image at shape (1, 3, 480, 640)\n",
      "\n",
      "0: 480x640 (no detections), 89.1ms\n",
      "Speed: 3.0ms preprocess, 89.1ms inference, 0.5ms postprocess per image at shape (1, 3, 480, 640)\n",
      "\n",
      "0: 480x640 21 cars, 1 bus, 2 trucks, 1 traffic light, 92.5ms\n",
      "Speed: 3.0ms preprocess, 92.5ms inference, 0.9ms postprocess per image at shape (1, 3, 480, 640)\n",
      "\n",
      "0: 480x640 (no detections), 93.5ms\n",
      "Speed: 3.0ms preprocess, 93.5ms inference, 0.4ms postprocess per image at shape (1, 3, 480, 640)\n",
      "\n",
      "0: 480x640 20 cars, 1 bus, 2 trucks, 1 traffic light, 94.7ms\n",
      "Speed: 3.7ms preprocess, 94.7ms inference, 0.9ms postprocess per image at shape (1, 3, 480, 640)\n",
      "\n",
      "0: 480x640 (no detections), 92.4ms\n",
      "Speed: 3.6ms preprocess, 92.4ms inference, 0.4ms postprocess per image at shape (1, 3, 480, 640)\n",
      "\n",
      "0: 480x640 21 cars, 1 bus, 2 trucks, 1 traffic light, 94.8ms\n",
      "Speed: 4.4ms preprocess, 94.8ms inference, 1.0ms postprocess per image at shape (1, 3, 480, 640)\n",
      "\n",
      "0: 480x640 1 license, 91.1ms\n",
      "Speed: 3.5ms preprocess, 91.1ms inference, 0.6ms postprocess per image at shape (1, 3, 480, 640)\n",
      "\n",
      "0: 480x640 20 cars, 1 bus, 2 trucks, 1 traffic light, 79.0ms\n",
      "Speed: 2.3ms preprocess, 79.0ms inference, 0.7ms postprocess per image at shape (1, 3, 480, 640)\n",
      "\n",
      "0: 480x640 1 license, 77.6ms\n",
      "Speed: 3.0ms preprocess, 77.6ms inference, 0.5ms postprocess per image at shape (1, 3, 480, 640)\n"
     ]
    },
    {
     "name": "stdout",
     "output_type": "stream",
     "text": [
      "Error: results_list is empty or contains tuples without a second element.\n"
     ]
    },
    {
     "name": "stderr",
     "output_type": "stream",
     "text": [
      "\n",
      "0: 480x640 20 cars, 2 trucks, 1 traffic light, 82.3ms\n",
      "Speed: 2.4ms preprocess, 82.3ms inference, 0.8ms postprocess per image at shape (1, 3, 480, 640)\n",
      "\n",
      "0: 480x640 (no detections), 81.0ms\n",
      "Speed: 3.1ms preprocess, 81.0ms inference, 0.3ms postprocess per image at shape (1, 3, 480, 640)\n",
      "\n",
      "0: 480x640 22 cars, 2 trucks, 1 traffic light, 83.9ms\n",
      "Speed: 3.1ms preprocess, 83.9ms inference, 0.7ms postprocess per image at shape (1, 3, 480, 640)\n",
      "\n",
      "0: 480x640 (no detections), 87.2ms\n",
      "Speed: 2.8ms preprocess, 87.2ms inference, 0.4ms postprocess per image at shape (1, 3, 480, 640)\n",
      "\n",
      "0: 480x640 21 cars, 1 bus, 2 trucks, 1 traffic light, 102.5ms\n",
      "Speed: 3.1ms preprocess, 102.5ms inference, 1.5ms postprocess per image at shape (1, 3, 480, 640)\n",
      "\n",
      "0: 480x640 (no detections), 96.9ms\n",
      "Speed: 4.1ms preprocess, 96.9ms inference, 0.4ms postprocess per image at shape (1, 3, 480, 640)\n",
      "\n",
      "0: 480x640 20 cars, 1 bus, 2 trucks, 1 traffic light, 96.5ms\n",
      "Speed: 4.4ms preprocess, 96.5ms inference, 0.9ms postprocess per image at shape (1, 3, 480, 640)\n",
      "\n",
      "0: 480x640 (no detections), 95.3ms\n",
      "Speed: 3.5ms preprocess, 95.3ms inference, 0.4ms postprocess per image at shape (1, 3, 480, 640)\n",
      "\n",
      "0: 480x640 20 cars, 2 trucks, 1 traffic light, 90.9ms\n",
      "Speed: 3.6ms preprocess, 90.9ms inference, 0.9ms postprocess per image at shape (1, 3, 480, 640)\n",
      "\n",
      "0: 480x640 (no detections), 89.8ms\n",
      "Speed: 3.3ms preprocess, 89.8ms inference, 0.4ms postprocess per image at shape (1, 3, 480, 640)\n",
      "\n",
      "0: 480x640 20 cars, 2 trucks, 1 traffic light, 94.4ms\n",
      "Speed: 3.0ms preprocess, 94.4ms inference, 1.5ms postprocess per image at shape (1, 3, 480, 640)\n",
      "\n",
      "0: 480x640 (no detections), 91.5ms\n",
      "Speed: 3.6ms preprocess, 91.5ms inference, 0.3ms postprocess per image at shape (1, 3, 480, 640)\n",
      "\n",
      "0: 480x640 18 cars, 1 bus, 2 trucks, 1 traffic light, 95.2ms\n",
      "Speed: 3.2ms preprocess, 95.2ms inference, 0.9ms postprocess per image at shape (1, 3, 480, 640)\n",
      "\n",
      "0: 480x640 (no detections), 95.8ms\n",
      "Speed: 3.6ms preprocess, 95.8ms inference, 0.3ms postprocess per image at shape (1, 3, 480, 640)\n",
      "\n",
      "0: 480x640 18 cars, 1 bus, 2 trucks, 1 traffic light, 92.9ms\n",
      "Speed: 3.2ms preprocess, 92.9ms inference, 1.6ms postprocess per image at shape (1, 3, 480, 640)\n",
      "\n",
      "0: 480x640 (no detections), 92.8ms\n",
      "Speed: 3.4ms preprocess, 92.8ms inference, 0.4ms postprocess per image at shape (1, 3, 480, 640)\n",
      "\n",
      "0: 480x640 18 cars, 1 bus, 2 trucks, 1 traffic light, 95.2ms\n",
      "Speed: 3.0ms preprocess, 95.2ms inference, 0.9ms postprocess per image at shape (1, 3, 480, 640)\n",
      "\n",
      "0: 480x640 1 license, 90.3ms\n",
      "Speed: 3.6ms preprocess, 90.3ms inference, 0.6ms postprocess per image at shape (1, 3, 480, 640)\n",
      "\n",
      "0: 480x640 18 cars, 1 bus, 2 trucks, 1 traffic light, 78.8ms\n",
      "Speed: 2.5ms preprocess, 78.8ms inference, 0.7ms postprocess per image at shape (1, 3, 480, 640)\n",
      "\n",
      "0: 480x640 1 license, 75.1ms\n",
      "Speed: 3.1ms preprocess, 75.1ms inference, 0.5ms postprocess per image at shape (1, 3, 480, 640)\n",
      "\n",
      "0: 480x640 18 cars, 2 trucks, 1 traffic light, 82.4ms\n",
      "Speed: 2.4ms preprocess, 82.4ms inference, 0.8ms postprocess per image at shape (1, 3, 480, 640)\n",
      "\n",
      "0: 480x640 1 license, 79.3ms\n",
      "Speed: 2.8ms preprocess, 79.3ms inference, 0.6ms postprocess per image at shape (1, 3, 480, 640)\n",
      "\n",
      "0: 480x640 18 cars, 2 trucks, 1 traffic light, 79.2ms\n",
      "Speed: 2.4ms preprocess, 79.2ms inference, 0.8ms postprocess per image at shape (1, 3, 480, 640)\n",
      "\n",
      "0: 480x640 1 license, 84.1ms\n",
      "Speed: 2.7ms preprocess, 84.1ms inference, 0.6ms postprocess per image at shape (1, 3, 480, 640)\n",
      "\n",
      "0: 480x640 18 cars, 1 bus, 2 trucks, 1 traffic light, 81.2ms\n",
      "Speed: 2.2ms preprocess, 81.2ms inference, 0.8ms postprocess per image at shape (1, 3, 480, 640)\n",
      "\n",
      "0: 480x640 1 license, 85.1ms\n",
      "Speed: 2.6ms preprocess, 85.1ms inference, 0.6ms postprocess per image at shape (1, 3, 480, 640)\n",
      "\n",
      "0: 480x640 18 cars, 1 bus, 2 trucks, 1 traffic light, 77.3ms\n",
      "Speed: 2.4ms preprocess, 77.3ms inference, 0.8ms postprocess per image at shape (1, 3, 480, 640)\n",
      "\n",
      "0: 480x640 1 license, 86.8ms\n",
      "Speed: 2.8ms preprocess, 86.8ms inference, 0.6ms postprocess per image at shape (1, 3, 480, 640)\n",
      "\n",
      "0: 480x640 22 cars, 2 trucks, 1 traffic light, 77.2ms\n",
      "Speed: 2.4ms preprocess, 77.2ms inference, 1.3ms postprocess per image at shape (1, 3, 480, 640)\n",
      "\n",
      "0: 480x640 1 license, 83.1ms\n",
      "Speed: 3.3ms preprocess, 83.1ms inference, 0.6ms postprocess per image at shape (1, 3, 480, 640)\n",
      "\n",
      "0: 480x640 22 cars, 1 bus, 2 trucks, 1 traffic light, 84.0ms\n",
      "Speed: 2.5ms preprocess, 84.0ms inference, 0.9ms postprocess per image at shape (1, 3, 480, 640)\n",
      "\n",
      "0: 480x640 1 license, 83.3ms\n",
      "Speed: 3.2ms preprocess, 83.3ms inference, 0.6ms postprocess per image at shape (1, 3, 480, 640)\n",
      "\n",
      "0: 480x640 23 cars, 1 bus, 2 trucks, 1 traffic light, 82.5ms\n",
      "Speed: 2.4ms preprocess, 82.5ms inference, 0.8ms postprocess per image at shape (1, 3, 480, 640)\n",
      "\n",
      "0: 480x640 1 license, 81.0ms\n",
      "Speed: 3.2ms preprocess, 81.0ms inference, 0.6ms postprocess per image at shape (1, 3, 480, 640)\n",
      "\n",
      "0: 480x640 22 cars, 1 bus, 2 trucks, 1 traffic light, 80.6ms\n",
      "Speed: 2.4ms preprocess, 80.6ms inference, 0.8ms postprocess per image at shape (1, 3, 480, 640)\n",
      "\n",
      "0: 480x640 1 license, 81.8ms\n",
      "Speed: 2.5ms preprocess, 81.8ms inference, 0.6ms postprocess per image at shape (1, 3, 480, 640)\n",
      "\n",
      "0: 480x640 22 cars, 1 bus, 2 trucks, 1 traffic light, 78.9ms\n",
      "Speed: 2.4ms preprocess, 78.9ms inference, 1.4ms postprocess per image at shape (1, 3, 480, 640)\n",
      "\n",
      "0: 480x640 1 license, 82.7ms\n",
      "Speed: 3.1ms preprocess, 82.7ms inference, 0.6ms postprocess per image at shape (1, 3, 480, 640)\n",
      "\n",
      "0: 480x640 22 cars, 1 bus, 2 trucks, 1 traffic light, 80.2ms\n",
      "Speed: 2.4ms preprocess, 80.2ms inference, 0.8ms postprocess per image at shape (1, 3, 480, 640)\n",
      "\n",
      "0: 480x640 1 license, 83.1ms\n",
      "Speed: 2.7ms preprocess, 83.1ms inference, 0.6ms postprocess per image at shape (1, 3, 480, 640)\n",
      "\n",
      "0: 480x640 20 cars, 3 trucks, 1 traffic light, 84.0ms\n",
      "Speed: 2.6ms preprocess, 84.0ms inference, 0.8ms postprocess per image at shape (1, 3, 480, 640)\n",
      "\n",
      "0: 480x640 1 license, 83.3ms\n",
      "Speed: 2.6ms preprocess, 83.3ms inference, 0.6ms postprocess per image at shape (1, 3, 480, 640)\n",
      "\n",
      "0: 480x640 20 cars, 3 trucks, 1 traffic light, 76.9ms\n",
      "Speed: 2.5ms preprocess, 76.9ms inference, 0.8ms postprocess per image at shape (1, 3, 480, 640)\n",
      "\n",
      "0: 480x640 1 license, 86.4ms\n",
      "Speed: 2.7ms preprocess, 86.4ms inference, 0.6ms postprocess per image at shape (1, 3, 480, 640)\n"
     ]
    },
    {
     "name": "stdout",
     "output_type": "stream",
     "text": [
      "Error: results_list is empty or contains tuples without a second element.\n"
     ]
    },
    {
     "name": "stderr",
     "output_type": "stream",
     "text": [
      "\n",
      "0: 480x640 22 cars, 1 bus, 3 trucks, 1 traffic light, 86.9ms\n",
      "Speed: 2.8ms preprocess, 86.9ms inference, 0.8ms postprocess per image at shape (1, 3, 480, 640)\n",
      "\n",
      "0: 480x640 1 license, 85.1ms\n",
      "Speed: 4.0ms preprocess, 85.1ms inference, 0.6ms postprocess per image at shape (1, 3, 480, 640)\n"
     ]
    },
    {
     "name": "stdout",
     "output_type": "stream",
     "text": [
      "Error: results_list is empty or contains tuples without a second element.\n"
     ]
    },
    {
     "name": "stderr",
     "output_type": "stream",
     "text": [
      "\n",
      "0: 480x640 22 cars, 1 bus, 3 trucks, 1 traffic light, 82.3ms\n",
      "Speed: 2.4ms preprocess, 82.3ms inference, 0.8ms postprocess per image at shape (1, 3, 480, 640)\n",
      "\n",
      "0: 480x640 1 license, 85.0ms\n",
      "Speed: 2.5ms preprocess, 85.0ms inference, 0.6ms postprocess per image at shape (1, 3, 480, 640)\n",
      "\n",
      "0: 480x640 22 cars, 4 trucks, 1 traffic light, 80.2ms\n",
      "Speed: 2.4ms preprocess, 80.2ms inference, 0.8ms postprocess per image at shape (1, 3, 480, 640)\n",
      "\n",
      "0: 480x640 1 license, 84.5ms\n",
      "Speed: 3.2ms preprocess, 84.5ms inference, 0.9ms postprocess per image at shape (1, 3, 480, 640)\n",
      "\n",
      "0: 480x640 22 cars, 3 trucks, 1 traffic light, 81.8ms\n",
      "Speed: 2.7ms preprocess, 81.8ms inference, 0.9ms postprocess per image at shape (1, 3, 480, 640)\n",
      "\n",
      "0: 480x640 1 license, 79.8ms\n",
      "Speed: 2.7ms preprocess, 79.8ms inference, 0.6ms postprocess per image at shape (1, 3, 480, 640)\n"
     ]
    },
    {
     "name": "stdout",
     "output_type": "stream",
     "text": [
      "Error: results_list is empty or contains tuples without a second element.\n"
     ]
    },
    {
     "name": "stderr",
     "output_type": "stream",
     "text": [
      "\n",
      "0: 480x640 22 cars, 3 trucks, 1 traffic light, 78.7ms\n",
      "Speed: 2.4ms preprocess, 78.7ms inference, 1.1ms postprocess per image at shape (1, 3, 480, 640)\n",
      "\n",
      "0: 480x640 1 license, 81.7ms\n",
      "Speed: 3.1ms preprocess, 81.7ms inference, 0.9ms postprocess per image at shape (1, 3, 480, 640)\n"
     ]
    },
    {
     "name": "stdout",
     "output_type": "stream",
     "text": [
      "Error: results_list is empty or contains tuples without a second element.\n"
     ]
    },
    {
     "name": "stderr",
     "output_type": "stream",
     "text": [
      "\n",
      "0: 480x640 23 cars, 3 trucks, 1 traffic light, 82.7ms\n",
      "Speed: 2.5ms preprocess, 82.7ms inference, 0.9ms postprocess per image at shape (1, 3, 480, 640)\n",
      "\n",
      "0: 480x640 1 license, 81.8ms\n",
      "Speed: 3.3ms preprocess, 81.8ms inference, 0.6ms postprocess per image at shape (1, 3, 480, 640)\n"
     ]
    },
    {
     "name": "stdout",
     "output_type": "stream",
     "text": [
      "Error: results_list is empty or contains tuples without a second element.\n"
     ]
    },
    {
     "name": "stderr",
     "output_type": "stream",
     "text": [
      "\n",
      "0: 480x640 21 cars, 4 trucks, 1 traffic light, 88.0ms\n",
      "Speed: 2.5ms preprocess, 88.0ms inference, 0.9ms postprocess per image at shape (1, 3, 480, 640)\n",
      "\n",
      "0: 480x640 1 license, 86.7ms\n",
      "Speed: 2.6ms preprocess, 86.7ms inference, 0.7ms postprocess per image at shape (1, 3, 480, 640)\n"
     ]
    },
    {
     "name": "stdout",
     "output_type": "stream",
     "text": [
      "Error: results_list is empty or contains tuples without a second element.\n"
     ]
    },
    {
     "name": "stderr",
     "output_type": "stream",
     "text": [
      "\n",
      "0: 480x640 21 cars, 4 trucks, 1 traffic light, 130.6ms\n",
      "Speed: 2.4ms preprocess, 130.6ms inference, 0.9ms postprocess per image at shape (1, 3, 480, 640)\n",
      "\n",
      "0: 480x640 1 license, 96.8ms\n",
      "Speed: 3.3ms preprocess, 96.8ms inference, 0.8ms postprocess per image at shape (1, 3, 480, 640)\n",
      "\n",
      "0: 480x640 21 cars, 4 trucks, 1 traffic light, 78.8ms\n",
      "Speed: 2.4ms preprocess, 78.8ms inference, 0.7ms postprocess per image at shape (1, 3, 480, 640)\n",
      "\n",
      "0: 480x640 1 license, 80.9ms\n",
      "Speed: 2.8ms preprocess, 80.9ms inference, 0.6ms postprocess per image at shape (1, 3, 480, 640)\n",
      "\n",
      "0: 480x640 20 cars, 4 trucks, 1 traffic light, 81.8ms\n",
      "Speed: 2.5ms preprocess, 81.8ms inference, 1.2ms postprocess per image at shape (1, 3, 480, 640)\n",
      "\n",
      "0: 480x640 1 license, 83.8ms\n",
      "Speed: 2.6ms preprocess, 83.8ms inference, 0.6ms postprocess per image at shape (1, 3, 480, 640)\n",
      "\n",
      "0: 480x640 22 cars, 4 trucks, 1 traffic light, 80.4ms\n",
      "Speed: 2.4ms preprocess, 80.4ms inference, 0.8ms postprocess per image at shape (1, 3, 480, 640)\n",
      "\n",
      "0: 480x640 1 license, 79.3ms\n",
      "Speed: 2.8ms preprocess, 79.3ms inference, 0.6ms postprocess per image at shape (1, 3, 480, 640)\n",
      "\n",
      "0: 480x640 21 cars, 4 trucks, 1 traffic light, 80.5ms\n",
      "Speed: 2.3ms preprocess, 80.5ms inference, 0.8ms postprocess per image at shape (1, 3, 480, 640)\n",
      "\n",
      "0: 480x640 1 license, 82.2ms\n",
      "Speed: 3.1ms preprocess, 82.2ms inference, 0.6ms postprocess per image at shape (1, 3, 480, 640)\n"
     ]
    }
   ],
   "source": [
    "# OOP\n",
    "df_cols = ['fr_number','v_id', 'v_bbox','lp_bbox','lp_bbox_score','lp','lp_score']\n",
    "df_rows = []\n",
    "# load using Sort\n",
    "video_capture = cv2.VideoCapture(testvideo_path)\n",
    "\n",
    "vehicle_detection = VehicleDetection('YOLOv8')\n",
    "lp_detection = LicensePlateDetection('yolov8n_90e_cust')\n",
    "lp_reader = LicensePlateReader('easyocr')\n",
    "\n",
    "mot_trckr = Sort()\n",
    "#results = {}\n",
    "ret = True\n",
    "frame_indexer=0\n",
    "while ret:\n",
    "    if (video_capture.isOpened()== False):\n",
    "        print(\"Error opening video stream or file\")\n",
    "    \n",
    "    ret, frame = video_capture.read()\n",
    "    \n",
    "    if ret:\n",
    "        #if frame_indexer>10:\n",
    "        #    break\n",
    "        #results[frame_indexer] = {}\n",
    "        #det\n",
    "        det_objs = vehicle_detection.Detect(frame)\n",
    "        vehicles=[]\n",
    "        for det_obj in det_objs.boxes.data.tolist():\n",
    "            obj_x1, obj_y1, obj_x2, obj_y2, obj_score, obj_class_id = det_obj\n",
    "            if int(obj_class_id) in vehicle_detection.vehicle_ids:\n",
    "                vehicles.append([obj_x1, obj_y1, obj_x2, obj_y2, obj_score])\n",
    "                #print(obj_class_id)\n",
    "        \n",
    "        track_ids = mot_trckr.update(np.asarray(vehicles))\n",
    "        #print(track_ids)\n",
    "        #plates=[]\n",
    "        det_lps = lp_detection.Detect(frame)\n",
    "        for det_lp in det_lps.boxes.data.tolist():\n",
    "            lp_x1, lp_y1, lp_x2, lp_y2, lp_score, lp_class_id = det_lp\n",
    "            \n",
    "            #assign license plate to vehicle\n",
    "            vehicle_x1,vehicle_y1,vehicle_x2,vehicle_y2,vehicle_id = PlateToVehicle(det_lp,track_ids)\n",
    "            if vehicle_id != -1:\n",
    "                #crop\n",
    "                license_plate = frame[int(lp_y1):int(lp_y2),int(lp_x1):int(lp_x2),:]\n",
    "                lp_text, lp_text_confscore, lp_prep = lp_reader.MultiplyPrepAndRead(license_plate)\n",
    "\n",
    "                #cv2.imshow('lp',license_plate)\n",
    "                #cv2.waitKey(0)\n",
    "\n",
    "                #cv2.imshow('lp',lp_psrep)\n",
    "                #print(lp_text, lp_text_confscore)\n",
    "                #cv2.waitKey(0)\n",
    "\n",
    "                if lp_text != None:\n",
    "                    df_rows.append({'fr_number':frame_indexer,\n",
    "                                    'v_id':int(vehicle_id+1),\n",
    "                                    'v_bbox':[vehicle_x1,vehicle_y1,vehicle_x2,vehicle_y2],\n",
    "                                    'lp_bbox':[lp_x1, lp_y1, lp_x2, lp_y2],\n",
    "                                    'lp_bbox_score':lp_score,\n",
    "                                    'lp':lp_text,\n",
    "                                    'lp_score':lp_text_confscore})\n",
    "                \n",
    "            \n",
    "    \n",
    "    frame_indexer+=1"
   ]
  },
  {
   "cell_type": "code",
   "execution_count": 6,
   "metadata": {},
   "outputs": [],
   "source": [
    "out = pd.DataFrame(df_rows,columns=df_cols)\n",
    "out.to_csv('/Users/banoczymartin/Library/Mobile Documents/com~apple~CloudDocs/OE/platedetector/logs/log.csv')"
   ]
  },
  {
   "cell_type": "code",
   "execution_count": 7,
   "metadata": {},
   "outputs": [],
   "source": [
    "# Load the CSV file\n",
    "with open('/Users/banoczymartin/Library/Mobile Documents/com~apple~CloudDocs/OE/platedetector/logs/log.csv', 'r') as file:\n",
    "    reader = csv.DictReader(file)\n",
    "    data = list(reader)\n",
    "\n",
    "# Interpolate missing data\n",
    "interpolated_data = interpolate_bounding_boxes(data,True)\n",
    "\n",
    "# Write updated data to a new CSV file\n",
    "header = ['fr_number','v_id', 'v_bbox','lp_bbox','lp_bbox_score','lp','lp_score']\n",
    "with open('/Users/banoczymartin/Library/Mobile Documents/com~apple~CloudDocs/OE/platedetector/logs/log_interpolated.csv', 'w', newline='') as file:\n",
    "    writer = csv.DictWriter(file, fieldnames=header)\n",
    "    writer.writeheader()\n",
    "    writer.writerows(interpolated_data)"
   ]
  },
  {
   "cell_type": "code",
   "execution_count": 8,
   "metadata": {},
   "outputs": [
    {
     "name": "stderr",
     "output_type": "stream",
     "text": [
      "[ WARN:0@2573.813] global /private/var/folders/nz/j6p8yfhx1mv_0grj5xl4650h0000gp/T/abs_562_cazh1h/croots/recipe/opencv-suite_1664548333142/work/modules/videoio/src/cap_gstreamer.cpp (2386) handleMessage OpenCV | GStreamer warning: your GStreamer installation is missing a required plugin\n",
      "[ WARN:0@2573.813] global /private/var/folders/nz/j6p8yfhx1mv_0grj5xl4650h0000gp/T/abs_562_cazh1h/croots/recipe/opencv-suite_1664548333142/work/modules/videoio/src/cap_gstreamer.cpp (2402) handleMessage OpenCV | GStreamer warning: Embedded video playback halted; module uridecodebin1 reported: Your GStreamer installation is missing a plug-in.\n",
      "[ WARN:0@2573.813] global /private/var/folders/nz/j6p8yfhx1mv_0grj5xl4650h0000gp/T/abs_562_cazh1h/croots/recipe/opencv-suite_1664548333142/work/modules/videoio/src/cap_gstreamer.cpp (1356) open OpenCV | GStreamer warning: unable to start pipeline\n",
      "[ WARN:0@2573.813] global /private/var/folders/nz/j6p8yfhx1mv_0grj5xl4650h0000gp/T/abs_562_cazh1h/croots/recipe/opencv-suite_1664548333142/work/modules/videoio/src/cap_gstreamer.cpp (862) isPipelinePlaying OpenCV | GStreamer warning: GStreamer: pipeline have not been created\n",
      "\n",
      "(<unknown>:8707): GStreamer-CRITICAL **: 23:31:03.306: gst_element_make_from_uri: assertion 'gst_uri_is_valid (uri)' failed\n",
      "\n",
      "(<unknown>:8707): GStreamer-CRITICAL **: 23:31:03.306: gst_element_make_from_uri: assertion 'gst_uri_is_valid (uri)' failed\n",
      "[ WARN:0@2573.987] global /private/var/folders/nz/j6p8yfhx1mv_0grj5xl4650h0000gp/T/abs_562_cazh1h/croots/recipe/opencv-suite_1664548333142/work/modules/videoio/src/cap_gstreamer.cpp (2180) open OpenCV | GStreamer warning: cannot link elements\n",
      "[ERROR:0@2573.988] global /private/var/folders/nz/j6p8yfhx1mv_0grj5xl4650h0000gp/T/abs_562_cazh1h/croots/recipe/opencv-suite_1664548333142/work/modules/videoio/src/cap.cpp (597) open VIDEOIO(CV_IMAGES): raised OpenCV exception:\n",
      "\n",
      "OpenCV(4.6.0) /private/var/folders/nz/j6p8yfhx1mv_0grj5xl4650h0000gp/T/abs_562_cazh1h/croots/recipe/opencv-suite_1664548333142/work/modules/videoio/src/cap_images.cpp:253: error: (-5:Bad argument) CAP_IMAGES: can't find starting number (in the name of file): /Users/banoczymartin/Library/Mobile Documents/com~apple~CloudDocs/OE/platedetector/video_data/out.avi in function 'icvExtractPattern'\n",
      "\n",
      "\n"
     ]
    }
   ],
   "source": [
    "draw_bounding_boxes(testvideo_path,\n",
    "                    '/Users/banoczymartin/Library/Mobile Documents/com~apple~CloudDocs/OE/platedetector/logs/log_interpolated.csv',\n",
    "                    '/Users/banoczymartin/Library/Mobile Documents/com~apple~CloudDocs/OE/platedetector/video_data/out.avi')\n"
   ]
  }
 ],
 "metadata": {
  "kernelspec": {
   "display_name": "lpd",
   "language": "python",
   "name": "python3"
  },
  "language_info": {
   "codemirror_mode": {
    "name": "ipython",
    "version": 3
   },
   "file_extension": ".py",
   "mimetype": "text/x-python",
   "name": "python",
   "nbconvert_exporter": "python",
   "pygments_lexer": "ipython3",
   "version": "3.8.18"
  },
  "orig_nbformat": 4
 },
 "nbformat": 4,
 "nbformat_minor": 2
}
