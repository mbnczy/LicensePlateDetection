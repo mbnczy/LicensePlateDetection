{
 "cells": [
  {
   "cell_type": "code",
   "execution_count": 1,
   "metadata": {},
   "outputs": [
    {
     "name": "stderr",
     "output_type": "stream",
     "text": [
      "2023-11-26 10:03:46.581 \n",
      "  \u001b[33m\u001b[1mWarning:\u001b[0m to view this Streamlit app on a browser, run it with the following\n",
      "  command:\n",
      "\n",
      "    streamlit run /Users/banoczymartin/anaconda3/envs/new_lpd/lib/python3.8/site-packages/ipykernel_launcher.py [ARGUMENTS]\n"
     ]
    }
   ],
   "source": [
    "import streamlit as st\n",
    "from PIL import Image\n",
    "import cv2\n",
    "import numpy as np\n",
    "\n",
    "# Function to perform prediction (replace this with your model)\n",
    "def perform_prediction(input_video_path, model_name):\n",
    "    # Your model prediction logic goes here\n",
    "    # For demonstration, let's just return the input video path\n",
    "    return input_video_path\n",
    "\n",
    "def main():\n",
    "    st.title(\"Video Prediction App\")\n",
    "\n",
    "    # Video upload section\n",
    "    st.header(\"Upload Video\")\n",
    "    uploaded_file = st.file_uploader(\"Choose a video file\", type=[\"mp4\", \"avi\", \"mov\"])\n",
    "\n",
    "    # Model selection section\n",
    "    st.header(\"Choose Model\")\n",
    "    model_name = st.selectbox(\"Select a model\", [\"Model A\", \"Model B\", \"Model C\"])\n",
    "\n",
    "    # Display uploaded video\n",
    "    if uploaded_file is not None:\n",
    "        st.video(uploaded_file)\n",
    "\n",
    "    # Prediction button\n",
    "    if st.button(\"Predict\"):\n",
    "        if uploaded_file is not None:\n",
    "            # Perform prediction\n",
    "            output_video_path = perform_prediction(uploaded_file, model_name)\n",
    "\n",
    "            # Display output video\n",
    "            st.video(output_video_path)\n",
    "            st.success(\"Prediction completed successfully!\")\n",
    "\n",
    "if __name__ == \"__main__\":\n",
    "    main()\n"
   ]
  }
 ],
 "metadata": {
  "kernelspec": {
   "display_name": "new_lpd",
   "language": "python",
   "name": "python3"
  },
  "language_info": {
   "codemirror_mode": {
    "name": "ipython",
    "version": 3
   },
   "file_extension": ".py",
   "mimetype": "text/x-python",
   "name": "python",
   "nbconvert_exporter": "python",
   "pygments_lexer": "ipython3",
   "version": "3.8.18"
  },
  "orig_nbformat": 4
 },
 "nbformat": 4,
 "nbformat_minor": 2
}
