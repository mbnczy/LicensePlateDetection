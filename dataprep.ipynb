{
 "cells": [
  {
   "cell_type": "code",
   "execution_count": 32,
   "metadata": {},
   "outputs": [],
   "source": [
    "import numpy as np\n",
    "import pandas as pd\n",
    "\n",
    "import os\n",
    "\n",
    "import matplotlib.pyplot as plt"
   ]
  },
  {
   "cell_type": "code",
   "execution_count": 33,
   "metadata": {},
   "outputs": [
    {
     "name": "stdout",
     "output_type": "stream",
     "text": [
      "images: 433\n",
      "annotations: 433\n"
     ]
    }
   ],
   "source": [
    "images_folder = os.path.join(\"dataset_kaggle\",\"images\")\n",
    "annotations_folder = os.path.join(\"dataset_kaggle\",\"annotations\")\n",
    "\n",
    "images_count = len(os.listdir(images_folder))\n",
    "annotations_count = len(os.listdir(images_folder))\n",
    "\n",
    "print(f\"images: {images_count}\")\n",
    "print(f\"annotations: {annotations_count}\")\n",
    "\n",
    "images_paths = []\n",
    "annotations_paths = []\n",
    "\n",
    "for i in range(images_count):\n",
    "    images_paths.append(os.path.join(images_folder,f\"Cars{i}.png\"))\n",
    "    annotations_paths.append(os.path.join(annotations_folder,f\"Cars{i}.xml\"))"
   ]
  },
  {
   "cell_type": "code",
   "execution_count": null,
   "metadata": {},
   "outputs": [],
   "source": []
  }
 ],
 "metadata": {
  "kernelspec": {
   "display_name": "lpd",
   "language": "python",
   "name": "python3"
  },
  "language_info": {
   "codemirror_mode": {
    "name": "ipython",
    "version": 3
   },
   "file_extension": ".py",
   "mimetype": "text/x-python",
   "name": "python",
   "nbconvert_exporter": "python",
   "pygments_lexer": "ipython3",
   "version": "3.10.13"
  },
  "orig_nbformat": 4
 },
 "nbformat": 4,
 "nbformat_minor": 2
}
