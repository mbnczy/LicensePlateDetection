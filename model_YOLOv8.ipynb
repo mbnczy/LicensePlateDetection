{
 "cells": [
  {
   "attachments": {},
   "cell_type": "markdown",
   "metadata": {},
   "source": [
    "from ultralytics import YOLO\n",
    "\n",
    "# Load a model\n",
    "model = YOLO('yolov8n.pt')  # load an official model\n",
    "model = YOLO('path/to/best.pt')  # load a custom trained model\n",
    "\n",
    "# Export the model\n",
    "model.export(format='onnx')"
   ]
  },
  {
   "cell_type": "code",
   "execution_count": 1,
   "metadata": {},
   "outputs": [],
   "source": [
    "from ultralytics import YOLO"
   ]
  },
  {
   "cell_type": "code",
   "execution_count": null,
   "metadata": {},
   "outputs": [],
   "source": [
    "import torch\n",
    "\n",
    "torch.cuda.is_available()\n",
    "\n",
    "if torch.backends.mps.is_available():\n",
    "    mps_device = torch.device(\"mps\")\n",
    "    x = torch.ones(1, device=mps_device)\n",
    "    print (x)\n",
    "else:\n",
    "    print (\"MPS device not found.\")"
   ]
  },
  {
   "cell_type": "code",
   "execution_count": null,
   "metadata": {},
   "outputs": [],
   "source": [
    "!git clone https://github.com/ultralytics/yolov5"
   ]
  },
  {
   "cell_type": "code",
   "execution_count": 8,
   "metadata": {},
   "outputs": [],
   "source": [
    "model90e = YOLO(\"models/YOLOv8/yolov8n_90e_cust/runs/detect/train4/weights/best.pt\")\n",
    "model60e = YOLO(\"models/YOLOv8/yolov8n_60e_cust/runs/detect/train3/weights/best.pt\")"
   ]
  },
  {
   "cell_type": "code",
   "execution_count": 27,
   "metadata": {},
   "outputs": [
    {
     "name": "stderr",
     "output_type": "stream",
     "text": [
      "\n",
      "image 1/1 /Users/banoczymartin/Library/Mobile Documents/com~apple~CloudDocs/OE/platedetector/dataset/images/val/Cars49.png: 416x640 1 car, 1 traffic light, 118.4ms\n",
      "Speed: 22.7ms preprocess, 118.4ms inference, 16.8ms postprocess per image at shape (1, 3, 416, 640)\n"
     ]
    }
   ],
   "source": [
    "results=model90e(\"/Users/banoczymartin/Library/Mobile Documents/com~apple~CloudDocs/OE/platedetector/dataset/images/val/Cars49.png\")"
   ]
  },
  {
   "cell_type": "code",
   "execution_count": 29,
   "metadata": {},
   "outputs": [
    {
     "data": {
      "text/plain": [
       "ultralytics.engine.results.Boxes object with attributes:\n",
       "\n",
       "cls: tensor([2., 9.])\n",
       "conf: tensor([0.8787, 0.7243])\n",
       "data: tensor([[  8.9567,  33.9068, 378.3913, 243.0006,   0.8787,   2.0000],\n",
       "        [ 33.3389,   2.3220,  48.6617,  30.0454,   0.7243,   9.0000]])\n",
       "id: None\n",
       "is_track: False\n",
       "orig_shape: (253, 400)\n",
       "shape: torch.Size([2, 6])\n",
       "xywh: tensor([[193.6740, 138.4537, 369.4346, 209.0938],\n",
       "        [ 41.0003,  16.1837,  15.3228,  27.7234]])\n",
       "xywhn: tensor([[0.4842, 0.5472, 0.9236, 0.8265],\n",
       "        [0.1025, 0.0640, 0.0383, 0.1096]])\n",
       "xyxy: tensor([[  8.9567,  33.9068, 378.3913, 243.0006],\n",
       "        [ 33.3389,   2.3220,  48.6617,  30.0454]])\n",
       "xyxyn: tensor([[0.0224, 0.1340, 0.9460, 0.9605],\n",
       "        [0.0833, 0.0092, 0.1217, 0.1188]])"
      ]
     },
     "execution_count": 29,
     "metadata": {},
     "output_type": "execute_result"
    }
   ],
   "source": [
    "results[0].boxes"
   ]
  },
  {
   "cell_type": "code",
   "execution_count": 6,
   "metadata": {},
   "outputs": [
    {
     "name": "stderr",
     "output_type": "stream",
     "text": [
      "\n",
      "image 1/1 /Users/banoczymartin/Library/Mobile Documents/com~apple~CloudDocs/OE/platedetector/dataset_kaggle/images/Cars337.png: 480x640 (no detections), 90.7ms\n",
      "Speed: 3.6ms preprocess, 90.7ms inference, 0.4ms postprocess per image at shape (1, 3, 480, 640)\n",
      "Results saved to \u001b[1mruns/detect/predict\u001b[0m\n"
     ]
    },
    {
     "data": {
      "text/plain": [
       "[ultralytics.engine.results.Results object with attributes:\n",
       " \n",
       " boxes: ultralytics.engine.results.Boxes object\n",
       " keypoints: None\n",
       " masks: None\n",
       " names: {0: 'license'}\n",
       " orig_img: array([[[ 15,  18,  16],\n",
       "         [ 18,  21,  20],\n",
       "         [ 15,  18,  15],\n",
       "         ...,\n",
       "         [ 17,  37,  29],\n",
       "         [ 10,  32,  22],\n",
       "         [ 16,  39,  28]],\n",
       " \n",
       "        [[ 18,  21,  19],\n",
       "         [ 21,  25,  23],\n",
       "         [ 15,  20,  17],\n",
       "         ...,\n",
       "         [ 19,  40,  32],\n",
       "         [ 18,  41,  29],\n",
       "         [ 18,  42,  29]],\n",
       " \n",
       "        [[ 17,  22,  19],\n",
       "         [ 15,  21,  19],\n",
       "         [ 13,  20,  17],\n",
       "         ...,\n",
       "         [ 12,  33,  27],\n",
       "         [ 13,  36,  26],\n",
       "         [ 13,  37,  27]],\n",
       " \n",
       "        ...,\n",
       " \n",
       "        [[124, 139, 154],\n",
       "         [132, 147, 161],\n",
       "         [139, 155, 168],\n",
       "         ...,\n",
       "         [ 34,  69,  72],\n",
       "         [ 36,  68,  66],\n",
       "         [ 28,  58,  53]],\n",
       " \n",
       "        [[126, 141, 160],\n",
       "         [135, 151, 165],\n",
       "         [136, 151, 164],\n",
       "         ...,\n",
       "         [ 20,  45,  47],\n",
       "         [ 21,  46,  48],\n",
       "         [ 30,  59,  59]],\n",
       " \n",
       "        [[131, 150, 167],\n",
       "         [144, 162, 175],\n",
       "         [143, 158, 169],\n",
       "         ...,\n",
       "         [ 26,  47,  51],\n",
       "         [ 15,  35,  37],\n",
       "         [ 27,  53,  52]]], dtype=uint8)\n",
       " orig_shape: (300, 400)\n",
       " path: '/Users/banoczymartin/Library/Mobile Documents/com~apple~CloudDocs/OE/platedetector/dataset_kaggle/images/Cars337.png'\n",
       " probs: None\n",
       " save_dir: 'runs/detect/predict'\n",
       " speed: {'preprocess': 3.5860538482666016, 'inference': 90.73090553283691, 'postprocess': 0.4169940948486328}]"
      ]
     },
     "execution_count": 6,
     "metadata": {},
     "output_type": "execute_result"
    }
   ],
   "source": [
    "model90e.predict(\"dataset_kaggle/images/Cars337.png\", save=True)"
   ]
  },
  {
   "cell_type": "code",
   "execution_count": 9,
   "metadata": {},
   "outputs": [
    {
     "name": "stderr",
     "output_type": "stream",
     "text": [
      "\n",
      "image 1/1 /Users/banoczymartin/Library/Mobile Documents/com~apple~CloudDocs/OE/platedetector/dataset_kaggle/images/Cars337.png: 480x640 (no detections), 95.5ms\n",
      "Speed: 2.5ms preprocess, 95.5ms inference, 0.5ms postprocess per image at shape (1, 3, 480, 640)\n",
      "Results saved to \u001b[1mruns/detect/predict2\u001b[0m\n"
     ]
    },
    {
     "data": {
      "text/plain": [
       "[ultralytics.engine.results.Results object with attributes:\n",
       " \n",
       " boxes: ultralytics.engine.results.Boxes object\n",
       " keypoints: None\n",
       " masks: None\n",
       " names: {0: 'license'}\n",
       " orig_img: array([[[ 15,  18,  16],\n",
       "         [ 18,  21,  20],\n",
       "         [ 15,  18,  15],\n",
       "         ...,\n",
       "         [ 17,  37,  29],\n",
       "         [ 10,  32,  22],\n",
       "         [ 16,  39,  28]],\n",
       " \n",
       "        [[ 18,  21,  19],\n",
       "         [ 21,  25,  23],\n",
       "         [ 15,  20,  17],\n",
       "         ...,\n",
       "         [ 19,  40,  32],\n",
       "         [ 18,  41,  29],\n",
       "         [ 18,  42,  29]],\n",
       " \n",
       "        [[ 17,  22,  19],\n",
       "         [ 15,  21,  19],\n",
       "         [ 13,  20,  17],\n",
       "         ...,\n",
       "         [ 12,  33,  27],\n",
       "         [ 13,  36,  26],\n",
       "         [ 13,  37,  27]],\n",
       " \n",
       "        ...,\n",
       " \n",
       "        [[124, 139, 154],\n",
       "         [132, 147, 161],\n",
       "         [139, 155, 168],\n",
       "         ...,\n",
       "         [ 34,  69,  72],\n",
       "         [ 36,  68,  66],\n",
       "         [ 28,  58,  53]],\n",
       " \n",
       "        [[126, 141, 160],\n",
       "         [135, 151, 165],\n",
       "         [136, 151, 164],\n",
       "         ...,\n",
       "         [ 20,  45,  47],\n",
       "         [ 21,  46,  48],\n",
       "         [ 30,  59,  59]],\n",
       " \n",
       "        [[131, 150, 167],\n",
       "         [144, 162, 175],\n",
       "         [143, 158, 169],\n",
       "         ...,\n",
       "         [ 26,  47,  51],\n",
       "         [ 15,  35,  37],\n",
       "         [ 27,  53,  52]]], dtype=uint8)\n",
       " orig_shape: (300, 400)\n",
       " path: '/Users/banoczymartin/Library/Mobile Documents/com~apple~CloudDocs/OE/platedetector/dataset_kaggle/images/Cars337.png'\n",
       " probs: None\n",
       " save_dir: 'runs/detect/predict2'\n",
       " speed: {'preprocess': 2.4709701538085938, 'inference': 95.49689292907715, 'postprocess': 0.5359649658203125}]"
      ]
     },
     "execution_count": 9,
     "metadata": {},
     "output_type": "execute_result"
    }
   ],
   "source": [
    "model60e.predict(\"dataset_kaggle/images/Cars337.png\", save=True)"
   ]
  }
 ],
 "metadata": {
  "kernelspec": {
   "display_name": "lpd",
   "language": "python",
   "name": "python3"
  },
  "language_info": {
   "codemirror_mode": {
    "name": "ipython",
    "version": 3
   },
   "file_extension": ".py",
   "mimetype": "text/x-python",
   "name": "python",
   "nbconvert_exporter": "python",
   "pygments_lexer": "ipython3",
   "version": "3.10.13"
  },
  "orig_nbformat": 4
 },
 "nbformat": 4,
 "nbformat_minor": 2
}
